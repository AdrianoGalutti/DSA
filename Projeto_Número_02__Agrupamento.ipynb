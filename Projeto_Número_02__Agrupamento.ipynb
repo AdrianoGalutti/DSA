{
  "cells": [
    {
      "cell_type": "markdown",
      "metadata": {
        "id": "view-in-github",
        "colab_type": "text"
      },
      "source": [
        "<a href=\"https://colab.research.google.com/github/AdrianoGalutti/DSA/blob/main/Projeto_N%C3%BAmero_02__Agrupamento.ipynb\" target=\"_parent\"><img src=\"https://colab.research.google.com/assets/colab-badge.svg\" alt=\"Open In Colab\"/></a>"
      ]
    },
    {
      "cell_type": "markdown",
      "metadata": {
        "id": "pSIKSrEb6ghJ"
      },
      "source": [
        "![alt text](https://encrypted-tbn0.gstatic.com/images?q=tbn%3AANd9GcTK4gQ9nhwHHaSXMHpeggWg7twwMCgb877smkRmtkmDeDoGF9Z6&usqp=CAU)"
      ]
    },
    {
      "cell_type": "markdown",
      "metadata": {
        "id": "_F_kVODn6ghQ"
      },
      "source": [
        "## <font color='blue'> Análise de Cluster - Não Hierárquico - Metodologia K-means</font>"
      ]
    },
    {
      "cell_type": "markdown",
      "metadata": {
        "id": "hDr61wZy6ghS"
      },
      "source": [
        "O objetivo da análise de cluster é agrupar as observações em grupos de tal forma que dentro de cada grupo as observações são semelhantes e distintas entre os grupos.\n",
        "\n",
        "Dentro de cada grupo a variabilidade deve ser mínima e a variabilidade entre os grupos deve ser máxima.\n",
        "\n",
        "A metodologia k-means segue 3 passos:\n",
        "\n",
        "- 1. Seleciona (ou específica) os centróides iniciais (sementes).\n",
        "\n",
        "\n",
        "- 2. Lê as observações e atualiza os centróides, esse processo é repetido até a convergência.\n",
        "\n",
        "\n",
        "- 3. Uma leitura final dos dados assinala cada observação ao centróide mais próximo."
      ]
    },
    {
      "cell_type": "markdown",
      "metadata": {
        "id": "-lSrgaZ86ghV"
      },
      "source": [
        "## <font color='blue'>Definição Problema de Negócio"
      ]
    },
    {
      "cell_type": "markdown",
      "metadata": {
        "id": "8tw-fW996ghV"
      },
      "source": [
        "A House_Honda é uma plataforma digital que tem como modelo de negócio, a compra e a venda de imóveis usando tecnologia.\n",
        "\n",
        "Você é um Data Scientist contrato pela empresa para ajudar a encontrar as melhores oportunidades de negócio no mercado de imóveis. O CEO da House_Honda gostaria de maximizar a receita da empresa encontrando boas oportunidades de negócio.\n",
        "\n",
        "Entretanto, as casas possuem muitos atributos que as tornam mais ou menos atrativas aos compradores e vendedores e a localização e o período do ano também podem influenciar os preços.\n",
        "\n",
        "Portanto, seu trabalho como Data Scientist é:\n",
        "\n",
        "**Separar em grupos os imóveis com preço alto em relação aos imóveis com preço baixo para atender as pessoas que estão iniciando a vida profissional e vem de outras cidades para trabalhar e desejam comprar um imóvel.** "
      ]
    },
    {
      "cell_type": "markdown",
      "metadata": {
        "id": "a8IokC9p6ghX"
      },
      "source": [
        "## <font color='blue'>Aquisição dos dados"
      ]
    },
    {
      "cell_type": "markdown",
      "metadata": {
        "id": "xkuLlWN56ghY"
      },
      "source": [
        "\n",
        "O conjunto de dados que representam o contexto está disponível na plataforma do Kaggle.\n",
        "\n",
        "Esse é o link: https://www.kaggle.com/harlfoxem/housesalesprediction\n",
        "\n",
        "Esse conjunto de dados contém casas vendidas entre Maio de 2014 e Maio de 2015. "
      ]
    },
    {
      "cell_type": "markdown",
      "metadata": {
        "id": "ZfoFyQk_6ghZ"
      },
      "source": [
        "## <font color='blue'>Premissas de Negócios"
      ]
    },
    {
      "cell_type": "markdown",
      "metadata": {
        "id": "euwfdmvE6gha"
      },
      "source": [
        "- Não há insights da área de negócio de quais variaveis selecionar para o agrupamento;\n",
        "\n",
        "\n",
        "- Boa prática é utilizar no máximo nove variáveis para agrupamento;\n",
        "\n",
        "\n",
        "- Para selecionar as variáveis mais importantes utilizaremos um método de classificação; \n",
        "\n",
        "\n",
        "- As três primeiras variáveis mais importantes serão utilizadas para o agrupamento;\n",
        "\n",
        "\n",
        "- Número máximo do agrupamento deve ser de 5 grupos; \n"
      ]
    },
    {
      "cell_type": "markdown",
      "metadata": {
        "id": "1KB2SlNA6ghb"
      },
      "source": [
        "## <font color='blue'>Lista de atributos"
      ]
    },
    {
      "cell_type": "markdown",
      "metadata": {
        "id": "Rhmgpknr6ghc"
      },
      "source": [
        "- **id** - ID exclusivo para cada casa vendida\n",
        "\n",
        "- **date** - Data da venda da casa\n",
        "\n",
        "- **price** - Preço de cada casa vendida\n",
        "\n",
        "- **bedrooms** - Número de quartos\n",
        "\n",
        "- **bathrooms** - Número de banheiros, onde 0,5 representa um quarto com vaso sanitário, mas sem chuveiro\n",
        "\n",
        "- **sqft_living** - Metragem quadrada do espaço interior do apartamento\n",
        "\n",
        "- **sqft_lot** - Metragem quadrada do espaço terrestre\n",
        "\n",
        "- **floors** - Número de andares\n",
        "\n",
        "- **waterfront** - Uma variável fictícia para saber se o apartamento estava com vista para a orla ou não\n",
        "\n",
        "- **view** - Um índice de 0 a 4 de quão boa era a vista do imóvel\n",
        "\n",
        "- **condition** - Um índice de 1 a 5 sobre a condição do apartamento,\n",
        "\n",
        "- **grade** - Um índice de 1 a 13, onde 1-3 fica aquém da construção e design de edifícios, 7 tem um nível médio de construção e design e 11-13 tem um nível de construção e design de alta qualidade.\n",
        "\n",
        "- **sqft_above** - A metragem quadrada do espaço interno da habitação que está acima do nível do solo\n",
        "\n",
        "- **sqft_basement** - A metragem quadrada do espaço interno da habitação que está abaixo do nível do solo\n",
        "\n",
        "- **yr_built** - O ano em que a casa foi construída inicialmente\n",
        "\n",
        "- **yr_renovated** - O ano da última reforma da casa\n",
        "\n",
        "- **zipcod** - Em que área de código postal a casa está\n",
        "\n",
        "- **lat** - Latitude\n",
        "\n",
        "- **long** - Longitude\n",
        "\n",
        "- **sqft_living15** - A metragem quadrada do espaço habitacional interior para os 15 vizinhos mais próximos\n",
        "\n",
        "- **sqft_lot15** - A metragem quadrada dos lotes dos 15 vizinhos mais próximos"
      ]
    },
    {
      "cell_type": "markdown",
      "metadata": {
        "id": "zUMgrKNl6ghe"
      },
      "source": [
        "## <font color='blue'>Estratégia de solução"
      ]
    },
    {
      "cell_type": "markdown",
      "metadata": {
        "id": "fC7tF6pF6ghf"
      },
      "source": [
        "O método utilizado para o projeto foi o CRISP-DM, aplicado conforme os passos abaixo:\n",
        "\n",
        "**Passo 01** . Descrição dos dados: O objetivo é utilizar métricas estatísticas para identificar outliers no escopo do negócio e também analisar métricas estatísticas básicas como: média, mediana, máximo, mínimo, intervalo, skew, curtose e desvio padrão.\n",
        "\n",
        "**Passo 02** . Engenharia de Características : O objetivo desta etapa é obter novos atributos baseados nas variáveis ​​originais, a fim de melhor descrever o fenômeno a ser modelado.\n",
        "\n",
        "**Passo 03** . Análise de Cluster : O objetivo desta etapa é definir o número de agrupamentos que fazem parte do escopo de negócios.\n",
        "\n",
        "**Passo 04** . Caracterização dos grupos : O objetivo desta etapa é explorar os dados para encontrar insights e entender melhor os agrupamentos.\n",
        "\n",
        "**Passo 05** . Aplicação de negócio : O objetivo desta etapa é apresentar de uma forma simples os resultados do agrupamento.\n",
        "\n"
      ]
    },
    {
      "cell_type": "markdown",
      "metadata": {
        "id": "2i-BOH4f6ghi"
      },
      "source": [
        "## 0.0. Importando as bibliotecas"
      ]
    },
    {
      "cell_type": "code",
      "execution_count": 1,
      "metadata": {
        "id": "VYKzTJV16ghj"
      },
      "outputs": [],
      "source": [
        "import numpy   as np\n",
        "import pandas  as pd\n",
        "import seaborn as sns\n",
        "\n",
        "\n",
        "from matplotlib              import pyplot    as plt\n",
        "from sklearn.tree            import DecisionTreeRegressor\n",
        "from sklearn.metrics         import mean_absolute_error\n",
        "from sklearn.model_selection import train_test_split\n",
        "from sklearn.preprocessing   import StandardScaler\n",
        "from sklearn.model_selection import GridSearchCV\n",
        "from sklearn.cluster         import KMeans\n",
        "from IPython.display         import Image\n",
        "from IPython.core.display    import HTML\n",
        "\n",
        "\n",
        "import warnings\n",
        "warnings.filterwarnings('ignore')"
      ]
    },
    {
      "cell_type": "markdown",
      "metadata": {
        "id": "EO7wlygs6gho"
      },
      "source": [
        "## 0.1. Carregando os dados"
      ]
    },
    {
      "cell_type": "code",
      "execution_count": 2,
      "metadata": {
        "id": "XojA1NiW6ghp"
      },
      "outputs": [],
      "source": [
        "# Carregar a base de dados\n",
        "df = pd.read_csv(r'/content/kc_house_data.csv', sep = ',')\n",
        "\n",
        "# Garantir que o formato date é um datetime \n",
        "df['date'] = pd.to_datetime( df['date'], format='%Y-%m-%d' )"
      ]
    },
    {
      "cell_type": "markdown",
      "metadata": {
        "id": "YX_ZmoQS6ghq"
      },
      "source": [
        "# 1.0 Passo 01 - Descrição dos Dados"
      ]
    },
    {
      "cell_type": "markdown",
      "metadata": {
        "id": "mgQU059O6ghr"
      },
      "source": [
        "## 1.01. Criar cópia"
      ]
    },
    {
      "cell_type": "code",
      "execution_count": 3,
      "metadata": {
        "id": "iHpNrW1e6ghs"
      },
      "outputs": [],
      "source": [
        "#criar cópia\n",
        "df1 = df.copy()"
      ]
    },
    {
      "cell_type": "markdown",
      "metadata": {
        "id": "ZsTY0sAS6ght"
      },
      "source": [
        "## 1.02. Verificar os primeiros registros"
      ]
    },
    {
      "cell_type": "code",
      "execution_count": 4,
      "metadata": {
        "colab": {
          "base_uri": "https://localhost:8080/",
          "height": 386
        },
        "id": "HK8UIyna6ghu",
        "outputId": "2c8cd951-1a5e-4a97-d045-772900d26714"
      },
      "outputs": [
        {
          "output_type": "execute_result",
          "data": {
            "text/plain": [
              "           id       date     price  bedrooms  bathrooms  sqft_living  \\\n",
              "0  7129300520 2014-10-13  221900.0         3       1.00         1180   \n",
              "1  6414100192 2014-12-09  538000.0         3       2.25         2570   \n",
              "2  5631500400 2015-02-25  180000.0         2       1.00          770   \n",
              "3  2487200875 2014-12-09  604000.0         4       3.00         1960   \n",
              "4  1954400510 2015-02-18  510000.0         3       2.00         1680   \n",
              "\n",
              "   sqft_lot  floors  waterfront  view  ...  grade  sqft_above  sqft_basement  \\\n",
              "0      5650     1.0           0     0  ...      7        1180              0   \n",
              "1      7242     2.0           0     0  ...      7        2170            400   \n",
              "2     10000     1.0           0     0  ...      6         770              0   \n",
              "3      5000     1.0           0     0  ...      7        1050            910   \n",
              "4      8080     1.0           0     0  ...      8        1680              0   \n",
              "\n",
              "   yr_built  yr_renovated  zipcode      lat     long  sqft_living15  \\\n",
              "0      1955             0    98178  47.5112 -122.257           1340   \n",
              "1      1951          1991    98125  47.7210 -122.319           1690   \n",
              "2      1933             0    98028  47.7379 -122.233           2720   \n",
              "3      1965             0    98136  47.5208 -122.393           1360   \n",
              "4      1987             0    98074  47.6168 -122.045           1800   \n",
              "\n",
              "   sqft_lot15  \n",
              "0        5650  \n",
              "1        7639  \n",
              "2        8062  \n",
              "3        5000  \n",
              "4        7503  \n",
              "\n",
              "[5 rows x 21 columns]"
            ],
            "text/html": [
              "\n",
              "  <div id=\"df-ddbbdaf4-3b4a-402e-998d-3ca41113d498\">\n",
              "    <div class=\"colab-df-container\">\n",
              "      <div>\n",
              "<style scoped>\n",
              "    .dataframe tbody tr th:only-of-type {\n",
              "        vertical-align: middle;\n",
              "    }\n",
              "\n",
              "    .dataframe tbody tr th {\n",
              "        vertical-align: top;\n",
              "    }\n",
              "\n",
              "    .dataframe thead th {\n",
              "        text-align: right;\n",
              "    }\n",
              "</style>\n",
              "<table border=\"1\" class=\"dataframe\">\n",
              "  <thead>\n",
              "    <tr style=\"text-align: right;\">\n",
              "      <th></th>\n",
              "      <th>id</th>\n",
              "      <th>date</th>\n",
              "      <th>price</th>\n",
              "      <th>bedrooms</th>\n",
              "      <th>bathrooms</th>\n",
              "      <th>sqft_living</th>\n",
              "      <th>sqft_lot</th>\n",
              "      <th>floors</th>\n",
              "      <th>waterfront</th>\n",
              "      <th>view</th>\n",
              "      <th>...</th>\n",
              "      <th>grade</th>\n",
              "      <th>sqft_above</th>\n",
              "      <th>sqft_basement</th>\n",
              "      <th>yr_built</th>\n",
              "      <th>yr_renovated</th>\n",
              "      <th>zipcode</th>\n",
              "      <th>lat</th>\n",
              "      <th>long</th>\n",
              "      <th>sqft_living15</th>\n",
              "      <th>sqft_lot15</th>\n",
              "    </tr>\n",
              "  </thead>\n",
              "  <tbody>\n",
              "    <tr>\n",
              "      <th>0</th>\n",
              "      <td>7129300520</td>\n",
              "      <td>2014-10-13</td>\n",
              "      <td>221900.0</td>\n",
              "      <td>3</td>\n",
              "      <td>1.00</td>\n",
              "      <td>1180</td>\n",
              "      <td>5650</td>\n",
              "      <td>1.0</td>\n",
              "      <td>0</td>\n",
              "      <td>0</td>\n",
              "      <td>...</td>\n",
              "      <td>7</td>\n",
              "      <td>1180</td>\n",
              "      <td>0</td>\n",
              "      <td>1955</td>\n",
              "      <td>0</td>\n",
              "      <td>98178</td>\n",
              "      <td>47.5112</td>\n",
              "      <td>-122.257</td>\n",
              "      <td>1340</td>\n",
              "      <td>5650</td>\n",
              "    </tr>\n",
              "    <tr>\n",
              "      <th>1</th>\n",
              "      <td>6414100192</td>\n",
              "      <td>2014-12-09</td>\n",
              "      <td>538000.0</td>\n",
              "      <td>3</td>\n",
              "      <td>2.25</td>\n",
              "      <td>2570</td>\n",
              "      <td>7242</td>\n",
              "      <td>2.0</td>\n",
              "      <td>0</td>\n",
              "      <td>0</td>\n",
              "      <td>...</td>\n",
              "      <td>7</td>\n",
              "      <td>2170</td>\n",
              "      <td>400</td>\n",
              "      <td>1951</td>\n",
              "      <td>1991</td>\n",
              "      <td>98125</td>\n",
              "      <td>47.7210</td>\n",
              "      <td>-122.319</td>\n",
              "      <td>1690</td>\n",
              "      <td>7639</td>\n",
              "    </tr>\n",
              "    <tr>\n",
              "      <th>2</th>\n",
              "      <td>5631500400</td>\n",
              "      <td>2015-02-25</td>\n",
              "      <td>180000.0</td>\n",
              "      <td>2</td>\n",
              "      <td>1.00</td>\n",
              "      <td>770</td>\n",
              "      <td>10000</td>\n",
              "      <td>1.0</td>\n",
              "      <td>0</td>\n",
              "      <td>0</td>\n",
              "      <td>...</td>\n",
              "      <td>6</td>\n",
              "      <td>770</td>\n",
              "      <td>0</td>\n",
              "      <td>1933</td>\n",
              "      <td>0</td>\n",
              "      <td>98028</td>\n",
              "      <td>47.7379</td>\n",
              "      <td>-122.233</td>\n",
              "      <td>2720</td>\n",
              "      <td>8062</td>\n",
              "    </tr>\n",
              "    <tr>\n",
              "      <th>3</th>\n",
              "      <td>2487200875</td>\n",
              "      <td>2014-12-09</td>\n",
              "      <td>604000.0</td>\n",
              "      <td>4</td>\n",
              "      <td>3.00</td>\n",
              "      <td>1960</td>\n",
              "      <td>5000</td>\n",
              "      <td>1.0</td>\n",
              "      <td>0</td>\n",
              "      <td>0</td>\n",
              "      <td>...</td>\n",
              "      <td>7</td>\n",
              "      <td>1050</td>\n",
              "      <td>910</td>\n",
              "      <td>1965</td>\n",
              "      <td>0</td>\n",
              "      <td>98136</td>\n",
              "      <td>47.5208</td>\n",
              "      <td>-122.393</td>\n",
              "      <td>1360</td>\n",
              "      <td>5000</td>\n",
              "    </tr>\n",
              "    <tr>\n",
              "      <th>4</th>\n",
              "      <td>1954400510</td>\n",
              "      <td>2015-02-18</td>\n",
              "      <td>510000.0</td>\n",
              "      <td>3</td>\n",
              "      <td>2.00</td>\n",
              "      <td>1680</td>\n",
              "      <td>8080</td>\n",
              "      <td>1.0</td>\n",
              "      <td>0</td>\n",
              "      <td>0</td>\n",
              "      <td>...</td>\n",
              "      <td>8</td>\n",
              "      <td>1680</td>\n",
              "      <td>0</td>\n",
              "      <td>1987</td>\n",
              "      <td>0</td>\n",
              "      <td>98074</td>\n",
              "      <td>47.6168</td>\n",
              "      <td>-122.045</td>\n",
              "      <td>1800</td>\n",
              "      <td>7503</td>\n",
              "    </tr>\n",
              "  </tbody>\n",
              "</table>\n",
              "<p>5 rows × 21 columns</p>\n",
              "</div>\n",
              "      <button class=\"colab-df-convert\" onclick=\"convertToInteractive('df-ddbbdaf4-3b4a-402e-998d-3ca41113d498')\"\n",
              "              title=\"Convert this dataframe to an interactive table.\"\n",
              "              style=\"display:none;\">\n",
              "        \n",
              "  <svg xmlns=\"http://www.w3.org/2000/svg\" height=\"24px\"viewBox=\"0 0 24 24\"\n",
              "       width=\"24px\">\n",
              "    <path d=\"M0 0h24v24H0V0z\" fill=\"none\"/>\n",
              "    <path d=\"M18.56 5.44l.94 2.06.94-2.06 2.06-.94-2.06-.94-.94-2.06-.94 2.06-2.06.94zm-11 1L8.5 8.5l.94-2.06 2.06-.94-2.06-.94L8.5 2.5l-.94 2.06-2.06.94zm10 10l.94 2.06.94-2.06 2.06-.94-2.06-.94-.94-2.06-.94 2.06-2.06.94z\"/><path d=\"M17.41 7.96l-1.37-1.37c-.4-.4-.92-.59-1.43-.59-.52 0-1.04.2-1.43.59L10.3 9.45l-7.72 7.72c-.78.78-.78 2.05 0 2.83L4 21.41c.39.39.9.59 1.41.59.51 0 1.02-.2 1.41-.59l7.78-7.78 2.81-2.81c.8-.78.8-2.07 0-2.86zM5.41 20L4 18.59l7.72-7.72 1.47 1.35L5.41 20z\"/>\n",
              "  </svg>\n",
              "      </button>\n",
              "      \n",
              "  <style>\n",
              "    .colab-df-container {\n",
              "      display:flex;\n",
              "      flex-wrap:wrap;\n",
              "      gap: 12px;\n",
              "    }\n",
              "\n",
              "    .colab-df-convert {\n",
              "      background-color: #E8F0FE;\n",
              "      border: none;\n",
              "      border-radius: 50%;\n",
              "      cursor: pointer;\n",
              "      display: none;\n",
              "      fill: #1967D2;\n",
              "      height: 32px;\n",
              "      padding: 0 0 0 0;\n",
              "      width: 32px;\n",
              "    }\n",
              "\n",
              "    .colab-df-convert:hover {\n",
              "      background-color: #E2EBFA;\n",
              "      box-shadow: 0px 1px 2px rgba(60, 64, 67, 0.3), 0px 1px 3px 1px rgba(60, 64, 67, 0.15);\n",
              "      fill: #174EA6;\n",
              "    }\n",
              "\n",
              "    [theme=dark] .colab-df-convert {\n",
              "      background-color: #3B4455;\n",
              "      fill: #D2E3FC;\n",
              "    }\n",
              "\n",
              "    [theme=dark] .colab-df-convert:hover {\n",
              "      background-color: #434B5C;\n",
              "      box-shadow: 0px 1px 3px 1px rgba(0, 0, 0, 0.15);\n",
              "      filter: drop-shadow(0px 1px 2px rgba(0, 0, 0, 0.3));\n",
              "      fill: #FFFFFF;\n",
              "    }\n",
              "  </style>\n",
              "\n",
              "      <script>\n",
              "        const buttonEl =\n",
              "          document.querySelector('#df-ddbbdaf4-3b4a-402e-998d-3ca41113d498 button.colab-df-convert');\n",
              "        buttonEl.style.display =\n",
              "          google.colab.kernel.accessAllowed ? 'block' : 'none';\n",
              "\n",
              "        async function convertToInteractive(key) {\n",
              "          const element = document.querySelector('#df-ddbbdaf4-3b4a-402e-998d-3ca41113d498');\n",
              "          const dataTable =\n",
              "            await google.colab.kernel.invokeFunction('convertToInteractive',\n",
              "                                                     [key], {});\n",
              "          if (!dataTable) return;\n",
              "\n",
              "          const docLinkHtml = 'Like what you see? Visit the ' +\n",
              "            '<a target=\"_blank\" href=https://colab.research.google.com/notebooks/data_table.ipynb>data table notebook</a>'\n",
              "            + ' to learn more about interactive tables.';\n",
              "          element.innerHTML = '';\n",
              "          dataTable['output_type'] = 'display_data';\n",
              "          await google.colab.output.renderOutput(dataTable, element);\n",
              "          const docLink = document.createElement('div');\n",
              "          docLink.innerHTML = docLinkHtml;\n",
              "          element.appendChild(docLink);\n",
              "        }\n",
              "      </script>\n",
              "    </div>\n",
              "  </div>\n",
              "  "
            ]
          },
          "metadata": {},
          "execution_count": 4
        }
      ],
      "source": [
        "#Verificar os primeiros registros \n",
        "df1.head()"
      ]
    },
    {
      "cell_type": "markdown",
      "metadata": {
        "id": "bplxSO1A6ghw"
      },
      "source": [
        "## 1.03. Redefinir o índice"
      ]
    },
    {
      "cell_type": "code",
      "execution_count": 5,
      "metadata": {
        "id": "hdyrP9_h6ghx"
      },
      "outputs": [],
      "source": [
        "# redefinir o índice\n",
        "df1 = df1.set_index(['id', 'date'])"
      ]
    },
    {
      "cell_type": "markdown",
      "metadata": {
        "id": "Y-e2uX6N6ghx"
      },
      "source": [
        "## 1.04. Verificar as dimensões dos dados"
      ]
    },
    {
      "cell_type": "code",
      "execution_count": 6,
      "metadata": {
        "scrolled": true,
        "colab": {
          "base_uri": "https://localhost:8080/"
        },
        "id": "tkdx7jxd6ghy",
        "outputId": "f45287ef-58ee-4ce2-d19e-019984d00c84"
      },
      "outputs": [
        {
          "output_type": "stream",
          "name": "stdout",
          "text": [
            "Numero de linhas: 21613\n",
            "Numero de colunas: 19\n"
          ]
        }
      ],
      "source": [
        "#verificar as dimensões do conjunto de dados\n",
        "print( 'Numero de linhas: {}'.format( df1.shape[0] ) )\n",
        "print( 'Numero de colunas: {}'.format( df1.shape[1] ) )"
      ]
    },
    {
      "cell_type": "markdown",
      "metadata": {
        "id": "FDAZttdj6ghz"
      },
      "source": [
        "## 1.05. Verificar os tipos das variáveis"
      ]
    },
    {
      "cell_type": "code",
      "execution_count": 7,
      "metadata": {
        "colab": {
          "base_uri": "https://localhost:8080/"
        },
        "id": "u4iTc-lG6ghz",
        "outputId": "957b3d04-ae5f-4ab2-f5d6-63a9f5e2daf8"
      },
      "outputs": [
        {
          "output_type": "stream",
          "name": "stdout",
          "text": [
            "<class 'pandas.core.frame.DataFrame'>\n",
            "MultiIndex: 21613 entries, (7129300520, Timestamp('2014-10-13 00:00:00')) to (1523300157, Timestamp('2014-10-15 00:00:00'))\n",
            "Data columns (total 19 columns):\n",
            " #   Column         Non-Null Count  Dtype  \n",
            "---  ------         --------------  -----  \n",
            " 0   price          21613 non-null  float64\n",
            " 1   bedrooms       21613 non-null  int64  \n",
            " 2   bathrooms      21613 non-null  float64\n",
            " 3   sqft_living    21613 non-null  int64  \n",
            " 4   sqft_lot       21613 non-null  int64  \n",
            " 5   floors         21613 non-null  float64\n",
            " 6   waterfront     21613 non-null  int64  \n",
            " 7   view           21613 non-null  int64  \n",
            " 8   condition      21613 non-null  int64  \n",
            " 9   grade          21613 non-null  int64  \n",
            " 10  sqft_above     21613 non-null  int64  \n",
            " 11  sqft_basement  21613 non-null  int64  \n",
            " 12  yr_built       21613 non-null  int64  \n",
            " 13  yr_renovated   21613 non-null  int64  \n",
            " 14  zipcode        21613 non-null  int64  \n",
            " 15  lat            21613 non-null  float64\n",
            " 16  long           21613 non-null  float64\n",
            " 17  sqft_living15  21613 non-null  int64  \n",
            " 18  sqft_lot15     21613 non-null  int64  \n",
            "dtypes: float64(5), int64(14)\n",
            "memory usage: 3.9 MB\n"
          ]
        }
      ],
      "source": [
        "#verificar os tipos das variáveis\n",
        "df1.info()"
      ]
    },
    {
      "cell_type": "markdown",
      "metadata": {
        "id": "7S3ET54D6gh0"
      },
      "source": [
        "## 1.06. Verificar valores faltantes"
      ]
    },
    {
      "cell_type": "code",
      "execution_count": 8,
      "metadata": {
        "colab": {
          "base_uri": "https://localhost:8080/"
        },
        "id": "DBlzZU2F6gh1",
        "outputId": "fa554638-0776-46f5-cdbd-f11398b270ce"
      },
      "outputs": [
        {
          "output_type": "execute_result",
          "data": {
            "text/plain": [
              "price            0\n",
              "bedrooms         0\n",
              "bathrooms        0\n",
              "sqft_living      0\n",
              "sqft_lot         0\n",
              "floors           0\n",
              "waterfront       0\n",
              "view             0\n",
              "condition        0\n",
              "grade            0\n",
              "sqft_above       0\n",
              "sqft_basement    0\n",
              "yr_built         0\n",
              "yr_renovated     0\n",
              "zipcode          0\n",
              "lat              0\n",
              "long             0\n",
              "sqft_living15    0\n",
              "sqft_lot15       0\n",
              "dtype: int64"
            ]
          },
          "metadata": {},
          "execution_count": 8
        }
      ],
      "source": [
        "#verificar os valores faltantes\n",
        "df1.isna().sum()"
      ]
    },
    {
      "cell_type": "markdown",
      "metadata": {
        "id": "XXKTBNq_6gh2"
      },
      "source": [
        "## 1.07. Verificar valores duplicados"
      ]
    },
    {
      "cell_type": "code",
      "execution_count": 9,
      "metadata": {
        "colab": {
          "base_uri": "https://localhost:8080/"
        },
        "id": "Ubh2Xufm6gh2",
        "outputId": "88b1faf2-bb8a-46b5-8936-b5a9acc82ae0"
      },
      "outputs": [
        {
          "output_type": "execute_result",
          "data": {
            "text/plain": [
              "5"
            ]
          },
          "metadata": {},
          "execution_count": 9
        }
      ],
      "source": [
        "# verificar valores duplicados\n",
        "df1.duplicated().sum()"
      ]
    },
    {
      "cell_type": "markdown",
      "metadata": {
        "id": "OIs06h6G6gh3"
      },
      "source": [
        "## 1.08. Excluir as colunas valor faltante"
      ]
    },
    {
      "cell_type": "code",
      "execution_count": 10,
      "metadata": {
        "id": "kP0wQqqV6gh4"
      },
      "outputs": [],
      "source": [
        "#excluir as colunas com valor vazio\n",
        "df1 = df1.dropna(how='all', axis=1) "
      ]
    },
    {
      "cell_type": "markdown",
      "metadata": {
        "id": "1F8qdYnq6gh5"
      },
      "source": [
        "## 1.09. Excluir as linhas com valor faltante"
      ]
    },
    {
      "cell_type": "code",
      "execution_count": 11,
      "metadata": {
        "id": "tPpPXGAJ6gh5"
      },
      "outputs": [],
      "source": [
        "#excluindo as linhas com valor vazio\n",
        "df1 = df1.dropna(how='any', axis=0) "
      ]
    },
    {
      "cell_type": "markdown",
      "metadata": {
        "id": "R-SGl6pL6gh6"
      },
      "source": [
        "## 1.1. Verificar a estatística descritiva"
      ]
    },
    {
      "cell_type": "code",
      "execution_count": 12,
      "metadata": {
        "colab": {
          "base_uri": "https://localhost:8080/",
          "height": 645
        },
        "id": "Dx28JQBf6gh6",
        "outputId": "30837bdf-78cc-4ecd-f097-56a8f3fef836"
      },
      "outputs": [
        {
          "output_type": "execute_result",
          "data": {
            "text/plain": [
              "                 count           mean            std         min         25%  \\\n",
              "price          21613.0  540088.141767  367127.196483  75000.0000  321950.000   \n",
              "bedrooms       21613.0       3.370842       0.930062      0.0000       3.000   \n",
              "bathrooms      21613.0       2.114757       0.770163      0.0000       1.750   \n",
              "sqft_living    21613.0    2079.899736     918.440897    290.0000    1427.000   \n",
              "sqft_lot       21613.0   15106.967566   41420.511515    520.0000    5040.000   \n",
              "floors         21613.0       1.494309       0.539989      1.0000       1.000   \n",
              "waterfront     21613.0       0.007542       0.086517      0.0000       0.000   \n",
              "view           21613.0       0.234303       0.766318      0.0000       0.000   \n",
              "condition      21613.0       3.409430       0.650743      1.0000       3.000   \n",
              "grade          21613.0       7.656873       1.175459      1.0000       7.000   \n",
              "sqft_above     21613.0    1788.390691     828.090978    290.0000    1190.000   \n",
              "sqft_basement  21613.0     291.509045     442.575043      0.0000       0.000   \n",
              "yr_built       21613.0    1971.005136      29.373411   1900.0000    1951.000   \n",
              "yr_renovated   21613.0      84.402258     401.679240      0.0000       0.000   \n",
              "zipcode        21613.0   98077.939805      53.505026  98001.0000   98033.000   \n",
              "lat            21613.0      47.560053       0.138564     47.1559      47.471   \n",
              "long           21613.0    -122.213896       0.140828   -122.5190    -122.328   \n",
              "sqft_living15  21613.0    1986.552492     685.391304    399.0000    1490.000   \n",
              "sqft_lot15     21613.0   12768.455652   27304.179631    651.0000    5100.000   \n",
              "\n",
              "                       50%         75%           max  \n",
              "price          450000.0000  645000.000  7.700000e+06  \n",
              "bedrooms            3.0000       4.000  3.300000e+01  \n",
              "bathrooms           2.2500       2.500  8.000000e+00  \n",
              "sqft_living      1910.0000    2550.000  1.354000e+04  \n",
              "sqft_lot         7618.0000   10688.000  1.651359e+06  \n",
              "floors              1.5000       2.000  3.500000e+00  \n",
              "waterfront          0.0000       0.000  1.000000e+00  \n",
              "view                0.0000       0.000  4.000000e+00  \n",
              "condition           3.0000       4.000  5.000000e+00  \n",
              "grade               7.0000       8.000  1.300000e+01  \n",
              "sqft_above       1560.0000    2210.000  9.410000e+03  \n",
              "sqft_basement       0.0000     560.000  4.820000e+03  \n",
              "yr_built         1975.0000    1997.000  2.015000e+03  \n",
              "yr_renovated        0.0000       0.000  2.015000e+03  \n",
              "zipcode         98065.0000   98118.000  9.819900e+04  \n",
              "lat                47.5718      47.678  4.777760e+01  \n",
              "long             -122.2300    -122.125 -1.213150e+02  \n",
              "sqft_living15    1840.0000    2360.000  6.210000e+03  \n",
              "sqft_lot15       7620.0000   10083.000  8.712000e+05  "
            ],
            "text/html": [
              "\n",
              "  <div id=\"df-ddc26d18-3524-4148-8cfe-0b560ef78d21\">\n",
              "    <div class=\"colab-df-container\">\n",
              "      <div>\n",
              "<style scoped>\n",
              "    .dataframe tbody tr th:only-of-type {\n",
              "        vertical-align: middle;\n",
              "    }\n",
              "\n",
              "    .dataframe tbody tr th {\n",
              "        vertical-align: top;\n",
              "    }\n",
              "\n",
              "    .dataframe thead th {\n",
              "        text-align: right;\n",
              "    }\n",
              "</style>\n",
              "<table border=\"1\" class=\"dataframe\">\n",
              "  <thead>\n",
              "    <tr style=\"text-align: right;\">\n",
              "      <th></th>\n",
              "      <th>count</th>\n",
              "      <th>mean</th>\n",
              "      <th>std</th>\n",
              "      <th>min</th>\n",
              "      <th>25%</th>\n",
              "      <th>50%</th>\n",
              "      <th>75%</th>\n",
              "      <th>max</th>\n",
              "    </tr>\n",
              "  </thead>\n",
              "  <tbody>\n",
              "    <tr>\n",
              "      <th>price</th>\n",
              "      <td>21613.0</td>\n",
              "      <td>540088.141767</td>\n",
              "      <td>367127.196483</td>\n",
              "      <td>75000.0000</td>\n",
              "      <td>321950.000</td>\n",
              "      <td>450000.0000</td>\n",
              "      <td>645000.000</td>\n",
              "      <td>7.700000e+06</td>\n",
              "    </tr>\n",
              "    <tr>\n",
              "      <th>bedrooms</th>\n",
              "      <td>21613.0</td>\n",
              "      <td>3.370842</td>\n",
              "      <td>0.930062</td>\n",
              "      <td>0.0000</td>\n",
              "      <td>3.000</td>\n",
              "      <td>3.0000</td>\n",
              "      <td>4.000</td>\n",
              "      <td>3.300000e+01</td>\n",
              "    </tr>\n",
              "    <tr>\n",
              "      <th>bathrooms</th>\n",
              "      <td>21613.0</td>\n",
              "      <td>2.114757</td>\n",
              "      <td>0.770163</td>\n",
              "      <td>0.0000</td>\n",
              "      <td>1.750</td>\n",
              "      <td>2.2500</td>\n",
              "      <td>2.500</td>\n",
              "      <td>8.000000e+00</td>\n",
              "    </tr>\n",
              "    <tr>\n",
              "      <th>sqft_living</th>\n",
              "      <td>21613.0</td>\n",
              "      <td>2079.899736</td>\n",
              "      <td>918.440897</td>\n",
              "      <td>290.0000</td>\n",
              "      <td>1427.000</td>\n",
              "      <td>1910.0000</td>\n",
              "      <td>2550.000</td>\n",
              "      <td>1.354000e+04</td>\n",
              "    </tr>\n",
              "    <tr>\n",
              "      <th>sqft_lot</th>\n",
              "      <td>21613.0</td>\n",
              "      <td>15106.967566</td>\n",
              "      <td>41420.511515</td>\n",
              "      <td>520.0000</td>\n",
              "      <td>5040.000</td>\n",
              "      <td>7618.0000</td>\n",
              "      <td>10688.000</td>\n",
              "      <td>1.651359e+06</td>\n",
              "    </tr>\n",
              "    <tr>\n",
              "      <th>floors</th>\n",
              "      <td>21613.0</td>\n",
              "      <td>1.494309</td>\n",
              "      <td>0.539989</td>\n",
              "      <td>1.0000</td>\n",
              "      <td>1.000</td>\n",
              "      <td>1.5000</td>\n",
              "      <td>2.000</td>\n",
              "      <td>3.500000e+00</td>\n",
              "    </tr>\n",
              "    <tr>\n",
              "      <th>waterfront</th>\n",
              "      <td>21613.0</td>\n",
              "      <td>0.007542</td>\n",
              "      <td>0.086517</td>\n",
              "      <td>0.0000</td>\n",
              "      <td>0.000</td>\n",
              "      <td>0.0000</td>\n",
              "      <td>0.000</td>\n",
              "      <td>1.000000e+00</td>\n",
              "    </tr>\n",
              "    <tr>\n",
              "      <th>view</th>\n",
              "      <td>21613.0</td>\n",
              "      <td>0.234303</td>\n",
              "      <td>0.766318</td>\n",
              "      <td>0.0000</td>\n",
              "      <td>0.000</td>\n",
              "      <td>0.0000</td>\n",
              "      <td>0.000</td>\n",
              "      <td>4.000000e+00</td>\n",
              "    </tr>\n",
              "    <tr>\n",
              "      <th>condition</th>\n",
              "      <td>21613.0</td>\n",
              "      <td>3.409430</td>\n",
              "      <td>0.650743</td>\n",
              "      <td>1.0000</td>\n",
              "      <td>3.000</td>\n",
              "      <td>3.0000</td>\n",
              "      <td>4.000</td>\n",
              "      <td>5.000000e+00</td>\n",
              "    </tr>\n",
              "    <tr>\n",
              "      <th>grade</th>\n",
              "      <td>21613.0</td>\n",
              "      <td>7.656873</td>\n",
              "      <td>1.175459</td>\n",
              "      <td>1.0000</td>\n",
              "      <td>7.000</td>\n",
              "      <td>7.0000</td>\n",
              "      <td>8.000</td>\n",
              "      <td>1.300000e+01</td>\n",
              "    </tr>\n",
              "    <tr>\n",
              "      <th>sqft_above</th>\n",
              "      <td>21613.0</td>\n",
              "      <td>1788.390691</td>\n",
              "      <td>828.090978</td>\n",
              "      <td>290.0000</td>\n",
              "      <td>1190.000</td>\n",
              "      <td>1560.0000</td>\n",
              "      <td>2210.000</td>\n",
              "      <td>9.410000e+03</td>\n",
              "    </tr>\n",
              "    <tr>\n",
              "      <th>sqft_basement</th>\n",
              "      <td>21613.0</td>\n",
              "      <td>291.509045</td>\n",
              "      <td>442.575043</td>\n",
              "      <td>0.0000</td>\n",
              "      <td>0.000</td>\n",
              "      <td>0.0000</td>\n",
              "      <td>560.000</td>\n",
              "      <td>4.820000e+03</td>\n",
              "    </tr>\n",
              "    <tr>\n",
              "      <th>yr_built</th>\n",
              "      <td>21613.0</td>\n",
              "      <td>1971.005136</td>\n",
              "      <td>29.373411</td>\n",
              "      <td>1900.0000</td>\n",
              "      <td>1951.000</td>\n",
              "      <td>1975.0000</td>\n",
              "      <td>1997.000</td>\n",
              "      <td>2.015000e+03</td>\n",
              "    </tr>\n",
              "    <tr>\n",
              "      <th>yr_renovated</th>\n",
              "      <td>21613.0</td>\n",
              "      <td>84.402258</td>\n",
              "      <td>401.679240</td>\n",
              "      <td>0.0000</td>\n",
              "      <td>0.000</td>\n",
              "      <td>0.0000</td>\n",
              "      <td>0.000</td>\n",
              "      <td>2.015000e+03</td>\n",
              "    </tr>\n",
              "    <tr>\n",
              "      <th>zipcode</th>\n",
              "      <td>21613.0</td>\n",
              "      <td>98077.939805</td>\n",
              "      <td>53.505026</td>\n",
              "      <td>98001.0000</td>\n",
              "      <td>98033.000</td>\n",
              "      <td>98065.0000</td>\n",
              "      <td>98118.000</td>\n",
              "      <td>9.819900e+04</td>\n",
              "    </tr>\n",
              "    <tr>\n",
              "      <th>lat</th>\n",
              "      <td>21613.0</td>\n",
              "      <td>47.560053</td>\n",
              "      <td>0.138564</td>\n",
              "      <td>47.1559</td>\n",
              "      <td>47.471</td>\n",
              "      <td>47.5718</td>\n",
              "      <td>47.678</td>\n",
              "      <td>4.777760e+01</td>\n",
              "    </tr>\n",
              "    <tr>\n",
              "      <th>long</th>\n",
              "      <td>21613.0</td>\n",
              "      <td>-122.213896</td>\n",
              "      <td>0.140828</td>\n",
              "      <td>-122.5190</td>\n",
              "      <td>-122.328</td>\n",
              "      <td>-122.2300</td>\n",
              "      <td>-122.125</td>\n",
              "      <td>-1.213150e+02</td>\n",
              "    </tr>\n",
              "    <tr>\n",
              "      <th>sqft_living15</th>\n",
              "      <td>21613.0</td>\n",
              "      <td>1986.552492</td>\n",
              "      <td>685.391304</td>\n",
              "      <td>399.0000</td>\n",
              "      <td>1490.000</td>\n",
              "      <td>1840.0000</td>\n",
              "      <td>2360.000</td>\n",
              "      <td>6.210000e+03</td>\n",
              "    </tr>\n",
              "    <tr>\n",
              "      <th>sqft_lot15</th>\n",
              "      <td>21613.0</td>\n",
              "      <td>12768.455652</td>\n",
              "      <td>27304.179631</td>\n",
              "      <td>651.0000</td>\n",
              "      <td>5100.000</td>\n",
              "      <td>7620.0000</td>\n",
              "      <td>10083.000</td>\n",
              "      <td>8.712000e+05</td>\n",
              "    </tr>\n",
              "  </tbody>\n",
              "</table>\n",
              "</div>\n",
              "      <button class=\"colab-df-convert\" onclick=\"convertToInteractive('df-ddc26d18-3524-4148-8cfe-0b560ef78d21')\"\n",
              "              title=\"Convert this dataframe to an interactive table.\"\n",
              "              style=\"display:none;\">\n",
              "        \n",
              "  <svg xmlns=\"http://www.w3.org/2000/svg\" height=\"24px\"viewBox=\"0 0 24 24\"\n",
              "       width=\"24px\">\n",
              "    <path d=\"M0 0h24v24H0V0z\" fill=\"none\"/>\n",
              "    <path d=\"M18.56 5.44l.94 2.06.94-2.06 2.06-.94-2.06-.94-.94-2.06-.94 2.06-2.06.94zm-11 1L8.5 8.5l.94-2.06 2.06-.94-2.06-.94L8.5 2.5l-.94 2.06-2.06.94zm10 10l.94 2.06.94-2.06 2.06-.94-2.06-.94-.94-2.06-.94 2.06-2.06.94z\"/><path d=\"M17.41 7.96l-1.37-1.37c-.4-.4-.92-.59-1.43-.59-.52 0-1.04.2-1.43.59L10.3 9.45l-7.72 7.72c-.78.78-.78 2.05 0 2.83L4 21.41c.39.39.9.59 1.41.59.51 0 1.02-.2 1.41-.59l7.78-7.78 2.81-2.81c.8-.78.8-2.07 0-2.86zM5.41 20L4 18.59l7.72-7.72 1.47 1.35L5.41 20z\"/>\n",
              "  </svg>\n",
              "      </button>\n",
              "      \n",
              "  <style>\n",
              "    .colab-df-container {\n",
              "      display:flex;\n",
              "      flex-wrap:wrap;\n",
              "      gap: 12px;\n",
              "    }\n",
              "\n",
              "    .colab-df-convert {\n",
              "      background-color: #E8F0FE;\n",
              "      border: none;\n",
              "      border-radius: 50%;\n",
              "      cursor: pointer;\n",
              "      display: none;\n",
              "      fill: #1967D2;\n",
              "      height: 32px;\n",
              "      padding: 0 0 0 0;\n",
              "      width: 32px;\n",
              "    }\n",
              "\n",
              "    .colab-df-convert:hover {\n",
              "      background-color: #E2EBFA;\n",
              "      box-shadow: 0px 1px 2px rgba(60, 64, 67, 0.3), 0px 1px 3px 1px rgba(60, 64, 67, 0.15);\n",
              "      fill: #174EA6;\n",
              "    }\n",
              "\n",
              "    [theme=dark] .colab-df-convert {\n",
              "      background-color: #3B4455;\n",
              "      fill: #D2E3FC;\n",
              "    }\n",
              "\n",
              "    [theme=dark] .colab-df-convert:hover {\n",
              "      background-color: #434B5C;\n",
              "      box-shadow: 0px 1px 3px 1px rgba(0, 0, 0, 0.15);\n",
              "      filter: drop-shadow(0px 1px 2px rgba(0, 0, 0, 0.3));\n",
              "      fill: #FFFFFF;\n",
              "    }\n",
              "  </style>\n",
              "\n",
              "      <script>\n",
              "        const buttonEl =\n",
              "          document.querySelector('#df-ddc26d18-3524-4148-8cfe-0b560ef78d21 button.colab-df-convert');\n",
              "        buttonEl.style.display =\n",
              "          google.colab.kernel.accessAllowed ? 'block' : 'none';\n",
              "\n",
              "        async function convertToInteractive(key) {\n",
              "          const element = document.querySelector('#df-ddc26d18-3524-4148-8cfe-0b560ef78d21');\n",
              "          const dataTable =\n",
              "            await google.colab.kernel.invokeFunction('convertToInteractive',\n",
              "                                                     [key], {});\n",
              "          if (!dataTable) return;\n",
              "\n",
              "          const docLinkHtml = 'Like what you see? Visit the ' +\n",
              "            '<a target=\"_blank\" href=https://colab.research.google.com/notebooks/data_table.ipynb>data table notebook</a>'\n",
              "            + ' to learn more about interactive tables.';\n",
              "          element.innerHTML = '';\n",
              "          dataTable['output_type'] = 'display_data';\n",
              "          await google.colab.output.renderOutput(dataTable, element);\n",
              "          const docLink = document.createElement('div');\n",
              "          docLink.innerHTML = docLinkHtml;\n",
              "          element.appendChild(docLink);\n",
              "        }\n",
              "      </script>\n",
              "    </div>\n",
              "  </div>\n",
              "  "
            ]
          },
          "metadata": {},
          "execution_count": 12
        }
      ],
      "source": [
        "#verificar a estatistica descritiva\n",
        "df1.describe().T"
      ]
    },
    {
      "cell_type": "markdown",
      "metadata": {
        "id": "KL1rWvlX6gh7"
      },
      "source": [
        "# 2.0 Passo 02 - Engenharia de Características"
      ]
    },
    {
      "cell_type": "markdown",
      "metadata": {
        "id": "a5fIuYjV6gh8"
      },
      "source": [
        "## 2.01. Criar cópia"
      ]
    },
    {
      "cell_type": "code",
      "execution_count": 13,
      "metadata": {
        "id": "bEmTVSqy6gh8"
      },
      "outputs": [],
      "source": [
        "df2 = df1.copy()"
      ]
    },
    {
      "cell_type": "markdown",
      "metadata": {
        "id": "S06gqVHo6gh9"
      },
      "source": [
        "# 2.1. Modelo de classificação"
      ]
    },
    {
      "cell_type": "markdown",
      "metadata": {
        "id": "5zSIIMat6gh-"
      },
      "source": [
        "## 2.1.1. Separar as variáveis"
      ]
    },
    {
      "cell_type": "code",
      "execution_count": 14,
      "metadata": {
        "scrolled": true,
        "colab": {
          "base_uri": "https://localhost:8080/",
          "height": 693
        },
        "id": "dnr9uTD36gh-",
        "outputId": "9db21816-7b66-49ef-fda2-141b5b6e233a"
      },
      "outputs": [
        {
          "output_type": "execute_result",
          "data": {
            "text/plain": [
              "                       bedrooms  bathrooms  sqft_living  sqft_lot  floors  \\\n",
              "id         date                                                             \n",
              "7129300520 2014-10-13         3       1.00         1180      5650     1.0   \n",
              "6414100192 2014-12-09         3       2.25         2570      7242     2.0   \n",
              "5631500400 2015-02-25         2       1.00          770     10000     1.0   \n",
              "2487200875 2014-12-09         4       3.00         1960      5000     1.0   \n",
              "1954400510 2015-02-18         3       2.00         1680      8080     1.0   \n",
              "...                         ...        ...          ...       ...     ...   \n",
              "263000018  2014-05-21         3       2.50         1530      1131     3.0   \n",
              "6600060120 2015-02-23         4       2.50         2310      5813     2.0   \n",
              "1523300141 2014-06-23         2       0.75         1020      1350     2.0   \n",
              "291310100  2015-01-16         3       2.50         1600      2388     2.0   \n",
              "1523300157 2014-10-15         2       0.75         1020      1076     2.0   \n",
              "\n",
              "                       waterfront  view  condition  grade  sqft_above  \\\n",
              "id         date                                                         \n",
              "7129300520 2014-10-13           0     0          3      7        1180   \n",
              "6414100192 2014-12-09           0     0          3      7        2170   \n",
              "5631500400 2015-02-25           0     0          3      6         770   \n",
              "2487200875 2014-12-09           0     0          5      7        1050   \n",
              "1954400510 2015-02-18           0     0          3      8        1680   \n",
              "...                           ...   ...        ...    ...         ...   \n",
              "263000018  2014-05-21           0     0          3      8        1530   \n",
              "6600060120 2015-02-23           0     0          3      8        2310   \n",
              "1523300141 2014-06-23           0     0          3      7        1020   \n",
              "291310100  2015-01-16           0     0          3      8        1600   \n",
              "1523300157 2014-10-15           0     0          3      7        1020   \n",
              "\n",
              "                       yr_built  sqft_living15  sqft_lot15  \n",
              "id         date                                             \n",
              "7129300520 2014-10-13      1955           1340        5650  \n",
              "6414100192 2014-12-09      1951           1690        7639  \n",
              "5631500400 2015-02-25      1933           2720        8062  \n",
              "2487200875 2014-12-09      1965           1360        5000  \n",
              "1954400510 2015-02-18      1987           1800        7503  \n",
              "...                         ...            ...         ...  \n",
              "263000018  2014-05-21      2009           1530        1509  \n",
              "6600060120 2015-02-23      2014           1830        7200  \n",
              "1523300141 2014-06-23      2009           1020        2007  \n",
              "291310100  2015-01-16      2004           1410        1287  \n",
              "1523300157 2014-10-15      2008           1020        1357  \n",
              "\n",
              "[21613 rows x 13 columns]"
            ],
            "text/html": [
              "\n",
              "  <div id=\"df-56901cc0-0f07-4a59-9950-1775fd96c105\">\n",
              "    <div class=\"colab-df-container\">\n",
              "      <div>\n",
              "<style scoped>\n",
              "    .dataframe tbody tr th:only-of-type {\n",
              "        vertical-align: middle;\n",
              "    }\n",
              "\n",
              "    .dataframe tbody tr th {\n",
              "        vertical-align: top;\n",
              "    }\n",
              "\n",
              "    .dataframe thead th {\n",
              "        text-align: right;\n",
              "    }\n",
              "</style>\n",
              "<table border=\"1\" class=\"dataframe\">\n",
              "  <thead>\n",
              "    <tr style=\"text-align: right;\">\n",
              "      <th></th>\n",
              "      <th></th>\n",
              "      <th>bedrooms</th>\n",
              "      <th>bathrooms</th>\n",
              "      <th>sqft_living</th>\n",
              "      <th>sqft_lot</th>\n",
              "      <th>floors</th>\n",
              "      <th>waterfront</th>\n",
              "      <th>view</th>\n",
              "      <th>condition</th>\n",
              "      <th>grade</th>\n",
              "      <th>sqft_above</th>\n",
              "      <th>yr_built</th>\n",
              "      <th>sqft_living15</th>\n",
              "      <th>sqft_lot15</th>\n",
              "    </tr>\n",
              "    <tr>\n",
              "      <th>id</th>\n",
              "      <th>date</th>\n",
              "      <th></th>\n",
              "      <th></th>\n",
              "      <th></th>\n",
              "      <th></th>\n",
              "      <th></th>\n",
              "      <th></th>\n",
              "      <th></th>\n",
              "      <th></th>\n",
              "      <th></th>\n",
              "      <th></th>\n",
              "      <th></th>\n",
              "      <th></th>\n",
              "      <th></th>\n",
              "    </tr>\n",
              "  </thead>\n",
              "  <tbody>\n",
              "    <tr>\n",
              "      <th>7129300520</th>\n",
              "      <th>2014-10-13</th>\n",
              "      <td>3</td>\n",
              "      <td>1.00</td>\n",
              "      <td>1180</td>\n",
              "      <td>5650</td>\n",
              "      <td>1.0</td>\n",
              "      <td>0</td>\n",
              "      <td>0</td>\n",
              "      <td>3</td>\n",
              "      <td>7</td>\n",
              "      <td>1180</td>\n",
              "      <td>1955</td>\n",
              "      <td>1340</td>\n",
              "      <td>5650</td>\n",
              "    </tr>\n",
              "    <tr>\n",
              "      <th>6414100192</th>\n",
              "      <th>2014-12-09</th>\n",
              "      <td>3</td>\n",
              "      <td>2.25</td>\n",
              "      <td>2570</td>\n",
              "      <td>7242</td>\n",
              "      <td>2.0</td>\n",
              "      <td>0</td>\n",
              "      <td>0</td>\n",
              "      <td>3</td>\n",
              "      <td>7</td>\n",
              "      <td>2170</td>\n",
              "      <td>1951</td>\n",
              "      <td>1690</td>\n",
              "      <td>7639</td>\n",
              "    </tr>\n",
              "    <tr>\n",
              "      <th>5631500400</th>\n",
              "      <th>2015-02-25</th>\n",
              "      <td>2</td>\n",
              "      <td>1.00</td>\n",
              "      <td>770</td>\n",
              "      <td>10000</td>\n",
              "      <td>1.0</td>\n",
              "      <td>0</td>\n",
              "      <td>0</td>\n",
              "      <td>3</td>\n",
              "      <td>6</td>\n",
              "      <td>770</td>\n",
              "      <td>1933</td>\n",
              "      <td>2720</td>\n",
              "      <td>8062</td>\n",
              "    </tr>\n",
              "    <tr>\n",
              "      <th>2487200875</th>\n",
              "      <th>2014-12-09</th>\n",
              "      <td>4</td>\n",
              "      <td>3.00</td>\n",
              "      <td>1960</td>\n",
              "      <td>5000</td>\n",
              "      <td>1.0</td>\n",
              "      <td>0</td>\n",
              "      <td>0</td>\n",
              "      <td>5</td>\n",
              "      <td>7</td>\n",
              "      <td>1050</td>\n",
              "      <td>1965</td>\n",
              "      <td>1360</td>\n",
              "      <td>5000</td>\n",
              "    </tr>\n",
              "    <tr>\n",
              "      <th>1954400510</th>\n",
              "      <th>2015-02-18</th>\n",
              "      <td>3</td>\n",
              "      <td>2.00</td>\n",
              "      <td>1680</td>\n",
              "      <td>8080</td>\n",
              "      <td>1.0</td>\n",
              "      <td>0</td>\n",
              "      <td>0</td>\n",
              "      <td>3</td>\n",
              "      <td>8</td>\n",
              "      <td>1680</td>\n",
              "      <td>1987</td>\n",
              "      <td>1800</td>\n",
              "      <td>7503</td>\n",
              "    </tr>\n",
              "    <tr>\n",
              "      <th>...</th>\n",
              "      <th>...</th>\n",
              "      <td>...</td>\n",
              "      <td>...</td>\n",
              "      <td>...</td>\n",
              "      <td>...</td>\n",
              "      <td>...</td>\n",
              "      <td>...</td>\n",
              "      <td>...</td>\n",
              "      <td>...</td>\n",
              "      <td>...</td>\n",
              "      <td>...</td>\n",
              "      <td>...</td>\n",
              "      <td>...</td>\n",
              "      <td>...</td>\n",
              "    </tr>\n",
              "    <tr>\n",
              "      <th>263000018</th>\n",
              "      <th>2014-05-21</th>\n",
              "      <td>3</td>\n",
              "      <td>2.50</td>\n",
              "      <td>1530</td>\n",
              "      <td>1131</td>\n",
              "      <td>3.0</td>\n",
              "      <td>0</td>\n",
              "      <td>0</td>\n",
              "      <td>3</td>\n",
              "      <td>8</td>\n",
              "      <td>1530</td>\n",
              "      <td>2009</td>\n",
              "      <td>1530</td>\n",
              "      <td>1509</td>\n",
              "    </tr>\n",
              "    <tr>\n",
              "      <th>6600060120</th>\n",
              "      <th>2015-02-23</th>\n",
              "      <td>4</td>\n",
              "      <td>2.50</td>\n",
              "      <td>2310</td>\n",
              "      <td>5813</td>\n",
              "      <td>2.0</td>\n",
              "      <td>0</td>\n",
              "      <td>0</td>\n",
              "      <td>3</td>\n",
              "      <td>8</td>\n",
              "      <td>2310</td>\n",
              "      <td>2014</td>\n",
              "      <td>1830</td>\n",
              "      <td>7200</td>\n",
              "    </tr>\n",
              "    <tr>\n",
              "      <th>1523300141</th>\n",
              "      <th>2014-06-23</th>\n",
              "      <td>2</td>\n",
              "      <td>0.75</td>\n",
              "      <td>1020</td>\n",
              "      <td>1350</td>\n",
              "      <td>2.0</td>\n",
              "      <td>0</td>\n",
              "      <td>0</td>\n",
              "      <td>3</td>\n",
              "      <td>7</td>\n",
              "      <td>1020</td>\n",
              "      <td>2009</td>\n",
              "      <td>1020</td>\n",
              "      <td>2007</td>\n",
              "    </tr>\n",
              "    <tr>\n",
              "      <th>291310100</th>\n",
              "      <th>2015-01-16</th>\n",
              "      <td>3</td>\n",
              "      <td>2.50</td>\n",
              "      <td>1600</td>\n",
              "      <td>2388</td>\n",
              "      <td>2.0</td>\n",
              "      <td>0</td>\n",
              "      <td>0</td>\n",
              "      <td>3</td>\n",
              "      <td>8</td>\n",
              "      <td>1600</td>\n",
              "      <td>2004</td>\n",
              "      <td>1410</td>\n",
              "      <td>1287</td>\n",
              "    </tr>\n",
              "    <tr>\n",
              "      <th>1523300157</th>\n",
              "      <th>2014-10-15</th>\n",
              "      <td>2</td>\n",
              "      <td>0.75</td>\n",
              "      <td>1020</td>\n",
              "      <td>1076</td>\n",
              "      <td>2.0</td>\n",
              "      <td>0</td>\n",
              "      <td>0</td>\n",
              "      <td>3</td>\n",
              "      <td>7</td>\n",
              "      <td>1020</td>\n",
              "      <td>2008</td>\n",
              "      <td>1020</td>\n",
              "      <td>1357</td>\n",
              "    </tr>\n",
              "  </tbody>\n",
              "</table>\n",
              "<p>21613 rows × 13 columns</p>\n",
              "</div>\n",
              "      <button class=\"colab-df-convert\" onclick=\"convertToInteractive('df-56901cc0-0f07-4a59-9950-1775fd96c105')\"\n",
              "              title=\"Convert this dataframe to an interactive table.\"\n",
              "              style=\"display:none;\">\n",
              "        \n",
              "  <svg xmlns=\"http://www.w3.org/2000/svg\" height=\"24px\"viewBox=\"0 0 24 24\"\n",
              "       width=\"24px\">\n",
              "    <path d=\"M0 0h24v24H0V0z\" fill=\"none\"/>\n",
              "    <path d=\"M18.56 5.44l.94 2.06.94-2.06 2.06-.94-2.06-.94-.94-2.06-.94 2.06-2.06.94zm-11 1L8.5 8.5l.94-2.06 2.06-.94-2.06-.94L8.5 2.5l-.94 2.06-2.06.94zm10 10l.94 2.06.94-2.06 2.06-.94-2.06-.94-.94-2.06-.94 2.06-2.06.94z\"/><path d=\"M17.41 7.96l-1.37-1.37c-.4-.4-.92-.59-1.43-.59-.52 0-1.04.2-1.43.59L10.3 9.45l-7.72 7.72c-.78.78-.78 2.05 0 2.83L4 21.41c.39.39.9.59 1.41.59.51 0 1.02-.2 1.41-.59l7.78-7.78 2.81-2.81c.8-.78.8-2.07 0-2.86zM5.41 20L4 18.59l7.72-7.72 1.47 1.35L5.41 20z\"/>\n",
              "  </svg>\n",
              "      </button>\n",
              "      \n",
              "  <style>\n",
              "    .colab-df-container {\n",
              "      display:flex;\n",
              "      flex-wrap:wrap;\n",
              "      gap: 12px;\n",
              "    }\n",
              "\n",
              "    .colab-df-convert {\n",
              "      background-color: #E8F0FE;\n",
              "      border: none;\n",
              "      border-radius: 50%;\n",
              "      cursor: pointer;\n",
              "      display: none;\n",
              "      fill: #1967D2;\n",
              "      height: 32px;\n",
              "      padding: 0 0 0 0;\n",
              "      width: 32px;\n",
              "    }\n",
              "\n",
              "    .colab-df-convert:hover {\n",
              "      background-color: #E2EBFA;\n",
              "      box-shadow: 0px 1px 2px rgba(60, 64, 67, 0.3), 0px 1px 3px 1px rgba(60, 64, 67, 0.15);\n",
              "      fill: #174EA6;\n",
              "    }\n",
              "\n",
              "    [theme=dark] .colab-df-convert {\n",
              "      background-color: #3B4455;\n",
              "      fill: #D2E3FC;\n",
              "    }\n",
              "\n",
              "    [theme=dark] .colab-df-convert:hover {\n",
              "      background-color: #434B5C;\n",
              "      box-shadow: 0px 1px 3px 1px rgba(0, 0, 0, 0.15);\n",
              "      filter: drop-shadow(0px 1px 2px rgba(0, 0, 0, 0.3));\n",
              "      fill: #FFFFFF;\n",
              "    }\n",
              "  </style>\n",
              "\n",
              "      <script>\n",
              "        const buttonEl =\n",
              "          document.querySelector('#df-56901cc0-0f07-4a59-9950-1775fd96c105 button.colab-df-convert');\n",
              "        buttonEl.style.display =\n",
              "          google.colab.kernel.accessAllowed ? 'block' : 'none';\n",
              "\n",
              "        async function convertToInteractive(key) {\n",
              "          const element = document.querySelector('#df-56901cc0-0f07-4a59-9950-1775fd96c105');\n",
              "          const dataTable =\n",
              "            await google.colab.kernel.invokeFunction('convertToInteractive',\n",
              "                                                     [key], {});\n",
              "          if (!dataTable) return;\n",
              "\n",
              "          const docLinkHtml = 'Like what you see? Visit the ' +\n",
              "            '<a target=\"_blank\" href=https://colab.research.google.com/notebooks/data_table.ipynb>data table notebook</a>'\n",
              "            + ' to learn more about interactive tables.';\n",
              "          element.innerHTML = '';\n",
              "          dataTable['output_type'] = 'display_data';\n",
              "          await google.colab.output.renderOutput(dataTable, element);\n",
              "          const docLink = document.createElement('div');\n",
              "          docLink.innerHTML = docLinkHtml;\n",
              "          element.appendChild(docLink);\n",
              "        }\n",
              "      </script>\n",
              "    </div>\n",
              "  </div>\n",
              "  "
            ]
          },
          "metadata": {},
          "execution_count": 14
        }
      ],
      "source": [
        "# separar as variáveis. \n",
        "X = df1.drop(['price', 'sqft_basement', 'yr_renovated', 'zipcode', 'lat', 'long'], axis=1)\n",
        "y = df1.price\n",
        "X"
      ]
    },
    {
      "cell_type": "markdown",
      "metadata": {
        "id": "svDegy-j6gh_"
      },
      "source": [
        "## 2.1.2. Separar as variáveis em dados de treino e teste"
      ]
    },
    {
      "cell_type": "code",
      "execution_count": 15,
      "metadata": {
        "colab": {
          "base_uri": "https://localhost:8080/"
        },
        "id": "5ZOaFH2b6giA",
        "outputId": "6b2a1795-8443-44e7-ad8c-1fe78d389a18"
      },
      "outputs": [
        {
          "output_type": "execute_result",
          "data": {
            "text/plain": [
              "((16209, 13), (5404, 13))"
            ]
          },
          "metadata": {},
          "execution_count": 15
        }
      ],
      "source": [
        "# separar o dataset em dados de treino e teste\n",
        "X_tr, X_ts, y_tr, y_ts = train_test_split(X,y, test_size = 0.25, random_state = 61658)\n",
        "X_tr.shape, X_ts.shape"
      ]
    },
    {
      "cell_type": "markdown",
      "metadata": {
        "id": "REGZeuEu6giA"
      },
      "source": [
        "## 2.1.3. Ajustes do hiperparâmetros - GridSearchCV"
      ]
    },
    {
      "cell_type": "code",
      "execution_count": 16,
      "metadata": {
        "colab": {
          "base_uri": "https://localhost:8080/"
        },
        "id": "enaLU7F56giB",
        "outputId": "030be485-5d99-4c69-d2f8-9c722142b809"
      },
      "outputs": [
        {
          "output_type": "stream",
          "name": "stdout",
          "text": [
            "Fitting 10 folds for each of 20 candidates, totalling 200 fits\n"
          ]
        },
        {
          "output_type": "execute_result",
          "data": {
            "text/plain": [
              "131417.32457438935"
            ]
          },
          "metadata": {},
          "execution_count": 16
        }
      ],
      "source": [
        "params = {\n",
        "    'max_leaf_nodes': np.unique(np.logspace(2,12,20,base=2, dtype=int) ),\n",
        "}\n",
        "grid = GridSearchCV(\n",
        "    DecisionTreeRegressor(criterion=\"mae\", random_state=61658),\n",
        "    params,\n",
        "    scoring='neg_mean_absolute_error',\n",
        "    cv=10,\n",
        "    verbose=10,\n",
        "    n_jobs=6,\n",
        ")\n",
        "grid.fit(X_tr, y_tr)\n",
        "\n",
        "mean_absolute_error(y_ts, grid.predict(X_ts))"
      ]
    },
    {
      "cell_type": "code",
      "execution_count": 17,
      "metadata": {
        "colab": {
          "base_uri": "https://localhost:8080/"
        },
        "id": "djfnsmJ16giC",
        "outputId": "a1ce52d5-b7e4-419c-f3b2-a54557a9ca74"
      },
      "outputs": [
        {
          "output_type": "execute_result",
          "data": {
            "text/plain": [
              "{'max_leaf_nodes': 153}"
            ]
          },
          "metadata": {},
          "execution_count": 17
        }
      ],
      "source": [
        "grid.best_params_"
      ]
    },
    {
      "cell_type": "code",
      "execution_count": 18,
      "metadata": {
        "colab": {
          "base_uri": "https://localhost:8080/"
        },
        "id": "CWFyuA1w6giD",
        "outputId": "05d47d51-27ba-4e5e-b12d-fbec1a5e689e"
      },
      "outputs": [
        {
          "output_type": "execute_result",
          "data": {
            "text/plain": [
              "(541479.6783863804, 452000.0)"
            ]
          },
          "metadata": {},
          "execution_count": 18
        }
      ],
      "source": [
        "y_ts.mean(),y_ts.median()"
      ]
    },
    {
      "cell_type": "markdown",
      "metadata": {
        "id": "NHVTbV2M6giE"
      },
      "source": [
        "## 2.1.4. Importância de cada variável"
      ]
    },
    {
      "cell_type": "code",
      "execution_count": 19,
      "metadata": {
        "scrolled": true,
        "colab": {
          "base_uri": "https://localhost:8080/"
        },
        "id": "bZ61IP6O6giF",
        "outputId": "b163193d-6f86-4b04-e5f7-ddb7d1e1d1be"
      },
      "outputs": [
        {
          "output_type": "stream",
          "name": "stdout",
          "text": [
            "grade                          | 0.525\n",
            "sqft_living                    | 0.174\n",
            "yr_built                       | 0.138\n",
            "sqft_living15                  | 0.051\n",
            "sqft_lot15                     | 0.030\n",
            "waterfront                     | 0.024\n",
            "sqft_lot                       | 0.018\n",
            "sqft_above                     | 0.010\n",
            "view                           | 0.009\n",
            "floors                         | 0.008\n",
            "bathrooms                      | 0.006\n",
            "bedrooms                       | 0.004\n",
            "condition                      | 0.002\n"
          ]
        }
      ],
      "source": [
        "# verificando a importancia de cada variavel\n",
        "cols = X_tr.columns\n",
        "imps = grid.best_estimator_.feature_importances_\n",
        "order = np.argsort(imps)[::-1]\n",
        "\n",
        "for col, imp in zip(cols[order], imps[order]):\n",
        "    print(f'{col:30s} | {imp:5.3f}')"
      ]
    },
    {
      "cell_type": "markdown",
      "metadata": {
        "id": "gRqY3xWM6giF"
      },
      "source": [
        "## 2.1.5. Selecionar as três primeiras colunas"
      ]
    },
    {
      "cell_type": "code",
      "execution_count": 20,
      "metadata": {
        "colab": {
          "base_uri": "https://localhost:8080/",
          "height": 455
        },
        "id": "KbJsqQk-6giG",
        "outputId": "baa0d375-338b-4a0b-d547-84f7a9cf0adc"
      },
      "outputs": [
        {
          "output_type": "execute_result",
          "data": {
            "text/plain": [
              "                       grade  sqft_living  yr_built\n",
              "id         date                                    \n",
              "7212680850 2014-09-03      8         1730      1994\n",
              "3528000140 2014-10-23     10         3720      1988\n",
              "7697800040 2014-08-26      8         2150      1979\n",
              "7979900215 2014-06-11      7         1460      1954\n",
              "420069021  2014-10-27      7         1990      1949\n",
              "...                      ...          ...       ...\n",
              "5162100650 2014-09-22      8         2320      1987\n",
              "1150000740 2014-10-03     10         1990      1989\n",
              "301401620  2014-10-15      7         1852      2014\n",
              "2946003947 2015-03-02      7         1090      2007\n",
              "7788400065 2015-03-15      7         1270      1955\n",
              "\n",
              "[16209 rows x 3 columns]"
            ],
            "text/html": [
              "\n",
              "  <div id=\"df-ceacd9c7-7953-405a-81f1-358d08cfddb0\">\n",
              "    <div class=\"colab-df-container\">\n",
              "      <div>\n",
              "<style scoped>\n",
              "    .dataframe tbody tr th:only-of-type {\n",
              "        vertical-align: middle;\n",
              "    }\n",
              "\n",
              "    .dataframe tbody tr th {\n",
              "        vertical-align: top;\n",
              "    }\n",
              "\n",
              "    .dataframe thead th {\n",
              "        text-align: right;\n",
              "    }\n",
              "</style>\n",
              "<table border=\"1\" class=\"dataframe\">\n",
              "  <thead>\n",
              "    <tr style=\"text-align: right;\">\n",
              "      <th></th>\n",
              "      <th></th>\n",
              "      <th>grade</th>\n",
              "      <th>sqft_living</th>\n",
              "      <th>yr_built</th>\n",
              "    </tr>\n",
              "    <tr>\n",
              "      <th>id</th>\n",
              "      <th>date</th>\n",
              "      <th></th>\n",
              "      <th></th>\n",
              "      <th></th>\n",
              "    </tr>\n",
              "  </thead>\n",
              "  <tbody>\n",
              "    <tr>\n",
              "      <th>7212680850</th>\n",
              "      <th>2014-09-03</th>\n",
              "      <td>8</td>\n",
              "      <td>1730</td>\n",
              "      <td>1994</td>\n",
              "    </tr>\n",
              "    <tr>\n",
              "      <th>3528000140</th>\n",
              "      <th>2014-10-23</th>\n",
              "      <td>10</td>\n",
              "      <td>3720</td>\n",
              "      <td>1988</td>\n",
              "    </tr>\n",
              "    <tr>\n",
              "      <th>7697800040</th>\n",
              "      <th>2014-08-26</th>\n",
              "      <td>8</td>\n",
              "      <td>2150</td>\n",
              "      <td>1979</td>\n",
              "    </tr>\n",
              "    <tr>\n",
              "      <th>7979900215</th>\n",
              "      <th>2014-06-11</th>\n",
              "      <td>7</td>\n",
              "      <td>1460</td>\n",
              "      <td>1954</td>\n",
              "    </tr>\n",
              "    <tr>\n",
              "      <th>420069021</th>\n",
              "      <th>2014-10-27</th>\n",
              "      <td>7</td>\n",
              "      <td>1990</td>\n",
              "      <td>1949</td>\n",
              "    </tr>\n",
              "    <tr>\n",
              "      <th>...</th>\n",
              "      <th>...</th>\n",
              "      <td>...</td>\n",
              "      <td>...</td>\n",
              "      <td>...</td>\n",
              "    </tr>\n",
              "    <tr>\n",
              "      <th>5162100650</th>\n",
              "      <th>2014-09-22</th>\n",
              "      <td>8</td>\n",
              "      <td>2320</td>\n",
              "      <td>1987</td>\n",
              "    </tr>\n",
              "    <tr>\n",
              "      <th>1150000740</th>\n",
              "      <th>2014-10-03</th>\n",
              "      <td>10</td>\n",
              "      <td>1990</td>\n",
              "      <td>1989</td>\n",
              "    </tr>\n",
              "    <tr>\n",
              "      <th>301401620</th>\n",
              "      <th>2014-10-15</th>\n",
              "      <td>7</td>\n",
              "      <td>1852</td>\n",
              "      <td>2014</td>\n",
              "    </tr>\n",
              "    <tr>\n",
              "      <th>2946003947</th>\n",
              "      <th>2015-03-02</th>\n",
              "      <td>7</td>\n",
              "      <td>1090</td>\n",
              "      <td>2007</td>\n",
              "    </tr>\n",
              "    <tr>\n",
              "      <th>7788400065</th>\n",
              "      <th>2015-03-15</th>\n",
              "      <td>7</td>\n",
              "      <td>1270</td>\n",
              "      <td>1955</td>\n",
              "    </tr>\n",
              "  </tbody>\n",
              "</table>\n",
              "<p>16209 rows × 3 columns</p>\n",
              "</div>\n",
              "      <button class=\"colab-df-convert\" onclick=\"convertToInteractive('df-ceacd9c7-7953-405a-81f1-358d08cfddb0')\"\n",
              "              title=\"Convert this dataframe to an interactive table.\"\n",
              "              style=\"display:none;\">\n",
              "        \n",
              "  <svg xmlns=\"http://www.w3.org/2000/svg\" height=\"24px\"viewBox=\"0 0 24 24\"\n",
              "       width=\"24px\">\n",
              "    <path d=\"M0 0h24v24H0V0z\" fill=\"none\"/>\n",
              "    <path d=\"M18.56 5.44l.94 2.06.94-2.06 2.06-.94-2.06-.94-.94-2.06-.94 2.06-2.06.94zm-11 1L8.5 8.5l.94-2.06 2.06-.94-2.06-.94L8.5 2.5l-.94 2.06-2.06.94zm10 10l.94 2.06.94-2.06 2.06-.94-2.06-.94-.94-2.06-.94 2.06-2.06.94z\"/><path d=\"M17.41 7.96l-1.37-1.37c-.4-.4-.92-.59-1.43-.59-.52 0-1.04.2-1.43.59L10.3 9.45l-7.72 7.72c-.78.78-.78 2.05 0 2.83L4 21.41c.39.39.9.59 1.41.59.51 0 1.02-.2 1.41-.59l7.78-7.78 2.81-2.81c.8-.78.8-2.07 0-2.86zM5.41 20L4 18.59l7.72-7.72 1.47 1.35L5.41 20z\"/>\n",
              "  </svg>\n",
              "      </button>\n",
              "      \n",
              "  <style>\n",
              "    .colab-df-container {\n",
              "      display:flex;\n",
              "      flex-wrap:wrap;\n",
              "      gap: 12px;\n",
              "    }\n",
              "\n",
              "    .colab-df-convert {\n",
              "      background-color: #E8F0FE;\n",
              "      border: none;\n",
              "      border-radius: 50%;\n",
              "      cursor: pointer;\n",
              "      display: none;\n",
              "      fill: #1967D2;\n",
              "      height: 32px;\n",
              "      padding: 0 0 0 0;\n",
              "      width: 32px;\n",
              "    }\n",
              "\n",
              "    .colab-df-convert:hover {\n",
              "      background-color: #E2EBFA;\n",
              "      box-shadow: 0px 1px 2px rgba(60, 64, 67, 0.3), 0px 1px 3px 1px rgba(60, 64, 67, 0.15);\n",
              "      fill: #174EA6;\n",
              "    }\n",
              "\n",
              "    [theme=dark] .colab-df-convert {\n",
              "      background-color: #3B4455;\n",
              "      fill: #D2E3FC;\n",
              "    }\n",
              "\n",
              "    [theme=dark] .colab-df-convert:hover {\n",
              "      background-color: #434B5C;\n",
              "      box-shadow: 0px 1px 3px 1px rgba(0, 0, 0, 0.15);\n",
              "      filter: drop-shadow(0px 1px 2px rgba(0, 0, 0, 0.3));\n",
              "      fill: #FFFFFF;\n",
              "    }\n",
              "  </style>\n",
              "\n",
              "      <script>\n",
              "        const buttonEl =\n",
              "          document.querySelector('#df-ceacd9c7-7953-405a-81f1-358d08cfddb0 button.colab-df-convert');\n",
              "        buttonEl.style.display =\n",
              "          google.colab.kernel.accessAllowed ? 'block' : 'none';\n",
              "\n",
              "        async function convertToInteractive(key) {\n",
              "          const element = document.querySelector('#df-ceacd9c7-7953-405a-81f1-358d08cfddb0');\n",
              "          const dataTable =\n",
              "            await google.colab.kernel.invokeFunction('convertToInteractive',\n",
              "                                                     [key], {});\n",
              "          if (!dataTable) return;\n",
              "\n",
              "          const docLinkHtml = 'Like what you see? Visit the ' +\n",
              "            '<a target=\"_blank\" href=https://colab.research.google.com/notebooks/data_table.ipynb>data table notebook</a>'\n",
              "            + ' to learn more about interactive tables.';\n",
              "          element.innerHTML = '';\n",
              "          dataTable['output_type'] = 'display_data';\n",
              "          await google.colab.output.renderOutput(dataTable, element);\n",
              "          const docLink = document.createElement('div');\n",
              "          docLink.innerHTML = docLinkHtml;\n",
              "          element.appendChild(docLink);\n",
              "        }\n",
              "      </script>\n",
              "    </div>\n",
              "  </div>\n",
              "  "
            ]
          },
          "metadata": {},
          "execution_count": 20
        }
      ],
      "source": [
        "#selecionar as três primeiras colunas\n",
        "sel_cols = [\n",
        "    'grade'         ,\n",
        "    'sqft_living'   ,\n",
        "    'yr_built'      ,\n",
        "]\n",
        "\n",
        "X_tr[sel_cols]"
      ]
    },
    {
      "cell_type": "markdown",
      "metadata": {
        "id": "zkOSybQ86giH"
      },
      "source": [
        "## 2.1.6. Padronizar as Variáveis - Normalização"
      ]
    },
    {
      "cell_type": "markdown",
      "metadata": {
        "id": "yYlOFACo6giH"
      },
      "source": [
        "Lembre-se que agrupamento é baseado em distancia se uma variável possui uma escala maior, ela recebe mais peso."
      ]
    },
    {
      "cell_type": "code",
      "execution_count": 21,
      "metadata": {
        "colab": {
          "base_uri": "https://localhost:8080/",
          "height": 455
        },
        "id": "g2vfM7_-6giI",
        "outputId": "e4793c1b-cbc6-4b9d-a02c-79bdcd9f2bb5"
      },
      "outputs": [
        {
          "output_type": "execute_result",
          "data": {
            "text/plain": [
              "                          grade  sqft_living  yr_built\n",
              "id         date                                       \n",
              "7212680850 2014-09-03  0.295106    -0.379294  0.786151\n",
              "3528000140 2014-10-23  1.996166     1.792375  0.581828\n",
              "7697800040 2014-08-26  0.295106     0.079048  0.275344\n",
              "7979900215 2014-06-11 -0.555424    -0.673942 -0.576000\n",
              "420069021  2014-10-27 -0.555424    -0.095558 -0.746269\n",
              "...                         ...          ...       ...\n",
              "5162100650 2014-09-22  0.295106     0.264568  0.547774\n",
              "1150000740 2014-10-03  1.996166    -0.095558  0.615882\n",
              "301401620  2014-10-15 -0.555424    -0.246156  1.467226\n",
              "2946003947 2015-03-02 -0.555424    -1.077720  1.228850\n",
              "7788400065 2015-03-15 -0.555424    -0.881288 -0.541946\n",
              "\n",
              "[16209 rows x 3 columns]"
            ],
            "text/html": [
              "\n",
              "  <div id=\"df-86dffc07-8d7d-445f-bae3-d252dcc438de\">\n",
              "    <div class=\"colab-df-container\">\n",
              "      <div>\n",
              "<style scoped>\n",
              "    .dataframe tbody tr th:only-of-type {\n",
              "        vertical-align: middle;\n",
              "    }\n",
              "\n",
              "    .dataframe tbody tr th {\n",
              "        vertical-align: top;\n",
              "    }\n",
              "\n",
              "    .dataframe thead th {\n",
              "        text-align: right;\n",
              "    }\n",
              "</style>\n",
              "<table border=\"1\" class=\"dataframe\">\n",
              "  <thead>\n",
              "    <tr style=\"text-align: right;\">\n",
              "      <th></th>\n",
              "      <th></th>\n",
              "      <th>grade</th>\n",
              "      <th>sqft_living</th>\n",
              "      <th>yr_built</th>\n",
              "    </tr>\n",
              "    <tr>\n",
              "      <th>id</th>\n",
              "      <th>date</th>\n",
              "      <th></th>\n",
              "      <th></th>\n",
              "      <th></th>\n",
              "    </tr>\n",
              "  </thead>\n",
              "  <tbody>\n",
              "    <tr>\n",
              "      <th>7212680850</th>\n",
              "      <th>2014-09-03</th>\n",
              "      <td>0.295106</td>\n",
              "      <td>-0.379294</td>\n",
              "      <td>0.786151</td>\n",
              "    </tr>\n",
              "    <tr>\n",
              "      <th>3528000140</th>\n",
              "      <th>2014-10-23</th>\n",
              "      <td>1.996166</td>\n",
              "      <td>1.792375</td>\n",
              "      <td>0.581828</td>\n",
              "    </tr>\n",
              "    <tr>\n",
              "      <th>7697800040</th>\n",
              "      <th>2014-08-26</th>\n",
              "      <td>0.295106</td>\n",
              "      <td>0.079048</td>\n",
              "      <td>0.275344</td>\n",
              "    </tr>\n",
              "    <tr>\n",
              "      <th>7979900215</th>\n",
              "      <th>2014-06-11</th>\n",
              "      <td>-0.555424</td>\n",
              "      <td>-0.673942</td>\n",
              "      <td>-0.576000</td>\n",
              "    </tr>\n",
              "    <tr>\n",
              "      <th>420069021</th>\n",
              "      <th>2014-10-27</th>\n",
              "      <td>-0.555424</td>\n",
              "      <td>-0.095558</td>\n",
              "      <td>-0.746269</td>\n",
              "    </tr>\n",
              "    <tr>\n",
              "      <th>...</th>\n",
              "      <th>...</th>\n",
              "      <td>...</td>\n",
              "      <td>...</td>\n",
              "      <td>...</td>\n",
              "    </tr>\n",
              "    <tr>\n",
              "      <th>5162100650</th>\n",
              "      <th>2014-09-22</th>\n",
              "      <td>0.295106</td>\n",
              "      <td>0.264568</td>\n",
              "      <td>0.547774</td>\n",
              "    </tr>\n",
              "    <tr>\n",
              "      <th>1150000740</th>\n",
              "      <th>2014-10-03</th>\n",
              "      <td>1.996166</td>\n",
              "      <td>-0.095558</td>\n",
              "      <td>0.615882</td>\n",
              "    </tr>\n",
              "    <tr>\n",
              "      <th>301401620</th>\n",
              "      <th>2014-10-15</th>\n",
              "      <td>-0.555424</td>\n",
              "      <td>-0.246156</td>\n",
              "      <td>1.467226</td>\n",
              "    </tr>\n",
              "    <tr>\n",
              "      <th>2946003947</th>\n",
              "      <th>2015-03-02</th>\n",
              "      <td>-0.555424</td>\n",
              "      <td>-1.077720</td>\n",
              "      <td>1.228850</td>\n",
              "    </tr>\n",
              "    <tr>\n",
              "      <th>7788400065</th>\n",
              "      <th>2015-03-15</th>\n",
              "      <td>-0.555424</td>\n",
              "      <td>-0.881288</td>\n",
              "      <td>-0.541946</td>\n",
              "    </tr>\n",
              "  </tbody>\n",
              "</table>\n",
              "<p>16209 rows × 3 columns</p>\n",
              "</div>\n",
              "      <button class=\"colab-df-convert\" onclick=\"convertToInteractive('df-86dffc07-8d7d-445f-bae3-d252dcc438de')\"\n",
              "              title=\"Convert this dataframe to an interactive table.\"\n",
              "              style=\"display:none;\">\n",
              "        \n",
              "  <svg xmlns=\"http://www.w3.org/2000/svg\" height=\"24px\"viewBox=\"0 0 24 24\"\n",
              "       width=\"24px\">\n",
              "    <path d=\"M0 0h24v24H0V0z\" fill=\"none\"/>\n",
              "    <path d=\"M18.56 5.44l.94 2.06.94-2.06 2.06-.94-2.06-.94-.94-2.06-.94 2.06-2.06.94zm-11 1L8.5 8.5l.94-2.06 2.06-.94-2.06-.94L8.5 2.5l-.94 2.06-2.06.94zm10 10l.94 2.06.94-2.06 2.06-.94-2.06-.94-.94-2.06-.94 2.06-2.06.94z\"/><path d=\"M17.41 7.96l-1.37-1.37c-.4-.4-.92-.59-1.43-.59-.52 0-1.04.2-1.43.59L10.3 9.45l-7.72 7.72c-.78.78-.78 2.05 0 2.83L4 21.41c.39.39.9.59 1.41.59.51 0 1.02-.2 1.41-.59l7.78-7.78 2.81-2.81c.8-.78.8-2.07 0-2.86zM5.41 20L4 18.59l7.72-7.72 1.47 1.35L5.41 20z\"/>\n",
              "  </svg>\n",
              "      </button>\n",
              "      \n",
              "  <style>\n",
              "    .colab-df-container {\n",
              "      display:flex;\n",
              "      flex-wrap:wrap;\n",
              "      gap: 12px;\n",
              "    }\n",
              "\n",
              "    .colab-df-convert {\n",
              "      background-color: #E8F0FE;\n",
              "      border: none;\n",
              "      border-radius: 50%;\n",
              "      cursor: pointer;\n",
              "      display: none;\n",
              "      fill: #1967D2;\n",
              "      height: 32px;\n",
              "      padding: 0 0 0 0;\n",
              "      width: 32px;\n",
              "    }\n",
              "\n",
              "    .colab-df-convert:hover {\n",
              "      background-color: #E2EBFA;\n",
              "      box-shadow: 0px 1px 2px rgba(60, 64, 67, 0.3), 0px 1px 3px 1px rgba(60, 64, 67, 0.15);\n",
              "      fill: #174EA6;\n",
              "    }\n",
              "\n",
              "    [theme=dark] .colab-df-convert {\n",
              "      background-color: #3B4455;\n",
              "      fill: #D2E3FC;\n",
              "    }\n",
              "\n",
              "    [theme=dark] .colab-df-convert:hover {\n",
              "      background-color: #434B5C;\n",
              "      box-shadow: 0px 1px 3px 1px rgba(0, 0, 0, 0.15);\n",
              "      filter: drop-shadow(0px 1px 2px rgba(0, 0, 0, 0.3));\n",
              "      fill: #FFFFFF;\n",
              "    }\n",
              "  </style>\n",
              "\n",
              "      <script>\n",
              "        const buttonEl =\n",
              "          document.querySelector('#df-86dffc07-8d7d-445f-bae3-d252dcc438de button.colab-df-convert');\n",
              "        buttonEl.style.display =\n",
              "          google.colab.kernel.accessAllowed ? 'block' : 'none';\n",
              "\n",
              "        async function convertToInteractive(key) {\n",
              "          const element = document.querySelector('#df-86dffc07-8d7d-445f-bae3-d252dcc438de');\n",
              "          const dataTable =\n",
              "            await google.colab.kernel.invokeFunction('convertToInteractive',\n",
              "                                                     [key], {});\n",
              "          if (!dataTable) return;\n",
              "\n",
              "          const docLinkHtml = 'Like what you see? Visit the ' +\n",
              "            '<a target=\"_blank\" href=https://colab.research.google.com/notebooks/data_table.ipynb>data table notebook</a>'\n",
              "            + ' to learn more about interactive tables.';\n",
              "          element.innerHTML = '';\n",
              "          dataTable['output_type'] = 'display_data';\n",
              "          await google.colab.output.renderOutput(dataTable, element);\n",
              "          const docLink = document.createElement('div');\n",
              "          docLink.innerHTML = docLinkHtml;\n",
              "          element.appendChild(docLink);\n",
              "        }\n",
              "      </script>\n",
              "    </div>\n",
              "  </div>\n",
              "  "
            ]
          },
          "metadata": {},
          "execution_count": 21
        }
      ],
      "source": [
        "#Normalização\n",
        "scaler = StandardScaler()\n",
        "scaler.fit(X_tr[sel_cols], y_tr)\n",
        "\n",
        "X_tr_s = pd.DataFrame(scaler.transform(X_tr[sel_cols]), index=X_tr.index, columns=sel_cols)\n",
        "X_ts_s = pd.DataFrame(scaler.transform(X_ts[sel_cols]), index=X_ts.index, columns=sel_cols)\n",
        "\n",
        "X_tr_s"
      ]
    },
    {
      "cell_type": "markdown",
      "metadata": {
        "id": "p20YyqOW6giJ"
      },
      "source": [
        "# 3.0 Passo 03 - Análise de Cluster"
      ]
    },
    {
      "cell_type": "markdown",
      "metadata": {
        "id": "mhnTHeyM6giJ"
      },
      "source": [
        "## 3.01. Criar cópia"
      ]
    },
    {
      "cell_type": "code",
      "execution_count": 22,
      "metadata": {
        "id": "z7NXjbRu6giK"
      },
      "outputs": [],
      "source": [
        "df3 = df2.copy()"
      ]
    },
    {
      "cell_type": "markdown",
      "metadata": {
        "id": "MZchGRtV6giK"
      },
      "source": [
        "## 3.02. Escolher o número de clusters - Método Elbow"
      ]
    },
    {
      "cell_type": "code",
      "execution_count": 23,
      "metadata": {
        "colab": {
          "base_uri": "https://localhost:8080/"
        },
        "id": "-6nYnVRU6giL",
        "outputId": "44ee9bda-db5e-44b1-b55e-27e174a14751"
      },
      "outputs": [
        {
          "output_type": "stream",
          "name": "stdout",
          "text": [
            "2\n",
            "3\n",
            "4\n",
            "5\n",
            "6\n",
            "7\n",
            "8\n",
            "9\n",
            "10\n",
            "11\n",
            "12\n",
            "13\n",
            "14\n",
            "15\n",
            "16\n",
            "17\n",
            "18\n",
            "19\n",
            "20\n"
          ]
        },
        {
          "output_type": "execute_result",
          "data": {
            "text/plain": [
              "[28031.666746193405,\n",
              " 19474.60255498303,\n",
              " 16615.57970383796,\n",
              " 14102.4504633194,\n",
              " 12221.237024744642,\n",
              " 10919.444137590232,\n",
              " 9996.594658682137,\n",
              " 9190.527993341286,\n",
              " 8509.1451513639,\n",
              " 7932.503079995185,\n",
              " 7379.478180003121,\n",
              " 6872.050513929433,\n",
              " 6504.376368270288,\n",
              " 6187.92742230972,\n",
              " 5884.812949142046,\n",
              " 5615.314144413938,\n",
              " 5346.553689256127,\n",
              " 5119.183962261457,\n",
              " 4910.347013660918]"
            ]
          },
          "metadata": {},
          "execution_count": 23
        }
      ],
      "source": [
        "#rodar o algoritmo para diferentes valores de K \n",
        "n_clusts = range(2,21)\n",
        "inercias = []\n",
        "for n_clus in n_clusts:\n",
        "    print(n_clus)\n",
        "    Km = KMeans(n_clusters = n_clus, n_init = 200, max_iter = 3000)\n",
        "    Km.fit(X_tr_s)\n",
        "    inercias.append( Km.inertia_ )\n",
        "    \n",
        "inercias"
      ]
    },
    {
      "cell_type": "markdown",
      "metadata": {
        "id": "D4s3oZcm6giM"
      },
      "source": [
        "## 3.03. Gráfico Elbow"
      ]
    },
    {
      "cell_type": "code",
      "execution_count": 24,
      "metadata": {
        "colab": {
          "base_uri": "https://localhost:8080/",
          "height": 428
        },
        "id": "VHh_R1T36giM",
        "outputId": "9e5bf635-77ab-4241-8c96-65e7401ccf89"
      },
      "outputs": [
        {
          "output_type": "display_data",
          "data": {
            "text/plain": [
              "<Figure size 504x504 with 1 Axes>"
            ],
            "image/png": "[encoded data removed]"
          },
          "metadata": {
            "needs_background": "light"
          }
        }
      ],
      "source": [
        "# definir o numero ideal do cluster\n",
        "plt.figure(figsize=(7,7))\n",
        "plt.plot(n_clusts, inercias, 'o-')\n",
        "plt.xticks(n_clusts)\n",
        "plt.grid();"
      ]
    },
    {
      "cell_type": "markdown",
      "metadata": {
        "id": "NB657aDn6giN"
      },
      "source": [
        "- A localização de uma curva (cotovelo) na trama é geralmente considerada como um indicador do número apropriado de clusters.\n",
        "\n",
        "\n",
        "- Existem quedas em 5, 6, e 7. \n",
        "\n",
        "\n",
        "- Para este estudo estamos considerando o número apropriado dentro da premissa da área de negócio cluster igual a cinco. "
      ]
    },
    {
      "cell_type": "markdown",
      "metadata": {
        "id": "tqKO1Ppl6giO"
      },
      "source": [
        "## 3.04. Definir o agrupamento"
      ]
    },
    {
      "cell_type": "code",
      "execution_count": 25,
      "metadata": {
        "id": "HyMzkagL6giO"
      },
      "outputs": [],
      "source": [
        "#Definir o agrupamento em cinco grupos\n",
        "n_clus = 5\n",
        "km = KMeans(n_clusters=n_clus, n_init=200, max_iter=3000, random_state=61658)\n",
        "km.fit(X_tr_s)\n",
        "\n",
        "#criar um cópia\n",
        "X_tr_clus = X_tr.copy()\n",
        "X_ts_clus = X_ts.copy()\n",
        "\n",
        "#juntar os dataframe\n",
        "X_tr_clus = X_tr_clus.join(y_tr)\n",
        "X_ts_clus = X_ts_clus.join(y_ts)\n",
        "\n",
        "X_tr_clus.loc[:,'cluster'] = km.predict(X_tr_s)\n",
        "X_ts_clus.loc[:,'cluster'] = km.predict(X_ts_s)"
      ]
    },
    {
      "cell_type": "code",
      "execution_count": 26,
      "metadata": {
        "scrolled": false,
        "colab": {
          "base_uri": "https://localhost:8080/",
          "height": 693
        },
        "id": "n0FFn80W6giP",
        "outputId": "215dea89-7d65-495b-9064-2d51a79c13c4"
      },
      "outputs": [
        {
          "output_type": "execute_result",
          "data": {
            "text/plain": [
              "                       bedrooms  bathrooms  sqft_living  sqft_lot  floors  \\\n",
              "id         date                                                             \n",
              "7212680850 2014-09-03         3       2.50         1730      6930     2.0   \n",
              "3528000140 2014-10-23         4       2.50         3720     30649     2.0   \n",
              "7697800040 2014-08-26         4       2.75         2150      9820     1.0   \n",
              "7979900215 2014-06-11         3       1.50         1460     11407     1.0   \n",
              "420069021  2014-10-27         3       2.00         1990    203861     1.0   \n",
              "...                         ...        ...          ...       ...     ...   \n",
              "5162100650 2014-09-22         4       2.50         2320      7379     2.0   \n",
              "1150000740 2014-10-03         4       2.50         1990      8034     2.0   \n",
              "301401620  2014-10-15         3       2.50         1852      4000     2.0   \n",
              "2946003947 2015-03-02         2       2.50         1090     13444     2.0   \n",
              "7788400065 2015-03-15         3       1.00         1270      8925     1.0   \n",
              "\n",
              "                       waterfront  view  condition  grade  sqft_above  \\\n",
              "id         date                                                         \n",
              "7212680850 2014-09-03           0     0          3      8        1730   \n",
              "3528000140 2014-10-23           0     0          3     10        3720   \n",
              "7697800040 2014-08-26           0     0          4      8        1220   \n",
              "7979900215 2014-06-11           0     0          3      7        1460   \n",
              "420069021  2014-10-27           0     0          3      7        1990   \n",
              "...                           ...   ...        ...    ...         ...   \n",
              "5162100650 2014-09-22           0     0          3      8        2320   \n",
              "1150000740 2014-10-03           0     0          4     10        1990   \n",
              "301401620  2014-10-15           0     0          3      7        1852   \n",
              "2946003947 2015-03-02           0     0          3      7        1090   \n",
              "7788400065 2015-03-15           0     0          5      7        1270   \n",
              "\n",
              "                       yr_built  sqft_living15  sqft_lot15     price  cluster  \n",
              "id         date                                                                \n",
              "7212680850 2014-09-03      1994           1780        6930  258000.0        4  \n",
              "3528000140 2014-10-23      1988           3220       29434  899000.0        2  \n",
              "7697800040 2014-08-26      1979           2060        9830  470000.0        4  \n",
              "7979900215 2014-06-11      1954           1470       11407  381000.0        0  \n",
              "420069021  2014-10-27      1949           2760      217800  246000.0        3  \n",
              "...                         ...            ...         ...       ...      ...  \n",
              "5162100650 2014-09-22      1987           2230        7614  316000.0        1  \n",
              "1150000740 2014-10-03      1989           2580        8034  639000.0        1  \n",
              "301401620  2014-10-15      2014           2475        4000  298900.0        4  \n",
              "2946003947 2015-03-02      2007           1380        6000  204000.0        4  \n",
              "7788400065 2015-03-15      1955           1270        8996  317000.0        0  \n",
              "\n",
              "[16209 rows x 15 columns]"
            ],
            "text/html": [
              "\n",
              "  <div id=\"df-c831c723-9821-43c8-ad9d-a87acb0d632f\">\n",
              "    <div class=\"colab-df-container\">\n",
              "      <div>\n",
              "<style scoped>\n",
              "    .dataframe tbody tr th:only-of-type {\n",
              "        vertical-align: middle;\n",
              "    }\n",
              "\n",
              "    .dataframe tbody tr th {\n",
              "        vertical-align: top;\n",
              "    }\n",
              "\n",
              "    .dataframe thead th {\n",
              "        text-align: right;\n",
              "    }\n",
              "</style>\n",
              "<table border=\"1\" class=\"dataframe\">\n",
              "  <thead>\n",
              "    <tr style=\"text-align: right;\">\n",
              "      <th></th>\n",
              "      <th></th>\n",
              "      <th>bedrooms</th>\n",
              "      <th>bathrooms</th>\n",
              "      <th>sqft_living</th>\n",
              "      <th>sqft_lot</th>\n",
              "      <th>floors</th>\n",
              "      <th>waterfront</th>\n",
              "      <th>view</th>\n",
              "      <th>condition</th>\n",
              "      <th>grade</th>\n",
              "      <th>sqft_above</th>\n",
              "      <th>yr_built</th>\n",
              "      <th>sqft_living15</th>\n",
              "      <th>sqft_lot15</th>\n",
              "      <th>price</th>\n",
              "      <th>cluster</th>\n",
              "    </tr>\n",
              "    <tr>\n",
              "      <th>id</th>\n",
              "      <th>date</th>\n",
              "      <th></th>\n",
              "      <th></th>\n",
              "      <th></th>\n",
              "      <th></th>\n",
              "      <th></th>\n",
              "      <th></th>\n",
              "      <th></th>\n",
              "      <th></th>\n",
              "      <th></th>\n",
              "      <th></th>\n",
              "      <th></th>\n",
              "      <th></th>\n",
              "      <th></th>\n",
              "      <th></th>\n",
              "      <th></th>\n",
              "    </tr>\n",
              "  </thead>\n",
              "  <tbody>\n",
              "    <tr>\n",
              "      <th>7212680850</th>\n",
              "      <th>2014-09-03</th>\n",
              "      <td>3</td>\n",
              "      <td>2.50</td>\n",
              "      <td>1730</td>\n",
              "      <td>6930</td>\n",
              "      <td>2.0</td>\n",
              "      <td>0</td>\n",
              "      <td>0</td>\n",
              "      <td>3</td>\n",
              "      <td>8</td>\n",
              "      <td>1730</td>\n",
              "      <td>1994</td>\n",
              "      <td>1780</td>\n",
              "      <td>6930</td>\n",
              "      <td>258000.0</td>\n",
              "      <td>4</td>\n",
              "    </tr>\n",
              "    <tr>\n",
              "      <th>3528000140</th>\n",
              "      <th>2014-10-23</th>\n",
              "      <td>4</td>\n",
              "      <td>2.50</td>\n",
              "      <td>3720</td>\n",
              "      <td>30649</td>\n",
              "      <td>2.0</td>\n",
              "      <td>0</td>\n",
              "      <td>0</td>\n",
              "      <td>3</td>\n",
              "      <td>10</td>\n",
              "      <td>3720</td>\n",
              "      <td>1988</td>\n",
              "      <td>3220</td>\n",
              "      <td>29434</td>\n",
              "      <td>899000.0</td>\n",
              "      <td>2</td>\n",
              "    </tr>\n",
              "    <tr>\n",
              "      <th>7697800040</th>\n",
              "      <th>2014-08-26</th>\n",
              "      <td>4</td>\n",
              "      <td>2.75</td>\n",
              "      <td>2150</td>\n",
              "      <td>9820</td>\n",
              "      <td>1.0</td>\n",
              "      <td>0</td>\n",
              "      <td>0</td>\n",
              "      <td>4</td>\n",
              "      <td>8</td>\n",
              "      <td>1220</td>\n",
              "      <td>1979</td>\n",
              "      <td>2060</td>\n",
              "      <td>9830</td>\n",
              "      <td>470000.0</td>\n",
              "      <td>4</td>\n",
              "    </tr>\n",
              "    <tr>\n",
              "      <th>7979900215</th>\n",
              "      <th>2014-06-11</th>\n",
              "      <td>3</td>\n",
              "      <td>1.50</td>\n",
              "      <td>1460</td>\n",
              "      <td>11407</td>\n",
              "      <td>1.0</td>\n",
              "      <td>0</td>\n",
              "      <td>0</td>\n",
              "      <td>3</td>\n",
              "      <td>7</td>\n",
              "      <td>1460</td>\n",
              "      <td>1954</td>\n",
              "      <td>1470</td>\n",
              "      <td>11407</td>\n",
              "      <td>381000.0</td>\n",
              "      <td>0</td>\n",
              "    </tr>\n",
              "    <tr>\n",
              "      <th>420069021</th>\n",
              "      <th>2014-10-27</th>\n",
              "      <td>3</td>\n",
              "      <td>2.00</td>\n",
              "      <td>1990</td>\n",
              "      <td>203861</td>\n",
              "      <td>1.0</td>\n",
              "      <td>0</td>\n",
              "      <td>0</td>\n",
              "      <td>3</td>\n",
              "      <td>7</td>\n",
              "      <td>1990</td>\n",
              "      <td>1949</td>\n",
              "      <td>2760</td>\n",
              "      <td>217800</td>\n",
              "      <td>246000.0</td>\n",
              "      <td>3</td>\n",
              "    </tr>\n",
              "    <tr>\n",
              "      <th>...</th>\n",
              "      <th>...</th>\n",
              "      <td>...</td>\n",
              "      <td>...</td>\n",
              "      <td>...</td>\n",
              "      <td>...</td>\n",
              "      <td>...</td>\n",
              "      <td>...</td>\n",
              "      <td>...</td>\n",
              "      <td>...</td>\n",
              "      <td>...</td>\n",
              "      <td>...</td>\n",
              "      <td>...</td>\n",
              "      <td>...</td>\n",
              "      <td>...</td>\n",
              "      <td>...</td>\n",
              "      <td>...</td>\n",
              "    </tr>\n",
              "    <tr>\n",
              "      <th>5162100650</th>\n",
              "      <th>2014-09-22</th>\n",
              "      <td>4</td>\n",
              "      <td>2.50</td>\n",
              "      <td>2320</td>\n",
              "      <td>7379</td>\n",
              "      <td>2.0</td>\n",
              "      <td>0</td>\n",
              "      <td>0</td>\n",
              "      <td>3</td>\n",
              "      <td>8</td>\n",
              "      <td>2320</td>\n",
              "      <td>1987</td>\n",
              "      <td>2230</td>\n",
              "      <td>7614</td>\n",
              "      <td>316000.0</td>\n",
              "      <td>1</td>\n",
              "    </tr>\n",
              "    <tr>\n",
              "      <th>1150000740</th>\n",
              "      <th>2014-10-03</th>\n",
              "      <td>4</td>\n",
              "      <td>2.50</td>\n",
              "      <td>1990</td>\n",
              "      <td>8034</td>\n",
              "      <td>2.0</td>\n",
              "      <td>0</td>\n",
              "      <td>0</td>\n",
              "      <td>4</td>\n",
              "      <td>10</td>\n",
              "      <td>1990</td>\n",
              "      <td>1989</td>\n",
              "      <td>2580</td>\n",
              "      <td>8034</td>\n",
              "      <td>639000.0</td>\n",
              "      <td>1</td>\n",
              "    </tr>\n",
              "    <tr>\n",
              "      <th>301401620</th>\n",
              "      <th>2014-10-15</th>\n",
              "      <td>3</td>\n",
              "      <td>2.50</td>\n",
              "      <td>1852</td>\n",
              "      <td>4000</td>\n",
              "      <td>2.0</td>\n",
              "      <td>0</td>\n",
              "      <td>0</td>\n",
              "      <td>3</td>\n",
              "      <td>7</td>\n",
              "      <td>1852</td>\n",
              "      <td>2014</td>\n",
              "      <td>2475</td>\n",
              "      <td>4000</td>\n",
              "      <td>298900.0</td>\n",
              "      <td>4</td>\n",
              "    </tr>\n",
              "    <tr>\n",
              "      <th>2946003947</th>\n",
              "      <th>2015-03-02</th>\n",
              "      <td>2</td>\n",
              "      <td>2.50</td>\n",
              "      <td>1090</td>\n",
              "      <td>13444</td>\n",
              "      <td>2.0</td>\n",
              "      <td>0</td>\n",
              "      <td>0</td>\n",
              "      <td>3</td>\n",
              "      <td>7</td>\n",
              "      <td>1090</td>\n",
              "      <td>2007</td>\n",
              "      <td>1380</td>\n",
              "      <td>6000</td>\n",
              "      <td>204000.0</td>\n",
              "      <td>4</td>\n",
              "    </tr>\n",
              "    <tr>\n",
              "      <th>7788400065</th>\n",
              "      <th>2015-03-15</th>\n",
              "      <td>3</td>\n",
              "      <td>1.00</td>\n",
              "      <td>1270</td>\n",
              "      <td>8925</td>\n",
              "      <td>1.0</td>\n",
              "      <td>0</td>\n",
              "      <td>0</td>\n",
              "      <td>5</td>\n",
              "      <td>7</td>\n",
              "      <td>1270</td>\n",
              "      <td>1955</td>\n",
              "      <td>1270</td>\n",
              "      <td>8996</td>\n",
              "      <td>317000.0</td>\n",
              "      <td>0</td>\n",
              "    </tr>\n",
              "  </tbody>\n",
              "</table>\n",
              "<p>16209 rows × 15 columns</p>\n",
              "</div>\n",
              "      <button class=\"colab-df-convert\" onclick=\"convertToInteractive('df-c831c723-9821-43c8-ad9d-a87acb0d632f')\"\n",
              "              title=\"Convert this dataframe to an interactive table.\"\n",
              "              style=\"display:none;\">\n",
              "        \n",
              "  <svg xmlns=\"http://www.w3.org/2000/svg\" height=\"24px\"viewBox=\"0 0 24 24\"\n",
              "       width=\"24px\">\n",
              "    <path d=\"M0 0h24v24H0V0z\" fill=\"none\"/>\n",
              "    <path d=\"M18.56 5.44l.94 2.06.94-2.06 2.06-.94-2.06-.94-.94-2.06-.94 2.06-2.06.94zm-11 1L8.5 8.5l.94-2.06 2.06-.94-2.06-.94L8.5 2.5l-.94 2.06-2.06.94zm10 10l.94 2.06.94-2.06 2.06-.94-2.06-.94-.94-2.06-.94 2.06-2.06.94z\"/><path d=\"M17.41 7.96l-1.37-1.37c-.4-.4-.92-.59-1.43-.59-.52 0-1.04.2-1.43.59L10.3 9.45l-7.72 7.72c-.78.78-.78 2.05 0 2.83L4 21.41c.39.39.9.59 1.41.59.51 0 1.02-.2 1.41-.59l7.78-7.78 2.81-2.81c.8-.78.8-2.07 0-2.86zM5.41 20L4 18.59l7.72-7.72 1.47 1.35L5.41 20z\"/>\n",
              "  </svg>\n",
              "      </button>\n",
              "      \n",
              "  <style>\n",
              "    .colab-df-container {\n",
              "      display:flex;\n",
              "      flex-wrap:wrap;\n",
              "      gap: 12px;\n",
              "    }\n",
              "\n",
              "    .colab-df-convert {\n",
              "      background-color: #E8F0FE;\n",
              "      border: none;\n",
              "      border-radius: 50%;\n",
              "      cursor: pointer;\n",
              "      display: none;\n",
              "      fill: #1967D2;\n",
              "      height: 32px;\n",
              "      padding: 0 0 0 0;\n",
              "      width: 32px;\n",
              "    }\n",
              "\n",
              "    .colab-df-convert:hover {\n",
              "      background-color: #E2EBFA;\n",
              "      box-shadow: 0px 1px 2px rgba(60, 64, 67, 0.3), 0px 1px 3px 1px rgba(60, 64, 67, 0.15);\n",
              "      fill: #174EA6;\n",
              "    }\n",
              "\n",
              "    [theme=dark] .colab-df-convert {\n",
              "      background-color: #3B4455;\n",
              "      fill: #D2E3FC;\n",
              "    }\n",
              "\n",
              "    [theme=dark] .colab-df-convert:hover {\n",
              "      background-color: #434B5C;\n",
              "      box-shadow: 0px 1px 3px 1px rgba(0, 0, 0, 0.15);\n",
              "      filter: drop-shadow(0px 1px 2px rgba(0, 0, 0, 0.3));\n",
              "      fill: #FFFFFF;\n",
              "    }\n",
              "  </style>\n",
              "\n",
              "      <script>\n",
              "        const buttonEl =\n",
              "          document.querySelector('#df-c831c723-9821-43c8-ad9d-a87acb0d632f button.colab-df-convert');\n",
              "        buttonEl.style.display =\n",
              "          google.colab.kernel.accessAllowed ? 'block' : 'none';\n",
              "\n",
              "        async function convertToInteractive(key) {\n",
              "          const element = document.querySelector('#df-c831c723-9821-43c8-ad9d-a87acb0d632f');\n",
              "          const dataTable =\n",
              "            await google.colab.kernel.invokeFunction('convertToInteractive',\n",
              "                                                     [key], {});\n",
              "          if (!dataTable) return;\n",
              "\n",
              "          const docLinkHtml = 'Like what you see? Visit the ' +\n",
              "            '<a target=\"_blank\" href=https://colab.research.google.com/notebooks/data_table.ipynb>data table notebook</a>'\n",
              "            + ' to learn more about interactive tables.';\n",
              "          element.innerHTML = '';\n",
              "          dataTable['output_type'] = 'display_data';\n",
              "          await google.colab.output.renderOutput(dataTable, element);\n",
              "          const docLink = document.createElement('div');\n",
              "          docLink.innerHTML = docLinkHtml;\n",
              "          element.appendChild(docLink);\n",
              "        }\n",
              "      </script>\n",
              "    </div>\n",
              "  </div>\n",
              "  "
            ]
          },
          "metadata": {},
          "execution_count": 26
        }
      ],
      "source": [
        "X_tr_clus"
      ]
    },
    {
      "cell_type": "markdown",
      "metadata": {
        "id": "jexJK9_-6giQ"
      },
      "source": [
        "# 4.0 Passo 04 - Caracterização dos Grupos"
      ]
    },
    {
      "cell_type": "markdown",
      "metadata": {
        "id": "fNQ71EC56giQ"
      },
      "source": [
        "## 4.01.Interpretar os clusters"
      ]
    },
    {
      "cell_type": "code",
      "execution_count": 27,
      "metadata": {
        "colab": {
          "base_uri": "https://localhost:8080/",
          "height": 269
        },
        "id": "hQxt1Ot16giR",
        "outputId": "8ff7c66a-a6be-41b3-a448-8c73d7f343eb"
      },
      "outputs": [
        {
          "output_type": "execute_result",
          "data": {
            "text/plain": [
              "        grade              sqft_living                 yr_built          \\\n",
              "          q05 median   q95         q05  median     q95      q05  median   \n",
              "cluster                                                                   \n",
              "0         6.0    7.0   7.0       740.0  1260.0  1840.0   1908.0  1944.5   \n",
              "1         8.0    9.0  10.0      2090.0  2650.0  3460.0   1974.0  1998.0   \n",
              "2         9.0   10.0  12.0      3100.0  3920.0  6050.0   1952.9  1996.0   \n",
              "3         7.0    8.0   9.0      1691.0  2270.0  3438.0   1906.1  1953.0   \n",
              "4         7.0    7.0   8.0      1090.0  1690.0  2300.0   1967.0  1987.5   \n",
              "\n",
              "                     price                        \n",
              "             q95       q05     median        q95  \n",
              "cluster                                           \n",
              "0        1964.00  166855.0   350000.0   677150.0  \n",
              "1        2014.00  330000.0   590000.0   992300.0  \n",
              "2        2013.00  574000.0  1049990.0  2705000.0  \n",
              "3        1967.00  279100.0   607000.0  1288100.0  \n",
              "4        2009.75  219237.5   360000.0   605000.0  "
            ],
            "text/html": [
              "\n",
              "  <div id=\"df-03789e6e-1e05-40f6-a024-e9908b196e09\">\n",
              "    <div class=\"colab-df-container\">\n",
              "      <div>\n",
              "<style scoped>\n",
              "    .dataframe tbody tr th:only-of-type {\n",
              "        vertical-align: middle;\n",
              "    }\n",
              "\n",
              "    .dataframe tbody tr th {\n",
              "        vertical-align: top;\n",
              "    }\n",
              "\n",
              "    .dataframe thead tr th {\n",
              "        text-align: left;\n",
              "    }\n",
              "\n",
              "    .dataframe thead tr:last-of-type th {\n",
              "        text-align: right;\n",
              "    }\n",
              "</style>\n",
              "<table border=\"1\" class=\"dataframe\">\n",
              "  <thead>\n",
              "    <tr>\n",
              "      <th></th>\n",
              "      <th colspan=\"3\" halign=\"left\">grade</th>\n",
              "      <th colspan=\"3\" halign=\"left\">sqft_living</th>\n",
              "      <th colspan=\"3\" halign=\"left\">yr_built</th>\n",
              "      <th colspan=\"3\" halign=\"left\">price</th>\n",
              "    </tr>\n",
              "    <tr>\n",
              "      <th></th>\n",
              "      <th>q05</th>\n",
              "      <th>median</th>\n",
              "      <th>q95</th>\n",
              "      <th>q05</th>\n",
              "      <th>median</th>\n",
              "      <th>q95</th>\n",
              "      <th>q05</th>\n",
              "      <th>median</th>\n",
              "      <th>q95</th>\n",
              "      <th>q05</th>\n",
              "      <th>median</th>\n",
              "      <th>q95</th>\n",
              "    </tr>\n",
              "    <tr>\n",
              "      <th>cluster</th>\n",
              "      <th></th>\n",
              "      <th></th>\n",
              "      <th></th>\n",
              "      <th></th>\n",
              "      <th></th>\n",
              "      <th></th>\n",
              "      <th></th>\n",
              "      <th></th>\n",
              "      <th></th>\n",
              "      <th></th>\n",
              "      <th></th>\n",
              "      <th></th>\n",
              "    </tr>\n",
              "  </thead>\n",
              "  <tbody>\n",
              "    <tr>\n",
              "      <th>0</th>\n",
              "      <td>6.0</td>\n",
              "      <td>7.0</td>\n",
              "      <td>7.0</td>\n",
              "      <td>740.0</td>\n",
              "      <td>1260.0</td>\n",
              "      <td>1840.0</td>\n",
              "      <td>1908.0</td>\n",
              "      <td>1944.5</td>\n",
              "      <td>1964.00</td>\n",
              "      <td>166855.0</td>\n",
              "      <td>350000.0</td>\n",
              "      <td>677150.0</td>\n",
              "    </tr>\n",
              "    <tr>\n",
              "      <th>1</th>\n",
              "      <td>8.0</td>\n",
              "      <td>9.0</td>\n",
              "      <td>10.0</td>\n",
              "      <td>2090.0</td>\n",
              "      <td>2650.0</td>\n",
              "      <td>3460.0</td>\n",
              "      <td>1974.0</td>\n",
              "      <td>1998.0</td>\n",
              "      <td>2014.00</td>\n",
              "      <td>330000.0</td>\n",
              "      <td>590000.0</td>\n",
              "      <td>992300.0</td>\n",
              "    </tr>\n",
              "    <tr>\n",
              "      <th>2</th>\n",
              "      <td>9.0</td>\n",
              "      <td>10.0</td>\n",
              "      <td>12.0</td>\n",
              "      <td>3100.0</td>\n",
              "      <td>3920.0</td>\n",
              "      <td>6050.0</td>\n",
              "      <td>1952.9</td>\n",
              "      <td>1996.0</td>\n",
              "      <td>2013.00</td>\n",
              "      <td>574000.0</td>\n",
              "      <td>1049990.0</td>\n",
              "      <td>2705000.0</td>\n",
              "    </tr>\n",
              "    <tr>\n",
              "      <th>3</th>\n",
              "      <td>7.0</td>\n",
              "      <td>8.0</td>\n",
              "      <td>9.0</td>\n",
              "      <td>1691.0</td>\n",
              "      <td>2270.0</td>\n",
              "      <td>3438.0</td>\n",
              "      <td>1906.1</td>\n",
              "      <td>1953.0</td>\n",
              "      <td>1967.00</td>\n",
              "      <td>279100.0</td>\n",
              "      <td>607000.0</td>\n",
              "      <td>1288100.0</td>\n",
              "    </tr>\n",
              "    <tr>\n",
              "      <th>4</th>\n",
              "      <td>7.0</td>\n",
              "      <td>7.0</td>\n",
              "      <td>8.0</td>\n",
              "      <td>1090.0</td>\n",
              "      <td>1690.0</td>\n",
              "      <td>2300.0</td>\n",
              "      <td>1967.0</td>\n",
              "      <td>1987.5</td>\n",
              "      <td>2009.75</td>\n",
              "      <td>219237.5</td>\n",
              "      <td>360000.0</td>\n",
              "      <td>605000.0</td>\n",
              "    </tr>\n",
              "  </tbody>\n",
              "</table>\n",
              "</div>\n",
              "      <button class=\"colab-df-convert\" onclick=\"convertToInteractive('df-03789e6e-1e05-40f6-a024-e9908b196e09')\"\n",
              "              title=\"Convert this dataframe to an interactive table.\"\n",
              "              style=\"display:none;\">\n",
              "        \n",
              "  <svg xmlns=\"http://www.w3.org/2000/svg\" height=\"24px\"viewBox=\"0 0 24 24\"\n",
              "       width=\"24px\">\n",
              "    <path d=\"M0 0h24v24H0V0z\" fill=\"none\"/>\n",
              "    <path d=\"M18.56 5.44l.94 2.06.94-2.06 2.06-.94-2.06-.94-.94-2.06-.94 2.06-2.06.94zm-11 1L8.5 8.5l.94-2.06 2.06-.94-2.06-.94L8.5 2.5l-.94 2.06-2.06.94zm10 10l.94 2.06.94-2.06 2.06-.94-2.06-.94-.94-2.06-.94 2.06-2.06.94z\"/><path d=\"M17.41 7.96l-1.37-1.37c-.4-.4-.92-.59-1.43-.59-.52 0-1.04.2-1.43.59L10.3 9.45l-7.72 7.72c-.78.78-.78 2.05 0 2.83L4 21.41c.39.39.9.59 1.41.59.51 0 1.02-.2 1.41-.59l7.78-7.78 2.81-2.81c.8-.78.8-2.07 0-2.86zM5.41 20L4 18.59l7.72-7.72 1.47 1.35L5.41 20z\"/>\n",
              "  </svg>\n",
              "      </button>\n",
              "      \n",
              "  <style>\n",
              "    .colab-df-container {\n",
              "      display:flex;\n",
              "      flex-wrap:wrap;\n",
              "      gap: 12px;\n",
              "    }\n",
              "\n",
              "    .colab-df-convert {\n",
              "      background-color: #E8F0FE;\n",
              "      border: none;\n",
              "      border-radius: 50%;\n",
              "      cursor: pointer;\n",
              "      display: none;\n",
              "      fill: #1967D2;\n",
              "      height: 32px;\n",
              "      padding: 0 0 0 0;\n",
              "      width: 32px;\n",
              "    }\n",
              "\n",
              "    .colab-df-convert:hover {\n",
              "      background-color: #E2EBFA;\n",
              "      box-shadow: 0px 1px 2px rgba(60, 64, 67, 0.3), 0px 1px 3px 1px rgba(60, 64, 67, 0.15);\n",
              "      fill: #174EA6;\n",
              "    }\n",
              "\n",
              "    [theme=dark] .colab-df-convert {\n",
              "      background-color: #3B4455;\n",
              "      fill: #D2E3FC;\n",
              "    }\n",
              "\n",
              "    [theme=dark] .colab-df-convert:hover {\n",
              "      background-color: #434B5C;\n",
              "      box-shadow: 0px 1px 3px 1px rgba(0, 0, 0, 0.15);\n",
              "      filter: drop-shadow(0px 1px 2px rgba(0, 0, 0, 0.3));\n",
              "      fill: #FFFFFF;\n",
              "    }\n",
              "  </style>\n",
              "\n",
              "      <script>\n",
              "        const buttonEl =\n",
              "          document.querySelector('#df-03789e6e-1e05-40f6-a024-e9908b196e09 button.colab-df-convert');\n",
              "        buttonEl.style.display =\n",
              "          google.colab.kernel.accessAllowed ? 'block' : 'none';\n",
              "\n",
              "        async function convertToInteractive(key) {\n",
              "          const element = document.querySelector('#df-03789e6e-1e05-40f6-a024-e9908b196e09');\n",
              "          const dataTable =\n",
              "            await google.colab.kernel.invokeFunction('convertToInteractive',\n",
              "                                                     [key], {});\n",
              "          if (!dataTable) return;\n",
              "\n",
              "          const docLinkHtml = 'Like what you see? Visit the ' +\n",
              "            '<a target=\"_blank\" href=https://colab.research.google.com/notebooks/data_table.ipynb>data table notebook</a>'\n",
              "            + ' to learn more about interactive tables.';\n",
              "          element.innerHTML = '';\n",
              "          dataTable['output_type'] = 'display_data';\n",
              "          await google.colab.output.renderOutput(dataTable, element);\n",
              "          const docLink = document.createElement('div');\n",
              "          docLink.innerHTML = docLinkHtml;\n",
              "          element.appendChild(docLink);\n",
              "        }\n",
              "      </script>\n",
              "    </div>\n",
              "  </div>\n",
              "  "
            ]
          },
          "metadata": {},
          "execution_count": 27
        }
      ],
      "source": [
        "# função de interpretar os clusters\n",
        "def q05(grp):\n",
        "    return grp.quantile(0.05)\n",
        "def q95(grp):\n",
        "    return grp.quantile(0.95)\n",
        "\n",
        "X_ts_clus.groupby('cluster')[sel_cols+['price']].agg([q05, 'median', q95])"
      ]
    },
    {
      "cell_type": "markdown",
      "metadata": {
        "id": "Fjiw16I16giR"
      },
      "source": [
        "Faixas contendo 90% dos imóveis de cada cluster:\n",
        "\n",
        " **- Cluster 0: Imóveis antigo em conta**                                      \n",
        "  - grade       de 6.0  à  7.0 \n",
        "  - sqft_living de 740.0  à  1840.0\n",
        "  - yr_built    de 1908.0  à  1964.0\n",
        "  - price       de 166855.0  à  677150.0\n",
        "  \n",
        "    \n",
        "**- Cluster 1: Imóveis novo intermediário**\n",
        "  - grade       de 8.0  à  10.0 \n",
        "  - sqft_living de 2090.0  à  3460.0\n",
        "  - yr_built    de 1974.0  à  2014.0\n",
        "  - price       de 330000.0  à  992300.0\n",
        "  \n",
        "    \n",
        " **-Cluster 2: Imóveis grande estiloso** \n",
        "  - grade       de 9.0  à  12.0 \n",
        "  - sqft_living de 3100.0  à  6050.0\n",
        "  - yr_built    de 1952.9  à  2013.0\n",
        "  - price       de 574000.0  à  2705000.0\n",
        "  \n",
        "    \n",
        " **-Cluster 3: Imóveis antigo intermediário** \n",
        "  - grade       de 7.0  à  9.0 \n",
        "  - sqft_living de 1691.0  à  3438.0\n",
        "  - yr_built    de 1906.1  à  1967.0\n",
        "  - price       de 279100.0  à  1288100.0\n",
        "  \n",
        "  \n",
        "**-Cluster 4:  Imóveis novo em conta** \n",
        "  - grade       de 7.0  à  8.0 \n",
        "  - sqft_living de 1090.0  à  2300.0\n",
        "  - yr_built    de 1967.0  à  2009.75\n",
        "  - price       de 219237.5  à  605000.0\n",
        "  \n",
        " "
      ]
    },
    {
      "cell_type": "markdown",
      "metadata": {
        "id": "tDgW-45A6giS"
      },
      "source": [
        "## 4.02.Verificar a quantidade de imóveis "
      ]
    },
    {
      "cell_type": "code",
      "execution_count": 28,
      "metadata": {
        "colab": {
          "base_uri": "https://localhost:8080/"
        },
        "id": "pnXarJv16giT",
        "outputId": "8b086ec5-a6f4-4c2b-a2df-75ac2f00ef64"
      },
      "outputs": [
        {
          "output_type": "execute_result",
          "data": {
            "text/plain": [
              "4    1706\n",
              "0    1340\n",
              "1    1076\n",
              "3     863\n",
              "2     419\n",
              "Name: cluster, dtype: int64"
            ]
          },
          "metadata": {},
          "execution_count": 28
        }
      ],
      "source": [
        "#verificar a quantidade de imóveis em cada agrupamento dos dados de teste\n",
        "X_ts_clus.cluster.value_counts()"
      ]
    },
    {
      "cell_type": "markdown",
      "metadata": {
        "id": "q3BXvSak6giT"
      },
      "source": [
        "## 4.03.Verificar a faixa de preço dos imóveis "
      ]
    },
    {
      "cell_type": "code",
      "execution_count": 29,
      "metadata": {
        "colab": {
          "base_uri": "https://localhost:8080/",
          "height": 318
        },
        "id": "FSQrlitN6giU",
        "outputId": "81840087-eaea-4a35-c754-414ce8752e87"
      },
      "outputs": [
        {
          "output_type": "execute_result",
          "data": {
            "text/plain": [
              "<matplotlib.axes._subplots.AxesSubplot at 0x7f006054fb10>"
            ]
          },
          "metadata": {},
          "execution_count": 29
        },
        {
          "output_type": "display_data",
          "data": {
            "text/plain": [
              "<Figure size 432x288 with 1 Axes>"
            ],
            "image/png": "[encoded data removed]"
          },
          "metadata": {
            "needs_background": "light"
          }
        }
      ],
      "source": [
        "#Verificar a faixa de preço dos imóveis por agrupamento dos dados de teste\n",
        "X_ts_clus.boxplot(column='price', by = 'cluster')"
      ]
    },
    {
      "cell_type": "code",
      "execution_count": 30,
      "metadata": {
        "colab": {
          "base_uri": "https://localhost:8080/",
          "height": 318
        },
        "id": "XxHQfvH26giV",
        "outputId": "cd0376b4-fdc9-409a-e193-898619273254"
      },
      "outputs": [
        {
          "output_type": "execute_result",
          "data": {
            "text/plain": [
              "(0.0, 2000000.0)"
            ]
          },
          "metadata": {},
          "execution_count": 30
        },
        {
          "output_type": "display_data",
          "data": {
            "text/plain": [
              "<Figure size 432x288 with 1 Axes>"
            ],
            "image/png": "[encoded data removed]"
          },
          "metadata": {
            "needs_background": "light"
          }
        }
      ],
      "source": [
        "X_ts_clus.boxplot(column='price', by = 'cluster')\n",
        "plt.ylim((0,2e6))"
      ]
    },
    {
      "cell_type": "markdown",
      "metadata": {
        "id": "Ryqtzvg16giV"
      },
      "source": [
        "## 4.04.Verificar a média de notas dos imóveis "
      ]
    },
    {
      "cell_type": "code",
      "execution_count": 31,
      "metadata": {
        "colab": {
          "base_uri": "https://localhost:8080/"
        },
        "id": "U6gozQPW6giW",
        "outputId": "107d8397-3697-4f10-be2d-a3be8ae57e18"
      },
      "outputs": [
        {
          "output_type": "execute_result",
          "data": {
            "text/plain": [
              "cluster\n",
              "0     6.559701\n",
              "1     8.563197\n",
              "2    10.190931\n",
              "3     7.703360\n",
              "4     7.337632\n",
              "Name: grade, dtype: float64"
            ]
          },
          "metadata": {},
          "execution_count": 31
        }
      ],
      "source": [
        "#Verificar a media de notas dos imóveis por agrupamento dos dados de teste\n",
        "X_ts_clus.groupby('cluster').grade.mean()"
      ]
    },
    {
      "cell_type": "markdown",
      "metadata": {
        "id": "k4J2bIwT6giX"
      },
      "source": [
        "## 4.05.Verificar a mediana de notas dos imóveis "
      ]
    },
    {
      "cell_type": "code",
      "execution_count": 32,
      "metadata": {
        "colab": {
          "base_uri": "https://localhost:8080/"
        },
        "id": "jU16Rl-A6giX",
        "outputId": "ff950f31-323e-4e57-f60e-b88e81ebf0f2"
      },
      "outputs": [
        {
          "output_type": "execute_result",
          "data": {
            "text/plain": [
              "cluster\n",
              "0     7.0\n",
              "1     9.0\n",
              "2    10.0\n",
              "3     8.0\n",
              "4     7.0\n",
              "Name: grade, dtype: float64"
            ]
          },
          "metadata": {},
          "execution_count": 32
        }
      ],
      "source": [
        "#Verificar a mediana de notas dos imóveis por agrupamento dos dados de teste\n",
        "X_ts_clus.groupby('cluster').grade.median()"
      ]
    },
    {
      "cell_type": "markdown",
      "metadata": {
        "id": "b4Vprosb6giY"
      },
      "source": [
        "## 4.06.Verificar a faixa de área interna acima do solo dos imóveis "
      ]
    },
    {
      "cell_type": "code",
      "execution_count": 33,
      "metadata": {
        "colab": {
          "base_uri": "https://localhost:8080/",
          "height": 318
        },
        "id": "FLDJdEqs6giY",
        "outputId": "50d389d3-976a-490e-eb2b-c905ff2237f7"
      },
      "outputs": [
        {
          "output_type": "execute_result",
          "data": {
            "text/plain": [
              "<matplotlib.axes._subplots.AxesSubplot at 0x7f0063a96a90>"
            ]
          },
          "metadata": {},
          "execution_count": 33
        },
        {
          "output_type": "display_data",
          "data": {
            "text/plain": [
              "<Figure size 432x288 with 1 Axes>"
            ],
            "image/png": "[encoded data removed]"
          },
          "metadata": {
            "needs_background": "light"
          }
        }
      ],
      "source": [
        "#Verificar a faixa de area interna acima do solo dos imóveis por agrupamento dos dados de teste\n",
        "X_ts_clus.boxplot(column='sqft_above', by = 'cluster')"
      ]
    },
    {
      "cell_type": "code",
      "execution_count": 34,
      "metadata": {
        "colab": {
          "base_uri": "https://localhost:8080/",
          "height": 693
        },
        "id": "28I8fuv46giZ",
        "outputId": "4d175053-27e0-4552-e8bc-352ed3a435d5"
      },
      "outputs": [
        {
          "output_type": "execute_result",
          "data": {
            "text/plain": [
              "                       bedrooms  bathrooms  sqft_living  sqft_lot  floors  \\\n",
              "id         date                                                             \n",
              "7212680850 2014-09-03         3       2.50         1730      6930     2.0   \n",
              "3528000140 2014-10-23         4       2.50         3720     30649     2.0   \n",
              "7697800040 2014-08-26         4       2.75         2150      9820     1.0   \n",
              "7979900215 2014-06-11         3       1.50         1460     11407     1.0   \n",
              "420069021  2014-10-27         3       2.00         1990    203861     1.0   \n",
              "...                         ...        ...          ...       ...     ...   \n",
              "5162100650 2014-09-22         4       2.50         2320      7379     2.0   \n",
              "1150000740 2014-10-03         4       2.50         1990      8034     2.0   \n",
              "301401620  2014-10-15         3       2.50         1852      4000     2.0   \n",
              "2946003947 2015-03-02         2       2.50         1090     13444     2.0   \n",
              "7788400065 2015-03-15         3       1.00         1270      8925     1.0   \n",
              "\n",
              "                       waterfront  view  condition  grade  sqft_above  \\\n",
              "id         date                                                         \n",
              "7212680850 2014-09-03           0     0          3      8        1730   \n",
              "3528000140 2014-10-23           0     0          3     10        3720   \n",
              "7697800040 2014-08-26           0     0          4      8        1220   \n",
              "7979900215 2014-06-11           0     0          3      7        1460   \n",
              "420069021  2014-10-27           0     0          3      7        1990   \n",
              "...                           ...   ...        ...    ...         ...   \n",
              "5162100650 2014-09-22           0     0          3      8        2320   \n",
              "1150000740 2014-10-03           0     0          4     10        1990   \n",
              "301401620  2014-10-15           0     0          3      7        1852   \n",
              "2946003947 2015-03-02           0     0          3      7        1090   \n",
              "7788400065 2015-03-15           0     0          5      7        1270   \n",
              "\n",
              "                       yr_built  sqft_living15  sqft_lot15     price  cluster  \n",
              "id         date                                                                \n",
              "7212680850 2014-09-03      1994           1780        6930  258000.0        4  \n",
              "3528000140 2014-10-23      1988           3220       29434  899000.0        2  \n",
              "7697800040 2014-08-26      1979           2060        9830  470000.0        4  \n",
              "7979900215 2014-06-11      1954           1470       11407  381000.0        0  \n",
              "420069021  2014-10-27      1949           2760      217800  246000.0        3  \n",
              "...                         ...            ...         ...       ...      ...  \n",
              "5162100650 2014-09-22      1987           2230        7614  316000.0        1  \n",
              "1150000740 2014-10-03      1989           2580        8034  639000.0        1  \n",
              "301401620  2014-10-15      2014           2475        4000  298900.0        4  \n",
              "2946003947 2015-03-02      2007           1380        6000  204000.0        4  \n",
              "7788400065 2015-03-15      1955           1270        8996  317000.0        0  \n",
              "\n",
              "[16209 rows x 15 columns]"
            ],
            "text/html": [
              "\n",
              "  <div id=\"df-cccb2de8-e176-4e1d-84bf-892fddde4af6\">\n",
              "    <div class=\"colab-df-container\">\n",
              "      <div>\n",
              "<style scoped>\n",
              "    .dataframe tbody tr th:only-of-type {\n",
              "        vertical-align: middle;\n",
              "    }\n",
              "\n",
              "    .dataframe tbody tr th {\n",
              "        vertical-align: top;\n",
              "    }\n",
              "\n",
              "    .dataframe thead th {\n",
              "        text-align: right;\n",
              "    }\n",
              "</style>\n",
              "<table border=\"1\" class=\"dataframe\">\n",
              "  <thead>\n",
              "    <tr style=\"text-align: right;\">\n",
              "      <th></th>\n",
              "      <th></th>\n",
              "      <th>bedrooms</th>\n",
              "      <th>bathrooms</th>\n",
              "      <th>sqft_living</th>\n",
              "      <th>sqft_lot</th>\n",
              "      <th>floors</th>\n",
              "      <th>waterfront</th>\n",
              "      <th>view</th>\n",
              "      <th>condition</th>\n",
              "      <th>grade</th>\n",
              "      <th>sqft_above</th>\n",
              "      <th>yr_built</th>\n",
              "      <th>sqft_living15</th>\n",
              "      <th>sqft_lot15</th>\n",
              "      <th>price</th>\n",
              "      <th>cluster</th>\n",
              "    </tr>\n",
              "    <tr>\n",
              "      <th>id</th>\n",
              "      <th>date</th>\n",
              "      <th></th>\n",
              "      <th></th>\n",
              "      <th></th>\n",
              "      <th></th>\n",
              "      <th></th>\n",
              "      <th></th>\n",
              "      <th></th>\n",
              "      <th></th>\n",
              "      <th></th>\n",
              "      <th></th>\n",
              "      <th></th>\n",
              "      <th></th>\n",
              "      <th></th>\n",
              "      <th></th>\n",
              "      <th></th>\n",
              "    </tr>\n",
              "  </thead>\n",
              "  <tbody>\n",
              "    <tr>\n",
              "      <th>7212680850</th>\n",
              "      <th>2014-09-03</th>\n",
              "      <td>3</td>\n",
              "      <td>2.50</td>\n",
              "      <td>1730</td>\n",
              "      <td>6930</td>\n",
              "      <td>2.0</td>\n",
              "      <td>0</td>\n",
              "      <td>0</td>\n",
              "      <td>3</td>\n",
              "      <td>8</td>\n",
              "      <td>1730</td>\n",
              "      <td>1994</td>\n",
              "      <td>1780</td>\n",
              "      <td>6930</td>\n",
              "      <td>258000.0</td>\n",
              "      <td>4</td>\n",
              "    </tr>\n",
              "    <tr>\n",
              "      <th>3528000140</th>\n",
              "      <th>2014-10-23</th>\n",
              "      <td>4</td>\n",
              "      <td>2.50</td>\n",
              "      <td>3720</td>\n",
              "      <td>30649</td>\n",
              "      <td>2.0</td>\n",
              "      <td>0</td>\n",
              "      <td>0</td>\n",
              "      <td>3</td>\n",
              "      <td>10</td>\n",
              "      <td>3720</td>\n",
              "      <td>1988</td>\n",
              "      <td>3220</td>\n",
              "      <td>29434</td>\n",
              "      <td>899000.0</td>\n",
              "      <td>2</td>\n",
              "    </tr>\n",
              "    <tr>\n",
              "      <th>7697800040</th>\n",
              "      <th>2014-08-26</th>\n",
              "      <td>4</td>\n",
              "      <td>2.75</td>\n",
              "      <td>2150</td>\n",
              "      <td>9820</td>\n",
              "      <td>1.0</td>\n",
              "      <td>0</td>\n",
              "      <td>0</td>\n",
              "      <td>4</td>\n",
              "      <td>8</td>\n",
              "      <td>1220</td>\n",
              "      <td>1979</td>\n",
              "      <td>2060</td>\n",
              "      <td>9830</td>\n",
              "      <td>470000.0</td>\n",
              "      <td>4</td>\n",
              "    </tr>\n",
              "    <tr>\n",
              "      <th>7979900215</th>\n",
              "      <th>2014-06-11</th>\n",
              "      <td>3</td>\n",
              "      <td>1.50</td>\n",
              "      <td>1460</td>\n",
              "      <td>11407</td>\n",
              "      <td>1.0</td>\n",
              "      <td>0</td>\n",
              "      <td>0</td>\n",
              "      <td>3</td>\n",
              "      <td>7</td>\n",
              "      <td>1460</td>\n",
              "      <td>1954</td>\n",
              "      <td>1470</td>\n",
              "      <td>11407</td>\n",
              "      <td>381000.0</td>\n",
              "      <td>0</td>\n",
              "    </tr>\n",
              "    <tr>\n",
              "      <th>420069021</th>\n",
              "      <th>2014-10-27</th>\n",
              "      <td>3</td>\n",
              "      <td>2.00</td>\n",
              "      <td>1990</td>\n",
              "      <td>203861</td>\n",
              "      <td>1.0</td>\n",
              "      <td>0</td>\n",
              "      <td>0</td>\n",
              "      <td>3</td>\n",
              "      <td>7</td>\n",
              "      <td>1990</td>\n",
              "      <td>1949</td>\n",
              "      <td>2760</td>\n",
              "      <td>217800</td>\n",
              "      <td>246000.0</td>\n",
              "      <td>3</td>\n",
              "    </tr>\n",
              "    <tr>\n",
              "      <th>...</th>\n",
              "      <th>...</th>\n",
              "      <td>...</td>\n",
              "      <td>...</td>\n",
              "      <td>...</td>\n",
              "      <td>...</td>\n",
              "      <td>...</td>\n",
              "      <td>...</td>\n",
              "      <td>...</td>\n",
              "      <td>...</td>\n",
              "      <td>...</td>\n",
              "      <td>...</td>\n",
              "      <td>...</td>\n",
              "      <td>...</td>\n",
              "      <td>...</td>\n",
              "      <td>...</td>\n",
              "      <td>...</td>\n",
              "    </tr>\n",
              "    <tr>\n",
              "      <th>5162100650</th>\n",
              "      <th>2014-09-22</th>\n",
              "      <td>4</td>\n",
              "      <td>2.50</td>\n",
              "      <td>2320</td>\n",
              "      <td>7379</td>\n",
              "      <td>2.0</td>\n",
              "      <td>0</td>\n",
              "      <td>0</td>\n",
              "      <td>3</td>\n",
              "      <td>8</td>\n",
              "      <td>2320</td>\n",
              "      <td>1987</td>\n",
              "      <td>2230</td>\n",
              "      <td>7614</td>\n",
              "      <td>316000.0</td>\n",
              "      <td>1</td>\n",
              "    </tr>\n",
              "    <tr>\n",
              "      <th>1150000740</th>\n",
              "      <th>2014-10-03</th>\n",
              "      <td>4</td>\n",
              "      <td>2.50</td>\n",
              "      <td>1990</td>\n",
              "      <td>8034</td>\n",
              "      <td>2.0</td>\n",
              "      <td>0</td>\n",
              "      <td>0</td>\n",
              "      <td>4</td>\n",
              "      <td>10</td>\n",
              "      <td>1990</td>\n",
              "      <td>1989</td>\n",
              "      <td>2580</td>\n",
              "      <td>8034</td>\n",
              "      <td>639000.0</td>\n",
              "      <td>1</td>\n",
              "    </tr>\n",
              "    <tr>\n",
              "      <th>301401620</th>\n",
              "      <th>2014-10-15</th>\n",
              "      <td>3</td>\n",
              "      <td>2.50</td>\n",
              "      <td>1852</td>\n",
              "      <td>4000</td>\n",
              "      <td>2.0</td>\n",
              "      <td>0</td>\n",
              "      <td>0</td>\n",
              "      <td>3</td>\n",
              "      <td>7</td>\n",
              "      <td>1852</td>\n",
              "      <td>2014</td>\n",
              "      <td>2475</td>\n",
              "      <td>4000</td>\n",
              "      <td>298900.0</td>\n",
              "      <td>4</td>\n",
              "    </tr>\n",
              "    <tr>\n",
              "      <th>2946003947</th>\n",
              "      <th>2015-03-02</th>\n",
              "      <td>2</td>\n",
              "      <td>2.50</td>\n",
              "      <td>1090</td>\n",
              "      <td>13444</td>\n",
              "      <td>2.0</td>\n",
              "      <td>0</td>\n",
              "      <td>0</td>\n",
              "      <td>3</td>\n",
              "      <td>7</td>\n",
              "      <td>1090</td>\n",
              "      <td>2007</td>\n",
              "      <td>1380</td>\n",
              "      <td>6000</td>\n",
              "      <td>204000.0</td>\n",
              "      <td>4</td>\n",
              "    </tr>\n",
              "    <tr>\n",
              "      <th>7788400065</th>\n",
              "      <th>2015-03-15</th>\n",
              "      <td>3</td>\n",
              "      <td>1.00</td>\n",
              "      <td>1270</td>\n",
              "      <td>8925</td>\n",
              "      <td>1.0</td>\n",
              "      <td>0</td>\n",
              "      <td>0</td>\n",
              "      <td>5</td>\n",
              "      <td>7</td>\n",
              "      <td>1270</td>\n",
              "      <td>1955</td>\n",
              "      <td>1270</td>\n",
              "      <td>8996</td>\n",
              "      <td>317000.0</td>\n",
              "      <td>0</td>\n",
              "    </tr>\n",
              "  </tbody>\n",
              "</table>\n",
              "<p>16209 rows × 15 columns</p>\n",
              "</div>\n",
              "      <button class=\"colab-df-convert\" onclick=\"convertToInteractive('df-cccb2de8-e176-4e1d-84bf-892fddde4af6')\"\n",
              "              title=\"Convert this dataframe to an interactive table.\"\n",
              "              style=\"display:none;\">\n",
              "        \n",
              "  <svg xmlns=\"http://www.w3.org/2000/svg\" height=\"24px\"viewBox=\"0 0 24 24\"\n",
              "       width=\"24px\">\n",
              "    <path d=\"M0 0h24v24H0V0z\" fill=\"none\"/>\n",
              "    <path d=\"M18.56 5.44l.94 2.06.94-2.06 2.06-.94-2.06-.94-.94-2.06-.94 2.06-2.06.94zm-11 1L8.5 8.5l.94-2.06 2.06-.94-2.06-.94L8.5 2.5l-.94 2.06-2.06.94zm10 10l.94 2.06.94-2.06 2.06-.94-2.06-.94-.94-2.06-.94 2.06-2.06.94z\"/><path d=\"M17.41 7.96l-1.37-1.37c-.4-.4-.92-.59-1.43-.59-.52 0-1.04.2-1.43.59L10.3 9.45l-7.72 7.72c-.78.78-.78 2.05 0 2.83L4 21.41c.39.39.9.59 1.41.59.51 0 1.02-.2 1.41-.59l7.78-7.78 2.81-2.81c.8-.78.8-2.07 0-2.86zM5.41 20L4 18.59l7.72-7.72 1.47 1.35L5.41 20z\"/>\n",
              "  </svg>\n",
              "      </button>\n",
              "      \n",
              "  <style>\n",
              "    .colab-df-container {\n",
              "      display:flex;\n",
              "      flex-wrap:wrap;\n",
              "      gap: 12px;\n",
              "    }\n",
              "\n",
              "    .colab-df-convert {\n",
              "      background-color: #E8F0FE;\n",
              "      border: none;\n",
              "      border-radius: 50%;\n",
              "      cursor: pointer;\n",
              "      display: none;\n",
              "      fill: #1967D2;\n",
              "      height: 32px;\n",
              "      padding: 0 0 0 0;\n",
              "      width: 32px;\n",
              "    }\n",
              "\n",
              "    .colab-df-convert:hover {\n",
              "      background-color: #E2EBFA;\n",
              "      box-shadow: 0px 1px 2px rgba(60, 64, 67, 0.3), 0px 1px 3px 1px rgba(60, 64, 67, 0.15);\n",
              "      fill: #174EA6;\n",
              "    }\n",
              "\n",
              "    [theme=dark] .colab-df-convert {\n",
              "      background-color: #3B4455;\n",
              "      fill: #D2E3FC;\n",
              "    }\n",
              "\n",
              "    [theme=dark] .colab-df-convert:hover {\n",
              "      background-color: #434B5C;\n",
              "      box-shadow: 0px 1px 3px 1px rgba(0, 0, 0, 0.15);\n",
              "      filter: drop-shadow(0px 1px 2px rgba(0, 0, 0, 0.3));\n",
              "      fill: #FFFFFF;\n",
              "    }\n",
              "  </style>\n",
              "\n",
              "      <script>\n",
              "        const buttonEl =\n",
              "          document.querySelector('#df-cccb2de8-e176-4e1d-84bf-892fddde4af6 button.colab-df-convert');\n",
              "        buttonEl.style.display =\n",
              "          google.colab.kernel.accessAllowed ? 'block' : 'none';\n",
              "\n",
              "        async function convertToInteractive(key) {\n",
              "          const element = document.querySelector('#df-cccb2de8-e176-4e1d-84bf-892fddde4af6');\n",
              "          const dataTable =\n",
              "            await google.colab.kernel.invokeFunction('convertToInteractive',\n",
              "                                                     [key], {});\n",
              "          if (!dataTable) return;\n",
              "\n",
              "          const docLinkHtml = 'Like what you see? Visit the ' +\n",
              "            '<a target=\"_blank\" href=https://colab.research.google.com/notebooks/data_table.ipynb>data table notebook</a>'\n",
              "            + ' to learn more about interactive tables.';\n",
              "          element.innerHTML = '';\n",
              "          dataTable['output_type'] = 'display_data';\n",
              "          await google.colab.output.renderOutput(dataTable, element);\n",
              "          const docLink = document.createElement('div');\n",
              "          docLink.innerHTML = docLinkHtml;\n",
              "          element.appendChild(docLink);\n",
              "        }\n",
              "      </script>\n",
              "    </div>\n",
              "  </div>\n",
              "  "
            ]
          },
          "metadata": {},
          "execution_count": 34
        }
      ],
      "source": [
        "X_tr_clus"
      ]
    },
    {
      "cell_type": "markdown",
      "metadata": {
        "id": "1P3WrzIp6gia"
      },
      "source": [
        "# 5.0 Passo 05 - Aplicação de Negócio"
      ]
    },
    {
      "cell_type": "markdown",
      "metadata": {
        "id": "TjqUaTzu6gia"
      },
      "source": [
        "- Para a área de negócios iremos apresentar através de fichas contendo os ranges de cada variáveis por agrupamento."
      ]
    },
    {
      "cell_type": "markdown",
      "metadata": {
        "id": "7kty6iEl6gib"
      },
      "source": [
        "## 5.01.Fichas"
      ]
    },
    {
      "cell_type": "code",
      "execution_count": 35,
      "metadata": {
        "id": "5wNvULek6gib"
      },
      "outputs": [],
      "source": [
        "from IPython.display import Image"
      ]
    },
    {
      "cell_type": "code",
      "execution_count": 36,
      "metadata": {
        "colab": {
          "base_uri": "https://localhost:8080/",
          "height": 737
        },
        "id": "o0qKtOF36gic",
        "outputId": "26678908-cf37-4229-ae48-ed5dc0b3f1b1"
      },
      "outputs": [
        {
          "output_type": "execute_result",
          "data": {
            "text/plain": [
              "<IPython.core.display.Image object>"
            ],
            "image/png": "[encoded data removed]"
          },
          "metadata": {
            "image/png": {
              "width": 1280,
              "height": 720
            }
          },
          "execution_count": 36
        }
      ],
      "source": [
        "PATH = (r'/content/cluster_fichas.png')\n",
        "Image( filename = PATH, width=1280, height=720)"
      ]
    }
  ],
  "metadata": {
    "kernelspec": {
      "display_name": "Python 3 (ipykernel)",
      "language": "python",
      "name": "python3"
    },
    "language_info": {
      "codemirror_mode": {
        "name": "ipython",
        "version": 3
      },
      "file_extension": ".py",
      "mimetype": "text/x-python",
      "name": "python",
      "nbconvert_exporter": "python",
      "pygments_lexer": "ipython3",
      "version": "3.9.12"
    },
    "colab": {
      "name": "Projeto Número_02_ Agrupamento.ipynb",
      "provenance": [],
      "include_colab_link": true
    }
  },
  "nbformat": 4,
  "nbformat_minor": 0
}