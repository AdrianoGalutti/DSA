{
  "nbformat": 4,
  "nbformat_minor": 0,
  "metadata": {
    "kernelspec": {
      "display_name": "Python 3",
      "language": "python",
      "name": "python3"
    },
    "language_info": {
      "codemirror_mode": {
        "name": "ipython",
        "version": 3
      },
      "file_extension": ".py",
      "mimetype": "text/x-python",
      "name": "python",
      "nbconvert_exporter": "python",
      "pygments_lexer": "ipython3",
      "version": "3.8.5"
    },
    "colab": {
      "name": "Modelagem_Churn_20210920.ipynb",
      "provenance": [],
      "include_colab_link": true
    }
  },
  "cells": [
    {
      "cell_type": "markdown",
      "metadata": {
        "id": "view-in-github",
        "colab_type": "text"
      },
      "source": [
        "<a href=\"https://colab.research.google.com/github/AdrianoGalutti/DSA/blob/main/Modelagem_Churn_20210920.ipynb\" target=\"_parent\"><img src=\"https://colab.research.google.com/assets/colab-badge.svg\" alt=\"Open In Colab\"/></a>"
      ]
    },
    {
      "cell_type": "markdown",
      "metadata": {
        "id": "otqymXc-OwsA"
      },
      "source": [
        "## 1 - Definição Problema de Negócio"
      ]
    },
    {
      "cell_type": "markdown",
      "metadata": {
        "id": "7-Ed_fFfOwsL"
      },
      "source": [
        "Em uma empresa de telecom há vários clientes que se utilizam de diversos serviços entre os principais internet e telefone.\n",
        "\n",
        "O problema de negocio é que, analisando o histórico dos clientes dos últimos anos, percebeu que a empresa está com Churn de mais de 26% dos clientes. Isso representa uma perda de milhões para a empresa.\n",
        "\n",
        "O conceito de Churn em poucas palavras e simplificando o entendimento é o numero de clientes que cancelaram o serviço prestado pela empresa, ou seja o Churn é um indicativo de gestão da empresa e controlá-lo se faz necessário para evitar problemas futuros.\n",
        "\n",
        "Empresas que têm a cultura data driven maximizam seus resultados através de informações extraídas dos dados. Ou seja, utilizam os dados para extrair informações e usam as informações para tomar decisões.\n"
      ]
    },
    {
      "cell_type": "markdown",
      "metadata": {
        "id": "fgCeqCcHOwsN"
      },
      "source": [
        "## 2 - Aquisição dos dados"
      ]
    },
    {
      "cell_type": "markdown",
      "metadata": {
        "id": "551dgyWrOwsO"
      },
      "source": [
        "As informações foram extraidas do site Kaggle.\n",
        "\n",
        "Link Original do Kaggle: https://www.kaggle.com/radmirzosimov/telecom-users-dataset"
      ]
    },
    {
      "cell_type": "markdown",
      "metadata": {
        "id": "eC4HWqpoOwsP"
      },
      "source": [
        "## 3 - Preparação dos dados"
      ]
    },
    {
      "cell_type": "code",
      "metadata": {
        "id": "jecuYaMJOwsQ",
        "outputId": "c61cc6f0-67c7-4b26-b348-b18fb17c0765"
      },
      "source": [
        "import pandas as pd #análise de dados\n",
        "import plotly.express as px #visualização de dados;\n",
        "import numpy as np #pacote algebra linear;\n",
        "import seaborn as sns #visualização de dados;\n",
        "import matplotlib.pyplot as plt #visualização de dados;\n",
        "\n",
        "dados_df = pd.read_csv(r'C:\\Users\\Adriano Galutti\\OneDrive\\Área de Trabalho\\Criando um Portifolio\\telecom_users.csv', sep = ',')\n",
        "display(dados_df)"
      ],
      "execution_count": null,
      "outputs": [
        {
          "data": {
            "text/html": [
              "<div>\n",
              "<style scoped>\n",
              "    .dataframe tbody tr th:only-of-type {\n",
              "        vertical-align: middle;\n",
              "    }\n",
              "\n",
              "    .dataframe tbody tr th {\n",
              "        vertical-align: top;\n",
              "    }\n",
              "\n",
              "    .dataframe thead th {\n",
              "        text-align: right;\n",
              "    }\n",
              "</style>\n",
              "<table border=\"1\" class=\"dataframe\">\n",
              "  <thead>\n",
              "    <tr style=\"text-align: right;\">\n",
              "      <th></th>\n",
              "      <th>Unnamed: 0</th>\n",
              "      <th>IDCliente</th>\n",
              "      <th>Genero</th>\n",
              "      <th>Aposentado</th>\n",
              "      <th>Casado</th>\n",
              "      <th>Dependentes</th>\n",
              "      <th>MesesComoCliente</th>\n",
              "      <th>ServicoTelefone</th>\n",
              "      <th>MultiplasLinhas</th>\n",
              "      <th>ServicoInternet</th>\n",
              "      <th>...</th>\n",
              "      <th>ServicoSuporteTecnico</th>\n",
              "      <th>ServicoStreamingTV</th>\n",
              "      <th>ServicoFilmes</th>\n",
              "      <th>TipoContrato</th>\n",
              "      <th>FaturaDigital</th>\n",
              "      <th>FormaPagamento</th>\n",
              "      <th>ValorMensal</th>\n",
              "      <th>TotalGasto</th>\n",
              "      <th>Churn</th>\n",
              "      <th>Codigo</th>\n",
              "    </tr>\n",
              "  </thead>\n",
              "  <tbody>\n",
              "    <tr>\n",
              "      <th>0</th>\n",
              "      <td>1869</td>\n",
              "      <td>7010-BRBUU</td>\n",
              "      <td>Masculino</td>\n",
              "      <td>0</td>\n",
              "      <td>Sim</td>\n",
              "      <td>Sim</td>\n",
              "      <td>72</td>\n",
              "      <td>Sim</td>\n",
              "      <td>Sim</td>\n",
              "      <td>Nao</td>\n",
              "      <td>...</td>\n",
              "      <td>SemInternet</td>\n",
              "      <td>SemInternet</td>\n",
              "      <td>SemInternet</td>\n",
              "      <td>2 anos</td>\n",
              "      <td>Nao</td>\n",
              "      <td>CartaoCredito</td>\n",
              "      <td>24.10</td>\n",
              "      <td>1734.65</td>\n",
              "      <td>Nao</td>\n",
              "      <td>NaN</td>\n",
              "    </tr>\n",
              "    <tr>\n",
              "      <th>1</th>\n",
              "      <td>4528</td>\n",
              "      <td>9688-YGXVR</td>\n",
              "      <td>Feminino</td>\n",
              "      <td>0</td>\n",
              "      <td>Nao</td>\n",
              "      <td>Nao</td>\n",
              "      <td>44</td>\n",
              "      <td>Sim</td>\n",
              "      <td>Nao</td>\n",
              "      <td>Fibra</td>\n",
              "      <td>...</td>\n",
              "      <td>Nao</td>\n",
              "      <td>Sim</td>\n",
              "      <td>Nao</td>\n",
              "      <td>Mensal</td>\n",
              "      <td>Sim</td>\n",
              "      <td>CartaoCredito</td>\n",
              "      <td>88.15</td>\n",
              "      <td>3973.2</td>\n",
              "      <td>Nao</td>\n",
              "      <td>NaN</td>\n",
              "    </tr>\n",
              "    <tr>\n",
              "      <th>2</th>\n",
              "      <td>6344</td>\n",
              "      <td>9286-DOJGF</td>\n",
              "      <td>Feminino</td>\n",
              "      <td>1</td>\n",
              "      <td>Sim</td>\n",
              "      <td>Nao</td>\n",
              "      <td>38</td>\n",
              "      <td>Sim</td>\n",
              "      <td>Sim</td>\n",
              "      <td>Fibra</td>\n",
              "      <td>...</td>\n",
              "      <td>Nao</td>\n",
              "      <td>Nao</td>\n",
              "      <td>Nao</td>\n",
              "      <td>Mensal</td>\n",
              "      <td>Sim</td>\n",
              "      <td>DebitoAutomatico</td>\n",
              "      <td>74.95</td>\n",
              "      <td>2869.85</td>\n",
              "      <td>Sim</td>\n",
              "      <td>NaN</td>\n",
              "    </tr>\n",
              "    <tr>\n",
              "      <th>3</th>\n",
              "      <td>6739</td>\n",
              "      <td>6994-KERXL</td>\n",
              "      <td>Masculino</td>\n",
              "      <td>0</td>\n",
              "      <td>Nao</td>\n",
              "      <td>Nao</td>\n",
              "      <td>4</td>\n",
              "      <td>Sim</td>\n",
              "      <td>Nao</td>\n",
              "      <td>DSL</td>\n",
              "      <td>...</td>\n",
              "      <td>Nao</td>\n",
              "      <td>Nao</td>\n",
              "      <td>Sim</td>\n",
              "      <td>Mensal</td>\n",
              "      <td>Sim</td>\n",
              "      <td>BoletoEletronico</td>\n",
              "      <td>55.90</td>\n",
              "      <td>238.5</td>\n",
              "      <td>Nao</td>\n",
              "      <td>NaN</td>\n",
              "    </tr>\n",
              "    <tr>\n",
              "      <th>4</th>\n",
              "      <td>432</td>\n",
              "      <td>2181-UAESM</td>\n",
              "      <td>Masculino</td>\n",
              "      <td>0</td>\n",
              "      <td>Nao</td>\n",
              "      <td>Nao</td>\n",
              "      <td>2</td>\n",
              "      <td>Sim</td>\n",
              "      <td>Nao</td>\n",
              "      <td>DSL</td>\n",
              "      <td>...</td>\n",
              "      <td>Nao</td>\n",
              "      <td>Nao</td>\n",
              "      <td>Nao</td>\n",
              "      <td>Mensal</td>\n",
              "      <td>Nao</td>\n",
              "      <td>BoletoEletronico</td>\n",
              "      <td>53.45</td>\n",
              "      <td>119.5</td>\n",
              "      <td>Nao</td>\n",
              "      <td>NaN</td>\n",
              "    </tr>\n",
              "    <tr>\n",
              "      <th>...</th>\n",
              "      <td>...</td>\n",
              "      <td>...</td>\n",
              "      <td>...</td>\n",
              "      <td>...</td>\n",
              "      <td>...</td>\n",
              "      <td>...</td>\n",
              "      <td>...</td>\n",
              "      <td>...</td>\n",
              "      <td>...</td>\n",
              "      <td>...</td>\n",
              "      <td>...</td>\n",
              "      <td>...</td>\n",
              "      <td>...</td>\n",
              "      <td>...</td>\n",
              "      <td>...</td>\n",
              "      <td>...</td>\n",
              "      <td>...</td>\n",
              "      <td>...</td>\n",
              "      <td>...</td>\n",
              "      <td>...</td>\n",
              "      <td>...</td>\n",
              "    </tr>\n",
              "    <tr>\n",
              "      <th>5981</th>\n",
              "      <td>3772</td>\n",
              "      <td>0684-AOSIH</td>\n",
              "      <td>Masculino</td>\n",
              "      <td>0</td>\n",
              "      <td>Sim</td>\n",
              "      <td>Nao</td>\n",
              "      <td>1</td>\n",
              "      <td>Sim</td>\n",
              "      <td>Nao</td>\n",
              "      <td>Fibra</td>\n",
              "      <td>...</td>\n",
              "      <td>Nao</td>\n",
              "      <td>Sim</td>\n",
              "      <td>Sim</td>\n",
              "      <td>Mensal</td>\n",
              "      <td>Sim</td>\n",
              "      <td>BoletoEletronico</td>\n",
              "      <td>95.00</td>\n",
              "      <td>95</td>\n",
              "      <td>Sim</td>\n",
              "      <td>NaN</td>\n",
              "    </tr>\n",
              "    <tr>\n",
              "      <th>5982</th>\n",
              "      <td>5191</td>\n",
              "      <td>5982-PSMKW</td>\n",
              "      <td>Feminino</td>\n",
              "      <td>0</td>\n",
              "      <td>Sim</td>\n",
              "      <td>Sim</td>\n",
              "      <td>23</td>\n",
              "      <td>Sim</td>\n",
              "      <td>Sim</td>\n",
              "      <td>DSL</td>\n",
              "      <td>...</td>\n",
              "      <td>Sim</td>\n",
              "      <td>Sim</td>\n",
              "      <td>Sim</td>\n",
              "      <td>2 anos</td>\n",
              "      <td>Sim</td>\n",
              "      <td>CartaoCredito</td>\n",
              "      <td>91.10</td>\n",
              "      <td>2198.3</td>\n",
              "      <td>Nao</td>\n",
              "      <td>NaN</td>\n",
              "    </tr>\n",
              "    <tr>\n",
              "      <th>5983</th>\n",
              "      <td>5226</td>\n",
              "      <td>8044-BGWPI</td>\n",
              "      <td>Masculino</td>\n",
              "      <td>0</td>\n",
              "      <td>Sim</td>\n",
              "      <td>Sim</td>\n",
              "      <td>12</td>\n",
              "      <td>Sim</td>\n",
              "      <td>Nao</td>\n",
              "      <td>Nao</td>\n",
              "      <td>...</td>\n",
              "      <td>SemInternet</td>\n",
              "      <td>SemInternet</td>\n",
              "      <td>SemInternet</td>\n",
              "      <td>Mensal</td>\n",
              "      <td>Sim</td>\n",
              "      <td>BoletoEletronico</td>\n",
              "      <td>21.15</td>\n",
              "      <td>306.05</td>\n",
              "      <td>Nao</td>\n",
              "      <td>NaN</td>\n",
              "    </tr>\n",
              "    <tr>\n",
              "      <th>5984</th>\n",
              "      <td>5390</td>\n",
              "      <td>7450-NWRTR</td>\n",
              "      <td>Masculino</td>\n",
              "      <td>1</td>\n",
              "      <td>Nao</td>\n",
              "      <td>Nao</td>\n",
              "      <td>12</td>\n",
              "      <td>Sim</td>\n",
              "      <td>Sim</td>\n",
              "      <td>Fibra</td>\n",
              "      <td>...</td>\n",
              "      <td>Nao</td>\n",
              "      <td>Sim</td>\n",
              "      <td>Sim</td>\n",
              "      <td>Mensal</td>\n",
              "      <td>Sim</td>\n",
              "      <td>BoletoEletronico</td>\n",
              "      <td>99.45</td>\n",
              "      <td>1200.15</td>\n",
              "      <td>Sim</td>\n",
              "      <td>NaN</td>\n",
              "    </tr>\n",
              "    <tr>\n",
              "      <th>5985</th>\n",
              "      <td>860</td>\n",
              "      <td>4795-UXVCJ</td>\n",
              "      <td>Masculino</td>\n",
              "      <td>0</td>\n",
              "      <td>Nao</td>\n",
              "      <td>Nao</td>\n",
              "      <td>26</td>\n",
              "      <td>Sim</td>\n",
              "      <td>Nao</td>\n",
              "      <td>Nao</td>\n",
              "      <td>...</td>\n",
              "      <td>SemInternet</td>\n",
              "      <td>SemInternet</td>\n",
              "      <td>SemInternet</td>\n",
              "      <td>Anual</td>\n",
              "      <td>Nao</td>\n",
              "      <td>CartaoCredito</td>\n",
              "      <td>19.80</td>\n",
              "      <td>457.3</td>\n",
              "      <td>Nao</td>\n",
              "      <td>NaN</td>\n",
              "    </tr>\n",
              "  </tbody>\n",
              "</table>\n",
              "<p>5986 rows × 23 columns</p>\n",
              "</div>"
            ],
            "text/plain": [
              "      Unnamed: 0   IDCliente     Genero  Aposentado Casado Dependentes  \\\n",
              "0           1869  7010-BRBUU  Masculino           0    Sim         Sim   \n",
              "1           4528  9688-YGXVR   Feminino           0    Nao         Nao   \n",
              "2           6344  9286-DOJGF   Feminino           1    Sim         Nao   \n",
              "3           6739  6994-KERXL  Masculino           0    Nao         Nao   \n",
              "4            432  2181-UAESM  Masculino           0    Nao         Nao   \n",
              "...          ...         ...        ...         ...    ...         ...   \n",
              "5981        3772  0684-AOSIH  Masculino           0    Sim         Nao   \n",
              "5982        5191  5982-PSMKW   Feminino           0    Sim         Sim   \n",
              "5983        5226  8044-BGWPI  Masculino           0    Sim         Sim   \n",
              "5984        5390  7450-NWRTR  Masculino           1    Nao         Nao   \n",
              "5985         860  4795-UXVCJ  Masculino           0    Nao         Nao   \n",
              "\n",
              "      MesesComoCliente ServicoTelefone MultiplasLinhas ServicoInternet  ...  \\\n",
              "0                   72             Sim             Sim             Nao  ...   \n",
              "1                   44             Sim             Nao           Fibra  ...   \n",
              "2                   38             Sim             Sim           Fibra  ...   \n",
              "3                    4             Sim             Nao             DSL  ...   \n",
              "4                    2             Sim             Nao             DSL  ...   \n",
              "...                ...             ...             ...             ...  ...   \n",
              "5981                 1             Sim             Nao           Fibra  ...   \n",
              "5982                23             Sim             Sim             DSL  ...   \n",
              "5983                12             Sim             Nao             Nao  ...   \n",
              "5984                12             Sim             Sim           Fibra  ...   \n",
              "5985                26             Sim             Nao             Nao  ...   \n",
              "\n",
              "     ServicoSuporteTecnico ServicoStreamingTV ServicoFilmes TipoContrato  \\\n",
              "0              SemInternet        SemInternet   SemInternet       2 anos   \n",
              "1                      Nao                Sim           Nao       Mensal   \n",
              "2                      Nao                Nao           Nao       Mensal   \n",
              "3                      Nao                Nao           Sim       Mensal   \n",
              "4                      Nao                Nao           Nao       Mensal   \n",
              "...                    ...                ...           ...          ...   \n",
              "5981                   Nao                Sim           Sim       Mensal   \n",
              "5982                   Sim                Sim           Sim       2 anos   \n",
              "5983           SemInternet        SemInternet   SemInternet       Mensal   \n",
              "5984                   Nao                Sim           Sim       Mensal   \n",
              "5985           SemInternet        SemInternet   SemInternet        Anual   \n",
              "\n",
              "     FaturaDigital    FormaPagamento ValorMensal TotalGasto Churn  Codigo  \n",
              "0              Nao     CartaoCredito       24.10    1734.65   Nao     NaN  \n",
              "1              Sim     CartaoCredito       88.15     3973.2   Nao     NaN  \n",
              "2              Sim  DebitoAutomatico       74.95    2869.85   Sim     NaN  \n",
              "3              Sim  BoletoEletronico       55.90      238.5   Nao     NaN  \n",
              "4              Nao  BoletoEletronico       53.45      119.5   Nao     NaN  \n",
              "...            ...               ...         ...        ...   ...     ...  \n",
              "5981           Sim  BoletoEletronico       95.00         95   Sim     NaN  \n",
              "5982           Sim     CartaoCredito       91.10     2198.3   Nao     NaN  \n",
              "5983           Sim  BoletoEletronico       21.15     306.05   Nao     NaN  \n",
              "5984           Sim  BoletoEletronico       99.45    1200.15   Sim     NaN  \n",
              "5985           Nao     CartaoCredito       19.80      457.3   Nao     NaN  \n",
              "\n",
              "[5986 rows x 23 columns]"
            ]
          },
          "metadata": {},
          "output_type": "display_data"
        }
      ]
    },
    {
      "cell_type": "code",
      "metadata": {
        "id": "Aux4l9c-OwsV",
        "outputId": "8d65fdd7-cdc1-4db8-f78a-6dd21b31358f"
      },
      "source": [
        "display(dados_df.columns)\n",
        "dados_df.info()"
      ],
      "execution_count": null,
      "outputs": [
        {
          "data": {
            "text/plain": [
              "Index(['Unnamed: 0', 'IDCliente', 'Genero', 'Aposentado', 'Casado',\n",
              "       'Dependentes', 'MesesComoCliente', 'ServicoTelefone', 'MultiplasLinhas',\n",
              "       'ServicoInternet', 'ServicoSegurancaOnline', 'ServicoBackupOnline',\n",
              "       'ProtecaoEquipamento', 'ServicoSuporteTecnico', 'ServicoStreamingTV',\n",
              "       'ServicoFilmes', 'TipoContrato', 'FaturaDigital', 'FormaPagamento',\n",
              "       'ValorMensal', 'TotalGasto', 'Churn', 'Codigo'],\n",
              "      dtype='object')"
            ]
          },
          "metadata": {},
          "output_type": "display_data"
        },
        {
          "name": "stdout",
          "output_type": "stream",
          "text": [
            "<class 'pandas.core.frame.DataFrame'>\n",
            "RangeIndex: 5986 entries, 0 to 5985\n",
            "Data columns (total 23 columns):\n",
            " #   Column                  Non-Null Count  Dtype  \n",
            "---  ------                  --------------  -----  \n",
            " 0   Unnamed: 0              5986 non-null   int64  \n",
            " 1   IDCliente               5986 non-null   object \n",
            " 2   Genero                  5986 non-null   object \n",
            " 3   Aposentado              5986 non-null   int64  \n",
            " 4   Casado                  5986 non-null   object \n",
            " 5   Dependentes             5985 non-null   object \n",
            " 6   MesesComoCliente        5986 non-null   int64  \n",
            " 7   ServicoTelefone         5986 non-null   object \n",
            " 8   MultiplasLinhas         5986 non-null   object \n",
            " 9   ServicoInternet         5986 non-null   object \n",
            " 10  ServicoSegurancaOnline  5986 non-null   object \n",
            " 11  ServicoBackupOnline     5986 non-null   object \n",
            " 12  ProtecaoEquipamento     5986 non-null   object \n",
            " 13  ServicoSuporteTecnico   5986 non-null   object \n",
            " 14  ServicoStreamingTV      5986 non-null   object \n",
            " 15  ServicoFilmes           5986 non-null   object \n",
            " 16  TipoContrato            5986 non-null   object \n",
            " 17  FaturaDigital           5986 non-null   object \n",
            " 18  FormaPagamento          5986 non-null   object \n",
            " 19  ValorMensal             5986 non-null   float64\n",
            " 20  TotalGasto              5986 non-null   object \n",
            " 21  Churn                   5985 non-null   object \n",
            " 22  Codigo                  0 non-null      float64\n",
            "dtypes: float64(2), int64(3), object(18)\n",
            "memory usage: 1.1+ MB\n"
          ]
        }
      ]
    },
    {
      "cell_type": "code",
      "metadata": {
        "id": "DvmgMp-JOwsW",
        "outputId": "3d643937-0835-49db-f379-9558e300132c"
      },
      "source": [
        "dados_df['Aposentado'] = dados_df['Aposentado'].replace([0,1],['Nao','Sim'])\n",
        "dados_df1 = dados_df.drop(['Unnamed: 0','IDCliente'] , axis=1) #excluindo coluna\n",
        "dados_df1['TotalGasto'] = pd.to_numeric(dados_df['TotalGasto'], errors='coerce') #corrigindo o tipo de informação\n",
        "dados_df1 = dados_df1.dropna(how='all', axis=1) #excluindo as colunas com valor vazio\n",
        "dados_df1 = dados_df1.dropna(how='any', axis=0) #excluindo as linhas com valor vazio\n",
        "dados_df1.info()\n",
        "display(dados_df1)"
      ],
      "execution_count": null,
      "outputs": [
        {
          "name": "stdout",
          "output_type": "stream",
          "text": [
            "<class 'pandas.core.frame.DataFrame'>\n",
            "Int64Index: 5974 entries, 0 to 5985\n",
            "Data columns (total 20 columns):\n",
            " #   Column                  Non-Null Count  Dtype  \n",
            "---  ------                  --------------  -----  \n",
            " 0   Genero                  5974 non-null   object \n",
            " 1   Aposentado              5974 non-null   object \n",
            " 2   Casado                  5974 non-null   object \n",
            " 3   Dependentes             5974 non-null   object \n",
            " 4   MesesComoCliente        5974 non-null   int64  \n",
            " 5   ServicoTelefone         5974 non-null   object \n",
            " 6   MultiplasLinhas         5974 non-null   object \n",
            " 7   ServicoInternet         5974 non-null   object \n",
            " 8   ServicoSegurancaOnline  5974 non-null   object \n",
            " 9   ServicoBackupOnline     5974 non-null   object \n",
            " 10  ProtecaoEquipamento     5974 non-null   object \n",
            " 11  ServicoSuporteTecnico   5974 non-null   object \n",
            " 12  ServicoStreamingTV      5974 non-null   object \n",
            " 13  ServicoFilmes           5974 non-null   object \n",
            " 14  TipoContrato            5974 non-null   object \n",
            " 15  FaturaDigital           5974 non-null   object \n",
            " 16  FormaPagamento          5974 non-null   object \n",
            " 17  ValorMensal             5974 non-null   float64\n",
            " 18  TotalGasto              5974 non-null   float64\n",
            " 19  Churn                   5974 non-null   object \n",
            "dtypes: float64(2), int64(1), object(17)\n",
            "memory usage: 980.1+ KB\n"
          ]
        },
        {
          "data": {
            "text/html": [
              "<div>\n",
              "<style scoped>\n",
              "    .dataframe tbody tr th:only-of-type {\n",
              "        vertical-align: middle;\n",
              "    }\n",
              "\n",
              "    .dataframe tbody tr th {\n",
              "        vertical-align: top;\n",
              "    }\n",
              "\n",
              "    .dataframe thead th {\n",
              "        text-align: right;\n",
              "    }\n",
              "</style>\n",
              "<table border=\"1\" class=\"dataframe\">\n",
              "  <thead>\n",
              "    <tr style=\"text-align: right;\">\n",
              "      <th></th>\n",
              "      <th>Genero</th>\n",
              "      <th>Aposentado</th>\n",
              "      <th>Casado</th>\n",
              "      <th>Dependentes</th>\n",
              "      <th>MesesComoCliente</th>\n",
              "      <th>ServicoTelefone</th>\n",
              "      <th>MultiplasLinhas</th>\n",
              "      <th>ServicoInternet</th>\n",
              "      <th>ServicoSegurancaOnline</th>\n",
              "      <th>ServicoBackupOnline</th>\n",
              "      <th>ProtecaoEquipamento</th>\n",
              "      <th>ServicoSuporteTecnico</th>\n",
              "      <th>ServicoStreamingTV</th>\n",
              "      <th>ServicoFilmes</th>\n",
              "      <th>TipoContrato</th>\n",
              "      <th>FaturaDigital</th>\n",
              "      <th>FormaPagamento</th>\n",
              "      <th>ValorMensal</th>\n",
              "      <th>TotalGasto</th>\n",
              "      <th>Churn</th>\n",
              "    </tr>\n",
              "  </thead>\n",
              "  <tbody>\n",
              "    <tr>\n",
              "      <th>0</th>\n",
              "      <td>Masculino</td>\n",
              "      <td>Nao</td>\n",
              "      <td>Sim</td>\n",
              "      <td>Sim</td>\n",
              "      <td>72</td>\n",
              "      <td>Sim</td>\n",
              "      <td>Sim</td>\n",
              "      <td>Nao</td>\n",
              "      <td>SemInternet</td>\n",
              "      <td>SemInternet</td>\n",
              "      <td>SemInternet</td>\n",
              "      <td>SemInternet</td>\n",
              "      <td>SemInternet</td>\n",
              "      <td>SemInternet</td>\n",
              "      <td>2 anos</td>\n",
              "      <td>Nao</td>\n",
              "      <td>CartaoCredito</td>\n",
              "      <td>24.10</td>\n",
              "      <td>1734.65</td>\n",
              "      <td>Nao</td>\n",
              "    </tr>\n",
              "    <tr>\n",
              "      <th>1</th>\n",
              "      <td>Feminino</td>\n",
              "      <td>Nao</td>\n",
              "      <td>Nao</td>\n",
              "      <td>Nao</td>\n",
              "      <td>44</td>\n",
              "      <td>Sim</td>\n",
              "      <td>Nao</td>\n",
              "      <td>Fibra</td>\n",
              "      <td>Nao</td>\n",
              "      <td>Sim</td>\n",
              "      <td>Sim</td>\n",
              "      <td>Nao</td>\n",
              "      <td>Sim</td>\n",
              "      <td>Nao</td>\n",
              "      <td>Mensal</td>\n",
              "      <td>Sim</td>\n",
              "      <td>CartaoCredito</td>\n",
              "      <td>88.15</td>\n",
              "      <td>3973.20</td>\n",
              "      <td>Nao</td>\n",
              "    </tr>\n",
              "    <tr>\n",
              "      <th>2</th>\n",
              "      <td>Feminino</td>\n",
              "      <td>Sim</td>\n",
              "      <td>Sim</td>\n",
              "      <td>Nao</td>\n",
              "      <td>38</td>\n",
              "      <td>Sim</td>\n",
              "      <td>Sim</td>\n",
              "      <td>Fibra</td>\n",
              "      <td>Nao</td>\n",
              "      <td>Nao</td>\n",
              "      <td>Nao</td>\n",
              "      <td>Nao</td>\n",
              "      <td>Nao</td>\n",
              "      <td>Nao</td>\n",
              "      <td>Mensal</td>\n",
              "      <td>Sim</td>\n",
              "      <td>DebitoAutomatico</td>\n",
              "      <td>74.95</td>\n",
              "      <td>2869.85</td>\n",
              "      <td>Sim</td>\n",
              "    </tr>\n",
              "    <tr>\n",
              "      <th>3</th>\n",
              "      <td>Masculino</td>\n",
              "      <td>Nao</td>\n",
              "      <td>Nao</td>\n",
              "      <td>Nao</td>\n",
              "      <td>4</td>\n",
              "      <td>Sim</td>\n",
              "      <td>Nao</td>\n",
              "      <td>DSL</td>\n",
              "      <td>Nao</td>\n",
              "      <td>Nao</td>\n",
              "      <td>Nao</td>\n",
              "      <td>Nao</td>\n",
              "      <td>Nao</td>\n",
              "      <td>Sim</td>\n",
              "      <td>Mensal</td>\n",
              "      <td>Sim</td>\n",
              "      <td>BoletoEletronico</td>\n",
              "      <td>55.90</td>\n",
              "      <td>238.50</td>\n",
              "      <td>Nao</td>\n",
              "    </tr>\n",
              "    <tr>\n",
              "      <th>4</th>\n",
              "      <td>Masculino</td>\n",
              "      <td>Nao</td>\n",
              "      <td>Nao</td>\n",
              "      <td>Nao</td>\n",
              "      <td>2</td>\n",
              "      <td>Sim</td>\n",
              "      <td>Nao</td>\n",
              "      <td>DSL</td>\n",
              "      <td>Sim</td>\n",
              "      <td>Nao</td>\n",
              "      <td>Sim</td>\n",
              "      <td>Nao</td>\n",
              "      <td>Nao</td>\n",
              "      <td>Nao</td>\n",
              "      <td>Mensal</td>\n",
              "      <td>Nao</td>\n",
              "      <td>BoletoEletronico</td>\n",
              "      <td>53.45</td>\n",
              "      <td>119.50</td>\n",
              "      <td>Nao</td>\n",
              "    </tr>\n",
              "    <tr>\n",
              "      <th>...</th>\n",
              "      <td>...</td>\n",
              "      <td>...</td>\n",
              "      <td>...</td>\n",
              "      <td>...</td>\n",
              "      <td>...</td>\n",
              "      <td>...</td>\n",
              "      <td>...</td>\n",
              "      <td>...</td>\n",
              "      <td>...</td>\n",
              "      <td>...</td>\n",
              "      <td>...</td>\n",
              "      <td>...</td>\n",
              "      <td>...</td>\n",
              "      <td>...</td>\n",
              "      <td>...</td>\n",
              "      <td>...</td>\n",
              "      <td>...</td>\n",
              "      <td>...</td>\n",
              "      <td>...</td>\n",
              "      <td>...</td>\n",
              "    </tr>\n",
              "    <tr>\n",
              "      <th>5981</th>\n",
              "      <td>Masculino</td>\n",
              "      <td>Nao</td>\n",
              "      <td>Sim</td>\n",
              "      <td>Nao</td>\n",
              "      <td>1</td>\n",
              "      <td>Sim</td>\n",
              "      <td>Nao</td>\n",
              "      <td>Fibra</td>\n",
              "      <td>Sim</td>\n",
              "      <td>Nao</td>\n",
              "      <td>Nao</td>\n",
              "      <td>Nao</td>\n",
              "      <td>Sim</td>\n",
              "      <td>Sim</td>\n",
              "      <td>Mensal</td>\n",
              "      <td>Sim</td>\n",
              "      <td>BoletoEletronico</td>\n",
              "      <td>95.00</td>\n",
              "      <td>95.00</td>\n",
              "      <td>Sim</td>\n",
              "    </tr>\n",
              "    <tr>\n",
              "      <th>5982</th>\n",
              "      <td>Feminino</td>\n",
              "      <td>Nao</td>\n",
              "      <td>Sim</td>\n",
              "      <td>Sim</td>\n",
              "      <td>23</td>\n",
              "      <td>Sim</td>\n",
              "      <td>Sim</td>\n",
              "      <td>DSL</td>\n",
              "      <td>Sim</td>\n",
              "      <td>Sim</td>\n",
              "      <td>Sim</td>\n",
              "      <td>Sim</td>\n",
              "      <td>Sim</td>\n",
              "      <td>Sim</td>\n",
              "      <td>2 anos</td>\n",
              "      <td>Sim</td>\n",
              "      <td>CartaoCredito</td>\n",
              "      <td>91.10</td>\n",
              "      <td>2198.30</td>\n",
              "      <td>Nao</td>\n",
              "    </tr>\n",
              "    <tr>\n",
              "      <th>5983</th>\n",
              "      <td>Masculino</td>\n",
              "      <td>Nao</td>\n",
              "      <td>Sim</td>\n",
              "      <td>Sim</td>\n",
              "      <td>12</td>\n",
              "      <td>Sim</td>\n",
              "      <td>Nao</td>\n",
              "      <td>Nao</td>\n",
              "      <td>SemInternet</td>\n",
              "      <td>SemInternet</td>\n",
              "      <td>SemInternet</td>\n",
              "      <td>SemInternet</td>\n",
              "      <td>SemInternet</td>\n",
              "      <td>SemInternet</td>\n",
              "      <td>Mensal</td>\n",
              "      <td>Sim</td>\n",
              "      <td>BoletoEletronico</td>\n",
              "      <td>21.15</td>\n",
              "      <td>306.05</td>\n",
              "      <td>Nao</td>\n",
              "    </tr>\n",
              "    <tr>\n",
              "      <th>5984</th>\n",
              "      <td>Masculino</td>\n",
              "      <td>Sim</td>\n",
              "      <td>Nao</td>\n",
              "      <td>Nao</td>\n",
              "      <td>12</td>\n",
              "      <td>Sim</td>\n",
              "      <td>Sim</td>\n",
              "      <td>Fibra</td>\n",
              "      <td>Nao</td>\n",
              "      <td>Nao</td>\n",
              "      <td>Sim</td>\n",
              "      <td>Nao</td>\n",
              "      <td>Sim</td>\n",
              "      <td>Sim</td>\n",
              "      <td>Mensal</td>\n",
              "      <td>Sim</td>\n",
              "      <td>BoletoEletronico</td>\n",
              "      <td>99.45</td>\n",
              "      <td>1200.15</td>\n",
              "      <td>Sim</td>\n",
              "    </tr>\n",
              "    <tr>\n",
              "      <th>5985</th>\n",
              "      <td>Masculino</td>\n",
              "      <td>Nao</td>\n",
              "      <td>Nao</td>\n",
              "      <td>Nao</td>\n",
              "      <td>26</td>\n",
              "      <td>Sim</td>\n",
              "      <td>Nao</td>\n",
              "      <td>Nao</td>\n",
              "      <td>SemInternet</td>\n",
              "      <td>SemInternet</td>\n",
              "      <td>SemInternet</td>\n",
              "      <td>SemInternet</td>\n",
              "      <td>SemInternet</td>\n",
              "      <td>SemInternet</td>\n",
              "      <td>Anual</td>\n",
              "      <td>Nao</td>\n",
              "      <td>CartaoCredito</td>\n",
              "      <td>19.80</td>\n",
              "      <td>457.30</td>\n",
              "      <td>Nao</td>\n",
              "    </tr>\n",
              "  </tbody>\n",
              "</table>\n",
              "<p>5974 rows × 20 columns</p>\n",
              "</div>"
            ],
            "text/plain": [
              "         Genero Aposentado Casado Dependentes  MesesComoCliente  \\\n",
              "0     Masculino        Nao    Sim         Sim                72   \n",
              "1      Feminino        Nao    Nao         Nao                44   \n",
              "2      Feminino        Sim    Sim         Nao                38   \n",
              "3     Masculino        Nao    Nao         Nao                 4   \n",
              "4     Masculino        Nao    Nao         Nao                 2   \n",
              "...         ...        ...    ...         ...               ...   \n",
              "5981  Masculino        Nao    Sim         Nao                 1   \n",
              "5982   Feminino        Nao    Sim         Sim                23   \n",
              "5983  Masculino        Nao    Sim         Sim                12   \n",
              "5984  Masculino        Sim    Nao         Nao                12   \n",
              "5985  Masculino        Nao    Nao         Nao                26   \n",
              "\n",
              "     ServicoTelefone MultiplasLinhas ServicoInternet ServicoSegurancaOnline  \\\n",
              "0                Sim             Sim             Nao            SemInternet   \n",
              "1                Sim             Nao           Fibra                    Nao   \n",
              "2                Sim             Sim           Fibra                    Nao   \n",
              "3                Sim             Nao             DSL                    Nao   \n",
              "4                Sim             Nao             DSL                    Sim   \n",
              "...              ...             ...             ...                    ...   \n",
              "5981             Sim             Nao           Fibra                    Sim   \n",
              "5982             Sim             Sim             DSL                    Sim   \n",
              "5983             Sim             Nao             Nao            SemInternet   \n",
              "5984             Sim             Sim           Fibra                    Nao   \n",
              "5985             Sim             Nao             Nao            SemInternet   \n",
              "\n",
              "     ServicoBackupOnline ProtecaoEquipamento ServicoSuporteTecnico  \\\n",
              "0            SemInternet         SemInternet           SemInternet   \n",
              "1                    Sim                 Sim                   Nao   \n",
              "2                    Nao                 Nao                   Nao   \n",
              "3                    Nao                 Nao                   Nao   \n",
              "4                    Nao                 Sim                   Nao   \n",
              "...                  ...                 ...                   ...   \n",
              "5981                 Nao                 Nao                   Nao   \n",
              "5982                 Sim                 Sim                   Sim   \n",
              "5983         SemInternet         SemInternet           SemInternet   \n",
              "5984                 Nao                 Sim                   Nao   \n",
              "5985         SemInternet         SemInternet           SemInternet   \n",
              "\n",
              "     ServicoStreamingTV ServicoFilmes TipoContrato FaturaDigital  \\\n",
              "0           SemInternet   SemInternet       2 anos           Nao   \n",
              "1                   Sim           Nao       Mensal           Sim   \n",
              "2                   Nao           Nao       Mensal           Sim   \n",
              "3                   Nao           Sim       Mensal           Sim   \n",
              "4                   Nao           Nao       Mensal           Nao   \n",
              "...                 ...           ...          ...           ...   \n",
              "5981                Sim           Sim       Mensal           Sim   \n",
              "5982                Sim           Sim       2 anos           Sim   \n",
              "5983        SemInternet   SemInternet       Mensal           Sim   \n",
              "5984                Sim           Sim       Mensal           Sim   \n",
              "5985        SemInternet   SemInternet        Anual           Nao   \n",
              "\n",
              "        FormaPagamento  ValorMensal  TotalGasto Churn  \n",
              "0        CartaoCredito        24.10     1734.65   Nao  \n",
              "1        CartaoCredito        88.15     3973.20   Nao  \n",
              "2     DebitoAutomatico        74.95     2869.85   Sim  \n",
              "3     BoletoEletronico        55.90      238.50   Nao  \n",
              "4     BoletoEletronico        53.45      119.50   Nao  \n",
              "...                ...          ...         ...   ...  \n",
              "5981  BoletoEletronico        95.00       95.00   Sim  \n",
              "5982     CartaoCredito        91.10     2198.30   Nao  \n",
              "5983  BoletoEletronico        21.15      306.05   Nao  \n",
              "5984  BoletoEletronico        99.45     1200.15   Sim  \n",
              "5985     CartaoCredito        19.80      457.30   Nao  \n",
              "\n",
              "[5974 rows x 20 columns]"
            ]
          },
          "metadata": {},
          "output_type": "display_data"
        }
      ]
    },
    {
      "cell_type": "markdown",
      "metadata": {
        "id": "FzmwZ3FhOwsZ"
      },
      "source": [
        "## 4 - Análise Exploratória dos Dados"
      ]
    },
    {
      "cell_type": "code",
      "metadata": {
        "id": "VXPflvTdOwsa",
        "outputId": "0d04819c-93cb-4ef4-f008-aace534af4c7"
      },
      "source": [
        "dados_df1.describe()"
      ],
      "execution_count": null,
      "outputs": [
        {
          "data": {
            "text/html": [
              "<div>\n",
              "<style scoped>\n",
              "    .dataframe tbody tr th:only-of-type {\n",
              "        vertical-align: middle;\n",
              "    }\n",
              "\n",
              "    .dataframe tbody tr th {\n",
              "        vertical-align: top;\n",
              "    }\n",
              "\n",
              "    .dataframe thead th {\n",
              "        text-align: right;\n",
              "    }\n",
              "</style>\n",
              "<table border=\"1\" class=\"dataframe\">\n",
              "  <thead>\n",
              "    <tr style=\"text-align: right;\">\n",
              "      <th></th>\n",
              "      <th>MesesComoCliente</th>\n",
              "      <th>ValorMensal</th>\n",
              "      <th>TotalGasto</th>\n",
              "    </tr>\n",
              "  </thead>\n",
              "  <tbody>\n",
              "    <tr>\n",
              "      <th>count</th>\n",
              "      <td>5974.000000</td>\n",
              "      <td>5974.000000</td>\n",
              "      <td>5974.000000</td>\n",
              "    </tr>\n",
              "    <tr>\n",
              "      <th>mean</th>\n",
              "      <td>32.510880</td>\n",
              "      <td>64.849933</td>\n",
              "      <td>2297.565777</td>\n",
              "    </tr>\n",
              "    <tr>\n",
              "      <th>std</th>\n",
              "      <td>24.495864</td>\n",
              "      <td>30.107238</td>\n",
              "      <td>2274.021491</td>\n",
              "    </tr>\n",
              "    <tr>\n",
              "      <th>min</th>\n",
              "      <td>1.000000</td>\n",
              "      <td>18.250000</td>\n",
              "      <td>18.800000</td>\n",
              "    </tr>\n",
              "    <tr>\n",
              "      <th>25%</th>\n",
              "      <td>9.000000</td>\n",
              "      <td>35.750000</td>\n",
              "      <td>404.237500</td>\n",
              "    </tr>\n",
              "    <tr>\n",
              "      <th>50%</th>\n",
              "      <td>29.000000</td>\n",
              "      <td>70.425000</td>\n",
              "      <td>1411.775000</td>\n",
              "    </tr>\n",
              "    <tr>\n",
              "      <th>75%</th>\n",
              "      <td>56.000000</td>\n",
              "      <td>89.900000</td>\n",
              "      <td>3846.650000</td>\n",
              "    </tr>\n",
              "    <tr>\n",
              "      <th>max</th>\n",
              "      <td>72.000000</td>\n",
              "      <td>118.750000</td>\n",
              "      <td>8684.800000</td>\n",
              "    </tr>\n",
              "  </tbody>\n",
              "</table>\n",
              "</div>"
            ],
            "text/plain": [
              "       MesesComoCliente  ValorMensal   TotalGasto\n",
              "count       5974.000000  5974.000000  5974.000000\n",
              "mean          32.510880    64.849933  2297.565777\n",
              "std           24.495864    30.107238  2274.021491\n",
              "min            1.000000    18.250000    18.800000\n",
              "25%            9.000000    35.750000   404.237500\n",
              "50%           29.000000    70.425000  1411.775000\n",
              "75%           56.000000    89.900000  3846.650000\n",
              "max           72.000000   118.750000  8684.800000"
            ]
          },
          "execution_count": 61,
          "metadata": {},
          "output_type": "execute_result"
        }
      ]
    },
    {
      "cell_type": "markdown",
      "metadata": {
        "id": "Us3qU83GOwsb"
      },
      "source": [
        "### Visualização de Dados\n",
        "\n",
        "Olhando como estão distribuidos os Churn/Cancelamento"
      ]
    },
    {
      "cell_type": "code",
      "metadata": {
        "id": "4zRTQPISOwsc",
        "outputId": "b3a06b8a-09b1-4771-d770-a820ebffa192"
      },
      "source": [
        "display(dados_df1['Churn'].value_counts())\n",
        "display(dados_df1['Churn'].value_counts(normalize=True).map('{:.2%}'.format)) #monstrando a porcentagem de Churn"
      ],
      "execution_count": null,
      "outputs": [
        {
          "data": {
            "text/plain": [
              "Nao    4387\n",
              "Sim    1587\n",
              "Name: Churn, dtype: int64"
            ]
          },
          "metadata": {},
          "output_type": "display_data"
        },
        {
          "data": {
            "text/plain": [
              "Nao    73.43%\n",
              "Sim    26.57%\n",
              "Name: Churn, dtype: object"
            ]
          },
          "metadata": {},
          "output_type": "display_data"
        }
      ]
    },
    {
      "cell_type": "markdown",
      "metadata": {
        "id": "YfTqgTEkOwsd"
      },
      "source": [
        "Análise visual dos dados"
      ]
    },
    {
      "cell_type": "code",
      "metadata": {
        "id": "IEBvOySnOwse",
        "outputId": "22e42aba-41aa-42a5-f1c6-0927067488bd"
      },
      "source": [
        "# substituindo a informação de clientes que sairam 'Churn' de string para numérico\n",
        "dados_df1['Churn']=dados_df1['Churn'].replace(['Sim','Nao'],[1,0])\n",
        "display(dados_df1)"
      ],
      "execution_count": null,
      "outputs": [
        {
          "data": {
            "text/html": [
              "<div>\n",
              "<style scoped>\n",
              "    .dataframe tbody tr th:only-of-type {\n",
              "        vertical-align: middle;\n",
              "    }\n",
              "\n",
              "    .dataframe tbody tr th {\n",
              "        vertical-align: top;\n",
              "    }\n",
              "\n",
              "    .dataframe thead th {\n",
              "        text-align: right;\n",
              "    }\n",
              "</style>\n",
              "<table border=\"1\" class=\"dataframe\">\n",
              "  <thead>\n",
              "    <tr style=\"text-align: right;\">\n",
              "      <th></th>\n",
              "      <th>Genero</th>\n",
              "      <th>Aposentado</th>\n",
              "      <th>Casado</th>\n",
              "      <th>Dependentes</th>\n",
              "      <th>MesesComoCliente</th>\n",
              "      <th>ServicoTelefone</th>\n",
              "      <th>MultiplasLinhas</th>\n",
              "      <th>ServicoInternet</th>\n",
              "      <th>ServicoSegurancaOnline</th>\n",
              "      <th>ServicoBackupOnline</th>\n",
              "      <th>ProtecaoEquipamento</th>\n",
              "      <th>ServicoSuporteTecnico</th>\n",
              "      <th>ServicoStreamingTV</th>\n",
              "      <th>ServicoFilmes</th>\n",
              "      <th>TipoContrato</th>\n",
              "      <th>FaturaDigital</th>\n",
              "      <th>FormaPagamento</th>\n",
              "      <th>ValorMensal</th>\n",
              "      <th>TotalGasto</th>\n",
              "      <th>Churn</th>\n",
              "    </tr>\n",
              "  </thead>\n",
              "  <tbody>\n",
              "    <tr>\n",
              "      <th>0</th>\n",
              "      <td>Masculino</td>\n",
              "      <td>Nao</td>\n",
              "      <td>Sim</td>\n",
              "      <td>Sim</td>\n",
              "      <td>72</td>\n",
              "      <td>Sim</td>\n",
              "      <td>Sim</td>\n",
              "      <td>Nao</td>\n",
              "      <td>SemInternet</td>\n",
              "      <td>SemInternet</td>\n",
              "      <td>SemInternet</td>\n",
              "      <td>SemInternet</td>\n",
              "      <td>SemInternet</td>\n",
              "      <td>SemInternet</td>\n",
              "      <td>2 anos</td>\n",
              "      <td>Nao</td>\n",
              "      <td>CartaoCredito</td>\n",
              "      <td>24.10</td>\n",
              "      <td>1734.65</td>\n",
              "      <td>0</td>\n",
              "    </tr>\n",
              "    <tr>\n",
              "      <th>1</th>\n",
              "      <td>Feminino</td>\n",
              "      <td>Nao</td>\n",
              "      <td>Nao</td>\n",
              "      <td>Nao</td>\n",
              "      <td>44</td>\n",
              "      <td>Sim</td>\n",
              "      <td>Nao</td>\n",
              "      <td>Fibra</td>\n",
              "      <td>Nao</td>\n",
              "      <td>Sim</td>\n",
              "      <td>Sim</td>\n",
              "      <td>Nao</td>\n",
              "      <td>Sim</td>\n",
              "      <td>Nao</td>\n",
              "      <td>Mensal</td>\n",
              "      <td>Sim</td>\n",
              "      <td>CartaoCredito</td>\n",
              "      <td>88.15</td>\n",
              "      <td>3973.20</td>\n",
              "      <td>0</td>\n",
              "    </tr>\n",
              "    <tr>\n",
              "      <th>2</th>\n",
              "      <td>Feminino</td>\n",
              "      <td>Sim</td>\n",
              "      <td>Sim</td>\n",
              "      <td>Nao</td>\n",
              "      <td>38</td>\n",
              "      <td>Sim</td>\n",
              "      <td>Sim</td>\n",
              "      <td>Fibra</td>\n",
              "      <td>Nao</td>\n",
              "      <td>Nao</td>\n",
              "      <td>Nao</td>\n",
              "      <td>Nao</td>\n",
              "      <td>Nao</td>\n",
              "      <td>Nao</td>\n",
              "      <td>Mensal</td>\n",
              "      <td>Sim</td>\n",
              "      <td>DebitoAutomatico</td>\n",
              "      <td>74.95</td>\n",
              "      <td>2869.85</td>\n",
              "      <td>1</td>\n",
              "    </tr>\n",
              "    <tr>\n",
              "      <th>3</th>\n",
              "      <td>Masculino</td>\n",
              "      <td>Nao</td>\n",
              "      <td>Nao</td>\n",
              "      <td>Nao</td>\n",
              "      <td>4</td>\n",
              "      <td>Sim</td>\n",
              "      <td>Nao</td>\n",
              "      <td>DSL</td>\n",
              "      <td>Nao</td>\n",
              "      <td>Nao</td>\n",
              "      <td>Nao</td>\n",
              "      <td>Nao</td>\n",
              "      <td>Nao</td>\n",
              "      <td>Sim</td>\n",
              "      <td>Mensal</td>\n",
              "      <td>Sim</td>\n",
              "      <td>BoletoEletronico</td>\n",
              "      <td>55.90</td>\n",
              "      <td>238.50</td>\n",
              "      <td>0</td>\n",
              "    </tr>\n",
              "    <tr>\n",
              "      <th>4</th>\n",
              "      <td>Masculino</td>\n",
              "      <td>Nao</td>\n",
              "      <td>Nao</td>\n",
              "      <td>Nao</td>\n",
              "      <td>2</td>\n",
              "      <td>Sim</td>\n",
              "      <td>Nao</td>\n",
              "      <td>DSL</td>\n",
              "      <td>Sim</td>\n",
              "      <td>Nao</td>\n",
              "      <td>Sim</td>\n",
              "      <td>Nao</td>\n",
              "      <td>Nao</td>\n",
              "      <td>Nao</td>\n",
              "      <td>Mensal</td>\n",
              "      <td>Nao</td>\n",
              "      <td>BoletoEletronico</td>\n",
              "      <td>53.45</td>\n",
              "      <td>119.50</td>\n",
              "      <td>0</td>\n",
              "    </tr>\n",
              "    <tr>\n",
              "      <th>...</th>\n",
              "      <td>...</td>\n",
              "      <td>...</td>\n",
              "      <td>...</td>\n",
              "      <td>...</td>\n",
              "      <td>...</td>\n",
              "      <td>...</td>\n",
              "      <td>...</td>\n",
              "      <td>...</td>\n",
              "      <td>...</td>\n",
              "      <td>...</td>\n",
              "      <td>...</td>\n",
              "      <td>...</td>\n",
              "      <td>...</td>\n",
              "      <td>...</td>\n",
              "      <td>...</td>\n",
              "      <td>...</td>\n",
              "      <td>...</td>\n",
              "      <td>...</td>\n",
              "      <td>...</td>\n",
              "      <td>...</td>\n",
              "    </tr>\n",
              "    <tr>\n",
              "      <th>5981</th>\n",
              "      <td>Masculino</td>\n",
              "      <td>Nao</td>\n",
              "      <td>Sim</td>\n",
              "      <td>Nao</td>\n",
              "      <td>1</td>\n",
              "      <td>Sim</td>\n",
              "      <td>Nao</td>\n",
              "      <td>Fibra</td>\n",
              "      <td>Sim</td>\n",
              "      <td>Nao</td>\n",
              "      <td>Nao</td>\n",
              "      <td>Nao</td>\n",
              "      <td>Sim</td>\n",
              "      <td>Sim</td>\n",
              "      <td>Mensal</td>\n",
              "      <td>Sim</td>\n",
              "      <td>BoletoEletronico</td>\n",
              "      <td>95.00</td>\n",
              "      <td>95.00</td>\n",
              "      <td>1</td>\n",
              "    </tr>\n",
              "    <tr>\n",
              "      <th>5982</th>\n",
              "      <td>Feminino</td>\n",
              "      <td>Nao</td>\n",
              "      <td>Sim</td>\n",
              "      <td>Sim</td>\n",
              "      <td>23</td>\n",
              "      <td>Sim</td>\n",
              "      <td>Sim</td>\n",
              "      <td>DSL</td>\n",
              "      <td>Sim</td>\n",
              "      <td>Sim</td>\n",
              "      <td>Sim</td>\n",
              "      <td>Sim</td>\n",
              "      <td>Sim</td>\n",
              "      <td>Sim</td>\n",
              "      <td>2 anos</td>\n",
              "      <td>Sim</td>\n",
              "      <td>CartaoCredito</td>\n",
              "      <td>91.10</td>\n",
              "      <td>2198.30</td>\n",
              "      <td>0</td>\n",
              "    </tr>\n",
              "    <tr>\n",
              "      <th>5983</th>\n",
              "      <td>Masculino</td>\n",
              "      <td>Nao</td>\n",
              "      <td>Sim</td>\n",
              "      <td>Sim</td>\n",
              "      <td>12</td>\n",
              "      <td>Sim</td>\n",
              "      <td>Nao</td>\n",
              "      <td>Nao</td>\n",
              "      <td>SemInternet</td>\n",
              "      <td>SemInternet</td>\n",
              "      <td>SemInternet</td>\n",
              "      <td>SemInternet</td>\n",
              "      <td>SemInternet</td>\n",
              "      <td>SemInternet</td>\n",
              "      <td>Mensal</td>\n",
              "      <td>Sim</td>\n",
              "      <td>BoletoEletronico</td>\n",
              "      <td>21.15</td>\n",
              "      <td>306.05</td>\n",
              "      <td>0</td>\n",
              "    </tr>\n",
              "    <tr>\n",
              "      <th>5984</th>\n",
              "      <td>Masculino</td>\n",
              "      <td>Sim</td>\n",
              "      <td>Nao</td>\n",
              "      <td>Nao</td>\n",
              "      <td>12</td>\n",
              "      <td>Sim</td>\n",
              "      <td>Sim</td>\n",
              "      <td>Fibra</td>\n",
              "      <td>Nao</td>\n",
              "      <td>Nao</td>\n",
              "      <td>Sim</td>\n",
              "      <td>Nao</td>\n",
              "      <td>Sim</td>\n",
              "      <td>Sim</td>\n",
              "      <td>Mensal</td>\n",
              "      <td>Sim</td>\n",
              "      <td>BoletoEletronico</td>\n",
              "      <td>99.45</td>\n",
              "      <td>1200.15</td>\n",
              "      <td>1</td>\n",
              "    </tr>\n",
              "    <tr>\n",
              "      <th>5985</th>\n",
              "      <td>Masculino</td>\n",
              "      <td>Nao</td>\n",
              "      <td>Nao</td>\n",
              "      <td>Nao</td>\n",
              "      <td>26</td>\n",
              "      <td>Sim</td>\n",
              "      <td>Nao</td>\n",
              "      <td>Nao</td>\n",
              "      <td>SemInternet</td>\n",
              "      <td>SemInternet</td>\n",
              "      <td>SemInternet</td>\n",
              "      <td>SemInternet</td>\n",
              "      <td>SemInternet</td>\n",
              "      <td>SemInternet</td>\n",
              "      <td>Anual</td>\n",
              "      <td>Nao</td>\n",
              "      <td>CartaoCredito</td>\n",
              "      <td>19.80</td>\n",
              "      <td>457.30</td>\n",
              "      <td>0</td>\n",
              "    </tr>\n",
              "  </tbody>\n",
              "</table>\n",
              "<p>5974 rows × 20 columns</p>\n",
              "</div>"
            ],
            "text/plain": [
              "         Genero Aposentado Casado Dependentes  MesesComoCliente  \\\n",
              "0     Masculino        Nao    Sim         Sim                72   \n",
              "1      Feminino        Nao    Nao         Nao                44   \n",
              "2      Feminino        Sim    Sim         Nao                38   \n",
              "3     Masculino        Nao    Nao         Nao                 4   \n",
              "4     Masculino        Nao    Nao         Nao                 2   \n",
              "...         ...        ...    ...         ...               ...   \n",
              "5981  Masculino        Nao    Sim         Nao                 1   \n",
              "5982   Feminino        Nao    Sim         Sim                23   \n",
              "5983  Masculino        Nao    Sim         Sim                12   \n",
              "5984  Masculino        Sim    Nao         Nao                12   \n",
              "5985  Masculino        Nao    Nao         Nao                26   \n",
              "\n",
              "     ServicoTelefone MultiplasLinhas ServicoInternet ServicoSegurancaOnline  \\\n",
              "0                Sim             Sim             Nao            SemInternet   \n",
              "1                Sim             Nao           Fibra                    Nao   \n",
              "2                Sim             Sim           Fibra                    Nao   \n",
              "3                Sim             Nao             DSL                    Nao   \n",
              "4                Sim             Nao             DSL                    Sim   \n",
              "...              ...             ...             ...                    ...   \n",
              "5981             Sim             Nao           Fibra                    Sim   \n",
              "5982             Sim             Sim             DSL                    Sim   \n",
              "5983             Sim             Nao             Nao            SemInternet   \n",
              "5984             Sim             Sim           Fibra                    Nao   \n",
              "5985             Sim             Nao             Nao            SemInternet   \n",
              "\n",
              "     ServicoBackupOnline ProtecaoEquipamento ServicoSuporteTecnico  \\\n",
              "0            SemInternet         SemInternet           SemInternet   \n",
              "1                    Sim                 Sim                   Nao   \n",
              "2                    Nao                 Nao                   Nao   \n",
              "3                    Nao                 Nao                   Nao   \n",
              "4                    Nao                 Sim                   Nao   \n",
              "...                  ...                 ...                   ...   \n",
              "5981                 Nao                 Nao                   Nao   \n",
              "5982                 Sim                 Sim                   Sim   \n",
              "5983         SemInternet         SemInternet           SemInternet   \n",
              "5984                 Nao                 Sim                   Nao   \n",
              "5985         SemInternet         SemInternet           SemInternet   \n",
              "\n",
              "     ServicoStreamingTV ServicoFilmes TipoContrato FaturaDigital  \\\n",
              "0           SemInternet   SemInternet       2 anos           Nao   \n",
              "1                   Sim           Nao       Mensal           Sim   \n",
              "2                   Nao           Nao       Mensal           Sim   \n",
              "3                   Nao           Sim       Mensal           Sim   \n",
              "4                   Nao           Nao       Mensal           Nao   \n",
              "...                 ...           ...          ...           ...   \n",
              "5981                Sim           Sim       Mensal           Sim   \n",
              "5982                Sim           Sim       2 anos           Sim   \n",
              "5983        SemInternet   SemInternet       Mensal           Sim   \n",
              "5984                Sim           Sim       Mensal           Sim   \n",
              "5985        SemInternet   SemInternet        Anual           Nao   \n",
              "\n",
              "        FormaPagamento  ValorMensal  TotalGasto  Churn  \n",
              "0        CartaoCredito        24.10     1734.65      0  \n",
              "1        CartaoCredito        88.15     3973.20      0  \n",
              "2     DebitoAutomatico        74.95     2869.85      1  \n",
              "3     BoletoEletronico        55.90      238.50      0  \n",
              "4     BoletoEletronico        53.45      119.50      0  \n",
              "...                ...          ...         ...    ...  \n",
              "5981  BoletoEletronico        95.00       95.00      1  \n",
              "5982     CartaoCredito        91.10     2198.30      0  \n",
              "5983  BoletoEletronico        21.15      306.05      0  \n",
              "5984  BoletoEletronico        99.45     1200.15      1  \n",
              "5985     CartaoCredito        19.80      457.30      0  \n",
              "\n",
              "[5974 rows x 20 columns]"
            ]
          },
          "metadata": {},
          "output_type": "display_data"
        }
      ]
    },
    {
      "cell_type": "markdown",
      "metadata": {
        "id": "9ifV73iHOwsf"
      },
      "source": [
        "* ### Variavel Genero"
      ]
    },
    {
      "cell_type": "code",
      "metadata": {
        "id": "DAcGOhSJOwsf",
        "outputId": "693b5b51-27df-4563-d940-a304138cbe2c"
      },
      "source": [
        "df_plot = dados_df1.groupby ('Genero'). Churn.mean (). reset_index () \n",
        "df_plot"
      ],
      "execution_count": null,
      "outputs": [
        {
          "data": {
            "text/html": [
              "<div>\n",
              "<style scoped>\n",
              "    .dataframe tbody tr th:only-of-type {\n",
              "        vertical-align: middle;\n",
              "    }\n",
              "\n",
              "    .dataframe tbody tr th {\n",
              "        vertical-align: top;\n",
              "    }\n",
              "\n",
              "    .dataframe thead th {\n",
              "        text-align: right;\n",
              "    }\n",
              "</style>\n",
              "<table border=\"1\" class=\"dataframe\">\n",
              "  <thead>\n",
              "    <tr style=\"text-align: right;\">\n",
              "      <th></th>\n",
              "      <th>Genero</th>\n",
              "      <th>Churn</th>\n",
              "    </tr>\n",
              "  </thead>\n",
              "  <tbody>\n",
              "    <tr>\n",
              "      <th>0</th>\n",
              "      <td>Feminino</td>\n",
              "      <td>0.269874</td>\n",
              "    </tr>\n",
              "    <tr>\n",
              "      <th>1</th>\n",
              "      <td>Masculino</td>\n",
              "      <td>0.261584</td>\n",
              "    </tr>\n",
              "  </tbody>\n",
              "</table>\n",
              "</div>"
            ],
            "text/plain": [
              "      Genero     Churn\n",
              "0   Feminino  0.269874\n",
              "1  Masculino  0.261584"
            ]
          },
          "execution_count": 64,
          "metadata": {},
          "output_type": "execute_result"
        }
      ]
    },
    {
      "cell_type": "code",
      "metadata": {
        "id": "8PF7_BcUOwsg",
        "outputId": "af90f4ca-b712-4e22-a8a3-6ab74a7cd88a"
      },
      "source": [
        "#Genero em relação a variável churn\n",
        "myred='#CD5C5C'\n",
        "myblue='#6495ED'\n",
        "mygreen='#90EE90'\n",
        "cols= [myred, myblue,mygreen]\n",
        "\n",
        "x =df_plot['Genero']\n",
        "y=df_plot['Churn']\n",
        "plt.bar(x,y,color=cols);\n",
        "plt.title('Taxa de Churn em relação ao genero');\n",
        "plt.xlabel('Genero');\n",
        "plt.ylabel('Taxa de Churn');"
      ],
      "execution_count": null,
      "outputs": [
        {
          "data": {
            "image/png": "[encoded data removed]",
            "text/plain": [
              "<Figure size 432x288 with 1 Axes>"
            ]
          },
          "metadata": {
            "needs_background": "light"
          },
          "output_type": "display_data"
        }
      ]
    },
    {
      "cell_type": "markdown",
      "metadata": {
        "id": "KVlmV-WNOwsi"
      },
      "source": [
        "Podemos observar que a taxa de evasão de clientes em diferentes sexo são iguais."
      ]
    },
    {
      "cell_type": "markdown",
      "metadata": {
        "id": "qyrFa5jMOwsi"
      },
      "source": [
        "* ### Variável Aposentado"
      ]
    },
    {
      "cell_type": "code",
      "metadata": {
        "id": "Zuu8HiBdOwsj",
        "outputId": "e6cd1589-8d16-450a-fe17-bf6f6568204d"
      },
      "source": [
        "df_plot = dados_df1.groupby ('Aposentado'). Churn.mean (). reset_index () \n",
        "df_plot"
      ],
      "execution_count": null,
      "outputs": [
        {
          "data": {
            "text/html": [
              "<div>\n",
              "<style scoped>\n",
              "    .dataframe tbody tr th:only-of-type {\n",
              "        vertical-align: middle;\n",
              "    }\n",
              "\n",
              "    .dataframe tbody tr th {\n",
              "        vertical-align: top;\n",
              "    }\n",
              "\n",
              "    .dataframe thead th {\n",
              "        text-align: right;\n",
              "    }\n",
              "</style>\n",
              "<table border=\"1\" class=\"dataframe\">\n",
              "  <thead>\n",
              "    <tr style=\"text-align: right;\">\n",
              "      <th></th>\n",
              "      <th>Aposentado</th>\n",
              "      <th>Churn</th>\n",
              "    </tr>\n",
              "  </thead>\n",
              "  <tbody>\n",
              "    <tr>\n",
              "      <th>0</th>\n",
              "      <td>Nao</td>\n",
              "      <td>0.236621</td>\n",
              "    </tr>\n",
              "    <tr>\n",
              "      <th>1</th>\n",
              "      <td>Sim</td>\n",
              "      <td>0.416149</td>\n",
              "    </tr>\n",
              "  </tbody>\n",
              "</table>\n",
              "</div>"
            ],
            "text/plain": [
              "  Aposentado     Churn\n",
              "0        Nao  0.236621\n",
              "1        Sim  0.416149"
            ]
          },
          "execution_count": 66,
          "metadata": {},
          "output_type": "execute_result"
        }
      ]
    },
    {
      "cell_type": "code",
      "metadata": {
        "id": "TISpQwlYOwsl",
        "outputId": "f557e9ce-d78f-4240-bfd3-e02c9542ec31"
      },
      "source": [
        "x =df_plot['Aposentado']\n",
        "y=df_plot['Churn']\n",
        "plt.bar(x,y,color=cols);\n",
        "plt.title('Taxa de Churn em relação a Aposentadoria');\n",
        "plt.xlabel('Aposentado');\n",
        "plt.ylabel('Taxa de Churn');"
      ],
      "execution_count": null,
      "outputs": [
        {
          "data": {
            "image/png": "[encoded data removed]",
            "text/plain": [
              "<Figure size 432x288 with 1 Axes>"
            ]
          },
          "metadata": {
            "needs_background": "light"
          },
          "output_type": "display_data"
        }
      ]
    },
    {
      "cell_type": "markdown",
      "metadata": {
        "id": "Sw2rr6WhOwsm"
      },
      "source": [
        "Podemos observar que a evasão de clientes é maior em pessoas aposentadas."
      ]
    },
    {
      "cell_type": "markdown",
      "metadata": {
        "id": "SRVJ2ZY-Owsm"
      },
      "source": [
        "* ### Variável Casado"
      ]
    },
    {
      "cell_type": "code",
      "metadata": {
        "id": "jgamMz3qOwsn",
        "outputId": "56900f58-c0fd-4210-dbab-38e443712def"
      },
      "source": [
        "df_plot = dados_df1.groupby ('Casado'). Churn.mean (). reset_index () \n",
        "df_plot"
      ],
      "execution_count": null,
      "outputs": [
        {
          "data": {
            "text/html": [
              "<div>\n",
              "<style scoped>\n",
              "    .dataframe tbody tr th:only-of-type {\n",
              "        vertical-align: middle;\n",
              "    }\n",
              "\n",
              "    .dataframe tbody tr th {\n",
              "        vertical-align: top;\n",
              "    }\n",
              "\n",
              "    .dataframe thead th {\n",
              "        text-align: right;\n",
              "    }\n",
              "</style>\n",
              "<table border=\"1\" class=\"dataframe\">\n",
              "  <thead>\n",
              "    <tr style=\"text-align: right;\">\n",
              "      <th></th>\n",
              "      <th>Casado</th>\n",
              "      <th>Churn</th>\n",
              "    </tr>\n",
              "  </thead>\n",
              "  <tbody>\n",
              "    <tr>\n",
              "      <th>0</th>\n",
              "      <td>Nao</td>\n",
              "      <td>0.328247</td>\n",
              "    </tr>\n",
              "    <tr>\n",
              "      <th>1</th>\n",
              "      <td>Sim</td>\n",
              "      <td>0.199032</td>\n",
              "    </tr>\n",
              "  </tbody>\n",
              "</table>\n",
              "</div>"
            ],
            "text/plain": [
              "  Casado     Churn\n",
              "0    Nao  0.328247\n",
              "1    Sim  0.199032"
            ]
          },
          "execution_count": 68,
          "metadata": {},
          "output_type": "execute_result"
        }
      ]
    },
    {
      "cell_type": "code",
      "metadata": {
        "id": "bqk-bG3XOwso",
        "outputId": "82c10864-48db-4735-cf88-d44ef40a8bb1"
      },
      "source": [
        "x =df_plot['Casado']\n",
        "y=df_plot['Churn']\n",
        "plt.bar(x,y,color=cols);\n",
        "plt.title('Taxa de Churn em relação ao Estado Civil');\n",
        "plt.xlabel('Casado');\n",
        "plt.ylabel('Taxa de Churn');"
      ],
      "execution_count": null,
      "outputs": [
        {
          "data": {
            "image/png": "[encoded data removed]",
            "text/plain": [
              "<Figure size 432x288 with 1 Axes>"
            ]
          },
          "metadata": {
            "needs_background": "light"
          },
          "output_type": "display_data"
        }
      ]
    },
    {
      "cell_type": "markdown",
      "metadata": {
        "id": "uvRIGSgqOwso"
      },
      "source": [
        "Podemos observar que a taxa de evasão de clientes solteiro é maior. "
      ]
    },
    {
      "cell_type": "markdown",
      "metadata": {
        "id": "f1-k1va5Owsp"
      },
      "source": [
        "* ### Variável Dependentes"
      ]
    },
    {
      "cell_type": "code",
      "metadata": {
        "id": "9F1NntZgOwsp",
        "outputId": "05761423-52a1-4803-d33d-d17715e6d76f"
      },
      "source": [
        "df_plot = dados_df1.groupby ('Dependentes'). Churn.mean (). reset_index () \n",
        "df_plot"
      ],
      "execution_count": null,
      "outputs": [
        {
          "data": {
            "text/html": [
              "<div>\n",
              "<style scoped>\n",
              "    .dataframe tbody tr th:only-of-type {\n",
              "        vertical-align: middle;\n",
              "    }\n",
              "\n",
              "    .dataframe tbody tr th {\n",
              "        vertical-align: top;\n",
              "    }\n",
              "\n",
              "    .dataframe thead th {\n",
              "        text-align: right;\n",
              "    }\n",
              "</style>\n",
              "<table border=\"1\" class=\"dataframe\">\n",
              "  <thead>\n",
              "    <tr style=\"text-align: right;\">\n",
              "      <th></th>\n",
              "      <th>Dependentes</th>\n",
              "      <th>Churn</th>\n",
              "    </tr>\n",
              "  </thead>\n",
              "  <tbody>\n",
              "    <tr>\n",
              "      <th>0</th>\n",
              "      <td>Nao</td>\n",
              "      <td>0.311397</td>\n",
              "    </tr>\n",
              "    <tr>\n",
              "      <th>1</th>\n",
              "      <td>Sim</td>\n",
              "      <td>0.157865</td>\n",
              "    </tr>\n",
              "  </tbody>\n",
              "</table>\n",
              "</div>"
            ],
            "text/plain": [
              "  Dependentes     Churn\n",
              "0         Nao  0.311397\n",
              "1         Sim  0.157865"
            ]
          },
          "execution_count": 70,
          "metadata": {},
          "output_type": "execute_result"
        }
      ]
    },
    {
      "cell_type": "code",
      "metadata": {
        "id": "Se2pE2wpOwsq",
        "outputId": "440e8d48-c63c-4544-dc71-f9d4405a62fa"
      },
      "source": [
        "x =df_plot['Dependentes']\n",
        "y=df_plot['Churn']\n",
        "plt.bar(x,y,color=cols);\n",
        "plt.title('Taxa de Churn em relação ao Dependente');\n",
        "plt.xlabel('Dependentes');\n",
        "plt.ylabel('Taxa de Churn');"
      ],
      "execution_count": null,
      "outputs": [
        {
          "data": {
            "image/png": "[encoded data removed]",
            "text/plain": [
              "<Figure size 432x288 with 1 Axes>"
            ]
          },
          "metadata": {
            "needs_background": "light"
          },
          "output_type": "display_data"
        }
      ]
    },
    {
      "cell_type": "markdown",
      "metadata": {
        "id": "H_ECefGaOwsq"
      },
      "source": [
        "Podemos observar que a taxa evasão de clientes que não tem dependentes é duas vezes maior em relação aos clientes que tem dependentes."
      ]
    },
    {
      "cell_type": "markdown",
      "metadata": {
        "id": "Bt0p8h9YOwsq"
      },
      "source": [
        "* ### Serviço Telefonico"
      ]
    },
    {
      "cell_type": "code",
      "metadata": {
        "id": "mTuuiNVLOwsr",
        "outputId": "20c0c8f0-3e7a-4e91-d7ba-fad498903218"
      },
      "source": [
        "df_plot = dados_df1.groupby ('ServicoTelefone'). Churn.mean (). reset_index () \n",
        "df_plot"
      ],
      "execution_count": null,
      "outputs": [
        {
          "data": {
            "text/html": [
              "<div>\n",
              "<style scoped>\n",
              "    .dataframe tbody tr th:only-of-type {\n",
              "        vertical-align: middle;\n",
              "    }\n",
              "\n",
              "    .dataframe tbody tr th {\n",
              "        vertical-align: top;\n",
              "    }\n",
              "\n",
              "    .dataframe thead th {\n",
              "        text-align: right;\n",
              "    }\n",
              "</style>\n",
              "<table border=\"1\" class=\"dataframe\">\n",
              "  <thead>\n",
              "    <tr style=\"text-align: right;\">\n",
              "      <th></th>\n",
              "      <th>ServicoTelefone</th>\n",
              "      <th>Churn</th>\n",
              "    </tr>\n",
              "  </thead>\n",
              "  <tbody>\n",
              "    <tr>\n",
              "      <th>0</th>\n",
              "      <td>Nao</td>\n",
              "      <td>0.253401</td>\n",
              "    </tr>\n",
              "    <tr>\n",
              "      <th>1</th>\n",
              "      <td>Sim</td>\n",
              "      <td>0.266988</td>\n",
              "    </tr>\n",
              "  </tbody>\n",
              "</table>\n",
              "</div>"
            ],
            "text/plain": [
              "  ServicoTelefone     Churn\n",
              "0             Nao  0.253401\n",
              "1             Sim  0.266988"
            ]
          },
          "execution_count": 72,
          "metadata": {},
          "output_type": "execute_result"
        }
      ]
    },
    {
      "cell_type": "code",
      "metadata": {
        "id": "r4olnvSeOwsr",
        "outputId": "b6f00c0d-f23b-4d7e-8a15-eaafa746d73b"
      },
      "source": [
        "x =df_plot['ServicoTelefone']\n",
        "y=df_plot['Churn']\n",
        "plt.bar(x,y,color=cols);\n",
        "plt.title('Taxa de Churn em relação ao Servico Telefonico');\n",
        "plt.xlabel('ServicoTelefone');\n",
        "plt.ylabel('Taxa de Churn');"
      ],
      "execution_count": null,
      "outputs": [
        {
          "data": {
            "image/png": "[encoded data removed]",
            "text/plain": [
              "<Figure size 432x288 with 1 Axes>"
            ]
          },
          "metadata": {
            "needs_background": "light"
          },
          "output_type": "display_data"
        }
      ]
    },
    {
      "cell_type": "markdown",
      "metadata": {
        "id": "VJYrrX99Owss"
      },
      "source": [
        "Podemos observar que a  taxa de evasão de clientes que optam em ter serviço de telefone são iguais."
      ]
    },
    {
      "cell_type": "markdown",
      "metadata": {
        "id": "fPswqfduOwss"
      },
      "source": [
        "* ### Multiplas Linhas"
      ]
    },
    {
      "cell_type": "code",
      "metadata": {
        "id": "1LyCMhLIOwss",
        "outputId": "22978d3b-b232-42e7-cb29-7f1ea85fc372"
      },
      "source": [
        "df_plot = dados_df1.groupby ('MultiplasLinhas'). Churn.mean (). reset_index () \n",
        "df_plot"
      ],
      "execution_count": null,
      "outputs": [
        {
          "data": {
            "text/html": [
              "<div>\n",
              "<style scoped>\n",
              "    .dataframe tbody tr th:only-of-type {\n",
              "        vertical-align: middle;\n",
              "    }\n",
              "\n",
              "    .dataframe tbody tr th {\n",
              "        vertical-align: top;\n",
              "    }\n",
              "\n",
              "    .dataframe thead th {\n",
              "        text-align: right;\n",
              "    }\n",
              "</style>\n",
              "<table border=\"1\" class=\"dataframe\">\n",
              "  <thead>\n",
              "    <tr style=\"text-align: right;\">\n",
              "      <th></th>\n",
              "      <th>MultiplasLinhas</th>\n",
              "      <th>Churn</th>\n",
              "    </tr>\n",
              "  </thead>\n",
              "  <tbody>\n",
              "    <tr>\n",
              "      <th>0</th>\n",
              "      <td>Nao</td>\n",
              "      <td>0.251583</td>\n",
              "    </tr>\n",
              "    <tr>\n",
              "      <th>1</th>\n",
              "      <td>SemTelefone</td>\n",
              "      <td>0.253401</td>\n",
              "    </tr>\n",
              "    <tr>\n",
              "      <th>2</th>\n",
              "      <td>Sim</td>\n",
              "      <td>0.284198</td>\n",
              "    </tr>\n",
              "  </tbody>\n",
              "</table>\n",
              "</div>"
            ],
            "text/plain": [
              "  MultiplasLinhas     Churn\n",
              "0             Nao  0.251583\n",
              "1     SemTelefone  0.253401\n",
              "2             Sim  0.284198"
            ]
          },
          "execution_count": 74,
          "metadata": {},
          "output_type": "execute_result"
        }
      ]
    },
    {
      "cell_type": "code",
      "metadata": {
        "id": "nW4PgipmOwst",
        "outputId": "2f0566e8-634e-489d-9098-f8a13c9db036"
      },
      "source": [
        "x =df_plot['MultiplasLinhas']\n",
        "y=df_plot['Churn']\n",
        "plt.bar(x,y,color=cols);\n",
        "plt.title('Taxa de Churn em relação a Multiplas Linhas');\n",
        "plt.xlabel('MultiplasLinhas');\n",
        "plt.ylabel('Taxa de Churn');"
      ],
      "execution_count": null,
      "outputs": [
        {
          "data": {
            "image/png": "[encoded data removed]",
            "text/plain": [
              "<Figure size 432x288 with 1 Axes>"
            ]
          },
          "metadata": {
            "needs_background": "light"
          },
          "output_type": "display_data"
        }
      ]
    },
    {
      "cell_type": "markdown",
      "metadata": {
        "id": "l0JS3GF6Owsu"
      },
      "source": [
        "Podemos observar que a taxa de evasão de clientes com multiplas linhas é em torno de 3% maior."
      ]
    },
    {
      "cell_type": "markdown",
      "metadata": {
        "id": "h9VeMw-nOwsu"
      },
      "source": [
        "* ### Serviço de Internet"
      ]
    },
    {
      "cell_type": "code",
      "metadata": {
        "id": "wBbWjXjeOwsu",
        "outputId": "22f03cb5-59ff-4163-a2a1-6ef10db27de1"
      },
      "source": [
        "df_plot = dados_df1.groupby ('ServicoInternet'). Churn.mean (). reset_index () \n",
        "df_plot"
      ],
      "execution_count": null,
      "outputs": [
        {
          "data": {
            "text/html": [
              "<div>\n",
              "<style scoped>\n",
              "    .dataframe tbody tr th:only-of-type {\n",
              "        vertical-align: middle;\n",
              "    }\n",
              "\n",
              "    .dataframe tbody tr th {\n",
              "        vertical-align: top;\n",
              "    }\n",
              "\n",
              "    .dataframe thead th {\n",
              "        text-align: right;\n",
              "    }\n",
              "</style>\n",
              "<table border=\"1\" class=\"dataframe\">\n",
              "  <thead>\n",
              "    <tr style=\"text-align: right;\">\n",
              "      <th></th>\n",
              "      <th>ServicoInternet</th>\n",
              "      <th>Churn</th>\n",
              "    </tr>\n",
              "  </thead>\n",
              "  <tbody>\n",
              "    <tr>\n",
              "      <th>0</th>\n",
              "      <td>DSL</td>\n",
              "      <td>0.192438</td>\n",
              "    </tr>\n",
              "    <tr>\n",
              "      <th>1</th>\n",
              "      <td>Fibra</td>\n",
              "      <td>0.415303</td>\n",
              "    </tr>\n",
              "    <tr>\n",
              "      <th>2</th>\n",
              "      <td>Nao</td>\n",
              "      <td>0.077103</td>\n",
              "    </tr>\n",
              "  </tbody>\n",
              "</table>\n",
              "</div>"
            ],
            "text/plain": [
              "  ServicoInternet     Churn\n",
              "0             DSL  0.192438\n",
              "1           Fibra  0.415303\n",
              "2             Nao  0.077103"
            ]
          },
          "execution_count": 76,
          "metadata": {},
          "output_type": "execute_result"
        }
      ]
    },
    {
      "cell_type": "code",
      "metadata": {
        "id": "It8Rjtk0Owsv",
        "outputId": "446f3a9c-fee7-4a67-dc23-26a64c9aab9d"
      },
      "source": [
        "x =df_plot['ServicoInternet']\n",
        "y=df_plot['Churn']\n",
        "plt.bar(x,y,color=cols);\n",
        "plt.title('Taxa de Churn em relação a Servico Internet');\n",
        "plt.xlabel('ServicoInternet');\n",
        "plt.ylabel('Taxa de Churn');"
      ],
      "execution_count": null,
      "outputs": [
        {
          "data": {
            "image/png": "[encoded data removed]",
            "text/plain": [
              "<Figure size 432x288 with 1 Axes>"
            ]
          },
          "metadata": {
            "needs_background": "light"
          },
          "output_type": "display_data"
        }
      ]
    },
    {
      "cell_type": "markdown",
      "metadata": {
        "id": "ZuBv4dnDOwsv"
      },
      "source": [
        "Clientes que utilizam fibra ótica tem taxa de cancelamento bem maior do que os outros serviços.\n",
        "        \n",
        "  Insights:\n",
        "   \n",
        "  - Verificar a qualidade de entrega do serviço ao cliente;         \n",
        "                   "
      ]
    },
    {
      "cell_type": "markdown",
      "metadata": {
        "id": "sYWjx6AqOwsv"
      },
      "source": [
        "* ### Serviço Segurança Online"
      ]
    },
    {
      "cell_type": "code",
      "metadata": {
        "id": "wEGXh8EoOwsw",
        "outputId": "f052efc1-bbef-45f7-95df-b713b2ed9a52"
      },
      "source": [
        "df_plot = dados_df1.groupby ('ServicoSegurancaOnline'). Churn.mean (). reset_index () \n",
        "df_plot"
      ],
      "execution_count": null,
      "outputs": [
        {
          "data": {
            "text/html": [
              "<div>\n",
              "<style scoped>\n",
              "    .dataframe tbody tr th:only-of-type {\n",
              "        vertical-align: middle;\n",
              "    }\n",
              "\n",
              "    .dataframe tbody tr th {\n",
              "        vertical-align: top;\n",
              "    }\n",
              "\n",
              "    .dataframe thead th {\n",
              "        text-align: right;\n",
              "    }\n",
              "</style>\n",
              "<table border=\"1\" class=\"dataframe\">\n",
              "  <thead>\n",
              "    <tr style=\"text-align: right;\">\n",
              "      <th></th>\n",
              "      <th>ServicoSegurancaOnline</th>\n",
              "      <th>Churn</th>\n",
              "    </tr>\n",
              "  </thead>\n",
              "  <tbody>\n",
              "    <tr>\n",
              "      <th>0</th>\n",
              "      <td>Nao</td>\n",
              "      <td>0.416499</td>\n",
              "    </tr>\n",
              "    <tr>\n",
              "      <th>1</th>\n",
              "      <td>SemInternet</td>\n",
              "      <td>0.077103</td>\n",
              "    </tr>\n",
              "    <tr>\n",
              "      <th>2</th>\n",
              "      <td>Sim</td>\n",
              "      <td>0.144028</td>\n",
              "    </tr>\n",
              "  </tbody>\n",
              "</table>\n",
              "</div>"
            ],
            "text/plain": [
              "  ServicoSegurancaOnline     Churn\n",
              "0                    Nao  0.416499\n",
              "1            SemInternet  0.077103\n",
              "2                    Sim  0.144028"
            ]
          },
          "execution_count": 78,
          "metadata": {},
          "output_type": "execute_result"
        }
      ]
    },
    {
      "cell_type": "code",
      "metadata": {
        "id": "8FlJlMAjOwsw",
        "outputId": "e323fdc2-98b4-4cc7-dc6d-9502b49cf158"
      },
      "source": [
        "x =df_plot['ServicoSegurancaOnline']\n",
        "y=df_plot['Churn']\n",
        "plt.bar(x,y,color=cols);\n",
        "plt.title('Taxa de Churn em relação a Servico Seguranca Online');\n",
        "plt.xlabel('ServicoSegurancaOnline');\n",
        "plt.ylabel('Taxa de Churn');"
      ],
      "execution_count": null,
      "outputs": [
        {
          "data": {
            "image/png": "[encoded data removed]",
            "text/plain": [
              "<Figure size 432x288 with 1 Axes>"
            ]
          },
          "metadata": {
            "needs_background": "light"
          },
          "output_type": "display_data"
        }
      ]
    },
    {
      "cell_type": "markdown",
      "metadata": {
        "id": "4jxh8ny1Owsx"
      },
      "source": [
        "Verificamos que a taxa de evasão de clientes que não tem serviço segurança online é maior em relação aos que fazem uso do serviço.\n",
        "\n",
        " Insights:\n",
        "   \n",
        "  - Aumentar a confiabilidade/disponibilidade do serviço recebido pelo cliente;"
      ]
    },
    {
      "cell_type": "markdown",
      "metadata": {
        "id": "T9ncoaOTOwsx"
      },
      "source": [
        "* ### Serviço Backup Online"
      ]
    },
    {
      "cell_type": "code",
      "metadata": {
        "id": "9MWmPVRyOwsx",
        "outputId": "f29471a4-b489-47b9-f45d-4c6ea8ef66f5"
      },
      "source": [
        "df_plot = dados_df1.groupby ('ServicoBackupOnline'). Churn.mean (). reset_index () \n",
        "df_plot"
      ],
      "execution_count": null,
      "outputs": [
        {
          "data": {
            "text/html": [
              "<div>\n",
              "<style scoped>\n",
              "    .dataframe tbody tr th:only-of-type {\n",
              "        vertical-align: middle;\n",
              "    }\n",
              "\n",
              "    .dataframe tbody tr th {\n",
              "        vertical-align: top;\n",
              "    }\n",
              "\n",
              "    .dataframe thead th {\n",
              "        text-align: right;\n",
              "    }\n",
              "</style>\n",
              "<table border=\"1\" class=\"dataframe\">\n",
              "  <thead>\n",
              "    <tr style=\"text-align: right;\">\n",
              "      <th></th>\n",
              "      <th>ServicoBackupOnline</th>\n",
              "      <th>Churn</th>\n",
              "    </tr>\n",
              "  </thead>\n",
              "  <tbody>\n",
              "    <tr>\n",
              "      <th>0</th>\n",
              "      <td>Nao</td>\n",
              "      <td>0.398618</td>\n",
              "    </tr>\n",
              "    <tr>\n",
              "      <th>1</th>\n",
              "      <td>SemInternet</td>\n",
              "      <td>0.077103</td>\n",
              "    </tr>\n",
              "    <tr>\n",
              "      <th>2</th>\n",
              "      <td>Sim</td>\n",
              "      <td>0.215724</td>\n",
              "    </tr>\n",
              "  </tbody>\n",
              "</table>\n",
              "</div>"
            ],
            "text/plain": [
              "  ServicoBackupOnline     Churn\n",
              "0                 Nao  0.398618\n",
              "1         SemInternet  0.077103\n",
              "2                 Sim  0.215724"
            ]
          },
          "execution_count": 80,
          "metadata": {},
          "output_type": "execute_result"
        }
      ]
    },
    {
      "cell_type": "code",
      "metadata": {
        "id": "IMhH7hWUOwsy",
        "outputId": "100015aa-d2fc-44bf-b33e-c24253581c24"
      },
      "source": [
        "x =df_plot['ServicoBackupOnline']\n",
        "y=df_plot['Churn']\n",
        "plt.bar(x,y,color=cols);\n",
        "plt.title('Taxa de Churn em relação a Servico Backup Online');\n",
        "plt.xlabel('ServicoBackupOnline');\n",
        "plt.ylabel('Taxa de Churn');"
      ],
      "execution_count": null,
      "outputs": [
        {
          "data": {
            "image/png": "[encoded data removed]",
            "text/plain": [
              "<Figure size 432x288 with 1 Axes>"
            ]
          },
          "metadata": {
            "needs_background": "light"
          },
          "output_type": "display_data"
        }
      ]
    },
    {
      "cell_type": "markdown",
      "metadata": {
        "id": "sMbJRWPDOwsy"
      },
      "source": [
        "Podemos observar que a taxa de evasão de clientes que não utilizam serviço backup online é maior em relação aos que fazem uso do serviço.\n",
        "\n",
        " Insights:\n",
        "   \n",
        "  - Aumentar a confiabilidade/disponibilidade do serviço recebido pelo cliente;"
      ]
    },
    {
      "cell_type": "markdown",
      "metadata": {
        "id": "G566KTkjOwsy"
      },
      "source": [
        "* ### Proteção de Equipamento"
      ]
    },
    {
      "cell_type": "code",
      "metadata": {
        "id": "XdqY3VIiOwsz",
        "outputId": "3d66de54-6890-4c77-a517-de6bb13d3500"
      },
      "source": [
        "df_plot = dados_df1.groupby ('ProtecaoEquipamento'). Churn.mean (). reset_index () \n",
        "df_plot"
      ],
      "execution_count": null,
      "outputs": [
        {
          "data": {
            "text/html": [
              "<div>\n",
              "<style scoped>\n",
              "    .dataframe tbody tr th:only-of-type {\n",
              "        vertical-align: middle;\n",
              "    }\n",
              "\n",
              "    .dataframe tbody tr th {\n",
              "        vertical-align: top;\n",
              "    }\n",
              "\n",
              "    .dataframe thead th {\n",
              "        text-align: right;\n",
              "    }\n",
              "</style>\n",
              "<table border=\"1\" class=\"dataframe\">\n",
              "  <thead>\n",
              "    <tr style=\"text-align: right;\">\n",
              "      <th></th>\n",
              "      <th>ProtecaoEquipamento</th>\n",
              "      <th>Churn</th>\n",
              "    </tr>\n",
              "  </thead>\n",
              "  <tbody>\n",
              "    <tr>\n",
              "      <th>0</th>\n",
              "      <td>Nao</td>\n",
              "      <td>0.390678</td>\n",
              "    </tr>\n",
              "    <tr>\n",
              "      <th>1</th>\n",
              "      <td>SemInternet</td>\n",
              "      <td>0.077103</td>\n",
              "    </tr>\n",
              "    <tr>\n",
              "      <th>2</th>\n",
              "      <td>Sim</td>\n",
              "      <td>0.222818</td>\n",
              "    </tr>\n",
              "  </tbody>\n",
              "</table>\n",
              "</div>"
            ],
            "text/plain": [
              "  ProtecaoEquipamento     Churn\n",
              "0                 Nao  0.390678\n",
              "1         SemInternet  0.077103\n",
              "2                 Sim  0.222818"
            ]
          },
          "execution_count": 82,
          "metadata": {},
          "output_type": "execute_result"
        }
      ]
    },
    {
      "cell_type": "code",
      "metadata": {
        "id": "OpqtH428Owsz",
        "outputId": "7c479496-79d5-4cf9-a35e-f2404f6e2b82"
      },
      "source": [
        "x =df_plot['ProtecaoEquipamento']\n",
        "y=df_plot['Churn']\n",
        "plt.bar(x,y,color=cols);\n",
        "plt.title('Taxa de Churn em relação a Protecao Equipamento');\n",
        "plt.xlabel('ProtecaoEquipamento');\n",
        "plt.ylabel('Taxa de Churn');"
      ],
      "execution_count": null,
      "outputs": [
        {
          "data": {
            "image/png": "[encoded data removed]",
            "text/plain": [
              "<Figure size 432x288 with 1 Axes>"
            ]
          },
          "metadata": {
            "needs_background": "light"
          },
          "output_type": "display_data"
        }
      ]
    },
    {
      "cell_type": "markdown",
      "metadata": {
        "id": "RWv8D2x7Ows0"
      },
      "source": [
        "Podemos observar que a a taxa de evasão de clientes que não utilizam-se da proteção equipamento é maior em relação aos que utilizam.\n",
        "\n",
        " Insights:\n",
        "   \n",
        "  - Aumentar a confiabilidade/disponibilidade do serviço recebido pelo cliente;"
      ]
    },
    {
      "cell_type": "markdown",
      "metadata": {
        "id": "Z4xb5D8XOws0"
      },
      "source": [
        "* ### Serviço Suporte Técnico"
      ]
    },
    {
      "cell_type": "code",
      "metadata": {
        "id": "YnEJTCovOws0",
        "outputId": "22678810-7000-40ff-c490-840aee29c201"
      },
      "source": [
        "df_plot = dados_df1.groupby ('ServicoSuporteTecnico'). Churn.mean (). reset_index () \n",
        "df_plot"
      ],
      "execution_count": null,
      "outputs": [
        {
          "data": {
            "text/html": [
              "<div>\n",
              "<style scoped>\n",
              "    .dataframe tbody tr th:only-of-type {\n",
              "        vertical-align: middle;\n",
              "    }\n",
              "\n",
              "    .dataframe tbody tr th {\n",
              "        vertical-align: top;\n",
              "    }\n",
              "\n",
              "    .dataframe thead th {\n",
              "        text-align: right;\n",
              "    }\n",
              "</style>\n",
              "<table border=\"1\" class=\"dataframe\">\n",
              "  <thead>\n",
              "    <tr style=\"text-align: right;\">\n",
              "      <th></th>\n",
              "      <th>ServicoSuporteTecnico</th>\n",
              "      <th>Churn</th>\n",
              "    </tr>\n",
              "  </thead>\n",
              "  <tbody>\n",
              "    <tr>\n",
              "      <th>0</th>\n",
              "      <td>Nao</td>\n",
              "      <td>0.412977</td>\n",
              "    </tr>\n",
              "    <tr>\n",
              "      <th>1</th>\n",
              "      <td>SemInternet</td>\n",
              "      <td>0.077103</td>\n",
              "    </tr>\n",
              "    <tr>\n",
              "      <th>2</th>\n",
              "      <td>Sim</td>\n",
              "      <td>0.153668</td>\n",
              "    </tr>\n",
              "  </tbody>\n",
              "</table>\n",
              "</div>"
            ],
            "text/plain": [
              "  ServicoSuporteTecnico     Churn\n",
              "0                   Nao  0.412977\n",
              "1           SemInternet  0.077103\n",
              "2                   Sim  0.153668"
            ]
          },
          "execution_count": 84,
          "metadata": {},
          "output_type": "execute_result"
        }
      ]
    },
    {
      "cell_type": "code",
      "metadata": {
        "id": "UzcC8tL5Ows1",
        "outputId": "9e2dfb48-11c7-4e2c-8e85-34e35d48a42a"
      },
      "source": [
        "x =df_plot['ServicoSuporteTecnico']\n",
        "y=df_plot['Churn']\n",
        "plt.bar(x,y,color=cols);\n",
        "plt.title('Taxa de Churn em relação ao Servico Suporte Tecnico');\n",
        "plt.xlabel('ServicoSuporteTecnico');\n",
        "plt.ylabel('Taxa de Churn');"
      ],
      "execution_count": null,
      "outputs": [
        {
          "data": {
            "image/png": "[encoded data removed]",
            "text/plain": [
              "<Figure size 432x288 with 1 Axes>"
            ]
          },
          "metadata": {
            "needs_background": "light"
          },
          "output_type": "display_data"
        }
      ]
    },
    {
      "cell_type": "markdown",
      "metadata": {
        "id": "vjKJRLpzOws1"
      },
      "source": [
        "Podemos observar que a taxa de evasão de clientes é maior em pessoas que nao fazem uso do serviço suporte técnico.\n",
        "\n",
        " Insights:\n",
        "   \n",
        "  - Aumentar a confiabilidade/disponibilidade do serviço recebido pelo cliente;"
      ]
    },
    {
      "cell_type": "markdown",
      "metadata": {
        "id": "cBUA98QHOws2"
      },
      "source": [
        "* ### Serviço Streaming"
      ]
    },
    {
      "cell_type": "code",
      "metadata": {
        "id": "j9H4E1ZtOws2",
        "outputId": "ac699663-86ce-45cd-b2d3-5bd516bb33cc"
      },
      "source": [
        "df_plot = dados_df1.groupby ('ServicoStreamingTV'). Churn.mean (). reset_index () \n",
        "df_plot"
      ],
      "execution_count": null,
      "outputs": [
        {
          "data": {
            "text/html": [
              "<div>\n",
              "<style scoped>\n",
              "    .dataframe tbody tr th:only-of-type {\n",
              "        vertical-align: middle;\n",
              "    }\n",
              "\n",
              "    .dataframe tbody tr th {\n",
              "        vertical-align: top;\n",
              "    }\n",
              "\n",
              "    .dataframe thead th {\n",
              "        text-align: right;\n",
              "    }\n",
              "</style>\n",
              "<table border=\"1\" class=\"dataframe\">\n",
              "  <thead>\n",
              "    <tr style=\"text-align: right;\">\n",
              "      <th></th>\n",
              "      <th>ServicoStreamingTV</th>\n",
              "      <th>Churn</th>\n",
              "    </tr>\n",
              "  </thead>\n",
              "  <tbody>\n",
              "    <tr>\n",
              "      <th>0</th>\n",
              "      <td>Nao</td>\n",
              "      <td>0.334590</td>\n",
              "    </tr>\n",
              "    <tr>\n",
              "      <th>1</th>\n",
              "      <td>SemInternet</td>\n",
              "      <td>0.077103</td>\n",
              "    </tr>\n",
              "    <tr>\n",
              "      <th>2</th>\n",
              "      <td>Sim</td>\n",
              "      <td>0.299305</td>\n",
              "    </tr>\n",
              "  </tbody>\n",
              "</table>\n",
              "</div>"
            ],
            "text/plain": [
              "  ServicoStreamingTV     Churn\n",
              "0                Nao  0.334590\n",
              "1        SemInternet  0.077103\n",
              "2                Sim  0.299305"
            ]
          },
          "execution_count": 86,
          "metadata": {},
          "output_type": "execute_result"
        }
      ]
    },
    {
      "cell_type": "code",
      "metadata": {
        "id": "odqc66yfOws2",
        "outputId": "bdddb717-413a-44a1-824a-45e835da8a25"
      },
      "source": [
        "x =df_plot['ServicoStreamingTV']\n",
        "y=df_plot['Churn']\n",
        "plt.bar(x,y,color=cols);\n",
        "plt.title('Taxa de Churn em relação ao Servico Streaming TV');\n",
        "plt.xlabel('ServicoStreamingTV');\n",
        "plt.ylabel('Taxa de Churn');"
      ],
      "execution_count": null,
      "outputs": [
        {
          "data": {
            "image/png": "[encoded data removed]",
            "text/plain": [
              "<Figure size 432x288 with 1 Axes>"
            ]
          },
          "metadata": {
            "needs_background": "light"
          },
          "output_type": "display_data"
        }
      ]
    },
    {
      "cell_type": "markdown",
      "metadata": {
        "id": "EY7bxPW4Ows3"
      },
      "source": [
        "Podemos observar que a taxa de evasão de clientes que nao utilizam o serviço streaming TV é 4% maior em relação a que utilizam."
      ]
    },
    {
      "cell_type": "markdown",
      "metadata": {
        "id": "Zp1qxUdoOws3"
      },
      "source": [
        "* ### Serviço Filme"
      ]
    },
    {
      "cell_type": "code",
      "metadata": {
        "id": "C8AzDDWVOws4",
        "outputId": "31badca4-7461-4935-d239-b6c359fc4ed7"
      },
      "source": [
        "df_plot = dados_df1.groupby ('ServicoFilmes'). Churn.mean (). reset_index () \n",
        "df_plot"
      ],
      "execution_count": null,
      "outputs": [
        {
          "data": {
            "text/html": [
              "<div>\n",
              "<style scoped>\n",
              "    .dataframe tbody tr th:only-of-type {\n",
              "        vertical-align: middle;\n",
              "    }\n",
              "\n",
              "    .dataframe tbody tr th {\n",
              "        vertical-align: top;\n",
              "    }\n",
              "\n",
              "    .dataframe thead th {\n",
              "        text-align: right;\n",
              "    }\n",
              "</style>\n",
              "<table border=\"1\" class=\"dataframe\">\n",
              "  <thead>\n",
              "    <tr style=\"text-align: right;\">\n",
              "      <th></th>\n",
              "      <th>ServicoFilmes</th>\n",
              "      <th>Churn</th>\n",
              "    </tr>\n",
              "  </thead>\n",
              "  <tbody>\n",
              "    <tr>\n",
              "      <th>0</th>\n",
              "      <td>Nao</td>\n",
              "      <td>0.336592</td>\n",
              "    </tr>\n",
              "    <tr>\n",
              "      <th>1</th>\n",
              "      <td>SemInternet</td>\n",
              "      <td>0.077103</td>\n",
              "    </tr>\n",
              "    <tr>\n",
              "      <th>2</th>\n",
              "      <td>Sim</td>\n",
              "      <td>0.297818</td>\n",
              "    </tr>\n",
              "  </tbody>\n",
              "</table>\n",
              "</div>"
            ],
            "text/plain": [
              "  ServicoFilmes     Churn\n",
              "0           Nao  0.336592\n",
              "1   SemInternet  0.077103\n",
              "2           Sim  0.297818"
            ]
          },
          "execution_count": 88,
          "metadata": {},
          "output_type": "execute_result"
        }
      ]
    },
    {
      "cell_type": "code",
      "metadata": {
        "id": "HXNQSx7xOws4",
        "outputId": "0cd0fe56-bff8-42f0-c4bd-a2415a892398"
      },
      "source": [
        "x =df_plot['ServicoFilmes']\n",
        "y=df_plot['Churn']\n",
        "plt.bar(x,y,color=cols);\n",
        "plt.title('Taxa de Churn em relação ao Servico Filmes');\n",
        "plt.xlabel('ServicoFilmes');\n",
        "plt.ylabel('Taxa de Churn');"
      ],
      "execution_count": null,
      "outputs": [
        {
          "data": {
            "image/png": "[encoded data removed]",
            "text/plain": [
              "<Figure size 432x288 with 1 Axes>"
            ]
          },
          "metadata": {
            "needs_background": "light"
          },
          "output_type": "display_data"
        }
      ]
    },
    {
      "cell_type": "markdown",
      "metadata": {
        "id": "m8oiAqJxOws4"
      },
      "source": [
        "Podemos observar que a evasão de clientes é de 3% maior das que fazem uso do serviço de filmes."
      ]
    },
    {
      "cell_type": "markdown",
      "metadata": {
        "id": "Uk1-ZdsVOws4"
      },
      "source": [
        "* ### Tipo de Contrato"
      ]
    },
    {
      "cell_type": "code",
      "metadata": {
        "id": "XQoaWujhOws5",
        "outputId": "e7f84d51-50b3-4ab5-916c-5810864c71b0"
      },
      "source": [
        "df_plot = dados_df1.groupby ('TipoContrato'). Churn.mean (). reset_index () \n",
        "df_plot"
      ],
      "execution_count": null,
      "outputs": [
        {
          "data": {
            "text/html": [
              "<div>\n",
              "<style scoped>\n",
              "    .dataframe tbody tr th:only-of-type {\n",
              "        vertical-align: middle;\n",
              "    }\n",
              "\n",
              "    .dataframe tbody tr th {\n",
              "        vertical-align: top;\n",
              "    }\n",
              "\n",
              "    .dataframe thead th {\n",
              "        text-align: right;\n",
              "    }\n",
              "</style>\n",
              "<table border=\"1\" class=\"dataframe\">\n",
              "  <thead>\n",
              "    <tr style=\"text-align: right;\">\n",
              "      <th></th>\n",
              "      <th>TipoContrato</th>\n",
              "      <th>Churn</th>\n",
              "    </tr>\n",
              "  </thead>\n",
              "  <tbody>\n",
              "    <tr>\n",
              "      <th>0</th>\n",
              "      <td>2 anos</td>\n",
              "      <td>0.028671</td>\n",
              "    </tr>\n",
              "    <tr>\n",
              "      <th>1</th>\n",
              "      <td>Anual</td>\n",
              "      <td>0.116078</td>\n",
              "    </tr>\n",
              "    <tr>\n",
              "      <th>2</th>\n",
              "      <td>Mensal</td>\n",
              "      <td>0.427654</td>\n",
              "    </tr>\n",
              "  </tbody>\n",
              "</table>\n",
              "</div>"
            ],
            "text/plain": [
              "  TipoContrato     Churn\n",
              "0       2 anos  0.028671\n",
              "1        Anual  0.116078\n",
              "2       Mensal  0.427654"
            ]
          },
          "execution_count": 90,
          "metadata": {},
          "output_type": "execute_result"
        }
      ]
    },
    {
      "cell_type": "code",
      "metadata": {
        "id": "KAInfL93Ows5",
        "outputId": "8ca3e826-9d2a-4e38-9c1f-843b1637f487"
      },
      "source": [
        "x =df_plot['TipoContrato']\n",
        "y=df_plot['Churn']\n",
        "plt.bar(x,y,color=cols);\n",
        "plt.title('Taxa de Churn em relação ao Tipo Contrato');\n",
        "plt.xlabel('TipoContrato');\n",
        "plt.ylabel('Taxa de Churn');"
      ],
      "execution_count": null,
      "outputs": [
        {
          "data": {
            "image/png": "[encoded data removed]",
            "text/plain": [
              "<Figure size 432x288 with 1 Axes>"
            ]
          },
          "metadata": {
            "needs_background": "light"
          },
          "output_type": "display_data"
        }
      ]
    },
    {
      "cell_type": "markdown",
      "metadata": {
        "id": "QqcfU5_0Ows5"
      },
      "source": [
        "Podemos observar que a evasão de clientes que fazem uso pelo tipo de contrato mensal é maior em relação aos demais tipos.\n",
        "\n",
        " Insights:\n",
        "   \n",
        "  - Melhorar as condiçoes comerciais dos planos anuais para direcionar a pessoa para estes casos;"
      ]
    },
    {
      "cell_type": "markdown",
      "metadata": {
        "id": "mPVzkJ-pOws5"
      },
      "source": [
        "* ### Fatura Digital"
      ]
    },
    {
      "cell_type": "code",
      "metadata": {
        "id": "imF8_XXmOws6",
        "outputId": "a03d6097-f050-4a6e-b2fd-efd7fd10577d"
      },
      "source": [
        "df_plot = dados_df1.groupby ('FaturaDigital'). Churn.mean (). reset_index () \n",
        "df_plot"
      ],
      "execution_count": null,
      "outputs": [
        {
          "data": {
            "text/html": [
              "<div>\n",
              "<style scoped>\n",
              "    .dataframe tbody tr th:only-of-type {\n",
              "        vertical-align: middle;\n",
              "    }\n",
              "\n",
              "    .dataframe tbody tr th {\n",
              "        vertical-align: top;\n",
              "    }\n",
              "\n",
              "    .dataframe thead th {\n",
              "        text-align: right;\n",
              "    }\n",
              "</style>\n",
              "<table border=\"1\" class=\"dataframe\">\n",
              "  <thead>\n",
              "    <tr style=\"text-align: right;\">\n",
              "      <th></th>\n",
              "      <th>FaturaDigital</th>\n",
              "      <th>Churn</th>\n",
              "    </tr>\n",
              "  </thead>\n",
              "  <tbody>\n",
              "    <tr>\n",
              "      <th>0</th>\n",
              "      <td>Nao</td>\n",
              "      <td>0.165647</td>\n",
              "    </tr>\n",
              "    <tr>\n",
              "      <th>1</th>\n",
              "      <td>Sim</td>\n",
              "      <td>0.335226</td>\n",
              "    </tr>\n",
              "  </tbody>\n",
              "</table>\n",
              "</div>"
            ],
            "text/plain": [
              "  FaturaDigital     Churn\n",
              "0           Nao  0.165647\n",
              "1           Sim  0.335226"
            ]
          },
          "execution_count": 92,
          "metadata": {},
          "output_type": "execute_result"
        }
      ]
    },
    {
      "cell_type": "code",
      "metadata": {
        "id": "yRu0FAoZOws6",
        "outputId": "6a4b9044-dc65-45cc-c457-d9eb637935aa"
      },
      "source": [
        "x =df_plot['FaturaDigital']\n",
        "y=df_plot['Churn']\n",
        "plt.bar(x,y,color=cols);\n",
        "plt.title('Taxa de Churn em relação a Fatura Digital');\n",
        "plt.xlabel('FaturaDigital');\n",
        "plt.ylabel('Taxa de Churn');"
      ],
      "execution_count": null,
      "outputs": [
        {
          "data": {
            "image/png": "[encoded data removed]",
            "text/plain": [
              "<Figure size 432x288 with 1 Axes>"
            ]
          },
          "metadata": {
            "needs_background": "light"
          },
          "output_type": "display_data"
        }
      ]
    },
    {
      "cell_type": "markdown",
      "metadata": {
        "id": "5KktDy5EOws6"
      },
      "source": [
        "Observamos que a a taxa de evasão de clientes que utilizam-se fatura digital é duas vezes maior daquelas que não fazem uso."
      ]
    },
    {
      "cell_type": "markdown",
      "metadata": {
        "id": "9bniuGeSOws7"
      },
      "source": [
        "* ### Forma de Pagamento"
      ]
    },
    {
      "cell_type": "code",
      "metadata": {
        "id": "lS523GFVOws7",
        "outputId": "1d0e2e50-d90d-4dd7-94b2-bf68863d3fd4"
      },
      "source": [
        "df_plot = dados_df1.groupby ('FormaPagamento'). Churn.mean (). reset_index () \n",
        "df_plot"
      ],
      "execution_count": null,
      "outputs": [
        {
          "data": {
            "text/html": [
              "<div>\n",
              "<style scoped>\n",
              "    .dataframe tbody tr th:only-of-type {\n",
              "        vertical-align: middle;\n",
              "    }\n",
              "\n",
              "    .dataframe tbody tr th {\n",
              "        vertical-align: top;\n",
              "    }\n",
              "\n",
              "    .dataframe thead th {\n",
              "        text-align: right;\n",
              "    }\n",
              "</style>\n",
              "<table border=\"1\" class=\"dataframe\">\n",
              "  <thead>\n",
              "    <tr style=\"text-align: right;\">\n",
              "      <th></th>\n",
              "      <th>FormaPagamento</th>\n",
              "      <th>Churn</th>\n",
              "    </tr>\n",
              "  </thead>\n",
              "  <tbody>\n",
              "    <tr>\n",
              "      <th>0</th>\n",
              "      <td>BoletoEletronico</td>\n",
              "      <td>0.449651</td>\n",
              "    </tr>\n",
              "    <tr>\n",
              "      <th>1</th>\n",
              "      <td>BoletoImpresso</td>\n",
              "      <td>0.193240</td>\n",
              "    </tr>\n",
              "    <tr>\n",
              "      <th>2</th>\n",
              "      <td>CartaoCredito</td>\n",
              "      <td>0.152074</td>\n",
              "    </tr>\n",
              "    <tr>\n",
              "      <th>3</th>\n",
              "      <td>DebitoAutomatico</td>\n",
              "      <td>0.171648</td>\n",
              "    </tr>\n",
              "  </tbody>\n",
              "</table>\n",
              "</div>"
            ],
            "text/plain": [
              "     FormaPagamento     Churn\n",
              "0  BoletoEletronico  0.449651\n",
              "1    BoletoImpresso  0.193240\n",
              "2     CartaoCredito  0.152074\n",
              "3  DebitoAutomatico  0.171648"
            ]
          },
          "execution_count": 94,
          "metadata": {},
          "output_type": "execute_result"
        }
      ]
    },
    {
      "cell_type": "code",
      "metadata": {
        "id": "r8g-rqwNOws7",
        "outputId": "df7d8ffe-a751-4a80-9e53-6edf5714330f"
      },
      "source": [
        "x =df_plot['FormaPagamento']\n",
        "y=df_plot['Churn']\n",
        "plt.bar(x,y,color=cols);\n",
        "plt.title('Taxa de Churn em relação a Forma de Pagamento');\n",
        "plt.xlabel('FormaPagamento');\n",
        "plt.ylabel('Taxa de Churn');"
      ],
      "execution_count": null,
      "outputs": [
        {
          "data": {
            "image/png": "[encoded data removed]",
            "text/plain": [
              "<Figure size 432x288 with 1 Axes>"
            ]
          },
          "metadata": {
            "needs_background": "light"
          },
          "output_type": "display_data"
        }
      ]
    },
    {
      "cell_type": "markdown",
      "metadata": {
        "id": "RLgz7iCUOws7"
      },
      "source": [
        "Podemos observar que a taxa de evasão de clientes com boleto eletrônico é maior daqueles que utilizam de outras formas de pagamento.\n",
        "\n",
        "Insights:\n",
        "   \n",
        "  - A forma de pagamento por boleto eletronico tem um resultado muito ruim. Se possível evitar;\n",
        "  - Idéia: Oferecer benefícios caso a pessoa escolha a forma de pagamento automatica;"
      ]
    },
    {
      "cell_type": "markdown",
      "metadata": {
        "id": "bEquArtcOws8"
      },
      "source": [
        "* ### Matriz de Correlação\n",
        "\n",
        "Utilizaremos a função heatmap() para entender o relacionamento entre as variáveis numéricas."
      ]
    },
    {
      "cell_type": "code",
      "metadata": {
        "id": "QlkCcDGtOws8",
        "outputId": "2585393d-a1f3-4945-dbb8-6f756174ddc7"
      },
      "source": [
        "sns.heatmap(dados_df1.corr(),annot = True,\n",
        "            cmap='Blues');"
      ],
      "execution_count": null,
      "outputs": [
        {
          "data": {
            "image/png": "[encoded data removed]",
            "text/plain": [
              "<Figure size 432x288 with 2 Axes>"
            ]
          },
          "metadata": {
            "needs_background": "light"
          },
          "output_type": "display_data"
        }
      ]
    },
    {
      "cell_type": "markdown",
      "metadata": {
        "id": "PqO51_ahOws8"
      },
      "source": [
        "* ### Meses como Cliente"
      ]
    },
    {
      "cell_type": "code",
      "metadata": {
        "id": "9d2Lzq-0Ows9",
        "outputId": "7fe3fa64-70a0-4e63-e380-d4b9c23b9523"
      },
      "source": [
        "#box-plot meses como cliente em relação ao Churn\n",
        "sns.boxplot(x=\"Churn\", y=\"MesesComoCliente\", data=dados_df1,palette=cols);\n",
        "plt.title('Box-plot da variável Meses como Cliente');\n",
        "plt.xlabel('Churn');\n",
        "plt.ylabel('Meses como Cliente');\n",
        "dados_df1.groupby(['Churn'])['MesesComoCliente'].mean()"
      ],
      "execution_count": null,
      "outputs": [
        {
          "data": {
            "text/plain": [
              "Churn\n",
              "0    37.671074\n",
              "1    18.246377\n",
              "Name: MesesComoCliente, dtype: float64"
            ]
          },
          "execution_count": 97,
          "metadata": {},
          "output_type": "execute_result"
        },
        {
          "data": {
            "image/png": "[encoded data removed]",
            "text/plain": [
              "<Figure size 432x288 with 1 Axes>"
            ]
          },
          "metadata": {
            "needs_background": "light"
          },
          "output_type": "display_data"
        }
      ]
    },
    {
      "cell_type": "markdown",
      "metadata": {
        "id": "yB2GpMvpOws9"
      },
      "source": [
        "Podemos observar que a evasão de clientes é maior nos primeiros meses e vai diminuindo com o passar dos meses.\n",
        "\n",
        "Insights: \n",
        "  - Baixa qualidade no atendimento do pós-venda;\n",
        "  - Primeira experiência com o cliente não é boa;\n",
        "  - Captação de cliente falha:\n",
        "  - Clientes desqualificado;\n",
        "  - Expectativas erradas ao adquirir o produto;"
      ]
    },
    {
      "cell_type": "markdown",
      "metadata": {
        "id": "KUk4WFc6Ows9"
      },
      "source": [
        "* ### Valor Mensal"
      ]
    },
    {
      "cell_type": "code",
      "metadata": {
        "id": "JnSg6fhrOws-",
        "outputId": "b29142a7-1195-48ce-a28a-acbbc96af930"
      },
      "source": [
        "#box-plot valor mensal em relação ao Churn\n",
        "sns.boxplot(x=\"Churn\", y=\"ValorMensal\", data=dados_df1,palette=cols);\n",
        "plt.title('Box-plot da variável Valor Mensal');\n",
        "plt.xlabel('Churn');\n",
        "plt.ylabel('Valor Mensal');\n",
        "dados_df1.groupby(['Churn'])['ValorMensal'].mean()"
      ],
      "execution_count": null,
      "outputs": [
        {
          "data": {
            "text/plain": [
              "Churn\n",
              "0    61.480248\n",
              "1    74.164871\n",
              "Name: ValorMensal, dtype: float64"
            ]
          },
          "execution_count": 98,
          "metadata": {},
          "output_type": "execute_result"
        },
        {
          "data": {
            "image/png": "[encoded data removed]",
            "text/plain": [
              "<Figure size 432x288 with 1 Axes>"
            ]
          },
          "metadata": {
            "needs_background": "light"
          },
          "output_type": "display_data"
        }
      ]
    },
    {
      "cell_type": "markdown",
      "metadata": {
        "id": "VhzuhMZIOws-"
      },
      "source": [
        "Clientes que cancelaram possui um valor mensal maior do que aqueles clientes que não cancelaram o serviço."
      ]
    },
    {
      "cell_type": "markdown",
      "metadata": {
        "id": "gx6348a_Ows-"
      },
      "source": [
        "* ### Total Gasto"
      ]
    },
    {
      "cell_type": "code",
      "metadata": {
        "id": "pgnP-JxMOws-",
        "outputId": "e3c5fb93-a76f-4898-9f45-d5ecf8b71da5"
      },
      "source": [
        "#box-plot total gasto em relação ao Churn\n",
        "sns.boxplot(x=\"Churn\", y='TotalGasto', data=dados_df1,palette=cols);\n",
        "plt.title('Box-plot do Total Gasto');\n",
        "plt.xlabel('Churn');\n",
        "plt.ylabel('Total Gasto');\n",
        "dados_df1.groupby(['Churn'])['TotalGasto'].mean()"
      ],
      "execution_count": null,
      "outputs": [
        {
          "data": {
            "text/plain": [
              "Churn\n",
              "0    2567.744222\n",
              "1    1550.701985\n",
              "Name: TotalGasto, dtype: float64"
            ]
          },
          "execution_count": 99,
          "metadata": {},
          "output_type": "execute_result"
        },
        {
          "data": {
            "image/png": "[encoded data removed]",
            "text/plain": [
              "<Figure size 432x288 with 1 Axes>"
            ]
          },
          "metadata": {
            "needs_background": "light"
          },
          "output_type": "display_data"
        }
      ]
    },
    {
      "cell_type": "markdown",
      "metadata": {
        "id": "N5F8XKnxOws_"
      },
      "source": [
        "Clientes que cancelaram possui um total de gasto menor do que aqueles clientes que não cancelaram o serviço."
      ]
    },
    {
      "cell_type": "markdown",
      "metadata": {
        "id": "TL8pIwhFOws_"
      },
      "source": [
        "## 5 - Pré-Processamento"
      ]
    },
    {
      "cell_type": "markdown",
      "metadata": {
        "id": "bGN6HMEgOws_"
      },
      "source": [
        "Em Machine Learning, é comum utilizarmos conjuntos de dados 100% numéricos para que fique adequado para qualquer modelo que se deseje utilizar. Isso significa que não pode haver dados faltantes e nem variáveis do tipo string (ou outros tipos que não sejam numéricos)."
      ]
    },
    {
      "cell_type": "markdown",
      "metadata": {
        "id": "S2hy5TiDOwtA"
      },
      "source": [
        "* ### Verificação de dados faltantes"
      ]
    },
    {
      "cell_type": "code",
      "metadata": {
        "id": "DWZbyLD6OwtA",
        "outputId": "31bfc089-2460-41a8-c492-ded7f041cf29"
      },
      "source": [
        "#Identificando os dados faltantes\n",
        "dados_df1.isnull().sum()"
      ],
      "execution_count": null,
      "outputs": [
        {
          "data": {
            "text/plain": [
              "Genero                    0\n",
              "Aposentado                0\n",
              "Casado                    0\n",
              "Dependentes               0\n",
              "MesesComoCliente          0\n",
              "ServicoTelefone           0\n",
              "MultiplasLinhas           0\n",
              "ServicoInternet           0\n",
              "ServicoSegurancaOnline    0\n",
              "ServicoBackupOnline       0\n",
              "ProtecaoEquipamento       0\n",
              "ServicoSuporteTecnico     0\n",
              "ServicoStreamingTV        0\n",
              "ServicoFilmes             0\n",
              "TipoContrato              0\n",
              "FaturaDigital             0\n",
              "FormaPagamento            0\n",
              "ValorMensal               0\n",
              "TotalGasto                0\n",
              "Churn                     0\n",
              "dtype: int64"
            ]
          },
          "execution_count": 100,
          "metadata": {},
          "output_type": "execute_result"
        }
      ]
    },
    {
      "cell_type": "markdown",
      "metadata": {
        "id": "lNaZHxseOwtA"
      },
      "source": [
        "Não há dados faltantes."
      ]
    },
    {
      "cell_type": "markdown",
      "metadata": {
        "id": "P4b2Dy80OwtA"
      },
      "source": [
        "* ### Dummyficação de variáveis"
      ]
    },
    {
      "cell_type": "code",
      "metadata": {
        "id": "gbJnysVrOwtA"
      },
      "source": [
        "variaveis_cat = ['Genero', 'Aposentado', 'Casado', 'Dependentes', 'ServicoTelefone', 'MultiplasLinhas','ServicoInternet','ServicoSegurancaOnline','ServicoBackupOnline','ProtecaoEquipamento','ServicoSuporteTecnico','ServicoStreamingTV','ServicoFilmes','TipoContrato','FaturaDigital','FormaPagamento']\n",
        "\n",
        "dados_df1 = pd.get_dummies(dados_df1, columns = variaveis_cat, drop_first = True)"
      ],
      "execution_count": null,
      "outputs": []
    },
    {
      "cell_type": "code",
      "metadata": {
        "id": "RbiG8rPmOwtB",
        "outputId": "a37deff1-1954-421a-91ea-32266ab2bfbc"
      },
      "source": [
        "dados_df1.head()"
      ],
      "execution_count": null,
      "outputs": [
        {
          "data": {
            "text/html": [
              "<div>\n",
              "<style scoped>\n",
              "    .dataframe tbody tr th:only-of-type {\n",
              "        vertical-align: middle;\n",
              "    }\n",
              "\n",
              "    .dataframe tbody tr th {\n",
              "        vertical-align: top;\n",
              "    }\n",
              "\n",
              "    .dataframe thead th {\n",
              "        text-align: right;\n",
              "    }\n",
              "</style>\n",
              "<table border=\"1\" class=\"dataframe\">\n",
              "  <thead>\n",
              "    <tr style=\"text-align: right;\">\n",
              "      <th></th>\n",
              "      <th>MesesComoCliente</th>\n",
              "      <th>ValorMensal</th>\n",
              "      <th>TotalGasto</th>\n",
              "      <th>Churn</th>\n",
              "      <th>Genero_Masculino</th>\n",
              "      <th>Aposentado_Sim</th>\n",
              "      <th>Casado_Sim</th>\n",
              "      <th>Dependentes_Sim</th>\n",
              "      <th>ServicoTelefone_Sim</th>\n",
              "      <th>MultiplasLinhas_SemTelefone</th>\n",
              "      <th>...</th>\n",
              "      <th>ServicoStreamingTV_SemInternet</th>\n",
              "      <th>ServicoStreamingTV_Sim</th>\n",
              "      <th>ServicoFilmes_SemInternet</th>\n",
              "      <th>ServicoFilmes_Sim</th>\n",
              "      <th>TipoContrato_Anual</th>\n",
              "      <th>TipoContrato_Mensal</th>\n",
              "      <th>FaturaDigital_Sim</th>\n",
              "      <th>FormaPagamento_BoletoImpresso</th>\n",
              "      <th>FormaPagamento_CartaoCredito</th>\n",
              "      <th>FormaPagamento_DebitoAutomatico</th>\n",
              "    </tr>\n",
              "  </thead>\n",
              "  <tbody>\n",
              "    <tr>\n",
              "      <th>0</th>\n",
              "      <td>72</td>\n",
              "      <td>24.10</td>\n",
              "      <td>1734.65</td>\n",
              "      <td>0</td>\n",
              "      <td>1</td>\n",
              "      <td>0</td>\n",
              "      <td>1</td>\n",
              "      <td>1</td>\n",
              "      <td>1</td>\n",
              "      <td>0</td>\n",
              "      <td>...</td>\n",
              "      <td>1</td>\n",
              "      <td>0</td>\n",
              "      <td>1</td>\n",
              "      <td>0</td>\n",
              "      <td>0</td>\n",
              "      <td>0</td>\n",
              "      <td>0</td>\n",
              "      <td>0</td>\n",
              "      <td>1</td>\n",
              "      <td>0</td>\n",
              "    </tr>\n",
              "    <tr>\n",
              "      <th>1</th>\n",
              "      <td>44</td>\n",
              "      <td>88.15</td>\n",
              "      <td>3973.20</td>\n",
              "      <td>0</td>\n",
              "      <td>0</td>\n",
              "      <td>0</td>\n",
              "      <td>0</td>\n",
              "      <td>0</td>\n",
              "      <td>1</td>\n",
              "      <td>0</td>\n",
              "      <td>...</td>\n",
              "      <td>0</td>\n",
              "      <td>1</td>\n",
              "      <td>0</td>\n",
              "      <td>0</td>\n",
              "      <td>0</td>\n",
              "      <td>1</td>\n",
              "      <td>1</td>\n",
              "      <td>0</td>\n",
              "      <td>1</td>\n",
              "      <td>0</td>\n",
              "    </tr>\n",
              "    <tr>\n",
              "      <th>2</th>\n",
              "      <td>38</td>\n",
              "      <td>74.95</td>\n",
              "      <td>2869.85</td>\n",
              "      <td>1</td>\n",
              "      <td>0</td>\n",
              "      <td>1</td>\n",
              "      <td>1</td>\n",
              "      <td>0</td>\n",
              "      <td>1</td>\n",
              "      <td>0</td>\n",
              "      <td>...</td>\n",
              "      <td>0</td>\n",
              "      <td>0</td>\n",
              "      <td>0</td>\n",
              "      <td>0</td>\n",
              "      <td>0</td>\n",
              "      <td>1</td>\n",
              "      <td>1</td>\n",
              "      <td>0</td>\n",
              "      <td>0</td>\n",
              "      <td>1</td>\n",
              "    </tr>\n",
              "    <tr>\n",
              "      <th>3</th>\n",
              "      <td>4</td>\n",
              "      <td>55.90</td>\n",
              "      <td>238.50</td>\n",
              "      <td>0</td>\n",
              "      <td>1</td>\n",
              "      <td>0</td>\n",
              "      <td>0</td>\n",
              "      <td>0</td>\n",
              "      <td>1</td>\n",
              "      <td>0</td>\n",
              "      <td>...</td>\n",
              "      <td>0</td>\n",
              "      <td>0</td>\n",
              "      <td>0</td>\n",
              "      <td>1</td>\n",
              "      <td>0</td>\n",
              "      <td>1</td>\n",
              "      <td>1</td>\n",
              "      <td>0</td>\n",
              "      <td>0</td>\n",
              "      <td>0</td>\n",
              "    </tr>\n",
              "    <tr>\n",
              "      <th>4</th>\n",
              "      <td>2</td>\n",
              "      <td>53.45</td>\n",
              "      <td>119.50</td>\n",
              "      <td>0</td>\n",
              "      <td>1</td>\n",
              "      <td>0</td>\n",
              "      <td>0</td>\n",
              "      <td>0</td>\n",
              "      <td>1</td>\n",
              "      <td>0</td>\n",
              "      <td>...</td>\n",
              "      <td>0</td>\n",
              "      <td>0</td>\n",
              "      <td>0</td>\n",
              "      <td>0</td>\n",
              "      <td>0</td>\n",
              "      <td>1</td>\n",
              "      <td>0</td>\n",
              "      <td>0</td>\n",
              "      <td>0</td>\n",
              "      <td>0</td>\n",
              "    </tr>\n",
              "  </tbody>\n",
              "</table>\n",
              "<p>5 rows × 31 columns</p>\n",
              "</div>"
            ],
            "text/plain": [
              "   MesesComoCliente  ValorMensal  TotalGasto  Churn  Genero_Masculino  \\\n",
              "0                72        24.10     1734.65      0                 1   \n",
              "1                44        88.15     3973.20      0                 0   \n",
              "2                38        74.95     2869.85      1                 0   \n",
              "3                 4        55.90      238.50      0                 1   \n",
              "4                 2        53.45      119.50      0                 1   \n",
              "\n",
              "   Aposentado_Sim  Casado_Sim  Dependentes_Sim  ServicoTelefone_Sim  \\\n",
              "0               0           1                1                    1   \n",
              "1               0           0                0                    1   \n",
              "2               1           1                0                    1   \n",
              "3               0           0                0                    1   \n",
              "4               0           0                0                    1   \n",
              "\n",
              "   MultiplasLinhas_SemTelefone  ...  ServicoStreamingTV_SemInternet  \\\n",
              "0                            0  ...                               1   \n",
              "1                            0  ...                               0   \n",
              "2                            0  ...                               0   \n",
              "3                            0  ...                               0   \n",
              "4                            0  ...                               0   \n",
              "\n",
              "   ServicoStreamingTV_Sim  ServicoFilmes_SemInternet  ServicoFilmes_Sim  \\\n",
              "0                       0                          1                  0   \n",
              "1                       1                          0                  0   \n",
              "2                       0                          0                  0   \n",
              "3                       0                          0                  1   \n",
              "4                       0                          0                  0   \n",
              "\n",
              "   TipoContrato_Anual  TipoContrato_Mensal  FaturaDigital_Sim  \\\n",
              "0                   0                    0                  0   \n",
              "1                   0                    1                  1   \n",
              "2                   0                    1                  1   \n",
              "3                   0                    1                  1   \n",
              "4                   0                    1                  0   \n",
              "\n",
              "   FormaPagamento_BoletoImpresso  FormaPagamento_CartaoCredito  \\\n",
              "0                              0                             1   \n",
              "1                              0                             1   \n",
              "2                              0                             0   \n",
              "3                              0                             0   \n",
              "4                              0                             0   \n",
              "\n",
              "   FormaPagamento_DebitoAutomatico  \n",
              "0                                0  \n",
              "1                                0  \n",
              "2                                1  \n",
              "3                                0  \n",
              "4                                0  \n",
              "\n",
              "[5 rows x 31 columns]"
            ]
          },
          "execution_count": 102,
          "metadata": {},
          "output_type": "execute_result"
        }
      ]
    },
    {
      "cell_type": "markdown",
      "metadata": {
        "id": "VrZQC_oOOwtB"
      },
      "source": [
        "* ### Separando as variaveis numéricas das categoricas\n",
        "\n",
        "Variáveis numéricas são aquelas variáveis que assumem valores numéricos, por exemplo a variável idade. As variáveis numéricas são classificadas como variaveis contínuas ou discreta.\n",
        "\n",
        "As variáveis contínuas assumem valores na reta real, como a variável Salário Estimado. E as variáveis discretas são aquelas que assumem valores inteiros, como a variável número de produtos.\n",
        "\n",
        "Variáveis categóricas são variáveis que não assumem valores numéricos. Por exemplo, a variável país.\n",
        "\n",
        "As variáveis categóricas são classificadas como nominais e ordinais. As variáveis categóricas nominais são aquelas que não tem nenhuma ordem envolvida, por exemplo, a variável sexo e ordinais quando temos uma ordem envolvida, como a variável grau de escolaridade.\n",
        "\n",
        "No pré processamento dos dados separamos as variáveis entre categóricas e numéricas, pois para cada tipo de variável utilizamos técnicas de processamento diferentes."
      ]
    },
    {
      "cell_type": "code",
      "metadata": {
        "id": "cl1tmGIqOwtB",
        "outputId": "8f51e7f7-88c7-4201-ff36-447399f97ef5"
      },
      "source": [
        "#Variáveis Continuas\n",
        "x_cont=['MesesComoCliente', 'ValorMensal','TotalGasto']\n",
        "x_cont"
      ],
      "execution_count": null,
      "outputs": [
        {
          "data": {
            "text/plain": [
              "['MesesComoCliente', 'ValorMensal', 'TotalGasto']"
            ]
          },
          "execution_count": 103,
          "metadata": {},
          "output_type": "execute_result"
        }
      ]
    },
    {
      "cell_type": "markdown",
      "metadata": {
        "id": "9wXfOQZvOwtC"
      },
      "source": [
        "* ### Escalas das variáveis contínuas"
      ]
    },
    {
      "cell_type": "code",
      "metadata": {
        "id": "xx1l07f-OwtC",
        "outputId": "e8279220-eb0f-447e-be0a-5068fd2a2a8a"
      },
      "source": [
        "from sklearn.preprocessing import MinMaxScaler\n",
        "scaler = MinMaxScaler()\n",
        "dados_df1[x_cont] = scaler.fit_transform(dados_df1[x_cont])\n",
        "dados_df1[x_cont]"
      ],
      "execution_count": null,
      "outputs": [
        {
          "data": {
            "text/html": [
              "<div>\n",
              "<style scoped>\n",
              "    .dataframe tbody tr th:only-of-type {\n",
              "        vertical-align: middle;\n",
              "    }\n",
              "\n",
              "    .dataframe tbody tr th {\n",
              "        vertical-align: top;\n",
              "    }\n",
              "\n",
              "    .dataframe thead th {\n",
              "        text-align: right;\n",
              "    }\n",
              "</style>\n",
              "<table border=\"1\" class=\"dataframe\">\n",
              "  <thead>\n",
              "    <tr style=\"text-align: right;\">\n",
              "      <th></th>\n",
              "      <th>MesesComoCliente</th>\n",
              "      <th>ValorMensal</th>\n",
              "      <th>TotalGasto</th>\n",
              "    </tr>\n",
              "  </thead>\n",
              "  <tbody>\n",
              "    <tr>\n",
              "      <th>0</th>\n",
              "      <td>1.000000</td>\n",
              "      <td>0.058209</td>\n",
              "      <td>0.197998</td>\n",
              "    </tr>\n",
              "    <tr>\n",
              "      <th>1</th>\n",
              "      <td>0.605634</td>\n",
              "      <td>0.695522</td>\n",
              "      <td>0.456312</td>\n",
              "    </tr>\n",
              "    <tr>\n",
              "      <th>2</th>\n",
              "      <td>0.521127</td>\n",
              "      <td>0.564179</td>\n",
              "      <td>0.328993</td>\n",
              "    </tr>\n",
              "    <tr>\n",
              "      <th>3</th>\n",
              "      <td>0.042254</td>\n",
              "      <td>0.374627</td>\n",
              "      <td>0.025352</td>\n",
              "    </tr>\n",
              "    <tr>\n",
              "      <th>4</th>\n",
              "      <td>0.014085</td>\n",
              "      <td>0.350249</td>\n",
              "      <td>0.011620</td>\n",
              "    </tr>\n",
              "    <tr>\n",
              "      <th>...</th>\n",
              "      <td>...</td>\n",
              "      <td>...</td>\n",
              "      <td>...</td>\n",
              "    </tr>\n",
              "    <tr>\n",
              "      <th>5981</th>\n",
              "      <td>0.000000</td>\n",
              "      <td>0.763682</td>\n",
              "      <td>0.008793</td>\n",
              "    </tr>\n",
              "    <tr>\n",
              "      <th>5982</th>\n",
              "      <td>0.309859</td>\n",
              "      <td>0.724876</td>\n",
              "      <td>0.251500</td>\n",
              "    </tr>\n",
              "    <tr>\n",
              "      <th>5983</th>\n",
              "      <td>0.154930</td>\n",
              "      <td>0.028856</td>\n",
              "      <td>0.033147</td>\n",
              "    </tr>\n",
              "    <tr>\n",
              "      <th>5984</th>\n",
              "      <td>0.154930</td>\n",
              "      <td>0.807960</td>\n",
              "      <td>0.136320</td>\n",
              "    </tr>\n",
              "    <tr>\n",
              "      <th>5985</th>\n",
              "      <td>0.352113</td>\n",
              "      <td>0.015423</td>\n",
              "      <td>0.050600</td>\n",
              "    </tr>\n",
              "  </tbody>\n",
              "</table>\n",
              "<p>5974 rows × 3 columns</p>\n",
              "</div>"
            ],
            "text/plain": [
              "      MesesComoCliente  ValorMensal  TotalGasto\n",
              "0             1.000000     0.058209    0.197998\n",
              "1             0.605634     0.695522    0.456312\n",
              "2             0.521127     0.564179    0.328993\n",
              "3             0.042254     0.374627    0.025352\n",
              "4             0.014085     0.350249    0.011620\n",
              "...                ...          ...         ...\n",
              "5981          0.000000     0.763682    0.008793\n",
              "5982          0.309859     0.724876    0.251500\n",
              "5983          0.154930     0.028856    0.033147\n",
              "5984          0.154930     0.807960    0.136320\n",
              "5985          0.352113     0.015423    0.050600\n",
              "\n",
              "[5974 rows x 3 columns]"
            ]
          },
          "execution_count": 104,
          "metadata": {},
          "output_type": "execute_result"
        }
      ]
    },
    {
      "cell_type": "markdown",
      "metadata": {
        "id": "pG6SudPUOwtC"
      },
      "source": [
        "* ### Separando as variáveis\n",
        "\n",
        "No modelos de Machine Learning temos a variável dependente (variável resposta) que queremos prever, no nosso caso é a variável 'Churn'. E as covariáveis (variáveis independentes) que são as variáveis que irá explicar o Churn.\n",
        "\n",
        "Para não modificar a variável resposta (target) durante o pré-processamento, iremos separá-la das outras variáveis do dataset."
      ]
    },
    {
      "cell_type": "code",
      "metadata": {
        "scrolled": true,
        "id": "eT6KY__3OwtD",
        "outputId": "e5023063-6b07-4392-a1b5-c9679d38dde0"
      },
      "source": [
        "#Criando variaveis independentes e dependentes\n",
        "\n",
        "y = dados_df1['Churn']\n",
        "X = dados_df1\n",
        "X = dados_df1.drop('Churn',axis = 1)\n",
        "X"
      ],
      "execution_count": null,
      "outputs": [
        {
          "data": {
            "text/html": [
              "<div>\n",
              "<style scoped>\n",
              "    .dataframe tbody tr th:only-of-type {\n",
              "        vertical-align: middle;\n",
              "    }\n",
              "\n",
              "    .dataframe tbody tr th {\n",
              "        vertical-align: top;\n",
              "    }\n",
              "\n",
              "    .dataframe thead th {\n",
              "        text-align: right;\n",
              "    }\n",
              "</style>\n",
              "<table border=\"1\" class=\"dataframe\">\n",
              "  <thead>\n",
              "    <tr style=\"text-align: right;\">\n",
              "      <th></th>\n",
              "      <th>MesesComoCliente</th>\n",
              "      <th>ValorMensal</th>\n",
              "      <th>TotalGasto</th>\n",
              "      <th>Genero_Masculino</th>\n",
              "      <th>Aposentado_Sim</th>\n",
              "      <th>Casado_Sim</th>\n",
              "      <th>Dependentes_Sim</th>\n",
              "      <th>ServicoTelefone_Sim</th>\n",
              "      <th>MultiplasLinhas_SemTelefone</th>\n",
              "      <th>MultiplasLinhas_Sim</th>\n",
              "      <th>...</th>\n",
              "      <th>ServicoStreamingTV_SemInternet</th>\n",
              "      <th>ServicoStreamingTV_Sim</th>\n",
              "      <th>ServicoFilmes_SemInternet</th>\n",
              "      <th>ServicoFilmes_Sim</th>\n",
              "      <th>TipoContrato_Anual</th>\n",
              "      <th>TipoContrato_Mensal</th>\n",
              "      <th>FaturaDigital_Sim</th>\n",
              "      <th>FormaPagamento_BoletoImpresso</th>\n",
              "      <th>FormaPagamento_CartaoCredito</th>\n",
              "      <th>FormaPagamento_DebitoAutomatico</th>\n",
              "    </tr>\n",
              "  </thead>\n",
              "  <tbody>\n",
              "    <tr>\n",
              "      <th>0</th>\n",
              "      <td>1.000000</td>\n",
              "      <td>0.058209</td>\n",
              "      <td>0.197998</td>\n",
              "      <td>1</td>\n",
              "      <td>0</td>\n",
              "      <td>1</td>\n",
              "      <td>1</td>\n",
              "      <td>1</td>\n",
              "      <td>0</td>\n",
              "      <td>1</td>\n",
              "      <td>...</td>\n",
              "      <td>1</td>\n",
              "      <td>0</td>\n",
              "      <td>1</td>\n",
              "      <td>0</td>\n",
              "      <td>0</td>\n",
              "      <td>0</td>\n",
              "      <td>0</td>\n",
              "      <td>0</td>\n",
              "      <td>1</td>\n",
              "      <td>0</td>\n",
              "    </tr>\n",
              "    <tr>\n",
              "      <th>1</th>\n",
              "      <td>0.605634</td>\n",
              "      <td>0.695522</td>\n",
              "      <td>0.456312</td>\n",
              "      <td>0</td>\n",
              "      <td>0</td>\n",
              "      <td>0</td>\n",
              "      <td>0</td>\n",
              "      <td>1</td>\n",
              "      <td>0</td>\n",
              "      <td>0</td>\n",
              "      <td>...</td>\n",
              "      <td>0</td>\n",
              "      <td>1</td>\n",
              "      <td>0</td>\n",
              "      <td>0</td>\n",
              "      <td>0</td>\n",
              "      <td>1</td>\n",
              "      <td>1</td>\n",
              "      <td>0</td>\n",
              "      <td>1</td>\n",
              "      <td>0</td>\n",
              "    </tr>\n",
              "    <tr>\n",
              "      <th>2</th>\n",
              "      <td>0.521127</td>\n",
              "      <td>0.564179</td>\n",
              "      <td>0.328993</td>\n",
              "      <td>0</td>\n",
              "      <td>1</td>\n",
              "      <td>1</td>\n",
              "      <td>0</td>\n",
              "      <td>1</td>\n",
              "      <td>0</td>\n",
              "      <td>1</td>\n",
              "      <td>...</td>\n",
              "      <td>0</td>\n",
              "      <td>0</td>\n",
              "      <td>0</td>\n",
              "      <td>0</td>\n",
              "      <td>0</td>\n",
              "      <td>1</td>\n",
              "      <td>1</td>\n",
              "      <td>0</td>\n",
              "      <td>0</td>\n",
              "      <td>1</td>\n",
              "    </tr>\n",
              "    <tr>\n",
              "      <th>3</th>\n",
              "      <td>0.042254</td>\n",
              "      <td>0.374627</td>\n",
              "      <td>0.025352</td>\n",
              "      <td>1</td>\n",
              "      <td>0</td>\n",
              "      <td>0</td>\n",
              "      <td>0</td>\n",
              "      <td>1</td>\n",
              "      <td>0</td>\n",
              "      <td>0</td>\n",
              "      <td>...</td>\n",
              "      <td>0</td>\n",
              "      <td>0</td>\n",
              "      <td>0</td>\n",
              "      <td>1</td>\n",
              "      <td>0</td>\n",
              "      <td>1</td>\n",
              "      <td>1</td>\n",
              "      <td>0</td>\n",
              "      <td>0</td>\n",
              "      <td>0</td>\n",
              "    </tr>\n",
              "    <tr>\n",
              "      <th>4</th>\n",
              "      <td>0.014085</td>\n",
              "      <td>0.350249</td>\n",
              "      <td>0.011620</td>\n",
              "      <td>1</td>\n",
              "      <td>0</td>\n",
              "      <td>0</td>\n",
              "      <td>0</td>\n",
              "      <td>1</td>\n",
              "      <td>0</td>\n",
              "      <td>0</td>\n",
              "      <td>...</td>\n",
              "      <td>0</td>\n",
              "      <td>0</td>\n",
              "      <td>0</td>\n",
              "      <td>0</td>\n",
              "      <td>0</td>\n",
              "      <td>1</td>\n",
              "      <td>0</td>\n",
              "      <td>0</td>\n",
              "      <td>0</td>\n",
              "      <td>0</td>\n",
              "    </tr>\n",
              "    <tr>\n",
              "      <th>...</th>\n",
              "      <td>...</td>\n",
              "      <td>...</td>\n",
              "      <td>...</td>\n",
              "      <td>...</td>\n",
              "      <td>...</td>\n",
              "      <td>...</td>\n",
              "      <td>...</td>\n",
              "      <td>...</td>\n",
              "      <td>...</td>\n",
              "      <td>...</td>\n",
              "      <td>...</td>\n",
              "      <td>...</td>\n",
              "      <td>...</td>\n",
              "      <td>...</td>\n",
              "      <td>...</td>\n",
              "      <td>...</td>\n",
              "      <td>...</td>\n",
              "      <td>...</td>\n",
              "      <td>...</td>\n",
              "      <td>...</td>\n",
              "      <td>...</td>\n",
              "    </tr>\n",
              "    <tr>\n",
              "      <th>5981</th>\n",
              "      <td>0.000000</td>\n",
              "      <td>0.763682</td>\n",
              "      <td>0.008793</td>\n",
              "      <td>1</td>\n",
              "      <td>0</td>\n",
              "      <td>1</td>\n",
              "      <td>0</td>\n",
              "      <td>1</td>\n",
              "      <td>0</td>\n",
              "      <td>0</td>\n",
              "      <td>...</td>\n",
              "      <td>0</td>\n",
              "      <td>1</td>\n",
              "      <td>0</td>\n",
              "      <td>1</td>\n",
              "      <td>0</td>\n",
              "      <td>1</td>\n",
              "      <td>1</td>\n",
              "      <td>0</td>\n",
              "      <td>0</td>\n",
              "      <td>0</td>\n",
              "    </tr>\n",
              "    <tr>\n",
              "      <th>5982</th>\n",
              "      <td>0.309859</td>\n",
              "      <td>0.724876</td>\n",
              "      <td>0.251500</td>\n",
              "      <td>0</td>\n",
              "      <td>0</td>\n",
              "      <td>1</td>\n",
              "      <td>1</td>\n",
              "      <td>1</td>\n",
              "      <td>0</td>\n",
              "      <td>1</td>\n",
              "      <td>...</td>\n",
              "      <td>0</td>\n",
              "      <td>1</td>\n",
              "      <td>0</td>\n",
              "      <td>1</td>\n",
              "      <td>0</td>\n",
              "      <td>0</td>\n",
              "      <td>1</td>\n",
              "      <td>0</td>\n",
              "      <td>1</td>\n",
              "      <td>0</td>\n",
              "    </tr>\n",
              "    <tr>\n",
              "      <th>5983</th>\n",
              "      <td>0.154930</td>\n",
              "      <td>0.028856</td>\n",
              "      <td>0.033147</td>\n",
              "      <td>1</td>\n",
              "      <td>0</td>\n",
              "      <td>1</td>\n",
              "      <td>1</td>\n",
              "      <td>1</td>\n",
              "      <td>0</td>\n",
              "      <td>0</td>\n",
              "      <td>...</td>\n",
              "      <td>1</td>\n",
              "      <td>0</td>\n",
              "      <td>1</td>\n",
              "      <td>0</td>\n",
              "      <td>0</td>\n",
              "      <td>1</td>\n",
              "      <td>1</td>\n",
              "      <td>0</td>\n",
              "      <td>0</td>\n",
              "      <td>0</td>\n",
              "    </tr>\n",
              "    <tr>\n",
              "      <th>5984</th>\n",
              "      <td>0.154930</td>\n",
              "      <td>0.807960</td>\n",
              "      <td>0.136320</td>\n",
              "      <td>1</td>\n",
              "      <td>1</td>\n",
              "      <td>0</td>\n",
              "      <td>0</td>\n",
              "      <td>1</td>\n",
              "      <td>0</td>\n",
              "      <td>1</td>\n",
              "      <td>...</td>\n",
              "      <td>0</td>\n",
              "      <td>1</td>\n",
              "      <td>0</td>\n",
              "      <td>1</td>\n",
              "      <td>0</td>\n",
              "      <td>1</td>\n",
              "      <td>1</td>\n",
              "      <td>0</td>\n",
              "      <td>0</td>\n",
              "      <td>0</td>\n",
              "    </tr>\n",
              "    <tr>\n",
              "      <th>5985</th>\n",
              "      <td>0.352113</td>\n",
              "      <td>0.015423</td>\n",
              "      <td>0.050600</td>\n",
              "      <td>1</td>\n",
              "      <td>0</td>\n",
              "      <td>0</td>\n",
              "      <td>0</td>\n",
              "      <td>1</td>\n",
              "      <td>0</td>\n",
              "      <td>0</td>\n",
              "      <td>...</td>\n",
              "      <td>1</td>\n",
              "      <td>0</td>\n",
              "      <td>1</td>\n",
              "      <td>0</td>\n",
              "      <td>1</td>\n",
              "      <td>0</td>\n",
              "      <td>0</td>\n",
              "      <td>0</td>\n",
              "      <td>1</td>\n",
              "      <td>0</td>\n",
              "    </tr>\n",
              "  </tbody>\n",
              "</table>\n",
              "<p>5974 rows × 30 columns</p>\n",
              "</div>"
            ],
            "text/plain": [
              "      MesesComoCliente  ValorMensal  TotalGasto  Genero_Masculino  \\\n",
              "0             1.000000     0.058209    0.197998                 1   \n",
              "1             0.605634     0.695522    0.456312                 0   \n",
              "2             0.521127     0.564179    0.328993                 0   \n",
              "3             0.042254     0.374627    0.025352                 1   \n",
              "4             0.014085     0.350249    0.011620                 1   \n",
              "...                ...          ...         ...               ...   \n",
              "5981          0.000000     0.763682    0.008793                 1   \n",
              "5982          0.309859     0.724876    0.251500                 0   \n",
              "5983          0.154930     0.028856    0.033147                 1   \n",
              "5984          0.154930     0.807960    0.136320                 1   \n",
              "5985          0.352113     0.015423    0.050600                 1   \n",
              "\n",
              "      Aposentado_Sim  Casado_Sim  Dependentes_Sim  ServicoTelefone_Sim  \\\n",
              "0                  0           1                1                    1   \n",
              "1                  0           0                0                    1   \n",
              "2                  1           1                0                    1   \n",
              "3                  0           0                0                    1   \n",
              "4                  0           0                0                    1   \n",
              "...              ...         ...              ...                  ...   \n",
              "5981               0           1                0                    1   \n",
              "5982               0           1                1                    1   \n",
              "5983               0           1                1                    1   \n",
              "5984               1           0                0                    1   \n",
              "5985               0           0                0                    1   \n",
              "\n",
              "      MultiplasLinhas_SemTelefone  MultiplasLinhas_Sim  ...  \\\n",
              "0                               0                    1  ...   \n",
              "1                               0                    0  ...   \n",
              "2                               0                    1  ...   \n",
              "3                               0                    0  ...   \n",
              "4                               0                    0  ...   \n",
              "...                           ...                  ...  ...   \n",
              "5981                            0                    0  ...   \n",
              "5982                            0                    1  ...   \n",
              "5983                            0                    0  ...   \n",
              "5984                            0                    1  ...   \n",
              "5985                            0                    0  ...   \n",
              "\n",
              "      ServicoStreamingTV_SemInternet  ServicoStreamingTV_Sim  \\\n",
              "0                                  1                       0   \n",
              "1                                  0                       1   \n",
              "2                                  0                       0   \n",
              "3                                  0                       0   \n",
              "4                                  0                       0   \n",
              "...                              ...                     ...   \n",
              "5981                               0                       1   \n",
              "5982                               0                       1   \n",
              "5983                               1                       0   \n",
              "5984                               0                       1   \n",
              "5985                               1                       0   \n",
              "\n",
              "      ServicoFilmes_SemInternet  ServicoFilmes_Sim  TipoContrato_Anual  \\\n",
              "0                             1                  0                   0   \n",
              "1                             0                  0                   0   \n",
              "2                             0                  0                   0   \n",
              "3                             0                  1                   0   \n",
              "4                             0                  0                   0   \n",
              "...                         ...                ...                 ...   \n",
              "5981                          0                  1                   0   \n",
              "5982                          0                  1                   0   \n",
              "5983                          1                  0                   0   \n",
              "5984                          0                  1                   0   \n",
              "5985                          1                  0                   1   \n",
              "\n",
              "      TipoContrato_Mensal  FaturaDigital_Sim  FormaPagamento_BoletoImpresso  \\\n",
              "0                       0                  0                              0   \n",
              "1                       1                  1                              0   \n",
              "2                       1                  1                              0   \n",
              "3                       1                  1                              0   \n",
              "4                       1                  0                              0   \n",
              "...                   ...                ...                            ...   \n",
              "5981                    1                  1                              0   \n",
              "5982                    0                  1                              0   \n",
              "5983                    1                  1                              0   \n",
              "5984                    1                  1                              0   \n",
              "5985                    0                  0                              0   \n",
              "\n",
              "      FormaPagamento_CartaoCredito  FormaPagamento_DebitoAutomatico  \n",
              "0                                1                                0  \n",
              "1                                1                                0  \n",
              "2                                0                                1  \n",
              "3                                0                                0  \n",
              "4                                0                                0  \n",
              "...                            ...                              ...  \n",
              "5981                             0                                0  \n",
              "5982                             1                                0  \n",
              "5983                             0                                0  \n",
              "5984                             0                                0  \n",
              "5985                             1                                0  \n",
              "\n",
              "[5974 rows x 30 columns]"
            ]
          },
          "execution_count": 105,
          "metadata": {},
          "output_type": "execute_result"
        }
      ]
    },
    {
      "cell_type": "markdown",
      "metadata": {
        "id": "Gn4jLW7-OwtF"
      },
      "source": [
        "## 6 - ML_Modelo de Churn\n",
        "\n",
        "Após o pré processamento, o conjunto de dados está pronto para a modelagem. Prever o Churn de clientes é um problema de classificação binária, 1 se Churn e 0 caso contrário.\n",
        "\n",
        "Para prever os clientes em risco de Churn iremos utilizar o modelo KNN, Random Forest e XGBost. Lembre-se a variável resposta Churn tem apenas 26% de valores 1. E por isso escolhemos modelos que não sofrem tanta influência dos dados desbalanceado."
      ]
    },
    {
      "cell_type": "markdown",
      "metadata": {
        "id": "RSUH3sTrOwtF"
      },
      "source": [
        "### Validação Hold-Out\n",
        "\n",
        "Para analisar a capacidade de generalização do modelo é importante separar o dataset em conjunto de dados de treino e dados de teste. O conjunto de dados de treino utilizamos para treinar o modelo e utilizaremos 75% dos conjunto de dados para isso.\n",
        "\n",
        "O conjunto de dados de teste utilizamos para analisar o quanto o modelo está acertando para prever as classes, 1 para Churn e 0 caso contrário. Essa etapa é necessária, para analisar como nosso modelo se comporta em dados desconhecidos.\n"
      ]
    },
    {
      "cell_type": "code",
      "metadata": {
        "scrolled": true,
        "id": "2y0ImENiOwtF",
        "outputId": "8efd8f4d-9dec-47e0-8814-6886c692db96"
      },
      "source": [
        "# Separando em dados teste e treinamento \n",
        "from sklearn.model_selection import train_test_split \n",
        "\n",
        "x_treino, x_teste, y_treino, y_teste  = train_test_split(X, y, test_size = 0.25,random_state = 1)\n",
        "x_treino"
      ],
      "execution_count": null,
      "outputs": [
        {
          "data": {
            "text/html": [
              "<div>\n",
              "<style scoped>\n",
              "    .dataframe tbody tr th:only-of-type {\n",
              "        vertical-align: middle;\n",
              "    }\n",
              "\n",
              "    .dataframe tbody tr th {\n",
              "        vertical-align: top;\n",
              "    }\n",
              "\n",
              "    .dataframe thead th {\n",
              "        text-align: right;\n",
              "    }\n",
              "</style>\n",
              "<table border=\"1\" class=\"dataframe\">\n",
              "  <thead>\n",
              "    <tr style=\"text-align: right;\">\n",
              "      <th></th>\n",
              "      <th>MesesComoCliente</th>\n",
              "      <th>ValorMensal</th>\n",
              "      <th>TotalGasto</th>\n",
              "      <th>Genero_Masculino</th>\n",
              "      <th>Aposentado_Sim</th>\n",
              "      <th>Casado_Sim</th>\n",
              "      <th>Dependentes_Sim</th>\n",
              "      <th>ServicoTelefone_Sim</th>\n",
              "      <th>MultiplasLinhas_SemTelefone</th>\n",
              "      <th>MultiplasLinhas_Sim</th>\n",
              "      <th>...</th>\n",
              "      <th>ServicoStreamingTV_SemInternet</th>\n",
              "      <th>ServicoStreamingTV_Sim</th>\n",
              "      <th>ServicoFilmes_SemInternet</th>\n",
              "      <th>ServicoFilmes_Sim</th>\n",
              "      <th>TipoContrato_Anual</th>\n",
              "      <th>TipoContrato_Mensal</th>\n",
              "      <th>FaturaDigital_Sim</th>\n",
              "      <th>FormaPagamento_BoletoImpresso</th>\n",
              "      <th>FormaPagamento_CartaoCredito</th>\n",
              "      <th>FormaPagamento_DebitoAutomatico</th>\n",
              "    </tr>\n",
              "  </thead>\n",
              "  <tbody>\n",
              "    <tr>\n",
              "      <th>2914</th>\n",
              "      <td>0.563380</td>\n",
              "      <td>0.480100</td>\n",
              "      <td>0.312693</td>\n",
              "      <td>0</td>\n",
              "      <td>0</td>\n",
              "      <td>1</td>\n",
              "      <td>1</td>\n",
              "      <td>1</td>\n",
              "      <td>0</td>\n",
              "      <td>0</td>\n",
              "      <td>...</td>\n",
              "      <td>0</td>\n",
              "      <td>0</td>\n",
              "      <td>0</td>\n",
              "      <td>1</td>\n",
              "      <td>1</td>\n",
              "      <td>0</td>\n",
              "      <td>1</td>\n",
              "      <td>0</td>\n",
              "      <td>0</td>\n",
              "      <td>1</td>\n",
              "    </tr>\n",
              "    <tr>\n",
              "      <th>92</th>\n",
              "      <td>0.140845</td>\n",
              "      <td>0.594527</td>\n",
              "      <td>0.096123</td>\n",
              "      <td>1</td>\n",
              "      <td>0</td>\n",
              "      <td>0</td>\n",
              "      <td>1</td>\n",
              "      <td>1</td>\n",
              "      <td>0</td>\n",
              "      <td>1</td>\n",
              "      <td>...</td>\n",
              "      <td>0</td>\n",
              "      <td>0</td>\n",
              "      <td>0</td>\n",
              "      <td>0</td>\n",
              "      <td>0</td>\n",
              "      <td>1</td>\n",
              "      <td>1</td>\n",
              "      <td>1</td>\n",
              "      <td>0</td>\n",
              "      <td>0</td>\n",
              "    </tr>\n",
              "    <tr>\n",
              "      <th>3815</th>\n",
              "      <td>0.197183</td>\n",
              "      <td>0.608458</td>\n",
              "      <td>0.131237</td>\n",
              "      <td>1</td>\n",
              "      <td>1</td>\n",
              "      <td>0</td>\n",
              "      <td>0</td>\n",
              "      <td>1</td>\n",
              "      <td>0</td>\n",
              "      <td>0</td>\n",
              "      <td>...</td>\n",
              "      <td>0</td>\n",
              "      <td>0</td>\n",
              "      <td>0</td>\n",
              "      <td>1</td>\n",
              "      <td>0</td>\n",
              "      <td>1</td>\n",
              "      <td>1</td>\n",
              "      <td>0</td>\n",
              "      <td>0</td>\n",
              "      <td>0</td>\n",
              "    </tr>\n",
              "    <tr>\n",
              "      <th>3618</th>\n",
              "      <td>0.690141</td>\n",
              "      <td>0.807463</td>\n",
              "      <td>0.581693</td>\n",
              "      <td>1</td>\n",
              "      <td>0</td>\n",
              "      <td>1</td>\n",
              "      <td>0</td>\n",
              "      <td>1</td>\n",
              "      <td>0</td>\n",
              "      <td>1</td>\n",
              "      <td>...</td>\n",
              "      <td>0</td>\n",
              "      <td>1</td>\n",
              "      <td>0</td>\n",
              "      <td>1</td>\n",
              "      <td>1</td>\n",
              "      <td>0</td>\n",
              "      <td>0</td>\n",
              "      <td>0</td>\n",
              "      <td>0</td>\n",
              "      <td>0</td>\n",
              "    </tr>\n",
              "    <tr>\n",
              "      <th>3663</th>\n",
              "      <td>0.112676</td>\n",
              "      <td>0.253731</td>\n",
              "      <td>0.044646</td>\n",
              "      <td>0</td>\n",
              "      <td>0</td>\n",
              "      <td>0</td>\n",
              "      <td>0</td>\n",
              "      <td>1</td>\n",
              "      <td>0</td>\n",
              "      <td>0</td>\n",
              "      <td>...</td>\n",
              "      <td>0</td>\n",
              "      <td>0</td>\n",
              "      <td>0</td>\n",
              "      <td>0</td>\n",
              "      <td>0</td>\n",
              "      <td>1</td>\n",
              "      <td>1</td>\n",
              "      <td>0</td>\n",
              "      <td>0</td>\n",
              "      <td>0</td>\n",
              "    </tr>\n",
              "    <tr>\n",
              "      <th>...</th>\n",
              "      <td>...</td>\n",
              "      <td>...</td>\n",
              "      <td>...</td>\n",
              "      <td>...</td>\n",
              "      <td>...</td>\n",
              "      <td>...</td>\n",
              "      <td>...</td>\n",
              "      <td>...</td>\n",
              "      <td>...</td>\n",
              "      <td>...</td>\n",
              "      <td>...</td>\n",
              "      <td>...</td>\n",
              "      <td>...</td>\n",
              "      <td>...</td>\n",
              "      <td>...</td>\n",
              "      <td>...</td>\n",
              "      <td>...</td>\n",
              "      <td>...</td>\n",
              "      <td>...</td>\n",
              "      <td>...</td>\n",
              "      <td>...</td>\n",
              "    </tr>\n",
              "    <tr>\n",
              "      <th>909</th>\n",
              "      <td>0.140845</td>\n",
              "      <td>0.566667</td>\n",
              "      <td>0.087295</td>\n",
              "      <td>1</td>\n",
              "      <td>1</td>\n",
              "      <td>1</td>\n",
              "      <td>1</td>\n",
              "      <td>1</td>\n",
              "      <td>0</td>\n",
              "      <td>1</td>\n",
              "      <td>...</td>\n",
              "      <td>0</td>\n",
              "      <td>0</td>\n",
              "      <td>0</td>\n",
              "      <td>0</td>\n",
              "      <td>0</td>\n",
              "      <td>1</td>\n",
              "      <td>1</td>\n",
              "      <td>0</td>\n",
              "      <td>1</td>\n",
              "      <td>0</td>\n",
              "    </tr>\n",
              "    <tr>\n",
              "      <th>5200</th>\n",
              "      <td>0.816901</td>\n",
              "      <td>0.501990</td>\n",
              "      <td>0.467592</td>\n",
              "      <td>0</td>\n",
              "      <td>0</td>\n",
              "      <td>0</td>\n",
              "      <td>0</td>\n",
              "      <td>1</td>\n",
              "      <td>0</td>\n",
              "      <td>1</td>\n",
              "      <td>...</td>\n",
              "      <td>0</td>\n",
              "      <td>0</td>\n",
              "      <td>0</td>\n",
              "      <td>1</td>\n",
              "      <td>1</td>\n",
              "      <td>0</td>\n",
              "      <td>0</td>\n",
              "      <td>0</td>\n",
              "      <td>0</td>\n",
              "      <td>1</td>\n",
              "    </tr>\n",
              "    <tr>\n",
              "      <th>3987</th>\n",
              "      <td>0.394366</td>\n",
              "      <td>0.368159</td>\n",
              "      <td>0.184791</td>\n",
              "      <td>0</td>\n",
              "      <td>0</td>\n",
              "      <td>0</td>\n",
              "      <td>0</td>\n",
              "      <td>1</td>\n",
              "      <td>0</td>\n",
              "      <td>1</td>\n",
              "      <td>...</td>\n",
              "      <td>0</td>\n",
              "      <td>0</td>\n",
              "      <td>0</td>\n",
              "      <td>0</td>\n",
              "      <td>1</td>\n",
              "      <td>0</td>\n",
              "      <td>1</td>\n",
              "      <td>0</td>\n",
              "      <td>0</td>\n",
              "      <td>0</td>\n",
              "    </tr>\n",
              "    <tr>\n",
              "      <th>237</th>\n",
              "      <td>0.197183</td>\n",
              "      <td>0.504975</td>\n",
              "      <td>0.112624</td>\n",
              "      <td>0</td>\n",
              "      <td>0</td>\n",
              "      <td>0</td>\n",
              "      <td>1</td>\n",
              "      <td>1</td>\n",
              "      <td>0</td>\n",
              "      <td>0</td>\n",
              "      <td>...</td>\n",
              "      <td>0</td>\n",
              "      <td>0</td>\n",
              "      <td>0</td>\n",
              "      <td>0</td>\n",
              "      <td>0</td>\n",
              "      <td>1</td>\n",
              "      <td>0</td>\n",
              "      <td>0</td>\n",
              "      <td>0</td>\n",
              "      <td>1</td>\n",
              "    </tr>\n",
              "    <tr>\n",
              "      <th>5165</th>\n",
              "      <td>0.295775</td>\n",
              "      <td>0.631343</td>\n",
              "      <td>0.207951</td>\n",
              "      <td>0</td>\n",
              "      <td>1</td>\n",
              "      <td>0</td>\n",
              "      <td>0</td>\n",
              "      <td>1</td>\n",
              "      <td>0</td>\n",
              "      <td>0</td>\n",
              "      <td>...</td>\n",
              "      <td>0</td>\n",
              "      <td>0</td>\n",
              "      <td>0</td>\n",
              "      <td>0</td>\n",
              "      <td>0</td>\n",
              "      <td>1</td>\n",
              "      <td>0</td>\n",
              "      <td>0</td>\n",
              "      <td>0</td>\n",
              "      <td>0</td>\n",
              "    </tr>\n",
              "  </tbody>\n",
              "</table>\n",
              "<p>4480 rows × 30 columns</p>\n",
              "</div>"
            ],
            "text/plain": [
              "      MesesComoCliente  ValorMensal  TotalGasto  Genero_Masculino  \\\n",
              "2914          0.563380     0.480100    0.312693                 0   \n",
              "92            0.140845     0.594527    0.096123                 1   \n",
              "3815          0.197183     0.608458    0.131237                 1   \n",
              "3618          0.690141     0.807463    0.581693                 1   \n",
              "3663          0.112676     0.253731    0.044646                 0   \n",
              "...                ...          ...         ...               ...   \n",
              "909           0.140845     0.566667    0.087295                 1   \n",
              "5200          0.816901     0.501990    0.467592                 0   \n",
              "3987          0.394366     0.368159    0.184791                 0   \n",
              "237           0.197183     0.504975    0.112624                 0   \n",
              "5165          0.295775     0.631343    0.207951                 0   \n",
              "\n",
              "      Aposentado_Sim  Casado_Sim  Dependentes_Sim  ServicoTelefone_Sim  \\\n",
              "2914               0           1                1                    1   \n",
              "92                 0           0                1                    1   \n",
              "3815               1           0                0                    1   \n",
              "3618               0           1                0                    1   \n",
              "3663               0           0                0                    1   \n",
              "...              ...         ...              ...                  ...   \n",
              "909                1           1                1                    1   \n",
              "5200               0           0                0                    1   \n",
              "3987               0           0                0                    1   \n",
              "237                0           0                1                    1   \n",
              "5165               1           0                0                    1   \n",
              "\n",
              "      MultiplasLinhas_SemTelefone  MultiplasLinhas_Sim  ...  \\\n",
              "2914                            0                    0  ...   \n",
              "92                              0                    1  ...   \n",
              "3815                            0                    0  ...   \n",
              "3618                            0                    1  ...   \n",
              "3663                            0                    0  ...   \n",
              "...                           ...                  ...  ...   \n",
              "909                             0                    1  ...   \n",
              "5200                            0                    1  ...   \n",
              "3987                            0                    1  ...   \n",
              "237                             0                    0  ...   \n",
              "5165                            0                    0  ...   \n",
              "\n",
              "      ServicoStreamingTV_SemInternet  ServicoStreamingTV_Sim  \\\n",
              "2914                               0                       0   \n",
              "92                                 0                       0   \n",
              "3815                               0                       0   \n",
              "3618                               0                       1   \n",
              "3663                               0                       0   \n",
              "...                              ...                     ...   \n",
              "909                                0                       0   \n",
              "5200                               0                       0   \n",
              "3987                               0                       0   \n",
              "237                                0                       0   \n",
              "5165                               0                       0   \n",
              "\n",
              "      ServicoFilmes_SemInternet  ServicoFilmes_Sim  TipoContrato_Anual  \\\n",
              "2914                          0                  1                   1   \n",
              "92                            0                  0                   0   \n",
              "3815                          0                  1                   0   \n",
              "3618                          0                  1                   1   \n",
              "3663                          0                  0                   0   \n",
              "...                         ...                ...                 ...   \n",
              "909                           0                  0                   0   \n",
              "5200                          0                  1                   1   \n",
              "3987                          0                  0                   1   \n",
              "237                           0                  0                   0   \n",
              "5165                          0                  0                   0   \n",
              "\n",
              "      TipoContrato_Mensal  FaturaDigital_Sim  FormaPagamento_BoletoImpresso  \\\n",
              "2914                    0                  1                              0   \n",
              "92                      1                  1                              1   \n",
              "3815                    1                  1                              0   \n",
              "3618                    0                  0                              0   \n",
              "3663                    1                  1                              0   \n",
              "...                   ...                ...                            ...   \n",
              "909                     1                  1                              0   \n",
              "5200                    0                  0                              0   \n",
              "3987                    0                  1                              0   \n",
              "237                     1                  0                              0   \n",
              "5165                    1                  0                              0   \n",
              "\n",
              "      FormaPagamento_CartaoCredito  FormaPagamento_DebitoAutomatico  \n",
              "2914                             0                                1  \n",
              "92                               0                                0  \n",
              "3815                             0                                0  \n",
              "3618                             0                                0  \n",
              "3663                             0                                0  \n",
              "...                            ...                              ...  \n",
              "909                              1                                0  \n",
              "5200                             0                                1  \n",
              "3987                             0                                0  \n",
              "237                              0                                1  \n",
              "5165                             0                                0  \n",
              "\n",
              "[4480 rows x 30 columns]"
            ]
          },
          "execution_count": 106,
          "metadata": {},
          "output_type": "execute_result"
        }
      ]
    },
    {
      "cell_type": "markdown",
      "metadata": {
        "id": "yP_7ImEhOwtG"
      },
      "source": [
        "### Modelo KNN"
      ]
    },
    {
      "cell_type": "code",
      "metadata": {
        "id": "2AERNwlPOwtG",
        "outputId": "09d83645-770a-48d9-bb2a-258b944a23a8"
      },
      "source": [
        "from sklearn.neighbors import KNeighborsClassifier\n",
        "\n",
        "knn = KNeighborsClassifier()\n",
        "knn.fit(x_treino, y_treino)"
      ],
      "execution_count": null,
      "outputs": [
        {
          "data": {
            "text/plain": [
              "KNeighborsClassifier()"
            ]
          },
          "execution_count": 107,
          "metadata": {},
          "output_type": "execute_result"
        }
      ]
    },
    {
      "cell_type": "code",
      "metadata": {
        "id": "C7zjkotxOwtG",
        "outputId": "f776bb8a-38cf-4c77-8c0a-7df13e24189b"
      },
      "source": [
        "resultado_knn = knn.predict(x_teste)\n",
        "print (pd.crosstab(y_teste,resultado_knn, rownames=['Real'], colnames=['Predito'], margins=True))"
      ],
      "execution_count": null,
      "outputs": [
        {
          "name": "stdout",
          "output_type": "stream",
          "text": [
            "Predito     0    1   All\n",
            "Real                    \n",
            "0         938  153  1091\n",
            "1         210  193   403\n",
            "All      1148  346  1494\n"
          ]
        }
      ]
    },
    {
      "cell_type": "code",
      "metadata": {
        "id": "9mgH9NZyOwtH",
        "outputId": "1fb3b0c0-2703-4c3c-d04e-b3790a36eca1"
      },
      "source": [
        "from sklearn.metrics import classification_report,confusion_matrix\n",
        "print(classification_report(y_teste, resultado_knn ))"
      ],
      "execution_count": null,
      "outputs": [
        {
          "name": "stdout",
          "output_type": "stream",
          "text": [
            "              precision    recall  f1-score   support\n",
            "\n",
            "           0       0.82      0.86      0.84      1091\n",
            "           1       0.56      0.48      0.52       403\n",
            "\n",
            "    accuracy                           0.76      1494\n",
            "   macro avg       0.69      0.67      0.68      1494\n",
            "weighted avg       0.75      0.76      0.75      1494\n",
            "\n"
          ]
        }
      ]
    },
    {
      "cell_type": "markdown",
      "metadata": {
        "id": "hRa12oCTOwtH"
      },
      "source": [
        "### Encontrando o melhor K"
      ]
    },
    {
      "cell_type": "markdown",
      "metadata": {
        "id": "RaATziAIOwtH"
      },
      "source": [
        "Para encontrar o melhor K, ajustaremos varios modelos variando o número de K, aquele modelo que retornar o menor erro de predição é o modelo com K ideal."
      ]
    },
    {
      "cell_type": "code",
      "metadata": {
        "id": "DR1sth0TOwtH"
      },
      "source": [
        "import numpy as np #manipulação algebricas\n",
        "\n",
        "error = []\n",
        "\n",
        "# Calculating error for K values between 1 and 40\n",
        "for i in range(1, 40):\n",
        "    knn = KNeighborsClassifier(n_neighbors=i)\n",
        "    knn.fit(x_treino, y_treino)\n",
        "    pred_i = knn.predict(x_teste)\n",
        "    error.append(np.mean(pred_i != y_teste))"
      ],
      "execution_count": null,
      "outputs": []
    },
    {
      "cell_type": "markdown",
      "metadata": {
        "id": "Y0EM_dKXOwtI"
      },
      "source": [
        "Na função acima, ajustei o modelo para diferentes k, variando k de 1 a 40. E depois calculei o número de erros de classificação e tirei a média, erro médio. A seguir, vou plotar os erros de predição para os diferentes k e aquele k com o menor erro, será o ajuste ideal."
      ]
    },
    {
      "cell_type": "code",
      "metadata": {
        "id": "jjjZ1EkPOwtI",
        "outputId": "22b82a34-bc2d-4df4-c62a-d1439ad6a804"
      },
      "source": [
        "import matplotlib.pyplot as plt\n",
        "\n",
        "plt.figure(figsize=(12, 6))\n",
        "plt.plot(range(1, 40), error, color='red', linestyle='dashed', marker='o',\n",
        "         markerfacecolor='blue', markersize=10)\n",
        "plt.title('Taxa de erro do valor K')\n",
        "plt.xlabel('Valor de K')\n",
        "plt.ylabel('Erro Médio')"
      ],
      "execution_count": null,
      "outputs": [
        {
          "data": {
            "text/plain": [
              "Text(0, 0.5, 'Erro Médio')"
            ]
          },
          "execution_count": 111,
          "metadata": {},
          "output_type": "execute_result"
        },
        {
          "data": {
            "image/png": "[encoded data removed]",
            "text/plain": [
              "<Figure size 864x432 with 1 Axes>"
            ]
          },
          "metadata": {
            "needs_background": "light"
          },
          "output_type": "display_data"
        }
      ]
    },
    {
      "cell_type": "markdown",
      "metadata": {
        "id": "kDF6JwwzOwtI"
      },
      "source": [
        "O melhor k=8, assim iremos ajustar novamente o modelo KNN considerando K=26."
      ]
    },
    {
      "cell_type": "code",
      "metadata": {
        "id": "L16ccfEtOwtJ",
        "outputId": "caa4dc02-eba6-4d48-8263-9b3187a376e1"
      },
      "source": [
        "knn = KNeighborsClassifier(n_neighbors=8)\n",
        "knn.fit(x_treino, y_treino)"
      ],
      "execution_count": null,
      "outputs": [
        {
          "data": {
            "text/plain": [
              "KNeighborsClassifier(n_neighbors=8)"
            ]
          },
          "execution_count": 112,
          "metadata": {},
          "output_type": "execute_result"
        }
      ]
    },
    {
      "cell_type": "markdown",
      "metadata": {
        "id": "fiBrOccXOwtJ"
      },
      "source": [
        "### Previsão na amostra teste e matriz de confusão"
      ]
    },
    {
      "cell_type": "code",
      "metadata": {
        "id": "o1WU6EvHOwtJ",
        "outputId": "d06353e7-75ef-467d-b21d-2e69c7329263"
      },
      "source": [
        "resultado_knn = knn.predict(x_teste)\n",
        "print (pd.crosstab(y_teste,resultado_knn, rownames=['Real'], colnames=['Predito'], margins=True))"
      ],
      "execution_count": null,
      "outputs": [
        {
          "name": "stdout",
          "output_type": "stream",
          "text": [
            "Predito     0    1   All\n",
            "Real                    \n",
            "0         969  122  1091\n",
            "1         213  190   403\n",
            "All      1182  312  1494\n"
          ]
        }
      ]
    },
    {
      "cell_type": "code",
      "metadata": {
        "id": "SAngARJ_OwtJ",
        "outputId": "c4a8927e-e631-4e75-8bdb-15fbaa8f3f38"
      },
      "source": [
        "from sklearn.metrics import classification_report,confusion_matrix\n",
        "print(classification_report(y_teste, resultado_knn ))"
      ],
      "execution_count": null,
      "outputs": [
        {
          "name": "stdout",
          "output_type": "stream",
          "text": [
            "              precision    recall  f1-score   support\n",
            "\n",
            "           0       0.82      0.89      0.85      1091\n",
            "           1       0.61      0.47      0.53       403\n",
            "\n",
            "    accuracy                           0.78      1494\n",
            "   macro avg       0.71      0.68      0.69      1494\n",
            "weighted avg       0.76      0.78      0.77      1494\n",
            "\n"
          ]
        }
      ]
    },
    {
      "cell_type": "markdown",
      "metadata": {
        "id": "tFpz6eLwOwtK"
      },
      "source": [
        "Observe que apesar de estar classificando bem os clientes que não deram Churn, classe 0, temos muitos falsos negativos no modelo (quando o modelo preve 0, mas o correto era 1). Ou seja, o modelo não consegue prever bem o Churn, que é o objetivo principal na análise.\n",
        "\n",
        "Vamos tentar o modelo Random Forest para buscar um resultado melhor."
      ]
    },
    {
      "cell_type": "markdown",
      "metadata": {
        "id": "vTnFw1_SOwtK"
      },
      "source": [
        "### Modelo Random Forest"
      ]
    },
    {
      "cell_type": "code",
      "metadata": {
        "id": "vCFRKHnfOwtK"
      },
      "source": [
        "# Importe o modelo que estamos usando \n",
        "from sklearn.ensemble import RandomForestClassifier\n",
        "# Instancie o modelo com 1000 árvores de decisão \n",
        "rf = RandomForestClassifier (n_estimators = 1000, random_state = 42) \n",
        "# Treine o modelo nos dados de treinamento \n",
        "rf.fit (x_treino, y_treino);"
      ],
      "execution_count": null,
      "outputs": []
    },
    {
      "cell_type": "code",
      "metadata": {
        "id": "Wy6wwHKwOwtL",
        "outputId": "97d4331d-5d12-4301-d5d7-087773daab73"
      },
      "source": [
        "y_rf = rf.predict(x_teste)\n",
        "print (pd.crosstab(y_teste,y_rf, rownames=['Real'], colnames=['Predito'], margins=True))"
      ],
      "execution_count": null,
      "outputs": [
        {
          "name": "stdout",
          "output_type": "stream",
          "text": [
            "Predito     0    1   All\n",
            "Real                    \n",
            "0         989  102  1091\n",
            "1         214  189   403\n",
            "All      1203  291  1494\n"
          ]
        }
      ]
    },
    {
      "cell_type": "markdown",
      "metadata": {
        "id": "Bd2nEAiMOwtL"
      },
      "source": [
        "O modelo de Random Forest conseguiu melhores resultados, porém ainda temos bastante falsos negativos. Vamos tentar um modelo mais robusto e que não sofre tanta influência em amostras desbalanceada."
      ]
    },
    {
      "cell_type": "code",
      "metadata": {
        "id": "7L4Wp5jXOwtL",
        "outputId": "7dd499a0-22c6-4021-e8dc-f7f5d141e3c1"
      },
      "source": [
        "from sklearn.metrics import classification_report,confusion_matrix\n",
        "print(classification_report(y_teste, y_rf))"
      ],
      "execution_count": null,
      "outputs": [
        {
          "name": "stdout",
          "output_type": "stream",
          "text": [
            "              precision    recall  f1-score   support\n",
            "\n",
            "           0       0.82      0.91      0.86      1091\n",
            "           1       0.65      0.47      0.54       403\n",
            "\n",
            "    accuracy                           0.79      1494\n",
            "   macro avg       0.74      0.69      0.70      1494\n",
            "weighted avg       0.78      0.79      0.78      1494\n",
            "\n"
          ]
        }
      ]
    },
    {
      "cell_type": "code",
      "metadata": {
        "id": "oKn-ri9VOwtM",
        "outputId": "f1e97dbd-8233-43ef-f86e-1dc081839266"
      },
      "source": [
        "#Analisando a importância de cada variável\n",
        "rf.feature_importances_\n",
        "\n",
        "feature_importances = pd.DataFrame(rf.feature_importances_, index = x_treino.columns, columns=['importance']).sort_values('importance',ascending=False)\n",
        "feature_importances"
      ],
      "execution_count": null,
      "outputs": [
        {
          "data": {
            "text/html": [
              "<div>\n",
              "<style scoped>\n",
              "    .dataframe tbody tr th:only-of-type {\n",
              "        vertical-align: middle;\n",
              "    }\n",
              "\n",
              "    .dataframe tbody tr th {\n",
              "        vertical-align: top;\n",
              "    }\n",
              "\n",
              "    .dataframe thead th {\n",
              "        text-align: right;\n",
              "    }\n",
              "</style>\n",
              "<table border=\"1\" class=\"dataframe\">\n",
              "  <thead>\n",
              "    <tr style=\"text-align: right;\">\n",
              "      <th></th>\n",
              "      <th>importance</th>\n",
              "    </tr>\n",
              "  </thead>\n",
              "  <tbody>\n",
              "    <tr>\n",
              "      <th>TotalGasto</th>\n",
              "      <td>0.192310</td>\n",
              "    </tr>\n",
              "    <tr>\n",
              "      <th>ValorMensal</th>\n",
              "      <td>0.165740</td>\n",
              "    </tr>\n",
              "    <tr>\n",
              "      <th>MesesComoCliente</th>\n",
              "      <td>0.163570</td>\n",
              "    </tr>\n",
              "    <tr>\n",
              "      <th>TipoContrato_Mensal</th>\n",
              "      <td>0.070695</td>\n",
              "    </tr>\n",
              "    <tr>\n",
              "      <th>ServicoInternet_Fibra</th>\n",
              "      <td>0.036153</td>\n",
              "    </tr>\n",
              "    <tr>\n",
              "      <th>Genero_Masculino</th>\n",
              "      <td>0.027473</td>\n",
              "    </tr>\n",
              "    <tr>\n",
              "      <th>ServicoSegurancaOnline_Sim</th>\n",
              "      <td>0.027077</td>\n",
              "    </tr>\n",
              "    <tr>\n",
              "      <th>FaturaDigital_Sim</th>\n",
              "      <td>0.025241</td>\n",
              "    </tr>\n",
              "    <tr>\n",
              "      <th>Casado_Sim</th>\n",
              "      <td>0.023856</td>\n",
              "    </tr>\n",
              "    <tr>\n",
              "      <th>ServicoSuporteTecnico_Sim</th>\n",
              "      <td>0.022830</td>\n",
              "    </tr>\n",
              "    <tr>\n",
              "      <th>ServicoBackupOnline_Sim</th>\n",
              "      <td>0.022369</td>\n",
              "    </tr>\n",
              "    <tr>\n",
              "      <th>Aposentado_Sim</th>\n",
              "      <td>0.020759</td>\n",
              "    </tr>\n",
              "    <tr>\n",
              "      <th>Dependentes_Sim</th>\n",
              "      <td>0.020046</td>\n",
              "    </tr>\n",
              "    <tr>\n",
              "      <th>MultiplasLinhas_Sim</th>\n",
              "      <td>0.019275</td>\n",
              "    </tr>\n",
              "    <tr>\n",
              "      <th>ProtecaoEquipamento_Sim</th>\n",
              "      <td>0.018954</td>\n",
              "    </tr>\n",
              "    <tr>\n",
              "      <th>ServicoFilmes_Sim</th>\n",
              "      <td>0.017776</td>\n",
              "    </tr>\n",
              "    <tr>\n",
              "      <th>FormaPagamento_BoletoImpresso</th>\n",
              "      <td>0.017429</td>\n",
              "    </tr>\n",
              "    <tr>\n",
              "      <th>FormaPagamento_CartaoCredito</th>\n",
              "      <td>0.017390</td>\n",
              "    </tr>\n",
              "    <tr>\n",
              "      <th>ServicoStreamingTV_Sim</th>\n",
              "      <td>0.016899</td>\n",
              "    </tr>\n",
              "    <tr>\n",
              "      <th>FormaPagamento_DebitoAutomatico</th>\n",
              "      <td>0.016898</td>\n",
              "    </tr>\n",
              "    <tr>\n",
              "      <th>TipoContrato_Anual</th>\n",
              "      <td>0.011014</td>\n",
              "    </tr>\n",
              "    <tr>\n",
              "      <th>ServicoFilmes_SemInternet</th>\n",
              "      <td>0.005858</td>\n",
              "    </tr>\n",
              "    <tr>\n",
              "      <th>ProtecaoEquipamento_SemInternet</th>\n",
              "      <td>0.005643</td>\n",
              "    </tr>\n",
              "    <tr>\n",
              "      <th>ServicoInternet_Nao</th>\n",
              "      <td>0.005635</td>\n",
              "    </tr>\n",
              "    <tr>\n",
              "      <th>ServicoSuporteTecnico_SemInternet</th>\n",
              "      <td>0.005241</td>\n",
              "    </tr>\n",
              "    <tr>\n",
              "      <th>ServicoSegurancaOnline_SemInternet</th>\n",
              "      <td>0.005215</td>\n",
              "    </tr>\n",
              "    <tr>\n",
              "      <th>ServicoStreamingTV_SemInternet</th>\n",
              "      <td>0.005120</td>\n",
              "    </tr>\n",
              "    <tr>\n",
              "      <th>ServicoTelefone_Sim</th>\n",
              "      <td>0.004634</td>\n",
              "    </tr>\n",
              "    <tr>\n",
              "      <th>ServicoBackupOnline_SemInternet</th>\n",
              "      <td>0.004476</td>\n",
              "    </tr>\n",
              "    <tr>\n",
              "      <th>MultiplasLinhas_SemTelefone</th>\n",
              "      <td>0.004422</td>\n",
              "    </tr>\n",
              "  </tbody>\n",
              "</table>\n",
              "</div>"
            ],
            "text/plain": [
              "                                    importance\n",
              "TotalGasto                            0.192310\n",
              "ValorMensal                           0.165740\n",
              "MesesComoCliente                      0.163570\n",
              "TipoContrato_Mensal                   0.070695\n",
              "ServicoInternet_Fibra                 0.036153\n",
              "Genero_Masculino                      0.027473\n",
              "ServicoSegurancaOnline_Sim            0.027077\n",
              "FaturaDigital_Sim                     0.025241\n",
              "Casado_Sim                            0.023856\n",
              "ServicoSuporteTecnico_Sim             0.022830\n",
              "ServicoBackupOnline_Sim               0.022369\n",
              "Aposentado_Sim                        0.020759\n",
              "Dependentes_Sim                       0.020046\n",
              "MultiplasLinhas_Sim                   0.019275\n",
              "ProtecaoEquipamento_Sim               0.018954\n",
              "ServicoFilmes_Sim                     0.017776\n",
              "FormaPagamento_BoletoImpresso         0.017429\n",
              "FormaPagamento_CartaoCredito          0.017390\n",
              "ServicoStreamingTV_Sim                0.016899\n",
              "FormaPagamento_DebitoAutomatico       0.016898\n",
              "TipoContrato_Anual                    0.011014\n",
              "ServicoFilmes_SemInternet             0.005858\n",
              "ProtecaoEquipamento_SemInternet       0.005643\n",
              "ServicoInternet_Nao                   0.005635\n",
              "ServicoSuporteTecnico_SemInternet     0.005241\n",
              "ServicoSegurancaOnline_SemInternet    0.005215\n",
              "ServicoStreamingTV_SemInternet        0.005120\n",
              "ServicoTelefone_Sim                   0.004634\n",
              "ServicoBackupOnline_SemInternet       0.004476\n",
              "MultiplasLinhas_SemTelefone           0.004422"
            ]
          },
          "execution_count": 118,
          "metadata": {},
          "output_type": "execute_result"
        }
      ]
    },
    {
      "cell_type": "markdown",
      "metadata": {
        "id": "GJZMsNUqOwtM"
      },
      "source": [
        "## Modelo XGBoost"
      ]
    },
    {
      "cell_type": "code",
      "metadata": {
        "id": "VCz-50VHOwtM",
        "outputId": "c6edf247-6e36-4d3d-9c65-b0a4ec7018a6"
      },
      "source": [
        "#Importando as bibliotecas necessárias\n",
        "from numpy import loadtxt\n",
        "from xgboost import XGBClassifier\n",
        "from sklearn.metrics import accuracy_score\n",
        "\n",
        "# ajuste do modelo nos dados de treino\n",
        "xgb = XGBClassifier(learning_rate =0.1,\n",
        " n_estimators=1000,\n",
        " max_depth=6,\n",
        " min_child_weight=1,\n",
        " gamma=0,\n",
        " subsample=0.8,\n",
        " colsample_bytree=0.8,\n",
        " objective= 'binary:logistic',\n",
        " nthread=4,\n",
        " scale_pos_weight=1.0,\n",
        " seed=27)\n",
        "xgb.fit(x_treino, y_treino)\n",
        " "
      ],
      "execution_count": null,
      "outputs": [
        {
          "name": "stderr",
          "output_type": "stream",
          "text": [
            "C:\\Users\\Adriano Galutti\\anaconda3\\lib\\site-packages\\xgboost\\sklearn.py:1146: UserWarning:\n",
            "\n",
            "The use of label encoder in XGBClassifier is deprecated and will be removed in a future release. To remove this warning, do the following: 1) Pass option use_label_encoder=False when constructing XGBClassifier object; and 2) Encode your labels (y) as integers starting with 0, i.e. 0, 1, 2, ..., [num_class - 1].\n",
            "\n"
          ]
        },
        {
          "name": "stdout",
          "output_type": "stream",
          "text": [
            "[09:40:40] WARNING: C:/Users/Administrator/workspace/xgboost-win64_release_1.4.0/src/learner.cc:1095: Starting in XGBoost 1.3.0, the default evaluation metric used with the objective 'binary:logistic' was changed from 'error' to 'logloss'. Explicitly set eval_metric if you'd like to restore the old behavior.\n"
          ]
        },
        {
          "data": {
            "text/plain": [
              "XGBClassifier(base_score=0.5, booster='gbtree', colsample_bylevel=1,\n",
              "              colsample_bynode=1, colsample_bytree=0.8, gamma=0, gpu_id=-1,\n",
              "              importance_type='gain', interaction_constraints='',\n",
              "              learning_rate=0.1, max_delta_step=0, max_depth=6,\n",
              "              min_child_weight=1, missing=nan, monotone_constraints='()',\n",
              "              n_estimators=1000, n_jobs=4, nthread=4, num_parallel_tree=1,\n",
              "              random_state=27, reg_alpha=0, reg_lambda=1, scale_pos_weight=1.0,\n",
              "              seed=27, subsample=0.8, tree_method='exact',\n",
              "              validate_parameters=1, verbosity=None)"
            ]
          },
          "execution_count": 119,
          "metadata": {},
          "output_type": "execute_result"
        }
      ]
    },
    {
      "cell_type": "markdown",
      "metadata": {
        "id": "CUxpUhLwOwtN"
      },
      "source": [
        "### Validação do modelo nos dados de teste"
      ]
    },
    {
      "cell_type": "code",
      "metadata": {
        "id": "9JdkWfPTOwtN",
        "outputId": "ce8db977-277e-4b64-85c9-da4220c7ff92"
      },
      "source": [
        "#fazendo as predições no dados de teste\n",
        "preditos_xgb = xgb.predict(x_teste)\n",
        "print (pd.crosstab(y_teste,preditos_xgb, rownames=['Real'], colnames=['Predito'], margins=True))"
      ],
      "execution_count": null,
      "outputs": [
        {
          "name": "stdout",
          "output_type": "stream",
          "text": [
            "Predito     0    1   All\n",
            "Real                    \n",
            "0         951  140  1091\n",
            "1         210  193   403\n",
            "All      1161  333  1494\n"
          ]
        }
      ]
    },
    {
      "cell_type": "code",
      "metadata": {
        "id": "PNsoDMfGOwtN",
        "outputId": "03dcab5c-9cb1-499c-c601-db8676333414"
      },
      "source": [
        "from sklearn.metrics import classification_report,confusion_matrix\n",
        "print(classification_report(y_teste, preditos_xgb))"
      ],
      "execution_count": null,
      "outputs": [
        {
          "name": "stdout",
          "output_type": "stream",
          "text": [
            "              precision    recall  f1-score   support\n",
            "\n",
            "           0       0.82      0.87      0.84      1091\n",
            "           1       0.58      0.48      0.52       403\n",
            "\n",
            "    accuracy                           0.77      1494\n",
            "   macro avg       0.70      0.68      0.68      1494\n",
            "weighted avg       0.75      0.77      0.76      1494\n",
            "\n"
          ]
        }
      ]
    },
    {
      "cell_type": "markdown",
      "metadata": {
        "id": "RPZ-4ek6OwtN"
      },
      "source": [
        "Usando o XGBoost alcançamos uma acurácia de 77%. O modelo Random Forest teve uma acurácia de 79%, escolhemos o Random Forest  como o melhor modelo. Pois o Random Forest foi o modelo que conseguiu prever melhor o Churn.\n",
        "\n",
        "Todas as medidas referentes a classe 1 foi melhor no Random Forest. Lembre-se, a acurácia é uma medida geral do acerto do modelo, e o modelo XGBoost não conseguiu prever a classe 0 tão bem quanto o modelo Random Forest, por isso a acurácia foi menor.\n",
        "\n",
        "Porém como o nosso objetivo era prever o Churn, o modelo Random forest teve uma melhor performance nesse quesito."
      ]
    },
    {
      "cell_type": "markdown",
      "metadata": {
        "id": "ebQmE1dbOwtO"
      },
      "source": [
        "### Analisando a importancia das variáveis"
      ]
    },
    {
      "cell_type": "code",
      "metadata": {
        "id": "0f3b1gCZOwtO",
        "outputId": "532564fa-910b-488e-b6b7-83c970e73661"
      },
      "source": [
        "#Analisando a importância de cada variável\n",
        "import matplotlib.pyplot as plt\n",
        "from xgboost import plot_importance\n",
        "fig, ax = plt.subplots(figsize=(10,8))\n",
        "plot_importance(xgb, ax=ax)"
      ],
      "execution_count": null,
      "outputs": [
        {
          "data": {
            "text/plain": [
              "<AxesSubplot:title={'center':'Feature importance'}, xlabel='F score', ylabel='Features'>"
            ]
          },
          "execution_count": 122,
          "metadata": {},
          "output_type": "execute_result"
        },
        {
          "data": {
            "image/png": "[encoded data removed]",
            "text/plain": [
              "<Figure size 720x576 with 1 Axes>"
            ]
          },
          "metadata": {
            "needs_background": "light"
          },
          "output_type": "display_data"
        }
      ]
    },
    {
      "cell_type": "markdown",
      "metadata": {
        "id": "9pEf50YcOwtO"
      },
      "source": [
        "As variáveis mais importante para prever o Churn dos clientes foram: total gasto, valor mensal, meses como cliente e genero masculino."
      ]
    },
    {
      "cell_type": "markdown",
      "metadata": {
        "id": "Fjwwg2DpOwtO"
      },
      "source": [
        "## Método Ensemble\n",
        "\n",
        "Para tentar melhorar a previsão do Churn, vamos combinar os dois melhores modelos, Random Forest e XGBoost."
      ]
    },
    {
      "cell_type": "code",
      "metadata": {
        "id": "F2CAr32oOwtP",
        "outputId": "87c988cb-5913-4331-dedb-681c2c1506f0"
      },
      "source": [
        "from sklearn.ensemble import VotingClassifier\n",
        "\n",
        "# Voting Classifier with soft voting \n",
        "voto = VotingClassifier(estimators=[('rf', rf),('xgb',xgb)], voting='soft')\n",
        "voto = voto.fit(x_treino,y_treino)"
      ],
      "execution_count": null,
      "outputs": [
        {
          "name": "stderr",
          "output_type": "stream",
          "text": [
            "C:\\Users\\Adriano Galutti\\anaconda3\\lib\\site-packages\\xgboost\\sklearn.py:1146: UserWarning:\n",
            "\n",
            "The use of label encoder in XGBClassifier is deprecated and will be removed in a future release. To remove this warning, do the following: 1) Pass option use_label_encoder=False when constructing XGBClassifier object; and 2) Encode your labels (y) as integers starting with 0, i.e. 0, 1, 2, ..., [num_class - 1].\n",
            "\n"
          ]
        },
        {
          "name": "stdout",
          "output_type": "stream",
          "text": [
            "[09:41:06] WARNING: C:/Users/Administrator/workspace/xgboost-win64_release_1.4.0/src/learner.cc:1095: Starting in XGBoost 1.3.0, the default evaluation metric used with the objective 'binary:logistic' was changed from 'error' to 'logloss'. Explicitly set eval_metric if you'd like to restore the old behavior.\n"
          ]
        }
      ]
    },
    {
      "cell_type": "code",
      "metadata": {
        "id": "iqbiuj3KOwtP",
        "outputId": "cf37d7fd-0ae6-4360-c4de-8f820867a925"
      },
      "source": [
        "y_predito = voto.predict(x_teste)\n",
        "print (pd.crosstab(y_teste,y_predito, rownames=['Real'], colnames=['Predito'], margins=True))\n"
      ],
      "execution_count": null,
      "outputs": [
        {
          "name": "stdout",
          "output_type": "stream",
          "text": [
            "Predito     0    1   All\n",
            "Real                    \n",
            "0         968  123  1091\n",
            "1         216  187   403\n",
            "All      1184  310  1494\n"
          ]
        }
      ]
    },
    {
      "cell_type": "code",
      "metadata": {
        "id": "VyH6cttiOwtP",
        "outputId": "2ddfeb91-5af3-45c7-ca15-f8b868068003"
      },
      "source": [
        "print(classification_report(y_teste, y_predito))"
      ],
      "execution_count": null,
      "outputs": [
        {
          "name": "stdout",
          "output_type": "stream",
          "text": [
            "              precision    recall  f1-score   support\n",
            "\n",
            "           0       0.82      0.89      0.85      1091\n",
            "           1       0.60      0.46      0.52       403\n",
            "\n",
            "    accuracy                           0.77      1494\n",
            "   macro avg       0.71      0.68      0.69      1494\n",
            "weighted avg       0.76      0.77      0.76      1494\n",
            "\n"
          ]
        }
      ]
    },
    {
      "cell_type": "markdown",
      "metadata": {
        "id": "VcgNCOZfOwtQ"
      },
      "source": [
        "Ao combinar os modelos observamos que não houve uma melhora nas medidas de validação, assim vamos considerar o modelo Random Forest como o nosso melhor modelo."
      ]
    },
    {
      "cell_type": "markdown",
      "metadata": {
        "id": "TvS2747SOwtQ"
      },
      "source": [
        "### Probabilidade de Churn\n",
        "\n",
        "Finalmente, a melhor maneira de usar esse modelo é atribuir probabilidade de evasão para cada cliente, criar segmentos e criar estratégias sobre isso. Para obter a probabilidade de Churn do nosso modelo, utilize o bloco de código abaixo:"
      ]
    },
    {
      "cell_type": "code",
      "metadata": {
        "id": "C00XCFH2OwtQ",
        "outputId": "93bf73e8-931f-405d-831c-25e729a150dd"
      },
      "source": [
        "dados_df1['proba'] = voto.predict_proba(X [x_treino.columns])[:,1]\n",
        "dados_df1['IDCliente'] = dados_df.IDCliente\n",
        "dados_df1[['IDCliente','proba']].sort_values(by = 'proba', ascending = False)"
      ],
      "execution_count": null,
      "outputs": [
        {
          "data": {
            "text/html": [
              "<div>\n",
              "<style scoped>\n",
              "    .dataframe tbody tr th:only-of-type {\n",
              "        vertical-align: middle;\n",
              "    }\n",
              "\n",
              "    .dataframe tbody tr th {\n",
              "        vertical-align: top;\n",
              "    }\n",
              "\n",
              "    .dataframe thead th {\n",
              "        text-align: right;\n",
              "    }\n",
              "</style>\n",
              "<table border=\"1\" class=\"dataframe\">\n",
              "  <thead>\n",
              "    <tr style=\"text-align: right;\">\n",
              "      <th></th>\n",
              "      <th>IDCliente</th>\n",
              "      <th>proba</th>\n",
              "    </tr>\n",
              "  </thead>\n",
              "  <tbody>\n",
              "    <tr>\n",
              "      <th>4378</th>\n",
              "      <td>0488-GSLFR</td>\n",
              "      <td>9.994387e-01</td>\n",
              "    </tr>\n",
              "    <tr>\n",
              "      <th>1086</th>\n",
              "      <td>7665-TOALD</td>\n",
              "      <td>9.994387e-01</td>\n",
              "    </tr>\n",
              "    <tr>\n",
              "      <th>2989</th>\n",
              "      <td>8375-DKEBR</td>\n",
              "      <td>9.988294e-01</td>\n",
              "    </tr>\n",
              "    <tr>\n",
              "      <th>5284</th>\n",
              "      <td>2636-ALXXZ</td>\n",
              "      <td>9.988294e-01</td>\n",
              "    </tr>\n",
              "    <tr>\n",
              "      <th>24</th>\n",
              "      <td>4871-JTKJF</td>\n",
              "      <td>9.986911e-01</td>\n",
              "    </tr>\n",
              "    <tr>\n",
              "      <th>...</th>\n",
              "      <td>...</td>\n",
              "      <td>...</td>\n",
              "    </tr>\n",
              "    <tr>\n",
              "      <th>2733</th>\n",
              "      <td>6285-FTQBF</td>\n",
              "      <td>3.579560e-06</td>\n",
              "    </tr>\n",
              "    <tr>\n",
              "      <th>3929</th>\n",
              "      <td>9430-NKQLY</td>\n",
              "      <td>1.883463e-06</td>\n",
              "    </tr>\n",
              "    <tr>\n",
              "      <th>3918</th>\n",
              "      <td>7064-JHXCE</td>\n",
              "      <td>1.826949e-06</td>\n",
              "    </tr>\n",
              "    <tr>\n",
              "      <th>5583</th>\n",
              "      <td>0784-ZQJZX</td>\n",
              "      <td>8.397271e-07</td>\n",
              "    </tr>\n",
              "    <tr>\n",
              "      <th>753</th>\n",
              "      <td>4086-WITJG</td>\n",
              "      <td>7.394451e-07</td>\n",
              "    </tr>\n",
              "  </tbody>\n",
              "</table>\n",
              "<p>5974 rows × 2 columns</p>\n",
              "</div>"
            ],
            "text/plain": [
              "       IDCliente         proba\n",
              "4378  0488-GSLFR  9.994387e-01\n",
              "1086  7665-TOALD  9.994387e-01\n",
              "2989  8375-DKEBR  9.988294e-01\n",
              "5284  2636-ALXXZ  9.988294e-01\n",
              "24    4871-JTKJF  9.986911e-01\n",
              "...          ...           ...\n",
              "2733  6285-FTQBF  3.579560e-06\n",
              "3929  9430-NKQLY  1.883463e-06\n",
              "3918  7064-JHXCE  1.826949e-06\n",
              "5583  0784-ZQJZX  8.397271e-07\n",
              "753   4086-WITJG  7.394451e-07\n",
              "\n",
              "[5974 rows x 2 columns]"
            ]
          },
          "execution_count": 126,
          "metadata": {},
          "output_type": "execute_result"
        }
      ]
    }
  ]
}