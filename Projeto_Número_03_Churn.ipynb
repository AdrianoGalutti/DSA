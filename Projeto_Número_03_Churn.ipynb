{
  "cells": [
    {
      "cell_type": "markdown",
      "metadata": {
        "id": "view-in-github",
        "colab_type": "text"
      },
      "source": [
        "<a href=\"https://colab.research.google.com/github/AdrianoGalutti/DSA/blob/main/Projeto_N%C3%BAmero_03_Churn.ipynb\" target=\"_parent\"><img src=\"https://colab.research.google.com/assets/colab-badge.svg\" alt=\"Open In Colab\"/></a>"
      ]
    },
    {
      "cell_type": "markdown",
      "metadata": {
        "id": "GFAwy4sYj2Dr"
      },
      "source": [
        "![alt text](https://encrypted-tbn0.gstatic.com/images?q=tbn%3AANd9GcTK4gQ9nhwHHaSXMHpeggWg7twwMCgb877smkRmtkmDeDoGF9Z6&usqp=CAU)"
      ]
    },
    {
      "cell_type": "markdown",
      "metadata": {
        "id": "LJ7pyr4Aj2Dy"
      },
      "source": [
        "## A. Entendimento do problema"
      ]
    },
    {
      "cell_type": "markdown",
      "metadata": {
        "id": "wTw8jUKrj2D0"
      },
      "source": [
        "## 1 - Previsão de Churn"
      ]
    },
    {
      "cell_type": "markdown",
      "metadata": {
        "id": "NFbC2Chlj2D1"
      },
      "source": [
        "O conceito de Churn em poucas palavras e simplificando o entendimento é uma métrica que indica o número de clientes que cancelaram o contrato ou pararam de comprar seu produto em um determinado período de tempo. Por exemplo, clientes que cancelaram o contrato de serviço ou após o vencimento do mesmo, não renovaram, são clientes considerados em churn.\n",
        "\n",
        "Churn é um indicativo de gestão da empresa e controlá-lo se faz necessario para evitar problemas futuros.\n",
        "\n",
        "Empresas que têm a cultura data driven maximizam seus resultados através de informações extraídas dos dados. Ou seja, utilizam os dados para extrair informações e usam as informações para tomar decisões."
      ]
    },
    {
      "cell_type": "markdown",
      "metadata": {
        "id": "Y9dR9zw1j2D3"
      },
      "source": [
        "## 2 - Definição Problema de Negócio"
      ]
    },
    {
      "cell_type": "markdown",
      "metadata": {
        "id": "YXaOQnhGj2D4"
      },
      "source": [
        "A ALÔ é uma grande empresa de serviços de telecom. Ela atua principalmente nos países da Europa oferecendo diversos serviços, entre os principais internet e telefone.\n",
        "\n",
        "O modelo de negócio da empresa é do tipo serviço, ou seja, ela comercializa serviços de telecom para seus clientes através de agências físicas e um portal online. \n",
        "\n",
        "Nos últimos meses, o time de Analytics analisando o histórico dos clientes dos últimos anos, percebeu que a empresa está com uma taxa de Churn de mais de 26% dos clientes cancelando os serviços. Isso representa uma perda de milhões para a empresa.\n",
        "\n",
        "Preocupados com a queda dessa métrica, o time de Analytics da ALÔ, contratou você como consultor de Data Science para criar um plano de ação, com o objetivo de reduzir a evasão de clientes, ou seja, impedir que o cliente cancele seu contrato. Essa evasão, nas métricas de negócio, é conhecida como Churn.\n"
      ]
    },
    {
      "cell_type": "markdown",
      "metadata": {
        "id": "P15cbHnTj2D5"
      },
      "source": [
        "## 3 - Planejamento da Solução"
      ]
    },
    {
      "cell_type": "markdown",
      "metadata": {
        "id": "qNRTT1AMj2D6"
      },
      "source": [
        "Como vamos entregar as resposta das perguntas de négocio?\n",
        "\n",
        "- 1. Vamos escrever um e-mail?\n",
        "\n",
        "\n",
        "- 2. Vamos mandar uma planilha?\n",
        "\n",
        "\n",
        "- 3. Vamos enviar um gráfico ou mapa dentro de alguma ferramenta?\n",
        "\n",
        "\n",
        "- 4. Vamos enviar um algoritmo de Machine Learning?"
      ]
    },
    {
      "cell_type": "markdown",
      "metadata": {
        "id": "fh8tqyvFj2D7"
      },
      "source": [
        "## 4 - Solução escolhida"
      ]
    },
    {
      "cell_type": "markdown",
      "metadata": {
        "id": "ZixurpXRj2D8"
      },
      "source": [
        "**Vamos enviar um algoritmo de Machine Learning**\n",
        "\n",
        "Olá CEO, espero que esse e-mail o encontre bem?\n",
        "\n",
        "Meu nome é Adriano, sou Cientista de Dados do time de Analytics.\n",
        "\n",
        "Segue abaixo o link do algoritmo e as considerações de cada hipoteses..."
      ]
    },
    {
      "cell_type": "markdown",
      "metadata": {
        "id": "IQ7e3yBOj2D9"
      },
      "source": [
        "## 5 - Aquisição dos dados"
      ]
    },
    {
      "cell_type": "markdown",
      "metadata": {
        "id": "T2j4Z5Znj2D-"
      },
      "source": [
        "O conjunto de dados que representam o contexto está disponível na plataforma do Github.\n",
        "\n",
        "Esse é o link: https://github.com/Ninjalemur/telecom_users\n",
        "\n",
        "Esse conjunto de dados contém 5986 observações e 20 atributos."
      ]
    },
    {
      "cell_type": "markdown",
      "metadata": {
        "id": "eO3gKQlCj2D_"
      },
      "source": [
        "## 5 - Premissas de Negócios"
      ]
    },
    {
      "cell_type": "markdown",
      "metadata": {
        "id": "iKPJd9COj2EA"
      },
      "source": [
        "- Os dados faltantes foram removidos passando a ter este conjunto de dados 5974 observações.\n",
        "\n",
        "\n",
        "- Há a presença de outliers (pontos discrepantes), porem não será aplicado o tratamento.\n",
        "\n",
        "\n",
        "- Os dados estão desbalanceados, e não aplicaremos o balanceamento."
      ]
    },
    {
      "cell_type": "markdown",
      "metadata": {
        "id": "4-Kqn5A7j2EA"
      },
      "source": [
        "## 6 - Lista de atributos"
      ]
    },
    {
      "cell_type": "markdown",
      "metadata": {
        "id": "35cPTX49j2EB"
      },
      "source": [
        "- **IDCliente**\n",
        "- **Genero**\n",
        "- **Aposenta**\n",
        "- **Casado**\n",
        "- **Dependentes**\n",
        "- **MesesComoCliente**\n",
        "- **ServicoTelefone**\n",
        "- **MultiplasLinhas**\n",
        "- **ServicoInternet**\n",
        "- **ServicoSegurancaOnline**\n",
        "- **ServicoBackupOnline**\n",
        "- **ProtecaoEquipamento**\n",
        "- **ServicoSuporteTecnico**\n",
        "- **ServicoStreamingTV**\n",
        "- **ServicoFilmes**\n",
        "- **TipoContrato**\n",
        "- **FaturaDigital**\n",
        "- **FormaPagamento**\n",
        "- **ValorMensal**\n",
        "- **TotalGasto**\n",
        "- **Churn**\n",
        "- **Codigo**"
      ]
    },
    {
      "cell_type": "markdown",
      "metadata": {
        "id": "iZPVKLSbj2ED"
      },
      "source": [
        "## 7 - Estratégia de solução"
      ]
    },
    {
      "cell_type": "markdown",
      "metadata": {
        "id": "kBFIEbHwj2ED"
      },
      "source": [
        "O método utilizado para o projeto foi o CRISP-DM, aplicado conforme os passos abaixo:\n",
        "\n",
        "**A** . Entendimento do problema.\n",
        "\n",
        "**B** . Obtenção dos dados.\n",
        "\n",
        "**C** . Análise Exploratória e Visualização dos dados.\n",
        "\n",
        "**D** . Pré-processamento. \n",
        "\n",
        "**E** . Modelos de Machine Learning.\n",
        "\n",
        "**F** . Avaliação do modelo. "
      ]
    },
    {
      "cell_type": "markdown",
      "metadata": {
        "id": "zmO88-l2j2EE"
      },
      "source": [
        "## B. Obtenção dos dados"
      ]
    },
    {
      "cell_type": "markdown",
      "metadata": {
        "id": "-73OTfnhj2EF"
      },
      "source": [
        "## 01 - Importando as bibliotecas"
      ]
    },
    {
      "cell_type": "code",
      "source": [
        "!pip install inflection"
      ],
      "metadata": {
        "colab": {
          "base_uri": "https://localhost:8080/"
        },
        "id": "k9BAYd5ikGFd",
        "outputId": "78326454-114d-49c6-a023-9f17ed13306d"
      },
      "execution_count": 1,
      "outputs": [
        {
          "output_type": "stream",
          "name": "stdout",
          "text": [
            "Looking in indexes: https://pypi.org/simple, https://us-python.pkg.dev/colab-wheels/public/simple/\n",
            "Collecting inflection\n",
            "  Downloading inflection-0.5.1-py2.py3-none-any.whl (9.5 kB)\n",
            "Installing collected packages: inflection\n",
            "Successfully installed inflection-0.5.1\n"
          ]
        }
      ]
    },
    {
      "cell_type": "code",
      "execution_count": 2,
      "metadata": {
        "id": "V4l3jwXTj2EG"
      },
      "outputs": [],
      "source": [
        "import inflection\n",
        "import pandas            as pd \n",
        "import plotly.express    as px \n",
        "import numpy             as np \n",
        "import seaborn           as sns \n",
        "import matplotlib.pyplot as plt \n",
        "\n",
        "from sklearn.model_selection import train_test_split \n",
        "from sklearn.neighbors       import KNeighborsClassifier\n",
        "from sklearn.metrics         import classification_report,confusion_matrix\n",
        "from sklearn.ensemble        import RandomForestClassifier\n",
        "from sklearn.preprocessing   import RobustScaler, MinMaxScaler, LabelEncoder\n",
        "from tabulate                import tabulate\n",
        "from numpy                   import loadtxt\n",
        "from xgboost                 import XGBClassifier\n",
        "from sklearn.metrics         import accuracy_score\n",
        "from sklearn.ensemble        import VotingClassifier\n",
        "from sklearn.model_selection import GridSearchCV\n",
        "from xgboost                 import plot_importance"
      ]
    },
    {
      "cell_type": "markdown",
      "metadata": {
        "id": "dSuiE2fIj2EJ"
      },
      "source": [
        "## 02 - Carregamento dos Dados"
      ]
    },
    {
      "cell_type": "code",
      "execution_count": 3,
      "metadata": {
        "id": "4MGy67Gnj2EK"
      },
      "outputs": [],
      "source": [
        "# Carregar da base de dados\n",
        "dados_df = pd.read_csv('/content/telecom_users.csv', low_memory=False )"
      ]
    },
    {
      "cell_type": "markdown",
      "metadata": {
        "id": "a_oCL8G3j2EL"
      },
      "source": [
        "## 03 - Descrição dos Dados"
      ]
    },
    {
      "cell_type": "code",
      "execution_count": 4,
      "metadata": {
        "colab": {
          "base_uri": "https://localhost:8080/",
          "height": 0
        },
        "id": "2WCIyq0Mj2EM",
        "outputId": "a0037b29-e147-44ab-f89c-0ca1da1eb0b3"
      },
      "outputs": [
        {
          "output_type": "execute_result",
          "data": {
            "text/plain": [
              "   Unnamed: 0   IDCliente     Genero  Aposentado Casado Dependentes  \\\n",
              "0        1869  7010-BRBUU  Masculino           0    Sim         Sim   \n",
              "1        4528  9688-YGXVR   Feminino           0    Nao         Nao   \n",
              "2        6344  9286-DOJGF   Feminino           1    Sim         Nao   \n",
              "3        6739  6994-KERXL  Masculino           0    Nao         Nao   \n",
              "4         432  2181-UAESM  Masculino           0    Nao         Nao   \n",
              "\n",
              "   MesesComoCliente ServicoTelefone MultiplasLinhas ServicoInternet  ...  \\\n",
              "0                72             Sim             Sim             Nao  ...   \n",
              "1                44             Sim             Nao           Fibra  ...   \n",
              "2                38             Sim             Sim           Fibra  ...   \n",
              "3                 4             Sim             Nao             DSL  ...   \n",
              "4                 2             Sim             Nao             DSL  ...   \n",
              "\n",
              "  ServicoSuporteTecnico ServicoStreamingTV ServicoFilmes TipoContrato  \\\n",
              "0           SemInternet        SemInternet   SemInternet       2 anos   \n",
              "1                   Nao                Sim           Nao       Mensal   \n",
              "2                   Nao                Nao           Nao       Mensal   \n",
              "3                   Nao                Nao           Sim       Mensal   \n",
              "4                   Nao                Nao           Nao       Mensal   \n",
              "\n",
              "  FaturaDigital    FormaPagamento ValorMensal TotalGasto Churn  Codigo  \n",
              "0           Nao     CartaoCredito       24.10    1734.65   Nao     NaN  \n",
              "1           Sim     CartaoCredito       88.15     3973.2   Nao     NaN  \n",
              "2           Sim  DebitoAutomatico       74.95    2869.85   Sim     NaN  \n",
              "3           Sim  BoletoEletronico       55.90      238.5   Nao     NaN  \n",
              "4           Nao  BoletoEletronico       53.45      119.5   Nao     NaN  \n",
              "\n",
              "[5 rows x 23 columns]"
            ],
            "text/html": [
              "\n",
              "  <div id=\"df-b4d84e00-8438-4461-8762-f198da142b37\">\n",
              "    <div class=\"colab-df-container\">\n",
              "      <div>\n",
              "<style scoped>\n",
              "    .dataframe tbody tr th:only-of-type {\n",
              "        vertical-align: middle;\n",
              "    }\n",
              "\n",
              "    .dataframe tbody tr th {\n",
              "        vertical-align: top;\n",
              "    }\n",
              "\n",
              "    .dataframe thead th {\n",
              "        text-align: right;\n",
              "    }\n",
              "</style>\n",
              "<table border=\"1\" class=\"dataframe\">\n",
              "  <thead>\n",
              "    <tr style=\"text-align: right;\">\n",
              "      <th></th>\n",
              "      <th>Unnamed: 0</th>\n",
              "      <th>IDCliente</th>\n",
              "      <th>Genero</th>\n",
              "      <th>Aposentado</th>\n",
              "      <th>Casado</th>\n",
              "      <th>Dependentes</th>\n",
              "      <th>MesesComoCliente</th>\n",
              "      <th>ServicoTelefone</th>\n",
              "      <th>MultiplasLinhas</th>\n",
              "      <th>ServicoInternet</th>\n",
              "      <th>...</th>\n",
              "      <th>ServicoSuporteTecnico</th>\n",
              "      <th>ServicoStreamingTV</th>\n",
              "      <th>ServicoFilmes</th>\n",
              "      <th>TipoContrato</th>\n",
              "      <th>FaturaDigital</th>\n",
              "      <th>FormaPagamento</th>\n",
              "      <th>ValorMensal</th>\n",
              "      <th>TotalGasto</th>\n",
              "      <th>Churn</th>\n",
              "      <th>Codigo</th>\n",
              "    </tr>\n",
              "  </thead>\n",
              "  <tbody>\n",
              "    <tr>\n",
              "      <th>0</th>\n",
              "      <td>1869</td>\n",
              "      <td>7010-BRBUU</td>\n",
              "      <td>Masculino</td>\n",
              "      <td>0</td>\n",
              "      <td>Sim</td>\n",
              "      <td>Sim</td>\n",
              "      <td>72</td>\n",
              "      <td>Sim</td>\n",
              "      <td>Sim</td>\n",
              "      <td>Nao</td>\n",
              "      <td>...</td>\n",
              "      <td>SemInternet</td>\n",
              "      <td>SemInternet</td>\n",
              "      <td>SemInternet</td>\n",
              "      <td>2 anos</td>\n",
              "      <td>Nao</td>\n",
              "      <td>CartaoCredito</td>\n",
              "      <td>24.10</td>\n",
              "      <td>1734.65</td>\n",
              "      <td>Nao</td>\n",
              "      <td>NaN</td>\n",
              "    </tr>\n",
              "    <tr>\n",
              "      <th>1</th>\n",
              "      <td>4528</td>\n",
              "      <td>9688-YGXVR</td>\n",
              "      <td>Feminino</td>\n",
              "      <td>0</td>\n",
              "      <td>Nao</td>\n",
              "      <td>Nao</td>\n",
              "      <td>44</td>\n",
              "      <td>Sim</td>\n",
              "      <td>Nao</td>\n",
              "      <td>Fibra</td>\n",
              "      <td>...</td>\n",
              "      <td>Nao</td>\n",
              "      <td>Sim</td>\n",
              "      <td>Nao</td>\n",
              "      <td>Mensal</td>\n",
              "      <td>Sim</td>\n",
              "      <td>CartaoCredito</td>\n",
              "      <td>88.15</td>\n",
              "      <td>3973.2</td>\n",
              "      <td>Nao</td>\n",
              "      <td>NaN</td>\n",
              "    </tr>\n",
              "    <tr>\n",
              "      <th>2</th>\n",
              "      <td>6344</td>\n",
              "      <td>9286-DOJGF</td>\n",
              "      <td>Feminino</td>\n",
              "      <td>1</td>\n",
              "      <td>Sim</td>\n",
              "      <td>Nao</td>\n",
              "      <td>38</td>\n",
              "      <td>Sim</td>\n",
              "      <td>Sim</td>\n",
              "      <td>Fibra</td>\n",
              "      <td>...</td>\n",
              "      <td>Nao</td>\n",
              "      <td>Nao</td>\n",
              "      <td>Nao</td>\n",
              "      <td>Mensal</td>\n",
              "      <td>Sim</td>\n",
              "      <td>DebitoAutomatico</td>\n",
              "      <td>74.95</td>\n",
              "      <td>2869.85</td>\n",
              "      <td>Sim</td>\n",
              "      <td>NaN</td>\n",
              "    </tr>\n",
              "    <tr>\n",
              "      <th>3</th>\n",
              "      <td>6739</td>\n",
              "      <td>6994-KERXL</td>\n",
              "      <td>Masculino</td>\n",
              "      <td>0</td>\n",
              "      <td>Nao</td>\n",
              "      <td>Nao</td>\n",
              "      <td>4</td>\n",
              "      <td>Sim</td>\n",
              "      <td>Nao</td>\n",
              "      <td>DSL</td>\n",
              "      <td>...</td>\n",
              "      <td>Nao</td>\n",
              "      <td>Nao</td>\n",
              "      <td>Sim</td>\n",
              "      <td>Mensal</td>\n",
              "      <td>Sim</td>\n",
              "      <td>BoletoEletronico</td>\n",
              "      <td>55.90</td>\n",
              "      <td>238.5</td>\n",
              "      <td>Nao</td>\n",
              "      <td>NaN</td>\n",
              "    </tr>\n",
              "    <tr>\n",
              "      <th>4</th>\n",
              "      <td>432</td>\n",
              "      <td>2181-UAESM</td>\n",
              "      <td>Masculino</td>\n",
              "      <td>0</td>\n",
              "      <td>Nao</td>\n",
              "      <td>Nao</td>\n",
              "      <td>2</td>\n",
              "      <td>Sim</td>\n",
              "      <td>Nao</td>\n",
              "      <td>DSL</td>\n",
              "      <td>...</td>\n",
              "      <td>Nao</td>\n",
              "      <td>Nao</td>\n",
              "      <td>Nao</td>\n",
              "      <td>Mensal</td>\n",
              "      <td>Nao</td>\n",
              "      <td>BoletoEletronico</td>\n",
              "      <td>53.45</td>\n",
              "      <td>119.5</td>\n",
              "      <td>Nao</td>\n",
              "      <td>NaN</td>\n",
              "    </tr>\n",
              "  </tbody>\n",
              "</table>\n",
              "<p>5 rows × 23 columns</p>\n",
              "</div>\n",
              "      <button class=\"colab-df-convert\" onclick=\"convertToInteractive('df-b4d84e00-8438-4461-8762-f198da142b37')\"\n",
              "              title=\"Convert this dataframe to an interactive table.\"\n",
              "              style=\"display:none;\">\n",
              "        \n",
              "  <svg xmlns=\"http://www.w3.org/2000/svg\" height=\"24px\"viewBox=\"0 0 24 24\"\n",
              "       width=\"24px\">\n",
              "    <path d=\"M0 0h24v24H0V0z\" fill=\"none\"/>\n",
              "    <path d=\"M18.56 5.44l.94 2.06.94-2.06 2.06-.94-2.06-.94-.94-2.06-.94 2.06-2.06.94zm-11 1L8.5 8.5l.94-2.06 2.06-.94-2.06-.94L8.5 2.5l-.94 2.06-2.06.94zm10 10l.94 2.06.94-2.06 2.06-.94-2.06-.94-.94-2.06-.94 2.06-2.06.94z\"/><path d=\"M17.41 7.96l-1.37-1.37c-.4-.4-.92-.59-1.43-.59-.52 0-1.04.2-1.43.59L10.3 9.45l-7.72 7.72c-.78.78-.78 2.05 0 2.83L4 21.41c.39.39.9.59 1.41.59.51 0 1.02-.2 1.41-.59l7.78-7.78 2.81-2.81c.8-.78.8-2.07 0-2.86zM5.41 20L4 18.59l7.72-7.72 1.47 1.35L5.41 20z\"/>\n",
              "  </svg>\n",
              "      </button>\n",
              "      \n",
              "  <style>\n",
              "    .colab-df-container {\n",
              "      display:flex;\n",
              "      flex-wrap:wrap;\n",
              "      gap: 12px;\n",
              "    }\n",
              "\n",
              "    .colab-df-convert {\n",
              "      background-color: #E8F0FE;\n",
              "      border: none;\n",
              "      border-radius: 50%;\n",
              "      cursor: pointer;\n",
              "      display: none;\n",
              "      fill: #1967D2;\n",
              "      height: 32px;\n",
              "      padding: 0 0 0 0;\n",
              "      width: 32px;\n",
              "    }\n",
              "\n",
              "    .colab-df-convert:hover {\n",
              "      background-color: #E2EBFA;\n",
              "      box-shadow: 0px 1px 2px rgba(60, 64, 67, 0.3), 0px 1px 3px 1px rgba(60, 64, 67, 0.15);\n",
              "      fill: #174EA6;\n",
              "    }\n",
              "\n",
              "    [theme=dark] .colab-df-convert {\n",
              "      background-color: #3B4455;\n",
              "      fill: #D2E3FC;\n",
              "    }\n",
              "\n",
              "    [theme=dark] .colab-df-convert:hover {\n",
              "      background-color: #434B5C;\n",
              "      box-shadow: 0px 1px 3px 1px rgba(0, 0, 0, 0.15);\n",
              "      filter: drop-shadow(0px 1px 2px rgba(0, 0, 0, 0.3));\n",
              "      fill: #FFFFFF;\n",
              "    }\n",
              "  </style>\n",
              "\n",
              "      <script>\n",
              "        const buttonEl =\n",
              "          document.querySelector('#df-b4d84e00-8438-4461-8762-f198da142b37 button.colab-df-convert');\n",
              "        buttonEl.style.display =\n",
              "          google.colab.kernel.accessAllowed ? 'block' : 'none';\n",
              "\n",
              "        async function convertToInteractive(key) {\n",
              "          const element = document.querySelector('#df-b4d84e00-8438-4461-8762-f198da142b37');\n",
              "          const dataTable =\n",
              "            await google.colab.kernel.invokeFunction('convertToInteractive',\n",
              "                                                     [key], {});\n",
              "          if (!dataTable) return;\n",
              "\n",
              "          const docLinkHtml = 'Like what you see? Visit the ' +\n",
              "            '<a target=\"_blank\" href=https://colab.research.google.com/notebooks/data_table.ipynb>data table notebook</a>'\n",
              "            + ' to learn more about interactive tables.';\n",
              "          element.innerHTML = '';\n",
              "          dataTable['output_type'] = 'display_data';\n",
              "          await google.colab.output.renderOutput(dataTable, element);\n",
              "          const docLink = document.createElement('div');\n",
              "          docLink.innerHTML = docLinkHtml;\n",
              "          element.appendChild(docLink);\n",
              "        }\n",
              "      </script>\n",
              "    </div>\n",
              "  </div>\n",
              "  "
            ]
          },
          "metadata": {},
          "execution_count": 4
        }
      ],
      "source": [
        "#Verificar os primeiros registros \n",
        "dados_df.head()"
      ]
    },
    {
      "cell_type": "code",
      "execution_count": 5,
      "metadata": {
        "id": "Hg3RNRl8j2EO"
      },
      "outputs": [],
      "source": [
        "#excluindo as colunas\n",
        "dados_df.drop(['Unnamed: 0','Codigo'], axis=1, inplace=True)"
      ]
    },
    {
      "cell_type": "code",
      "execution_count": 6,
      "metadata": {
        "id": "EoUpPy0ij2EP"
      },
      "outputs": [],
      "source": [
        "#renomeando as colunas\n",
        "cols_old = ['IDCliente','Genero', 'Aposentado', 'Casado', 'Dependentes',\n",
        "       'MesesComoCliente', 'ServicoTelefone', 'MultiplasLinhas',\n",
        "       'ServicoInternet', 'ServicoSegurancaOnline', 'ServicoBackupOnline',\n",
        "       'ProtecaoEquipamento', 'ServicoSuporteTecnico', 'ServicoStreamingTV',\n",
        "       'ServicoFilmes', 'TipoContrato', 'FaturaDigital', 'FormaPagamento',\n",
        "       'ValorMensal', 'TotalGasto', 'Churn']\n",
        "\n",
        "snakecase = lambda x: inflection.underscore( x )\n",
        "\n",
        "cols_new = list( map( snakecase, cols_old ) )\n",
        "\n",
        "# renomear\n",
        "dados_df.columns = cols_new"
      ]
    },
    {
      "cell_type": "code",
      "execution_count": 7,
      "metadata": {
        "id": "kiGHXyZRj2EQ"
      },
      "outputs": [],
      "source": [
        "# redefinir o índice\n",
        "dados_df = dados_df.set_index('id_cliente') "
      ]
    },
    {
      "cell_type": "code",
      "execution_count": 8,
      "metadata": {
        "colab": {
          "base_uri": "https://localhost:8080/"
        },
        "id": "AE-fh8Xqj2ER",
        "outputId": "ee7d97df-e49a-4311-a349-c522d7fc5958"
      },
      "outputs": [
        {
          "output_type": "stream",
          "name": "stdout",
          "text": [
            "Numero de linhas: 5986\n",
            "Numero de colunas: 20\n"
          ]
        }
      ],
      "source": [
        "#verificar as dimensões do conjunto de dados\n",
        "print( 'Numero de linhas: {}'.format( dados_df.shape[0] ) )\n",
        "print( 'Numero de colunas: {}'.format( dados_df.shape[1] ) )"
      ]
    },
    {
      "cell_type": "code",
      "execution_count": 9,
      "metadata": {
        "scrolled": true,
        "colab": {
          "base_uri": "https://localhost:8080/"
        },
        "id": "xYmPirSqj2ES",
        "outputId": "af5e57d9-2d84-4c0e-eb78-839b5e543d75"
      },
      "outputs": [
        {
          "output_type": "stream",
          "name": "stdout",
          "text": [
            "<class 'pandas.core.frame.DataFrame'>\n",
            "Index: 5986 entries, 7010-BRBUU to 4795-UXVCJ\n",
            "Data columns (total 20 columns):\n",
            " #   Column                    Non-Null Count  Dtype  \n",
            "---  ------                    --------------  -----  \n",
            " 0   genero                    5986 non-null   object \n",
            " 1   aposentado                5986 non-null   int64  \n",
            " 2   casado                    5986 non-null   object \n",
            " 3   dependentes               5985 non-null   object \n",
            " 4   meses_como_cliente        5986 non-null   int64  \n",
            " 5   servico_telefone          5986 non-null   object \n",
            " 6   multiplas_linhas          5986 non-null   object \n",
            " 7   servico_internet          5986 non-null   object \n",
            " 8   servico_seguranca_online  5986 non-null   object \n",
            " 9   servico_backup_online     5986 non-null   object \n",
            " 10  protecao_equipamento      5986 non-null   object \n",
            " 11  servico_suporte_tecnico   5986 non-null   object \n",
            " 12  servico_streaming_tv      5986 non-null   object \n",
            " 13  servico_filmes            5986 non-null   object \n",
            " 14  tipo_contrato             5986 non-null   object \n",
            " 15  fatura_digital            5986 non-null   object \n",
            " 16  forma_pagamento           5986 non-null   object \n",
            " 17  valor_mensal              5986 non-null   float64\n",
            " 18  total_gasto               5986 non-null   object \n",
            " 19  churn                     5985 non-null   object \n",
            "dtypes: float64(1), int64(2), object(17)\n",
            "memory usage: 982.1+ KB\n"
          ]
        }
      ],
      "source": [
        "#verificar os tipos das variáveis\n",
        "dados_df.info()"
      ]
    },
    {
      "cell_type": "code",
      "execution_count": 10,
      "metadata": {
        "id": "GySlZJG2j2ES"
      },
      "outputs": [],
      "source": [
        "#corrigindo o tipo de informação\n",
        "dados_df['aposentado'] = dados_df['aposentado'].replace([0,1],['Nao','Sim'])\n",
        "dados_df['total_gasto'] = pd.to_numeric(dados_df['total_gasto'], errors='coerce') #corrigindo o tipo de informação"
      ]
    },
    {
      "cell_type": "code",
      "execution_count": 11,
      "metadata": {
        "colab": {
          "base_uri": "https://localhost:8080/"
        },
        "id": "58xTlwZQj2ET",
        "outputId": "172a4522-9132-4c86-b9f0-d79c9fc87ee2"
      },
      "outputs": [
        {
          "output_type": "execute_result",
          "data": {
            "text/plain": [
              "genero                       0\n",
              "aposentado                   0\n",
              "casado                       0\n",
              "dependentes                  1\n",
              "meses_como_cliente           0\n",
              "servico_telefone             0\n",
              "multiplas_linhas             0\n",
              "servico_internet             0\n",
              "servico_seguranca_online     0\n",
              "servico_backup_online        0\n",
              "protecao_equipamento         0\n",
              "servico_suporte_tecnico      0\n",
              "servico_streaming_tv         0\n",
              "servico_filmes               0\n",
              "tipo_contrato                0\n",
              "fatura_digital               0\n",
              "forma_pagamento              0\n",
              "valor_mensal                 0\n",
              "total_gasto                 10\n",
              "churn                        1\n",
              "dtype: int64"
            ]
          },
          "metadata": {},
          "execution_count": 11
        }
      ],
      "source": [
        "#verificar os valores faltantes\n",
        "dados_df.isna().sum()"
      ]
    },
    {
      "cell_type": "code",
      "execution_count": 12,
      "metadata": {
        "id": "NqPwLBQ9j2EU"
      },
      "outputs": [],
      "source": [
        "#excluindo as colunas com valor vazio\n",
        "dados_df = dados_df.dropna(how='all', axis=1) "
      ]
    },
    {
      "cell_type": "code",
      "execution_count": 13,
      "metadata": {
        "id": "PjeptD_zj2EV"
      },
      "outputs": [],
      "source": [
        "#excluindo as linhas com valor vazio\n",
        "dados_df = dados_df.dropna(how='any', axis=0) "
      ]
    },
    {
      "cell_type": "code",
      "execution_count": 14,
      "metadata": {
        "colab": {
          "base_uri": "https://localhost:8080/"
        },
        "id": "wt6cFRO1j2EV",
        "outputId": "ca6f8918-922a-4406-e36d-02ba52034b80"
      },
      "outputs": [
        {
          "output_type": "execute_result",
          "data": {
            "text/plain": [
              "(5974, 20)"
            ]
          },
          "metadata": {},
          "execution_count": 14
        }
      ],
      "source": [
        "#verificando as dimensões do conjunto de dados\n",
        "dados_df.shape"
      ]
    },
    {
      "cell_type": "code",
      "execution_count": 15,
      "metadata": {
        "colab": {
          "base_uri": "https://localhost:8080/"
        },
        "id": "fvNSkFaJj2EW",
        "outputId": "6da39c92-9686-4acf-e5ad-33dd2bf2d6cb"
      },
      "outputs": [
        {
          "output_type": "execute_result",
          "data": {
            "text/plain": [
              "16"
            ]
          },
          "metadata": {},
          "execution_count": 15
        }
      ],
      "source": [
        "# verificar valores duplicados\n",
        "dados_df.duplicated().sum()"
      ]
    },
    {
      "cell_type": "code",
      "execution_count": 16,
      "metadata": {
        "id": "VbJmc6Auj2EX"
      },
      "outputs": [],
      "source": [
        "#excluir as colunas com valor vazio\n",
        "dados_df = dados_df.dropna(how='all', axis=1) "
      ]
    },
    {
      "cell_type": "markdown",
      "metadata": {
        "id": "cTcPL-0oj2EY"
      },
      "source": [
        "## 04 - Criação das Hipoteses"
      ]
    },
    {
      "cell_type": "markdown",
      "metadata": {
        "id": "rqsmrYEDj2EZ"
      },
      "source": [
        "* ## Hipoteses "
      ]
    },
    {
      "cell_type": "markdown",
      "metadata": {
        "id": "X0AJ03xOj2EZ"
      },
      "source": [
        "**1.**   A taxa de evasão do sexo masculino em relação ao sexo feminino é maior.\n",
        "\n",
        "**2.**   A taxa de evasão de clientes aposentados é maior.\n",
        "\n",
        "**3.**   A taxa de evasão de clientes casado é maior.\n",
        "\n",
        "**4.**   A taxa de evasão de clientes que tem dependentes é maior.\n",
        "\n",
        "**5.**   A taxa de evasão de clientes que tem serviço de telefone é maior.\n",
        "\n",
        "**6.**   A taxa de evasão de clientes com multiplas linhas é maior.\n",
        "\n",
        "**7.**   A taxa de evasão de clientes que utilizam fibra ótica é menor.\n",
        "\n",
        "**8.**   A taxa de evasão de clientes que utilizam serviço segurança online é maior.\n",
        "\n",
        "**9.**   A taxa de evasão de clientes que utilizam serviço de backup online é maior.\n",
        "\n",
        "**10.** A taxa de evasão de clientes que utilizam a proteção de equipamento é maior.\n",
        "\n",
        "**11.** A taxa de evasão de clientes que utilizam serviço de suporte técnico é maior.\n",
        "\n",
        "**12.** A taxa de evasão de clientes que utilizam serviço streaming é maior.\n",
        "\n",
        "**13.** A taxa de evasão de clientes que utilizam serviço de filme é maior.\n",
        "\n",
        "**14.** A taxa de evasão de clientes com tipo de contrato anual é maior.\n",
        "\n",
        "**15.** A taxa de evasão de clientes com fatura digital é maior.\n",
        "\n",
        "**16.** A taxa de evasão de clientes por débito automático é maior. \n",
        "\n",
        "**17.** A taxa de evasão de clientes nos primeiros 3 meses é maior.\n",
        "\n",
        "**18.** A taxa de evasão de clientes que cancelaram possui um valor mensal maior.\n",
        "\n",
        "**19.** A taxa de evasão de clientes que cancelaram possui um total de gasto maior."
      ]
    },
    {
      "cell_type": "markdown",
      "metadata": {
        "id": "83ITvSC_j2Ea"
      },
      "source": [
        "##  C. Análise Exploratória e Visualização dos dados"
      ]
    },
    {
      "cell_type": "markdown",
      "metadata": {
        "id": "zAnD_PJTj2Eb"
      },
      "source": [
        "## 05 - Análise Exploratória dos Dados"
      ]
    },
    {
      "cell_type": "code",
      "execution_count": 17,
      "metadata": {
        "id": "Eff39mJsj2Eb"
      },
      "outputs": [],
      "source": [
        "#criar cópia\n",
        "df4 = dados_df.copy()"
      ]
    },
    {
      "cell_type": "code",
      "execution_count": 18,
      "metadata": {
        "id": "Afu3OOCij2Ec"
      },
      "outputs": [],
      "source": [
        "num_attributes = df4.select_dtypes( include=['float64', 'int64'] )\n",
        "cat_attributes = df4.select_dtypes( exclude=['float64', 'int64'] )"
      ]
    },
    {
      "cell_type": "code",
      "execution_count": 19,
      "metadata": {
        "colab": {
          "base_uri": "https://localhost:8080/",
          "height": 0
        },
        "id": "QMZh5I_Fj2Ec",
        "outputId": "6c43600e-5dc4-4505-c5aa-4eba8d1762cf"
      },
      "outputs": [
        {
          "output_type": "execute_result",
          "data": {
            "text/plain": [
              "                     count         mean          std    min       25%  \\\n",
              "meses_como_cliente  5974.0    32.510880    24.495864   1.00    9.0000   \n",
              "valor_mensal        5974.0    64.849933    30.107238  18.25   35.7500   \n",
              "total_gasto         5974.0  2297.565777  2274.021491  18.80  404.2375   \n",
              "\n",
              "                         50%      75%      max  \n",
              "meses_como_cliente    29.000    56.00    72.00  \n",
              "valor_mensal          70.425    89.90   118.75  \n",
              "total_gasto         1411.775  3846.65  8684.80  "
            ],
            "text/html": [
              "\n",
              "  <div id=\"df-bd013986-135c-4c86-b39e-f9c3f8f1e47d\">\n",
              "    <div class=\"colab-df-container\">\n",
              "      <div>\n",
              "<style scoped>\n",
              "    .dataframe tbody tr th:only-of-type {\n",
              "        vertical-align: middle;\n",
              "    }\n",
              "\n",
              "    .dataframe tbody tr th {\n",
              "        vertical-align: top;\n",
              "    }\n",
              "\n",
              "    .dataframe thead th {\n",
              "        text-align: right;\n",
              "    }\n",
              "</style>\n",
              "<table border=\"1\" class=\"dataframe\">\n",
              "  <thead>\n",
              "    <tr style=\"text-align: right;\">\n",
              "      <th></th>\n",
              "      <th>count</th>\n",
              "      <th>mean</th>\n",
              "      <th>std</th>\n",
              "      <th>min</th>\n",
              "      <th>25%</th>\n",
              "      <th>50%</th>\n",
              "      <th>75%</th>\n",
              "      <th>max</th>\n",
              "    </tr>\n",
              "  </thead>\n",
              "  <tbody>\n",
              "    <tr>\n",
              "      <th>meses_como_cliente</th>\n",
              "      <td>5974.0</td>\n",
              "      <td>32.510880</td>\n",
              "      <td>24.495864</td>\n",
              "      <td>1.00</td>\n",
              "      <td>9.0000</td>\n",
              "      <td>29.000</td>\n",
              "      <td>56.00</td>\n",
              "      <td>72.00</td>\n",
              "    </tr>\n",
              "    <tr>\n",
              "      <th>valor_mensal</th>\n",
              "      <td>5974.0</td>\n",
              "      <td>64.849933</td>\n",
              "      <td>30.107238</td>\n",
              "      <td>18.25</td>\n",
              "      <td>35.7500</td>\n",
              "      <td>70.425</td>\n",
              "      <td>89.90</td>\n",
              "      <td>118.75</td>\n",
              "    </tr>\n",
              "    <tr>\n",
              "      <th>total_gasto</th>\n",
              "      <td>5974.0</td>\n",
              "      <td>2297.565777</td>\n",
              "      <td>2274.021491</td>\n",
              "      <td>18.80</td>\n",
              "      <td>404.2375</td>\n",
              "      <td>1411.775</td>\n",
              "      <td>3846.65</td>\n",
              "      <td>8684.80</td>\n",
              "    </tr>\n",
              "  </tbody>\n",
              "</table>\n",
              "</div>\n",
              "      <button class=\"colab-df-convert\" onclick=\"convertToInteractive('df-bd013986-135c-4c86-b39e-f9c3f8f1e47d')\"\n",
              "              title=\"Convert this dataframe to an interactive table.\"\n",
              "              style=\"display:none;\">\n",
              "        \n",
              "  <svg xmlns=\"http://www.w3.org/2000/svg\" height=\"24px\"viewBox=\"0 0 24 24\"\n",
              "       width=\"24px\">\n",
              "    <path d=\"M0 0h24v24H0V0z\" fill=\"none\"/>\n",
              "    <path d=\"M18.56 5.44l.94 2.06.94-2.06 2.06-.94-2.06-.94-.94-2.06-.94 2.06-2.06.94zm-11 1L8.5 8.5l.94-2.06 2.06-.94-2.06-.94L8.5 2.5l-.94 2.06-2.06.94zm10 10l.94 2.06.94-2.06 2.06-.94-2.06-.94-.94-2.06-.94 2.06-2.06.94z\"/><path d=\"M17.41 7.96l-1.37-1.37c-.4-.4-.92-.59-1.43-.59-.52 0-1.04.2-1.43.59L10.3 9.45l-7.72 7.72c-.78.78-.78 2.05 0 2.83L4 21.41c.39.39.9.59 1.41.59.51 0 1.02-.2 1.41-.59l7.78-7.78 2.81-2.81c.8-.78.8-2.07 0-2.86zM5.41 20L4 18.59l7.72-7.72 1.47 1.35L5.41 20z\"/>\n",
              "  </svg>\n",
              "      </button>\n",
              "      \n",
              "  <style>\n",
              "    .colab-df-container {\n",
              "      display:flex;\n",
              "      flex-wrap:wrap;\n",
              "      gap: 12px;\n",
              "    }\n",
              "\n",
              "    .colab-df-convert {\n",
              "      background-color: #E8F0FE;\n",
              "      border: none;\n",
              "      border-radius: 50%;\n",
              "      cursor: pointer;\n",
              "      display: none;\n",
              "      fill: #1967D2;\n",
              "      height: 32px;\n",
              "      padding: 0 0 0 0;\n",
              "      width: 32px;\n",
              "    }\n",
              "\n",
              "    .colab-df-convert:hover {\n",
              "      background-color: #E2EBFA;\n",
              "      box-shadow: 0px 1px 2px rgba(60, 64, 67, 0.3), 0px 1px 3px 1px rgba(60, 64, 67, 0.15);\n",
              "      fill: #174EA6;\n",
              "    }\n",
              "\n",
              "    [theme=dark] .colab-df-convert {\n",
              "      background-color: #3B4455;\n",
              "      fill: #D2E3FC;\n",
              "    }\n",
              "\n",
              "    [theme=dark] .colab-df-convert:hover {\n",
              "      background-color: #434B5C;\n",
              "      box-shadow: 0px 1px 3px 1px rgba(0, 0, 0, 0.15);\n",
              "      filter: drop-shadow(0px 1px 2px rgba(0, 0, 0, 0.3));\n",
              "      fill: #FFFFFF;\n",
              "    }\n",
              "  </style>\n",
              "\n",
              "      <script>\n",
              "        const buttonEl =\n",
              "          document.querySelector('#df-bd013986-135c-4c86-b39e-f9c3f8f1e47d button.colab-df-convert');\n",
              "        buttonEl.style.display =\n",
              "          google.colab.kernel.accessAllowed ? 'block' : 'none';\n",
              "\n",
              "        async function convertToInteractive(key) {\n",
              "          const element = document.querySelector('#df-bd013986-135c-4c86-b39e-f9c3f8f1e47d');\n",
              "          const dataTable =\n",
              "            await google.colab.kernel.invokeFunction('convertToInteractive',\n",
              "                                                     [key], {});\n",
              "          if (!dataTable) return;\n",
              "\n",
              "          const docLinkHtml = 'Like what you see? Visit the ' +\n",
              "            '<a target=\"_blank\" href=https://colab.research.google.com/notebooks/data_table.ipynb>data table notebook</a>'\n",
              "            + ' to learn more about interactive tables.';\n",
              "          element.innerHTML = '';\n",
              "          dataTable['output_type'] = 'display_data';\n",
              "          await google.colab.output.renderOutput(dataTable, element);\n",
              "          const docLink = document.createElement('div');\n",
              "          docLink.innerHTML = docLinkHtml;\n",
              "          element.appendChild(docLink);\n",
              "        }\n",
              "      </script>\n",
              "    </div>\n",
              "  </div>\n",
              "  "
            ]
          },
          "metadata": {},
          "execution_count": 19
        }
      ],
      "source": [
        "Ct1 = df4.describe().T\n",
        "Ct1"
      ]
    },
    {
      "cell_type": "code",
      "execution_count": 20,
      "metadata": {
        "colab": {
          "base_uri": "https://localhost:8080/",
          "height": 0
        },
        "id": "x0ETFqyMj2Ed",
        "outputId": "5f022d48-f27d-4442-cabf-6bce58cf916f"
      },
      "outputs": [
        {
          "output_type": "execute_result",
          "data": {
            "text/plain": [
              "           attributes    min      max   range         mean    median  \\\n",
              "0  meses_como_cliente   1.00    72.00    71.0    32.510880    29.000   \n",
              "1        valor_mensal  18.25   118.75   100.5    64.849933    70.425   \n",
              "2         total_gasto  18.80  8684.80  8666.0  2297.565777  1411.775   \n",
              "\n",
              "           std      skew  kurtosis  \n",
              "0    24.493814  0.232511 -1.386606  \n",
              "1    30.104718 -0.220769 -1.257858  \n",
              "2  2273.831156  0.950017 -0.263141  "
            ],
            "text/html": [
              "\n",
              "  <div id=\"df-5baaaf51-e711-46a8-9761-27d9195defff\">\n",
              "    <div class=\"colab-df-container\">\n",
              "      <div>\n",
              "<style scoped>\n",
              "    .dataframe tbody tr th:only-of-type {\n",
              "        vertical-align: middle;\n",
              "    }\n",
              "\n",
              "    .dataframe tbody tr th {\n",
              "        vertical-align: top;\n",
              "    }\n",
              "\n",
              "    .dataframe thead th {\n",
              "        text-align: right;\n",
              "    }\n",
              "</style>\n",
              "<table border=\"1\" class=\"dataframe\">\n",
              "  <thead>\n",
              "    <tr style=\"text-align: right;\">\n",
              "      <th></th>\n",
              "      <th>attributes</th>\n",
              "      <th>min</th>\n",
              "      <th>max</th>\n",
              "      <th>range</th>\n",
              "      <th>mean</th>\n",
              "      <th>median</th>\n",
              "      <th>std</th>\n",
              "      <th>skew</th>\n",
              "      <th>kurtosis</th>\n",
              "    </tr>\n",
              "  </thead>\n",
              "  <tbody>\n",
              "    <tr>\n",
              "      <th>0</th>\n",
              "      <td>meses_como_cliente</td>\n",
              "      <td>1.00</td>\n",
              "      <td>72.00</td>\n",
              "      <td>71.0</td>\n",
              "      <td>32.510880</td>\n",
              "      <td>29.000</td>\n",
              "      <td>24.493814</td>\n",
              "      <td>0.232511</td>\n",
              "      <td>-1.386606</td>\n",
              "    </tr>\n",
              "    <tr>\n",
              "      <th>1</th>\n",
              "      <td>valor_mensal</td>\n",
              "      <td>18.25</td>\n",
              "      <td>118.75</td>\n",
              "      <td>100.5</td>\n",
              "      <td>64.849933</td>\n",
              "      <td>70.425</td>\n",
              "      <td>30.104718</td>\n",
              "      <td>-0.220769</td>\n",
              "      <td>-1.257858</td>\n",
              "    </tr>\n",
              "    <tr>\n",
              "      <th>2</th>\n",
              "      <td>total_gasto</td>\n",
              "      <td>18.80</td>\n",
              "      <td>8684.80</td>\n",
              "      <td>8666.0</td>\n",
              "      <td>2297.565777</td>\n",
              "      <td>1411.775</td>\n",
              "      <td>2273.831156</td>\n",
              "      <td>0.950017</td>\n",
              "      <td>-0.263141</td>\n",
              "    </tr>\n",
              "  </tbody>\n",
              "</table>\n",
              "</div>\n",
              "      <button class=\"colab-df-convert\" onclick=\"convertToInteractive('df-5baaaf51-e711-46a8-9761-27d9195defff')\"\n",
              "              title=\"Convert this dataframe to an interactive table.\"\n",
              "              style=\"display:none;\">\n",
              "        \n",
              "  <svg xmlns=\"http://www.w3.org/2000/svg\" height=\"24px\"viewBox=\"0 0 24 24\"\n",
              "       width=\"24px\">\n",
              "    <path d=\"M0 0h24v24H0V0z\" fill=\"none\"/>\n",
              "    <path d=\"M18.56 5.44l.94 2.06.94-2.06 2.06-.94-2.06-.94-.94-2.06-.94 2.06-2.06.94zm-11 1L8.5 8.5l.94-2.06 2.06-.94-2.06-.94L8.5 2.5l-.94 2.06-2.06.94zm10 10l.94 2.06.94-2.06 2.06-.94-2.06-.94-.94-2.06-.94 2.06-2.06.94z\"/><path d=\"M17.41 7.96l-1.37-1.37c-.4-.4-.92-.59-1.43-.59-.52 0-1.04.2-1.43.59L10.3 9.45l-7.72 7.72c-.78.78-.78 2.05 0 2.83L4 21.41c.39.39.9.59 1.41.59.51 0 1.02-.2 1.41-.59l7.78-7.78 2.81-2.81c.8-.78.8-2.07 0-2.86zM5.41 20L4 18.59l7.72-7.72 1.47 1.35L5.41 20z\"/>\n",
              "  </svg>\n",
              "      </button>\n",
              "      \n",
              "  <style>\n",
              "    .colab-df-container {\n",
              "      display:flex;\n",
              "      flex-wrap:wrap;\n",
              "      gap: 12px;\n",
              "    }\n",
              "\n",
              "    .colab-df-convert {\n",
              "      background-color: #E8F0FE;\n",
              "      border: none;\n",
              "      border-radius: 50%;\n",
              "      cursor: pointer;\n",
              "      display: none;\n",
              "      fill: #1967D2;\n",
              "      height: 32px;\n",
              "      padding: 0 0 0 0;\n",
              "      width: 32px;\n",
              "    }\n",
              "\n",
              "    .colab-df-convert:hover {\n",
              "      background-color: #E2EBFA;\n",
              "      box-shadow: 0px 1px 2px rgba(60, 64, 67, 0.3), 0px 1px 3px 1px rgba(60, 64, 67, 0.15);\n",
              "      fill: #174EA6;\n",
              "    }\n",
              "\n",
              "    [theme=dark] .colab-df-convert {\n",
              "      background-color: #3B4455;\n",
              "      fill: #D2E3FC;\n",
              "    }\n",
              "\n",
              "    [theme=dark] .colab-df-convert:hover {\n",
              "      background-color: #434B5C;\n",
              "      box-shadow: 0px 1px 3px 1px rgba(0, 0, 0, 0.15);\n",
              "      filter: drop-shadow(0px 1px 2px rgba(0, 0, 0, 0.3));\n",
              "      fill: #FFFFFF;\n",
              "    }\n",
              "  </style>\n",
              "\n",
              "      <script>\n",
              "        const buttonEl =\n",
              "          document.querySelector('#df-5baaaf51-e711-46a8-9761-27d9195defff button.colab-df-convert');\n",
              "        buttonEl.style.display =\n",
              "          google.colab.kernel.accessAllowed ? 'block' : 'none';\n",
              "\n",
              "        async function convertToInteractive(key) {\n",
              "          const element = document.querySelector('#df-5baaaf51-e711-46a8-9761-27d9195defff');\n",
              "          const dataTable =\n",
              "            await google.colab.kernel.invokeFunction('convertToInteractive',\n",
              "                                                     [key], {});\n",
              "          if (!dataTable) return;\n",
              "\n",
              "          const docLinkHtml = 'Like what you see? Visit the ' +\n",
              "            '<a target=\"_blank\" href=https://colab.research.google.com/notebooks/data_table.ipynb>data table notebook</a>'\n",
              "            + ' to learn more about interactive tables.';\n",
              "          element.innerHTML = '';\n",
              "          dataTable['output_type'] = 'display_data';\n",
              "          await google.colab.output.renderOutput(dataTable, element);\n",
              "          const docLink = document.createElement('div');\n",
              "          docLink.innerHTML = docLinkHtml;\n",
              "          element.appendChild(docLink);\n",
              "        }\n",
              "      </script>\n",
              "    </div>\n",
              "  </div>\n",
              "  "
            ]
          },
          "metadata": {},
          "execution_count": 20
        }
      ],
      "source": [
        "# Tendencia Central - media, mediana \n",
        "ct1 = pd.DataFrame( num_attributes.apply( np.mean ) ).T\n",
        "ct2 = pd.DataFrame( num_attributes.apply( np.median ) ).T\n",
        "\n",
        "# dispersão - std, min, max, amplitude, skew, curtosi\n",
        "d1 = pd.DataFrame( num_attributes.apply( np.std ) ).T \n",
        "d2 = pd.DataFrame( num_attributes.apply( min ) ).T \n",
        "d3 = pd.DataFrame( num_attributes.apply( max ) ).T \n",
        "d4 = pd.DataFrame( num_attributes.apply( lambda x: x.max() - x.min() ) ).T \n",
        "d5 = pd.DataFrame( num_attributes.apply( lambda x: x.skew() ) ).T \n",
        "d6 = pd.DataFrame( num_attributes.apply( lambda x: x.kurtosis() ) ).T \n",
        "\n",
        "# concatenar\n",
        "m = pd.concat( [d2, d3, d4, ct1, ct2, d1, d5, d6] ).T.reset_index()\n",
        "m.columns = ['attributes', 'min', 'max', 'range', 'mean', 'median', 'std', 'skew', 'kurtosis']\n",
        "m"
      ]
    },
    {
      "cell_type": "code",
      "execution_count": 21,
      "metadata": {
        "colab": {
          "base_uri": "https://localhost:8080/"
        },
        "id": "qYQbxNNVj2Ef",
        "outputId": "54e9a3fb-85e5-44e2-cca2-82077317fa7a"
      },
      "outputs": [
        {
          "output_type": "execute_result",
          "data": {
            "text/plain": [
              "genero                      2\n",
              "aposentado                  2\n",
              "casado                      2\n",
              "dependentes                 2\n",
              "servico_telefone            2\n",
              "multiplas_linhas            3\n",
              "servico_internet            3\n",
              "servico_seguranca_online    3\n",
              "servico_backup_online       3\n",
              "protecao_equipamento        3\n",
              "servico_suporte_tecnico     3\n",
              "servico_streaming_tv        3\n",
              "servico_filmes              3\n",
              "tipo_contrato               3\n",
              "fatura_digital              2\n",
              "forma_pagamento             4\n",
              "churn                       2\n",
              "dtype: int64"
            ]
          },
          "metadata": {},
          "execution_count": 21
        }
      ],
      "source": [
        "#verificar as variaveis categorigas\n",
        "cat_attributes.apply( lambda x: x.unique().shape[0] )"
      ]
    },
    {
      "cell_type": "code",
      "execution_count": 22,
      "metadata": {
        "colab": {
          "base_uri": "https://localhost:8080/",
          "height": 0
        },
        "id": "ZJxvP3QQj2Eg",
        "outputId": "94c77aab-2801-48a1-bd5a-3bd3bc39dae3"
      },
      "outputs": [
        {
          "output_type": "display_data",
          "data": {
            "text/plain": [
              "Nao    4387\n",
              "Sim    1587\n",
              "Name: churn, dtype: int64"
            ]
          },
          "metadata": {}
        },
        {
          "output_type": "display_data",
          "data": {
            "text/plain": [
              "Nao    73.43%\n",
              "Sim    26.57%\n",
              "Name: churn, dtype: object"
            ]
          },
          "metadata": {}
        },
        {
          "output_type": "stream",
          "name": "stderr",
          "text": [
            "/usr/local/lib/python3.7/dist-packages/seaborn/_decorators.py:43: FutureWarning: Pass the following variable as a keyword arg: x. From version 0.12, the only valid positional argument will be `data`, and passing other arguments without an explicit keyword will result in an error or misinterpretation.\n",
            "  FutureWarning\n"
          ]
        },
        {
          "output_type": "execute_result",
          "data": {
            "text/plain": [
              "<matplotlib.axes._subplots.AxesSubplot at 0x7fce61bb2b90>"
            ]
          },
          "metadata": {},
          "execution_count": 22
        },
        {
          "output_type": "display_data",
          "data": {
            "text/plain": [
              "<Figure size 432x288 with 1 Axes>"
            ],
            "image/png": "[encoded data removed]"
          },
          "metadata": {
            "needs_background": "light"
          }
        }
      ],
      "source": [
        "#monstrando a porcentagem de Churn\n",
        "display(df4['churn'].value_counts())\n",
        "display(df4['churn'].value_counts(normalize=True).map('{:.2%}'.format)) #monstrando a porcentagem de Churn\n",
        "df4['churn'].value_counts()\n",
        "sns.countplot(df4['churn'])"
      ]
    },
    {
      "cell_type": "markdown",
      "metadata": {
        "id": "nMJr5Q8Aj2Eh"
      },
      "source": [
        "* ### Variável Numérica"
      ]
    },
    {
      "cell_type": "code",
      "execution_count": 23,
      "metadata": {
        "colab": {
          "base_uri": "https://localhost:8080/",
          "height": 0
        },
        "id": "AkregFUTj2Eh",
        "outputId": "64dcce49-167c-47dd-89df-e2bea441d5fa"
      },
      "outputs": [
        {
          "output_type": "display_data",
          "data": {
            "text/plain": [
              "<Figure size 864x720 with 4 Axes>"
            ],
            "image/png": "[encoded data removed]"
          },
          "metadata": {
            "needs_background": "light"
          }
        }
      ],
      "source": [
        "num_attributes.hist(figsize=(12,10));"
      ]
    },
    {
      "cell_type": "markdown",
      "metadata": {
        "id": "2hphLQFMj2Ei"
      },
      "source": [
        "O histograma da variável meses como cliente, mostra uma inflação de clientes nos 10 primeiros meses de 65 a 72 meses. \n",
        "Já, o histograma da variável valor mensal, mostra uma inflação de clientes que pagam um valor mensal de 18 a 30 reais.\n",
        "A distribuição da variável total gasto mostra uma assimetria a direita, indicando que os clientes tem uma inflação de gastos em torno de 1000 reais."
      ]
    },
    {
      "cell_type": "code",
      "execution_count": 24,
      "metadata": {
        "id": "mm9NVlZ6j2Ej"
      },
      "outputs": [],
      "source": [
        "x_cont=['meses_como_cliente', 'valor_mensal','total_gasto']"
      ]
    },
    {
      "cell_type": "code",
      "execution_count": 25,
      "metadata": {
        "colab": {
          "base_uri": "https://localhost:8080/",
          "height": 0
        },
        "id": "u930Z4aDj2Ej",
        "outputId": "fd9936ab-c9b5-4bc3-d67c-5c9d80817201"
      },
      "outputs": [
        {
          "output_type": "display_data",
          "data": {
            "text/plain": [
              "<Figure size 1584x432 with 3 Axes>"
            ],
            "image/png": "[encoded data removed]"
          },
          "metadata": {
            "needs_background": "light"
          }
        }
      ],
      "source": [
        "fig, ax = plt.subplots(1, 3, figsize=(22, 6));\n",
        "df4[df4.churn == \"Nao\"][x_cont].hist( bins=30, color=\"blue\", alpha=0.5, ax=ax);\n",
        "df4[df4.churn == \"Sim\"][x_cont].hist( bins=30, color=\"red\", alpha=0.5, ax=ax);"
      ]
    },
    {
      "cell_type": "code",
      "execution_count": 26,
      "metadata": {
        "id": "GXOPduqSj2Ek"
      },
      "outputs": [],
      "source": [
        "# substituindo a informação de clientes que sairam 'Churn' de string para numérico\n",
        "df4['churn'] = df4['churn'].replace(['Sim','Nao'],[1,0])"
      ]
    },
    {
      "cell_type": "markdown",
      "metadata": {
        "id": "3dVQSl59j2El"
      },
      "source": [
        "* ### Variáveis Categóricas"
      ]
    },
    {
      "cell_type": "code",
      "execution_count": 27,
      "metadata": {
        "id": "wG0dFq9Pj2El"
      },
      "outputs": [],
      "source": [
        "#definição da paleta de cores\n",
        "myred='#CD5C5C'\n",
        "myblue='#6495ED'\n",
        "mygreen='#90EE90'\n",
        "cols= [myred, myblue,mygreen]"
      ]
    },
    {
      "cell_type": "markdown",
      "metadata": {
        "id": "A5WTx8Prj2Em"
      },
      "source": [
        "### **H1.** A taxa de evasão do sexo masculino em relação ao sexo feminino é maior.\n",
        "\n",
        "**FALSA** Podemos observar que a taxa de evasão de clientes em diferentes sexo são iguais."
      ]
    },
    {
      "cell_type": "code",
      "execution_count": 28,
      "metadata": {
        "colab": {
          "base_uri": "https://localhost:8080/",
          "height": 0
        },
        "id": "L7v7GyWuj2En",
        "outputId": "e1fe923d-5a21-4ab9-fa30-49c43da5df8d"
      },
      "outputs": [
        {
          "output_type": "execute_result",
          "data": {
            "text/plain": [
              "      genero     churn\n",
              "0   Feminino  0.269874\n",
              "1  Masculino  0.261584"
            ],
            "text/html": [
              "\n",
              "  <div id=\"df-122b32a5-4b6e-4192-84b0-97447b6ea54a\">\n",
              "    <div class=\"colab-df-container\">\n",
              "      <div>\n",
              "<style scoped>\n",
              "    .dataframe tbody tr th:only-of-type {\n",
              "        vertical-align: middle;\n",
              "    }\n",
              "\n",
              "    .dataframe tbody tr th {\n",
              "        vertical-align: top;\n",
              "    }\n",
              "\n",
              "    .dataframe thead th {\n",
              "        text-align: right;\n",
              "    }\n",
              "</style>\n",
              "<table border=\"1\" class=\"dataframe\">\n",
              "  <thead>\n",
              "    <tr style=\"text-align: right;\">\n",
              "      <th></th>\n",
              "      <th>genero</th>\n",
              "      <th>churn</th>\n",
              "    </tr>\n",
              "  </thead>\n",
              "  <tbody>\n",
              "    <tr>\n",
              "      <th>0</th>\n",
              "      <td>Feminino</td>\n",
              "      <td>0.269874</td>\n",
              "    </tr>\n",
              "    <tr>\n",
              "      <th>1</th>\n",
              "      <td>Masculino</td>\n",
              "      <td>0.261584</td>\n",
              "    </tr>\n",
              "  </tbody>\n",
              "</table>\n",
              "</div>\n",
              "      <button class=\"colab-df-convert\" onclick=\"convertToInteractive('df-122b32a5-4b6e-4192-84b0-97447b6ea54a')\"\n",
              "              title=\"Convert this dataframe to an interactive table.\"\n",
              "              style=\"display:none;\">\n",
              "        \n",
              "  <svg xmlns=\"http://www.w3.org/2000/svg\" height=\"24px\"viewBox=\"0 0 24 24\"\n",
              "       width=\"24px\">\n",
              "    <path d=\"M0 0h24v24H0V0z\" fill=\"none\"/>\n",
              "    <path d=\"M18.56 5.44l.94 2.06.94-2.06 2.06-.94-2.06-.94-.94-2.06-.94 2.06-2.06.94zm-11 1L8.5 8.5l.94-2.06 2.06-.94-2.06-.94L8.5 2.5l-.94 2.06-2.06.94zm10 10l.94 2.06.94-2.06 2.06-.94-2.06-.94-.94-2.06-.94 2.06-2.06.94z\"/><path d=\"M17.41 7.96l-1.37-1.37c-.4-.4-.92-.59-1.43-.59-.52 0-1.04.2-1.43.59L10.3 9.45l-7.72 7.72c-.78.78-.78 2.05 0 2.83L4 21.41c.39.39.9.59 1.41.59.51 0 1.02-.2 1.41-.59l7.78-7.78 2.81-2.81c.8-.78.8-2.07 0-2.86zM5.41 20L4 18.59l7.72-7.72 1.47 1.35L5.41 20z\"/>\n",
              "  </svg>\n",
              "      </button>\n",
              "      \n",
              "  <style>\n",
              "    .colab-df-container {\n",
              "      display:flex;\n",
              "      flex-wrap:wrap;\n",
              "      gap: 12px;\n",
              "    }\n",
              "\n",
              "    .colab-df-convert {\n",
              "      background-color: #E8F0FE;\n",
              "      border: none;\n",
              "      border-radius: 50%;\n",
              "      cursor: pointer;\n",
              "      display: none;\n",
              "      fill: #1967D2;\n",
              "      height: 32px;\n",
              "      padding: 0 0 0 0;\n",
              "      width: 32px;\n",
              "    }\n",
              "\n",
              "    .colab-df-convert:hover {\n",
              "      background-color: #E2EBFA;\n",
              "      box-shadow: 0px 1px 2px rgba(60, 64, 67, 0.3), 0px 1px 3px 1px rgba(60, 64, 67, 0.15);\n",
              "      fill: #174EA6;\n",
              "    }\n",
              "\n",
              "    [theme=dark] .colab-df-convert {\n",
              "      background-color: #3B4455;\n",
              "      fill: #D2E3FC;\n",
              "    }\n",
              "\n",
              "    [theme=dark] .colab-df-convert:hover {\n",
              "      background-color: #434B5C;\n",
              "      box-shadow: 0px 1px 3px 1px rgba(0, 0, 0, 0.15);\n",
              "      filter: drop-shadow(0px 1px 2px rgba(0, 0, 0, 0.3));\n",
              "      fill: #FFFFFF;\n",
              "    }\n",
              "  </style>\n",
              "\n",
              "      <script>\n",
              "        const buttonEl =\n",
              "          document.querySelector('#df-122b32a5-4b6e-4192-84b0-97447b6ea54a button.colab-df-convert');\n",
              "        buttonEl.style.display =\n",
              "          google.colab.kernel.accessAllowed ? 'block' : 'none';\n",
              "\n",
              "        async function convertToInteractive(key) {\n",
              "          const element = document.querySelector('#df-122b32a5-4b6e-4192-84b0-97447b6ea54a');\n",
              "          const dataTable =\n",
              "            await google.colab.kernel.invokeFunction('convertToInteractive',\n",
              "                                                     [key], {});\n",
              "          if (!dataTable) return;\n",
              "\n",
              "          const docLinkHtml = 'Like what you see? Visit the ' +\n",
              "            '<a target=\"_blank\" href=https://colab.research.google.com/notebooks/data_table.ipynb>data table notebook</a>'\n",
              "            + ' to learn more about interactive tables.';\n",
              "          element.innerHTML = '';\n",
              "          dataTable['output_type'] = 'display_data';\n",
              "          await google.colab.output.renderOutput(dataTable, element);\n",
              "          const docLink = document.createElement('div');\n",
              "          docLink.innerHTML = docLinkHtml;\n",
              "          element.appendChild(docLink);\n",
              "        }\n",
              "      </script>\n",
              "    </div>\n",
              "  </div>\n",
              "  "
            ]
          },
          "metadata": {},
          "execution_count": 28
        }
      ],
      "source": [
        "df_plot = df4.groupby ('genero'). churn.mean (). reset_index () \n",
        "df_plot"
      ]
    },
    {
      "cell_type": "code",
      "execution_count": 29,
      "metadata": {
        "colab": {
          "base_uri": "https://localhost:8080/",
          "height": 0
        },
        "id": "rai2VGI5j2Eo",
        "outputId": "b90672c6-e115-414c-9815-c73c5cfbe425"
      },
      "outputs": [
        {
          "output_type": "display_data",
          "data": {
            "text/plain": [
              "<Figure size 432x288 with 1 Axes>"
            ],
            "image/png": "[encoded data removed]"
          },
          "metadata": {
            "needs_background": "light"
          }
        }
      ],
      "source": [
        "x =df_plot['genero']\n",
        "y=df_plot['churn']\n",
        "plt.bar(x,y,color=cols);\n",
        "plt.title('Taxa de Churn em relação ao genero');\n",
        "plt.xlabel('Genero');\n",
        "plt.ylabel('Taxa de Churn');"
      ]
    },
    {
      "cell_type": "markdown",
      "metadata": {
        "id": "8Jssz1rcj2Eo"
      },
      "source": [
        "### **H2.** A taxa de evasão de clientes aposentados é maior.\n",
        "**VERDADEIRA** Podemos observar que a evasão de clientes é maior em pessoas aposentadas."
      ]
    },
    {
      "cell_type": "code",
      "execution_count": 30,
      "metadata": {
        "id": "oOftbdtWj2Ep"
      },
      "outputs": [],
      "source": [
        "df4['aposentado'] = df4['aposentado'].replace([0,1],['Nao','Sim'])"
      ]
    },
    {
      "cell_type": "code",
      "execution_count": 31,
      "metadata": {
        "colab": {
          "base_uri": "https://localhost:8080/",
          "height": 0
        },
        "id": "DBO1_-U3j2Ep",
        "outputId": "0d46de32-fff1-437b-d1c7-c6bd35ff5f1b"
      },
      "outputs": [
        {
          "output_type": "execute_result",
          "data": {
            "text/plain": [
              "  aposentado     churn\n",
              "0        Nao  0.236621\n",
              "1        Sim  0.416149"
            ],
            "text/html": [
              "\n",
              "  <div id=\"df-7895d89c-0ad4-4abb-98d4-cf5bc8246dee\">\n",
              "    <div class=\"colab-df-container\">\n",
              "      <div>\n",
              "<style scoped>\n",
              "    .dataframe tbody tr th:only-of-type {\n",
              "        vertical-align: middle;\n",
              "    }\n",
              "\n",
              "    .dataframe tbody tr th {\n",
              "        vertical-align: top;\n",
              "    }\n",
              "\n",
              "    .dataframe thead th {\n",
              "        text-align: right;\n",
              "    }\n",
              "</style>\n",
              "<table border=\"1\" class=\"dataframe\">\n",
              "  <thead>\n",
              "    <tr style=\"text-align: right;\">\n",
              "      <th></th>\n",
              "      <th>aposentado</th>\n",
              "      <th>churn</th>\n",
              "    </tr>\n",
              "  </thead>\n",
              "  <tbody>\n",
              "    <tr>\n",
              "      <th>0</th>\n",
              "      <td>Nao</td>\n",
              "      <td>0.236621</td>\n",
              "    </tr>\n",
              "    <tr>\n",
              "      <th>1</th>\n",
              "      <td>Sim</td>\n",
              "      <td>0.416149</td>\n",
              "    </tr>\n",
              "  </tbody>\n",
              "</table>\n",
              "</div>\n",
              "      <button class=\"colab-df-convert\" onclick=\"convertToInteractive('df-7895d89c-0ad4-4abb-98d4-cf5bc8246dee')\"\n",
              "              title=\"Convert this dataframe to an interactive table.\"\n",
              "              style=\"display:none;\">\n",
              "        \n",
              "  <svg xmlns=\"http://www.w3.org/2000/svg\" height=\"24px\"viewBox=\"0 0 24 24\"\n",
              "       width=\"24px\">\n",
              "    <path d=\"M0 0h24v24H0V0z\" fill=\"none\"/>\n",
              "    <path d=\"M18.56 5.44l.94 2.06.94-2.06 2.06-.94-2.06-.94-.94-2.06-.94 2.06-2.06.94zm-11 1L8.5 8.5l.94-2.06 2.06-.94-2.06-.94L8.5 2.5l-.94 2.06-2.06.94zm10 10l.94 2.06.94-2.06 2.06-.94-2.06-.94-.94-2.06-.94 2.06-2.06.94z\"/><path d=\"M17.41 7.96l-1.37-1.37c-.4-.4-.92-.59-1.43-.59-.52 0-1.04.2-1.43.59L10.3 9.45l-7.72 7.72c-.78.78-.78 2.05 0 2.83L4 21.41c.39.39.9.59 1.41.59.51 0 1.02-.2 1.41-.59l7.78-7.78 2.81-2.81c.8-.78.8-2.07 0-2.86zM5.41 20L4 18.59l7.72-7.72 1.47 1.35L5.41 20z\"/>\n",
              "  </svg>\n",
              "      </button>\n",
              "      \n",
              "  <style>\n",
              "    .colab-df-container {\n",
              "      display:flex;\n",
              "      flex-wrap:wrap;\n",
              "      gap: 12px;\n",
              "    }\n",
              "\n",
              "    .colab-df-convert {\n",
              "      background-color: #E8F0FE;\n",
              "      border: none;\n",
              "      border-radius: 50%;\n",
              "      cursor: pointer;\n",
              "      display: none;\n",
              "      fill: #1967D2;\n",
              "      height: 32px;\n",
              "      padding: 0 0 0 0;\n",
              "      width: 32px;\n",
              "    }\n",
              "\n",
              "    .colab-df-convert:hover {\n",
              "      background-color: #E2EBFA;\n",
              "      box-shadow: 0px 1px 2px rgba(60, 64, 67, 0.3), 0px 1px 3px 1px rgba(60, 64, 67, 0.15);\n",
              "      fill: #174EA6;\n",
              "    }\n",
              "\n",
              "    [theme=dark] .colab-df-convert {\n",
              "      background-color: #3B4455;\n",
              "      fill: #D2E3FC;\n",
              "    }\n",
              "\n",
              "    [theme=dark] .colab-df-convert:hover {\n",
              "      background-color: #434B5C;\n",
              "      box-shadow: 0px 1px 3px 1px rgba(0, 0, 0, 0.15);\n",
              "      filter: drop-shadow(0px 1px 2px rgba(0, 0, 0, 0.3));\n",
              "      fill: #FFFFFF;\n",
              "    }\n",
              "  </style>\n",
              "\n",
              "      <script>\n",
              "        const buttonEl =\n",
              "          document.querySelector('#df-7895d89c-0ad4-4abb-98d4-cf5bc8246dee button.colab-df-convert');\n",
              "        buttonEl.style.display =\n",
              "          google.colab.kernel.accessAllowed ? 'block' : 'none';\n",
              "\n",
              "        async function convertToInteractive(key) {\n",
              "          const element = document.querySelector('#df-7895d89c-0ad4-4abb-98d4-cf5bc8246dee');\n",
              "          const dataTable =\n",
              "            await google.colab.kernel.invokeFunction('convertToInteractive',\n",
              "                                                     [key], {});\n",
              "          if (!dataTable) return;\n",
              "\n",
              "          const docLinkHtml = 'Like what you see? Visit the ' +\n",
              "            '<a target=\"_blank\" href=https://colab.research.google.com/notebooks/data_table.ipynb>data table notebook</a>'\n",
              "            + ' to learn more about interactive tables.';\n",
              "          element.innerHTML = '';\n",
              "          dataTable['output_type'] = 'display_data';\n",
              "          await google.colab.output.renderOutput(dataTable, element);\n",
              "          const docLink = document.createElement('div');\n",
              "          docLink.innerHTML = docLinkHtml;\n",
              "          element.appendChild(docLink);\n",
              "        }\n",
              "      </script>\n",
              "    </div>\n",
              "  </div>\n",
              "  "
            ]
          },
          "metadata": {},
          "execution_count": 31
        }
      ],
      "source": [
        "df_plot = df4.groupby ('aposentado'). churn.mean (). reset_index () \n",
        "df_plot"
      ]
    },
    {
      "cell_type": "code",
      "execution_count": 32,
      "metadata": {
        "colab": {
          "base_uri": "https://localhost:8080/",
          "height": 0
        },
        "id": "sOvTJ-2Rj2Eq",
        "outputId": "3185b505-38a7-4b7b-a98d-8cfd0b17f293"
      },
      "outputs": [
        {
          "output_type": "display_data",
          "data": {
            "text/plain": [
              "<Figure size 432x288 with 1 Axes>"
            ],
            "image/png": "[encoded data removed]"
          },
          "metadata": {
            "needs_background": "light"
          }
        }
      ],
      "source": [
        "x =df_plot['aposentado']\n",
        "y=df_plot['churn']\n",
        "plt.bar(x,y,color=cols);\n",
        "plt.title('Taxa de Churn em relação a Aposentadoria');\n",
        "plt.xlabel('Aposentado');\n",
        "plt.ylabel('Taxa de Churn');"
      ]
    },
    {
      "cell_type": "markdown",
      "metadata": {
        "id": "TdVbfRVoj2Er"
      },
      "source": [
        "### **H3.** A taxa de evasão de clientes casado é maior.\n",
        "**FALSA** Podemos observar que a taxa de evasão de clientes solteiro é maior."
      ]
    },
    {
      "cell_type": "code",
      "execution_count": 33,
      "metadata": {
        "colab": {
          "base_uri": "https://localhost:8080/",
          "height": 0
        },
        "id": "NKmYUEkNj2Er",
        "outputId": "bb266f87-67c5-4db7-f2af-b3baa1c49b95"
      },
      "outputs": [
        {
          "output_type": "execute_result",
          "data": {
            "text/plain": [
              "  casado     churn\n",
              "0    Nao  0.328247\n",
              "1    Sim  0.199032"
            ],
            "text/html": [
              "\n",
              "  <div id=\"df-b7ae306b-e0f3-430f-a9e1-3fb765bcffa9\">\n",
              "    <div class=\"colab-df-container\">\n",
              "      <div>\n",
              "<style scoped>\n",
              "    .dataframe tbody tr th:only-of-type {\n",
              "        vertical-align: middle;\n",
              "    }\n",
              "\n",
              "    .dataframe tbody tr th {\n",
              "        vertical-align: top;\n",
              "    }\n",
              "\n",
              "    .dataframe thead th {\n",
              "        text-align: right;\n",
              "    }\n",
              "</style>\n",
              "<table border=\"1\" class=\"dataframe\">\n",
              "  <thead>\n",
              "    <tr style=\"text-align: right;\">\n",
              "      <th></th>\n",
              "      <th>casado</th>\n",
              "      <th>churn</th>\n",
              "    </tr>\n",
              "  </thead>\n",
              "  <tbody>\n",
              "    <tr>\n",
              "      <th>0</th>\n",
              "      <td>Nao</td>\n",
              "      <td>0.328247</td>\n",
              "    </tr>\n",
              "    <tr>\n",
              "      <th>1</th>\n",
              "      <td>Sim</td>\n",
              "      <td>0.199032</td>\n",
              "    </tr>\n",
              "  </tbody>\n",
              "</table>\n",
              "</div>\n",
              "      <button class=\"colab-df-convert\" onclick=\"convertToInteractive('df-b7ae306b-e0f3-430f-a9e1-3fb765bcffa9')\"\n",
              "              title=\"Convert this dataframe to an interactive table.\"\n",
              "              style=\"display:none;\">\n",
              "        \n",
              "  <svg xmlns=\"http://www.w3.org/2000/svg\" height=\"24px\"viewBox=\"0 0 24 24\"\n",
              "       width=\"24px\">\n",
              "    <path d=\"M0 0h24v24H0V0z\" fill=\"none\"/>\n",
              "    <path d=\"M18.56 5.44l.94 2.06.94-2.06 2.06-.94-2.06-.94-.94-2.06-.94 2.06-2.06.94zm-11 1L8.5 8.5l.94-2.06 2.06-.94-2.06-.94L8.5 2.5l-.94 2.06-2.06.94zm10 10l.94 2.06.94-2.06 2.06-.94-2.06-.94-.94-2.06-.94 2.06-2.06.94z\"/><path d=\"M17.41 7.96l-1.37-1.37c-.4-.4-.92-.59-1.43-.59-.52 0-1.04.2-1.43.59L10.3 9.45l-7.72 7.72c-.78.78-.78 2.05 0 2.83L4 21.41c.39.39.9.59 1.41.59.51 0 1.02-.2 1.41-.59l7.78-7.78 2.81-2.81c.8-.78.8-2.07 0-2.86zM5.41 20L4 18.59l7.72-7.72 1.47 1.35L5.41 20z\"/>\n",
              "  </svg>\n",
              "      </button>\n",
              "      \n",
              "  <style>\n",
              "    .colab-df-container {\n",
              "      display:flex;\n",
              "      flex-wrap:wrap;\n",
              "      gap: 12px;\n",
              "    }\n",
              "\n",
              "    .colab-df-convert {\n",
              "      background-color: #E8F0FE;\n",
              "      border: none;\n",
              "      border-radius: 50%;\n",
              "      cursor: pointer;\n",
              "      display: none;\n",
              "      fill: #1967D2;\n",
              "      height: 32px;\n",
              "      padding: 0 0 0 0;\n",
              "      width: 32px;\n",
              "    }\n",
              "\n",
              "    .colab-df-convert:hover {\n",
              "      background-color: #E2EBFA;\n",
              "      box-shadow: 0px 1px 2px rgba(60, 64, 67, 0.3), 0px 1px 3px 1px rgba(60, 64, 67, 0.15);\n",
              "      fill: #174EA6;\n",
              "    }\n",
              "\n",
              "    [theme=dark] .colab-df-convert {\n",
              "      background-color: #3B4455;\n",
              "      fill: #D2E3FC;\n",
              "    }\n",
              "\n",
              "    [theme=dark] .colab-df-convert:hover {\n",
              "      background-color: #434B5C;\n",
              "      box-shadow: 0px 1px 3px 1px rgba(0, 0, 0, 0.15);\n",
              "      filter: drop-shadow(0px 1px 2px rgba(0, 0, 0, 0.3));\n",
              "      fill: #FFFFFF;\n",
              "    }\n",
              "  </style>\n",
              "\n",
              "      <script>\n",
              "        const buttonEl =\n",
              "          document.querySelector('#df-b7ae306b-e0f3-430f-a9e1-3fb765bcffa9 button.colab-df-convert');\n",
              "        buttonEl.style.display =\n",
              "          google.colab.kernel.accessAllowed ? 'block' : 'none';\n",
              "\n",
              "        async function convertToInteractive(key) {\n",
              "          const element = document.querySelector('#df-b7ae306b-e0f3-430f-a9e1-3fb765bcffa9');\n",
              "          const dataTable =\n",
              "            await google.colab.kernel.invokeFunction('convertToInteractive',\n",
              "                                                     [key], {});\n",
              "          if (!dataTable) return;\n",
              "\n",
              "          const docLinkHtml = 'Like what you see? Visit the ' +\n",
              "            '<a target=\"_blank\" href=https://colab.research.google.com/notebooks/data_table.ipynb>data table notebook</a>'\n",
              "            + ' to learn more about interactive tables.';\n",
              "          element.innerHTML = '';\n",
              "          dataTable['output_type'] = 'display_data';\n",
              "          await google.colab.output.renderOutput(dataTable, element);\n",
              "          const docLink = document.createElement('div');\n",
              "          docLink.innerHTML = docLinkHtml;\n",
              "          element.appendChild(docLink);\n",
              "        }\n",
              "      </script>\n",
              "    </div>\n",
              "  </div>\n",
              "  "
            ]
          },
          "metadata": {},
          "execution_count": 33
        }
      ],
      "source": [
        "df_plot = df4.groupby ('casado'). churn.mean (). reset_index () \n",
        "df_plot"
      ]
    },
    {
      "cell_type": "code",
      "execution_count": 34,
      "metadata": {
        "colab": {
          "base_uri": "https://localhost:8080/",
          "height": 0
        },
        "id": "QgurD1C1j2Es",
        "outputId": "fcfefae5-ef5f-45bf-d945-803b008821a6"
      },
      "outputs": [
        {
          "output_type": "display_data",
          "data": {
            "text/plain": [
              "<Figure size 432x288 with 1 Axes>"
            ],
            "image/png": "[encoded data removed]"
          },
          "metadata": {
            "needs_background": "light"
          }
        }
      ],
      "source": [
        "x =df_plot['casado']\n",
        "y=df_plot['churn']\n",
        "plt.bar(x,y,color=cols);\n",
        "plt.title('Taxa de Churn em relação ao Estado Civil');\n",
        "plt.xlabel('Casado');\n",
        "plt.ylabel('Taxa de Churn');"
      ]
    },
    {
      "cell_type": "markdown",
      "metadata": {
        "id": "Y8NY_CfMj2Et"
      },
      "source": [
        "### **H4.** A taxa de evasão de clientes que tem dependentes é maior.\n",
        "**FALSA** Podemos observar que a taxa evasão de clientes que não tem dependentes é duas vezes maior em relação aos clientes que tem dependentes."
      ]
    },
    {
      "cell_type": "code",
      "execution_count": 35,
      "metadata": {
        "colab": {
          "base_uri": "https://localhost:8080/",
          "height": 0
        },
        "id": "2b8OkJlMj2Et",
        "outputId": "7c92e75c-cc18-438e-8a5f-071be5210337"
      },
      "outputs": [
        {
          "output_type": "execute_result",
          "data": {
            "text/plain": [
              "  dependentes     churn\n",
              "0         Nao  0.311397\n",
              "1         Sim  0.157865"
            ],
            "text/html": [
              "\n",
              "  <div id=\"df-0dcf1a03-3542-40d8-8241-3d0f621a9a1b\">\n",
              "    <div class=\"colab-df-container\">\n",
              "      <div>\n",
              "<style scoped>\n",
              "    .dataframe tbody tr th:only-of-type {\n",
              "        vertical-align: middle;\n",
              "    }\n",
              "\n",
              "    .dataframe tbody tr th {\n",
              "        vertical-align: top;\n",
              "    }\n",
              "\n",
              "    .dataframe thead th {\n",
              "        text-align: right;\n",
              "    }\n",
              "</style>\n",
              "<table border=\"1\" class=\"dataframe\">\n",
              "  <thead>\n",
              "    <tr style=\"text-align: right;\">\n",
              "      <th></th>\n",
              "      <th>dependentes</th>\n",
              "      <th>churn</th>\n",
              "    </tr>\n",
              "  </thead>\n",
              "  <tbody>\n",
              "    <tr>\n",
              "      <th>0</th>\n",
              "      <td>Nao</td>\n",
              "      <td>0.311397</td>\n",
              "    </tr>\n",
              "    <tr>\n",
              "      <th>1</th>\n",
              "      <td>Sim</td>\n",
              "      <td>0.157865</td>\n",
              "    </tr>\n",
              "  </tbody>\n",
              "</table>\n",
              "</div>\n",
              "      <button class=\"colab-df-convert\" onclick=\"convertToInteractive('df-0dcf1a03-3542-40d8-8241-3d0f621a9a1b')\"\n",
              "              title=\"Convert this dataframe to an interactive table.\"\n",
              "              style=\"display:none;\">\n",
              "        \n",
              "  <svg xmlns=\"http://www.w3.org/2000/svg\" height=\"24px\"viewBox=\"0 0 24 24\"\n",
              "       width=\"24px\">\n",
              "    <path d=\"M0 0h24v24H0V0z\" fill=\"none\"/>\n",
              "    <path d=\"M18.56 5.44l.94 2.06.94-2.06 2.06-.94-2.06-.94-.94-2.06-.94 2.06-2.06.94zm-11 1L8.5 8.5l.94-2.06 2.06-.94-2.06-.94L8.5 2.5l-.94 2.06-2.06.94zm10 10l.94 2.06.94-2.06 2.06-.94-2.06-.94-.94-2.06-.94 2.06-2.06.94z\"/><path d=\"M17.41 7.96l-1.37-1.37c-.4-.4-.92-.59-1.43-.59-.52 0-1.04.2-1.43.59L10.3 9.45l-7.72 7.72c-.78.78-.78 2.05 0 2.83L4 21.41c.39.39.9.59 1.41.59.51 0 1.02-.2 1.41-.59l7.78-7.78 2.81-2.81c.8-.78.8-2.07 0-2.86zM5.41 20L4 18.59l7.72-7.72 1.47 1.35L5.41 20z\"/>\n",
              "  </svg>\n",
              "      </button>\n",
              "      \n",
              "  <style>\n",
              "    .colab-df-container {\n",
              "      display:flex;\n",
              "      flex-wrap:wrap;\n",
              "      gap: 12px;\n",
              "    }\n",
              "\n",
              "    .colab-df-convert {\n",
              "      background-color: #E8F0FE;\n",
              "      border: none;\n",
              "      border-radius: 50%;\n",
              "      cursor: pointer;\n",
              "      display: none;\n",
              "      fill: #1967D2;\n",
              "      height: 32px;\n",
              "      padding: 0 0 0 0;\n",
              "      width: 32px;\n",
              "    }\n",
              "\n",
              "    .colab-df-convert:hover {\n",
              "      background-color: #E2EBFA;\n",
              "      box-shadow: 0px 1px 2px rgba(60, 64, 67, 0.3), 0px 1px 3px 1px rgba(60, 64, 67, 0.15);\n",
              "      fill: #174EA6;\n",
              "    }\n",
              "\n",
              "    [theme=dark] .colab-df-convert {\n",
              "      background-color: #3B4455;\n",
              "      fill: #D2E3FC;\n",
              "    }\n",
              "\n",
              "    [theme=dark] .colab-df-convert:hover {\n",
              "      background-color: #434B5C;\n",
              "      box-shadow: 0px 1px 3px 1px rgba(0, 0, 0, 0.15);\n",
              "      filter: drop-shadow(0px 1px 2px rgba(0, 0, 0, 0.3));\n",
              "      fill: #FFFFFF;\n",
              "    }\n",
              "  </style>\n",
              "\n",
              "      <script>\n",
              "        const buttonEl =\n",
              "          document.querySelector('#df-0dcf1a03-3542-40d8-8241-3d0f621a9a1b button.colab-df-convert');\n",
              "        buttonEl.style.display =\n",
              "          google.colab.kernel.accessAllowed ? 'block' : 'none';\n",
              "\n",
              "        async function convertToInteractive(key) {\n",
              "          const element = document.querySelector('#df-0dcf1a03-3542-40d8-8241-3d0f621a9a1b');\n",
              "          const dataTable =\n",
              "            await google.colab.kernel.invokeFunction('convertToInteractive',\n",
              "                                                     [key], {});\n",
              "          if (!dataTable) return;\n",
              "\n",
              "          const docLinkHtml = 'Like what you see? Visit the ' +\n",
              "            '<a target=\"_blank\" href=https://colab.research.google.com/notebooks/data_table.ipynb>data table notebook</a>'\n",
              "            + ' to learn more about interactive tables.';\n",
              "          element.innerHTML = '';\n",
              "          dataTable['output_type'] = 'display_data';\n",
              "          await google.colab.output.renderOutput(dataTable, element);\n",
              "          const docLink = document.createElement('div');\n",
              "          docLink.innerHTML = docLinkHtml;\n",
              "          element.appendChild(docLink);\n",
              "        }\n",
              "      </script>\n",
              "    </div>\n",
              "  </div>\n",
              "  "
            ]
          },
          "metadata": {},
          "execution_count": 35
        }
      ],
      "source": [
        "df_plot = df4.groupby ('dependentes'). churn.mean (). reset_index () \n",
        "df_plot"
      ]
    },
    {
      "cell_type": "code",
      "execution_count": 36,
      "metadata": {
        "colab": {
          "base_uri": "https://localhost:8080/",
          "height": 0
        },
        "id": "0bw1Xnxtj2Eu",
        "outputId": "6a058827-de44-4602-f5c7-cfb28d0f0b71"
      },
      "outputs": [
        {
          "output_type": "display_data",
          "data": {
            "text/plain": [
              "<Figure size 432x288 with 1 Axes>"
            ],
            "image/png": "[encoded data removed]"
          },
          "metadata": {
            "needs_background": "light"
          }
        }
      ],
      "source": [
        "x =df_plot['dependentes']\n",
        "y=df_plot['churn']\n",
        "plt.bar(x,y,color=cols);\n",
        "plt.title('Taxa de Churn em relação ao Dependente');\n",
        "plt.xlabel('Dependentes');\n",
        "plt.ylabel('Taxa de Churn');"
      ]
    },
    {
      "cell_type": "markdown",
      "metadata": {
        "id": "MXEVR8iOj2Ev"
      },
      "source": [
        "### **H5.** A taxa de evasão de clientes que tem serviço de telefone é maior.\n",
        "**VERDADEIRA** Podemos observar que a taxa de evasão de clientes que optam em ter serviço de telefone é maior.### **H5.** A taxa de evasão de clientes que tem serviço de telefone é maior."
      ]
    },
    {
      "cell_type": "code",
      "execution_count": 37,
      "metadata": {
        "colab": {
          "base_uri": "https://localhost:8080/",
          "height": 0
        },
        "id": "FuaJ30-Lj2Ev",
        "outputId": "64a64205-6b4f-4d7f-eee0-2fb0910c7f3b"
      },
      "outputs": [
        {
          "output_type": "execute_result",
          "data": {
            "text/plain": [
              "  servico_telefone     churn\n",
              "0              Nao  0.253401\n",
              "1              Sim  0.266988"
            ],
            "text/html": [
              "\n",
              "  <div id=\"df-d49ca61c-392a-4829-ae49-5627edbfb356\">\n",
              "    <div class=\"colab-df-container\">\n",
              "      <div>\n",
              "<style scoped>\n",
              "    .dataframe tbody tr th:only-of-type {\n",
              "        vertical-align: middle;\n",
              "    }\n",
              "\n",
              "    .dataframe tbody tr th {\n",
              "        vertical-align: top;\n",
              "    }\n",
              "\n",
              "    .dataframe thead th {\n",
              "        text-align: right;\n",
              "    }\n",
              "</style>\n",
              "<table border=\"1\" class=\"dataframe\">\n",
              "  <thead>\n",
              "    <tr style=\"text-align: right;\">\n",
              "      <th></th>\n",
              "      <th>servico_telefone</th>\n",
              "      <th>churn</th>\n",
              "    </tr>\n",
              "  </thead>\n",
              "  <tbody>\n",
              "    <tr>\n",
              "      <th>0</th>\n",
              "      <td>Nao</td>\n",
              "      <td>0.253401</td>\n",
              "    </tr>\n",
              "    <tr>\n",
              "      <th>1</th>\n",
              "      <td>Sim</td>\n",
              "      <td>0.266988</td>\n",
              "    </tr>\n",
              "  </tbody>\n",
              "</table>\n",
              "</div>\n",
              "      <button class=\"colab-df-convert\" onclick=\"convertToInteractive('df-d49ca61c-392a-4829-ae49-5627edbfb356')\"\n",
              "              title=\"Convert this dataframe to an interactive table.\"\n",
              "              style=\"display:none;\">\n",
              "        \n",
              "  <svg xmlns=\"http://www.w3.org/2000/svg\" height=\"24px\"viewBox=\"0 0 24 24\"\n",
              "       width=\"24px\">\n",
              "    <path d=\"M0 0h24v24H0V0z\" fill=\"none\"/>\n",
              "    <path d=\"M18.56 5.44l.94 2.06.94-2.06 2.06-.94-2.06-.94-.94-2.06-.94 2.06-2.06.94zm-11 1L8.5 8.5l.94-2.06 2.06-.94-2.06-.94L8.5 2.5l-.94 2.06-2.06.94zm10 10l.94 2.06.94-2.06 2.06-.94-2.06-.94-.94-2.06-.94 2.06-2.06.94z\"/><path d=\"M17.41 7.96l-1.37-1.37c-.4-.4-.92-.59-1.43-.59-.52 0-1.04.2-1.43.59L10.3 9.45l-7.72 7.72c-.78.78-.78 2.05 0 2.83L4 21.41c.39.39.9.59 1.41.59.51 0 1.02-.2 1.41-.59l7.78-7.78 2.81-2.81c.8-.78.8-2.07 0-2.86zM5.41 20L4 18.59l7.72-7.72 1.47 1.35L5.41 20z\"/>\n",
              "  </svg>\n",
              "      </button>\n",
              "      \n",
              "  <style>\n",
              "    .colab-df-container {\n",
              "      display:flex;\n",
              "      flex-wrap:wrap;\n",
              "      gap: 12px;\n",
              "    }\n",
              "\n",
              "    .colab-df-convert {\n",
              "      background-color: #E8F0FE;\n",
              "      border: none;\n",
              "      border-radius: 50%;\n",
              "      cursor: pointer;\n",
              "      display: none;\n",
              "      fill: #1967D2;\n",
              "      height: 32px;\n",
              "      padding: 0 0 0 0;\n",
              "      width: 32px;\n",
              "    }\n",
              "\n",
              "    .colab-df-convert:hover {\n",
              "      background-color: #E2EBFA;\n",
              "      box-shadow: 0px 1px 2px rgba(60, 64, 67, 0.3), 0px 1px 3px 1px rgba(60, 64, 67, 0.15);\n",
              "      fill: #174EA6;\n",
              "    }\n",
              "\n",
              "    [theme=dark] .colab-df-convert {\n",
              "      background-color: #3B4455;\n",
              "      fill: #D2E3FC;\n",
              "    }\n",
              "\n",
              "    [theme=dark] .colab-df-convert:hover {\n",
              "      background-color: #434B5C;\n",
              "      box-shadow: 0px 1px 3px 1px rgba(0, 0, 0, 0.15);\n",
              "      filter: drop-shadow(0px 1px 2px rgba(0, 0, 0, 0.3));\n",
              "      fill: #FFFFFF;\n",
              "    }\n",
              "  </style>\n",
              "\n",
              "      <script>\n",
              "        const buttonEl =\n",
              "          document.querySelector('#df-d49ca61c-392a-4829-ae49-5627edbfb356 button.colab-df-convert');\n",
              "        buttonEl.style.display =\n",
              "          google.colab.kernel.accessAllowed ? 'block' : 'none';\n",
              "\n",
              "        async function convertToInteractive(key) {\n",
              "          const element = document.querySelector('#df-d49ca61c-392a-4829-ae49-5627edbfb356');\n",
              "          const dataTable =\n",
              "            await google.colab.kernel.invokeFunction('convertToInteractive',\n",
              "                                                     [key], {});\n",
              "          if (!dataTable) return;\n",
              "\n",
              "          const docLinkHtml = 'Like what you see? Visit the ' +\n",
              "            '<a target=\"_blank\" href=https://colab.research.google.com/notebooks/data_table.ipynb>data table notebook</a>'\n",
              "            + ' to learn more about interactive tables.';\n",
              "          element.innerHTML = '';\n",
              "          dataTable['output_type'] = 'display_data';\n",
              "          await google.colab.output.renderOutput(dataTable, element);\n",
              "          const docLink = document.createElement('div');\n",
              "          docLink.innerHTML = docLinkHtml;\n",
              "          element.appendChild(docLink);\n",
              "        }\n",
              "      </script>\n",
              "    </div>\n",
              "  </div>\n",
              "  "
            ]
          },
          "metadata": {},
          "execution_count": 37
        }
      ],
      "source": [
        "df_plot = df4.groupby ('servico_telefone'). churn.mean (). reset_index () \n",
        "df_plot"
      ]
    },
    {
      "cell_type": "code",
      "execution_count": 38,
      "metadata": {
        "colab": {
          "base_uri": "https://localhost:8080/",
          "height": 0
        },
        "id": "g0qb04h4j2Ew",
        "outputId": "f82a21e3-d510-452a-dd3f-862c46d9f4c0"
      },
      "outputs": [
        {
          "output_type": "display_data",
          "data": {
            "text/plain": [
              "<Figure size 432x288 with 1 Axes>"
            ],
            "image/png": "[encoded data removed]"
          },
          "metadata": {
            "needs_background": "light"
          }
        }
      ],
      "source": [
        "x =df_plot['servico_telefone']\n",
        "y=df_plot['churn']\n",
        "plt.bar(x,y,color=cols);\n",
        "plt.title('Taxa de Churn em relação ao Servico Telefonico');\n",
        "plt.xlabel('ServicoTelefone');\n",
        "plt.ylabel('Taxa de Churn');"
      ]
    },
    {
      "cell_type": "markdown",
      "metadata": {
        "id": "bXHkOxUYj2Ex"
      },
      "source": [
        "### **H6.** A taxa de evasão de clientes com multiplas linhas é maior.\n",
        "**VERDADEIRA** Podemos observar que a taxa de evasão de clientes com multiplas linhas é em torno de 3% maior."
      ]
    },
    {
      "cell_type": "code",
      "execution_count": 39,
      "metadata": {
        "colab": {
          "base_uri": "https://localhost:8080/",
          "height": 0
        },
        "id": "zq79o8ELj2Ex",
        "outputId": "ae0e9c48-4029-4a57-d77c-f2e6b926d454"
      },
      "outputs": [
        {
          "output_type": "execute_result",
          "data": {
            "text/plain": [
              "  multiplas_linhas     churn\n",
              "0              Nao  0.251583\n",
              "1      SemTelefone  0.253401\n",
              "2              Sim  0.284198"
            ],
            "text/html": [
              "\n",
              "  <div id=\"df-7afb06ea-bf9c-4cb8-9a06-d1c3a1ec3f21\">\n",
              "    <div class=\"colab-df-container\">\n",
              "      <div>\n",
              "<style scoped>\n",
              "    .dataframe tbody tr th:only-of-type {\n",
              "        vertical-align: middle;\n",
              "    }\n",
              "\n",
              "    .dataframe tbody tr th {\n",
              "        vertical-align: top;\n",
              "    }\n",
              "\n",
              "    .dataframe thead th {\n",
              "        text-align: right;\n",
              "    }\n",
              "</style>\n",
              "<table border=\"1\" class=\"dataframe\">\n",
              "  <thead>\n",
              "    <tr style=\"text-align: right;\">\n",
              "      <th></th>\n",
              "      <th>multiplas_linhas</th>\n",
              "      <th>churn</th>\n",
              "    </tr>\n",
              "  </thead>\n",
              "  <tbody>\n",
              "    <tr>\n",
              "      <th>0</th>\n",
              "      <td>Nao</td>\n",
              "      <td>0.251583</td>\n",
              "    </tr>\n",
              "    <tr>\n",
              "      <th>1</th>\n",
              "      <td>SemTelefone</td>\n",
              "      <td>0.253401</td>\n",
              "    </tr>\n",
              "    <tr>\n",
              "      <th>2</th>\n",
              "      <td>Sim</td>\n",
              "      <td>0.284198</td>\n",
              "    </tr>\n",
              "  </tbody>\n",
              "</table>\n",
              "</div>\n",
              "      <button class=\"colab-df-convert\" onclick=\"convertToInteractive('df-7afb06ea-bf9c-4cb8-9a06-d1c3a1ec3f21')\"\n",
              "              title=\"Convert this dataframe to an interactive table.\"\n",
              "              style=\"display:none;\">\n",
              "        \n",
              "  <svg xmlns=\"http://www.w3.org/2000/svg\" height=\"24px\"viewBox=\"0 0 24 24\"\n",
              "       width=\"24px\">\n",
              "    <path d=\"M0 0h24v24H0V0z\" fill=\"none\"/>\n",
              "    <path d=\"M18.56 5.44l.94 2.06.94-2.06 2.06-.94-2.06-.94-.94-2.06-.94 2.06-2.06.94zm-11 1L8.5 8.5l.94-2.06 2.06-.94-2.06-.94L8.5 2.5l-.94 2.06-2.06.94zm10 10l.94 2.06.94-2.06 2.06-.94-2.06-.94-.94-2.06-.94 2.06-2.06.94z\"/><path d=\"M17.41 7.96l-1.37-1.37c-.4-.4-.92-.59-1.43-.59-.52 0-1.04.2-1.43.59L10.3 9.45l-7.72 7.72c-.78.78-.78 2.05 0 2.83L4 21.41c.39.39.9.59 1.41.59.51 0 1.02-.2 1.41-.59l7.78-7.78 2.81-2.81c.8-.78.8-2.07 0-2.86zM5.41 20L4 18.59l7.72-7.72 1.47 1.35L5.41 20z\"/>\n",
              "  </svg>\n",
              "      </button>\n",
              "      \n",
              "  <style>\n",
              "    .colab-df-container {\n",
              "      display:flex;\n",
              "      flex-wrap:wrap;\n",
              "      gap: 12px;\n",
              "    }\n",
              "\n",
              "    .colab-df-convert {\n",
              "      background-color: #E8F0FE;\n",
              "      border: none;\n",
              "      border-radius: 50%;\n",
              "      cursor: pointer;\n",
              "      display: none;\n",
              "      fill: #1967D2;\n",
              "      height: 32px;\n",
              "      padding: 0 0 0 0;\n",
              "      width: 32px;\n",
              "    }\n",
              "\n",
              "    .colab-df-convert:hover {\n",
              "      background-color: #E2EBFA;\n",
              "      box-shadow: 0px 1px 2px rgba(60, 64, 67, 0.3), 0px 1px 3px 1px rgba(60, 64, 67, 0.15);\n",
              "      fill: #174EA6;\n",
              "    }\n",
              "\n",
              "    [theme=dark] .colab-df-convert {\n",
              "      background-color: #3B4455;\n",
              "      fill: #D2E3FC;\n",
              "    }\n",
              "\n",
              "    [theme=dark] .colab-df-convert:hover {\n",
              "      background-color: #434B5C;\n",
              "      box-shadow: 0px 1px 3px 1px rgba(0, 0, 0, 0.15);\n",
              "      filter: drop-shadow(0px 1px 2px rgba(0, 0, 0, 0.3));\n",
              "      fill: #FFFFFF;\n",
              "    }\n",
              "  </style>\n",
              "\n",
              "      <script>\n",
              "        const buttonEl =\n",
              "          document.querySelector('#df-7afb06ea-bf9c-4cb8-9a06-d1c3a1ec3f21 button.colab-df-convert');\n",
              "        buttonEl.style.display =\n",
              "          google.colab.kernel.accessAllowed ? 'block' : 'none';\n",
              "\n",
              "        async function convertToInteractive(key) {\n",
              "          const element = document.querySelector('#df-7afb06ea-bf9c-4cb8-9a06-d1c3a1ec3f21');\n",
              "          const dataTable =\n",
              "            await google.colab.kernel.invokeFunction('convertToInteractive',\n",
              "                                                     [key], {});\n",
              "          if (!dataTable) return;\n",
              "\n",
              "          const docLinkHtml = 'Like what you see? Visit the ' +\n",
              "            '<a target=\"_blank\" href=https://colab.research.google.com/notebooks/data_table.ipynb>data table notebook</a>'\n",
              "            + ' to learn more about interactive tables.';\n",
              "          element.innerHTML = '';\n",
              "          dataTable['output_type'] = 'display_data';\n",
              "          await google.colab.output.renderOutput(dataTable, element);\n",
              "          const docLink = document.createElement('div');\n",
              "          docLink.innerHTML = docLinkHtml;\n",
              "          element.appendChild(docLink);\n",
              "        }\n",
              "      </script>\n",
              "    </div>\n",
              "  </div>\n",
              "  "
            ]
          },
          "metadata": {},
          "execution_count": 39
        }
      ],
      "source": [
        "df_plot = df4.groupby ('multiplas_linhas'). churn.mean (). reset_index () \n",
        "df_plot"
      ]
    },
    {
      "cell_type": "code",
      "execution_count": 40,
      "metadata": {
        "colab": {
          "base_uri": "https://localhost:8080/",
          "height": 0
        },
        "id": "rwKWo8uMj2Ey",
        "outputId": "0b36ebdf-1493-4357-d696-30eef66973ab"
      },
      "outputs": [
        {
          "output_type": "display_data",
          "data": {
            "text/plain": [
              "<Figure size 432x288 with 1 Axes>"
            ],
            "image/png": "[encoded data removed]"
          },
          "metadata": {
            "needs_background": "light"
          }
        }
      ],
      "source": [
        "x =df_plot['multiplas_linhas']\n",
        "y=df_plot['churn']\n",
        "plt.bar(x,y,color=cols);\n",
        "plt.title('Taxa de Churn em relação a Multiplas Linhas');\n",
        "plt.xlabel('MultiplasLinhas');\n",
        "plt.ylabel('Taxa de Churn');"
      ]
    },
    {
      "cell_type": "markdown",
      "metadata": {
        "id": "2L4Hic5mj2Ez"
      },
      "source": [
        "### **H7.** A taxa de evasão de clientes que utilizam fibra ótica é menor.\n",
        "**FALSA** Clientes que utilizam fibra ótica tem taxa de cancelamento é maior do que os outros serviços."
      ]
    },
    {
      "cell_type": "code",
      "execution_count": 41,
      "metadata": {
        "colab": {
          "base_uri": "https://localhost:8080/",
          "height": 0
        },
        "id": "kPvqEme7j2Ez",
        "outputId": "5a4981ff-297c-4387-acde-ebc04eec1f79"
      },
      "outputs": [
        {
          "output_type": "execute_result",
          "data": {
            "text/plain": [
              "  servico_internet     churn\n",
              "0              DSL  0.192438\n",
              "1            Fibra  0.415303\n",
              "2              Nao  0.077103"
            ],
            "text/html": [
              "\n",
              "  <div id=\"df-a079a37f-fc44-47eb-b635-c3f75e7dd3dc\">\n",
              "    <div class=\"colab-df-container\">\n",
              "      <div>\n",
              "<style scoped>\n",
              "    .dataframe tbody tr th:only-of-type {\n",
              "        vertical-align: middle;\n",
              "    }\n",
              "\n",
              "    .dataframe tbody tr th {\n",
              "        vertical-align: top;\n",
              "    }\n",
              "\n",
              "    .dataframe thead th {\n",
              "        text-align: right;\n",
              "    }\n",
              "</style>\n",
              "<table border=\"1\" class=\"dataframe\">\n",
              "  <thead>\n",
              "    <tr style=\"text-align: right;\">\n",
              "      <th></th>\n",
              "      <th>servico_internet</th>\n",
              "      <th>churn</th>\n",
              "    </tr>\n",
              "  </thead>\n",
              "  <tbody>\n",
              "    <tr>\n",
              "      <th>0</th>\n",
              "      <td>DSL</td>\n",
              "      <td>0.192438</td>\n",
              "    </tr>\n",
              "    <tr>\n",
              "      <th>1</th>\n",
              "      <td>Fibra</td>\n",
              "      <td>0.415303</td>\n",
              "    </tr>\n",
              "    <tr>\n",
              "      <th>2</th>\n",
              "      <td>Nao</td>\n",
              "      <td>0.077103</td>\n",
              "    </tr>\n",
              "  </tbody>\n",
              "</table>\n",
              "</div>\n",
              "      <button class=\"colab-df-convert\" onclick=\"convertToInteractive('df-a079a37f-fc44-47eb-b635-c3f75e7dd3dc')\"\n",
              "              title=\"Convert this dataframe to an interactive table.\"\n",
              "              style=\"display:none;\">\n",
              "        \n",
              "  <svg xmlns=\"http://www.w3.org/2000/svg\" height=\"24px\"viewBox=\"0 0 24 24\"\n",
              "       width=\"24px\">\n",
              "    <path d=\"M0 0h24v24H0V0z\" fill=\"none\"/>\n",
              "    <path d=\"M18.56 5.44l.94 2.06.94-2.06 2.06-.94-2.06-.94-.94-2.06-.94 2.06-2.06.94zm-11 1L8.5 8.5l.94-2.06 2.06-.94-2.06-.94L8.5 2.5l-.94 2.06-2.06.94zm10 10l.94 2.06.94-2.06 2.06-.94-2.06-.94-.94-2.06-.94 2.06-2.06.94z\"/><path d=\"M17.41 7.96l-1.37-1.37c-.4-.4-.92-.59-1.43-.59-.52 0-1.04.2-1.43.59L10.3 9.45l-7.72 7.72c-.78.78-.78 2.05 0 2.83L4 21.41c.39.39.9.59 1.41.59.51 0 1.02-.2 1.41-.59l7.78-7.78 2.81-2.81c.8-.78.8-2.07 0-2.86zM5.41 20L4 18.59l7.72-7.72 1.47 1.35L5.41 20z\"/>\n",
              "  </svg>\n",
              "      </button>\n",
              "      \n",
              "  <style>\n",
              "    .colab-df-container {\n",
              "      display:flex;\n",
              "      flex-wrap:wrap;\n",
              "      gap: 12px;\n",
              "    }\n",
              "\n",
              "    .colab-df-convert {\n",
              "      background-color: #E8F0FE;\n",
              "      border: none;\n",
              "      border-radius: 50%;\n",
              "      cursor: pointer;\n",
              "      display: none;\n",
              "      fill: #1967D2;\n",
              "      height: 32px;\n",
              "      padding: 0 0 0 0;\n",
              "      width: 32px;\n",
              "    }\n",
              "\n",
              "    .colab-df-convert:hover {\n",
              "      background-color: #E2EBFA;\n",
              "      box-shadow: 0px 1px 2px rgba(60, 64, 67, 0.3), 0px 1px 3px 1px rgba(60, 64, 67, 0.15);\n",
              "      fill: #174EA6;\n",
              "    }\n",
              "\n",
              "    [theme=dark] .colab-df-convert {\n",
              "      background-color: #3B4455;\n",
              "      fill: #D2E3FC;\n",
              "    }\n",
              "\n",
              "    [theme=dark] .colab-df-convert:hover {\n",
              "      background-color: #434B5C;\n",
              "      box-shadow: 0px 1px 3px 1px rgba(0, 0, 0, 0.15);\n",
              "      filter: drop-shadow(0px 1px 2px rgba(0, 0, 0, 0.3));\n",
              "      fill: #FFFFFF;\n",
              "    }\n",
              "  </style>\n",
              "\n",
              "      <script>\n",
              "        const buttonEl =\n",
              "          document.querySelector('#df-a079a37f-fc44-47eb-b635-c3f75e7dd3dc button.colab-df-convert');\n",
              "        buttonEl.style.display =\n",
              "          google.colab.kernel.accessAllowed ? 'block' : 'none';\n",
              "\n",
              "        async function convertToInteractive(key) {\n",
              "          const element = document.querySelector('#df-a079a37f-fc44-47eb-b635-c3f75e7dd3dc');\n",
              "          const dataTable =\n",
              "            await google.colab.kernel.invokeFunction('convertToInteractive',\n",
              "                                                     [key], {});\n",
              "          if (!dataTable) return;\n",
              "\n",
              "          const docLinkHtml = 'Like what you see? Visit the ' +\n",
              "            '<a target=\"_blank\" href=https://colab.research.google.com/notebooks/data_table.ipynb>data table notebook</a>'\n",
              "            + ' to learn more about interactive tables.';\n",
              "          element.innerHTML = '';\n",
              "          dataTable['output_type'] = 'display_data';\n",
              "          await google.colab.output.renderOutput(dataTable, element);\n",
              "          const docLink = document.createElement('div');\n",
              "          docLink.innerHTML = docLinkHtml;\n",
              "          element.appendChild(docLink);\n",
              "        }\n",
              "      </script>\n",
              "    </div>\n",
              "  </div>\n",
              "  "
            ]
          },
          "metadata": {},
          "execution_count": 41
        }
      ],
      "source": [
        "df_plot = df4.groupby ('servico_internet'). churn.mean (). reset_index () \n",
        "df_plot"
      ]
    },
    {
      "cell_type": "code",
      "execution_count": 42,
      "metadata": {
        "colab": {
          "base_uri": "https://localhost:8080/",
          "height": 0
        },
        "id": "6VmBnVObj2E0",
        "outputId": "0e16b335-b399-4075-9d5f-b8b4286b394e"
      },
      "outputs": [
        {
          "output_type": "display_data",
          "data": {
            "text/plain": [
              "<Figure size 432x288 with 1 Axes>"
            ],
            "image/png": "[encoded data removed]"
          },
          "metadata": {
            "needs_background": "light"
          }
        }
      ],
      "source": [
        "x =df_plot['servico_internet']\n",
        "y=df_plot['churn']\n",
        "plt.bar(x,y,color=cols);\n",
        "plt.title('Taxa de Churn em relação a Servico Internet');\n",
        "plt.xlabel('ServicoInternet');\n",
        "plt.ylabel('Taxa de Churn');"
      ]
    },
    {
      "cell_type": "markdown",
      "metadata": {
        "id": "pOZfkMxlj2E0"
      },
      "source": [
        "### **H8.** A taxa de evasão de clientes que utilizam serviço segurança online é maior.\n",
        "**FALSA** A taxa de evasão de clientes que não utilizam serviço segurança online é maior em relação aos que fazem uso do serviço."
      ]
    },
    {
      "cell_type": "code",
      "execution_count": 43,
      "metadata": {
        "colab": {
          "base_uri": "https://localhost:8080/",
          "height": 0
        },
        "id": "WI0b8R8zj2E1",
        "outputId": "e207f53e-adc9-4cfa-ea52-d409d4d5326e"
      },
      "outputs": [
        {
          "output_type": "execute_result",
          "data": {
            "text/plain": [
              "  servico_seguranca_online     churn\n",
              "0                      Nao  0.416499\n",
              "1              SemInternet  0.077103\n",
              "2                      Sim  0.144028"
            ],
            "text/html": [
              "\n",
              "  <div id=\"df-559d0e6f-8749-4498-9443-3f8a53dcd592\">\n",
              "    <div class=\"colab-df-container\">\n",
              "      <div>\n",
              "<style scoped>\n",
              "    .dataframe tbody tr th:only-of-type {\n",
              "        vertical-align: middle;\n",
              "    }\n",
              "\n",
              "    .dataframe tbody tr th {\n",
              "        vertical-align: top;\n",
              "    }\n",
              "\n",
              "    .dataframe thead th {\n",
              "        text-align: right;\n",
              "    }\n",
              "</style>\n",
              "<table border=\"1\" class=\"dataframe\">\n",
              "  <thead>\n",
              "    <tr style=\"text-align: right;\">\n",
              "      <th></th>\n",
              "      <th>servico_seguranca_online</th>\n",
              "      <th>churn</th>\n",
              "    </tr>\n",
              "  </thead>\n",
              "  <tbody>\n",
              "    <tr>\n",
              "      <th>0</th>\n",
              "      <td>Nao</td>\n",
              "      <td>0.416499</td>\n",
              "    </tr>\n",
              "    <tr>\n",
              "      <th>1</th>\n",
              "      <td>SemInternet</td>\n",
              "      <td>0.077103</td>\n",
              "    </tr>\n",
              "    <tr>\n",
              "      <th>2</th>\n",
              "      <td>Sim</td>\n",
              "      <td>0.144028</td>\n",
              "    </tr>\n",
              "  </tbody>\n",
              "</table>\n",
              "</div>\n",
              "      <button class=\"colab-df-convert\" onclick=\"convertToInteractive('df-559d0e6f-8749-4498-9443-3f8a53dcd592')\"\n",
              "              title=\"Convert this dataframe to an interactive table.\"\n",
              "              style=\"display:none;\">\n",
              "        \n",
              "  <svg xmlns=\"http://www.w3.org/2000/svg\" height=\"24px\"viewBox=\"0 0 24 24\"\n",
              "       width=\"24px\">\n",
              "    <path d=\"M0 0h24v24H0V0z\" fill=\"none\"/>\n",
              "    <path d=\"M18.56 5.44l.94 2.06.94-2.06 2.06-.94-2.06-.94-.94-2.06-.94 2.06-2.06.94zm-11 1L8.5 8.5l.94-2.06 2.06-.94-2.06-.94L8.5 2.5l-.94 2.06-2.06.94zm10 10l.94 2.06.94-2.06 2.06-.94-2.06-.94-.94-2.06-.94 2.06-2.06.94z\"/><path d=\"M17.41 7.96l-1.37-1.37c-.4-.4-.92-.59-1.43-.59-.52 0-1.04.2-1.43.59L10.3 9.45l-7.72 7.72c-.78.78-.78 2.05 0 2.83L4 21.41c.39.39.9.59 1.41.59.51 0 1.02-.2 1.41-.59l7.78-7.78 2.81-2.81c.8-.78.8-2.07 0-2.86zM5.41 20L4 18.59l7.72-7.72 1.47 1.35L5.41 20z\"/>\n",
              "  </svg>\n",
              "      </button>\n",
              "      \n",
              "  <style>\n",
              "    .colab-df-container {\n",
              "      display:flex;\n",
              "      flex-wrap:wrap;\n",
              "      gap: 12px;\n",
              "    }\n",
              "\n",
              "    .colab-df-convert {\n",
              "      background-color: #E8F0FE;\n",
              "      border: none;\n",
              "      border-radius: 50%;\n",
              "      cursor: pointer;\n",
              "      display: none;\n",
              "      fill: #1967D2;\n",
              "      height: 32px;\n",
              "      padding: 0 0 0 0;\n",
              "      width: 32px;\n",
              "    }\n",
              "\n",
              "    .colab-df-convert:hover {\n",
              "      background-color: #E2EBFA;\n",
              "      box-shadow: 0px 1px 2px rgba(60, 64, 67, 0.3), 0px 1px 3px 1px rgba(60, 64, 67, 0.15);\n",
              "      fill: #174EA6;\n",
              "    }\n",
              "\n",
              "    [theme=dark] .colab-df-convert {\n",
              "      background-color: #3B4455;\n",
              "      fill: #D2E3FC;\n",
              "    }\n",
              "\n",
              "    [theme=dark] .colab-df-convert:hover {\n",
              "      background-color: #434B5C;\n",
              "      box-shadow: 0px 1px 3px 1px rgba(0, 0, 0, 0.15);\n",
              "      filter: drop-shadow(0px 1px 2px rgba(0, 0, 0, 0.3));\n",
              "      fill: #FFFFFF;\n",
              "    }\n",
              "  </style>\n",
              "\n",
              "      <script>\n",
              "        const buttonEl =\n",
              "          document.querySelector('#df-559d0e6f-8749-4498-9443-3f8a53dcd592 button.colab-df-convert');\n",
              "        buttonEl.style.display =\n",
              "          google.colab.kernel.accessAllowed ? 'block' : 'none';\n",
              "\n",
              "        async function convertToInteractive(key) {\n",
              "          const element = document.querySelector('#df-559d0e6f-8749-4498-9443-3f8a53dcd592');\n",
              "          const dataTable =\n",
              "            await google.colab.kernel.invokeFunction('convertToInteractive',\n",
              "                                                     [key], {});\n",
              "          if (!dataTable) return;\n",
              "\n",
              "          const docLinkHtml = 'Like what you see? Visit the ' +\n",
              "            '<a target=\"_blank\" href=https://colab.research.google.com/notebooks/data_table.ipynb>data table notebook</a>'\n",
              "            + ' to learn more about interactive tables.';\n",
              "          element.innerHTML = '';\n",
              "          dataTable['output_type'] = 'display_data';\n",
              "          await google.colab.output.renderOutput(dataTable, element);\n",
              "          const docLink = document.createElement('div');\n",
              "          docLink.innerHTML = docLinkHtml;\n",
              "          element.appendChild(docLink);\n",
              "        }\n",
              "      </script>\n",
              "    </div>\n",
              "  </div>\n",
              "  "
            ]
          },
          "metadata": {},
          "execution_count": 43
        }
      ],
      "source": [
        "df_plot = df4.groupby ('servico_seguranca_online'). churn.mean (). reset_index () \n",
        "df_plot"
      ]
    },
    {
      "cell_type": "code",
      "execution_count": 44,
      "metadata": {
        "colab": {
          "base_uri": "https://localhost:8080/",
          "height": 0
        },
        "id": "WK1-bw7Gj2E2",
        "outputId": "e6b2c0b6-236a-4c00-b5b8-722312f5201c"
      },
      "outputs": [
        {
          "output_type": "display_data",
          "data": {
            "text/plain": [
              "<Figure size 432x288 with 1 Axes>"
            ],
            "image/png": "[encoded data removed]"
          },
          "metadata": {
            "needs_background": "light"
          }
        }
      ],
      "source": [
        "x =df_plot['servico_seguranca_online']\n",
        "y=df_plot['churn']\n",
        "plt.bar(x,y,color=cols);\n",
        "plt.title('Taxa de Churn em relação a Servico Seguranca Online');\n",
        "plt.xlabel('ServicoSegurancaOnline');\n",
        "plt.ylabel('Taxa de Churn');"
      ]
    },
    {
      "cell_type": "markdown",
      "metadata": {
        "id": "2m8MI5pqj2E2"
      },
      "source": [
        "### **H9.** A taxa de evasão de clientes que utilizam serviço de backup online é maior.\n",
        "**FALSA** Podemos observar que a taxa de evasão de clientes que não utilizam serviço backup online é maior em relação aos que fazem uso do serviço."
      ]
    },
    {
      "cell_type": "code",
      "execution_count": 45,
      "metadata": {
        "colab": {
          "base_uri": "https://localhost:8080/",
          "height": 0
        },
        "id": "TLIWT1PMj2E3",
        "outputId": "82634bac-3bba-4b8b-aa0b-8958a04e3dac"
      },
      "outputs": [
        {
          "output_type": "execute_result",
          "data": {
            "text/plain": [
              "  servico_backup_online     churn\n",
              "0                   Nao  0.398618\n",
              "1           SemInternet  0.077103\n",
              "2                   Sim  0.215724"
            ],
            "text/html": [
              "\n",
              "  <div id=\"df-7ff78275-52d0-48a1-b258-d25d2fc8991c\">\n",
              "    <div class=\"colab-df-container\">\n",
              "      <div>\n",
              "<style scoped>\n",
              "    .dataframe tbody tr th:only-of-type {\n",
              "        vertical-align: middle;\n",
              "    }\n",
              "\n",
              "    .dataframe tbody tr th {\n",
              "        vertical-align: top;\n",
              "    }\n",
              "\n",
              "    .dataframe thead th {\n",
              "        text-align: right;\n",
              "    }\n",
              "</style>\n",
              "<table border=\"1\" class=\"dataframe\">\n",
              "  <thead>\n",
              "    <tr style=\"text-align: right;\">\n",
              "      <th></th>\n",
              "      <th>servico_backup_online</th>\n",
              "      <th>churn</th>\n",
              "    </tr>\n",
              "  </thead>\n",
              "  <tbody>\n",
              "    <tr>\n",
              "      <th>0</th>\n",
              "      <td>Nao</td>\n",
              "      <td>0.398618</td>\n",
              "    </tr>\n",
              "    <tr>\n",
              "      <th>1</th>\n",
              "      <td>SemInternet</td>\n",
              "      <td>0.077103</td>\n",
              "    </tr>\n",
              "    <tr>\n",
              "      <th>2</th>\n",
              "      <td>Sim</td>\n",
              "      <td>0.215724</td>\n",
              "    </tr>\n",
              "  </tbody>\n",
              "</table>\n",
              "</div>\n",
              "      <button class=\"colab-df-convert\" onclick=\"convertToInteractive('df-7ff78275-52d0-48a1-b258-d25d2fc8991c')\"\n",
              "              title=\"Convert this dataframe to an interactive table.\"\n",
              "              style=\"display:none;\">\n",
              "        \n",
              "  <svg xmlns=\"http://www.w3.org/2000/svg\" height=\"24px\"viewBox=\"0 0 24 24\"\n",
              "       width=\"24px\">\n",
              "    <path d=\"M0 0h24v24H0V0z\" fill=\"none\"/>\n",
              "    <path d=\"M18.56 5.44l.94 2.06.94-2.06 2.06-.94-2.06-.94-.94-2.06-.94 2.06-2.06.94zm-11 1L8.5 8.5l.94-2.06 2.06-.94-2.06-.94L8.5 2.5l-.94 2.06-2.06.94zm10 10l.94 2.06.94-2.06 2.06-.94-2.06-.94-.94-2.06-.94 2.06-2.06.94z\"/><path d=\"M17.41 7.96l-1.37-1.37c-.4-.4-.92-.59-1.43-.59-.52 0-1.04.2-1.43.59L10.3 9.45l-7.72 7.72c-.78.78-.78 2.05 0 2.83L4 21.41c.39.39.9.59 1.41.59.51 0 1.02-.2 1.41-.59l7.78-7.78 2.81-2.81c.8-.78.8-2.07 0-2.86zM5.41 20L4 18.59l7.72-7.72 1.47 1.35L5.41 20z\"/>\n",
              "  </svg>\n",
              "      </button>\n",
              "      \n",
              "  <style>\n",
              "    .colab-df-container {\n",
              "      display:flex;\n",
              "      flex-wrap:wrap;\n",
              "      gap: 12px;\n",
              "    }\n",
              "\n",
              "    .colab-df-convert {\n",
              "      background-color: #E8F0FE;\n",
              "      border: none;\n",
              "      border-radius: 50%;\n",
              "      cursor: pointer;\n",
              "      display: none;\n",
              "      fill: #1967D2;\n",
              "      height: 32px;\n",
              "      padding: 0 0 0 0;\n",
              "      width: 32px;\n",
              "    }\n",
              "\n",
              "    .colab-df-convert:hover {\n",
              "      background-color: #E2EBFA;\n",
              "      box-shadow: 0px 1px 2px rgba(60, 64, 67, 0.3), 0px 1px 3px 1px rgba(60, 64, 67, 0.15);\n",
              "      fill: #174EA6;\n",
              "    }\n",
              "\n",
              "    [theme=dark] .colab-df-convert {\n",
              "      background-color: #3B4455;\n",
              "      fill: #D2E3FC;\n",
              "    }\n",
              "\n",
              "    [theme=dark] .colab-df-convert:hover {\n",
              "      background-color: #434B5C;\n",
              "      box-shadow: 0px 1px 3px 1px rgba(0, 0, 0, 0.15);\n",
              "      filter: drop-shadow(0px 1px 2px rgba(0, 0, 0, 0.3));\n",
              "      fill: #FFFFFF;\n",
              "    }\n",
              "  </style>\n",
              "\n",
              "      <script>\n",
              "        const buttonEl =\n",
              "          document.querySelector('#df-7ff78275-52d0-48a1-b258-d25d2fc8991c button.colab-df-convert');\n",
              "        buttonEl.style.display =\n",
              "          google.colab.kernel.accessAllowed ? 'block' : 'none';\n",
              "\n",
              "        async function convertToInteractive(key) {\n",
              "          const element = document.querySelector('#df-7ff78275-52d0-48a1-b258-d25d2fc8991c');\n",
              "          const dataTable =\n",
              "            await google.colab.kernel.invokeFunction('convertToInteractive',\n",
              "                                                     [key], {});\n",
              "          if (!dataTable) return;\n",
              "\n",
              "          const docLinkHtml = 'Like what you see? Visit the ' +\n",
              "            '<a target=\"_blank\" href=https://colab.research.google.com/notebooks/data_table.ipynb>data table notebook</a>'\n",
              "            + ' to learn more about interactive tables.';\n",
              "          element.innerHTML = '';\n",
              "          dataTable['output_type'] = 'display_data';\n",
              "          await google.colab.output.renderOutput(dataTable, element);\n",
              "          const docLink = document.createElement('div');\n",
              "          docLink.innerHTML = docLinkHtml;\n",
              "          element.appendChild(docLink);\n",
              "        }\n",
              "      </script>\n",
              "    </div>\n",
              "  </div>\n",
              "  "
            ]
          },
          "metadata": {},
          "execution_count": 45
        }
      ],
      "source": [
        "df_plot = df4.groupby ('servico_backup_online'). churn.mean (). reset_index () \n",
        "df_plot"
      ]
    },
    {
      "cell_type": "code",
      "execution_count": 46,
      "metadata": {
        "colab": {
          "base_uri": "https://localhost:8080/",
          "height": 0
        },
        "id": "x3nRzOxsj2E4",
        "outputId": "4294725e-90ae-46a7-88a4-9e22a612f212"
      },
      "outputs": [
        {
          "output_type": "display_data",
          "data": {
            "text/plain": [
              "<Figure size 432x288 with 1 Axes>"
            ],
            "image/png": "[encoded data removed]"
          },
          "metadata": {
            "needs_background": "light"
          }
        }
      ],
      "source": [
        "x =df_plot['servico_backup_online']\n",
        "y=df_plot['churn']\n",
        "plt.bar(x,y,color=cols);\n",
        "plt.title('Taxa de Churn em relação a Servico Backup Online');\n",
        "plt.xlabel('ServicoBackupOnline');\n",
        "plt.ylabel('Taxa de Churn');"
      ]
    },
    {
      "cell_type": "markdown",
      "metadata": {
        "id": "tQBnWFKaj2E4"
      },
      "source": [
        "### **H10.** A taxa de evasão de clientes que utilizam a proteção de equipamento é maior.\n",
        "**FALSA** Podemos observar que a a taxa de evasão de clientes que não utilizam-se da proteção equipamento é maior em relação aos que utilizam."
      ]
    },
    {
      "cell_type": "code",
      "execution_count": 47,
      "metadata": {
        "colab": {
          "base_uri": "https://localhost:8080/",
          "height": 0
        },
        "id": "NP4oQtbrj2E5",
        "outputId": "b87ba303-ea50-49d3-89c0-b339495c0e9b"
      },
      "outputs": [
        {
          "output_type": "execute_result",
          "data": {
            "text/plain": [
              "  protecao_equipamento     churn\n",
              "0                  Nao  0.390678\n",
              "1          SemInternet  0.077103\n",
              "2                  Sim  0.222818"
            ],
            "text/html": [
              "\n",
              "  <div id=\"df-29ee948f-e620-4c26-8ded-ded4477fa42a\">\n",
              "    <div class=\"colab-df-container\">\n",
              "      <div>\n",
              "<style scoped>\n",
              "    .dataframe tbody tr th:only-of-type {\n",
              "        vertical-align: middle;\n",
              "    }\n",
              "\n",
              "    .dataframe tbody tr th {\n",
              "        vertical-align: top;\n",
              "    }\n",
              "\n",
              "    .dataframe thead th {\n",
              "        text-align: right;\n",
              "    }\n",
              "</style>\n",
              "<table border=\"1\" class=\"dataframe\">\n",
              "  <thead>\n",
              "    <tr style=\"text-align: right;\">\n",
              "      <th></th>\n",
              "      <th>protecao_equipamento</th>\n",
              "      <th>churn</th>\n",
              "    </tr>\n",
              "  </thead>\n",
              "  <tbody>\n",
              "    <tr>\n",
              "      <th>0</th>\n",
              "      <td>Nao</td>\n",
              "      <td>0.390678</td>\n",
              "    </tr>\n",
              "    <tr>\n",
              "      <th>1</th>\n",
              "      <td>SemInternet</td>\n",
              "      <td>0.077103</td>\n",
              "    </tr>\n",
              "    <tr>\n",
              "      <th>2</th>\n",
              "      <td>Sim</td>\n",
              "      <td>0.222818</td>\n",
              "    </tr>\n",
              "  </tbody>\n",
              "</table>\n",
              "</div>\n",
              "      <button class=\"colab-df-convert\" onclick=\"convertToInteractive('df-29ee948f-e620-4c26-8ded-ded4477fa42a')\"\n",
              "              title=\"Convert this dataframe to an interactive table.\"\n",
              "              style=\"display:none;\">\n",
              "        \n",
              "  <svg xmlns=\"http://www.w3.org/2000/svg\" height=\"24px\"viewBox=\"0 0 24 24\"\n",
              "       width=\"24px\">\n",
              "    <path d=\"M0 0h24v24H0V0z\" fill=\"none\"/>\n",
              "    <path d=\"M18.56 5.44l.94 2.06.94-2.06 2.06-.94-2.06-.94-.94-2.06-.94 2.06-2.06.94zm-11 1L8.5 8.5l.94-2.06 2.06-.94-2.06-.94L8.5 2.5l-.94 2.06-2.06.94zm10 10l.94 2.06.94-2.06 2.06-.94-2.06-.94-.94-2.06-.94 2.06-2.06.94z\"/><path d=\"M17.41 7.96l-1.37-1.37c-.4-.4-.92-.59-1.43-.59-.52 0-1.04.2-1.43.59L10.3 9.45l-7.72 7.72c-.78.78-.78 2.05 0 2.83L4 21.41c.39.39.9.59 1.41.59.51 0 1.02-.2 1.41-.59l7.78-7.78 2.81-2.81c.8-.78.8-2.07 0-2.86zM5.41 20L4 18.59l7.72-7.72 1.47 1.35L5.41 20z\"/>\n",
              "  </svg>\n",
              "      </button>\n",
              "      \n",
              "  <style>\n",
              "    .colab-df-container {\n",
              "      display:flex;\n",
              "      flex-wrap:wrap;\n",
              "      gap: 12px;\n",
              "    }\n",
              "\n",
              "    .colab-df-convert {\n",
              "      background-color: #E8F0FE;\n",
              "      border: none;\n",
              "      border-radius: 50%;\n",
              "      cursor: pointer;\n",
              "      display: none;\n",
              "      fill: #1967D2;\n",
              "      height: 32px;\n",
              "      padding: 0 0 0 0;\n",
              "      width: 32px;\n",
              "    }\n",
              "\n",
              "    .colab-df-convert:hover {\n",
              "      background-color: #E2EBFA;\n",
              "      box-shadow: 0px 1px 2px rgba(60, 64, 67, 0.3), 0px 1px 3px 1px rgba(60, 64, 67, 0.15);\n",
              "      fill: #174EA6;\n",
              "    }\n",
              "\n",
              "    [theme=dark] .colab-df-convert {\n",
              "      background-color: #3B4455;\n",
              "      fill: #D2E3FC;\n",
              "    }\n",
              "\n",
              "    [theme=dark] .colab-df-convert:hover {\n",
              "      background-color: #434B5C;\n",
              "      box-shadow: 0px 1px 3px 1px rgba(0, 0, 0, 0.15);\n",
              "      filter: drop-shadow(0px 1px 2px rgba(0, 0, 0, 0.3));\n",
              "      fill: #FFFFFF;\n",
              "    }\n",
              "  </style>\n",
              "\n",
              "      <script>\n",
              "        const buttonEl =\n",
              "          document.querySelector('#df-29ee948f-e620-4c26-8ded-ded4477fa42a button.colab-df-convert');\n",
              "        buttonEl.style.display =\n",
              "          google.colab.kernel.accessAllowed ? 'block' : 'none';\n",
              "\n",
              "        async function convertToInteractive(key) {\n",
              "          const element = document.querySelector('#df-29ee948f-e620-4c26-8ded-ded4477fa42a');\n",
              "          const dataTable =\n",
              "            await google.colab.kernel.invokeFunction('convertToInteractive',\n",
              "                                                     [key], {});\n",
              "          if (!dataTable) return;\n",
              "\n",
              "          const docLinkHtml = 'Like what you see? Visit the ' +\n",
              "            '<a target=\"_blank\" href=https://colab.research.google.com/notebooks/data_table.ipynb>data table notebook</a>'\n",
              "            + ' to learn more about interactive tables.';\n",
              "          element.innerHTML = '';\n",
              "          dataTable['output_type'] = 'display_data';\n",
              "          await google.colab.output.renderOutput(dataTable, element);\n",
              "          const docLink = document.createElement('div');\n",
              "          docLink.innerHTML = docLinkHtml;\n",
              "          element.appendChild(docLink);\n",
              "        }\n",
              "      </script>\n",
              "    </div>\n",
              "  </div>\n",
              "  "
            ]
          },
          "metadata": {},
          "execution_count": 47
        }
      ],
      "source": [
        "df_plot = df4.groupby ('protecao_equipamento'). churn.mean (). reset_index () \n",
        "df_plot"
      ]
    },
    {
      "cell_type": "code",
      "execution_count": 48,
      "metadata": {
        "colab": {
          "base_uri": "https://localhost:8080/",
          "height": 0
        },
        "id": "9Z3rYVByj2E6",
        "outputId": "40206a26-b716-437e-c066-70191558499d"
      },
      "outputs": [
        {
          "output_type": "display_data",
          "data": {
            "text/plain": [
              "<Figure size 432x288 with 1 Axes>"
            ],
            "image/png": "[encoded data removed]"
          },
          "metadata": {
            "needs_background": "light"
          }
        }
      ],
      "source": [
        "x =df_plot['protecao_equipamento']\n",
        "y=df_plot['churn']\n",
        "plt.bar(x,y,color=cols);\n",
        "plt.title('Taxa de Churn em relação a Protecao Equipamento');\n",
        "plt.xlabel('ProtecaoEquipamento');\n",
        "plt.ylabel('Taxa de Churn');"
      ]
    },
    {
      "cell_type": "markdown",
      "metadata": {
        "id": "xz39aXl1j2E6"
      },
      "source": [
        "### **H11.** A taxa de evasão de clientes que utilizam serviço de suporte técnico é maior.\n",
        "**FALSA** Podemos observar que a taxa de evasão de clientes é maior em pessoas que nao fazem uso do serviço suporte técnico."
      ]
    },
    {
      "cell_type": "code",
      "execution_count": 49,
      "metadata": {
        "colab": {
          "base_uri": "https://localhost:8080/",
          "height": 0
        },
        "id": "Ob7QIfUCj2E7",
        "outputId": "d7dcad97-49c1-4c0e-c5d7-2ae8884c7e72"
      },
      "outputs": [
        {
          "output_type": "execute_result",
          "data": {
            "text/plain": [
              "  servico_suporte_tecnico     churn\n",
              "0                     Nao  0.412977\n",
              "1             SemInternet  0.077103\n",
              "2                     Sim  0.153668"
            ],
            "text/html": [
              "\n",
              "  <div id=\"df-89248d55-9678-464e-9c67-afc691520440\">\n",
              "    <div class=\"colab-df-container\">\n",
              "      <div>\n",
              "<style scoped>\n",
              "    .dataframe tbody tr th:only-of-type {\n",
              "        vertical-align: middle;\n",
              "    }\n",
              "\n",
              "    .dataframe tbody tr th {\n",
              "        vertical-align: top;\n",
              "    }\n",
              "\n",
              "    .dataframe thead th {\n",
              "        text-align: right;\n",
              "    }\n",
              "</style>\n",
              "<table border=\"1\" class=\"dataframe\">\n",
              "  <thead>\n",
              "    <tr style=\"text-align: right;\">\n",
              "      <th></th>\n",
              "      <th>servico_suporte_tecnico</th>\n",
              "      <th>churn</th>\n",
              "    </tr>\n",
              "  </thead>\n",
              "  <tbody>\n",
              "    <tr>\n",
              "      <th>0</th>\n",
              "      <td>Nao</td>\n",
              "      <td>0.412977</td>\n",
              "    </tr>\n",
              "    <tr>\n",
              "      <th>1</th>\n",
              "      <td>SemInternet</td>\n",
              "      <td>0.077103</td>\n",
              "    </tr>\n",
              "    <tr>\n",
              "      <th>2</th>\n",
              "      <td>Sim</td>\n",
              "      <td>0.153668</td>\n",
              "    </tr>\n",
              "  </tbody>\n",
              "</table>\n",
              "</div>\n",
              "      <button class=\"colab-df-convert\" onclick=\"convertToInteractive('df-89248d55-9678-464e-9c67-afc691520440')\"\n",
              "              title=\"Convert this dataframe to an interactive table.\"\n",
              "              style=\"display:none;\">\n",
              "        \n",
              "  <svg xmlns=\"http://www.w3.org/2000/svg\" height=\"24px\"viewBox=\"0 0 24 24\"\n",
              "       width=\"24px\">\n",
              "    <path d=\"M0 0h24v24H0V0z\" fill=\"none\"/>\n",
              "    <path d=\"M18.56 5.44l.94 2.06.94-2.06 2.06-.94-2.06-.94-.94-2.06-.94 2.06-2.06.94zm-11 1L8.5 8.5l.94-2.06 2.06-.94-2.06-.94L8.5 2.5l-.94 2.06-2.06.94zm10 10l.94 2.06.94-2.06 2.06-.94-2.06-.94-.94-2.06-.94 2.06-2.06.94z\"/><path d=\"M17.41 7.96l-1.37-1.37c-.4-.4-.92-.59-1.43-.59-.52 0-1.04.2-1.43.59L10.3 9.45l-7.72 7.72c-.78.78-.78 2.05 0 2.83L4 21.41c.39.39.9.59 1.41.59.51 0 1.02-.2 1.41-.59l7.78-7.78 2.81-2.81c.8-.78.8-2.07 0-2.86zM5.41 20L4 18.59l7.72-7.72 1.47 1.35L5.41 20z\"/>\n",
              "  </svg>\n",
              "      </button>\n",
              "      \n",
              "  <style>\n",
              "    .colab-df-container {\n",
              "      display:flex;\n",
              "      flex-wrap:wrap;\n",
              "      gap: 12px;\n",
              "    }\n",
              "\n",
              "    .colab-df-convert {\n",
              "      background-color: #E8F0FE;\n",
              "      border: none;\n",
              "      border-radius: 50%;\n",
              "      cursor: pointer;\n",
              "      display: none;\n",
              "      fill: #1967D2;\n",
              "      height: 32px;\n",
              "      padding: 0 0 0 0;\n",
              "      width: 32px;\n",
              "    }\n",
              "\n",
              "    .colab-df-convert:hover {\n",
              "      background-color: #E2EBFA;\n",
              "      box-shadow: 0px 1px 2px rgba(60, 64, 67, 0.3), 0px 1px 3px 1px rgba(60, 64, 67, 0.15);\n",
              "      fill: #174EA6;\n",
              "    }\n",
              "\n",
              "    [theme=dark] .colab-df-convert {\n",
              "      background-color: #3B4455;\n",
              "      fill: #D2E3FC;\n",
              "    }\n",
              "\n",
              "    [theme=dark] .colab-df-convert:hover {\n",
              "      background-color: #434B5C;\n",
              "      box-shadow: 0px 1px 3px 1px rgba(0, 0, 0, 0.15);\n",
              "      filter: drop-shadow(0px 1px 2px rgba(0, 0, 0, 0.3));\n",
              "      fill: #FFFFFF;\n",
              "    }\n",
              "  </style>\n",
              "\n",
              "      <script>\n",
              "        const buttonEl =\n",
              "          document.querySelector('#df-89248d55-9678-464e-9c67-afc691520440 button.colab-df-convert');\n",
              "        buttonEl.style.display =\n",
              "          google.colab.kernel.accessAllowed ? 'block' : 'none';\n",
              "\n",
              "        async function convertToInteractive(key) {\n",
              "          const element = document.querySelector('#df-89248d55-9678-464e-9c67-afc691520440');\n",
              "          const dataTable =\n",
              "            await google.colab.kernel.invokeFunction('convertToInteractive',\n",
              "                                                     [key], {});\n",
              "          if (!dataTable) return;\n",
              "\n",
              "          const docLinkHtml = 'Like what you see? Visit the ' +\n",
              "            '<a target=\"_blank\" href=https://colab.research.google.com/notebooks/data_table.ipynb>data table notebook</a>'\n",
              "            + ' to learn more about interactive tables.';\n",
              "          element.innerHTML = '';\n",
              "          dataTable['output_type'] = 'display_data';\n",
              "          await google.colab.output.renderOutput(dataTable, element);\n",
              "          const docLink = document.createElement('div');\n",
              "          docLink.innerHTML = docLinkHtml;\n",
              "          element.appendChild(docLink);\n",
              "        }\n",
              "      </script>\n",
              "    </div>\n",
              "  </div>\n",
              "  "
            ]
          },
          "metadata": {},
          "execution_count": 49
        }
      ],
      "source": [
        "df_plot = df4.groupby ('servico_suporte_tecnico'). churn.mean (). reset_index () \n",
        "df_plot"
      ]
    },
    {
      "cell_type": "code",
      "execution_count": 50,
      "metadata": {
        "colab": {
          "base_uri": "https://localhost:8080/",
          "height": 0
        },
        "id": "Lq3or1Gaj2E8",
        "outputId": "114a1178-6996-49ec-97be-8be70952d65b"
      },
      "outputs": [
        {
          "output_type": "display_data",
          "data": {
            "text/plain": [
              "<Figure size 432x288 with 1 Axes>"
            ],
            "image/png": "[encoded data removed]"
          },
          "metadata": {
            "needs_background": "light"
          }
        }
      ],
      "source": [
        "x =df_plot['servico_suporte_tecnico']\n",
        "y=df_plot['churn']\n",
        "plt.bar(x,y,color=cols);\n",
        "plt.title('Taxa de Churn em relação ao Servico Suporte Tecnico');\n",
        "plt.xlabel('ServicoSuporteTecnico');\n",
        "plt.ylabel('Taxa de Churn');"
      ]
    },
    {
      "cell_type": "markdown",
      "metadata": {
        "id": "aUjgI4bOj2E8"
      },
      "source": [
        "### **H12.** A taxa de evasão de clientes que utilizam serviço streaming é maior.\n",
        "**FALSA** Podemos observar que a taxa de evasão de clientes que nao utilizam o serviço streaming TV é 4% maior em relação a que utilizam."
      ]
    },
    {
      "cell_type": "code",
      "execution_count": 51,
      "metadata": {
        "colab": {
          "base_uri": "https://localhost:8080/",
          "height": 0
        },
        "id": "DNbAH7P6j2E9",
        "outputId": "99f3bbed-6ce6-46e0-9175-47498bee49bb"
      },
      "outputs": [
        {
          "output_type": "execute_result",
          "data": {
            "text/plain": [
              "  servico_streaming_tv     churn\n",
              "0                  Nao  0.334590\n",
              "1          SemInternet  0.077103\n",
              "2                  Sim  0.299305"
            ],
            "text/html": [
              "\n",
              "  <div id=\"df-b75e8cd4-2e13-4182-869a-3fa9a7cf71f4\">\n",
              "    <div class=\"colab-df-container\">\n",
              "      <div>\n",
              "<style scoped>\n",
              "    .dataframe tbody tr th:only-of-type {\n",
              "        vertical-align: middle;\n",
              "    }\n",
              "\n",
              "    .dataframe tbody tr th {\n",
              "        vertical-align: top;\n",
              "    }\n",
              "\n",
              "    .dataframe thead th {\n",
              "        text-align: right;\n",
              "    }\n",
              "</style>\n",
              "<table border=\"1\" class=\"dataframe\">\n",
              "  <thead>\n",
              "    <tr style=\"text-align: right;\">\n",
              "      <th></th>\n",
              "      <th>servico_streaming_tv</th>\n",
              "      <th>churn</th>\n",
              "    </tr>\n",
              "  </thead>\n",
              "  <tbody>\n",
              "    <tr>\n",
              "      <th>0</th>\n",
              "      <td>Nao</td>\n",
              "      <td>0.334590</td>\n",
              "    </tr>\n",
              "    <tr>\n",
              "      <th>1</th>\n",
              "      <td>SemInternet</td>\n",
              "      <td>0.077103</td>\n",
              "    </tr>\n",
              "    <tr>\n",
              "      <th>2</th>\n",
              "      <td>Sim</td>\n",
              "      <td>0.299305</td>\n",
              "    </tr>\n",
              "  </tbody>\n",
              "</table>\n",
              "</div>\n",
              "      <button class=\"colab-df-convert\" onclick=\"convertToInteractive('df-b75e8cd4-2e13-4182-869a-3fa9a7cf71f4')\"\n",
              "              title=\"Convert this dataframe to an interactive table.\"\n",
              "              style=\"display:none;\">\n",
              "        \n",
              "  <svg xmlns=\"http://www.w3.org/2000/svg\" height=\"24px\"viewBox=\"0 0 24 24\"\n",
              "       width=\"24px\">\n",
              "    <path d=\"M0 0h24v24H0V0z\" fill=\"none\"/>\n",
              "    <path d=\"M18.56 5.44l.94 2.06.94-2.06 2.06-.94-2.06-.94-.94-2.06-.94 2.06-2.06.94zm-11 1L8.5 8.5l.94-2.06 2.06-.94-2.06-.94L8.5 2.5l-.94 2.06-2.06.94zm10 10l.94 2.06.94-2.06 2.06-.94-2.06-.94-.94-2.06-.94 2.06-2.06.94z\"/><path d=\"M17.41 7.96l-1.37-1.37c-.4-.4-.92-.59-1.43-.59-.52 0-1.04.2-1.43.59L10.3 9.45l-7.72 7.72c-.78.78-.78 2.05 0 2.83L4 21.41c.39.39.9.59 1.41.59.51 0 1.02-.2 1.41-.59l7.78-7.78 2.81-2.81c.8-.78.8-2.07 0-2.86zM5.41 20L4 18.59l7.72-7.72 1.47 1.35L5.41 20z\"/>\n",
              "  </svg>\n",
              "      </button>\n",
              "      \n",
              "  <style>\n",
              "    .colab-df-container {\n",
              "      display:flex;\n",
              "      flex-wrap:wrap;\n",
              "      gap: 12px;\n",
              "    }\n",
              "\n",
              "    .colab-df-convert {\n",
              "      background-color: #E8F0FE;\n",
              "      border: none;\n",
              "      border-radius: 50%;\n",
              "      cursor: pointer;\n",
              "      display: none;\n",
              "      fill: #1967D2;\n",
              "      height: 32px;\n",
              "      padding: 0 0 0 0;\n",
              "      width: 32px;\n",
              "    }\n",
              "\n",
              "    .colab-df-convert:hover {\n",
              "      background-color: #E2EBFA;\n",
              "      box-shadow: 0px 1px 2px rgba(60, 64, 67, 0.3), 0px 1px 3px 1px rgba(60, 64, 67, 0.15);\n",
              "      fill: #174EA6;\n",
              "    }\n",
              "\n",
              "    [theme=dark] .colab-df-convert {\n",
              "      background-color: #3B4455;\n",
              "      fill: #D2E3FC;\n",
              "    }\n",
              "\n",
              "    [theme=dark] .colab-df-convert:hover {\n",
              "      background-color: #434B5C;\n",
              "      box-shadow: 0px 1px 3px 1px rgba(0, 0, 0, 0.15);\n",
              "      filter: drop-shadow(0px 1px 2px rgba(0, 0, 0, 0.3));\n",
              "      fill: #FFFFFF;\n",
              "    }\n",
              "  </style>\n",
              "\n",
              "      <script>\n",
              "        const buttonEl =\n",
              "          document.querySelector('#df-b75e8cd4-2e13-4182-869a-3fa9a7cf71f4 button.colab-df-convert');\n",
              "        buttonEl.style.display =\n",
              "          google.colab.kernel.accessAllowed ? 'block' : 'none';\n",
              "\n",
              "        async function convertToInteractive(key) {\n",
              "          const element = document.querySelector('#df-b75e8cd4-2e13-4182-869a-3fa9a7cf71f4');\n",
              "          const dataTable =\n",
              "            await google.colab.kernel.invokeFunction('convertToInteractive',\n",
              "                                                     [key], {});\n",
              "          if (!dataTable) return;\n",
              "\n",
              "          const docLinkHtml = 'Like what you see? Visit the ' +\n",
              "            '<a target=\"_blank\" href=https://colab.research.google.com/notebooks/data_table.ipynb>data table notebook</a>'\n",
              "            + ' to learn more about interactive tables.';\n",
              "          element.innerHTML = '';\n",
              "          dataTable['output_type'] = 'display_data';\n",
              "          await google.colab.output.renderOutput(dataTable, element);\n",
              "          const docLink = document.createElement('div');\n",
              "          docLink.innerHTML = docLinkHtml;\n",
              "          element.appendChild(docLink);\n",
              "        }\n",
              "      </script>\n",
              "    </div>\n",
              "  </div>\n",
              "  "
            ]
          },
          "metadata": {},
          "execution_count": 51
        }
      ],
      "source": [
        "df_plot = df4.groupby ('servico_streaming_tv'). churn.mean (). reset_index () \n",
        "df_plot"
      ]
    },
    {
      "cell_type": "code",
      "execution_count": 52,
      "metadata": {
        "colab": {
          "base_uri": "https://localhost:8080/",
          "height": 0
        },
        "id": "A-KRzuPQj2E9",
        "outputId": "12c4a358-f86a-49f1-b56e-9347bfd62e4b"
      },
      "outputs": [
        {
          "output_type": "display_data",
          "data": {
            "text/plain": [
              "<Figure size 432x288 with 1 Axes>"
            ],
            "image/png": "[encoded data removed]"
          },
          "metadata": {
            "needs_background": "light"
          }
        }
      ],
      "source": [
        "x =df_plot['servico_streaming_tv']\n",
        "y=df_plot['churn']\n",
        "plt.bar(x,y,color=cols);\n",
        "plt.title('Taxa de Churn em relação ao Servico Streaming TV');\n",
        "plt.xlabel('ServicoStreamingTV');\n",
        "plt.ylabel('Taxa de Churn');"
      ]
    },
    {
      "cell_type": "markdown",
      "metadata": {
        "id": "1mHfCrPAj2E-"
      },
      "source": [
        "### **H13.** A taxa de evasão de clientes que utilizam serviço de filme é maior.\n",
        "**FALSA** Podemos observar que a evasão de clientes que não utilizam o serviço de filme é de 3% maior das que fazem uso do serviço de filmes."
      ]
    },
    {
      "cell_type": "code",
      "execution_count": 53,
      "metadata": {
        "colab": {
          "base_uri": "https://localhost:8080/",
          "height": 0
        },
        "id": "rUwD_7mSj2E_",
        "outputId": "2afa66c6-fada-4302-89b4-07e5cfae58a9"
      },
      "outputs": [
        {
          "output_type": "execute_result",
          "data": {
            "text/plain": [
              "  servico_filmes     churn\n",
              "0            Nao  0.336592\n",
              "1    SemInternet  0.077103\n",
              "2            Sim  0.297818"
            ],
            "text/html": [
              "\n",
              "  <div id=\"df-948f6bca-4c04-4689-84eb-ab7c6df2f1bc\">\n",
              "    <div class=\"colab-df-container\">\n",
              "      <div>\n",
              "<style scoped>\n",
              "    .dataframe tbody tr th:only-of-type {\n",
              "        vertical-align: middle;\n",
              "    }\n",
              "\n",
              "    .dataframe tbody tr th {\n",
              "        vertical-align: top;\n",
              "    }\n",
              "\n",
              "    .dataframe thead th {\n",
              "        text-align: right;\n",
              "    }\n",
              "</style>\n",
              "<table border=\"1\" class=\"dataframe\">\n",
              "  <thead>\n",
              "    <tr style=\"text-align: right;\">\n",
              "      <th></th>\n",
              "      <th>servico_filmes</th>\n",
              "      <th>churn</th>\n",
              "    </tr>\n",
              "  </thead>\n",
              "  <tbody>\n",
              "    <tr>\n",
              "      <th>0</th>\n",
              "      <td>Nao</td>\n",
              "      <td>0.336592</td>\n",
              "    </tr>\n",
              "    <tr>\n",
              "      <th>1</th>\n",
              "      <td>SemInternet</td>\n",
              "      <td>0.077103</td>\n",
              "    </tr>\n",
              "    <tr>\n",
              "      <th>2</th>\n",
              "      <td>Sim</td>\n",
              "      <td>0.297818</td>\n",
              "    </tr>\n",
              "  </tbody>\n",
              "</table>\n",
              "</div>\n",
              "      <button class=\"colab-df-convert\" onclick=\"convertToInteractive('df-948f6bca-4c04-4689-84eb-ab7c6df2f1bc')\"\n",
              "              title=\"Convert this dataframe to an interactive table.\"\n",
              "              style=\"display:none;\">\n",
              "        \n",
              "  <svg xmlns=\"http://www.w3.org/2000/svg\" height=\"24px\"viewBox=\"0 0 24 24\"\n",
              "       width=\"24px\">\n",
              "    <path d=\"M0 0h24v24H0V0z\" fill=\"none\"/>\n",
              "    <path d=\"M18.56 5.44l.94 2.06.94-2.06 2.06-.94-2.06-.94-.94-2.06-.94 2.06-2.06.94zm-11 1L8.5 8.5l.94-2.06 2.06-.94-2.06-.94L8.5 2.5l-.94 2.06-2.06.94zm10 10l.94 2.06.94-2.06 2.06-.94-2.06-.94-.94-2.06-.94 2.06-2.06.94z\"/><path d=\"M17.41 7.96l-1.37-1.37c-.4-.4-.92-.59-1.43-.59-.52 0-1.04.2-1.43.59L10.3 9.45l-7.72 7.72c-.78.78-.78 2.05 0 2.83L4 21.41c.39.39.9.59 1.41.59.51 0 1.02-.2 1.41-.59l7.78-7.78 2.81-2.81c.8-.78.8-2.07 0-2.86zM5.41 20L4 18.59l7.72-7.72 1.47 1.35L5.41 20z\"/>\n",
              "  </svg>\n",
              "      </button>\n",
              "      \n",
              "  <style>\n",
              "    .colab-df-container {\n",
              "      display:flex;\n",
              "      flex-wrap:wrap;\n",
              "      gap: 12px;\n",
              "    }\n",
              "\n",
              "    .colab-df-convert {\n",
              "      background-color: #E8F0FE;\n",
              "      border: none;\n",
              "      border-radius: 50%;\n",
              "      cursor: pointer;\n",
              "      display: none;\n",
              "      fill: #1967D2;\n",
              "      height: 32px;\n",
              "      padding: 0 0 0 0;\n",
              "      width: 32px;\n",
              "    }\n",
              "\n",
              "    .colab-df-convert:hover {\n",
              "      background-color: #E2EBFA;\n",
              "      box-shadow: 0px 1px 2px rgba(60, 64, 67, 0.3), 0px 1px 3px 1px rgba(60, 64, 67, 0.15);\n",
              "      fill: #174EA6;\n",
              "    }\n",
              "\n",
              "    [theme=dark] .colab-df-convert {\n",
              "      background-color: #3B4455;\n",
              "      fill: #D2E3FC;\n",
              "    }\n",
              "\n",
              "    [theme=dark] .colab-df-convert:hover {\n",
              "      background-color: #434B5C;\n",
              "      box-shadow: 0px 1px 3px 1px rgba(0, 0, 0, 0.15);\n",
              "      filter: drop-shadow(0px 1px 2px rgba(0, 0, 0, 0.3));\n",
              "      fill: #FFFFFF;\n",
              "    }\n",
              "  </style>\n",
              "\n",
              "      <script>\n",
              "        const buttonEl =\n",
              "          document.querySelector('#df-948f6bca-4c04-4689-84eb-ab7c6df2f1bc button.colab-df-convert');\n",
              "        buttonEl.style.display =\n",
              "          google.colab.kernel.accessAllowed ? 'block' : 'none';\n",
              "\n",
              "        async function convertToInteractive(key) {\n",
              "          const element = document.querySelector('#df-948f6bca-4c04-4689-84eb-ab7c6df2f1bc');\n",
              "          const dataTable =\n",
              "            await google.colab.kernel.invokeFunction('convertToInteractive',\n",
              "                                                     [key], {});\n",
              "          if (!dataTable) return;\n",
              "\n",
              "          const docLinkHtml = 'Like what you see? Visit the ' +\n",
              "            '<a target=\"_blank\" href=https://colab.research.google.com/notebooks/data_table.ipynb>data table notebook</a>'\n",
              "            + ' to learn more about interactive tables.';\n",
              "          element.innerHTML = '';\n",
              "          dataTable['output_type'] = 'display_data';\n",
              "          await google.colab.output.renderOutput(dataTable, element);\n",
              "          const docLink = document.createElement('div');\n",
              "          docLink.innerHTML = docLinkHtml;\n",
              "          element.appendChild(docLink);\n",
              "        }\n",
              "      </script>\n",
              "    </div>\n",
              "  </div>\n",
              "  "
            ]
          },
          "metadata": {},
          "execution_count": 53
        }
      ],
      "source": [
        "df_plot = df4.groupby ('servico_filmes'). churn.mean (). reset_index () \n",
        "df_plot"
      ]
    },
    {
      "cell_type": "code",
      "execution_count": 54,
      "metadata": {
        "colab": {
          "base_uri": "https://localhost:8080/",
          "height": 0
        },
        "id": "EACWJoV-j2E_",
        "outputId": "4f482605-1fd0-4827-ab30-f76a5511a47c"
      },
      "outputs": [
        {
          "output_type": "display_data",
          "data": {
            "text/plain": [
              "<Figure size 432x288 with 1 Axes>"
            ],
            "image/png": "[encoded data removed]"
          },
          "metadata": {
            "needs_background": "light"
          }
        }
      ],
      "source": [
        "x =df_plot['servico_filmes']\n",
        "y=df_plot['churn']\n",
        "plt.bar(x,y,color=cols);\n",
        "plt.title('Taxa de Churn em relação ao Servico Filmes');\n",
        "plt.xlabel('ServicoFilmes');\n",
        "plt.ylabel('Taxa de Churn');"
      ]
    },
    {
      "cell_type": "markdown",
      "metadata": {
        "id": "1mIkrC1Lj2FA"
      },
      "source": [
        "### **H14.** A taxa de evasão de clientes com tipo de contrato anual é maior.\n",
        "**FALSA** Podemos observar que a evasão de clientes que fazem uso pelo tipo de contrato mensal é maior em relação aos demais tipos."
      ]
    },
    {
      "cell_type": "code",
      "execution_count": 55,
      "metadata": {
        "colab": {
          "base_uri": "https://localhost:8080/",
          "height": 0
        },
        "id": "8chD1k2uj2FB",
        "outputId": "8b9f30d9-5c76-4487-a41a-ea3c6c7ca6d0"
      },
      "outputs": [
        {
          "output_type": "execute_result",
          "data": {
            "text/plain": [
              "  tipo_contrato     churn\n",
              "0        2 anos  0.028671\n",
              "1         Anual  0.116078\n",
              "2        Mensal  0.427654"
            ],
            "text/html": [
              "\n",
              "  <div id=\"df-2f36c1c3-68c6-4d29-acc4-dda49e2debe0\">\n",
              "    <div class=\"colab-df-container\">\n",
              "      <div>\n",
              "<style scoped>\n",
              "    .dataframe tbody tr th:only-of-type {\n",
              "        vertical-align: middle;\n",
              "    }\n",
              "\n",
              "    .dataframe tbody tr th {\n",
              "        vertical-align: top;\n",
              "    }\n",
              "\n",
              "    .dataframe thead th {\n",
              "        text-align: right;\n",
              "    }\n",
              "</style>\n",
              "<table border=\"1\" class=\"dataframe\">\n",
              "  <thead>\n",
              "    <tr style=\"text-align: right;\">\n",
              "      <th></th>\n",
              "      <th>tipo_contrato</th>\n",
              "      <th>churn</th>\n",
              "    </tr>\n",
              "  </thead>\n",
              "  <tbody>\n",
              "    <tr>\n",
              "      <th>0</th>\n",
              "      <td>2 anos</td>\n",
              "      <td>0.028671</td>\n",
              "    </tr>\n",
              "    <tr>\n",
              "      <th>1</th>\n",
              "      <td>Anual</td>\n",
              "      <td>0.116078</td>\n",
              "    </tr>\n",
              "    <tr>\n",
              "      <th>2</th>\n",
              "      <td>Mensal</td>\n",
              "      <td>0.427654</td>\n",
              "    </tr>\n",
              "  </tbody>\n",
              "</table>\n",
              "</div>\n",
              "      <button class=\"colab-df-convert\" onclick=\"convertToInteractive('df-2f36c1c3-68c6-4d29-acc4-dda49e2debe0')\"\n",
              "              title=\"Convert this dataframe to an interactive table.\"\n",
              "              style=\"display:none;\">\n",
              "        \n",
              "  <svg xmlns=\"http://www.w3.org/2000/svg\" height=\"24px\"viewBox=\"0 0 24 24\"\n",
              "       width=\"24px\">\n",
              "    <path d=\"M0 0h24v24H0V0z\" fill=\"none\"/>\n",
              "    <path d=\"M18.56 5.44l.94 2.06.94-2.06 2.06-.94-2.06-.94-.94-2.06-.94 2.06-2.06.94zm-11 1L8.5 8.5l.94-2.06 2.06-.94-2.06-.94L8.5 2.5l-.94 2.06-2.06.94zm10 10l.94 2.06.94-2.06 2.06-.94-2.06-.94-.94-2.06-.94 2.06-2.06.94z\"/><path d=\"M17.41 7.96l-1.37-1.37c-.4-.4-.92-.59-1.43-.59-.52 0-1.04.2-1.43.59L10.3 9.45l-7.72 7.72c-.78.78-.78 2.05 0 2.83L4 21.41c.39.39.9.59 1.41.59.51 0 1.02-.2 1.41-.59l7.78-7.78 2.81-2.81c.8-.78.8-2.07 0-2.86zM5.41 20L4 18.59l7.72-7.72 1.47 1.35L5.41 20z\"/>\n",
              "  </svg>\n",
              "      </button>\n",
              "      \n",
              "  <style>\n",
              "    .colab-df-container {\n",
              "      display:flex;\n",
              "      flex-wrap:wrap;\n",
              "      gap: 12px;\n",
              "    }\n",
              "\n",
              "    .colab-df-convert {\n",
              "      background-color: #E8F0FE;\n",
              "      border: none;\n",
              "      border-radius: 50%;\n",
              "      cursor: pointer;\n",
              "      display: none;\n",
              "      fill: #1967D2;\n",
              "      height: 32px;\n",
              "      padding: 0 0 0 0;\n",
              "      width: 32px;\n",
              "    }\n",
              "\n",
              "    .colab-df-convert:hover {\n",
              "      background-color: #E2EBFA;\n",
              "      box-shadow: 0px 1px 2px rgba(60, 64, 67, 0.3), 0px 1px 3px 1px rgba(60, 64, 67, 0.15);\n",
              "      fill: #174EA6;\n",
              "    }\n",
              "\n",
              "    [theme=dark] .colab-df-convert {\n",
              "      background-color: #3B4455;\n",
              "      fill: #D2E3FC;\n",
              "    }\n",
              "\n",
              "    [theme=dark] .colab-df-convert:hover {\n",
              "      background-color: #434B5C;\n",
              "      box-shadow: 0px 1px 3px 1px rgba(0, 0, 0, 0.15);\n",
              "      filter: drop-shadow(0px 1px 2px rgba(0, 0, 0, 0.3));\n",
              "      fill: #FFFFFF;\n",
              "    }\n",
              "  </style>\n",
              "\n",
              "      <script>\n",
              "        const buttonEl =\n",
              "          document.querySelector('#df-2f36c1c3-68c6-4d29-acc4-dda49e2debe0 button.colab-df-convert');\n",
              "        buttonEl.style.display =\n",
              "          google.colab.kernel.accessAllowed ? 'block' : 'none';\n",
              "\n",
              "        async function convertToInteractive(key) {\n",
              "          const element = document.querySelector('#df-2f36c1c3-68c6-4d29-acc4-dda49e2debe0');\n",
              "          const dataTable =\n",
              "            await google.colab.kernel.invokeFunction('convertToInteractive',\n",
              "                                                     [key], {});\n",
              "          if (!dataTable) return;\n",
              "\n",
              "          const docLinkHtml = 'Like what you see? Visit the ' +\n",
              "            '<a target=\"_blank\" href=https://colab.research.google.com/notebooks/data_table.ipynb>data table notebook</a>'\n",
              "            + ' to learn more about interactive tables.';\n",
              "          element.innerHTML = '';\n",
              "          dataTable['output_type'] = 'display_data';\n",
              "          await google.colab.output.renderOutput(dataTable, element);\n",
              "          const docLink = document.createElement('div');\n",
              "          docLink.innerHTML = docLinkHtml;\n",
              "          element.appendChild(docLink);\n",
              "        }\n",
              "      </script>\n",
              "    </div>\n",
              "  </div>\n",
              "  "
            ]
          },
          "metadata": {},
          "execution_count": 55
        }
      ],
      "source": [
        "df_plot = df4.groupby ('tipo_contrato'). churn.mean (). reset_index () \n",
        "df_plot"
      ]
    },
    {
      "cell_type": "code",
      "execution_count": 56,
      "metadata": {
        "colab": {
          "base_uri": "https://localhost:8080/",
          "height": 0
        },
        "id": "mEY8nRdAj2FC",
        "outputId": "8674f7b5-c756-47a3-a5f0-c4935d37cbc1"
      },
      "outputs": [
        {
          "output_type": "display_data",
          "data": {
            "text/plain": [
              "<Figure size 432x288 with 1 Axes>"
            ],
            "image/png": "[encoded data removed]"
          },
          "metadata": {
            "needs_background": "light"
          }
        }
      ],
      "source": [
        "x =df_plot['tipo_contrato']\n",
        "y=df_plot['churn']\n",
        "plt.bar(x,y,color=cols);\n",
        "plt.title('Taxa de Churn em relação ao Tipo Contrato');\n",
        "plt.xlabel('TipoContrato');\n",
        "plt.ylabel('Taxa de Churn');"
      ]
    },
    {
      "cell_type": "markdown",
      "metadata": {
        "id": "EIg22ACLj2FD"
      },
      "source": [
        "### **H15.** A taxa de evasão de clientes com fatura digital é maior.\n",
        "**VERDADEIRA** Observamos que a a taxa de evasão de clientes que utilizam-se fatura digital é duas vezes maior daquelas que não fazem uso."
      ]
    },
    {
      "cell_type": "code",
      "execution_count": 57,
      "metadata": {
        "colab": {
          "base_uri": "https://localhost:8080/",
          "height": 0
        },
        "id": "kn_8ynVdj2FE",
        "outputId": "c09c0a08-72f3-457a-b1bb-c386e789e718"
      },
      "outputs": [
        {
          "output_type": "execute_result",
          "data": {
            "text/plain": [
              "  fatura_digital     churn\n",
              "0            Nao  0.165647\n",
              "1            Sim  0.335226"
            ],
            "text/html": [
              "\n",
              "  <div id=\"df-fa53d285-bb6a-40be-aa8c-07cb62030c73\">\n",
              "    <div class=\"colab-df-container\">\n",
              "      <div>\n",
              "<style scoped>\n",
              "    .dataframe tbody tr th:only-of-type {\n",
              "        vertical-align: middle;\n",
              "    }\n",
              "\n",
              "    .dataframe tbody tr th {\n",
              "        vertical-align: top;\n",
              "    }\n",
              "\n",
              "    .dataframe thead th {\n",
              "        text-align: right;\n",
              "    }\n",
              "</style>\n",
              "<table border=\"1\" class=\"dataframe\">\n",
              "  <thead>\n",
              "    <tr style=\"text-align: right;\">\n",
              "      <th></th>\n",
              "      <th>fatura_digital</th>\n",
              "      <th>churn</th>\n",
              "    </tr>\n",
              "  </thead>\n",
              "  <tbody>\n",
              "    <tr>\n",
              "      <th>0</th>\n",
              "      <td>Nao</td>\n",
              "      <td>0.165647</td>\n",
              "    </tr>\n",
              "    <tr>\n",
              "      <th>1</th>\n",
              "      <td>Sim</td>\n",
              "      <td>0.335226</td>\n",
              "    </tr>\n",
              "  </tbody>\n",
              "</table>\n",
              "</div>\n",
              "      <button class=\"colab-df-convert\" onclick=\"convertToInteractive('df-fa53d285-bb6a-40be-aa8c-07cb62030c73')\"\n",
              "              title=\"Convert this dataframe to an interactive table.\"\n",
              "              style=\"display:none;\">\n",
              "        \n",
              "  <svg xmlns=\"http://www.w3.org/2000/svg\" height=\"24px\"viewBox=\"0 0 24 24\"\n",
              "       width=\"24px\">\n",
              "    <path d=\"M0 0h24v24H0V0z\" fill=\"none\"/>\n",
              "    <path d=\"M18.56 5.44l.94 2.06.94-2.06 2.06-.94-2.06-.94-.94-2.06-.94 2.06-2.06.94zm-11 1L8.5 8.5l.94-2.06 2.06-.94-2.06-.94L8.5 2.5l-.94 2.06-2.06.94zm10 10l.94 2.06.94-2.06 2.06-.94-2.06-.94-.94-2.06-.94 2.06-2.06.94z\"/><path d=\"M17.41 7.96l-1.37-1.37c-.4-.4-.92-.59-1.43-.59-.52 0-1.04.2-1.43.59L10.3 9.45l-7.72 7.72c-.78.78-.78 2.05 0 2.83L4 21.41c.39.39.9.59 1.41.59.51 0 1.02-.2 1.41-.59l7.78-7.78 2.81-2.81c.8-.78.8-2.07 0-2.86zM5.41 20L4 18.59l7.72-7.72 1.47 1.35L5.41 20z\"/>\n",
              "  </svg>\n",
              "      </button>\n",
              "      \n",
              "  <style>\n",
              "    .colab-df-container {\n",
              "      display:flex;\n",
              "      flex-wrap:wrap;\n",
              "      gap: 12px;\n",
              "    }\n",
              "\n",
              "    .colab-df-convert {\n",
              "      background-color: #E8F0FE;\n",
              "      border: none;\n",
              "      border-radius: 50%;\n",
              "      cursor: pointer;\n",
              "      display: none;\n",
              "      fill: #1967D2;\n",
              "      height: 32px;\n",
              "      padding: 0 0 0 0;\n",
              "      width: 32px;\n",
              "    }\n",
              "\n",
              "    .colab-df-convert:hover {\n",
              "      background-color: #E2EBFA;\n",
              "      box-shadow: 0px 1px 2px rgba(60, 64, 67, 0.3), 0px 1px 3px 1px rgba(60, 64, 67, 0.15);\n",
              "      fill: #174EA6;\n",
              "    }\n",
              "\n",
              "    [theme=dark] .colab-df-convert {\n",
              "      background-color: #3B4455;\n",
              "      fill: #D2E3FC;\n",
              "    }\n",
              "\n",
              "    [theme=dark] .colab-df-convert:hover {\n",
              "      background-color: #434B5C;\n",
              "      box-shadow: 0px 1px 3px 1px rgba(0, 0, 0, 0.15);\n",
              "      filter: drop-shadow(0px 1px 2px rgba(0, 0, 0, 0.3));\n",
              "      fill: #FFFFFF;\n",
              "    }\n",
              "  </style>\n",
              "\n",
              "      <script>\n",
              "        const buttonEl =\n",
              "          document.querySelector('#df-fa53d285-bb6a-40be-aa8c-07cb62030c73 button.colab-df-convert');\n",
              "        buttonEl.style.display =\n",
              "          google.colab.kernel.accessAllowed ? 'block' : 'none';\n",
              "\n",
              "        async function convertToInteractive(key) {\n",
              "          const element = document.querySelector('#df-fa53d285-bb6a-40be-aa8c-07cb62030c73');\n",
              "          const dataTable =\n",
              "            await google.colab.kernel.invokeFunction('convertToInteractive',\n",
              "                                                     [key], {});\n",
              "          if (!dataTable) return;\n",
              "\n",
              "          const docLinkHtml = 'Like what you see? Visit the ' +\n",
              "            '<a target=\"_blank\" href=https://colab.research.google.com/notebooks/data_table.ipynb>data table notebook</a>'\n",
              "            + ' to learn more about interactive tables.';\n",
              "          element.innerHTML = '';\n",
              "          dataTable['output_type'] = 'display_data';\n",
              "          await google.colab.output.renderOutput(dataTable, element);\n",
              "          const docLink = document.createElement('div');\n",
              "          docLink.innerHTML = docLinkHtml;\n",
              "          element.appendChild(docLink);\n",
              "        }\n",
              "      </script>\n",
              "    </div>\n",
              "  </div>\n",
              "  "
            ]
          },
          "metadata": {},
          "execution_count": 57
        }
      ],
      "source": [
        "df_plot = df4.groupby ('fatura_digital'). churn.mean (). reset_index () \n",
        "df_plot"
      ]
    },
    {
      "cell_type": "code",
      "execution_count": 58,
      "metadata": {
        "colab": {
          "base_uri": "https://localhost:8080/",
          "height": 0
        },
        "id": "Zfl_j0uEj2FF",
        "outputId": "9fafb57f-9194-4daf-80a7-a0a80d15333b"
      },
      "outputs": [
        {
          "output_type": "display_data",
          "data": {
            "text/plain": [
              "<Figure size 432x288 with 1 Axes>"
            ],
            "image/png": "[encoded data removed]"
          },
          "metadata": {
            "needs_background": "light"
          }
        }
      ],
      "source": [
        "x =df_plot['fatura_digital']\n",
        "y=df_plot['churn']\n",
        "plt.bar(x,y,color=cols);\n",
        "plt.title('Taxa de Churn em relação a Fatura Digital');\n",
        "plt.xlabel('FaturaDigital');\n",
        "plt.ylabel('Taxa de Churn');"
      ]
    },
    {
      "cell_type": "markdown",
      "metadata": {
        "id": "zLDdTsnOj2FH"
      },
      "source": [
        "### **H16.** A taxa de evasão de clientes por boleto eletrônico é maior.\n",
        "**VERDADEIRA** Podemos observar que a taxa de evasão de clientes com boleto eletrônico é maior daqueles que utilizam de outras formas de pagamento."
      ]
    },
    {
      "cell_type": "code",
      "execution_count": 59,
      "metadata": {
        "colab": {
          "base_uri": "https://localhost:8080/",
          "height": 0
        },
        "id": "ZP5HIBz_j2FH",
        "outputId": "e8f65f2a-45a6-4025-81fd-fe3e075b8370"
      },
      "outputs": [
        {
          "output_type": "execute_result",
          "data": {
            "text/plain": [
              "    forma_pagamento     churn\n",
              "0  BoletoEletronico  0.449651\n",
              "1    BoletoImpresso  0.193240\n",
              "2     CartaoCredito  0.152074\n",
              "3  DebitoAutomatico  0.171648"
            ],
            "text/html": [
              "\n",
              "  <div id=\"df-9d54470c-4eb8-40a7-a816-8b562eef3555\">\n",
              "    <div class=\"colab-df-container\">\n",
              "      <div>\n",
              "<style scoped>\n",
              "    .dataframe tbody tr th:only-of-type {\n",
              "        vertical-align: middle;\n",
              "    }\n",
              "\n",
              "    .dataframe tbody tr th {\n",
              "        vertical-align: top;\n",
              "    }\n",
              "\n",
              "    .dataframe thead th {\n",
              "        text-align: right;\n",
              "    }\n",
              "</style>\n",
              "<table border=\"1\" class=\"dataframe\">\n",
              "  <thead>\n",
              "    <tr style=\"text-align: right;\">\n",
              "      <th></th>\n",
              "      <th>forma_pagamento</th>\n",
              "      <th>churn</th>\n",
              "    </tr>\n",
              "  </thead>\n",
              "  <tbody>\n",
              "    <tr>\n",
              "      <th>0</th>\n",
              "      <td>BoletoEletronico</td>\n",
              "      <td>0.449651</td>\n",
              "    </tr>\n",
              "    <tr>\n",
              "      <th>1</th>\n",
              "      <td>BoletoImpresso</td>\n",
              "      <td>0.193240</td>\n",
              "    </tr>\n",
              "    <tr>\n",
              "      <th>2</th>\n",
              "      <td>CartaoCredito</td>\n",
              "      <td>0.152074</td>\n",
              "    </tr>\n",
              "    <tr>\n",
              "      <th>3</th>\n",
              "      <td>DebitoAutomatico</td>\n",
              "      <td>0.171648</td>\n",
              "    </tr>\n",
              "  </tbody>\n",
              "</table>\n",
              "</div>\n",
              "      <button class=\"colab-df-convert\" onclick=\"convertToInteractive('df-9d54470c-4eb8-40a7-a816-8b562eef3555')\"\n",
              "              title=\"Convert this dataframe to an interactive table.\"\n",
              "              style=\"display:none;\">\n",
              "        \n",
              "  <svg xmlns=\"http://www.w3.org/2000/svg\" height=\"24px\"viewBox=\"0 0 24 24\"\n",
              "       width=\"24px\">\n",
              "    <path d=\"M0 0h24v24H0V0z\" fill=\"none\"/>\n",
              "    <path d=\"M18.56 5.44l.94 2.06.94-2.06 2.06-.94-2.06-.94-.94-2.06-.94 2.06-2.06.94zm-11 1L8.5 8.5l.94-2.06 2.06-.94-2.06-.94L8.5 2.5l-.94 2.06-2.06.94zm10 10l.94 2.06.94-2.06 2.06-.94-2.06-.94-.94-2.06-.94 2.06-2.06.94z\"/><path d=\"M17.41 7.96l-1.37-1.37c-.4-.4-.92-.59-1.43-.59-.52 0-1.04.2-1.43.59L10.3 9.45l-7.72 7.72c-.78.78-.78 2.05 0 2.83L4 21.41c.39.39.9.59 1.41.59.51 0 1.02-.2 1.41-.59l7.78-7.78 2.81-2.81c.8-.78.8-2.07 0-2.86zM5.41 20L4 18.59l7.72-7.72 1.47 1.35L5.41 20z\"/>\n",
              "  </svg>\n",
              "      </button>\n",
              "      \n",
              "  <style>\n",
              "    .colab-df-container {\n",
              "      display:flex;\n",
              "      flex-wrap:wrap;\n",
              "      gap: 12px;\n",
              "    }\n",
              "\n",
              "    .colab-df-convert {\n",
              "      background-color: #E8F0FE;\n",
              "      border: none;\n",
              "      border-radius: 50%;\n",
              "      cursor: pointer;\n",
              "      display: none;\n",
              "      fill: #1967D2;\n",
              "      height: 32px;\n",
              "      padding: 0 0 0 0;\n",
              "      width: 32px;\n",
              "    }\n",
              "\n",
              "    .colab-df-convert:hover {\n",
              "      background-color: #E2EBFA;\n",
              "      box-shadow: 0px 1px 2px rgba(60, 64, 67, 0.3), 0px 1px 3px 1px rgba(60, 64, 67, 0.15);\n",
              "      fill: #174EA6;\n",
              "    }\n",
              "\n",
              "    [theme=dark] .colab-df-convert {\n",
              "      background-color: #3B4455;\n",
              "      fill: #D2E3FC;\n",
              "    }\n",
              "\n",
              "    [theme=dark] .colab-df-convert:hover {\n",
              "      background-color: #434B5C;\n",
              "      box-shadow: 0px 1px 3px 1px rgba(0, 0, 0, 0.15);\n",
              "      filter: drop-shadow(0px 1px 2px rgba(0, 0, 0, 0.3));\n",
              "      fill: #FFFFFF;\n",
              "    }\n",
              "  </style>\n",
              "\n",
              "      <script>\n",
              "        const buttonEl =\n",
              "          document.querySelector('#df-9d54470c-4eb8-40a7-a816-8b562eef3555 button.colab-df-convert');\n",
              "        buttonEl.style.display =\n",
              "          google.colab.kernel.accessAllowed ? 'block' : 'none';\n",
              "\n",
              "        async function convertToInteractive(key) {\n",
              "          const element = document.querySelector('#df-9d54470c-4eb8-40a7-a816-8b562eef3555');\n",
              "          const dataTable =\n",
              "            await google.colab.kernel.invokeFunction('convertToInteractive',\n",
              "                                                     [key], {});\n",
              "          if (!dataTable) return;\n",
              "\n",
              "          const docLinkHtml = 'Like what you see? Visit the ' +\n",
              "            '<a target=\"_blank\" href=https://colab.research.google.com/notebooks/data_table.ipynb>data table notebook</a>'\n",
              "            + ' to learn more about interactive tables.';\n",
              "          element.innerHTML = '';\n",
              "          dataTable['output_type'] = 'display_data';\n",
              "          await google.colab.output.renderOutput(dataTable, element);\n",
              "          const docLink = document.createElement('div');\n",
              "          docLink.innerHTML = docLinkHtml;\n",
              "          element.appendChild(docLink);\n",
              "        }\n",
              "      </script>\n",
              "    </div>\n",
              "  </div>\n",
              "  "
            ]
          },
          "metadata": {},
          "execution_count": 59
        }
      ],
      "source": [
        "df_plot = df4.groupby ('forma_pagamento'). churn.mean (). reset_index () \n",
        "df_plot"
      ]
    },
    {
      "cell_type": "code",
      "execution_count": 60,
      "metadata": {
        "colab": {
          "base_uri": "https://localhost:8080/",
          "height": 0
        },
        "id": "FxaNDjpMj2FI",
        "outputId": "0c676e3d-ea39-45aa-9af7-50dbff9d1ebf"
      },
      "outputs": [
        {
          "output_type": "display_data",
          "data": {
            "text/plain": [
              "<Figure size 432x288 with 1 Axes>"
            ],
            "image/png": "[encoded data removed]"
          },
          "metadata": {
            "needs_background": "light"
          }
        }
      ],
      "source": [
        "x =df_plot['forma_pagamento']\n",
        "y=df_plot['churn']\n",
        "plt.bar(x,y,color=cols);\n",
        "plt.title('Taxa de Churn em relação a Forma de Pagamento');\n",
        "plt.xlabel('FormaPagamento');\n",
        "plt.ylabel('Taxa de Churn');"
      ]
    },
    {
      "cell_type": "markdown",
      "metadata": {
        "id": "NFeJDAjqj2FJ"
      },
      "source": [
        "### **H17.** A taxa de evasão de clientes nos primeiros 3 meses é maior.\n",
        "**VERDADEIRA** Podemos observar que a taxa de evasão de clientes nos primeiros 3 meses é maior."
      ]
    },
    {
      "cell_type": "code",
      "execution_count": 61,
      "metadata": {
        "colab": {
          "base_uri": "https://localhost:8080/",
          "height": 0
        },
        "id": "VC-zIw0Lj2FJ",
        "outputId": "70332a5e-eb3b-4277-caec-376b791b5a1d"
      },
      "outputs": [
        {
          "output_type": "execute_result",
          "data": {
            "text/plain": [
              "    meses_como_cliente     churn\n",
              "0                    1  0.623529\n",
              "1                    2  0.536082\n",
              "2                    3  0.485207\n",
              "3                    4  0.474026\n",
              "4                    5  0.468468\n",
              "..                 ...       ...\n",
              "61                  62  0.075758\n",
              "63                  64  0.042254\n",
              "70                  71  0.032895\n",
              "62                  63  0.032258\n",
              "71                  72  0.012987\n",
              "\n",
              "[72 rows x 2 columns]"
            ],
            "text/html": [
              "\n",
              "  <div id=\"df-1f2c9fae-e5cf-4c92-88cb-a675aa36a45c\">\n",
              "    <div class=\"colab-df-container\">\n",
              "      <div>\n",
              "<style scoped>\n",
              "    .dataframe tbody tr th:only-of-type {\n",
              "        vertical-align: middle;\n",
              "    }\n",
              "\n",
              "    .dataframe tbody tr th {\n",
              "        vertical-align: top;\n",
              "    }\n",
              "\n",
              "    .dataframe thead th {\n",
              "        text-align: right;\n",
              "    }\n",
              "</style>\n",
              "<table border=\"1\" class=\"dataframe\">\n",
              "  <thead>\n",
              "    <tr style=\"text-align: right;\">\n",
              "      <th></th>\n",
              "      <th>meses_como_cliente</th>\n",
              "      <th>churn</th>\n",
              "    </tr>\n",
              "  </thead>\n",
              "  <tbody>\n",
              "    <tr>\n",
              "      <th>0</th>\n",
              "      <td>1</td>\n",
              "      <td>0.623529</td>\n",
              "    </tr>\n",
              "    <tr>\n",
              "      <th>1</th>\n",
              "      <td>2</td>\n",
              "      <td>0.536082</td>\n",
              "    </tr>\n",
              "    <tr>\n",
              "      <th>2</th>\n",
              "      <td>3</td>\n",
              "      <td>0.485207</td>\n",
              "    </tr>\n",
              "    <tr>\n",
              "      <th>3</th>\n",
              "      <td>4</td>\n",
              "      <td>0.474026</td>\n",
              "    </tr>\n",
              "    <tr>\n",
              "      <th>4</th>\n",
              "      <td>5</td>\n",
              "      <td>0.468468</td>\n",
              "    </tr>\n",
              "    <tr>\n",
              "      <th>...</th>\n",
              "      <td>...</td>\n",
              "      <td>...</td>\n",
              "    </tr>\n",
              "    <tr>\n",
              "      <th>61</th>\n",
              "      <td>62</td>\n",
              "      <td>0.075758</td>\n",
              "    </tr>\n",
              "    <tr>\n",
              "      <th>63</th>\n",
              "      <td>64</td>\n",
              "      <td>0.042254</td>\n",
              "    </tr>\n",
              "    <tr>\n",
              "      <th>70</th>\n",
              "      <td>71</td>\n",
              "      <td>0.032895</td>\n",
              "    </tr>\n",
              "    <tr>\n",
              "      <th>62</th>\n",
              "      <td>63</td>\n",
              "      <td>0.032258</td>\n",
              "    </tr>\n",
              "    <tr>\n",
              "      <th>71</th>\n",
              "      <td>72</td>\n",
              "      <td>0.012987</td>\n",
              "    </tr>\n",
              "  </tbody>\n",
              "</table>\n",
              "<p>72 rows × 2 columns</p>\n",
              "</div>\n",
              "      <button class=\"colab-df-convert\" onclick=\"convertToInteractive('df-1f2c9fae-e5cf-4c92-88cb-a675aa36a45c')\"\n",
              "              title=\"Convert this dataframe to an interactive table.\"\n",
              "              style=\"display:none;\">\n",
              "        \n",
              "  <svg xmlns=\"http://www.w3.org/2000/svg\" height=\"24px\"viewBox=\"0 0 24 24\"\n",
              "       width=\"24px\">\n",
              "    <path d=\"M0 0h24v24H0V0z\" fill=\"none\"/>\n",
              "    <path d=\"M18.56 5.44l.94 2.06.94-2.06 2.06-.94-2.06-.94-.94-2.06-.94 2.06-2.06.94zm-11 1L8.5 8.5l.94-2.06 2.06-.94-2.06-.94L8.5 2.5l-.94 2.06-2.06.94zm10 10l.94 2.06.94-2.06 2.06-.94-2.06-.94-.94-2.06-.94 2.06-2.06.94z\"/><path d=\"M17.41 7.96l-1.37-1.37c-.4-.4-.92-.59-1.43-.59-.52 0-1.04.2-1.43.59L10.3 9.45l-7.72 7.72c-.78.78-.78 2.05 0 2.83L4 21.41c.39.39.9.59 1.41.59.51 0 1.02-.2 1.41-.59l7.78-7.78 2.81-2.81c.8-.78.8-2.07 0-2.86zM5.41 20L4 18.59l7.72-7.72 1.47 1.35L5.41 20z\"/>\n",
              "  </svg>\n",
              "      </button>\n",
              "      \n",
              "  <style>\n",
              "    .colab-df-container {\n",
              "      display:flex;\n",
              "      flex-wrap:wrap;\n",
              "      gap: 12px;\n",
              "    }\n",
              "\n",
              "    .colab-df-convert {\n",
              "      background-color: #E8F0FE;\n",
              "      border: none;\n",
              "      border-radius: 50%;\n",
              "      cursor: pointer;\n",
              "      display: none;\n",
              "      fill: #1967D2;\n",
              "      height: 32px;\n",
              "      padding: 0 0 0 0;\n",
              "      width: 32px;\n",
              "    }\n",
              "\n",
              "    .colab-df-convert:hover {\n",
              "      background-color: #E2EBFA;\n",
              "      box-shadow: 0px 1px 2px rgba(60, 64, 67, 0.3), 0px 1px 3px 1px rgba(60, 64, 67, 0.15);\n",
              "      fill: #174EA6;\n",
              "    }\n",
              "\n",
              "    [theme=dark] .colab-df-convert {\n",
              "      background-color: #3B4455;\n",
              "      fill: #D2E3FC;\n",
              "    }\n",
              "\n",
              "    [theme=dark] .colab-df-convert:hover {\n",
              "      background-color: #434B5C;\n",
              "      box-shadow: 0px 1px 3px 1px rgba(0, 0, 0, 0.15);\n",
              "      filter: drop-shadow(0px 1px 2px rgba(0, 0, 0, 0.3));\n",
              "      fill: #FFFFFF;\n",
              "    }\n",
              "  </style>\n",
              "\n",
              "      <script>\n",
              "        const buttonEl =\n",
              "          document.querySelector('#df-1f2c9fae-e5cf-4c92-88cb-a675aa36a45c button.colab-df-convert');\n",
              "        buttonEl.style.display =\n",
              "          google.colab.kernel.accessAllowed ? 'block' : 'none';\n",
              "\n",
              "        async function convertToInteractive(key) {\n",
              "          const element = document.querySelector('#df-1f2c9fae-e5cf-4c92-88cb-a675aa36a45c');\n",
              "          const dataTable =\n",
              "            await google.colab.kernel.invokeFunction('convertToInteractive',\n",
              "                                                     [key], {});\n",
              "          if (!dataTable) return;\n",
              "\n",
              "          const docLinkHtml = 'Like what you see? Visit the ' +\n",
              "            '<a target=\"_blank\" href=https://colab.research.google.com/notebooks/data_table.ipynb>data table notebook</a>'\n",
              "            + ' to learn more about interactive tables.';\n",
              "          element.innerHTML = '';\n",
              "          dataTable['output_type'] = 'display_data';\n",
              "          await google.colab.output.renderOutput(dataTable, element);\n",
              "          const docLink = document.createElement('div');\n",
              "          docLink.innerHTML = docLinkHtml;\n",
              "          element.appendChild(docLink);\n",
              "        }\n",
              "      </script>\n",
              "    </div>\n",
              "  </div>\n",
              "  "
            ]
          },
          "metadata": {},
          "execution_count": 61
        }
      ],
      "source": [
        "df_plot = df4.groupby ('meses_como_cliente'). churn.mean (). reset_index () \n",
        "df_plot.sort_values(by='churn', ascending = False)"
      ]
    },
    {
      "cell_type": "code",
      "execution_count": 62,
      "metadata": {
        "colab": {
          "base_uri": "https://localhost:8080/",
          "height": 0
        },
        "id": "nmbnmUMij2FK",
        "outputId": "5e2e3b13-2537-4c79-d766-2f02d77c6048"
      },
      "outputs": [
        {
          "output_type": "display_data",
          "data": {
            "text/plain": [
              "<Figure size 432x288 with 1 Axes>"
            ],
            "image/png": "[encoded data removed]"
          },
          "metadata": {
            "needs_background": "light"
          }
        }
      ],
      "source": [
        "x =df_plot['meses_como_cliente']\n",
        "y=df_plot['churn']\n",
        "plt.bar(x,y,color=cols);\n",
        "plt.title('Taxa de Churn em relação a Meses como Cliente');\n",
        "plt.xlabel('Meses como Cliente');\n",
        "plt.ylabel('Taxa de Churn');"
      ]
    },
    {
      "cell_type": "code",
      "execution_count": 63,
      "metadata": {
        "colab": {
          "base_uri": "https://localhost:8080/",
          "height": 0
        },
        "id": "6_yCo46rj2FL",
        "outputId": "b57c2f22-f3bf-471b-b3aa-fe556c23d983"
      },
      "outputs": [
        {
          "output_type": "execute_result",
          "data": {
            "text/plain": [
              "churn\n",
              "0    37.671074\n",
              "1    18.246377\n",
              "Name: meses_como_cliente, dtype: float64"
            ]
          },
          "metadata": {},
          "execution_count": 63
        },
        {
          "output_type": "display_data",
          "data": {
            "text/plain": [
              "<Figure size 432x288 with 1 Axes>"
            ],
            "image/png": "[encoded data removed]"
          },
          "metadata": {
            "needs_background": "light"
          }
        }
      ],
      "source": [
        "#box-plot meses como cliente em relação ao Churn\n",
        "sns.boxplot(x=\"churn\", y=\"meses_como_cliente\",data=df4,palette=cols); \n",
        "plt.title('Box-plot da variável Meses como Cliente');\n",
        "plt.xlabel('Churn');\n",
        "plt.ylabel('Meses como Cliente');\n",
        "df4.groupby(['churn'])['meses_como_cliente'].mean()"
      ]
    },
    {
      "cell_type": "markdown",
      "metadata": {
        "id": "3WF0KXotj2FL"
      },
      "source": [
        "### **H18.** A taxa de evasão de clientes que cancelaram possui um valor mensal maior.\n",
        "**VERDADEIRA** Podemos observar que a taxa de evasão de clientes que cancelaram possui um valor mensal maior."
      ]
    },
    {
      "cell_type": "code",
      "execution_count": 64,
      "metadata": {
        "colab": {
          "base_uri": "https://localhost:8080/",
          "height": 0
        },
        "id": "ozEkr-2bj2FM",
        "outputId": "e85c1208-1b74-45a1-c7fa-e92ff868d6f8"
      },
      "outputs": [
        {
          "output_type": "execute_result",
          "data": {
            "text/plain": [
              "      valor_mensal  churn\n",
              "121          28.45    1.0\n",
              "730          72.85    1.0\n",
              "751          73.95    1.0\n",
              "1461        113.20    1.0\n",
              "130          29.40    1.0\n",
              "...            ...    ...\n",
              "597          64.95    0.0\n",
              "598          65.00    0.0\n",
              "599          65.05    0.0\n",
              "600          65.10    0.0\n",
              "1524        118.75    0.0\n",
              "\n",
              "[1525 rows x 2 columns]"
            ],
            "text/html": [
              "\n",
              "  <div id=\"df-75e576cb-7e83-48c5-9255-029241afa117\">\n",
              "    <div class=\"colab-df-container\">\n",
              "      <div>\n",
              "<style scoped>\n",
              "    .dataframe tbody tr th:only-of-type {\n",
              "        vertical-align: middle;\n",
              "    }\n",
              "\n",
              "    .dataframe tbody tr th {\n",
              "        vertical-align: top;\n",
              "    }\n",
              "\n",
              "    .dataframe thead th {\n",
              "        text-align: right;\n",
              "    }\n",
              "</style>\n",
              "<table border=\"1\" class=\"dataframe\">\n",
              "  <thead>\n",
              "    <tr style=\"text-align: right;\">\n",
              "      <th></th>\n",
              "      <th>valor_mensal</th>\n",
              "      <th>churn</th>\n",
              "    </tr>\n",
              "  </thead>\n",
              "  <tbody>\n",
              "    <tr>\n",
              "      <th>121</th>\n",
              "      <td>28.45</td>\n",
              "      <td>1.0</td>\n",
              "    </tr>\n",
              "    <tr>\n",
              "      <th>730</th>\n",
              "      <td>72.85</td>\n",
              "      <td>1.0</td>\n",
              "    </tr>\n",
              "    <tr>\n",
              "      <th>751</th>\n",
              "      <td>73.95</td>\n",
              "      <td>1.0</td>\n",
              "    </tr>\n",
              "    <tr>\n",
              "      <th>1461</th>\n",
              "      <td>113.20</td>\n",
              "      <td>1.0</td>\n",
              "    </tr>\n",
              "    <tr>\n",
              "      <th>130</th>\n",
              "      <td>29.40</td>\n",
              "      <td>1.0</td>\n",
              "    </tr>\n",
              "    <tr>\n",
              "      <th>...</th>\n",
              "      <td>...</td>\n",
              "      <td>...</td>\n",
              "    </tr>\n",
              "    <tr>\n",
              "      <th>597</th>\n",
              "      <td>64.95</td>\n",
              "      <td>0.0</td>\n",
              "    </tr>\n",
              "    <tr>\n",
              "      <th>598</th>\n",
              "      <td>65.00</td>\n",
              "      <td>0.0</td>\n",
              "    </tr>\n",
              "    <tr>\n",
              "      <th>599</th>\n",
              "      <td>65.05</td>\n",
              "      <td>0.0</td>\n",
              "    </tr>\n",
              "    <tr>\n",
              "      <th>600</th>\n",
              "      <td>65.10</td>\n",
              "      <td>0.0</td>\n",
              "    </tr>\n",
              "    <tr>\n",
              "      <th>1524</th>\n",
              "      <td>118.75</td>\n",
              "      <td>0.0</td>\n",
              "    </tr>\n",
              "  </tbody>\n",
              "</table>\n",
              "<p>1525 rows × 2 columns</p>\n",
              "</div>\n",
              "      <button class=\"colab-df-convert\" onclick=\"convertToInteractive('df-75e576cb-7e83-48c5-9255-029241afa117')\"\n",
              "              title=\"Convert this dataframe to an interactive table.\"\n",
              "              style=\"display:none;\">\n",
              "        \n",
              "  <svg xmlns=\"http://www.w3.org/2000/svg\" height=\"24px\"viewBox=\"0 0 24 24\"\n",
              "       width=\"24px\">\n",
              "    <path d=\"M0 0h24v24H0V0z\" fill=\"none\"/>\n",
              "    <path d=\"M18.56 5.44l.94 2.06.94-2.06 2.06-.94-2.06-.94-.94-2.06-.94 2.06-2.06.94zm-11 1L8.5 8.5l.94-2.06 2.06-.94-2.06-.94L8.5 2.5l-.94 2.06-2.06.94zm10 10l.94 2.06.94-2.06 2.06-.94-2.06-.94-.94-2.06-.94 2.06-2.06.94z\"/><path d=\"M17.41 7.96l-1.37-1.37c-.4-.4-.92-.59-1.43-.59-.52 0-1.04.2-1.43.59L10.3 9.45l-7.72 7.72c-.78.78-.78 2.05 0 2.83L4 21.41c.39.39.9.59 1.41.59.51 0 1.02-.2 1.41-.59l7.78-7.78 2.81-2.81c.8-.78.8-2.07 0-2.86zM5.41 20L4 18.59l7.72-7.72 1.47 1.35L5.41 20z\"/>\n",
              "  </svg>\n",
              "      </button>\n",
              "      \n",
              "  <style>\n",
              "    .colab-df-container {\n",
              "      display:flex;\n",
              "      flex-wrap:wrap;\n",
              "      gap: 12px;\n",
              "    }\n",
              "\n",
              "    .colab-df-convert {\n",
              "      background-color: #E8F0FE;\n",
              "      border: none;\n",
              "      border-radius: 50%;\n",
              "      cursor: pointer;\n",
              "      display: none;\n",
              "      fill: #1967D2;\n",
              "      height: 32px;\n",
              "      padding: 0 0 0 0;\n",
              "      width: 32px;\n",
              "    }\n",
              "\n",
              "    .colab-df-convert:hover {\n",
              "      background-color: #E2EBFA;\n",
              "      box-shadow: 0px 1px 2px rgba(60, 64, 67, 0.3), 0px 1px 3px 1px rgba(60, 64, 67, 0.15);\n",
              "      fill: #174EA6;\n",
              "    }\n",
              "\n",
              "    [theme=dark] .colab-df-convert {\n",
              "      background-color: #3B4455;\n",
              "      fill: #D2E3FC;\n",
              "    }\n",
              "\n",
              "    [theme=dark] .colab-df-convert:hover {\n",
              "      background-color: #434B5C;\n",
              "      box-shadow: 0px 1px 3px 1px rgba(0, 0, 0, 0.15);\n",
              "      filter: drop-shadow(0px 1px 2px rgba(0, 0, 0, 0.3));\n",
              "      fill: #FFFFFF;\n",
              "    }\n",
              "  </style>\n",
              "\n",
              "      <script>\n",
              "        const buttonEl =\n",
              "          document.querySelector('#df-75e576cb-7e83-48c5-9255-029241afa117 button.colab-df-convert');\n",
              "        buttonEl.style.display =\n",
              "          google.colab.kernel.accessAllowed ? 'block' : 'none';\n",
              "\n",
              "        async function convertToInteractive(key) {\n",
              "          const element = document.querySelector('#df-75e576cb-7e83-48c5-9255-029241afa117');\n",
              "          const dataTable =\n",
              "            await google.colab.kernel.invokeFunction('convertToInteractive',\n",
              "                                                     [key], {});\n",
              "          if (!dataTable) return;\n",
              "\n",
              "          const docLinkHtml = 'Like what you see? Visit the ' +\n",
              "            '<a target=\"_blank\" href=https://colab.research.google.com/notebooks/data_table.ipynb>data table notebook</a>'\n",
              "            + ' to learn more about interactive tables.';\n",
              "          element.innerHTML = '';\n",
              "          dataTable['output_type'] = 'display_data';\n",
              "          await google.colab.output.renderOutput(dataTable, element);\n",
              "          const docLink = document.createElement('div');\n",
              "          docLink.innerHTML = docLinkHtml;\n",
              "          element.appendChild(docLink);\n",
              "        }\n",
              "      </script>\n",
              "    </div>\n",
              "  </div>\n",
              "  "
            ]
          },
          "metadata": {},
          "execution_count": 64
        }
      ],
      "source": [
        "df_plot = df4.groupby ('valor_mensal'). churn.mean (). reset_index () \n",
        "df_plot.sort_values(by='churn', ascending = False)"
      ]
    },
    {
      "cell_type": "code",
      "execution_count": 65,
      "metadata": {
        "colab": {
          "base_uri": "https://localhost:8080/",
          "height": 0
        },
        "id": "Axk0_sxHj2FN",
        "outputId": "4c63749e-f498-48d0-df56-ae700dba0923"
      },
      "outputs": [
        {
          "output_type": "display_data",
          "data": {
            "text/plain": [
              "<Figure size 432x288 with 1 Axes>"
            ],
            "image/png": "[encoded data removed]"
          },
          "metadata": {
            "needs_background": "light"
          }
        }
      ],
      "source": [
        "x =df_plot['valor_mensal']\n",
        "y=df_plot['churn']\n",
        "plt.bar(x,y,color=cols);\n",
        "plt.title('Taxa de Churn em relação a Valor Mensal');\n",
        "plt.xlabel('Valor Mensal');\n",
        "plt.ylabel('Taxa de Churn');"
      ]
    },
    {
      "cell_type": "code",
      "execution_count": 66,
      "metadata": {
        "colab": {
          "base_uri": "https://localhost:8080/",
          "height": 0
        },
        "id": "_gMPmx0Pj2FO",
        "outputId": "66bccdbc-3fc4-4594-e2e2-faaba8022c51"
      },
      "outputs": [
        {
          "output_type": "execute_result",
          "data": {
            "text/plain": [
              "churn\n",
              "0    61.480248\n",
              "1    74.164871\n",
              "Name: valor_mensal, dtype: float64"
            ]
          },
          "metadata": {},
          "execution_count": 66
        },
        {
          "output_type": "display_data",
          "data": {
            "text/plain": [
              "<Figure size 432x288 with 1 Axes>"
            ],
            "image/png": "[encoded data removed]"
          },
          "metadata": {
            "needs_background": "light"
          }
        }
      ],
      "source": [
        "#box-plot valor mensal em relação ao Churn\n",
        "sns.boxplot(x=\"churn\", y=\"valor_mensal\", data=df4,palette=cols); \n",
        "plt.xlabel('Churn');\n",
        "plt.ylabel('Valor Mensal');\n",
        "df4.groupby(['churn'])['valor_mensal'].mean()"
      ]
    },
    {
      "cell_type": "markdown",
      "metadata": {
        "id": "oF32hhVCj2FO"
      },
      "source": [
        "### **H19.** A taxa de evasão de clientes que cancelaram possui um total de gasto maior.\n",
        "**FALSA** Podemos observar que a taxa de evasão de clientes que cancelaram possui um total de gasto menor."
      ]
    },
    {
      "cell_type": "code",
      "execution_count": 67,
      "metadata": {
        "colab": {
          "base_uri": "https://localhost:8080/",
          "height": 0
        },
        "id": "LEH2xVr2j2FP",
        "outputId": "fe415bd7-60f1-49d2-f394-405404725482"
      },
      "outputs": [
        {
          "output_type": "execute_result",
          "data": {
            "text/plain": [
              "      total_gasto  churn\n",
              "5607      8684.80    1.0\n",
              "4570      4867.95    1.0\n",
              "4548      4820.15    1.0\n",
              "4550      4822.85    1.0\n",
              "1760       733.35    1.0\n",
              "...           ...    ...\n",
              "2396      1205.50    0.0\n",
              "2398      1207.00    0.0\n",
              "2400      1208.60    0.0\n",
              "2401      1209.25    0.0\n",
              "2804      1538.60    0.0\n",
              "\n",
              "[5608 rows x 2 columns]"
            ],
            "text/html": [
              "\n",
              "  <div id=\"df-64cc6418-f83f-4a71-a05c-538a21916186\">\n",
              "    <div class=\"colab-df-container\">\n",
              "      <div>\n",
              "<style scoped>\n",
              "    .dataframe tbody tr th:only-of-type {\n",
              "        vertical-align: middle;\n",
              "    }\n",
              "\n",
              "    .dataframe tbody tr th {\n",
              "        vertical-align: top;\n",
              "    }\n",
              "\n",
              "    .dataframe thead th {\n",
              "        text-align: right;\n",
              "    }\n",
              "</style>\n",
              "<table border=\"1\" class=\"dataframe\">\n",
              "  <thead>\n",
              "    <tr style=\"text-align: right;\">\n",
              "      <th></th>\n",
              "      <th>total_gasto</th>\n",
              "      <th>churn</th>\n",
              "    </tr>\n",
              "  </thead>\n",
              "  <tbody>\n",
              "    <tr>\n",
              "      <th>5607</th>\n",
              "      <td>8684.80</td>\n",
              "      <td>1.0</td>\n",
              "    </tr>\n",
              "    <tr>\n",
              "      <th>4570</th>\n",
              "      <td>4867.95</td>\n",
              "      <td>1.0</td>\n",
              "    </tr>\n",
              "    <tr>\n",
              "      <th>4548</th>\n",
              "      <td>4820.15</td>\n",
              "      <td>1.0</td>\n",
              "    </tr>\n",
              "    <tr>\n",
              "      <th>4550</th>\n",
              "      <td>4822.85</td>\n",
              "      <td>1.0</td>\n",
              "    </tr>\n",
              "    <tr>\n",
              "      <th>1760</th>\n",
              "      <td>733.35</td>\n",
              "      <td>1.0</td>\n",
              "    </tr>\n",
              "    <tr>\n",
              "      <th>...</th>\n",
              "      <td>...</td>\n",
              "      <td>...</td>\n",
              "    </tr>\n",
              "    <tr>\n",
              "      <th>2396</th>\n",
              "      <td>1205.50</td>\n",
              "      <td>0.0</td>\n",
              "    </tr>\n",
              "    <tr>\n",
              "      <th>2398</th>\n",
              "      <td>1207.00</td>\n",
              "      <td>0.0</td>\n",
              "    </tr>\n",
              "    <tr>\n",
              "      <th>2400</th>\n",
              "      <td>1208.60</td>\n",
              "      <td>0.0</td>\n",
              "    </tr>\n",
              "    <tr>\n",
              "      <th>2401</th>\n",
              "      <td>1209.25</td>\n",
              "      <td>0.0</td>\n",
              "    </tr>\n",
              "    <tr>\n",
              "      <th>2804</th>\n",
              "      <td>1538.60</td>\n",
              "      <td>0.0</td>\n",
              "    </tr>\n",
              "  </tbody>\n",
              "</table>\n",
              "<p>5608 rows × 2 columns</p>\n",
              "</div>\n",
              "      <button class=\"colab-df-convert\" onclick=\"convertToInteractive('df-64cc6418-f83f-4a71-a05c-538a21916186')\"\n",
              "              title=\"Convert this dataframe to an interactive table.\"\n",
              "              style=\"display:none;\">\n",
              "        \n",
              "  <svg xmlns=\"http://www.w3.org/2000/svg\" height=\"24px\"viewBox=\"0 0 24 24\"\n",
              "       width=\"24px\">\n",
              "    <path d=\"M0 0h24v24H0V0z\" fill=\"none\"/>\n",
              "    <path d=\"M18.56 5.44l.94 2.06.94-2.06 2.06-.94-2.06-.94-.94-2.06-.94 2.06-2.06.94zm-11 1L8.5 8.5l.94-2.06 2.06-.94-2.06-.94L8.5 2.5l-.94 2.06-2.06.94zm10 10l.94 2.06.94-2.06 2.06-.94-2.06-.94-.94-2.06-.94 2.06-2.06.94z\"/><path d=\"M17.41 7.96l-1.37-1.37c-.4-.4-.92-.59-1.43-.59-.52 0-1.04.2-1.43.59L10.3 9.45l-7.72 7.72c-.78.78-.78 2.05 0 2.83L4 21.41c.39.39.9.59 1.41.59.51 0 1.02-.2 1.41-.59l7.78-7.78 2.81-2.81c.8-.78.8-2.07 0-2.86zM5.41 20L4 18.59l7.72-7.72 1.47 1.35L5.41 20z\"/>\n",
              "  </svg>\n",
              "      </button>\n",
              "      \n",
              "  <style>\n",
              "    .colab-df-container {\n",
              "      display:flex;\n",
              "      flex-wrap:wrap;\n",
              "      gap: 12px;\n",
              "    }\n",
              "\n",
              "    .colab-df-convert {\n",
              "      background-color: #E8F0FE;\n",
              "      border: none;\n",
              "      border-radius: 50%;\n",
              "      cursor: pointer;\n",
              "      display: none;\n",
              "      fill: #1967D2;\n",
              "      height: 32px;\n",
              "      padding: 0 0 0 0;\n",
              "      width: 32px;\n",
              "    }\n",
              "\n",
              "    .colab-df-convert:hover {\n",
              "      background-color: #E2EBFA;\n",
              "      box-shadow: 0px 1px 2px rgba(60, 64, 67, 0.3), 0px 1px 3px 1px rgba(60, 64, 67, 0.15);\n",
              "      fill: #174EA6;\n",
              "    }\n",
              "\n",
              "    [theme=dark] .colab-df-convert {\n",
              "      background-color: #3B4455;\n",
              "      fill: #D2E3FC;\n",
              "    }\n",
              "\n",
              "    [theme=dark] .colab-df-convert:hover {\n",
              "      background-color: #434B5C;\n",
              "      box-shadow: 0px 1px 3px 1px rgba(0, 0, 0, 0.15);\n",
              "      filter: drop-shadow(0px 1px 2px rgba(0, 0, 0, 0.3));\n",
              "      fill: #FFFFFF;\n",
              "    }\n",
              "  </style>\n",
              "\n",
              "      <script>\n",
              "        const buttonEl =\n",
              "          document.querySelector('#df-64cc6418-f83f-4a71-a05c-538a21916186 button.colab-df-convert');\n",
              "        buttonEl.style.display =\n",
              "          google.colab.kernel.accessAllowed ? 'block' : 'none';\n",
              "\n",
              "        async function convertToInteractive(key) {\n",
              "          const element = document.querySelector('#df-64cc6418-f83f-4a71-a05c-538a21916186');\n",
              "          const dataTable =\n",
              "            await google.colab.kernel.invokeFunction('convertToInteractive',\n",
              "                                                     [key], {});\n",
              "          if (!dataTable) return;\n",
              "\n",
              "          const docLinkHtml = 'Like what you see? Visit the ' +\n",
              "            '<a target=\"_blank\" href=https://colab.research.google.com/notebooks/data_table.ipynb>data table notebook</a>'\n",
              "            + ' to learn more about interactive tables.';\n",
              "          element.innerHTML = '';\n",
              "          dataTable['output_type'] = 'display_data';\n",
              "          await google.colab.output.renderOutput(dataTable, element);\n",
              "          const docLink = document.createElement('div');\n",
              "          docLink.innerHTML = docLinkHtml;\n",
              "          element.appendChild(docLink);\n",
              "        }\n",
              "      </script>\n",
              "    </div>\n",
              "  </div>\n",
              "  "
            ]
          },
          "metadata": {},
          "execution_count": 67
        }
      ],
      "source": [
        "df_plot = df4.groupby ('total_gasto'). churn.mean (). reset_index () \n",
        "df_plot.sort_values(by='churn', ascending = False)"
      ]
    },
    {
      "cell_type": "code",
      "execution_count": 68,
      "metadata": {
        "colab": {
          "base_uri": "https://localhost:8080/",
          "height": 0
        },
        "id": "BJfj6UUPj2FP",
        "outputId": "93eb44a6-ef96-4b96-bc80-0288fd9540be"
      },
      "outputs": [
        {
          "output_type": "display_data",
          "data": {
            "text/plain": [
              "<Figure size 432x288 with 1 Axes>"
            ],
            "image/png": "[encoded data removed]"
          },
          "metadata": {
            "needs_background": "light"
          }
        }
      ],
      "source": [
        "x =df_plot['total_gasto']\n",
        "y=df_plot['churn']\n",
        "plt.bar(x,y,color=cols);\n",
        "plt.title('Taxa de Churn em relação a Total Gasto');\n",
        "plt.xlabel('Total Gasto');\n",
        "plt.ylabel('Taxa de Churn');"
      ]
    },
    {
      "cell_type": "code",
      "execution_count": 69,
      "metadata": {
        "colab": {
          "base_uri": "https://localhost:8080/",
          "height": 0
        },
        "id": "LKsuJFK1j2FQ",
        "outputId": "1d138cc8-8ced-414d-b0b9-e333ea2a8c41"
      },
      "outputs": [
        {
          "output_type": "execute_result",
          "data": {
            "text/plain": [
              "churn\n",
              "0    2567.744222\n",
              "1    1550.701985\n",
              "Name: total_gasto, dtype: float64"
            ]
          },
          "metadata": {},
          "execution_count": 69
        },
        {
          "output_type": "display_data",
          "data": {
            "text/plain": [
              "<Figure size 432x288 with 1 Axes>"
            ],
            "image/png": "[encoded data removed]"
          },
          "metadata": {
            "needs_background": "light"
          }
        }
      ],
      "source": [
        "#box-plot total gasto em relação ao Churn\n",
        "sns.boxplot(x=\"churn\", y='total_gasto', data=df4,palette=cols);\n",
        "plt.title('Box-plot do Total Gasto');\n",
        "plt.xlabel('churn');\n",
        "plt.ylabel('total_gasto');\n",
        "df4.groupby(['churn'])['total_gasto'].mean()"
      ]
    },
    {
      "cell_type": "markdown",
      "metadata": {
        "id": "DdF4haS3j2FR"
      },
      "source": [
        "* ### Resumo das Hipoteses"
      ]
    },
    {
      "cell_type": "code",
      "execution_count": 70,
      "metadata": {
        "colab": {
          "base_uri": "https://localhost:8080/"
        },
        "id": "3sbtK4D0j2FR",
        "outputId": "25d79f01-729b-4aec-c580-4c624c35af98"
      },
      "outputs": [
        {
          "output_type": "stream",
          "name": "stdout",
          "text": [
            "Hipoteses    Conclusao\n",
            "-----------  -----------\n",
            "H1           Falsa\n",
            "H2           Verdadeira\n",
            "H3           Falsa\n",
            "H4           Falsa\n",
            "H5           Verdadeira\n",
            "H6           Verdadeira\n",
            "H7           Falsa\n",
            "H8           Falsa\n",
            "H9           Falsa\n",
            "H10          Falsa\n",
            "H11          Falsa\n",
            "H12          Falsa\n",
            "H13          Falsa\n",
            "H14          Falsa\n",
            "H15          Verdadeira\n",
            "H16          Verdadeira\n",
            "H17          Verdadeira\n",
            "H18          Verdadeira\n",
            "H19          Falsa\n"
          ]
        }
      ],
      "source": [
        "tab =[['Hipoteses', 'Conclusao'],\n",
        "      ['H1', 'Falsa'],  \n",
        "      ['H2', 'Verdadeira'],  \n",
        "      ['H3', 'Falsa'],\n",
        "      ['H4', 'Falsa'],\n",
        "      ['H5', 'Verdadeira', '-'],\n",
        "      ['H6', 'Verdadeira', '-'],\n",
        "      ['H7', 'Falsa'],\n",
        "      ['H8', 'Falsa'],\n",
        "      ['H9', 'Falsa'],\n",
        "      ['H10', 'Falsa'],\n",
        "      ['H11', 'Falsa'],\n",
        "      ['H12', 'Falsa'],\n",
        "      ['H13', 'Falsa'],\n",
        "      ['H14', 'Falsa'],\n",
        "      ['H15', 'Verdadeira'],\n",
        "      ['H16', 'Verdadeira'],\n",
        "      ['H17', 'Verdadeira'],\n",
        "      ['H18', 'Verdadeira'],\n",
        "      ['H19', 'Falsa'],\n",
        "     ]  \n",
        "print( tabulate( tab, headers='firstrow' ) )"
      ]
    },
    {
      "cell_type": "markdown",
      "metadata": {
        "id": "OzTVBIiDj2FS"
      },
      "source": [
        "* ### Matriz de Correlação\n",
        "\n",
        "Utilizaremos a função heatmap() para entender o relacionamento entre as variáveis numéricas."
      ]
    },
    {
      "cell_type": "code",
      "execution_count": 71,
      "metadata": {
        "colab": {
          "base_uri": "https://localhost:8080/",
          "height": 0
        },
        "id": "9jRwsmXij2FT",
        "outputId": "7aed07ca-a84d-481a-b2f8-a9217b9c6d77"
      },
      "outputs": [
        {
          "output_type": "display_data",
          "data": {
            "text/plain": [
              "<Figure size 432x288 with 2 Axes>"
            ],
            "image/png": "[encoded data removed]"
          },
          "metadata": {
            "needs_background": "light"
          }
        }
      ],
      "source": [
        "correlation = df4.corr( method='pearson' )\n",
        "sns.heatmap( correlation, cmap='Blues', annot=True );"
      ]
    },
    {
      "cell_type": "code",
      "execution_count": 72,
      "metadata": {
        "colab": {
          "base_uri": "https://localhost:8080/"
        },
        "id": "5cBxIfo1j2FU",
        "outputId": "63d2f64c-ed90-4050-d19c-1a6dddc508c5"
      },
      "outputs": [
        {
          "output_type": "execute_result",
          "data": {
            "text/plain": [
              "churn                 1.000000\n",
              "valor_mensal          0.186102\n",
              "total_gasto          -0.197555\n",
              "meses_como_cliente   -0.350272\n",
              "Name: churn, dtype: float64"
            ]
          },
          "metadata": {},
          "execution_count": 72
        }
      ],
      "source": [
        "# Explorando as correlações com a variavel Target \n",
        "df4.corr()['churn'].sort_values(ascending=False)"
      ]
    },
    {
      "cell_type": "markdown",
      "metadata": {
        "id": "6RPVDqZCj2FU"
      },
      "source": [
        "Analisando a correlação entre as variáveis com a variavel Target, observa-se que temos baixas correlações. A maior correlação é entre as variáveis meses_como_cliente e Churn e temos uma correlação negativa de - 0,35 entre elas. Ou seja, quando menor o meses_como_cliente  maior o Churn."
      ]
    },
    {
      "cell_type": "markdown",
      "metadata": {
        "id": "LUDQA3_wj2FV"
      },
      "source": [
        "## D. Pré-Processamento"
      ]
    },
    {
      "cell_type": "markdown",
      "metadata": {
        "id": "mAqamlCFj2FW"
      },
      "source": [
        "## 06 - Pré-Processamento"
      ]
    },
    {
      "cell_type": "code",
      "execution_count": 73,
      "metadata": {
        "id": "6WPGUW1Nj2FW"
      },
      "outputs": [],
      "source": [
        "#criar cópia\n",
        "df5 = df4.copy()"
      ]
    },
    {
      "cell_type": "markdown",
      "metadata": {
        "id": "2mOZtv7Jj2FX"
      },
      "source": [
        "* ### Normalização\n",
        "\n",
        "Como nenhuma das variáveis apresenta uma distribuição normal, vamos direto para o Rescaling."
      ]
    },
    {
      "cell_type": "markdown",
      "metadata": {
        "id": "WtG0G3wfj2FY"
      },
      "source": [
        "* ### Rescaling"
      ]
    },
    {
      "cell_type": "code",
      "execution_count": 74,
      "metadata": {
        "id": "xuwttJY5j2FZ"
      },
      "outputs": [],
      "source": [
        "rs = RobustScaler( unit_variance=False )\n",
        "nms = MinMaxScaler()\n",
        "\n",
        "# total_gasto\n",
        "df5['total_gasto'] = rs.fit_transform( df5[['total_gasto']].values )\n",
        "\n",
        "\n",
        "# valor_mensal\n",
        "df5['valor_mensal'] = nms.fit_transform( df5[['valor_mensal']].values )\n",
        "\n",
        "# meses_como_cliente\n",
        "df5['meses_como_cliente'] = nms.fit_transform( df5[['meses_como_cliente']].values )"
      ]
    },
    {
      "cell_type": "markdown",
      "metadata": {
        "id": "n_Fw5oZ3j2Fa"
      },
      "source": [
        "* ### Encoding"
      ]
    },
    {
      "cell_type": "code",
      "execution_count": 75,
      "metadata": {
        "id": "qp-6M3WPj2Fb"
      },
      "outputs": [],
      "source": [
        "variaveis_cat = ['genero', 'aposentado', 'casado', 'dependentes',\n",
        "       'servico_telefone', 'multiplas_linhas',\n",
        "       'servico_internet', 'servico_seguranca_online', 'servico_backup_online',\n",
        "       'protecao_equipamento', 'servico_suporte_tecnico',\n",
        "       'servico_streaming_tv', 'servico_filmes', 'tipo_contrato',\n",
        "       'fatura_digital', 'forma_pagamento']\n",
        "\n",
        "df5 = pd.get_dummies(df5, columns = variaveis_cat, drop_first = True)"
      ]
    },
    {
      "cell_type": "code",
      "execution_count": 76,
      "metadata": {
        "scrolled": true,
        "colab": {
          "base_uri": "https://localhost:8080/",
          "height": 0
        },
        "id": "R7U-ti-Rj2Fc",
        "outputId": "dcda45a7-fe6b-4dda-eb1b-e16ef9deb515"
      },
      "outputs": [
        {
          "output_type": "execute_result",
          "data": {
            "text/plain": [
              "            meses_como_cliente  valor_mensal  total_gasto  churn  \\\n",
              "id_cliente                                                         \n",
              "7010-BRBUU            1.000000      0.058209     0.093793      0   \n",
              "9688-YGXVR            0.605634      0.695522     0.744078      0   \n",
              "9286-DOJGF            0.521127      0.564179     0.423562      1   \n",
              "6994-KERXL            0.042254      0.374627    -0.340829      0   \n",
              "2181-UAESM            0.014085      0.350249    -0.375398      0   \n",
              "\n",
              "            genero_Masculino  aposentado_Sim  casado_Sim  dependentes_Sim  \\\n",
              "id_cliente                                                                  \n",
              "7010-BRBUU                 1               0           1                1   \n",
              "9688-YGXVR                 0               0           0                0   \n",
              "9286-DOJGF                 0               1           1                0   \n",
              "6994-KERXL                 1               0           0                0   \n",
              "2181-UAESM                 1               0           0                0   \n",
              "\n",
              "            servico_telefone_Sim  multiplas_linhas_SemTelefone  ...  \\\n",
              "id_cliente                                                      ...   \n",
              "7010-BRBUU                     1                             0  ...   \n",
              "9688-YGXVR                     1                             0  ...   \n",
              "9286-DOJGF                     1                             0  ...   \n",
              "6994-KERXL                     1                             0  ...   \n",
              "2181-UAESM                     1                             0  ...   \n",
              "\n",
              "            servico_streaming_tv_SemInternet  servico_streaming_tv_Sim  \\\n",
              "id_cliente                                                               \n",
              "7010-BRBUU                                 1                         0   \n",
              "9688-YGXVR                                 0                         1   \n",
              "9286-DOJGF                                 0                         0   \n",
              "6994-KERXL                                 0                         0   \n",
              "2181-UAESM                                 0                         0   \n",
              "\n",
              "            servico_filmes_SemInternet  servico_filmes_Sim  \\\n",
              "id_cliente                                                   \n",
              "7010-BRBUU                           1                   0   \n",
              "9688-YGXVR                           0                   0   \n",
              "9286-DOJGF                           0                   0   \n",
              "6994-KERXL                           0                   1   \n",
              "2181-UAESM                           0                   0   \n",
              "\n",
              "            tipo_contrato_Anual  tipo_contrato_Mensal  fatura_digital_Sim  \\\n",
              "id_cliente                                                                  \n",
              "7010-BRBUU                    0                     0                   0   \n",
              "9688-YGXVR                    0                     1                   1   \n",
              "9286-DOJGF                    0                     1                   1   \n",
              "6994-KERXL                    0                     1                   1   \n",
              "2181-UAESM                    0                     1                   0   \n",
              "\n",
              "            forma_pagamento_BoletoImpresso  forma_pagamento_CartaoCredito  \\\n",
              "id_cliente                                                                  \n",
              "7010-BRBUU                               0                              1   \n",
              "9688-YGXVR                               0                              1   \n",
              "9286-DOJGF                               0                              0   \n",
              "6994-KERXL                               0                              0   \n",
              "2181-UAESM                               0                              0   \n",
              "\n",
              "            forma_pagamento_DebitoAutomatico  \n",
              "id_cliente                                    \n",
              "7010-BRBUU                                 0  \n",
              "9688-YGXVR                                 0  \n",
              "9286-DOJGF                                 1  \n",
              "6994-KERXL                                 0  \n",
              "2181-UAESM                                 0  \n",
              "\n",
              "[5 rows x 31 columns]"
            ],
            "text/html": [
              "\n",
              "  <div id=\"df-ee39aa8b-1c37-4296-97b3-d2e97e00c096\">\n",
              "    <div class=\"colab-df-container\">\n",
              "      <div>\n",
              "<style scoped>\n",
              "    .dataframe tbody tr th:only-of-type {\n",
              "        vertical-align: middle;\n",
              "    }\n",
              "\n",
              "    .dataframe tbody tr th {\n",
              "        vertical-align: top;\n",
              "    }\n",
              "\n",
              "    .dataframe thead th {\n",
              "        text-align: right;\n",
              "    }\n",
              "</style>\n",
              "<table border=\"1\" class=\"dataframe\">\n",
              "  <thead>\n",
              "    <tr style=\"text-align: right;\">\n",
              "      <th></th>\n",
              "      <th>meses_como_cliente</th>\n",
              "      <th>valor_mensal</th>\n",
              "      <th>total_gasto</th>\n",
              "      <th>churn</th>\n",
              "      <th>genero_Masculino</th>\n",
              "      <th>aposentado_Sim</th>\n",
              "      <th>casado_Sim</th>\n",
              "      <th>dependentes_Sim</th>\n",
              "      <th>servico_telefone_Sim</th>\n",
              "      <th>multiplas_linhas_SemTelefone</th>\n",
              "      <th>...</th>\n",
              "      <th>servico_streaming_tv_SemInternet</th>\n",
              "      <th>servico_streaming_tv_Sim</th>\n",
              "      <th>servico_filmes_SemInternet</th>\n",
              "      <th>servico_filmes_Sim</th>\n",
              "      <th>tipo_contrato_Anual</th>\n",
              "      <th>tipo_contrato_Mensal</th>\n",
              "      <th>fatura_digital_Sim</th>\n",
              "      <th>forma_pagamento_BoletoImpresso</th>\n",
              "      <th>forma_pagamento_CartaoCredito</th>\n",
              "      <th>forma_pagamento_DebitoAutomatico</th>\n",
              "    </tr>\n",
              "    <tr>\n",
              "      <th>id_cliente</th>\n",
              "      <th></th>\n",
              "      <th></th>\n",
              "      <th></th>\n",
              "      <th></th>\n",
              "      <th></th>\n",
              "      <th></th>\n",
              "      <th></th>\n",
              "      <th></th>\n",
              "      <th></th>\n",
              "      <th></th>\n",
              "      <th></th>\n",
              "      <th></th>\n",
              "      <th></th>\n",
              "      <th></th>\n",
              "      <th></th>\n",
              "      <th></th>\n",
              "      <th></th>\n",
              "      <th></th>\n",
              "      <th></th>\n",
              "      <th></th>\n",
              "      <th></th>\n",
              "    </tr>\n",
              "  </thead>\n",
              "  <tbody>\n",
              "    <tr>\n",
              "      <th>7010-BRBUU</th>\n",
              "      <td>1.000000</td>\n",
              "      <td>0.058209</td>\n",
              "      <td>0.093793</td>\n",
              "      <td>0</td>\n",
              "      <td>1</td>\n",
              "      <td>0</td>\n",
              "      <td>1</td>\n",
              "      <td>1</td>\n",
              "      <td>1</td>\n",
              "      <td>0</td>\n",
              "      <td>...</td>\n",
              "      <td>1</td>\n",
              "      <td>0</td>\n",
              "      <td>1</td>\n",
              "      <td>0</td>\n",
              "      <td>0</td>\n",
              "      <td>0</td>\n",
              "      <td>0</td>\n",
              "      <td>0</td>\n",
              "      <td>1</td>\n",
              "      <td>0</td>\n",
              "    </tr>\n",
              "    <tr>\n",
              "      <th>9688-YGXVR</th>\n",
              "      <td>0.605634</td>\n",
              "      <td>0.695522</td>\n",
              "      <td>0.744078</td>\n",
              "      <td>0</td>\n",
              "      <td>0</td>\n",
              "      <td>0</td>\n",
              "      <td>0</td>\n",
              "      <td>0</td>\n",
              "      <td>1</td>\n",
              "      <td>0</td>\n",
              "      <td>...</td>\n",
              "      <td>0</td>\n",
              "      <td>1</td>\n",
              "      <td>0</td>\n",
              "      <td>0</td>\n",
              "      <td>0</td>\n",
              "      <td>1</td>\n",
              "      <td>1</td>\n",
              "      <td>0</td>\n",
              "      <td>1</td>\n",
              "      <td>0</td>\n",
              "    </tr>\n",
              "    <tr>\n",
              "      <th>9286-DOJGF</th>\n",
              "      <td>0.521127</td>\n",
              "      <td>0.564179</td>\n",
              "      <td>0.423562</td>\n",
              "      <td>1</td>\n",
              "      <td>0</td>\n",
              "      <td>1</td>\n",
              "      <td>1</td>\n",
              "      <td>0</td>\n",
              "      <td>1</td>\n",
              "      <td>0</td>\n",
              "      <td>...</td>\n",
              "      <td>0</td>\n",
              "      <td>0</td>\n",
              "      <td>0</td>\n",
              "      <td>0</td>\n",
              "      <td>0</td>\n",
              "      <td>1</td>\n",
              "      <td>1</td>\n",
              "      <td>0</td>\n",
              "      <td>0</td>\n",
              "      <td>1</td>\n",
              "    </tr>\n",
              "    <tr>\n",
              "      <th>6994-KERXL</th>\n",
              "      <td>0.042254</td>\n",
              "      <td>0.374627</td>\n",
              "      <td>-0.340829</td>\n",
              "      <td>0</td>\n",
              "      <td>1</td>\n",
              "      <td>0</td>\n",
              "      <td>0</td>\n",
              "      <td>0</td>\n",
              "      <td>1</td>\n",
              "      <td>0</td>\n",
              "      <td>...</td>\n",
              "      <td>0</td>\n",
              "      <td>0</td>\n",
              "      <td>0</td>\n",
              "      <td>1</td>\n",
              "      <td>0</td>\n",
              "      <td>1</td>\n",
              "      <td>1</td>\n",
              "      <td>0</td>\n",
              "      <td>0</td>\n",
              "      <td>0</td>\n",
              "    </tr>\n",
              "    <tr>\n",
              "      <th>2181-UAESM</th>\n",
              "      <td>0.014085</td>\n",
              "      <td>0.350249</td>\n",
              "      <td>-0.375398</td>\n",
              "      <td>0</td>\n",
              "      <td>1</td>\n",
              "      <td>0</td>\n",
              "      <td>0</td>\n",
              "      <td>0</td>\n",
              "      <td>1</td>\n",
              "      <td>0</td>\n",
              "      <td>...</td>\n",
              "      <td>0</td>\n",
              "      <td>0</td>\n",
              "      <td>0</td>\n",
              "      <td>0</td>\n",
              "      <td>0</td>\n",
              "      <td>1</td>\n",
              "      <td>0</td>\n",
              "      <td>0</td>\n",
              "      <td>0</td>\n",
              "      <td>0</td>\n",
              "    </tr>\n",
              "  </tbody>\n",
              "</table>\n",
              "<p>5 rows × 31 columns</p>\n",
              "</div>\n",
              "      <button class=\"colab-df-convert\" onclick=\"convertToInteractive('df-ee39aa8b-1c37-4296-97b3-d2e97e00c096')\"\n",
              "              title=\"Convert this dataframe to an interactive table.\"\n",
              "              style=\"display:none;\">\n",
              "        \n",
              "  <svg xmlns=\"http://www.w3.org/2000/svg\" height=\"24px\"viewBox=\"0 0 24 24\"\n",
              "       width=\"24px\">\n",
              "    <path d=\"M0 0h24v24H0V0z\" fill=\"none\"/>\n",
              "    <path d=\"M18.56 5.44l.94 2.06.94-2.06 2.06-.94-2.06-.94-.94-2.06-.94 2.06-2.06.94zm-11 1L8.5 8.5l.94-2.06 2.06-.94-2.06-.94L8.5 2.5l-.94 2.06-2.06.94zm10 10l.94 2.06.94-2.06 2.06-.94-2.06-.94-.94-2.06-.94 2.06-2.06.94z\"/><path d=\"M17.41 7.96l-1.37-1.37c-.4-.4-.92-.59-1.43-.59-.52 0-1.04.2-1.43.59L10.3 9.45l-7.72 7.72c-.78.78-.78 2.05 0 2.83L4 21.41c.39.39.9.59 1.41.59.51 0 1.02-.2 1.41-.59l7.78-7.78 2.81-2.81c.8-.78.8-2.07 0-2.86zM5.41 20L4 18.59l7.72-7.72 1.47 1.35L5.41 20z\"/>\n",
              "  </svg>\n",
              "      </button>\n",
              "      \n",
              "  <style>\n",
              "    .colab-df-container {\n",
              "      display:flex;\n",
              "      flex-wrap:wrap;\n",
              "      gap: 12px;\n",
              "    }\n",
              "\n",
              "    .colab-df-convert {\n",
              "      background-color: #E8F0FE;\n",
              "      border: none;\n",
              "      border-radius: 50%;\n",
              "      cursor: pointer;\n",
              "      display: none;\n",
              "      fill: #1967D2;\n",
              "      height: 32px;\n",
              "      padding: 0 0 0 0;\n",
              "      width: 32px;\n",
              "    }\n",
              "\n",
              "    .colab-df-convert:hover {\n",
              "      background-color: #E2EBFA;\n",
              "      box-shadow: 0px 1px 2px rgba(60, 64, 67, 0.3), 0px 1px 3px 1px rgba(60, 64, 67, 0.15);\n",
              "      fill: #174EA6;\n",
              "    }\n",
              "\n",
              "    [theme=dark] .colab-df-convert {\n",
              "      background-color: #3B4455;\n",
              "      fill: #D2E3FC;\n",
              "    }\n",
              "\n",
              "    [theme=dark] .colab-df-convert:hover {\n",
              "      background-color: #434B5C;\n",
              "      box-shadow: 0px 1px 3px 1px rgba(0, 0, 0, 0.15);\n",
              "      filter: drop-shadow(0px 1px 2px rgba(0, 0, 0, 0.3));\n",
              "      fill: #FFFFFF;\n",
              "    }\n",
              "  </style>\n",
              "\n",
              "      <script>\n",
              "        const buttonEl =\n",
              "          document.querySelector('#df-ee39aa8b-1c37-4296-97b3-d2e97e00c096 button.colab-df-convert');\n",
              "        buttonEl.style.display =\n",
              "          google.colab.kernel.accessAllowed ? 'block' : 'none';\n",
              "\n",
              "        async function convertToInteractive(key) {\n",
              "          const element = document.querySelector('#df-ee39aa8b-1c37-4296-97b3-d2e97e00c096');\n",
              "          const dataTable =\n",
              "            await google.colab.kernel.invokeFunction('convertToInteractive',\n",
              "                                                     [key], {});\n",
              "          if (!dataTable) return;\n",
              "\n",
              "          const docLinkHtml = 'Like what you see? Visit the ' +\n",
              "            '<a target=\"_blank\" href=https://colab.research.google.com/notebooks/data_table.ipynb>data table notebook</a>'\n",
              "            + ' to learn more about interactive tables.';\n",
              "          element.innerHTML = '';\n",
              "          dataTable['output_type'] = 'display_data';\n",
              "          await google.colab.output.renderOutput(dataTable, element);\n",
              "          const docLink = document.createElement('div');\n",
              "          docLink.innerHTML = docLinkHtml;\n",
              "          element.appendChild(docLink);\n",
              "        }\n",
              "      </script>\n",
              "    </div>\n",
              "  </div>\n",
              "  "
            ]
          },
          "metadata": {},
          "execution_count": 76
        }
      ],
      "source": [
        "df5.head()"
      ]
    },
    {
      "cell_type": "markdown",
      "metadata": {
        "id": "rxpCK1YFj2Fd"
      },
      "source": [
        "## E. Modelos de Machine Learning "
      ]
    },
    {
      "cell_type": "markdown",
      "metadata": {
        "id": "VA5_gXX6j2Fe"
      },
      "source": [
        "## 07 - ML_Modelo de Churn"
      ]
    },
    {
      "cell_type": "code",
      "execution_count": 77,
      "metadata": {
        "scrolled": true,
        "colab": {
          "base_uri": "https://localhost:8080/",
          "height": 0
        },
        "id": "oOPpE03Sj2Fe",
        "outputId": "89e574c6-a99e-4515-848b-27b04b001262"
      },
      "outputs": [
        {
          "output_type": "execute_result",
          "data": {
            "text/plain": [
              "            meses_como_cliente  valor_mensal  total_gasto  genero_Masculino  \\\n",
              "id_cliente                                                                    \n",
              "7010-BRBUU            1.000000      0.058209     0.093793                 1   \n",
              "9688-YGXVR            0.605634      0.695522     0.744078                 0   \n",
              "9286-DOJGF            0.521127      0.564179     0.423562                 0   \n",
              "6994-KERXL            0.042254      0.374627    -0.340829                 1   \n",
              "2181-UAESM            0.014085      0.350249    -0.375398                 1   \n",
              "...                        ...           ...          ...               ...   \n",
              "0684-AOSIH            0.000000      0.763682    -0.382515                 1   \n",
              "5982-PSMKW            0.309859      0.724876     0.228481                 0   \n",
              "8044-BGWPI            0.154930      0.028856    -0.321206                 1   \n",
              "7450-NWRTR            0.154930      0.807960    -0.061476                 1   \n",
              "4795-UXVCJ            0.352113      0.015423    -0.277269                 1   \n",
              "\n",
              "            aposentado_Sim  casado_Sim  dependentes_Sim  servico_telefone_Sim  \\\n",
              "id_cliente                                                                      \n",
              "7010-BRBUU               0           1                1                     1   \n",
              "9688-YGXVR               0           0                0                     1   \n",
              "9286-DOJGF               1           1                0                     1   \n",
              "6994-KERXL               0           0                0                     1   \n",
              "2181-UAESM               0           0                0                     1   \n",
              "...                    ...         ...              ...                   ...   \n",
              "0684-AOSIH               0           1                0                     1   \n",
              "5982-PSMKW               0           1                1                     1   \n",
              "8044-BGWPI               0           1                1                     1   \n",
              "7450-NWRTR               1           0                0                     1   \n",
              "4795-UXVCJ               0           0                0                     1   \n",
              "\n",
              "            multiplas_linhas_SemTelefone  multiplas_linhas_Sim  ...  \\\n",
              "id_cliente                                                      ...   \n",
              "7010-BRBUU                             0                     1  ...   \n",
              "9688-YGXVR                             0                     0  ...   \n",
              "9286-DOJGF                             0                     1  ...   \n",
              "6994-KERXL                             0                     0  ...   \n",
              "2181-UAESM                             0                     0  ...   \n",
              "...                                  ...                   ...  ...   \n",
              "0684-AOSIH                             0                     0  ...   \n",
              "5982-PSMKW                             0                     1  ...   \n",
              "8044-BGWPI                             0                     0  ...   \n",
              "7450-NWRTR                             0                     1  ...   \n",
              "4795-UXVCJ                             0                     0  ...   \n",
              "\n",
              "            servico_streaming_tv_SemInternet  servico_streaming_tv_Sim  \\\n",
              "id_cliente                                                               \n",
              "7010-BRBUU                                 1                         0   \n",
              "9688-YGXVR                                 0                         1   \n",
              "9286-DOJGF                                 0                         0   \n",
              "6994-KERXL                                 0                         0   \n",
              "2181-UAESM                                 0                         0   \n",
              "...                                      ...                       ...   \n",
              "0684-AOSIH                                 0                         1   \n",
              "5982-PSMKW                                 0                         1   \n",
              "8044-BGWPI                                 1                         0   \n",
              "7450-NWRTR                                 0                         1   \n",
              "4795-UXVCJ                                 1                         0   \n",
              "\n",
              "            servico_filmes_SemInternet  servico_filmes_Sim  \\\n",
              "id_cliente                                                   \n",
              "7010-BRBUU                           1                   0   \n",
              "9688-YGXVR                           0                   0   \n",
              "9286-DOJGF                           0                   0   \n",
              "6994-KERXL                           0                   1   \n",
              "2181-UAESM                           0                   0   \n",
              "...                                ...                 ...   \n",
              "0684-AOSIH                           0                   1   \n",
              "5982-PSMKW                           0                   1   \n",
              "8044-BGWPI                           1                   0   \n",
              "7450-NWRTR                           0                   1   \n",
              "4795-UXVCJ                           1                   0   \n",
              "\n",
              "            tipo_contrato_Anual  tipo_contrato_Mensal  fatura_digital_Sim  \\\n",
              "id_cliente                                                                  \n",
              "7010-BRBUU                    0                     0                   0   \n",
              "9688-YGXVR                    0                     1                   1   \n",
              "9286-DOJGF                    0                     1                   1   \n",
              "6994-KERXL                    0                     1                   1   \n",
              "2181-UAESM                    0                     1                   0   \n",
              "...                         ...                   ...                 ...   \n",
              "0684-AOSIH                    0                     1                   1   \n",
              "5982-PSMKW                    0                     0                   1   \n",
              "8044-BGWPI                    0                     1                   1   \n",
              "7450-NWRTR                    0                     1                   1   \n",
              "4795-UXVCJ                    1                     0                   0   \n",
              "\n",
              "            forma_pagamento_BoletoImpresso  forma_pagamento_CartaoCredito  \\\n",
              "id_cliente                                                                  \n",
              "7010-BRBUU                               0                              1   \n",
              "9688-YGXVR                               0                              1   \n",
              "9286-DOJGF                               0                              0   \n",
              "6994-KERXL                               0                              0   \n",
              "2181-UAESM                               0                              0   \n",
              "...                                    ...                            ...   \n",
              "0684-AOSIH                               0                              0   \n",
              "5982-PSMKW                               0                              1   \n",
              "8044-BGWPI                               0                              0   \n",
              "7450-NWRTR                               0                              0   \n",
              "4795-UXVCJ                               0                              1   \n",
              "\n",
              "            forma_pagamento_DebitoAutomatico  \n",
              "id_cliente                                    \n",
              "7010-BRBUU                                 0  \n",
              "9688-YGXVR                                 0  \n",
              "9286-DOJGF                                 1  \n",
              "6994-KERXL                                 0  \n",
              "2181-UAESM                                 0  \n",
              "...                                      ...  \n",
              "0684-AOSIH                                 0  \n",
              "5982-PSMKW                                 0  \n",
              "8044-BGWPI                                 0  \n",
              "7450-NWRTR                                 0  \n",
              "4795-UXVCJ                                 0  \n",
              "\n",
              "[5974 rows x 30 columns]"
            ],
            "text/html": [
              "\n",
              "  <div id=\"df-2504423c-2522-4eea-a627-9b59cbdfe066\">\n",
              "    <div class=\"colab-df-container\">\n",
              "      <div>\n",
              "<style scoped>\n",
              "    .dataframe tbody tr th:only-of-type {\n",
              "        vertical-align: middle;\n",
              "    }\n",
              "\n",
              "    .dataframe tbody tr th {\n",
              "        vertical-align: top;\n",
              "    }\n",
              "\n",
              "    .dataframe thead th {\n",
              "        text-align: right;\n",
              "    }\n",
              "</style>\n",
              "<table border=\"1\" class=\"dataframe\">\n",
              "  <thead>\n",
              "    <tr style=\"text-align: right;\">\n",
              "      <th></th>\n",
              "      <th>meses_como_cliente</th>\n",
              "      <th>valor_mensal</th>\n",
              "      <th>total_gasto</th>\n",
              "      <th>genero_Masculino</th>\n",
              "      <th>aposentado_Sim</th>\n",
              "      <th>casado_Sim</th>\n",
              "      <th>dependentes_Sim</th>\n",
              "      <th>servico_telefone_Sim</th>\n",
              "      <th>multiplas_linhas_SemTelefone</th>\n",
              "      <th>multiplas_linhas_Sim</th>\n",
              "      <th>...</th>\n",
              "      <th>servico_streaming_tv_SemInternet</th>\n",
              "      <th>servico_streaming_tv_Sim</th>\n",
              "      <th>servico_filmes_SemInternet</th>\n",
              "      <th>servico_filmes_Sim</th>\n",
              "      <th>tipo_contrato_Anual</th>\n",
              "      <th>tipo_contrato_Mensal</th>\n",
              "      <th>fatura_digital_Sim</th>\n",
              "      <th>forma_pagamento_BoletoImpresso</th>\n",
              "      <th>forma_pagamento_CartaoCredito</th>\n",
              "      <th>forma_pagamento_DebitoAutomatico</th>\n",
              "    </tr>\n",
              "    <tr>\n",
              "      <th>id_cliente</th>\n",
              "      <th></th>\n",
              "      <th></th>\n",
              "      <th></th>\n",
              "      <th></th>\n",
              "      <th></th>\n",
              "      <th></th>\n",
              "      <th></th>\n",
              "      <th></th>\n",
              "      <th></th>\n",
              "      <th></th>\n",
              "      <th></th>\n",
              "      <th></th>\n",
              "      <th></th>\n",
              "      <th></th>\n",
              "      <th></th>\n",
              "      <th></th>\n",
              "      <th></th>\n",
              "      <th></th>\n",
              "      <th></th>\n",
              "      <th></th>\n",
              "      <th></th>\n",
              "    </tr>\n",
              "  </thead>\n",
              "  <tbody>\n",
              "    <tr>\n",
              "      <th>7010-BRBUU</th>\n",
              "      <td>1.000000</td>\n",
              "      <td>0.058209</td>\n",
              "      <td>0.093793</td>\n",
              "      <td>1</td>\n",
              "      <td>0</td>\n",
              "      <td>1</td>\n",
              "      <td>1</td>\n",
              "      <td>1</td>\n",
              "      <td>0</td>\n",
              "      <td>1</td>\n",
              "      <td>...</td>\n",
              "      <td>1</td>\n",
              "      <td>0</td>\n",
              "      <td>1</td>\n",
              "      <td>0</td>\n",
              "      <td>0</td>\n",
              "      <td>0</td>\n",
              "      <td>0</td>\n",
              "      <td>0</td>\n",
              "      <td>1</td>\n",
              "      <td>0</td>\n",
              "    </tr>\n",
              "    <tr>\n",
              "      <th>9688-YGXVR</th>\n",
              "      <td>0.605634</td>\n",
              "      <td>0.695522</td>\n",
              "      <td>0.744078</td>\n",
              "      <td>0</td>\n",
              "      <td>0</td>\n",
              "      <td>0</td>\n",
              "      <td>0</td>\n",
              "      <td>1</td>\n",
              "      <td>0</td>\n",
              "      <td>0</td>\n",
              "      <td>...</td>\n",
              "      <td>0</td>\n",
              "      <td>1</td>\n",
              "      <td>0</td>\n",
              "      <td>0</td>\n",
              "      <td>0</td>\n",
              "      <td>1</td>\n",
              "      <td>1</td>\n",
              "      <td>0</td>\n",
              "      <td>1</td>\n",
              "      <td>0</td>\n",
              "    </tr>\n",
              "    <tr>\n",
              "      <th>9286-DOJGF</th>\n",
              "      <td>0.521127</td>\n",
              "      <td>0.564179</td>\n",
              "      <td>0.423562</td>\n",
              "      <td>0</td>\n",
              "      <td>1</td>\n",
              "      <td>1</td>\n",
              "      <td>0</td>\n",
              "      <td>1</td>\n",
              "      <td>0</td>\n",
              "      <td>1</td>\n",
              "      <td>...</td>\n",
              "      <td>0</td>\n",
              "      <td>0</td>\n",
              "      <td>0</td>\n",
              "      <td>0</td>\n",
              "      <td>0</td>\n",
              "      <td>1</td>\n",
              "      <td>1</td>\n",
              "      <td>0</td>\n",
              "      <td>0</td>\n",
              "      <td>1</td>\n",
              "    </tr>\n",
              "    <tr>\n",
              "      <th>6994-KERXL</th>\n",
              "      <td>0.042254</td>\n",
              "      <td>0.374627</td>\n",
              "      <td>-0.340829</td>\n",
              "      <td>1</td>\n",
              "      <td>0</td>\n",
              "      <td>0</td>\n",
              "      <td>0</td>\n",
              "      <td>1</td>\n",
              "      <td>0</td>\n",
              "      <td>0</td>\n",
              "      <td>...</td>\n",
              "      <td>0</td>\n",
              "      <td>0</td>\n",
              "      <td>0</td>\n",
              "      <td>1</td>\n",
              "      <td>0</td>\n",
              "      <td>1</td>\n",
              "      <td>1</td>\n",
              "      <td>0</td>\n",
              "      <td>0</td>\n",
              "      <td>0</td>\n",
              "    </tr>\n",
              "    <tr>\n",
              "      <th>2181-UAESM</th>\n",
              "      <td>0.014085</td>\n",
              "      <td>0.350249</td>\n",
              "      <td>-0.375398</td>\n",
              "      <td>1</td>\n",
              "      <td>0</td>\n",
              "      <td>0</td>\n",
              "      <td>0</td>\n",
              "      <td>1</td>\n",
              "      <td>0</td>\n",
              "      <td>0</td>\n",
              "      <td>...</td>\n",
              "      <td>0</td>\n",
              "      <td>0</td>\n",
              "      <td>0</td>\n",
              "      <td>0</td>\n",
              "      <td>0</td>\n",
              "      <td>1</td>\n",
              "      <td>0</td>\n",
              "      <td>0</td>\n",
              "      <td>0</td>\n",
              "      <td>0</td>\n",
              "    </tr>\n",
              "    <tr>\n",
              "      <th>...</th>\n",
              "      <td>...</td>\n",
              "      <td>...</td>\n",
              "      <td>...</td>\n",
              "      <td>...</td>\n",
              "      <td>...</td>\n",
              "      <td>...</td>\n",
              "      <td>...</td>\n",
              "      <td>...</td>\n",
              "      <td>...</td>\n",
              "      <td>...</td>\n",
              "      <td>...</td>\n",
              "      <td>...</td>\n",
              "      <td>...</td>\n",
              "      <td>...</td>\n",
              "      <td>...</td>\n",
              "      <td>...</td>\n",
              "      <td>...</td>\n",
              "      <td>...</td>\n",
              "      <td>...</td>\n",
              "      <td>...</td>\n",
              "      <td>...</td>\n",
              "    </tr>\n",
              "    <tr>\n",
              "      <th>0684-AOSIH</th>\n",
              "      <td>0.000000</td>\n",
              "      <td>0.763682</td>\n",
              "      <td>-0.382515</td>\n",
              "      <td>1</td>\n",
              "      <td>0</td>\n",
              "      <td>1</td>\n",
              "      <td>0</td>\n",
              "      <td>1</td>\n",
              "      <td>0</td>\n",
              "      <td>0</td>\n",
              "      <td>...</td>\n",
              "      <td>0</td>\n",
              "      <td>1</td>\n",
              "      <td>0</td>\n",
              "      <td>1</td>\n",
              "      <td>0</td>\n",
              "      <td>1</td>\n",
              "      <td>1</td>\n",
              "      <td>0</td>\n",
              "      <td>0</td>\n",
              "      <td>0</td>\n",
              "    </tr>\n",
              "    <tr>\n",
              "      <th>5982-PSMKW</th>\n",
              "      <td>0.309859</td>\n",
              "      <td>0.724876</td>\n",
              "      <td>0.228481</td>\n",
              "      <td>0</td>\n",
              "      <td>0</td>\n",
              "      <td>1</td>\n",
              "      <td>1</td>\n",
              "      <td>1</td>\n",
              "      <td>0</td>\n",
              "      <td>1</td>\n",
              "      <td>...</td>\n",
              "      <td>0</td>\n",
              "      <td>1</td>\n",
              "      <td>0</td>\n",
              "      <td>1</td>\n",
              "      <td>0</td>\n",
              "      <td>0</td>\n",
              "      <td>1</td>\n",
              "      <td>0</td>\n",
              "      <td>1</td>\n",
              "      <td>0</td>\n",
              "    </tr>\n",
              "    <tr>\n",
              "      <th>8044-BGWPI</th>\n",
              "      <td>0.154930</td>\n",
              "      <td>0.028856</td>\n",
              "      <td>-0.321206</td>\n",
              "      <td>1</td>\n",
              "      <td>0</td>\n",
              "      <td>1</td>\n",
              "      <td>1</td>\n",
              "      <td>1</td>\n",
              "      <td>0</td>\n",
              "      <td>0</td>\n",
              "      <td>...</td>\n",
              "      <td>1</td>\n",
              "      <td>0</td>\n",
              "      <td>1</td>\n",
              "      <td>0</td>\n",
              "      <td>0</td>\n",
              "      <td>1</td>\n",
              "      <td>1</td>\n",
              "      <td>0</td>\n",
              "      <td>0</td>\n",
              "      <td>0</td>\n",
              "    </tr>\n",
              "    <tr>\n",
              "      <th>7450-NWRTR</th>\n",
              "      <td>0.154930</td>\n",
              "      <td>0.807960</td>\n",
              "      <td>-0.061476</td>\n",
              "      <td>1</td>\n",
              "      <td>1</td>\n",
              "      <td>0</td>\n",
              "      <td>0</td>\n",
              "      <td>1</td>\n",
              "      <td>0</td>\n",
              "      <td>1</td>\n",
              "      <td>...</td>\n",
              "      <td>0</td>\n",
              "      <td>1</td>\n",
              "      <td>0</td>\n",
              "      <td>1</td>\n",
              "      <td>0</td>\n",
              "      <td>1</td>\n",
              "      <td>1</td>\n",
              "      <td>0</td>\n",
              "      <td>0</td>\n",
              "      <td>0</td>\n",
              "    </tr>\n",
              "    <tr>\n",
              "      <th>4795-UXVCJ</th>\n",
              "      <td>0.352113</td>\n",
              "      <td>0.015423</td>\n",
              "      <td>-0.277269</td>\n",
              "      <td>1</td>\n",
              "      <td>0</td>\n",
              "      <td>0</td>\n",
              "      <td>0</td>\n",
              "      <td>1</td>\n",
              "      <td>0</td>\n",
              "      <td>0</td>\n",
              "      <td>...</td>\n",
              "      <td>1</td>\n",
              "      <td>0</td>\n",
              "      <td>1</td>\n",
              "      <td>0</td>\n",
              "      <td>1</td>\n",
              "      <td>0</td>\n",
              "      <td>0</td>\n",
              "      <td>0</td>\n",
              "      <td>1</td>\n",
              "      <td>0</td>\n",
              "    </tr>\n",
              "  </tbody>\n",
              "</table>\n",
              "<p>5974 rows × 30 columns</p>\n",
              "</div>\n",
              "      <button class=\"colab-df-convert\" onclick=\"convertToInteractive('df-2504423c-2522-4eea-a627-9b59cbdfe066')\"\n",
              "              title=\"Convert this dataframe to an interactive table.\"\n",
              "              style=\"display:none;\">\n",
              "        \n",
              "  <svg xmlns=\"http://www.w3.org/2000/svg\" height=\"24px\"viewBox=\"0 0 24 24\"\n",
              "       width=\"24px\">\n",
              "    <path d=\"M0 0h24v24H0V0z\" fill=\"none\"/>\n",
              "    <path d=\"M18.56 5.44l.94 2.06.94-2.06 2.06-.94-2.06-.94-.94-2.06-.94 2.06-2.06.94zm-11 1L8.5 8.5l.94-2.06 2.06-.94-2.06-.94L8.5 2.5l-.94 2.06-2.06.94zm10 10l.94 2.06.94-2.06 2.06-.94-2.06-.94-.94-2.06-.94 2.06-2.06.94z\"/><path d=\"M17.41 7.96l-1.37-1.37c-.4-.4-.92-.59-1.43-.59-.52 0-1.04.2-1.43.59L10.3 9.45l-7.72 7.72c-.78.78-.78 2.05 0 2.83L4 21.41c.39.39.9.59 1.41.59.51 0 1.02-.2 1.41-.59l7.78-7.78 2.81-2.81c.8-.78.8-2.07 0-2.86zM5.41 20L4 18.59l7.72-7.72 1.47 1.35L5.41 20z\"/>\n",
              "  </svg>\n",
              "      </button>\n",
              "      \n",
              "  <style>\n",
              "    .colab-df-container {\n",
              "      display:flex;\n",
              "      flex-wrap:wrap;\n",
              "      gap: 12px;\n",
              "    }\n",
              "\n",
              "    .colab-df-convert {\n",
              "      background-color: #E8F0FE;\n",
              "      border: none;\n",
              "      border-radius: 50%;\n",
              "      cursor: pointer;\n",
              "      display: none;\n",
              "      fill: #1967D2;\n",
              "      height: 32px;\n",
              "      padding: 0 0 0 0;\n",
              "      width: 32px;\n",
              "    }\n",
              "\n",
              "    .colab-df-convert:hover {\n",
              "      background-color: #E2EBFA;\n",
              "      box-shadow: 0px 1px 2px rgba(60, 64, 67, 0.3), 0px 1px 3px 1px rgba(60, 64, 67, 0.15);\n",
              "      fill: #174EA6;\n",
              "    }\n",
              "\n",
              "    [theme=dark] .colab-df-convert {\n",
              "      background-color: #3B4455;\n",
              "      fill: #D2E3FC;\n",
              "    }\n",
              "\n",
              "    [theme=dark] .colab-df-convert:hover {\n",
              "      background-color: #434B5C;\n",
              "      box-shadow: 0px 1px 3px 1px rgba(0, 0, 0, 0.15);\n",
              "      filter: drop-shadow(0px 1px 2px rgba(0, 0, 0, 0.3));\n",
              "      fill: #FFFFFF;\n",
              "    }\n",
              "  </style>\n",
              "\n",
              "      <script>\n",
              "        const buttonEl =\n",
              "          document.querySelector('#df-2504423c-2522-4eea-a627-9b59cbdfe066 button.colab-df-convert');\n",
              "        buttonEl.style.display =\n",
              "          google.colab.kernel.accessAllowed ? 'block' : 'none';\n",
              "\n",
              "        async function convertToInteractive(key) {\n",
              "          const element = document.querySelector('#df-2504423c-2522-4eea-a627-9b59cbdfe066');\n",
              "          const dataTable =\n",
              "            await google.colab.kernel.invokeFunction('convertToInteractive',\n",
              "                                                     [key], {});\n",
              "          if (!dataTable) return;\n",
              "\n",
              "          const docLinkHtml = 'Like what you see? Visit the ' +\n",
              "            '<a target=\"_blank\" href=https://colab.research.google.com/notebooks/data_table.ipynb>data table notebook</a>'\n",
              "            + ' to learn more about interactive tables.';\n",
              "          element.innerHTML = '';\n",
              "          dataTable['output_type'] = 'display_data';\n",
              "          await google.colab.output.renderOutput(dataTable, element);\n",
              "          const docLink = document.createElement('div');\n",
              "          docLink.innerHTML = docLinkHtml;\n",
              "          element.appendChild(docLink);\n",
              "        }\n",
              "      </script>\n",
              "    </div>\n",
              "  </div>\n",
              "  "
            ]
          },
          "metadata": {},
          "execution_count": 77
        }
      ],
      "source": [
        "#Criando variaveis independentes e dependentes\n",
        "y = df5['churn']\n",
        "X = df5\n",
        "X = df5.drop('churn',axis = 1)\n",
        "X"
      ]
    },
    {
      "cell_type": "code",
      "execution_count": 78,
      "metadata": {
        "scrolled": true,
        "colab": {
          "base_uri": "https://localhost:8080/",
          "height": 0
        },
        "id": "VTMvAxKJj2Ff",
        "outputId": "54b99b75-9aa7-45d3-b5d6-235230a5fc62"
      },
      "outputs": [
        {
          "output_type": "execute_result",
          "data": {
            "text/plain": [
              "            meses_como_cliente  valor_mensal  total_gasto  genero_Masculino  \\\n",
              "id_cliente                                                                    \n",
              "3570-YUEKJ            0.577465      0.311443     0.193520                 0   \n",
              "2150-UWTFY            0.295775      0.426866     0.002985                 0   \n",
              "4070-OKWVH            0.718310      0.759701     1.049852                 0   \n",
              "9334-GWGOW            0.084507      0.563184    -0.269150                 1   \n",
              "9961-JBNMK            0.281690      0.781592     0.179678                 1   \n",
              "...                        ...           ...          ...               ...   \n",
              "7047-YXDMZ            0.281690      0.017413    -0.288773                 1   \n",
              "8647-SDTWQ            0.788732      0.557711     0.757194                 1   \n",
              "3737-XBQDD            0.323944      0.662687     0.185052                 1   \n",
              "6308-CQRBU            0.985915      0.905473     1.828928                 0   \n",
              "7508-SMHXL            0.197183      0.703980    -0.035869                 0   \n",
              "\n",
              "            aposentado_Sim  casado_Sim  dependentes_Sim  servico_telefone_Sim  \\\n",
              "id_cliente                                                                      \n",
              "3570-YUEKJ               0           0                0                     1   \n",
              "2150-UWTFY               0           1                1                     1   \n",
              "4070-OKWVH               0           1                0                     1   \n",
              "9334-GWGOW               1           1                0                     1   \n",
              "9961-JBNMK               1           0                0                     1   \n",
              "...                    ...         ...              ...                   ...   \n",
              "7047-YXDMZ               0           0                0                     1   \n",
              "8647-SDTWQ               0           1                1                     1   \n",
              "3737-XBQDD               0           0                0                     1   \n",
              "6308-CQRBU               0           1                0                     1   \n",
              "7508-SMHXL               1           0                0                     1   \n",
              "\n",
              "            multiplas_linhas_SemTelefone  multiplas_linhas_Sim  ...  \\\n",
              "id_cliente                                                      ...   \n",
              "3570-YUEKJ                             0                     0  ...   \n",
              "2150-UWTFY                             0                     0  ...   \n",
              "4070-OKWVH                             0                     1  ...   \n",
              "9334-GWGOW                             0                     1  ...   \n",
              "9961-JBNMK                             0                     0  ...   \n",
              "...                                  ...                   ...  ...   \n",
              "7047-YXDMZ                             0                     0  ...   \n",
              "8647-SDTWQ                             0                     1  ...   \n",
              "3737-XBQDD                             0                     1  ...   \n",
              "6308-CQRBU                             0                     1  ...   \n",
              "7508-SMHXL                             0                     1  ...   \n",
              "\n",
              "            servico_streaming_tv_SemInternet  servico_streaming_tv_Sim  \\\n",
              "id_cliente                                                               \n",
              "3570-YUEKJ                                 0                         0   \n",
              "2150-UWTFY                                 0                         0   \n",
              "4070-OKWVH                                 0                         1   \n",
              "9334-GWGOW                                 0                         0   \n",
              "9961-JBNMK                                 0                         1   \n",
              "...                                      ...                       ...   \n",
              "7047-YXDMZ                                 1                         0   \n",
              "8647-SDTWQ                                 0                         0   \n",
              "3737-XBQDD                                 0                         0   \n",
              "6308-CQRBU                                 0                         1   \n",
              "7508-SMHXL                                 0                         1   \n",
              "\n",
              "            servico_filmes_SemInternet  servico_filmes_Sim  \\\n",
              "id_cliente                                                   \n",
              "3570-YUEKJ                           0                   0   \n",
              "2150-UWTFY                           0                   0   \n",
              "4070-OKWVH                           0                   0   \n",
              "9334-GWGOW                           0                   0   \n",
              "9961-JBNMK                           0                   1   \n",
              "...                                ...                 ...   \n",
              "7047-YXDMZ                           1                   0   \n",
              "8647-SDTWQ                           0                   0   \n",
              "3737-XBQDD                           0                   0   \n",
              "6308-CQRBU                           0                   1   \n",
              "7508-SMHXL                           0                   0   \n",
              "\n",
              "            tipo_contrato_Anual  tipo_contrato_Mensal  fatura_digital_Sim  \\\n",
              "id_cliente                                                                  \n",
              "3570-YUEKJ                    0                     1                   1   \n",
              "2150-UWTFY                    0                     1                   0   \n",
              "4070-OKWVH                    0                     1                   0   \n",
              "9334-GWGOW                    0                     1                   1   \n",
              "9961-JBNMK                    0                     1                   1   \n",
              "...                         ...                   ...                 ...   \n",
              "7047-YXDMZ                    0                     1                   0   \n",
              "8647-SDTWQ                    0                     1                   1   \n",
              "3737-XBQDD                    0                     1                   1   \n",
              "6308-CQRBU                    0                     0                   0   \n",
              "7508-SMHXL                    0                     1                   0   \n",
              "\n",
              "            forma_pagamento_BoletoImpresso  forma_pagamento_CartaoCredito  \\\n",
              "id_cliente                                                                  \n",
              "3570-YUEKJ                               0                              0   \n",
              "2150-UWTFY                               1                              0   \n",
              "4070-OKWVH                               0                              0   \n",
              "9334-GWGOW                               0                              0   \n",
              "9961-JBNMK                               0                              0   \n",
              "...                                    ...                            ...   \n",
              "7047-YXDMZ                               1                              0   \n",
              "8647-SDTWQ                               0                              0   \n",
              "3737-XBQDD                               0                              0   \n",
              "6308-CQRBU                               0                              0   \n",
              "7508-SMHXL                               0                              1   \n",
              "\n",
              "            forma_pagamento_DebitoAutomatico  \n",
              "id_cliente                                    \n",
              "3570-YUEKJ                                 0  \n",
              "2150-UWTFY                                 0  \n",
              "4070-OKWVH                                 1  \n",
              "9334-GWGOW                                 0  \n",
              "9961-JBNMK                                 1  \n",
              "...                                      ...  \n",
              "7047-YXDMZ                                 0  \n",
              "8647-SDTWQ                                 0  \n",
              "3737-XBQDD                                 1  \n",
              "6308-CQRBU                                 0  \n",
              "7508-SMHXL                                 0  \n",
              "\n",
              "[4181 rows x 30 columns]"
            ],
            "text/html": [
              "\n",
              "  <div id=\"df-78fdfabb-3e45-4d8d-9769-398781141dba\">\n",
              "    <div class=\"colab-df-container\">\n",
              "      <div>\n",
              "<style scoped>\n",
              "    .dataframe tbody tr th:only-of-type {\n",
              "        vertical-align: middle;\n",
              "    }\n",
              "\n",
              "    .dataframe tbody tr th {\n",
              "        vertical-align: top;\n",
              "    }\n",
              "\n",
              "    .dataframe thead th {\n",
              "        text-align: right;\n",
              "    }\n",
              "</style>\n",
              "<table border=\"1\" class=\"dataframe\">\n",
              "  <thead>\n",
              "    <tr style=\"text-align: right;\">\n",
              "      <th></th>\n",
              "      <th>meses_como_cliente</th>\n",
              "      <th>valor_mensal</th>\n",
              "      <th>total_gasto</th>\n",
              "      <th>genero_Masculino</th>\n",
              "      <th>aposentado_Sim</th>\n",
              "      <th>casado_Sim</th>\n",
              "      <th>dependentes_Sim</th>\n",
              "      <th>servico_telefone_Sim</th>\n",
              "      <th>multiplas_linhas_SemTelefone</th>\n",
              "      <th>multiplas_linhas_Sim</th>\n",
              "      <th>...</th>\n",
              "      <th>servico_streaming_tv_SemInternet</th>\n",
              "      <th>servico_streaming_tv_Sim</th>\n",
              "      <th>servico_filmes_SemInternet</th>\n",
              "      <th>servico_filmes_Sim</th>\n",
              "      <th>tipo_contrato_Anual</th>\n",
              "      <th>tipo_contrato_Mensal</th>\n",
              "      <th>fatura_digital_Sim</th>\n",
              "      <th>forma_pagamento_BoletoImpresso</th>\n",
              "      <th>forma_pagamento_CartaoCredito</th>\n",
              "      <th>forma_pagamento_DebitoAutomatico</th>\n",
              "    </tr>\n",
              "    <tr>\n",
              "      <th>id_cliente</th>\n",
              "      <th></th>\n",
              "      <th></th>\n",
              "      <th></th>\n",
              "      <th></th>\n",
              "      <th></th>\n",
              "      <th></th>\n",
              "      <th></th>\n",
              "      <th></th>\n",
              "      <th></th>\n",
              "      <th></th>\n",
              "      <th></th>\n",
              "      <th></th>\n",
              "      <th></th>\n",
              "      <th></th>\n",
              "      <th></th>\n",
              "      <th></th>\n",
              "      <th></th>\n",
              "      <th></th>\n",
              "      <th></th>\n",
              "      <th></th>\n",
              "      <th></th>\n",
              "    </tr>\n",
              "  </thead>\n",
              "  <tbody>\n",
              "    <tr>\n",
              "      <th>3570-YUEKJ</th>\n",
              "      <td>0.577465</td>\n",
              "      <td>0.311443</td>\n",
              "      <td>0.193520</td>\n",
              "      <td>0</td>\n",
              "      <td>0</td>\n",
              "      <td>0</td>\n",
              "      <td>0</td>\n",
              "      <td>1</td>\n",
              "      <td>0</td>\n",
              "      <td>0</td>\n",
              "      <td>...</td>\n",
              "      <td>0</td>\n",
              "      <td>0</td>\n",
              "      <td>0</td>\n",
              "      <td>0</td>\n",
              "      <td>0</td>\n",
              "      <td>1</td>\n",
              "      <td>1</td>\n",
              "      <td>0</td>\n",
              "      <td>0</td>\n",
              "      <td>0</td>\n",
              "    </tr>\n",
              "    <tr>\n",
              "      <th>2150-UWTFY</th>\n",
              "      <td>0.295775</td>\n",
              "      <td>0.426866</td>\n",
              "      <td>0.002985</td>\n",
              "      <td>0</td>\n",
              "      <td>0</td>\n",
              "      <td>1</td>\n",
              "      <td>1</td>\n",
              "      <td>1</td>\n",
              "      <td>0</td>\n",
              "      <td>0</td>\n",
              "      <td>...</td>\n",
              "      <td>0</td>\n",
              "      <td>0</td>\n",
              "      <td>0</td>\n",
              "      <td>0</td>\n",
              "      <td>0</td>\n",
              "      <td>1</td>\n",
              "      <td>0</td>\n",
              "      <td>1</td>\n",
              "      <td>0</td>\n",
              "      <td>0</td>\n",
              "    </tr>\n",
              "    <tr>\n",
              "      <th>4070-OKWVH</th>\n",
              "      <td>0.718310</td>\n",
              "      <td>0.759701</td>\n",
              "      <td>1.049852</td>\n",
              "      <td>0</td>\n",
              "      <td>0</td>\n",
              "      <td>1</td>\n",
              "      <td>0</td>\n",
              "      <td>1</td>\n",
              "      <td>0</td>\n",
              "      <td>1</td>\n",
              "      <td>...</td>\n",
              "      <td>0</td>\n",
              "      <td>1</td>\n",
              "      <td>0</td>\n",
              "      <td>0</td>\n",
              "      <td>0</td>\n",
              "      <td>1</td>\n",
              "      <td>0</td>\n",
              "      <td>0</td>\n",
              "      <td>0</td>\n",
              "      <td>1</td>\n",
              "    </tr>\n",
              "    <tr>\n",
              "      <th>9334-GWGOW</th>\n",
              "      <td>0.084507</td>\n",
              "      <td>0.563184</td>\n",
              "      <td>-0.269150</td>\n",
              "      <td>1</td>\n",
              "      <td>1</td>\n",
              "      <td>1</td>\n",
              "      <td>0</td>\n",
              "      <td>1</td>\n",
              "      <td>0</td>\n",
              "      <td>1</td>\n",
              "      <td>...</td>\n",
              "      <td>0</td>\n",
              "      <td>0</td>\n",
              "      <td>0</td>\n",
              "      <td>0</td>\n",
              "      <td>0</td>\n",
              "      <td>1</td>\n",
              "      <td>1</td>\n",
              "      <td>0</td>\n",
              "      <td>0</td>\n",
              "      <td>0</td>\n",
              "    </tr>\n",
              "    <tr>\n",
              "      <th>9961-JBNMK</th>\n",
              "      <td>0.281690</td>\n",
              "      <td>0.781592</td>\n",
              "      <td>0.179678</td>\n",
              "      <td>1</td>\n",
              "      <td>1</td>\n",
              "      <td>0</td>\n",
              "      <td>0</td>\n",
              "      <td>1</td>\n",
              "      <td>0</td>\n",
              "      <td>0</td>\n",
              "      <td>...</td>\n",
              "      <td>0</td>\n",
              "      <td>1</td>\n",
              "      <td>0</td>\n",
              "      <td>1</td>\n",
              "      <td>0</td>\n",
              "      <td>1</td>\n",
              "      <td>1</td>\n",
              "      <td>0</td>\n",
              "      <td>0</td>\n",
              "      <td>1</td>\n",
              "    </tr>\n",
              "    <tr>\n",
              "      <th>...</th>\n",
              "      <td>...</td>\n",
              "      <td>...</td>\n",
              "      <td>...</td>\n",
              "      <td>...</td>\n",
              "      <td>...</td>\n",
              "      <td>...</td>\n",
              "      <td>...</td>\n",
              "      <td>...</td>\n",
              "      <td>...</td>\n",
              "      <td>...</td>\n",
              "      <td>...</td>\n",
              "      <td>...</td>\n",
              "      <td>...</td>\n",
              "      <td>...</td>\n",
              "      <td>...</td>\n",
              "      <td>...</td>\n",
              "      <td>...</td>\n",
              "      <td>...</td>\n",
              "      <td>...</td>\n",
              "      <td>...</td>\n",
              "      <td>...</td>\n",
              "    </tr>\n",
              "    <tr>\n",
              "      <th>7047-YXDMZ</th>\n",
              "      <td>0.281690</td>\n",
              "      <td>0.017413</td>\n",
              "      <td>-0.288773</td>\n",
              "      <td>1</td>\n",
              "      <td>0</td>\n",
              "      <td>0</td>\n",
              "      <td>0</td>\n",
              "      <td>1</td>\n",
              "      <td>0</td>\n",
              "      <td>0</td>\n",
              "      <td>...</td>\n",
              "      <td>1</td>\n",
              "      <td>0</td>\n",
              "      <td>1</td>\n",
              "      <td>0</td>\n",
              "      <td>0</td>\n",
              "      <td>1</td>\n",
              "      <td>0</td>\n",
              "      <td>1</td>\n",
              "      <td>0</td>\n",
              "      <td>0</td>\n",
              "    </tr>\n",
              "    <tr>\n",
              "      <th>8647-SDTWQ</th>\n",
              "      <td>0.788732</td>\n",
              "      <td>0.557711</td>\n",
              "      <td>0.757194</td>\n",
              "      <td>1</td>\n",
              "      <td>0</td>\n",
              "      <td>1</td>\n",
              "      <td>1</td>\n",
              "      <td>1</td>\n",
              "      <td>0</td>\n",
              "      <td>1</td>\n",
              "      <td>...</td>\n",
              "      <td>0</td>\n",
              "      <td>0</td>\n",
              "      <td>0</td>\n",
              "      <td>0</td>\n",
              "      <td>0</td>\n",
              "      <td>1</td>\n",
              "      <td>1</td>\n",
              "      <td>0</td>\n",
              "      <td>0</td>\n",
              "      <td>0</td>\n",
              "    </tr>\n",
              "    <tr>\n",
              "      <th>3737-XBQDD</th>\n",
              "      <td>0.323944</td>\n",
              "      <td>0.662687</td>\n",
              "      <td>0.185052</td>\n",
              "      <td>1</td>\n",
              "      <td>0</td>\n",
              "      <td>0</td>\n",
              "      <td>0</td>\n",
              "      <td>1</td>\n",
              "      <td>0</td>\n",
              "      <td>1</td>\n",
              "      <td>...</td>\n",
              "      <td>0</td>\n",
              "      <td>0</td>\n",
              "      <td>0</td>\n",
              "      <td>0</td>\n",
              "      <td>0</td>\n",
              "      <td>1</td>\n",
              "      <td>1</td>\n",
              "      <td>0</td>\n",
              "      <td>0</td>\n",
              "      <td>1</td>\n",
              "    </tr>\n",
              "    <tr>\n",
              "      <th>6308-CQRBU</th>\n",
              "      <td>0.985915</td>\n",
              "      <td>0.905473</td>\n",
              "      <td>1.828928</td>\n",
              "      <td>0</td>\n",
              "      <td>0</td>\n",
              "      <td>1</td>\n",
              "      <td>0</td>\n",
              "      <td>1</td>\n",
              "      <td>0</td>\n",
              "      <td>1</td>\n",
              "      <td>...</td>\n",
              "      <td>0</td>\n",
              "      <td>1</td>\n",
              "      <td>0</td>\n",
              "      <td>1</td>\n",
              "      <td>0</td>\n",
              "      <td>0</td>\n",
              "      <td>0</td>\n",
              "      <td>0</td>\n",
              "      <td>0</td>\n",
              "      <td>0</td>\n",
              "    </tr>\n",
              "    <tr>\n",
              "      <th>7508-SMHXL</th>\n",
              "      <td>0.197183</td>\n",
              "      <td>0.703980</td>\n",
              "      <td>-0.035869</td>\n",
              "      <td>0</td>\n",
              "      <td>1</td>\n",
              "      <td>0</td>\n",
              "      <td>0</td>\n",
              "      <td>1</td>\n",
              "      <td>0</td>\n",
              "      <td>1</td>\n",
              "      <td>...</td>\n",
              "      <td>0</td>\n",
              "      <td>1</td>\n",
              "      <td>0</td>\n",
              "      <td>0</td>\n",
              "      <td>0</td>\n",
              "      <td>1</td>\n",
              "      <td>0</td>\n",
              "      <td>0</td>\n",
              "      <td>1</td>\n",
              "      <td>0</td>\n",
              "    </tr>\n",
              "  </tbody>\n",
              "</table>\n",
              "<p>4181 rows × 30 columns</p>\n",
              "</div>\n",
              "      <button class=\"colab-df-convert\" onclick=\"convertToInteractive('df-78fdfabb-3e45-4d8d-9769-398781141dba')\"\n",
              "              title=\"Convert this dataframe to an interactive table.\"\n",
              "              style=\"display:none;\">\n",
              "        \n",
              "  <svg xmlns=\"http://www.w3.org/2000/svg\" height=\"24px\"viewBox=\"0 0 24 24\"\n",
              "       width=\"24px\">\n",
              "    <path d=\"M0 0h24v24H0V0z\" fill=\"none\"/>\n",
              "    <path d=\"M18.56 5.44l.94 2.06.94-2.06 2.06-.94-2.06-.94-.94-2.06-.94 2.06-2.06.94zm-11 1L8.5 8.5l.94-2.06 2.06-.94-2.06-.94L8.5 2.5l-.94 2.06-2.06.94zm10 10l.94 2.06.94-2.06 2.06-.94-2.06-.94-.94-2.06-.94 2.06-2.06.94z\"/><path d=\"M17.41 7.96l-1.37-1.37c-.4-.4-.92-.59-1.43-.59-.52 0-1.04.2-1.43.59L10.3 9.45l-7.72 7.72c-.78.78-.78 2.05 0 2.83L4 21.41c.39.39.9.59 1.41.59.51 0 1.02-.2 1.41-.59l7.78-7.78 2.81-2.81c.8-.78.8-2.07 0-2.86zM5.41 20L4 18.59l7.72-7.72 1.47 1.35L5.41 20z\"/>\n",
              "  </svg>\n",
              "      </button>\n",
              "      \n",
              "  <style>\n",
              "    .colab-df-container {\n",
              "      display:flex;\n",
              "      flex-wrap:wrap;\n",
              "      gap: 12px;\n",
              "    }\n",
              "\n",
              "    .colab-df-convert {\n",
              "      background-color: #E8F0FE;\n",
              "      border: none;\n",
              "      border-radius: 50%;\n",
              "      cursor: pointer;\n",
              "      display: none;\n",
              "      fill: #1967D2;\n",
              "      height: 32px;\n",
              "      padding: 0 0 0 0;\n",
              "      width: 32px;\n",
              "    }\n",
              "\n",
              "    .colab-df-convert:hover {\n",
              "      background-color: #E2EBFA;\n",
              "      box-shadow: 0px 1px 2px rgba(60, 64, 67, 0.3), 0px 1px 3px 1px rgba(60, 64, 67, 0.15);\n",
              "      fill: #174EA6;\n",
              "    }\n",
              "\n",
              "    [theme=dark] .colab-df-convert {\n",
              "      background-color: #3B4455;\n",
              "      fill: #D2E3FC;\n",
              "    }\n",
              "\n",
              "    [theme=dark] .colab-df-convert:hover {\n",
              "      background-color: #434B5C;\n",
              "      box-shadow: 0px 1px 3px 1px rgba(0, 0, 0, 0.15);\n",
              "      filter: drop-shadow(0px 1px 2px rgba(0, 0, 0, 0.3));\n",
              "      fill: #FFFFFF;\n",
              "    }\n",
              "  </style>\n",
              "\n",
              "      <script>\n",
              "        const buttonEl =\n",
              "          document.querySelector('#df-78fdfabb-3e45-4d8d-9769-398781141dba button.colab-df-convert');\n",
              "        buttonEl.style.display =\n",
              "          google.colab.kernel.accessAllowed ? 'block' : 'none';\n",
              "\n",
              "        async function convertToInteractive(key) {\n",
              "          const element = document.querySelector('#df-78fdfabb-3e45-4d8d-9769-398781141dba');\n",
              "          const dataTable =\n",
              "            await google.colab.kernel.invokeFunction('convertToInteractive',\n",
              "                                                     [key], {});\n",
              "          if (!dataTable) return;\n",
              "\n",
              "          const docLinkHtml = 'Like what you see? Visit the ' +\n",
              "            '<a target=\"_blank\" href=https://colab.research.google.com/notebooks/data_table.ipynb>data table notebook</a>'\n",
              "            + ' to learn more about interactive tables.';\n",
              "          element.innerHTML = '';\n",
              "          dataTable['output_type'] = 'display_data';\n",
              "          await google.colab.output.renderOutput(dataTable, element);\n",
              "          const docLink = document.createElement('div');\n",
              "          docLink.innerHTML = docLinkHtml;\n",
              "          element.appendChild(docLink);\n",
              "        }\n",
              "      </script>\n",
              "    </div>\n",
              "  </div>\n",
              "  "
            ]
          },
          "metadata": {},
          "execution_count": 78
        }
      ],
      "source": [
        "# Separando em dados teste e treinamento \n",
        "x_treino, x_teste, y_treino, y_teste  = train_test_split(X, y, test_size = 0.30, random_state = 42)\n",
        "x_treino"
      ]
    },
    {
      "cell_type": "markdown",
      "metadata": {
        "id": "FjGl7kvcj2Fg"
      },
      "source": [
        "## Modelo KNN"
      ]
    },
    {
      "cell_type": "code",
      "execution_count": 79,
      "metadata": {
        "colab": {
          "base_uri": "https://localhost:8080/"
        },
        "id": "Lmkq7grxj2Fg",
        "outputId": "5073ed82-b2db-4019-9602-75ca35ce4ed4"
      },
      "outputs": [
        {
          "output_type": "execute_result",
          "data": {
            "text/plain": [
              "KNeighborsClassifier()"
            ]
          },
          "metadata": {},
          "execution_count": 79
        }
      ],
      "source": [
        "knn = KNeighborsClassifier()\n",
        "knn.fit(x_treino, y_treino)"
      ]
    },
    {
      "cell_type": "code",
      "execution_count": 80,
      "metadata": {
        "colab": {
          "base_uri": "https://localhost:8080/"
        },
        "id": "hG_1EQdRj2Fh",
        "outputId": "a7d21000-4ed2-4106-fe2d-3d88454a42f4"
      },
      "outputs": [
        {
          "output_type": "stream",
          "name": "stdout",
          "text": [
            "Predito     0    1   All\n",
            "Real                    \n",
            "0        1115  202  1317\n",
            "1         213  263   476\n",
            "All      1328  465  1793\n"
          ]
        }
      ],
      "source": [
        "resultado_knn = knn.predict(x_teste)\n",
        "print (pd.crosstab(y_teste,resultado_knn, rownames=['Real'], colnames=['Predito'], margins=True))"
      ]
    },
    {
      "cell_type": "code",
      "execution_count": 81,
      "metadata": {
        "colab": {
          "base_uri": "https://localhost:8080/"
        },
        "id": "kEwB7x56j2Fi",
        "outputId": "62179c5a-315b-466a-b00a-8528c3917ea2"
      },
      "outputs": [
        {
          "output_type": "stream",
          "name": "stdout",
          "text": [
            "              precision    recall  f1-score   support\n",
            "\n",
            "           0       0.84      0.85      0.84      1317\n",
            "           1       0.57      0.55      0.56       476\n",
            "\n",
            "    accuracy                           0.77      1793\n",
            "   macro avg       0.70      0.70      0.70      1793\n",
            "weighted avg       0.77      0.77      0.77      1793\n",
            "\n"
          ]
        }
      ],
      "source": [
        "print(classification_report(y_teste, resultado_knn ))"
      ]
    },
    {
      "cell_type": "markdown",
      "metadata": {
        "id": "VLnOnJgwj2Fi"
      },
      "source": [
        "### Encontrando o melhor K"
      ]
    },
    {
      "cell_type": "markdown",
      "metadata": {
        "id": "xj2WAfldj2Fj"
      },
      "source": [
        "Para encontrar o melhor K, ajustaremos varios modelos variando o número de K, aquele modelo que retornar o menor erro de predição é o modelo com K ideal."
      ]
    },
    {
      "cell_type": "code",
      "execution_count": 82,
      "metadata": {
        "id": "Yij2CFg_j2Fk"
      },
      "outputs": [],
      "source": [
        "error = []\n",
        "# Calculando o erro do k entre 1 a 40\n",
        "for i in range(1, 40):\n",
        "    knn = KNeighborsClassifier(n_neighbors=i)\n",
        "    knn.fit(x_treino, y_treino)\n",
        "    pred_i = knn.predict(x_teste)\n",
        "    error.append(np.mean(pred_i != y_teste))"
      ]
    },
    {
      "cell_type": "markdown",
      "metadata": {
        "id": "DCkAmSM0j2Fk"
      },
      "source": [
        "Na função acima, ajustei o modelo para diferentes k, variando k de 1 a 40. E depois calculei o número de erros de classificação e tirei a média, erro médio. A seguir, vou plotar os erros de predição para os diferentes k e aquele k com o menor erro, será o ajuste ideal."
      ]
    },
    {
      "cell_type": "code",
      "execution_count": 83,
      "metadata": {
        "colab": {
          "base_uri": "https://localhost:8080/",
          "height": 0
        },
        "id": "yAXHcFjij2Fl",
        "outputId": "b77bed05-6991-4f35-e030-d343479ef57f"
      },
      "outputs": [
        {
          "output_type": "execute_result",
          "data": {
            "text/plain": [
              "Text(0, 0.5, 'Erro Médio')"
            ]
          },
          "metadata": {},
          "execution_count": 83
        },
        {
          "output_type": "display_data",
          "data": {
            "text/plain": [
              "<Figure size 864x432 with 1 Axes>"
            ],
            "image/png": "[encoded data removed]"
          },
          "metadata": {
            "needs_background": "light"
          }
        }
      ],
      "source": [
        "plt.figure(figsize=(12, 6))\n",
        "plt.plot(range(1, 40), error, color='red', linestyle='dashed', marker='o',\n",
        "         markerfacecolor='blue', markersize=10)\n",
        "plt.title('Taxa de erro do valor K')\n",
        "plt.xlabel('Valor de K')\n",
        "plt.ylabel('Erro Médio')"
      ]
    },
    {
      "cell_type": "markdown",
      "metadata": {
        "id": "qugKMIpuj2Fm"
      },
      "source": [
        "O melhor k=14, assim iremos ajustar novamente o modelo KNN considerando K=14."
      ]
    },
    {
      "cell_type": "code",
      "execution_count": 84,
      "metadata": {
        "colab": {
          "base_uri": "https://localhost:8080/"
        },
        "id": "vj6v01xmj2Fm",
        "outputId": "427577c0-9f67-4679-bea6-4e0935c7bdde"
      },
      "outputs": [
        {
          "output_type": "execute_result",
          "data": {
            "text/plain": [
              "KNeighborsClassifier(n_neighbors=14)"
            ]
          },
          "metadata": {},
          "execution_count": 84
        }
      ],
      "source": [
        "knn = KNeighborsClassifier(n_neighbors=14)\n",
        "knn.fit(x_treino, y_treino)"
      ]
    },
    {
      "cell_type": "markdown",
      "metadata": {
        "id": "FoCBSyXjj2Fn"
      },
      "source": [
        "### Previsão na amostra teste e matriz de confusão"
      ]
    },
    {
      "cell_type": "code",
      "execution_count": 85,
      "metadata": {
        "colab": {
          "base_uri": "https://localhost:8080/"
        },
        "id": "-xmkpek8j2Fn",
        "outputId": "b2cae81b-4005-4a18-c036-ab18cf303e7b"
      },
      "outputs": [
        {
          "output_type": "stream",
          "name": "stdout",
          "text": [
            "Predito     0    1   All\n",
            "Real                    \n",
            "0        1170  147  1317\n",
            "1         223  253   476\n",
            "All      1393  400  1793\n"
          ]
        }
      ],
      "source": [
        "resultado_knn = knn.predict(x_teste)\n",
        "print (pd.crosstab(y_teste,resultado_knn, rownames=['Real'], colnames=['Predito'], margins=True))"
      ]
    },
    {
      "cell_type": "code",
      "execution_count": 86,
      "metadata": {
        "colab": {
          "base_uri": "https://localhost:8080/"
        },
        "id": "7RS2vK18j2Fo",
        "outputId": "4473e14b-ed23-45cf-aedf-45f1a6087310"
      },
      "outputs": [
        {
          "output_type": "stream",
          "name": "stdout",
          "text": [
            "              precision    recall  f1-score   support\n",
            "\n",
            "           0       0.84      0.89      0.86      1317\n",
            "           1       0.63      0.53      0.58       476\n",
            "\n",
            "    accuracy                           0.79      1793\n",
            "   macro avg       0.74      0.71      0.72      1793\n",
            "weighted avg       0.78      0.79      0.79      1793\n",
            "\n"
          ]
        }
      ],
      "source": [
        "print(classification_report(y_teste, resultado_knn ))"
      ]
    },
    {
      "cell_type": "markdown",
      "metadata": {
        "id": "Rbse5Nusj2Fp"
      },
      "source": [
        "Observe que apesar de estar classificando bem os clientes que não deram Churn, classe 0, temos muitos falsos negativos no modelo (quando o modelo preve 0, mas o correto era 1). Ou seja, o modelo não consegue prever bem o Churn, que é o objetivo principal na análise.\n",
        "\n",
        "Vamos tentar o modelo Random Forest para buscar um resultado melhor."
      ]
    },
    {
      "cell_type": "markdown",
      "metadata": {
        "id": "D9EszN3Cj2Fp"
      },
      "source": [
        "## Modelo Random Forest"
      ]
    },
    {
      "cell_type": "code",
      "execution_count": 87,
      "metadata": {
        "id": "lh0zPE6Vj2Fq"
      },
      "outputs": [],
      "source": [
        "# Instancie o modelo com 1000 árvores de decisão \n",
        "rf = RandomForestClassifier (n_estimators = 1000, random_state = 42) \n",
        "# Treine o modelo nos dados de treinamento \n",
        "rf.fit (x_treino, y_treino);"
      ]
    },
    {
      "cell_type": "code",
      "execution_count": 88,
      "metadata": {
        "colab": {
          "base_uri": "https://localhost:8080/"
        },
        "id": "25jd8gp2j2Fq",
        "outputId": "f2775160-2d3c-467e-9c47-525f3245b12f"
      },
      "outputs": [
        {
          "output_type": "stream",
          "name": "stdout",
          "text": [
            "Predito     0    1   All\n",
            "Real                    \n",
            "0        1201  116  1317\n",
            "1         245  231   476\n",
            "All      1446  347  1793\n"
          ]
        }
      ],
      "source": [
        "y_rf = rf.predict(x_teste)\n",
        "print (pd.crosstab(y_teste,y_rf, rownames=['Real'], colnames=['Predito'], margins=True))"
      ]
    },
    {
      "cell_type": "markdown",
      "metadata": {
        "id": "PZjMfQ4wj2Fr"
      },
      "source": [
        "O modelo de Random Forest conseguiu melhores resultados, porém ainda temos bastante falsos negativos. Vamos tentar um modelo mais robusto e que não sofre tanta influência em amostras desbalanceada."
      ]
    },
    {
      "cell_type": "code",
      "execution_count": 89,
      "metadata": {
        "colab": {
          "base_uri": "https://localhost:8080/"
        },
        "id": "ndWmU2paj2Fs",
        "outputId": "4a8e21a0-f300-48a7-fffc-b2367bd55fc4"
      },
      "outputs": [
        {
          "output_type": "stream",
          "name": "stdout",
          "text": [
            "              precision    recall  f1-score   support\n",
            "\n",
            "           0       0.83      0.91      0.87      1317\n",
            "           1       0.67      0.49      0.56       476\n",
            "\n",
            "    accuracy                           0.80      1793\n",
            "   macro avg       0.75      0.70      0.72      1793\n",
            "weighted avg       0.79      0.80      0.79      1793\n",
            "\n"
          ]
        }
      ],
      "source": [
        "print(classification_report(y_teste, y_rf))"
      ]
    },
    {
      "cell_type": "code",
      "execution_count": 90,
      "metadata": {
        "colab": {
          "base_uri": "https://localhost:8080/",
          "height": 0
        },
        "id": "l-VBjXNoj2Fs",
        "outputId": "c94db36d-47fe-4969-ce24-7bc3aac469b4"
      },
      "outputs": [
        {
          "output_type": "execute_result",
          "data": {
            "text/plain": [
              "                                      importance\n",
              "total_gasto                             0.193096\n",
              "valor_mensal                            0.168728\n",
              "meses_como_cliente                      0.162363\n",
              "tipo_contrato_Mensal                    0.069549\n",
              "servico_internet_Fibra                  0.035927\n",
              "genero_Masculino                        0.028940\n",
              "servico_seguranca_online_Sim            0.025840\n",
              "fatura_digital_Sim                      0.025522\n",
              "casado_Sim                              0.023528\n",
              "servico_suporte_tecnico_Sim             0.022382\n",
              "servico_backup_online_Sim               0.021674\n",
              "multiplas_linhas_Sim                    0.020593\n",
              "aposentado_Sim                          0.020360\n",
              "dependentes_Sim                         0.019501\n",
              "protecao_equipamento_Sim                0.019199\n",
              "forma_pagamento_DebitoAutomatico        0.017682\n",
              "forma_pagamento_CartaoCredito           0.017394\n",
              "servico_filmes_Sim                      0.017007\n",
              "servico_streaming_tv_Sim                0.016893\n",
              "forma_pagamento_BoletoImpresso          0.016034\n",
              "tipo_contrato_Anual                     0.011195\n",
              "servico_internet_Nao                    0.006035\n",
              "protecao_equipamento_SemInternet        0.006010\n",
              "servico_filmes_SemInternet              0.005687\n",
              "servico_streaming_tv_SemInternet        0.005564\n",
              "servico_seguranca_online_SemInternet    0.005223\n",
              "servico_suporte_tecnico_SemInternet     0.005192\n",
              "servico_telefone_Sim                    0.004500\n",
              "multiplas_linhas_SemTelefone            0.004341\n",
              "servico_backup_online_SemInternet       0.004041"
            ],
            "text/html": [
              "\n",
              "  <div id=\"df-e33a48a9-f11e-42d3-8df6-10ae7532afd2\">\n",
              "    <div class=\"colab-df-container\">\n",
              "      <div>\n",
              "<style scoped>\n",
              "    .dataframe tbody tr th:only-of-type {\n",
              "        vertical-align: middle;\n",
              "    }\n",
              "\n",
              "    .dataframe tbody tr th {\n",
              "        vertical-align: top;\n",
              "    }\n",
              "\n",
              "    .dataframe thead th {\n",
              "        text-align: right;\n",
              "    }\n",
              "</style>\n",
              "<table border=\"1\" class=\"dataframe\">\n",
              "  <thead>\n",
              "    <tr style=\"text-align: right;\">\n",
              "      <th></th>\n",
              "      <th>importance</th>\n",
              "    </tr>\n",
              "  </thead>\n",
              "  <tbody>\n",
              "    <tr>\n",
              "      <th>total_gasto</th>\n",
              "      <td>0.193096</td>\n",
              "    </tr>\n",
              "    <tr>\n",
              "      <th>valor_mensal</th>\n",
              "      <td>0.168728</td>\n",
              "    </tr>\n",
              "    <tr>\n",
              "      <th>meses_como_cliente</th>\n",
              "      <td>0.162363</td>\n",
              "    </tr>\n",
              "    <tr>\n",
              "      <th>tipo_contrato_Mensal</th>\n",
              "      <td>0.069549</td>\n",
              "    </tr>\n",
              "    <tr>\n",
              "      <th>servico_internet_Fibra</th>\n",
              "      <td>0.035927</td>\n",
              "    </tr>\n",
              "    <tr>\n",
              "      <th>genero_Masculino</th>\n",
              "      <td>0.028940</td>\n",
              "    </tr>\n",
              "    <tr>\n",
              "      <th>servico_seguranca_online_Sim</th>\n",
              "      <td>0.025840</td>\n",
              "    </tr>\n",
              "    <tr>\n",
              "      <th>fatura_digital_Sim</th>\n",
              "      <td>0.025522</td>\n",
              "    </tr>\n",
              "    <tr>\n",
              "      <th>casado_Sim</th>\n",
              "      <td>0.023528</td>\n",
              "    </tr>\n",
              "    <tr>\n",
              "      <th>servico_suporte_tecnico_Sim</th>\n",
              "      <td>0.022382</td>\n",
              "    </tr>\n",
              "    <tr>\n",
              "      <th>servico_backup_online_Sim</th>\n",
              "      <td>0.021674</td>\n",
              "    </tr>\n",
              "    <tr>\n",
              "      <th>multiplas_linhas_Sim</th>\n",
              "      <td>0.020593</td>\n",
              "    </tr>\n",
              "    <tr>\n",
              "      <th>aposentado_Sim</th>\n",
              "      <td>0.020360</td>\n",
              "    </tr>\n",
              "    <tr>\n",
              "      <th>dependentes_Sim</th>\n",
              "      <td>0.019501</td>\n",
              "    </tr>\n",
              "    <tr>\n",
              "      <th>protecao_equipamento_Sim</th>\n",
              "      <td>0.019199</td>\n",
              "    </tr>\n",
              "    <tr>\n",
              "      <th>forma_pagamento_DebitoAutomatico</th>\n",
              "      <td>0.017682</td>\n",
              "    </tr>\n",
              "    <tr>\n",
              "      <th>forma_pagamento_CartaoCredito</th>\n",
              "      <td>0.017394</td>\n",
              "    </tr>\n",
              "    <tr>\n",
              "      <th>servico_filmes_Sim</th>\n",
              "      <td>0.017007</td>\n",
              "    </tr>\n",
              "    <tr>\n",
              "      <th>servico_streaming_tv_Sim</th>\n",
              "      <td>0.016893</td>\n",
              "    </tr>\n",
              "    <tr>\n",
              "      <th>forma_pagamento_BoletoImpresso</th>\n",
              "      <td>0.016034</td>\n",
              "    </tr>\n",
              "    <tr>\n",
              "      <th>tipo_contrato_Anual</th>\n",
              "      <td>0.011195</td>\n",
              "    </tr>\n",
              "    <tr>\n",
              "      <th>servico_internet_Nao</th>\n",
              "      <td>0.006035</td>\n",
              "    </tr>\n",
              "    <tr>\n",
              "      <th>protecao_equipamento_SemInternet</th>\n",
              "      <td>0.006010</td>\n",
              "    </tr>\n",
              "    <tr>\n",
              "      <th>servico_filmes_SemInternet</th>\n",
              "      <td>0.005687</td>\n",
              "    </tr>\n",
              "    <tr>\n",
              "      <th>servico_streaming_tv_SemInternet</th>\n",
              "      <td>0.005564</td>\n",
              "    </tr>\n",
              "    <tr>\n",
              "      <th>servico_seguranca_online_SemInternet</th>\n",
              "      <td>0.005223</td>\n",
              "    </tr>\n",
              "    <tr>\n",
              "      <th>servico_suporte_tecnico_SemInternet</th>\n",
              "      <td>0.005192</td>\n",
              "    </tr>\n",
              "    <tr>\n",
              "      <th>servico_telefone_Sim</th>\n",
              "      <td>0.004500</td>\n",
              "    </tr>\n",
              "    <tr>\n",
              "      <th>multiplas_linhas_SemTelefone</th>\n",
              "      <td>0.004341</td>\n",
              "    </tr>\n",
              "    <tr>\n",
              "      <th>servico_backup_online_SemInternet</th>\n",
              "      <td>0.004041</td>\n",
              "    </tr>\n",
              "  </tbody>\n",
              "</table>\n",
              "</div>\n",
              "      <button class=\"colab-df-convert\" onclick=\"convertToInteractive('df-e33a48a9-f11e-42d3-8df6-10ae7532afd2')\"\n",
              "              title=\"Convert this dataframe to an interactive table.\"\n",
              "              style=\"display:none;\">\n",
              "        \n",
              "  <svg xmlns=\"http://www.w3.org/2000/svg\" height=\"24px\"viewBox=\"0 0 24 24\"\n",
              "       width=\"24px\">\n",
              "    <path d=\"M0 0h24v24H0V0z\" fill=\"none\"/>\n",
              "    <path d=\"M18.56 5.44l.94 2.06.94-2.06 2.06-.94-2.06-.94-.94-2.06-.94 2.06-2.06.94zm-11 1L8.5 8.5l.94-2.06 2.06-.94-2.06-.94L8.5 2.5l-.94 2.06-2.06.94zm10 10l.94 2.06.94-2.06 2.06-.94-2.06-.94-.94-2.06-.94 2.06-2.06.94z\"/><path d=\"M17.41 7.96l-1.37-1.37c-.4-.4-.92-.59-1.43-.59-.52 0-1.04.2-1.43.59L10.3 9.45l-7.72 7.72c-.78.78-.78 2.05 0 2.83L4 21.41c.39.39.9.59 1.41.59.51 0 1.02-.2 1.41-.59l7.78-7.78 2.81-2.81c.8-.78.8-2.07 0-2.86zM5.41 20L4 18.59l7.72-7.72 1.47 1.35L5.41 20z\"/>\n",
              "  </svg>\n",
              "      </button>\n",
              "      \n",
              "  <style>\n",
              "    .colab-df-container {\n",
              "      display:flex;\n",
              "      flex-wrap:wrap;\n",
              "      gap: 12px;\n",
              "    }\n",
              "\n",
              "    .colab-df-convert {\n",
              "      background-color: #E8F0FE;\n",
              "      border: none;\n",
              "      border-radius: 50%;\n",
              "      cursor: pointer;\n",
              "      display: none;\n",
              "      fill: #1967D2;\n",
              "      height: 32px;\n",
              "      padding: 0 0 0 0;\n",
              "      width: 32px;\n",
              "    }\n",
              "\n",
              "    .colab-df-convert:hover {\n",
              "      background-color: #E2EBFA;\n",
              "      box-shadow: 0px 1px 2px rgba(60, 64, 67, 0.3), 0px 1px 3px 1px rgba(60, 64, 67, 0.15);\n",
              "      fill: #174EA6;\n",
              "    }\n",
              "\n",
              "    [theme=dark] .colab-df-convert {\n",
              "      background-color: #3B4455;\n",
              "      fill: #D2E3FC;\n",
              "    }\n",
              "\n",
              "    [theme=dark] .colab-df-convert:hover {\n",
              "      background-color: #434B5C;\n",
              "      box-shadow: 0px 1px 3px 1px rgba(0, 0, 0, 0.15);\n",
              "      filter: drop-shadow(0px 1px 2px rgba(0, 0, 0, 0.3));\n",
              "      fill: #FFFFFF;\n",
              "    }\n",
              "  </style>\n",
              "\n",
              "      <script>\n",
              "        const buttonEl =\n",
              "          document.querySelector('#df-e33a48a9-f11e-42d3-8df6-10ae7532afd2 button.colab-df-convert');\n",
              "        buttonEl.style.display =\n",
              "          google.colab.kernel.accessAllowed ? 'block' : 'none';\n",
              "\n",
              "        async function convertToInteractive(key) {\n",
              "          const element = document.querySelector('#df-e33a48a9-f11e-42d3-8df6-10ae7532afd2');\n",
              "          const dataTable =\n",
              "            await google.colab.kernel.invokeFunction('convertToInteractive',\n",
              "                                                     [key], {});\n",
              "          if (!dataTable) return;\n",
              "\n",
              "          const docLinkHtml = 'Like what you see? Visit the ' +\n",
              "            '<a target=\"_blank\" href=https://colab.research.google.com/notebooks/data_table.ipynb>data table notebook</a>'\n",
              "            + ' to learn more about interactive tables.';\n",
              "          element.innerHTML = '';\n",
              "          dataTable['output_type'] = 'display_data';\n",
              "          await google.colab.output.renderOutput(dataTable, element);\n",
              "          const docLink = document.createElement('div');\n",
              "          docLink.innerHTML = docLinkHtml;\n",
              "          element.appendChild(docLink);\n",
              "        }\n",
              "      </script>\n",
              "    </div>\n",
              "  </div>\n",
              "  "
            ]
          },
          "metadata": {},
          "execution_count": 90
        }
      ],
      "source": [
        "#Analisando a importância de cada variável\n",
        "rf.feature_importances_\n",
        "\n",
        "feature_importances = pd.DataFrame(rf.feature_importances_, index = x_treino.columns, columns=['importance']).sort_values('importance',ascending=False)\n",
        "feature_importances"
      ]
    },
    {
      "cell_type": "markdown",
      "metadata": {
        "id": "k9QiGv9wj2Fv"
      },
      "source": [
        "## Modelo XGBoost"
      ]
    },
    {
      "cell_type": "code",
      "execution_count": 91,
      "metadata": {
        "colab": {
          "base_uri": "https://localhost:8080/"
        },
        "id": "hjWav59aj2Fw",
        "outputId": "96b984b3-665d-4124-e32b-f0037c77b8ce"
      },
      "outputs": [
        {
          "output_type": "execute_result",
          "data": {
            "text/plain": [
              "XGBClassifier(colsample_bytree=0.8, max_depth=6, n_estimators=1000, nthread=4,\n",
              "              scale_pos_weight=1.0, seed=27, subsample=0.8)"
            ]
          },
          "metadata": {},
          "execution_count": 91
        }
      ],
      "source": [
        "#Importando as bibliotecas necessárias\n",
        "#from numpy import loadtxt\n",
        "#from xgboost import XGBClassifier\n",
        "#from sklearn.metrics import accuracy_score\n",
        "\n",
        "# ajuste do modelo nos dados de treino\n",
        "xgb = XGBClassifier(learning_rate =0.1,\n",
        " n_estimators=1000,\n",
        " max_depth=6,\n",
        " min_child_weight=1,\n",
        " gamma=0,\n",
        " subsample=0.8,\n",
        " colsample_bytree=0.8,\n",
        " objective= 'binary:logistic',\n",
        " nthread=4,\n",
        " scale_pos_weight=1.0,\n",
        " seed=27)\n",
        "xgb.fit(x_treino, y_treino)\n",
        " "
      ]
    },
    {
      "cell_type": "markdown",
      "metadata": {
        "id": "A_xEXG1Sj2Fy"
      },
      "source": [
        "### Validação do modelo nos dados de teste"
      ]
    },
    {
      "cell_type": "code",
      "execution_count": 92,
      "metadata": {
        "colab": {
          "base_uri": "https://localhost:8080/"
        },
        "id": "BGGo1XL2j2Fz",
        "outputId": "c654b2e0-af10-4107-9668-4da0fb248fde"
      },
      "outputs": [
        {
          "output_type": "stream",
          "name": "stdout",
          "text": [
            "Predito     0    1   All\n",
            "Real                    \n",
            "0        1151  166  1317\n",
            "1         253  223   476\n",
            "All      1404  389  1793\n"
          ]
        }
      ],
      "source": [
        "#fazendo as predições no dados de teste\n",
        "preditos_xgb = xgb.predict(x_teste)\n",
        "print (pd.crosstab(y_teste,preditos_xgb, rownames=['Real'], colnames=['Predito'], margins=True))"
      ]
    },
    {
      "cell_type": "code",
      "execution_count": 93,
      "metadata": {
        "colab": {
          "base_uri": "https://localhost:8080/"
        },
        "id": "dMyN29z2j2F1",
        "outputId": "e5338bbd-b5c8-4c58-f879-2578c5797170"
      },
      "outputs": [
        {
          "output_type": "stream",
          "name": "stdout",
          "text": [
            "              precision    recall  f1-score   support\n",
            "\n",
            "           0       0.82      0.87      0.85      1317\n",
            "           1       0.57      0.47      0.52       476\n",
            "\n",
            "    accuracy                           0.77      1793\n",
            "   macro avg       0.70      0.67      0.68      1793\n",
            "weighted avg       0.75      0.77      0.76      1793\n",
            "\n"
          ]
        }
      ],
      "source": [
        "print(classification_report(y_teste, preditos_xgb))"
      ]
    },
    {
      "cell_type": "markdown",
      "metadata": {
        "id": "D5zJPUFFj2F3"
      },
      "source": [
        "Usando o XGBoost alcançamos uma acurácia de 77%. O modelo Random Forest teve uma acurácia de 80%, escolhemos o Random Forest  como o melhor modelo. Pois o Random Forest foi o modelo que conseguiu prever melhor o Churn.\n",
        "\n",
        "Todas as medidas referentes a classe 1 foi melhor no Random Forest. Lembre-se, a acurácia é uma medida geral do acerto do modelo, e o modelo XGBoost não conseguiu prever a classe 0 tão bem quanto o modelo Random Forest, por isso a acurácia foi menor.\n",
        "\n",
        "Porém como o nosso objetivo era prever o Churn, o modelo Random forest teve uma melhor performance nesse quesito."
      ]
    },
    {
      "cell_type": "markdown",
      "metadata": {
        "id": "fyq-6Yepj2F4"
      },
      "source": [
        "### Analisando a importancia das variáveis"
      ]
    },
    {
      "cell_type": "code",
      "execution_count": 94,
      "metadata": {
        "colab": {
          "base_uri": "https://localhost:8080/",
          "height": 0
        },
        "id": "mfYAHzaIj2F5",
        "outputId": "06f90639-957d-478f-a39b-9db0cb88aa1c"
      },
      "outputs": [
        {
          "output_type": "execute_result",
          "data": {
            "text/plain": [
              "<matplotlib.axes._subplots.AxesSubplot at 0x7fce5ce62e90>"
            ]
          },
          "metadata": {},
          "execution_count": 94
        },
        {
          "output_type": "display_data",
          "data": {
            "text/plain": [
              "<Figure size 720x576 with 1 Axes>"
            ],
            "image/png": "[encoded data removed]"
          },
          "metadata": {
            "needs_background": "light"
          }
        }
      ],
      "source": [
        "#Analisando a importância de cada variável\n",
        "fig, ax = plt.subplots(figsize=(10,8))\n",
        "plot_importance(xgb, ax=ax)"
      ]
    },
    {
      "cell_type": "markdown",
      "metadata": {
        "id": "3lrmNV0Hj2F7"
      },
      "source": [
        "As variáveis mais importante para prever o Churn dos clientes foram: valor mensal, total gasto, meses como cliente e genero masculino."
      ]
    },
    {
      "cell_type": "markdown",
      "metadata": {
        "id": "0bt3TryQj2F8"
      },
      "source": [
        "## Método Ensemble\n",
        "\n",
        "Para tentar melhorar a previsão do Churn, vamos combinar os dois melhores modelos, Random Forest e XGBoost."
      ]
    },
    {
      "cell_type": "code",
      "execution_count": 95,
      "metadata": {
        "id": "sHesZrNYj2F9"
      },
      "outputs": [],
      "source": [
        "# Voting Classifier with soft voting \n",
        "voto = VotingClassifier(estimators=[('rf', rf),('xgb',xgb)], voting='soft')\n",
        "voto = voto.fit(x_treino,y_treino)"
      ]
    },
    {
      "cell_type": "code",
      "execution_count": 96,
      "metadata": {
        "colab": {
          "base_uri": "https://localhost:8080/"
        },
        "id": "m6Fr-ifsj2F-",
        "outputId": "96f0b847-f40d-4e1d-ca7f-0c8ccae4e47d"
      },
      "outputs": [
        {
          "output_type": "stream",
          "name": "stdout",
          "text": [
            "Predito     0    1   All\n",
            "Real                    \n",
            "0        1181  136  1317\n",
            "1         253  223   476\n",
            "All      1434  359  1793\n"
          ]
        }
      ],
      "source": [
        "y_predito = voto.predict(x_teste)\n",
        "print (pd.crosstab(y_teste,y_predito, rownames=['Real'], colnames=['Predito'], margins=True))\n"
      ]
    },
    {
      "cell_type": "code",
      "execution_count": 97,
      "metadata": {
        "colab": {
          "base_uri": "https://localhost:8080/"
        },
        "id": "nJvB7pECj2F_",
        "outputId": "2c890d22-3c61-4ab8-bbf7-69e54ccf3ceb"
      },
      "outputs": [
        {
          "output_type": "stream",
          "name": "stdout",
          "text": [
            "              precision    recall  f1-score   support\n",
            "\n",
            "           0       0.82      0.90      0.86      1317\n",
            "           1       0.62      0.47      0.53       476\n",
            "\n",
            "    accuracy                           0.78      1793\n",
            "   macro avg       0.72      0.68      0.70      1793\n",
            "weighted avg       0.77      0.78      0.77      1793\n",
            "\n"
          ]
        }
      ],
      "source": [
        "print(classification_report(y_teste, y_predito))"
      ]
    },
    {
      "cell_type": "markdown",
      "metadata": {
        "id": "ASfiA2n2j2GA"
      },
      "source": [
        "Ao combinar os modelos observamos que não houve uma melhora nas medidas de validação, assim vamos considerar o modelo Random Forest como o nosso melhor modelo."
      ]
    },
    {
      "cell_type": "markdown",
      "metadata": {
        "id": "8ja2teHTj2GB"
      },
      "source": [
        "### Probabilidade de Churn\n",
        "\n",
        "Finalmente, a melhor maneira de usar esse modelo é atribuir probabilidade de evasão para cada cliente, criar segmentos e criar estratégias sobre isso. Para obter a probabilidade de Churn do nosso modelo, utilize o bloco de código abaixo:"
      ]
    },
    {
      "cell_type": "code",
      "execution_count": 98,
      "metadata": {
        "colab": {
          "base_uri": "https://localhost:8080/",
          "height": 455
        },
        "id": "t3cpKT8ij2GB",
        "outputId": "44d185d9-c59f-40e3-bc20-99a89133cb7d"
      },
      "outputs": [
        {
          "output_type": "execute_result",
          "data": {
            "text/plain": [
              "               proba\n",
              "id_cliente          \n",
              "9248-OJYKK  0.998163\n",
              "6457-GIRWB  0.996055\n",
              "3428-XZMAZ  0.996055\n",
              "2636-ALXXZ  0.995380\n",
              "8375-DKEBR  0.995380\n",
              "...              ...\n",
              "6621-NRZAK  0.000004\n",
              "4302-ZYFEL  0.000004\n",
              "7064-JHXCE  0.000003\n",
              "8434-VGEQQ  0.000002\n",
              "2236-HILPA  0.000002\n",
              "\n",
              "[5974 rows x 1 columns]"
            ],
            "text/html": [
              "\n",
              "  <div id=\"df-119b599b-6a1f-43cd-8326-5985347957b1\">\n",
              "    <div class=\"colab-df-container\">\n",
              "      <div>\n",
              "<style scoped>\n",
              "    .dataframe tbody tr th:only-of-type {\n",
              "        vertical-align: middle;\n",
              "    }\n",
              "\n",
              "    .dataframe tbody tr th {\n",
              "        vertical-align: top;\n",
              "    }\n",
              "\n",
              "    .dataframe thead th {\n",
              "        text-align: right;\n",
              "    }\n",
              "</style>\n",
              "<table border=\"1\" class=\"dataframe\">\n",
              "  <thead>\n",
              "    <tr style=\"text-align: right;\">\n",
              "      <th></th>\n",
              "      <th>proba</th>\n",
              "    </tr>\n",
              "    <tr>\n",
              "      <th>id_cliente</th>\n",
              "      <th></th>\n",
              "    </tr>\n",
              "  </thead>\n",
              "  <tbody>\n",
              "    <tr>\n",
              "      <th>9248-OJYKK</th>\n",
              "      <td>0.998163</td>\n",
              "    </tr>\n",
              "    <tr>\n",
              "      <th>6457-GIRWB</th>\n",
              "      <td>0.996055</td>\n",
              "    </tr>\n",
              "    <tr>\n",
              "      <th>3428-XZMAZ</th>\n",
              "      <td>0.996055</td>\n",
              "    </tr>\n",
              "    <tr>\n",
              "      <th>2636-ALXXZ</th>\n",
              "      <td>0.995380</td>\n",
              "    </tr>\n",
              "    <tr>\n",
              "      <th>8375-DKEBR</th>\n",
              "      <td>0.995380</td>\n",
              "    </tr>\n",
              "    <tr>\n",
              "      <th>...</th>\n",
              "      <td>...</td>\n",
              "    </tr>\n",
              "    <tr>\n",
              "      <th>6621-NRZAK</th>\n",
              "      <td>0.000004</td>\n",
              "    </tr>\n",
              "    <tr>\n",
              "      <th>4302-ZYFEL</th>\n",
              "      <td>0.000004</td>\n",
              "    </tr>\n",
              "    <tr>\n",
              "      <th>7064-JHXCE</th>\n",
              "      <td>0.000003</td>\n",
              "    </tr>\n",
              "    <tr>\n",
              "      <th>8434-VGEQQ</th>\n",
              "      <td>0.000002</td>\n",
              "    </tr>\n",
              "    <tr>\n",
              "      <th>2236-HILPA</th>\n",
              "      <td>0.000002</td>\n",
              "    </tr>\n",
              "  </tbody>\n",
              "</table>\n",
              "<p>5974 rows × 1 columns</p>\n",
              "</div>\n",
              "      <button class=\"colab-df-convert\" onclick=\"convertToInteractive('df-119b599b-6a1f-43cd-8326-5985347957b1')\"\n",
              "              title=\"Convert this dataframe to an interactive table.\"\n",
              "              style=\"display:none;\">\n",
              "        \n",
              "  <svg xmlns=\"http://www.w3.org/2000/svg\" height=\"24px\"viewBox=\"0 0 24 24\"\n",
              "       width=\"24px\">\n",
              "    <path d=\"M0 0h24v24H0V0z\" fill=\"none\"/>\n",
              "    <path d=\"M18.56 5.44l.94 2.06.94-2.06 2.06-.94-2.06-.94-.94-2.06-.94 2.06-2.06.94zm-11 1L8.5 8.5l.94-2.06 2.06-.94-2.06-.94L8.5 2.5l-.94 2.06-2.06.94zm10 10l.94 2.06.94-2.06 2.06-.94-2.06-.94-.94-2.06-.94 2.06-2.06.94z\"/><path d=\"M17.41 7.96l-1.37-1.37c-.4-.4-.92-.59-1.43-.59-.52 0-1.04.2-1.43.59L10.3 9.45l-7.72 7.72c-.78.78-.78 2.05 0 2.83L4 21.41c.39.39.9.59 1.41.59.51 0 1.02-.2 1.41-.59l7.78-7.78 2.81-2.81c.8-.78.8-2.07 0-2.86zM5.41 20L4 18.59l7.72-7.72 1.47 1.35L5.41 20z\"/>\n",
              "  </svg>\n",
              "      </button>\n",
              "      \n",
              "  <style>\n",
              "    .colab-df-container {\n",
              "      display:flex;\n",
              "      flex-wrap:wrap;\n",
              "      gap: 12px;\n",
              "    }\n",
              "\n",
              "    .colab-df-convert {\n",
              "      background-color: #E8F0FE;\n",
              "      border: none;\n",
              "      border-radius: 50%;\n",
              "      cursor: pointer;\n",
              "      display: none;\n",
              "      fill: #1967D2;\n",
              "      height: 32px;\n",
              "      padding: 0 0 0 0;\n",
              "      width: 32px;\n",
              "    }\n",
              "\n",
              "    .colab-df-convert:hover {\n",
              "      background-color: #E2EBFA;\n",
              "      box-shadow: 0px 1px 2px rgba(60, 64, 67, 0.3), 0px 1px 3px 1px rgba(60, 64, 67, 0.15);\n",
              "      fill: #174EA6;\n",
              "    }\n",
              "\n",
              "    [theme=dark] .colab-df-convert {\n",
              "      background-color: #3B4455;\n",
              "      fill: #D2E3FC;\n",
              "    }\n",
              "\n",
              "    [theme=dark] .colab-df-convert:hover {\n",
              "      background-color: #434B5C;\n",
              "      box-shadow: 0px 1px 3px 1px rgba(0, 0, 0, 0.15);\n",
              "      filter: drop-shadow(0px 1px 2px rgba(0, 0, 0, 0.3));\n",
              "      fill: #FFFFFF;\n",
              "    }\n",
              "  </style>\n",
              "\n",
              "      <script>\n",
              "        const buttonEl =\n",
              "          document.querySelector('#df-119b599b-6a1f-43cd-8326-5985347957b1 button.colab-df-convert');\n",
              "        buttonEl.style.display =\n",
              "          google.colab.kernel.accessAllowed ? 'block' : 'none';\n",
              "\n",
              "        async function convertToInteractive(key) {\n",
              "          const element = document.querySelector('#df-119b599b-6a1f-43cd-8326-5985347957b1');\n",
              "          const dataTable =\n",
              "            await google.colab.kernel.invokeFunction('convertToInteractive',\n",
              "                                                     [key], {});\n",
              "          if (!dataTable) return;\n",
              "\n",
              "          const docLinkHtml = 'Like what you see? Visit the ' +\n",
              "            '<a target=\"_blank\" href=https://colab.research.google.com/notebooks/data_table.ipynb>data table notebook</a>'\n",
              "            + ' to learn more about interactive tables.';\n",
              "          element.innerHTML = '';\n",
              "          dataTable['output_type'] = 'display_data';\n",
              "          await google.colab.output.renderOutput(dataTable, element);\n",
              "          const docLink = document.createElement('div');\n",
              "          docLink.innerHTML = docLinkHtml;\n",
              "          element.appendChild(docLink);\n",
              "        }\n",
              "      </script>\n",
              "    </div>\n",
              "  </div>\n",
              "  "
            ]
          },
          "metadata": {},
          "execution_count": 98
        }
      ],
      "source": [
        "df5['proba'] = voto.predict_proba(X[x_treino.columns])[:,1]\n",
        "df5[['proba']].sort_values(by = 'proba', ascending = False)"
      ]
    },
    {
      "cell_type": "markdown",
      "metadata": {
        "id": "4cpWDcv6j2GC"
      },
      "source": [
        "Agora temos a probabilidade do cliente dar Churn e podemos criar ações com base nisso. "
      ]
    },
    {
      "cell_type": "markdown",
      "metadata": {
        "id": "-Tvk5_IXj2GD"
      },
      "source": [
        "## F. Avaliação do modelo "
      ]
    },
    {
      "cell_type": "markdown",
      "metadata": {
        "id": "njY2Y0gXj2GD"
      },
      "source": [
        "## 08 - Considerações"
      ]
    },
    {
      "cell_type": "markdown",
      "metadata": {
        "id": "uMJJ6qSPj2GE"
      },
      "source": [
        "O modelo final, foi a combinação dos modelos XGBoost e Random Forest, porem não houve uma melhora. \n",
        "\n",
        "O modelo Random Forest se mostrou eficiente para prever a probabilidade do Churn dos clientes. As variáveis mais importante para prever o Churn foram o valor mensal, total gasto, meses como cliente e genero masculino.\n",
        "\n",
        "Com modelo de Churn podemos prever clientes com a maior chance de cancelar o serviço e assim tomar medidas preventivas, afim de evitar essa saída.\n",
        "\n",
        "Podemos melhorar a predição desse modelo tratando os outliers (pontos discrepantes) e balanceando as amostras."
      ]
    },
    {
      "cell_type": "code",
      "execution_count": 98,
      "metadata": {
        "id": "Qfr_yW8wj2GE"
      },
      "outputs": [],
      "source": [
        ""
      ]
    }
  ],
  "metadata": {
    "kernelspec": {
      "display_name": "Python 3 (ipykernel)",
      "language": "python",
      "name": "python3"
    },
    "language_info": {
      "codemirror_mode": {
        "name": "ipython",
        "version": 3
      },
      "file_extension": ".py",
      "mimetype": "text/x-python",
      "name": "python",
      "nbconvert_exporter": "python",
      "pygments_lexer": "ipython3",
      "version": "3.9.12"
    },
    "colab": {
      "name": "Projeto_Número_03_Churn.ipynb",
      "provenance": [],
      "include_colab_link": true
    }
  },
  "nbformat": 4,
  "nbformat_minor": 0
}