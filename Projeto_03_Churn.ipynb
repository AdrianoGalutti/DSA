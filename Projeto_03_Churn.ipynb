{
  "cells": [
    {
      "cell_type": "markdown",
      "metadata": {
        "id": "view-in-github",
        "colab_type": "text"
      },
      "source": [
        "<a href=\"https://colab.research.google.com/github/AdrianoGalutti/DSA/blob/main/Projeto_03_Churn.ipynb\" target=\"_parent\"><img src=\"https://colab.research.google.com/assets/colab-badge.svg\" alt=\"Open In Colab\"/></a>"
      ]
    },
    {
      "cell_type": "markdown",
      "metadata": {
        "id": "_qCwpG94f5dH"
      },
      "source": [
        "![alt text](https://encrypted-tbn0.gstatic.com/images?q=tbn%3AANd9GcTK4gQ9nhwHHaSXMHpeggWg7twwMCgb877smkRmtkmDeDoGF9Z6&usqp=CAU)"
      ]
    },
    {
      "cell_type": "markdown",
      "metadata": {
        "id": "XikUojQRf5dQ"
      },
      "source": [
        "## A. Entendimento do problema"
      ]
    },
    {
      "cell_type": "markdown",
      "metadata": {
        "id": "4gW-eNDLf5dT"
      },
      "source": [
        "## 1 - Previsão de Churn"
      ]
    },
    {
      "cell_type": "markdown",
      "metadata": {
        "id": "oJKs8OyWf5dV"
      },
      "source": [
        "O conceito de Churn em poucas palavras e simplificando o entendimento é uma métrica que indica o número de clientes que cancelaram o contrato ou pararam de comprar seu produto em um determinado período de tempo. Por exemplo, clientes que cancelaram o contrato de serviço ou após o vencimento do mesmo, não renovaram, são clientes considerados em churn.\n",
        "\n",
        "Churn é um indicativo de gestão da empresa e controlá-lo se faz necessario para evitar problemas futuros.\n",
        "\n",
        "Empresas que têm a cultura data driven maximizam seus resultados através de informações extraídas dos dados. Ou seja, utilizam os dados para extrair informações e usam as informações para tomar decisões."
      ]
    },
    {
      "cell_type": "markdown",
      "metadata": {
        "id": "wzlq5K88f5dX"
      },
      "source": [
        "## 2 - Definição Problema de Negócio"
      ]
    },
    {
      "cell_type": "markdown",
      "metadata": {
        "id": "4KPFSwfbf5dZ"
      },
      "source": [
        "A ALÔ é uma grande empresa de serviços de telecom. Ela atua principalmente nos países da Europa oferecendo diversos serviços, entre os principais internet e telefone.\n",
        "\n",
        "O modelo de negócio da empresa é do tipo serviço, ou seja, ela comercializa serviços de telecom para seus clientes através de agências físicas e um portal online. \n",
        "\n",
        "Nos últimos meses, o time de Analytics analisando o histórico dos clientes dos últimos anos, percebeu que a empresa está com uma taxa de Churn de mais de 26% dos clientes cancelando os serviços. Isso representa uma perda de milhões para a empresa.\n",
        "\n",
        "Preocupados com a queda dessa métrica, o time de Analytics da ALÔ, contratou você como consultor de Data Science para criar um plano de ação, com o objetivo de reduzir a evasão de clientes, ou seja, impedir que o cliente cancele seu contrato. Essa evasão, nas métricas de negócio, é conhecida como Churn.\n"
      ]
    },
    {
      "cell_type": "markdown",
      "metadata": {
        "id": "nTBunqf8f5dc"
      },
      "source": [
        "## 3 - Planejamento da Solução"
      ]
    },
    {
      "cell_type": "markdown",
      "metadata": {
        "id": "BkOYEJKmf5de"
      },
      "source": [
        "Como vamos entregar as resposta das perguntas de négocio?\n",
        "\n",
        "- 1. Vamos escrever um e-mail?\n",
        "\n",
        "\n",
        "- 2. Vamos mandar uma planilha?\n",
        "\n",
        "\n",
        "- 3. Vamos enviar um gráfico ou mapa dentro de alguma ferramenta?\n",
        "\n",
        "\n",
        "- 4. Vamos enviar um algoritmo de Machine Learning?"
      ]
    },
    {
      "cell_type": "markdown",
      "metadata": {
        "id": "dDlnYHRwf5dh"
      },
      "source": [
        "## 4 - Solução escolhida"
      ]
    },
    {
      "cell_type": "markdown",
      "metadata": {
        "id": "o9o7C1H1f5dj"
      },
      "source": [
        "**Vamos enviar um algoritmo de Machine Learning**\n",
        "\n",
        "Olá CEO, espero que esse e-mail o encontre bem?\n",
        "\n",
        "Meu nome é Adriano, sou Cientista de Dados do time de Analytics.\n",
        "\n",
        "Segue abaixo o link do algoritmo e as considerações de cada hipoteses..."
      ]
    },
    {
      "cell_type": "markdown",
      "metadata": {
        "id": "Mvll-LMBf5dm"
      },
      "source": [
        "## 5 - Aquisição dos dados"
      ]
    },
    {
      "cell_type": "markdown",
      "metadata": {
        "id": "W-r_-hAQf5dn"
      },
      "source": [
        "O conjunto de dados que representam o contexto está disponível na plataforma do Github.\n",
        "\n",
        "Esse é o link: https://github.com/Ninjalemur/telecom_users\n",
        "\n",
        "Esse conjunto de dados contém 5986 observações e 20 atributos."
      ]
    },
    {
      "cell_type": "markdown",
      "metadata": {
        "id": "txUnFJgTf5dp"
      },
      "source": [
        "## 5 - Premissas de Negócios"
      ]
    },
    {
      "cell_type": "markdown",
      "metadata": {
        "id": "8Iwa5LRWf5dq"
      },
      "source": [
        "- Os dados faltantes foram removidos passando a ter este conjunto de dados 5974 observações.\n",
        "\n",
        "\n",
        "- Há a presença de outliers (pontos discrepantes), porem não será aplicado o tratamento.\n",
        "\n",
        "\n",
        "- Os dados estão desbalanceados, e não aplicaremos o balanceamento."
      ]
    },
    {
      "cell_type": "markdown",
      "metadata": {
        "id": "-OeXCtijf5dt"
      },
      "source": [
        "## 6 - Lista de atributos"
      ]
    },
    {
      "cell_type": "markdown",
      "metadata": {
        "id": "g-FSOw_vf5dv"
      },
      "source": [
        "- **IDCliente**\n",
        "- **Genero**\n",
        "- **Aposenta**\n",
        "- **Casado**\n",
        "- **Dependentes**\n",
        "- **MesesComoCliente**\n",
        "- **ServicoTelefone**\n",
        "- **MultiplasLinhas**\n",
        "- **ServicoInternet**\n",
        "- **ServicoSegurancaOnline**\n",
        "- **ServicoBackupOnline**\n",
        "- **ProtecaoEquipamento**\n",
        "- **ServicoSuporteTecnico**\n",
        "- **ServicoStreamingTV**\n",
        "- **ServicoFilmes**\n",
        "- **TipoContrato**\n",
        "- **FaturaDigital**\n",
        "- **FormaPagamento**\n",
        "- **ValorMensal**\n",
        "- **TotalGasto**\n",
        "- **Churn**\n",
        "- **Codigo**"
      ]
    },
    {
      "cell_type": "markdown",
      "metadata": {
        "id": "Dlm8c1m_f5dy"
      },
      "source": [
        "## 7 - Estratégia de solução"
      ]
    },
    {
      "cell_type": "markdown",
      "metadata": {
        "id": "k-vGxzMEf5dz"
      },
      "source": [
        "O método utilizado para o projeto foi o CRISP-DM, aplicado conforme os passos abaixo:\n",
        "\n",
        "**A** . Entendimento do problema.\n",
        "\n",
        "**B** . Obtenção dos dados.\n",
        "\n",
        "**C** . Análise Exploratória e Visualização dos dados.\n",
        "\n",
        "**D** . Pré-processamento. \n",
        "\n",
        "**E** . Modelos de Machine Learning.\n",
        "\n",
        "**F** . Avaliação do modelo. "
      ]
    },
    {
      "cell_type": "markdown",
      "metadata": {
        "id": "xLJegQeWf5d1"
      },
      "source": [
        "## B. Obtenção dos dados"
      ]
    },
    {
      "cell_type": "markdown",
      "metadata": {
        "id": "F6rngFEsf5d3"
      },
      "source": [
        "## 01 - Importando as bibliotecas"
      ]
    },
    {
      "cell_type": "code",
      "execution_count": null,
      "metadata": {
        "id": "kiKvagwMf5d4"
      },
      "outputs": [],
      "source": [
        "import inflection\n",
        "import pandas            as pd \n",
        "import plotly.express    as px \n",
        "import numpy             as np \n",
        "import seaborn           as sns \n",
        "import matplotlib.pyplot as plt \n",
        "\n",
        "from sklearn.model_selection import train_test_split \n",
        "from sklearn.neighbors       import KNeighborsClassifier\n",
        "from sklearn.metrics         import classification_report,confusion_matrix\n",
        "from sklearn.ensemble        import RandomForestClassifier\n",
        "from sklearn.preprocessing   import RobustScaler, MinMaxScaler, LabelEncoder\n",
        "from tabulate                import tabulate\n",
        "from numpy                   import loadtxt\n",
        "from xgboost                 import XGBClassifier\n",
        "from sklearn.metrics         import accuracy_score\n",
        "from sklearn.ensemble        import VotingClassifier\n",
        "from sklearn.model_selection import GridSearchCV\n",
        "from xgboost                 import plot_importance"
      ]
    },
    {
      "cell_type": "markdown",
      "metadata": {
        "id": "xepc4-3Mf5d8"
      },
      "source": [
        "## 02 - Carregamento dos Dados"
      ]
    },
    {
      "cell_type": "code",
      "execution_count": null,
      "metadata": {
        "id": "kOEeCvl2f5d9"
      },
      "outputs": [],
      "source": [
        "# Carregar da base de dados\n",
        "dados_df = pd.read_csv( '../Churn/telecom_users.csv', low_memory=False )"
      ]
    },
    {
      "cell_type": "markdown",
      "metadata": {
        "id": "T9WNJalxf5d_"
      },
      "source": [
        "## 03 - Descrição dos Dados"
      ]
    },
    {
      "cell_type": "code",
      "execution_count": null,
      "metadata": {
        "id": "EoQtOBjxf5d_",
        "outputId": "7157b764-5460-4f33-88e6-c5001faa8ce5"
      },
      "outputs": [
        {
          "data": {
            "text/html": [
              "<div>\n",
              "<style scoped>\n",
              "    .dataframe tbody tr th:only-of-type {\n",
              "        vertical-align: middle;\n",
              "    }\n",
              "\n",
              "    .dataframe tbody tr th {\n",
              "        vertical-align: top;\n",
              "    }\n",
              "\n",
              "    .dataframe thead th {\n",
              "        text-align: right;\n",
              "    }\n",
              "</style>\n",
              "<table border=\"1\" class=\"dataframe\">\n",
              "  <thead>\n",
              "    <tr style=\"text-align: right;\">\n",
              "      <th></th>\n",
              "      <th>Unnamed: 0</th>\n",
              "      <th>IDCliente</th>\n",
              "      <th>Genero</th>\n",
              "      <th>Aposentado</th>\n",
              "      <th>Casado</th>\n",
              "      <th>Dependentes</th>\n",
              "      <th>MesesComoCliente</th>\n",
              "      <th>ServicoTelefone</th>\n",
              "      <th>MultiplasLinhas</th>\n",
              "      <th>ServicoInternet</th>\n",
              "      <th>...</th>\n",
              "      <th>ServicoSuporteTecnico</th>\n",
              "      <th>ServicoStreamingTV</th>\n",
              "      <th>ServicoFilmes</th>\n",
              "      <th>TipoContrato</th>\n",
              "      <th>FaturaDigital</th>\n",
              "      <th>FormaPagamento</th>\n",
              "      <th>ValorMensal</th>\n",
              "      <th>TotalGasto</th>\n",
              "      <th>Churn</th>\n",
              "      <th>Codigo</th>\n",
              "    </tr>\n",
              "  </thead>\n",
              "  <tbody>\n",
              "    <tr>\n",
              "      <th>0</th>\n",
              "      <td>1869</td>\n",
              "      <td>7010-BRBUU</td>\n",
              "      <td>Masculino</td>\n",
              "      <td>0</td>\n",
              "      <td>Sim</td>\n",
              "      <td>Sim</td>\n",
              "      <td>72</td>\n",
              "      <td>Sim</td>\n",
              "      <td>Sim</td>\n",
              "      <td>Nao</td>\n",
              "      <td>...</td>\n",
              "      <td>SemInternet</td>\n",
              "      <td>SemInternet</td>\n",
              "      <td>SemInternet</td>\n",
              "      <td>2 anos</td>\n",
              "      <td>Nao</td>\n",
              "      <td>CartaoCredito</td>\n",
              "      <td>24.10</td>\n",
              "      <td>1734.65</td>\n",
              "      <td>Nao</td>\n",
              "      <td>NaN</td>\n",
              "    </tr>\n",
              "    <tr>\n",
              "      <th>1</th>\n",
              "      <td>4528</td>\n",
              "      <td>9688-YGXVR</td>\n",
              "      <td>Feminino</td>\n",
              "      <td>0</td>\n",
              "      <td>Nao</td>\n",
              "      <td>Nao</td>\n",
              "      <td>44</td>\n",
              "      <td>Sim</td>\n",
              "      <td>Nao</td>\n",
              "      <td>Fibra</td>\n",
              "      <td>...</td>\n",
              "      <td>Nao</td>\n",
              "      <td>Sim</td>\n",
              "      <td>Nao</td>\n",
              "      <td>Mensal</td>\n",
              "      <td>Sim</td>\n",
              "      <td>CartaoCredito</td>\n",
              "      <td>88.15</td>\n",
              "      <td>3973.2</td>\n",
              "      <td>Nao</td>\n",
              "      <td>NaN</td>\n",
              "    </tr>\n",
              "    <tr>\n",
              "      <th>2</th>\n",
              "      <td>6344</td>\n",
              "      <td>9286-DOJGF</td>\n",
              "      <td>Feminino</td>\n",
              "      <td>1</td>\n",
              "      <td>Sim</td>\n",
              "      <td>Nao</td>\n",
              "      <td>38</td>\n",
              "      <td>Sim</td>\n",
              "      <td>Sim</td>\n",
              "      <td>Fibra</td>\n",
              "      <td>...</td>\n",
              "      <td>Nao</td>\n",
              "      <td>Nao</td>\n",
              "      <td>Nao</td>\n",
              "      <td>Mensal</td>\n",
              "      <td>Sim</td>\n",
              "      <td>DebitoAutomatico</td>\n",
              "      <td>74.95</td>\n",
              "      <td>2869.85</td>\n",
              "      <td>Sim</td>\n",
              "      <td>NaN</td>\n",
              "    </tr>\n",
              "    <tr>\n",
              "      <th>3</th>\n",
              "      <td>6739</td>\n",
              "      <td>6994-KERXL</td>\n",
              "      <td>Masculino</td>\n",
              "      <td>0</td>\n",
              "      <td>Nao</td>\n",
              "      <td>Nao</td>\n",
              "      <td>4</td>\n",
              "      <td>Sim</td>\n",
              "      <td>Nao</td>\n",
              "      <td>DSL</td>\n",
              "      <td>...</td>\n",
              "      <td>Nao</td>\n",
              "      <td>Nao</td>\n",
              "      <td>Sim</td>\n",
              "      <td>Mensal</td>\n",
              "      <td>Sim</td>\n",
              "      <td>BoletoEletronico</td>\n",
              "      <td>55.90</td>\n",
              "      <td>238.5</td>\n",
              "      <td>Nao</td>\n",
              "      <td>NaN</td>\n",
              "    </tr>\n",
              "    <tr>\n",
              "      <th>4</th>\n",
              "      <td>432</td>\n",
              "      <td>2181-UAESM</td>\n",
              "      <td>Masculino</td>\n",
              "      <td>0</td>\n",
              "      <td>Nao</td>\n",
              "      <td>Nao</td>\n",
              "      <td>2</td>\n",
              "      <td>Sim</td>\n",
              "      <td>Nao</td>\n",
              "      <td>DSL</td>\n",
              "      <td>...</td>\n",
              "      <td>Nao</td>\n",
              "      <td>Nao</td>\n",
              "      <td>Nao</td>\n",
              "      <td>Mensal</td>\n",
              "      <td>Nao</td>\n",
              "      <td>BoletoEletronico</td>\n",
              "      <td>53.45</td>\n",
              "      <td>119.5</td>\n",
              "      <td>Nao</td>\n",
              "      <td>NaN</td>\n",
              "    </tr>\n",
              "  </tbody>\n",
              "</table>\n",
              "<p>5 rows × 23 columns</p>\n",
              "</div>"
            ],
            "text/plain": [
              "   Unnamed: 0   IDCliente     Genero  Aposentado Casado Dependentes  \\\n",
              "0        1869  7010-BRBUU  Masculino           0    Sim         Sim   \n",
              "1        4528  9688-YGXVR   Feminino           0    Nao         Nao   \n",
              "2        6344  9286-DOJGF   Feminino           1    Sim         Nao   \n",
              "3        6739  6994-KERXL  Masculino           0    Nao         Nao   \n",
              "4         432  2181-UAESM  Masculino           0    Nao         Nao   \n",
              "\n",
              "   MesesComoCliente ServicoTelefone MultiplasLinhas ServicoInternet  ...  \\\n",
              "0                72             Sim             Sim             Nao  ...   \n",
              "1                44             Sim             Nao           Fibra  ...   \n",
              "2                38             Sim             Sim           Fibra  ...   \n",
              "3                 4             Sim             Nao             DSL  ...   \n",
              "4                 2             Sim             Nao             DSL  ...   \n",
              "\n",
              "  ServicoSuporteTecnico ServicoStreamingTV ServicoFilmes TipoContrato  \\\n",
              "0           SemInternet        SemInternet   SemInternet       2 anos   \n",
              "1                   Nao                Sim           Nao       Mensal   \n",
              "2                   Nao                Nao           Nao       Mensal   \n",
              "3                   Nao                Nao           Sim       Mensal   \n",
              "4                   Nao                Nao           Nao       Mensal   \n",
              "\n",
              "  FaturaDigital    FormaPagamento ValorMensal TotalGasto Churn  Codigo  \n",
              "0           Nao     CartaoCredito       24.10    1734.65   Nao     NaN  \n",
              "1           Sim     CartaoCredito       88.15     3973.2   Nao     NaN  \n",
              "2           Sim  DebitoAutomatico       74.95    2869.85   Sim     NaN  \n",
              "3           Sim  BoletoEletronico       55.90      238.5   Nao     NaN  \n",
              "4           Nao  BoletoEletronico       53.45      119.5   Nao     NaN  \n",
              "\n",
              "[5 rows x 23 columns]"
            ]
          },
          "execution_count": 3,
          "metadata": {},
          "output_type": "execute_result"
        }
      ],
      "source": [
        "#Verificar os primeiros registros \n",
        "dados_df.head()"
      ]
    },
    {
      "cell_type": "code",
      "execution_count": null,
      "metadata": {
        "id": "kgwGlReif5eC"
      },
      "outputs": [],
      "source": [
        "#excluindo as colunas\n",
        "dados_df.drop(['Unnamed: 0','Codigo'], axis=1, inplace=True)"
      ]
    },
    {
      "cell_type": "code",
      "execution_count": null,
      "metadata": {
        "id": "bO_qfaSlf5eD"
      },
      "outputs": [],
      "source": [
        "#renomeando as colunas\n",
        "cols_old = ['IDCliente','Genero', 'Aposentado', 'Casado', 'Dependentes',\n",
        "       'MesesComoCliente', 'ServicoTelefone', 'MultiplasLinhas',\n",
        "       'ServicoInternet', 'ServicoSegurancaOnline', 'ServicoBackupOnline',\n",
        "       'ProtecaoEquipamento', 'ServicoSuporteTecnico', 'ServicoStreamingTV',\n",
        "       'ServicoFilmes', 'TipoContrato', 'FaturaDigital', 'FormaPagamento',\n",
        "       'ValorMensal', 'TotalGasto', 'Churn']\n",
        "\n",
        "snakecase = lambda x: inflection.underscore( x )\n",
        "\n",
        "cols_new = list( map( snakecase, cols_old ) )\n",
        "\n",
        "# renomear\n",
        "dados_df.columns = cols_new"
      ]
    },
    {
      "cell_type": "code",
      "execution_count": null,
      "metadata": {
        "id": "eolfU80kf5eG"
      },
      "outputs": [],
      "source": [
        "# redefinir o índice\n",
        "dados_df = dados_df.set_index('id_cliente') "
      ]
    },
    {
      "cell_type": "code",
      "execution_count": null,
      "metadata": {
        "id": "dI3ATf3jf5eI",
        "outputId": "e07e2782-4651-4348-a9da-ae3ebce34373"
      },
      "outputs": [
        {
          "name": "stdout",
          "output_type": "stream",
          "text": [
            "Numero de linhas: 5986\n",
            "Numero de colunas: 20\n"
          ]
        }
      ],
      "source": [
        "#verificar as dimensões do conjunto de dados\n",
        "print( 'Numero de linhas: {}'.format( dados_df.shape[0] ) )\n",
        "print( 'Numero de colunas: {}'.format( dados_df.shape[1] ) )"
      ]
    },
    {
      "cell_type": "code",
      "execution_count": null,
      "metadata": {
        "scrolled": true,
        "id": "EOxrQsflf5eK",
        "outputId": "ed045a8b-c43d-43b6-c01b-9a73ed0f7876"
      },
      "outputs": [
        {
          "name": "stdout",
          "output_type": "stream",
          "text": [
            "<class 'pandas.core.frame.DataFrame'>\n",
            "Index: 5986 entries, 7010-BRBUU to 4795-UXVCJ\n",
            "Data columns (total 20 columns):\n",
            " #   Column                    Non-Null Count  Dtype  \n",
            "---  ------                    --------------  -----  \n",
            " 0   genero                    5986 non-null   object \n",
            " 1   aposentado                5986 non-null   int64  \n",
            " 2   casado                    5986 non-null   object \n",
            " 3   dependentes               5985 non-null   object \n",
            " 4   meses_como_cliente        5986 non-null   int64  \n",
            " 5   servico_telefone          5986 non-null   object \n",
            " 6   multiplas_linhas          5986 non-null   object \n",
            " 7   servico_internet          5986 non-null   object \n",
            " 8   servico_seguranca_online  5986 non-null   object \n",
            " 9   servico_backup_online     5986 non-null   object \n",
            " 10  protecao_equipamento      5986 non-null   object \n",
            " 11  servico_suporte_tecnico   5986 non-null   object \n",
            " 12  servico_streaming_tv      5986 non-null   object \n",
            " 13  servico_filmes            5986 non-null   object \n",
            " 14  tipo_contrato             5986 non-null   object \n",
            " 15  fatura_digital            5986 non-null   object \n",
            " 16  forma_pagamento           5986 non-null   object \n",
            " 17  valor_mensal              5986 non-null   float64\n",
            " 18  total_gasto               5986 non-null   object \n",
            " 19  churn                     5985 non-null   object \n",
            "dtypes: float64(1), int64(2), object(17)\n",
            "memory usage: 982.1+ KB\n"
          ]
        }
      ],
      "source": [
        "#verificar os tipos das variáveis\n",
        "dados_df.info()"
      ]
    },
    {
      "cell_type": "code",
      "execution_count": null,
      "metadata": {
        "id": "FVd0vEAnf5eM"
      },
      "outputs": [],
      "source": [
        "#corrigindo o tipo de informação\n",
        "dados_df['aposentado'] = dados_df['aposentado'].replace([0,1],['Nao','Sim'])\n",
        "dados_df['total_gasto'] = pd.to_numeric(dados_df['total_gasto'], errors='coerce') #corrigindo o tipo de informação"
      ]
    },
    {
      "cell_type": "code",
      "execution_count": null,
      "metadata": {
        "id": "KcdfVg1Cf5eN",
        "outputId": "6aff8716-c2e0-4dd8-de4f-dca01b04fab1"
      },
      "outputs": [
        {
          "data": {
            "text/plain": [
              "genero                       0\n",
              "aposentado                   0\n",
              "casado                       0\n",
              "dependentes                  1\n",
              "meses_como_cliente           0\n",
              "servico_telefone             0\n",
              "multiplas_linhas             0\n",
              "servico_internet             0\n",
              "servico_seguranca_online     0\n",
              "servico_backup_online        0\n",
              "protecao_equipamento         0\n",
              "servico_suporte_tecnico      0\n",
              "servico_streaming_tv         0\n",
              "servico_filmes               0\n",
              "tipo_contrato                0\n",
              "fatura_digital               0\n",
              "forma_pagamento              0\n",
              "valor_mensal                 0\n",
              "total_gasto                 10\n",
              "churn                        1\n",
              "dtype: int64"
            ]
          },
          "execution_count": 10,
          "metadata": {},
          "output_type": "execute_result"
        }
      ],
      "source": [
        "#verificar os valores faltantes\n",
        "dados_df.isna().sum()"
      ]
    },
    {
      "cell_type": "code",
      "execution_count": null,
      "metadata": {
        "id": "hrQsUz4nf5eO"
      },
      "outputs": [],
      "source": [
        "#excluindo as colunas com valor vazio\n",
        "dados_df = dados_df.dropna(how='all', axis=1) "
      ]
    },
    {
      "cell_type": "code",
      "execution_count": null,
      "metadata": {
        "id": "dJA7i_Qgf5eP"
      },
      "outputs": [],
      "source": [
        "#excluindo as linhas com valor vazio\n",
        "dados_df = dados_df.dropna(how='any', axis=0) "
      ]
    },
    {
      "cell_type": "code",
      "execution_count": null,
      "metadata": {
        "id": "KMWCX1oGf5eP",
        "outputId": "c4dc453a-b9e1-44e0-aa60-2996979b27c3"
      },
      "outputs": [
        {
          "data": {
            "text/plain": [
              "(5974, 20)"
            ]
          },
          "execution_count": 13,
          "metadata": {},
          "output_type": "execute_result"
        }
      ],
      "source": [
        "#verificando as dimensões do conjunto de dados\n",
        "dados_df.shape"
      ]
    },
    {
      "cell_type": "code",
      "execution_count": null,
      "metadata": {
        "id": "dPx48qpif5eR",
        "outputId": "bdccf1ea-d602-4199-a98e-42d24eb2b3f6"
      },
      "outputs": [
        {
          "data": {
            "text/plain": [
              "16"
            ]
          },
          "execution_count": 14,
          "metadata": {},
          "output_type": "execute_result"
        }
      ],
      "source": [
        "# verificar valores duplicados\n",
        "dados_df.duplicated().sum()"
      ]
    },
    {
      "cell_type": "code",
      "execution_count": null,
      "metadata": {
        "id": "nxW5SxWif5eT"
      },
      "outputs": [],
      "source": [
        "#excluir as colunas com valor vazio\n",
        "dados_df = dados_df.dropna(how='all', axis=1) "
      ]
    },
    {
      "cell_type": "markdown",
      "metadata": {
        "id": "epcPQYt9f5eT"
      },
      "source": [
        "## 04 - Criação das Hipoteses"
      ]
    },
    {
      "cell_type": "markdown",
      "metadata": {
        "id": "GK4JyOLPf5eW"
      },
      "source": [
        "* ## Hipoteses "
      ]
    },
    {
      "cell_type": "markdown",
      "metadata": {
        "id": "L8GsX-9Uf5eX"
      },
      "source": [
        "**1.**   A taxa de evasão do sexo masculino em relação ao sexo feminino é maior.\n",
        "\n",
        "**2.**   A taxa de evasão de clientes aposentados é maior.\n",
        "\n",
        "**3.**   A taxa de evasão de clientes casado é maior.\n",
        "\n",
        "**4.**   A taxa de evasão de clientes que tem dependentes é maior.\n",
        "\n",
        "**5.**   A taxa de evasão de clientes que tem serviço de telefone é maior.\n",
        "\n",
        "**6.**   A taxa de evasão de clientes com multiplas linhas é maior.\n",
        "\n",
        "**7.**   A taxa de evasão de clientes que utilizam fibra ótica é menor.\n",
        "\n",
        "**8.**   A taxa de evasão de clientes que utilizam serviço segurança online é maior.\n",
        "\n",
        "**9.**   A taxa de evasão de clientes que utilizam serviço de backup online é maior.\n",
        "\n",
        "**10.** A taxa de evasão de clientes que utilizam a proteção de equipamento é maior.\n",
        "\n",
        "**11.** A taxa de evasão de clientes que utilizam serviço de suporte técnico é maior.\n",
        "\n",
        "**12.** A taxa de evasão de clientes que utilizam serviço streaming é maior.\n",
        "\n",
        "**13.** A taxa de evasão de clientes que utilizam serviço de filme é maior.\n",
        "\n",
        "**14.** A taxa de evasão de clientes com tipo de contrato anual é maior.\n",
        "\n",
        "**15.** A taxa de evasão de clientes com fatura digital é maior.\n",
        "\n",
        "**16.** A taxa de evasão de clientes por débito automático é maior. \n",
        "\n",
        "**17.** A taxa de evasão de clientes nos primeiros 3 meses é maior.\n",
        "\n",
        "**18.** A taxa de evasão de clientes que cancelaram possui um valor mensal maior.\n",
        "\n",
        "**19.** A taxa de evasão de clientes que cancelaram possui um total de gasto maior."
      ]
    },
    {
      "cell_type": "markdown",
      "metadata": {
        "id": "X8TKTUvsf5eZ"
      },
      "source": [
        "##  C. Análise Exploratória e Visualização dos dados"
      ]
    },
    {
      "cell_type": "markdown",
      "metadata": {
        "id": "jqzy28c_f5ea"
      },
      "source": [
        "## 05 - Análise Exploratória dos Dados"
      ]
    },
    {
      "cell_type": "code",
      "execution_count": null,
      "metadata": {
        "id": "EUkzlOHMf5eb"
      },
      "outputs": [],
      "source": [
        "#criar cópia\n",
        "df4 = dados_df.copy()"
      ]
    },
    {
      "cell_type": "code",
      "execution_count": null,
      "metadata": {
        "id": "h15sDtPzf5ec"
      },
      "outputs": [],
      "source": [
        "num_attributes = df4.select_dtypes( include=['float64', 'int64'] )\n",
        "cat_attributes = df4.select_dtypes( exclude=['float64', 'int64'] )"
      ]
    },
    {
      "cell_type": "code",
      "execution_count": null,
      "metadata": {
        "id": "Ak5UPgzEf5ec",
        "outputId": "fbc80d69-ca40-42f1-d43c-b4f3c4efa662"
      },
      "outputs": [
        {
          "data": {
            "text/html": [
              "<div>\n",
              "<style scoped>\n",
              "    .dataframe tbody tr th:only-of-type {\n",
              "        vertical-align: middle;\n",
              "    }\n",
              "\n",
              "    .dataframe tbody tr th {\n",
              "        vertical-align: top;\n",
              "    }\n",
              "\n",
              "    .dataframe thead th {\n",
              "        text-align: right;\n",
              "    }\n",
              "</style>\n",
              "<table border=\"1\" class=\"dataframe\">\n",
              "  <thead>\n",
              "    <tr style=\"text-align: right;\">\n",
              "      <th></th>\n",
              "      <th>count</th>\n",
              "      <th>mean</th>\n",
              "      <th>std</th>\n",
              "      <th>min</th>\n",
              "      <th>25%</th>\n",
              "      <th>50%</th>\n",
              "      <th>75%</th>\n",
              "      <th>max</th>\n",
              "    </tr>\n",
              "  </thead>\n",
              "  <tbody>\n",
              "    <tr>\n",
              "      <th>meses_como_cliente</th>\n",
              "      <td>5974.0</td>\n",
              "      <td>32.510880</td>\n",
              "      <td>24.495864</td>\n",
              "      <td>1.00</td>\n",
              "      <td>9.0000</td>\n",
              "      <td>29.000</td>\n",
              "      <td>56.00</td>\n",
              "      <td>72.00</td>\n",
              "    </tr>\n",
              "    <tr>\n",
              "      <th>valor_mensal</th>\n",
              "      <td>5974.0</td>\n",
              "      <td>64.849933</td>\n",
              "      <td>30.107238</td>\n",
              "      <td>18.25</td>\n",
              "      <td>35.7500</td>\n",
              "      <td>70.425</td>\n",
              "      <td>89.90</td>\n",
              "      <td>118.75</td>\n",
              "    </tr>\n",
              "    <tr>\n",
              "      <th>total_gasto</th>\n",
              "      <td>5974.0</td>\n",
              "      <td>2297.565777</td>\n",
              "      <td>2274.021491</td>\n",
              "      <td>18.80</td>\n",
              "      <td>404.2375</td>\n",
              "      <td>1411.775</td>\n",
              "      <td>3846.65</td>\n",
              "      <td>8684.80</td>\n",
              "    </tr>\n",
              "  </tbody>\n",
              "</table>\n",
              "</div>"
            ],
            "text/plain": [
              "                     count         mean          std    min       25%  \\\n",
              "meses_como_cliente  5974.0    32.510880    24.495864   1.00    9.0000   \n",
              "valor_mensal        5974.0    64.849933    30.107238  18.25   35.7500   \n",
              "total_gasto         5974.0  2297.565777  2274.021491  18.80  404.2375   \n",
              "\n",
              "                         50%      75%      max  \n",
              "meses_como_cliente    29.000    56.00    72.00  \n",
              "valor_mensal          70.425    89.90   118.75  \n",
              "total_gasto         1411.775  3846.65  8684.80  "
            ]
          },
          "execution_count": 18,
          "metadata": {},
          "output_type": "execute_result"
        }
      ],
      "source": [
        "Ct1 = df4.describe().T\n",
        "Ct1"
      ]
    },
    {
      "cell_type": "code",
      "execution_count": null,
      "metadata": {
        "id": "i0yohVHzf5ee",
        "outputId": "0468d3e4-1819-4f87-b9d6-0f0c8b82b045"
      },
      "outputs": [
        {
          "data": {
            "text/html": [
              "<div>\n",
              "<style scoped>\n",
              "    .dataframe tbody tr th:only-of-type {\n",
              "        vertical-align: middle;\n",
              "    }\n",
              "\n",
              "    .dataframe tbody tr th {\n",
              "        vertical-align: top;\n",
              "    }\n",
              "\n",
              "    .dataframe thead th {\n",
              "        text-align: right;\n",
              "    }\n",
              "</style>\n",
              "<table border=\"1\" class=\"dataframe\">\n",
              "  <thead>\n",
              "    <tr style=\"text-align: right;\">\n",
              "      <th></th>\n",
              "      <th>attributes</th>\n",
              "      <th>min</th>\n",
              "      <th>max</th>\n",
              "      <th>range</th>\n",
              "      <th>mean</th>\n",
              "      <th>median</th>\n",
              "      <th>std</th>\n",
              "      <th>skew</th>\n",
              "      <th>kurtosis</th>\n",
              "    </tr>\n",
              "  </thead>\n",
              "  <tbody>\n",
              "    <tr>\n",
              "      <th>0</th>\n",
              "      <td>meses_como_cliente</td>\n",
              "      <td>1.00</td>\n",
              "      <td>72.00</td>\n",
              "      <td>71.0</td>\n",
              "      <td>32.510880</td>\n",
              "      <td>29.000</td>\n",
              "      <td>24.493814</td>\n",
              "      <td>0.232511</td>\n",
              "      <td>-1.386606</td>\n",
              "    </tr>\n",
              "    <tr>\n",
              "      <th>1</th>\n",
              "      <td>valor_mensal</td>\n",
              "      <td>18.25</td>\n",
              "      <td>118.75</td>\n",
              "      <td>100.5</td>\n",
              "      <td>64.849933</td>\n",
              "      <td>70.425</td>\n",
              "      <td>30.104718</td>\n",
              "      <td>-0.220769</td>\n",
              "      <td>-1.257858</td>\n",
              "    </tr>\n",
              "    <tr>\n",
              "      <th>2</th>\n",
              "      <td>total_gasto</td>\n",
              "      <td>18.80</td>\n",
              "      <td>8684.80</td>\n",
              "      <td>8666.0</td>\n",
              "      <td>2297.565777</td>\n",
              "      <td>1411.775</td>\n",
              "      <td>2273.831156</td>\n",
              "      <td>0.950017</td>\n",
              "      <td>-0.263141</td>\n",
              "    </tr>\n",
              "  </tbody>\n",
              "</table>\n",
              "</div>"
            ],
            "text/plain": [
              "           attributes    min      max   range         mean    median  \\\n",
              "0  meses_como_cliente   1.00    72.00    71.0    32.510880    29.000   \n",
              "1        valor_mensal  18.25   118.75   100.5    64.849933    70.425   \n",
              "2         total_gasto  18.80  8684.80  8666.0  2297.565777  1411.775   \n",
              "\n",
              "           std      skew  kurtosis  \n",
              "0    24.493814  0.232511 -1.386606  \n",
              "1    30.104718 -0.220769 -1.257858  \n",
              "2  2273.831156  0.950017 -0.263141  "
            ]
          },
          "execution_count": 19,
          "metadata": {},
          "output_type": "execute_result"
        }
      ],
      "source": [
        "# Tendencia Central - media, mediana \n",
        "ct1 = pd.DataFrame( num_attributes.apply( np.mean ) ).T\n",
        "ct2 = pd.DataFrame( num_attributes.apply( np.median ) ).T\n",
        "\n",
        "# dispersão - std, min, max, amplitude, skew, curtosi\n",
        "d1 = pd.DataFrame( num_attributes.apply( np.std ) ).T \n",
        "d2 = pd.DataFrame( num_attributes.apply( min ) ).T \n",
        "d3 = pd.DataFrame( num_attributes.apply( max ) ).T \n",
        "d4 = pd.DataFrame( num_attributes.apply( lambda x: x.max() - x.min() ) ).T \n",
        "d5 = pd.DataFrame( num_attributes.apply( lambda x: x.skew() ) ).T \n",
        "d6 = pd.DataFrame( num_attributes.apply( lambda x: x.kurtosis() ) ).T \n",
        "\n",
        "# concatenar\n",
        "m = pd.concat( [d2, d3, d4, ct1, ct2, d1, d5, d6] ).T.reset_index()\n",
        "m.columns = ['attributes', 'min', 'max', 'range', 'mean', 'median', 'std', 'skew', 'kurtosis']\n",
        "m"
      ]
    },
    {
      "cell_type": "code",
      "execution_count": null,
      "metadata": {
        "id": "DcShz_3rf5ef",
        "outputId": "e26500ea-5c29-4d66-d3e6-6fb484b30077"
      },
      "outputs": [
        {
          "data": {
            "text/plain": [
              "genero                      2\n",
              "aposentado                  2\n",
              "casado                      2\n",
              "dependentes                 2\n",
              "servico_telefone            2\n",
              "multiplas_linhas            3\n",
              "servico_internet            3\n",
              "servico_seguranca_online    3\n",
              "servico_backup_online       3\n",
              "protecao_equipamento        3\n",
              "servico_suporte_tecnico     3\n",
              "servico_streaming_tv        3\n",
              "servico_filmes              3\n",
              "tipo_contrato               3\n",
              "fatura_digital              2\n",
              "forma_pagamento             4\n",
              "churn                       2\n",
              "dtype: int64"
            ]
          },
          "execution_count": 20,
          "metadata": {},
          "output_type": "execute_result"
        }
      ],
      "source": [
        "#verificar as variaveis categorigas\n",
        "cat_attributes.apply( lambda x: x.unique().shape[0] )"
      ]
    },
    {
      "cell_type": "code",
      "execution_count": null,
      "metadata": {
        "id": "yQn5DZiwf5eg",
        "outputId": "294373ac-f8e9-46aa-cf76-2c97e31f60dc"
      },
      "outputs": [
        {
          "data": {
            "text/plain": [
              "Nao    4387\n",
              "Sim    1587\n",
              "Name: churn, dtype: int64"
            ]
          },
          "metadata": {},
          "output_type": "display_data"
        },
        {
          "data": {
            "text/plain": [
              "Nao    73.43%\n",
              "Sim    26.57%\n",
              "Name: churn, dtype: object"
            ]
          },
          "metadata": {},
          "output_type": "display_data"
        },
        {
          "name": "stderr",
          "output_type": "stream",
          "text": [
            "C:\\Users\\adria\\anaconda3\\lib\\site-packages\\seaborn\\_decorators.py:36: FutureWarning: Pass the following variable as a keyword arg: x. From version 0.12, the only valid positional argument will be `data`, and passing other arguments without an explicit keyword will result in an error or misinterpretation.\n",
            "  warnings.warn(\n"
          ]
        },
        {
          "data": {
            "text/plain": [
              "<AxesSubplot:xlabel='churn', ylabel='count'>"
            ]
          },
          "execution_count": 21,
          "metadata": {},
          "output_type": "execute_result"
        },
        {
          "data": {
            "image/png": "[encoded data removed]",
            "text/plain": [
              "<Figure size 432x288 with 1 Axes>"
            ]
          },
          "metadata": {
            "needs_background": "light"
          },
          "output_type": "display_data"
        }
      ],
      "source": [
        "#monstrando a porcentagem de Churn\n",
        "display(df4['churn'].value_counts())\n",
        "display(df4['churn'].value_counts(normalize=True).map('{:.2%}'.format)) #monstrando a porcentagem de Churn\n",
        "df4['churn'].value_counts()\n",
        "sns.countplot(df4['churn'])"
      ]
    },
    {
      "cell_type": "markdown",
      "metadata": {
        "id": "mVXaK6NVf5eh"
      },
      "source": [
        "* ### Variável Numérica"
      ]
    },
    {
      "cell_type": "code",
      "execution_count": null,
      "metadata": {
        "id": "vPaKxrbjf5ei",
        "outputId": "8d88bdd3-5aaf-4669-f0b1-2acab72c0669"
      },
      "outputs": [
        {
          "data": {
            "image/png": "[encoded data removed]",
            "text/plain": [
              "<Figure size 864x720 with 4 Axes>"
            ]
          },
          "metadata": {
            "needs_background": "light"
          },
          "output_type": "display_data"
        }
      ],
      "source": [
        "num_attributes.hist(figsize=(12,10));"
      ]
    },
    {
      "cell_type": "markdown",
      "metadata": {
        "id": "nKEYA7ikf5ej"
      },
      "source": [
        "O histograma da variável meses como cliente, mostra uma inflação de clientes nos 10 primeiros meses de 65 a 72 meses. \n",
        "Já, o histograma da variável valor mensal, mostra uma inflação de clientes que pagam um valor mensal de 18 a 30 reais.\n",
        "A distribuição da variável total gasto mostra uma assimetria a direita, indicando que os clientes tem uma inflação de gastos em torno de 1000 reais."
      ]
    },
    {
      "cell_type": "code",
      "execution_count": null,
      "metadata": {
        "id": "pEp2JUF-f5ek"
      },
      "outputs": [],
      "source": [
        "x_cont=['meses_como_cliente', 'valor_mensal','total_gasto']"
      ]
    },
    {
      "cell_type": "code",
      "execution_count": null,
      "metadata": {
        "id": "o4x9endyf5ek",
        "outputId": "8d9cd2de-11b5-4275-dc2a-74f874793ef1"
      },
      "outputs": [
        {
          "data": {
            "image/png": "[encoded data removed]",
            "text/plain": [
              "<Figure size 1584x432 with 3 Axes>"
            ]
          },
          "metadata": {
            "needs_background": "light"
          },
          "output_type": "display_data"
        }
      ],
      "source": [
        "fig, ax = plt.subplots(1, 3, figsize=(22, 6));\n",
        "df4[df4.churn == \"Nao\"][x_cont].hist( bins=30, color=\"blue\", alpha=0.5, ax=ax);\n",
        "df4[df4.churn == \"Sim\"][x_cont].hist( bins=30, color=\"red\", alpha=0.5, ax=ax);"
      ]
    },
    {
      "cell_type": "code",
      "execution_count": null,
      "metadata": {
        "id": "GHjFKiNwf5em"
      },
      "outputs": [],
      "source": [
        "# substituindo a informação de clientes que sairam 'Churn' de string para numérico\n",
        "df4['churn'] = df4['churn'].replace(['Sim','Nao'],[1,0])"
      ]
    },
    {
      "cell_type": "markdown",
      "metadata": {
        "id": "ptGAODwIf5eo"
      },
      "source": [
        "* ### Variáveis Categóricas"
      ]
    },
    {
      "cell_type": "code",
      "execution_count": null,
      "metadata": {
        "id": "4Xsk0sRLf5ep"
      },
      "outputs": [],
      "source": [
        "#definição da paleta de cores\n",
        "myred='#CD5C5C'\n",
        "myblue='#6495ED'\n",
        "mygreen='#90EE90'\n",
        "cols= [myred, myblue,mygreen]"
      ]
    },
    {
      "cell_type": "markdown",
      "metadata": {
        "id": "EMZBs5_-f5er"
      },
      "source": [
        "### **H1.** A taxa de evasão do sexo masculino em relação ao sexo feminino é maior.\n",
        "\n",
        "**FALSA** Podemos observar que a taxa de evasão de clientes em diferentes sexo são iguais."
      ]
    },
    {
      "cell_type": "code",
      "execution_count": null,
      "metadata": {
        "id": "r_ecKraQf5es",
        "outputId": "c5eee82f-d28d-4089-cf7c-e08df83c28f9"
      },
      "outputs": [
        {
          "data": {
            "text/html": [
              "<div>\n",
              "<style scoped>\n",
              "    .dataframe tbody tr th:only-of-type {\n",
              "        vertical-align: middle;\n",
              "    }\n",
              "\n",
              "    .dataframe tbody tr th {\n",
              "        vertical-align: top;\n",
              "    }\n",
              "\n",
              "    .dataframe thead th {\n",
              "        text-align: right;\n",
              "    }\n",
              "</style>\n",
              "<table border=\"1\" class=\"dataframe\">\n",
              "  <thead>\n",
              "    <tr style=\"text-align: right;\">\n",
              "      <th></th>\n",
              "      <th>genero</th>\n",
              "      <th>churn</th>\n",
              "    </tr>\n",
              "  </thead>\n",
              "  <tbody>\n",
              "    <tr>\n",
              "      <th>0</th>\n",
              "      <td>Feminino</td>\n",
              "      <td>0.269874</td>\n",
              "    </tr>\n",
              "    <tr>\n",
              "      <th>1</th>\n",
              "      <td>Masculino</td>\n",
              "      <td>0.261584</td>\n",
              "    </tr>\n",
              "  </tbody>\n",
              "</table>\n",
              "</div>"
            ],
            "text/plain": [
              "      genero     churn\n",
              "0   Feminino  0.269874\n",
              "1  Masculino  0.261584"
            ]
          },
          "execution_count": 27,
          "metadata": {},
          "output_type": "execute_result"
        }
      ],
      "source": [
        "df_plot = df4.groupby ('genero'). churn.mean (). reset_index () \n",
        "df_plot"
      ]
    },
    {
      "cell_type": "code",
      "execution_count": null,
      "metadata": {
        "id": "U02GHIv2f5et",
        "outputId": "0919ac08-3a59-46ae-f854-a4435b2a23f3"
      },
      "outputs": [
        {
          "data": {
            "image/png": "[encoded data removed]",
            "text/plain": [
              "<Figure size 432x288 with 1 Axes>"
            ]
          },
          "metadata": {
            "needs_background": "light"
          },
          "output_type": "display_data"
        }
      ],
      "source": [
        "x =df_plot['genero']\n",
        "y=df_plot['churn']\n",
        "plt.bar(x,y,color=cols);\n",
        "plt.title('Taxa de Churn em relação ao genero');\n",
        "plt.xlabel('Genero');\n",
        "plt.ylabel('Taxa de Churn');"
      ]
    },
    {
      "cell_type": "markdown",
      "metadata": {
        "id": "AwM_Y1IYf5eu"
      },
      "source": [
        "### **H2.** A taxa de evasão de clientes aposentados é maior.\n",
        "**VERDADEIRA** Podemos observar que a evasão de clientes é maior em pessoas aposentadas."
      ]
    },
    {
      "cell_type": "code",
      "execution_count": null,
      "metadata": {
        "id": "Kwm1w2EWf5ev"
      },
      "outputs": [],
      "source": [
        "df4['aposentado'] = df4['aposentado'].replace([0,1],['Nao','Sim'])"
      ]
    },
    {
      "cell_type": "code",
      "execution_count": null,
      "metadata": {
        "id": "ueZc83SBf5ev",
        "outputId": "e8b22461-f9b0-4090-c0ba-646849216be4"
      },
      "outputs": [
        {
          "data": {
            "text/html": [
              "<div>\n",
              "<style scoped>\n",
              "    .dataframe tbody tr th:only-of-type {\n",
              "        vertical-align: middle;\n",
              "    }\n",
              "\n",
              "    .dataframe tbody tr th {\n",
              "        vertical-align: top;\n",
              "    }\n",
              "\n",
              "    .dataframe thead th {\n",
              "        text-align: right;\n",
              "    }\n",
              "</style>\n",
              "<table border=\"1\" class=\"dataframe\">\n",
              "  <thead>\n",
              "    <tr style=\"text-align: right;\">\n",
              "      <th></th>\n",
              "      <th>aposentado</th>\n",
              "      <th>churn</th>\n",
              "    </tr>\n",
              "  </thead>\n",
              "  <tbody>\n",
              "    <tr>\n",
              "      <th>0</th>\n",
              "      <td>Nao</td>\n",
              "      <td>0.236621</td>\n",
              "    </tr>\n",
              "    <tr>\n",
              "      <th>1</th>\n",
              "      <td>Sim</td>\n",
              "      <td>0.416149</td>\n",
              "    </tr>\n",
              "  </tbody>\n",
              "</table>\n",
              "</div>"
            ],
            "text/plain": [
              "  aposentado     churn\n",
              "0        Nao  0.236621\n",
              "1        Sim  0.416149"
            ]
          },
          "execution_count": 30,
          "metadata": {},
          "output_type": "execute_result"
        }
      ],
      "source": [
        "df_plot = df4.groupby ('aposentado'). churn.mean (). reset_index () \n",
        "df_plot"
      ]
    },
    {
      "cell_type": "code",
      "execution_count": null,
      "metadata": {
        "id": "WCExFwhMf5ew",
        "outputId": "772ada02-5f7f-43a3-8a36-7bd1dd3ef7d6"
      },
      "outputs": [
        {
          "data": {
            "image/png": "[encoded data removed]",
            "text/plain": [
              "<Figure size 432x288 with 1 Axes>"
            ]
          },
          "metadata": {
            "needs_background": "light"
          },
          "output_type": "display_data"
        }
      ],
      "source": [
        "x =df_plot['aposentado']\n",
        "y=df_plot['churn']\n",
        "plt.bar(x,y,color=cols);\n",
        "plt.title('Taxa de Churn em relação a Aposentadoria');\n",
        "plt.xlabel('Aposentado');\n",
        "plt.ylabel('Taxa de Churn');"
      ]
    },
    {
      "cell_type": "markdown",
      "metadata": {
        "id": "_0uXX-aXf5ex"
      },
      "source": [
        "### **H3.** A taxa de evasão de clientes casado é maior.\n",
        "**FALSA** Podemos observar que a taxa de evasão de clientes solteiro é maior."
      ]
    },
    {
      "cell_type": "code",
      "execution_count": null,
      "metadata": {
        "id": "97X2YHfhf5ey",
        "outputId": "f17d50d7-e55d-4487-9664-463be93b0fd7"
      },
      "outputs": [
        {
          "data": {
            "text/html": [
              "<div>\n",
              "<style scoped>\n",
              "    .dataframe tbody tr th:only-of-type {\n",
              "        vertical-align: middle;\n",
              "    }\n",
              "\n",
              "    .dataframe tbody tr th {\n",
              "        vertical-align: top;\n",
              "    }\n",
              "\n",
              "    .dataframe thead th {\n",
              "        text-align: right;\n",
              "    }\n",
              "</style>\n",
              "<table border=\"1\" class=\"dataframe\">\n",
              "  <thead>\n",
              "    <tr style=\"text-align: right;\">\n",
              "      <th></th>\n",
              "      <th>casado</th>\n",
              "      <th>churn</th>\n",
              "    </tr>\n",
              "  </thead>\n",
              "  <tbody>\n",
              "    <tr>\n",
              "      <th>0</th>\n",
              "      <td>Nao</td>\n",
              "      <td>0.328247</td>\n",
              "    </tr>\n",
              "    <tr>\n",
              "      <th>1</th>\n",
              "      <td>Sim</td>\n",
              "      <td>0.199032</td>\n",
              "    </tr>\n",
              "  </tbody>\n",
              "</table>\n",
              "</div>"
            ],
            "text/plain": [
              "  casado     churn\n",
              "0    Nao  0.328247\n",
              "1    Sim  0.199032"
            ]
          },
          "execution_count": 32,
          "metadata": {},
          "output_type": "execute_result"
        }
      ],
      "source": [
        "df_plot = df4.groupby ('casado'). churn.mean (). reset_index () \n",
        "df_plot"
      ]
    },
    {
      "cell_type": "code",
      "execution_count": null,
      "metadata": {
        "id": "RtTtKpKhf5ey",
        "outputId": "519e6a71-8a62-4091-bc8b-410be8cb314c"
      },
      "outputs": [
        {
          "data": {
            "image/png": "[encoded data removed]",
            "text/plain": [
              "<Figure size 432x288 with 1 Axes>"
            ]
          },
          "metadata": {
            "needs_background": "light"
          },
          "output_type": "display_data"
        }
      ],
      "source": [
        "x =df_plot['casado']\n",
        "y=df_plot['churn']\n",
        "plt.bar(x,y,color=cols);\n",
        "plt.title('Taxa de Churn em relação ao Estado Civil');\n",
        "plt.xlabel('Casado');\n",
        "plt.ylabel('Taxa de Churn');"
      ]
    },
    {
      "cell_type": "markdown",
      "metadata": {
        "id": "IgMZ46qkf5ez"
      },
      "source": [
        "### **H4.** A taxa de evasão de clientes que tem dependentes é maior.\n",
        "**FALSA** Podemos observar que a taxa evasão de clientes que não tem dependentes é duas vezes maior em relação aos clientes que tem dependentes."
      ]
    },
    {
      "cell_type": "code",
      "execution_count": null,
      "metadata": {
        "id": "f23-3ZNMf5e0",
        "outputId": "80fab3f5-bbea-4efc-a311-3f04bf0e6a73"
      },
      "outputs": [
        {
          "data": {
            "text/html": [
              "<div>\n",
              "<style scoped>\n",
              "    .dataframe tbody tr th:only-of-type {\n",
              "        vertical-align: middle;\n",
              "    }\n",
              "\n",
              "    .dataframe tbody tr th {\n",
              "        vertical-align: top;\n",
              "    }\n",
              "\n",
              "    .dataframe thead th {\n",
              "        text-align: right;\n",
              "    }\n",
              "</style>\n",
              "<table border=\"1\" class=\"dataframe\">\n",
              "  <thead>\n",
              "    <tr style=\"text-align: right;\">\n",
              "      <th></th>\n",
              "      <th>dependentes</th>\n",
              "      <th>churn</th>\n",
              "    </tr>\n",
              "  </thead>\n",
              "  <tbody>\n",
              "    <tr>\n",
              "      <th>0</th>\n",
              "      <td>Nao</td>\n",
              "      <td>0.311397</td>\n",
              "    </tr>\n",
              "    <tr>\n",
              "      <th>1</th>\n",
              "      <td>Sim</td>\n",
              "      <td>0.157865</td>\n",
              "    </tr>\n",
              "  </tbody>\n",
              "</table>\n",
              "</div>"
            ],
            "text/plain": [
              "  dependentes     churn\n",
              "0         Nao  0.311397\n",
              "1         Sim  0.157865"
            ]
          },
          "execution_count": 34,
          "metadata": {},
          "output_type": "execute_result"
        }
      ],
      "source": [
        "df_plot = df4.groupby ('dependentes'). churn.mean (). reset_index () \n",
        "df_plot"
      ]
    },
    {
      "cell_type": "code",
      "execution_count": null,
      "metadata": {
        "id": "-Y_HttlHf5e1",
        "outputId": "3c7c4eba-b416-44ac-b1b4-268bb4faa94f"
      },
      "outputs": [
        {
          "data": {
            "image/png": "[encoded data removed]",
            "text/plain": [
              "<Figure size 432x288 with 1 Axes>"
            ]
          },
          "metadata": {
            "needs_background": "light"
          },
          "output_type": "display_data"
        }
      ],
      "source": [
        "x =df_plot['dependentes']\n",
        "y=df_plot['churn']\n",
        "plt.bar(x,y,color=cols);\n",
        "plt.title('Taxa de Churn em relação ao Dependente');\n",
        "plt.xlabel('Dependentes');\n",
        "plt.ylabel('Taxa de Churn');"
      ]
    },
    {
      "cell_type": "markdown",
      "metadata": {
        "id": "WK50KiRqf5e2"
      },
      "source": [
        "### **H5.** A taxa de evasão de clientes que tem serviço de telefone é maior.\n",
        "**VERDADEIRA** Podemos observar que a taxa de evasão de clientes que optam em ter serviço de telefone é maior.### **H5.** A taxa de evasão de clientes que tem serviço de telefone é maior."
      ]
    },
    {
      "cell_type": "code",
      "execution_count": null,
      "metadata": {
        "id": "5hAmfigFf5e4",
        "outputId": "e0a56da2-dc66-438c-aabb-3e738580198e"
      },
      "outputs": [
        {
          "data": {
            "text/html": [
              "<div>\n",
              "<style scoped>\n",
              "    .dataframe tbody tr th:only-of-type {\n",
              "        vertical-align: middle;\n",
              "    }\n",
              "\n",
              "    .dataframe tbody tr th {\n",
              "        vertical-align: top;\n",
              "    }\n",
              "\n",
              "    .dataframe thead th {\n",
              "        text-align: right;\n",
              "    }\n",
              "</style>\n",
              "<table border=\"1\" class=\"dataframe\">\n",
              "  <thead>\n",
              "    <tr style=\"text-align: right;\">\n",
              "      <th></th>\n",
              "      <th>servico_telefone</th>\n",
              "      <th>churn</th>\n",
              "    </tr>\n",
              "  </thead>\n",
              "  <tbody>\n",
              "    <tr>\n",
              "      <th>0</th>\n",
              "      <td>Nao</td>\n",
              "      <td>0.253401</td>\n",
              "    </tr>\n",
              "    <tr>\n",
              "      <th>1</th>\n",
              "      <td>Sim</td>\n",
              "      <td>0.266988</td>\n",
              "    </tr>\n",
              "  </tbody>\n",
              "</table>\n",
              "</div>"
            ],
            "text/plain": [
              "  servico_telefone     churn\n",
              "0              Nao  0.253401\n",
              "1              Sim  0.266988"
            ]
          },
          "execution_count": 36,
          "metadata": {},
          "output_type": "execute_result"
        }
      ],
      "source": [
        "df_plot = df4.groupby ('servico_telefone'). churn.mean (). reset_index () \n",
        "df_plot"
      ]
    },
    {
      "cell_type": "code",
      "execution_count": null,
      "metadata": {
        "id": "cxiL9dmBf5e5",
        "outputId": "39398efc-9c6d-4456-de79-d70d245393cc"
      },
      "outputs": [
        {
          "data": {
            "image/png": "[encoded data removed]",
            "text/plain": [
              "<Figure size 432x288 with 1 Axes>"
            ]
          },
          "metadata": {
            "needs_background": "light"
          },
          "output_type": "display_data"
        }
      ],
      "source": [
        "x =df_plot['servico_telefone']\n",
        "y=df_plot['churn']\n",
        "plt.bar(x,y,color=cols);\n",
        "plt.title('Taxa de Churn em relação ao Servico Telefonico');\n",
        "plt.xlabel('ServicoTelefone');\n",
        "plt.ylabel('Taxa de Churn');"
      ]
    },
    {
      "cell_type": "markdown",
      "metadata": {
        "id": "DyjYgfO6f5e6"
      },
      "source": [
        "### **H6.** A taxa de evasão de clientes com multiplas linhas é maior.\n",
        "**VERDADEIRA** Podemos observar que a taxa de evasão de clientes com multiplas linhas é em torno de 3% maior."
      ]
    },
    {
      "cell_type": "code",
      "execution_count": null,
      "metadata": {
        "id": "c1qY2jIHf5e7",
        "outputId": "234f8dde-2ae3-4985-d904-ad06245dff73"
      },
      "outputs": [
        {
          "data": {
            "text/html": [
              "<div>\n",
              "<style scoped>\n",
              "    .dataframe tbody tr th:only-of-type {\n",
              "        vertical-align: middle;\n",
              "    }\n",
              "\n",
              "    .dataframe tbody tr th {\n",
              "        vertical-align: top;\n",
              "    }\n",
              "\n",
              "    .dataframe thead th {\n",
              "        text-align: right;\n",
              "    }\n",
              "</style>\n",
              "<table border=\"1\" class=\"dataframe\">\n",
              "  <thead>\n",
              "    <tr style=\"text-align: right;\">\n",
              "      <th></th>\n",
              "      <th>multiplas_linhas</th>\n",
              "      <th>churn</th>\n",
              "    </tr>\n",
              "  </thead>\n",
              "  <tbody>\n",
              "    <tr>\n",
              "      <th>0</th>\n",
              "      <td>Nao</td>\n",
              "      <td>0.251583</td>\n",
              "    </tr>\n",
              "    <tr>\n",
              "      <th>1</th>\n",
              "      <td>SemTelefone</td>\n",
              "      <td>0.253401</td>\n",
              "    </tr>\n",
              "    <tr>\n",
              "      <th>2</th>\n",
              "      <td>Sim</td>\n",
              "      <td>0.284198</td>\n",
              "    </tr>\n",
              "  </tbody>\n",
              "</table>\n",
              "</div>"
            ],
            "text/plain": [
              "  multiplas_linhas     churn\n",
              "0              Nao  0.251583\n",
              "1      SemTelefone  0.253401\n",
              "2              Sim  0.284198"
            ]
          },
          "execution_count": 38,
          "metadata": {},
          "output_type": "execute_result"
        }
      ],
      "source": [
        "df_plot = df4.groupby ('multiplas_linhas'). churn.mean (). reset_index () \n",
        "df_plot"
      ]
    },
    {
      "cell_type": "code",
      "execution_count": null,
      "metadata": {
        "id": "Sv1rJIRff5e9",
        "outputId": "bdfe853c-f105-4401-b748-4e0399a75ecd"
      },
      "outputs": [
        {
          "data": {
            "image/png": "[encoded data removed]",
            "text/plain": [
              "<Figure size 432x288 with 1 Axes>"
            ]
          },
          "metadata": {
            "needs_background": "light"
          },
          "output_type": "display_data"
        }
      ],
      "source": [
        "x =df_plot['multiplas_linhas']\n",
        "y=df_plot['churn']\n",
        "plt.bar(x,y,color=cols);\n",
        "plt.title('Taxa de Churn em relação a Multiplas Linhas');\n",
        "plt.xlabel('MultiplasLinhas');\n",
        "plt.ylabel('Taxa de Churn');"
      ]
    },
    {
      "cell_type": "markdown",
      "metadata": {
        "id": "K4cQsQRnf5e-"
      },
      "source": [
        "### **H7.** A taxa de evasão de clientes que utilizam fibra ótica é menor.\n",
        "**FALSA** Clientes que utilizam fibra ótica tem taxa de cancelamento é maior do que os outros serviços."
      ]
    },
    {
      "cell_type": "code",
      "execution_count": null,
      "metadata": {
        "id": "_uEu4zJof5e_",
        "outputId": "28248ef0-7686-4f3f-c282-42d58cf82bdd"
      },
      "outputs": [
        {
          "data": {
            "text/html": [
              "<div>\n",
              "<style scoped>\n",
              "    .dataframe tbody tr th:only-of-type {\n",
              "        vertical-align: middle;\n",
              "    }\n",
              "\n",
              "    .dataframe tbody tr th {\n",
              "        vertical-align: top;\n",
              "    }\n",
              "\n",
              "    .dataframe thead th {\n",
              "        text-align: right;\n",
              "    }\n",
              "</style>\n",
              "<table border=\"1\" class=\"dataframe\">\n",
              "  <thead>\n",
              "    <tr style=\"text-align: right;\">\n",
              "      <th></th>\n",
              "      <th>servico_internet</th>\n",
              "      <th>churn</th>\n",
              "    </tr>\n",
              "  </thead>\n",
              "  <tbody>\n",
              "    <tr>\n",
              "      <th>0</th>\n",
              "      <td>DSL</td>\n",
              "      <td>0.192438</td>\n",
              "    </tr>\n",
              "    <tr>\n",
              "      <th>1</th>\n",
              "      <td>Fibra</td>\n",
              "      <td>0.415303</td>\n",
              "    </tr>\n",
              "    <tr>\n",
              "      <th>2</th>\n",
              "      <td>Nao</td>\n",
              "      <td>0.077103</td>\n",
              "    </tr>\n",
              "  </tbody>\n",
              "</table>\n",
              "</div>"
            ],
            "text/plain": [
              "  servico_internet     churn\n",
              "0              DSL  0.192438\n",
              "1            Fibra  0.415303\n",
              "2              Nao  0.077103"
            ]
          },
          "execution_count": 40,
          "metadata": {},
          "output_type": "execute_result"
        }
      ],
      "source": [
        "df_plot = df4.groupby ('servico_internet'). churn.mean (). reset_index () \n",
        "df_plot"
      ]
    },
    {
      "cell_type": "code",
      "execution_count": null,
      "metadata": {
        "id": "O0PVVwDUf5fA",
        "outputId": "8d6a345a-753d-40fb-aeb4-417401e70308"
      },
      "outputs": [
        {
          "data": {
            "image/png": "[encoded data removed]",
            "text/plain": [
              "<Figure size 432x288 with 1 Axes>"
            ]
          },
          "metadata": {
            "needs_background": "light"
          },
          "output_type": "display_data"
        }
      ],
      "source": [
        "x =df_plot['servico_internet']\n",
        "y=df_plot['churn']\n",
        "plt.bar(x,y,color=cols);\n",
        "plt.title('Taxa de Churn em relação a Servico Internet');\n",
        "plt.xlabel('ServicoInternet');\n",
        "plt.ylabel('Taxa de Churn');"
      ]
    },
    {
      "cell_type": "markdown",
      "metadata": {
        "id": "hFuk9_Cnf5fC"
      },
      "source": [
        "### **H8.** A taxa de evasão de clientes que utilizam serviço segurança online é maior.\n",
        "**FALSA** A taxa de evasão de clientes que não utilizam serviço segurança online é maior em relação aos que fazem uso do serviço."
      ]
    },
    {
      "cell_type": "code",
      "execution_count": null,
      "metadata": {
        "id": "HW5Z62UFf5fC",
        "outputId": "e48ad16f-e882-4fc2-adbe-c3155ee02787"
      },
      "outputs": [
        {
          "data": {
            "text/html": [
              "<div>\n",
              "<style scoped>\n",
              "    .dataframe tbody tr th:only-of-type {\n",
              "        vertical-align: middle;\n",
              "    }\n",
              "\n",
              "    .dataframe tbody tr th {\n",
              "        vertical-align: top;\n",
              "    }\n",
              "\n",
              "    .dataframe thead th {\n",
              "        text-align: right;\n",
              "    }\n",
              "</style>\n",
              "<table border=\"1\" class=\"dataframe\">\n",
              "  <thead>\n",
              "    <tr style=\"text-align: right;\">\n",
              "      <th></th>\n",
              "      <th>servico_seguranca_online</th>\n",
              "      <th>churn</th>\n",
              "    </tr>\n",
              "  </thead>\n",
              "  <tbody>\n",
              "    <tr>\n",
              "      <th>0</th>\n",
              "      <td>Nao</td>\n",
              "      <td>0.416499</td>\n",
              "    </tr>\n",
              "    <tr>\n",
              "      <th>1</th>\n",
              "      <td>SemInternet</td>\n",
              "      <td>0.077103</td>\n",
              "    </tr>\n",
              "    <tr>\n",
              "      <th>2</th>\n",
              "      <td>Sim</td>\n",
              "      <td>0.144028</td>\n",
              "    </tr>\n",
              "  </tbody>\n",
              "</table>\n",
              "</div>"
            ],
            "text/plain": [
              "  servico_seguranca_online     churn\n",
              "0                      Nao  0.416499\n",
              "1              SemInternet  0.077103\n",
              "2                      Sim  0.144028"
            ]
          },
          "execution_count": 42,
          "metadata": {},
          "output_type": "execute_result"
        }
      ],
      "source": [
        "df_plot = df4.groupby ('servico_seguranca_online'). churn.mean (). reset_index () \n",
        "df_plot"
      ]
    },
    {
      "cell_type": "code",
      "execution_count": null,
      "metadata": {
        "id": "VX_sHV8pf5fD",
        "outputId": "28d10669-da7b-4b4c-e7f2-ba70d2bd40c3"
      },
      "outputs": [
        {
          "data": {
            "image/png": "[encoded data removed]",
            "text/plain": [
              "<Figure size 432x288 with 1 Axes>"
            ]
          },
          "metadata": {
            "needs_background": "light"
          },
          "output_type": "display_data"
        }
      ],
      "source": [
        "x =df_plot['servico_seguranca_online']\n",
        "y=df_plot['churn']\n",
        "plt.bar(x,y,color=cols);\n",
        "plt.title('Taxa de Churn em relação a Servico Seguranca Online');\n",
        "plt.xlabel('ServicoSegurancaOnline');\n",
        "plt.ylabel('Taxa de Churn');"
      ]
    },
    {
      "cell_type": "markdown",
      "metadata": {
        "id": "NE3Re4Mvf5fF"
      },
      "source": [
        "### **H9.** A taxa de evasão de clientes que utilizam serviço de backup online é maior.\n",
        "**FALSA** Podemos observar que a taxa de evasão de clientes que não utilizam serviço backup online é maior em relação aos que fazem uso do serviço."
      ]
    },
    {
      "cell_type": "code",
      "execution_count": null,
      "metadata": {
        "id": "jlE9RW4Pf5fF",
        "outputId": "73ed3db0-e6bd-4aa1-9059-1501d2519238"
      },
      "outputs": [
        {
          "data": {
            "text/html": [
              "<div>\n",
              "<style scoped>\n",
              "    .dataframe tbody tr th:only-of-type {\n",
              "        vertical-align: middle;\n",
              "    }\n",
              "\n",
              "    .dataframe tbody tr th {\n",
              "        vertical-align: top;\n",
              "    }\n",
              "\n",
              "    .dataframe thead th {\n",
              "        text-align: right;\n",
              "    }\n",
              "</style>\n",
              "<table border=\"1\" class=\"dataframe\">\n",
              "  <thead>\n",
              "    <tr style=\"text-align: right;\">\n",
              "      <th></th>\n",
              "      <th>servico_backup_online</th>\n",
              "      <th>churn</th>\n",
              "    </tr>\n",
              "  </thead>\n",
              "  <tbody>\n",
              "    <tr>\n",
              "      <th>0</th>\n",
              "      <td>Nao</td>\n",
              "      <td>0.398618</td>\n",
              "    </tr>\n",
              "    <tr>\n",
              "      <th>1</th>\n",
              "      <td>SemInternet</td>\n",
              "      <td>0.077103</td>\n",
              "    </tr>\n",
              "    <tr>\n",
              "      <th>2</th>\n",
              "      <td>Sim</td>\n",
              "      <td>0.215724</td>\n",
              "    </tr>\n",
              "  </tbody>\n",
              "</table>\n",
              "</div>"
            ],
            "text/plain": [
              "  servico_backup_online     churn\n",
              "0                   Nao  0.398618\n",
              "1           SemInternet  0.077103\n",
              "2                   Sim  0.215724"
            ]
          },
          "execution_count": 44,
          "metadata": {},
          "output_type": "execute_result"
        }
      ],
      "source": [
        "df_plot = df4.groupby ('servico_backup_online'). churn.mean (). reset_index () \n",
        "df_plot"
      ]
    },
    {
      "cell_type": "code",
      "execution_count": null,
      "metadata": {
        "id": "pECgvvJff5fH",
        "outputId": "b992ef97-cacf-45bb-a1d7-21bfc31f0f68"
      },
      "outputs": [
        {
          "data": {
            "image/png": "[encoded data removed]",
            "text/plain": [
              "<Figure size 432x288 with 1 Axes>"
            ]
          },
          "metadata": {
            "needs_background": "light"
          },
          "output_type": "display_data"
        }
      ],
      "source": [
        "x =df_plot['servico_backup_online']\n",
        "y=df_plot['churn']\n",
        "plt.bar(x,y,color=cols);\n",
        "plt.title('Taxa de Churn em relação a Servico Backup Online');\n",
        "plt.xlabel('ServicoBackupOnline');\n",
        "plt.ylabel('Taxa de Churn');"
      ]
    },
    {
      "cell_type": "markdown",
      "metadata": {
        "id": "lpoeLicif5fK"
      },
      "source": [
        "### **H10.** A taxa de evasão de clientes que utilizam a proteção de equipamento é maior.\n",
        "**FALSA** Podemos observar que a a taxa de evasão de clientes que não utilizam-se da proteção equipamento é maior em relação aos que utilizam."
      ]
    },
    {
      "cell_type": "code",
      "execution_count": null,
      "metadata": {
        "id": "IXZFd9_Gf5fL",
        "outputId": "81376e47-d291-420a-9ec1-09bca726de4a"
      },
      "outputs": [
        {
          "data": {
            "text/html": [
              "<div>\n",
              "<style scoped>\n",
              "    .dataframe tbody tr th:only-of-type {\n",
              "        vertical-align: middle;\n",
              "    }\n",
              "\n",
              "    .dataframe tbody tr th {\n",
              "        vertical-align: top;\n",
              "    }\n",
              "\n",
              "    .dataframe thead th {\n",
              "        text-align: right;\n",
              "    }\n",
              "</style>\n",
              "<table border=\"1\" class=\"dataframe\">\n",
              "  <thead>\n",
              "    <tr style=\"text-align: right;\">\n",
              "      <th></th>\n",
              "      <th>protecao_equipamento</th>\n",
              "      <th>churn</th>\n",
              "    </tr>\n",
              "  </thead>\n",
              "  <tbody>\n",
              "    <tr>\n",
              "      <th>0</th>\n",
              "      <td>Nao</td>\n",
              "      <td>0.390678</td>\n",
              "    </tr>\n",
              "    <tr>\n",
              "      <th>1</th>\n",
              "      <td>SemInternet</td>\n",
              "      <td>0.077103</td>\n",
              "    </tr>\n",
              "    <tr>\n",
              "      <th>2</th>\n",
              "      <td>Sim</td>\n",
              "      <td>0.222818</td>\n",
              "    </tr>\n",
              "  </tbody>\n",
              "</table>\n",
              "</div>"
            ],
            "text/plain": [
              "  protecao_equipamento     churn\n",
              "0                  Nao  0.390678\n",
              "1          SemInternet  0.077103\n",
              "2                  Sim  0.222818"
            ]
          },
          "execution_count": 46,
          "metadata": {},
          "output_type": "execute_result"
        }
      ],
      "source": [
        "df_plot = df4.groupby ('protecao_equipamento'). churn.mean (). reset_index () \n",
        "df_plot"
      ]
    },
    {
      "cell_type": "code",
      "execution_count": null,
      "metadata": {
        "id": "JWteqasgf5fN",
        "outputId": "13436628-ad40-4308-9cf2-86753469bd7a"
      },
      "outputs": [
        {
          "data": {
            "image/png": "[encoded data removed]",
            "text/plain": [
              "<Figure size 432x288 with 1 Axes>"
            ]
          },
          "metadata": {
            "needs_background": "light"
          },
          "output_type": "display_data"
        }
      ],
      "source": [
        "x =df_plot['protecao_equipamento']\n",
        "y=df_plot['churn']\n",
        "plt.bar(x,y,color=cols);\n",
        "plt.title('Taxa de Churn em relação a Protecao Equipamento');\n",
        "plt.xlabel('ProtecaoEquipamento');\n",
        "plt.ylabel('Taxa de Churn');"
      ]
    },
    {
      "cell_type": "markdown",
      "metadata": {
        "id": "22pEKlvIf5fP"
      },
      "source": [
        "### **H11.** A taxa de evasão de clientes que utilizam serviço de suporte técnico é maior.\n",
        "**FALSA** Podemos observar que a taxa de evasão de clientes é maior em pessoas que nao fazem uso do serviço suporte técnico."
      ]
    },
    {
      "cell_type": "code",
      "execution_count": null,
      "metadata": {
        "id": "5G2dyRnhf5fQ",
        "outputId": "8209610f-bb8b-4217-f9d7-44f92b8cf6f9"
      },
      "outputs": [
        {
          "data": {
            "text/html": [
              "<div>\n",
              "<style scoped>\n",
              "    .dataframe tbody tr th:only-of-type {\n",
              "        vertical-align: middle;\n",
              "    }\n",
              "\n",
              "    .dataframe tbody tr th {\n",
              "        vertical-align: top;\n",
              "    }\n",
              "\n",
              "    .dataframe thead th {\n",
              "        text-align: right;\n",
              "    }\n",
              "</style>\n",
              "<table border=\"1\" class=\"dataframe\">\n",
              "  <thead>\n",
              "    <tr style=\"text-align: right;\">\n",
              "      <th></th>\n",
              "      <th>servico_suporte_tecnico</th>\n",
              "      <th>churn</th>\n",
              "    </tr>\n",
              "  </thead>\n",
              "  <tbody>\n",
              "    <tr>\n",
              "      <th>0</th>\n",
              "      <td>Nao</td>\n",
              "      <td>0.412977</td>\n",
              "    </tr>\n",
              "    <tr>\n",
              "      <th>1</th>\n",
              "      <td>SemInternet</td>\n",
              "      <td>0.077103</td>\n",
              "    </tr>\n",
              "    <tr>\n",
              "      <th>2</th>\n",
              "      <td>Sim</td>\n",
              "      <td>0.153668</td>\n",
              "    </tr>\n",
              "  </tbody>\n",
              "</table>\n",
              "</div>"
            ],
            "text/plain": [
              "  servico_suporte_tecnico     churn\n",
              "0                     Nao  0.412977\n",
              "1             SemInternet  0.077103\n",
              "2                     Sim  0.153668"
            ]
          },
          "execution_count": 48,
          "metadata": {},
          "output_type": "execute_result"
        }
      ],
      "source": [
        "df_plot = df4.groupby ('servico_suporte_tecnico'). churn.mean (). reset_index () \n",
        "df_plot"
      ]
    },
    {
      "cell_type": "code",
      "execution_count": null,
      "metadata": {
        "id": "QN58Z-eHf5fR",
        "outputId": "5eabcbf3-0b0d-49fc-eea0-536109921a07"
      },
      "outputs": [
        {
          "data": {
            "image/png": "[encoded data removed]",
            "text/plain": [
              "<Figure size 432x288 with 1 Axes>"
            ]
          },
          "metadata": {
            "needs_background": "light"
          },
          "output_type": "display_data"
        }
      ],
      "source": [
        "x =df_plot['servico_suporte_tecnico']\n",
        "y=df_plot['churn']\n",
        "plt.bar(x,y,color=cols);\n",
        "plt.title('Taxa de Churn em relação ao Servico Suporte Tecnico');\n",
        "plt.xlabel('ServicoSuporteTecnico');\n",
        "plt.ylabel('Taxa de Churn');"
      ]
    },
    {
      "cell_type": "markdown",
      "metadata": {
        "id": "YQfaAtukf5fS"
      },
      "source": [
        "### **H12.** A taxa de evasão de clientes que utilizam serviço streaming é maior.\n",
        "**FALSA** Podemos observar que a taxa de evasão de clientes que nao utilizam o serviço streaming TV é 4% maior em relação a que utilizam."
      ]
    },
    {
      "cell_type": "code",
      "execution_count": null,
      "metadata": {
        "id": "n7uNTFN-f5fT",
        "outputId": "d649964c-e54e-4a78-8045-8345aeff1cde"
      },
      "outputs": [
        {
          "data": {
            "text/html": [
              "<div>\n",
              "<style scoped>\n",
              "    .dataframe tbody tr th:only-of-type {\n",
              "        vertical-align: middle;\n",
              "    }\n",
              "\n",
              "    .dataframe tbody tr th {\n",
              "        vertical-align: top;\n",
              "    }\n",
              "\n",
              "    .dataframe thead th {\n",
              "        text-align: right;\n",
              "    }\n",
              "</style>\n",
              "<table border=\"1\" class=\"dataframe\">\n",
              "  <thead>\n",
              "    <tr style=\"text-align: right;\">\n",
              "      <th></th>\n",
              "      <th>servico_streaming_tv</th>\n",
              "      <th>churn</th>\n",
              "    </tr>\n",
              "  </thead>\n",
              "  <tbody>\n",
              "    <tr>\n",
              "      <th>0</th>\n",
              "      <td>Nao</td>\n",
              "      <td>0.334590</td>\n",
              "    </tr>\n",
              "    <tr>\n",
              "      <th>1</th>\n",
              "      <td>SemInternet</td>\n",
              "      <td>0.077103</td>\n",
              "    </tr>\n",
              "    <tr>\n",
              "      <th>2</th>\n",
              "      <td>Sim</td>\n",
              "      <td>0.299305</td>\n",
              "    </tr>\n",
              "  </tbody>\n",
              "</table>\n",
              "</div>"
            ],
            "text/plain": [
              "  servico_streaming_tv     churn\n",
              "0                  Nao  0.334590\n",
              "1          SemInternet  0.077103\n",
              "2                  Sim  0.299305"
            ]
          },
          "execution_count": 50,
          "metadata": {},
          "output_type": "execute_result"
        }
      ],
      "source": [
        "df_plot = df4.groupby ('servico_streaming_tv'). churn.mean (). reset_index () \n",
        "df_plot"
      ]
    },
    {
      "cell_type": "code",
      "execution_count": null,
      "metadata": {
        "id": "OMIyyhmnf5fU",
        "outputId": "90c174b2-5f32-4b0c-a8e5-bc5d0cc7c435"
      },
      "outputs": [
        {
          "data": {
            "image/png": "[encoded data removed]",
            "text/plain": [
              "<Figure size 432x288 with 1 Axes>"
            ]
          },
          "metadata": {
            "needs_background": "light"
          },
          "output_type": "display_data"
        }
      ],
      "source": [
        "x =df_plot['servico_streaming_tv']\n",
        "y=df_plot['churn']\n",
        "plt.bar(x,y,color=cols);\n",
        "plt.title('Taxa de Churn em relação ao Servico Streaming TV');\n",
        "plt.xlabel('ServicoStreamingTV');\n",
        "plt.ylabel('Taxa de Churn');"
      ]
    },
    {
      "cell_type": "markdown",
      "metadata": {
        "id": "y60O8hsMf5fV"
      },
      "source": [
        "### **H13.** A taxa de evasão de clientes que utilizam serviço de filme é maior.\n",
        "**FALSA** Podemos observar que a evasão de clientes que não utilizam o serviço de filme é de 3% maior das que fazem uso do serviço de filmes."
      ]
    },
    {
      "cell_type": "code",
      "execution_count": null,
      "metadata": {
        "id": "7276kSTRf5fV",
        "outputId": "28147219-1712-4e33-9f6e-ef3bb52a6a34"
      },
      "outputs": [
        {
          "data": {
            "text/html": [
              "<div>\n",
              "<style scoped>\n",
              "    .dataframe tbody tr th:only-of-type {\n",
              "        vertical-align: middle;\n",
              "    }\n",
              "\n",
              "    .dataframe tbody tr th {\n",
              "        vertical-align: top;\n",
              "    }\n",
              "\n",
              "    .dataframe thead th {\n",
              "        text-align: right;\n",
              "    }\n",
              "</style>\n",
              "<table border=\"1\" class=\"dataframe\">\n",
              "  <thead>\n",
              "    <tr style=\"text-align: right;\">\n",
              "      <th></th>\n",
              "      <th>servico_filmes</th>\n",
              "      <th>churn</th>\n",
              "    </tr>\n",
              "  </thead>\n",
              "  <tbody>\n",
              "    <tr>\n",
              "      <th>0</th>\n",
              "      <td>Nao</td>\n",
              "      <td>0.336592</td>\n",
              "    </tr>\n",
              "    <tr>\n",
              "      <th>1</th>\n",
              "      <td>SemInternet</td>\n",
              "      <td>0.077103</td>\n",
              "    </tr>\n",
              "    <tr>\n",
              "      <th>2</th>\n",
              "      <td>Sim</td>\n",
              "      <td>0.297818</td>\n",
              "    </tr>\n",
              "  </tbody>\n",
              "</table>\n",
              "</div>"
            ],
            "text/plain": [
              "  servico_filmes     churn\n",
              "0            Nao  0.336592\n",
              "1    SemInternet  0.077103\n",
              "2            Sim  0.297818"
            ]
          },
          "execution_count": 52,
          "metadata": {},
          "output_type": "execute_result"
        }
      ],
      "source": [
        "df_plot = df4.groupby ('servico_filmes'). churn.mean (). reset_index () \n",
        "df_plot"
      ]
    },
    {
      "cell_type": "code",
      "execution_count": null,
      "metadata": {
        "id": "Yky6dcEbf5fW",
        "outputId": "cdee5099-aca4-4e11-cda2-481848f67915"
      },
      "outputs": [
        {
          "data": {
            "image/png": "[encoded data removed]",
            "text/plain": [
              "<Figure size 432x288 with 1 Axes>"
            ]
          },
          "metadata": {
            "needs_background": "light"
          },
          "output_type": "display_data"
        }
      ],
      "source": [
        "x =df_plot['servico_filmes']\n",
        "y=df_plot['churn']\n",
        "plt.bar(x,y,color=cols);\n",
        "plt.title('Taxa de Churn em relação ao Servico Filmes');\n",
        "plt.xlabel('ServicoFilmes');\n",
        "plt.ylabel('Taxa de Churn');"
      ]
    },
    {
      "cell_type": "markdown",
      "metadata": {
        "id": "jwq5YmQff5fX"
      },
      "source": [
        "### **H14.** A taxa de evasão de clientes com tipo de contrato anual é maior.\n",
        "**FALSA** Podemos observar que a evasão de clientes que fazem uso pelo tipo de contrato mensal é maior em relação aos demais tipos."
      ]
    },
    {
      "cell_type": "code",
      "execution_count": null,
      "metadata": {
        "id": "LAO1cf7lf5fY",
        "outputId": "5fee76e7-fe1a-4c30-b702-2eaea8acd6b2"
      },
      "outputs": [
        {
          "data": {
            "text/html": [
              "<div>\n",
              "<style scoped>\n",
              "    .dataframe tbody tr th:only-of-type {\n",
              "        vertical-align: middle;\n",
              "    }\n",
              "\n",
              "    .dataframe tbody tr th {\n",
              "        vertical-align: top;\n",
              "    }\n",
              "\n",
              "    .dataframe thead th {\n",
              "        text-align: right;\n",
              "    }\n",
              "</style>\n",
              "<table border=\"1\" class=\"dataframe\">\n",
              "  <thead>\n",
              "    <tr style=\"text-align: right;\">\n",
              "      <th></th>\n",
              "      <th>tipo_contrato</th>\n",
              "      <th>churn</th>\n",
              "    </tr>\n",
              "  </thead>\n",
              "  <tbody>\n",
              "    <tr>\n",
              "      <th>0</th>\n",
              "      <td>2 anos</td>\n",
              "      <td>0.028671</td>\n",
              "    </tr>\n",
              "    <tr>\n",
              "      <th>1</th>\n",
              "      <td>Anual</td>\n",
              "      <td>0.116078</td>\n",
              "    </tr>\n",
              "    <tr>\n",
              "      <th>2</th>\n",
              "      <td>Mensal</td>\n",
              "      <td>0.427654</td>\n",
              "    </tr>\n",
              "  </tbody>\n",
              "</table>\n",
              "</div>"
            ],
            "text/plain": [
              "  tipo_contrato     churn\n",
              "0        2 anos  0.028671\n",
              "1         Anual  0.116078\n",
              "2        Mensal  0.427654"
            ]
          },
          "execution_count": 54,
          "metadata": {},
          "output_type": "execute_result"
        }
      ],
      "source": [
        "df_plot = df4.groupby ('tipo_contrato'). churn.mean (). reset_index () \n",
        "df_plot"
      ]
    },
    {
      "cell_type": "code",
      "execution_count": null,
      "metadata": {
        "id": "9_GD9LeXf5fa",
        "outputId": "e86bea9a-674f-40d8-8bf5-188862ad344c"
      },
      "outputs": [
        {
          "data": {
            "image/png": "[encoded data removed]",
            "text/plain": [
              "<Figure size 432x288 with 1 Axes>"
            ]
          },
          "metadata": {
            "needs_background": "light"
          },
          "output_type": "display_data"
        }
      ],
      "source": [
        "x =df_plot['tipo_contrato']\n",
        "y=df_plot['churn']\n",
        "plt.bar(x,y,color=cols);\n",
        "plt.title('Taxa de Churn em relação ao Tipo Contrato');\n",
        "plt.xlabel('TipoContrato');\n",
        "plt.ylabel('Taxa de Churn');"
      ]
    },
    {
      "cell_type": "markdown",
      "metadata": {
        "id": "MPXb1tOJf5fb"
      },
      "source": [
        "### **H15.** A taxa de evasão de clientes com fatura digital é maior.\n",
        "**VERDADEIRA** Observamos que a a taxa de evasão de clientes que utilizam-se fatura digital é duas vezes maior daquelas que não fazem uso."
      ]
    },
    {
      "cell_type": "code",
      "execution_count": null,
      "metadata": {
        "id": "pYMER2Xvf5fb",
        "outputId": "aa71011c-11a3-4a21-87b2-5add4dbd24a1"
      },
      "outputs": [
        {
          "data": {
            "text/html": [
              "<div>\n",
              "<style scoped>\n",
              "    .dataframe tbody tr th:only-of-type {\n",
              "        vertical-align: middle;\n",
              "    }\n",
              "\n",
              "    .dataframe tbody tr th {\n",
              "        vertical-align: top;\n",
              "    }\n",
              "\n",
              "    .dataframe thead th {\n",
              "        text-align: right;\n",
              "    }\n",
              "</style>\n",
              "<table border=\"1\" class=\"dataframe\">\n",
              "  <thead>\n",
              "    <tr style=\"text-align: right;\">\n",
              "      <th></th>\n",
              "      <th>fatura_digital</th>\n",
              "      <th>churn</th>\n",
              "    </tr>\n",
              "  </thead>\n",
              "  <tbody>\n",
              "    <tr>\n",
              "      <th>0</th>\n",
              "      <td>Nao</td>\n",
              "      <td>0.165647</td>\n",
              "    </tr>\n",
              "    <tr>\n",
              "      <th>1</th>\n",
              "      <td>Sim</td>\n",
              "      <td>0.335226</td>\n",
              "    </tr>\n",
              "  </tbody>\n",
              "</table>\n",
              "</div>"
            ],
            "text/plain": [
              "  fatura_digital     churn\n",
              "0            Nao  0.165647\n",
              "1            Sim  0.335226"
            ]
          },
          "execution_count": 56,
          "metadata": {},
          "output_type": "execute_result"
        }
      ],
      "source": [
        "df_plot = df4.groupby ('fatura_digital'). churn.mean (). reset_index () \n",
        "df_plot"
      ]
    },
    {
      "cell_type": "code",
      "execution_count": null,
      "metadata": {
        "id": "YSDqXKkTf5fc",
        "outputId": "36f421ea-1309-45e3-d1c6-31b86b12fce7"
      },
      "outputs": [
        {
          "data": {
            "image/png": "[encoded data removed]",
            "text/plain": [
              "<Figure size 432x288 with 1 Axes>"
            ]
          },
          "metadata": {
            "needs_background": "light"
          },
          "output_type": "display_data"
        }
      ],
      "source": [
        "x =df_plot['fatura_digital']\n",
        "y=df_plot['churn']\n",
        "plt.bar(x,y,color=cols);\n",
        "plt.title('Taxa de Churn em relação a Fatura Digital');\n",
        "plt.xlabel('FaturaDigital');\n",
        "plt.ylabel('Taxa de Churn');"
      ]
    },
    {
      "cell_type": "markdown",
      "metadata": {
        "id": "nXTgbucbf5fd"
      },
      "source": [
        "### **H16.** A taxa de evasão de clientes por boleto eletrônico é maior.\n",
        "**VERDADEIRA** Podemos observar que a taxa de evasão de clientes com boleto eletrônico é maior daqueles que utilizam de outras formas de pagamento."
      ]
    },
    {
      "cell_type": "code",
      "execution_count": null,
      "metadata": {
        "id": "LF5S1tU3f5fe",
        "outputId": "ba897bfc-99ed-430f-8100-790c9d63772e"
      },
      "outputs": [
        {
          "data": {
            "text/html": [
              "<div>\n",
              "<style scoped>\n",
              "    .dataframe tbody tr th:only-of-type {\n",
              "        vertical-align: middle;\n",
              "    }\n",
              "\n",
              "    .dataframe tbody tr th {\n",
              "        vertical-align: top;\n",
              "    }\n",
              "\n",
              "    .dataframe thead th {\n",
              "        text-align: right;\n",
              "    }\n",
              "</style>\n",
              "<table border=\"1\" class=\"dataframe\">\n",
              "  <thead>\n",
              "    <tr style=\"text-align: right;\">\n",
              "      <th></th>\n",
              "      <th>forma_pagamento</th>\n",
              "      <th>churn</th>\n",
              "    </tr>\n",
              "  </thead>\n",
              "  <tbody>\n",
              "    <tr>\n",
              "      <th>0</th>\n",
              "      <td>BoletoEletronico</td>\n",
              "      <td>0.449651</td>\n",
              "    </tr>\n",
              "    <tr>\n",
              "      <th>1</th>\n",
              "      <td>BoletoImpresso</td>\n",
              "      <td>0.193240</td>\n",
              "    </tr>\n",
              "    <tr>\n",
              "      <th>2</th>\n",
              "      <td>CartaoCredito</td>\n",
              "      <td>0.152074</td>\n",
              "    </tr>\n",
              "    <tr>\n",
              "      <th>3</th>\n",
              "      <td>DebitoAutomatico</td>\n",
              "      <td>0.171648</td>\n",
              "    </tr>\n",
              "  </tbody>\n",
              "</table>\n",
              "</div>"
            ],
            "text/plain": [
              "    forma_pagamento     churn\n",
              "0  BoletoEletronico  0.449651\n",
              "1    BoletoImpresso  0.193240\n",
              "2     CartaoCredito  0.152074\n",
              "3  DebitoAutomatico  0.171648"
            ]
          },
          "execution_count": 58,
          "metadata": {},
          "output_type": "execute_result"
        }
      ],
      "source": [
        "df_plot = df4.groupby ('forma_pagamento'). churn.mean (). reset_index () \n",
        "df_plot"
      ]
    },
    {
      "cell_type": "code",
      "execution_count": null,
      "metadata": {
        "id": "TGKVJ2-Lf5ff",
        "outputId": "5758b52d-d870-45e7-a7f7-552bb43d4b07"
      },
      "outputs": [
        {
          "data": {
            "image/png": "[encoded data removed]",
            "text/plain": [
              "<Figure size 432x288 with 1 Axes>"
            ]
          },
          "metadata": {
            "needs_background": "light"
          },
          "output_type": "display_data"
        }
      ],
      "source": [
        "x =df_plot['forma_pagamento']\n",
        "y=df_plot['churn']\n",
        "plt.bar(x,y,color=cols);\n",
        "plt.title('Taxa de Churn em relação a Forma de Pagamento');\n",
        "plt.xlabel('FormaPagamento');\n",
        "plt.ylabel('Taxa de Churn');"
      ]
    },
    {
      "cell_type": "markdown",
      "metadata": {
        "id": "o5aM_4yuf5ff"
      },
      "source": [
        "### **H17.** A taxa de evasão de clientes nos primeiros 3 meses é maior.\n",
        "**VERDADEIRA** Podemos observar que a taxa de evasão de clientes nos primeiros 3 meses é maior."
      ]
    },
    {
      "cell_type": "code",
      "execution_count": null,
      "metadata": {
        "id": "UQHL_KSlf5fg",
        "outputId": "8b81e3a1-90af-4dda-851a-bb206ab36860"
      },
      "outputs": [
        {
          "data": {
            "text/html": [
              "<div>\n",
              "<style scoped>\n",
              "    .dataframe tbody tr th:only-of-type {\n",
              "        vertical-align: middle;\n",
              "    }\n",
              "\n",
              "    .dataframe tbody tr th {\n",
              "        vertical-align: top;\n",
              "    }\n",
              "\n",
              "    .dataframe thead th {\n",
              "        text-align: right;\n",
              "    }\n",
              "</style>\n",
              "<table border=\"1\" class=\"dataframe\">\n",
              "  <thead>\n",
              "    <tr style=\"text-align: right;\">\n",
              "      <th></th>\n",
              "      <th>meses_como_cliente</th>\n",
              "      <th>churn</th>\n",
              "    </tr>\n",
              "  </thead>\n",
              "  <tbody>\n",
              "    <tr>\n",
              "      <th>0</th>\n",
              "      <td>1</td>\n",
              "      <td>0.623529</td>\n",
              "    </tr>\n",
              "    <tr>\n",
              "      <th>1</th>\n",
              "      <td>2</td>\n",
              "      <td>0.536082</td>\n",
              "    </tr>\n",
              "    <tr>\n",
              "      <th>2</th>\n",
              "      <td>3</td>\n",
              "      <td>0.485207</td>\n",
              "    </tr>\n",
              "    <tr>\n",
              "      <th>3</th>\n",
              "      <td>4</td>\n",
              "      <td>0.474026</td>\n",
              "    </tr>\n",
              "    <tr>\n",
              "      <th>4</th>\n",
              "      <td>5</td>\n",
              "      <td>0.468468</td>\n",
              "    </tr>\n",
              "    <tr>\n",
              "      <th>...</th>\n",
              "      <td>...</td>\n",
              "      <td>...</td>\n",
              "    </tr>\n",
              "    <tr>\n",
              "      <th>61</th>\n",
              "      <td>62</td>\n",
              "      <td>0.075758</td>\n",
              "    </tr>\n",
              "    <tr>\n",
              "      <th>63</th>\n",
              "      <td>64</td>\n",
              "      <td>0.042254</td>\n",
              "    </tr>\n",
              "    <tr>\n",
              "      <th>70</th>\n",
              "      <td>71</td>\n",
              "      <td>0.032895</td>\n",
              "    </tr>\n",
              "    <tr>\n",
              "      <th>62</th>\n",
              "      <td>63</td>\n",
              "      <td>0.032258</td>\n",
              "    </tr>\n",
              "    <tr>\n",
              "      <th>71</th>\n",
              "      <td>72</td>\n",
              "      <td>0.012987</td>\n",
              "    </tr>\n",
              "  </tbody>\n",
              "</table>\n",
              "<p>72 rows × 2 columns</p>\n",
              "</div>"
            ],
            "text/plain": [
              "    meses_como_cliente     churn\n",
              "0                    1  0.623529\n",
              "1                    2  0.536082\n",
              "2                    3  0.485207\n",
              "3                    4  0.474026\n",
              "4                    5  0.468468\n",
              "..                 ...       ...\n",
              "61                  62  0.075758\n",
              "63                  64  0.042254\n",
              "70                  71  0.032895\n",
              "62                  63  0.032258\n",
              "71                  72  0.012987\n",
              "\n",
              "[72 rows x 2 columns]"
            ]
          },
          "execution_count": 60,
          "metadata": {},
          "output_type": "execute_result"
        }
      ],
      "source": [
        "df_plot = df4.groupby ('meses_como_cliente'). churn.mean (). reset_index () \n",
        "df_plot.sort_values(by='churn', ascending = False)"
      ]
    },
    {
      "cell_type": "code",
      "execution_count": null,
      "metadata": {
        "id": "jkfh73Tif5fh",
        "outputId": "b23f8e43-c2cb-4e45-95b4-10be15dd069e"
      },
      "outputs": [
        {
          "data": {
            "image/png": "[encoded data removed]",
            "text/plain": [
              "<Figure size 432x288 with 1 Axes>"
            ]
          },
          "metadata": {
            "needs_background": "light"
          },
          "output_type": "display_data"
        }
      ],
      "source": [
        "x =df_plot['meses_como_cliente']\n",
        "y=df_plot['churn']\n",
        "plt.bar(x,y,color=cols);\n",
        "plt.title('Taxa de Churn em relação a Meses como Cliente');\n",
        "plt.xlabel('Meses como Cliente');\n",
        "plt.ylabel('Taxa de Churn');"
      ]
    },
    {
      "cell_type": "code",
      "execution_count": null,
      "metadata": {
        "id": "4I-RbAAyf5fh",
        "outputId": "cff19a50-bf02-4c56-c68c-492cf00efce1"
      },
      "outputs": [
        {
          "data": {
            "text/plain": [
              "churn\n",
              "0    37.671074\n",
              "1    18.246377\n",
              "Name: meses_como_cliente, dtype: float64"
            ]
          },
          "execution_count": 62,
          "metadata": {},
          "output_type": "execute_result"
        },
        {
          "data": {
            "image/png": "[encoded data removed]",
            "text/plain": [
              "<Figure size 432x288 with 1 Axes>"
            ]
          },
          "metadata": {
            "needs_background": "light"
          },
          "output_type": "display_data"
        }
      ],
      "source": [
        "#box-plot meses como cliente em relação ao Churn\n",
        "sns.boxplot(x=\"churn\", y=\"meses_como_cliente\",data=df4,palette=cols); \n",
        "plt.title('Box-plot da variável Meses como Cliente');\n",
        "plt.xlabel('Churn');\n",
        "plt.ylabel('Meses como Cliente');\n",
        "df4.groupby(['churn'])['meses_como_cliente'].mean()"
      ]
    },
    {
      "cell_type": "markdown",
      "metadata": {
        "id": "lzjJ_raof5fi"
      },
      "source": [
        "### **H18.** A taxa de evasão de clientes que cancelaram possui um valor mensal maior.\n",
        "**VERDADEIRA** Podemos observar que a taxa de evasão de clientes que cancelaram possui um valor mensal maior."
      ]
    },
    {
      "cell_type": "code",
      "execution_count": null,
      "metadata": {
        "id": "XiDW1rWEf5fj",
        "outputId": "fa813036-ab67-4533-9c66-9b38ad44e825"
      },
      "outputs": [
        {
          "data": {
            "text/html": [
              "<div>\n",
              "<style scoped>\n",
              "    .dataframe tbody tr th:only-of-type {\n",
              "        vertical-align: middle;\n",
              "    }\n",
              "\n",
              "    .dataframe tbody tr th {\n",
              "        vertical-align: top;\n",
              "    }\n",
              "\n",
              "    .dataframe thead th {\n",
              "        text-align: right;\n",
              "    }\n",
              "</style>\n",
              "<table border=\"1\" class=\"dataframe\">\n",
              "  <thead>\n",
              "    <tr style=\"text-align: right;\">\n",
              "      <th></th>\n",
              "      <th>valor_mensal</th>\n",
              "      <th>churn</th>\n",
              "    </tr>\n",
              "  </thead>\n",
              "  <tbody>\n",
              "    <tr>\n",
              "      <th>121</th>\n",
              "      <td>28.45</td>\n",
              "      <td>1.0</td>\n",
              "    </tr>\n",
              "    <tr>\n",
              "      <th>730</th>\n",
              "      <td>72.85</td>\n",
              "      <td>1.0</td>\n",
              "    </tr>\n",
              "    <tr>\n",
              "      <th>751</th>\n",
              "      <td>73.95</td>\n",
              "      <td>1.0</td>\n",
              "    </tr>\n",
              "    <tr>\n",
              "      <th>1461</th>\n",
              "      <td>113.20</td>\n",
              "      <td>1.0</td>\n",
              "    </tr>\n",
              "    <tr>\n",
              "      <th>130</th>\n",
              "      <td>29.40</td>\n",
              "      <td>1.0</td>\n",
              "    </tr>\n",
              "    <tr>\n",
              "      <th>...</th>\n",
              "      <td>...</td>\n",
              "      <td>...</td>\n",
              "    </tr>\n",
              "    <tr>\n",
              "      <th>597</th>\n",
              "      <td>64.95</td>\n",
              "      <td>0.0</td>\n",
              "    </tr>\n",
              "    <tr>\n",
              "      <th>598</th>\n",
              "      <td>65.00</td>\n",
              "      <td>0.0</td>\n",
              "    </tr>\n",
              "    <tr>\n",
              "      <th>599</th>\n",
              "      <td>65.05</td>\n",
              "      <td>0.0</td>\n",
              "    </tr>\n",
              "    <tr>\n",
              "      <th>600</th>\n",
              "      <td>65.10</td>\n",
              "      <td>0.0</td>\n",
              "    </tr>\n",
              "    <tr>\n",
              "      <th>1524</th>\n",
              "      <td>118.75</td>\n",
              "      <td>0.0</td>\n",
              "    </tr>\n",
              "  </tbody>\n",
              "</table>\n",
              "<p>1525 rows × 2 columns</p>\n",
              "</div>"
            ],
            "text/plain": [
              "      valor_mensal  churn\n",
              "121          28.45    1.0\n",
              "730          72.85    1.0\n",
              "751          73.95    1.0\n",
              "1461        113.20    1.0\n",
              "130          29.40    1.0\n",
              "...            ...    ...\n",
              "597          64.95    0.0\n",
              "598          65.00    0.0\n",
              "599          65.05    0.0\n",
              "600          65.10    0.0\n",
              "1524        118.75    0.0\n",
              "\n",
              "[1525 rows x 2 columns]"
            ]
          },
          "execution_count": 63,
          "metadata": {},
          "output_type": "execute_result"
        }
      ],
      "source": [
        "df_plot = df4.groupby ('valor_mensal'). churn.mean (). reset_index () \n",
        "df_plot.sort_values(by='churn', ascending = False)"
      ]
    },
    {
      "cell_type": "code",
      "execution_count": null,
      "metadata": {
        "id": "pa5KWZ3nf5fk",
        "outputId": "fd81b123-1d3c-42d2-e342-d3d3888d9167"
      },
      "outputs": [
        {
          "data": {
            "image/png": "[encoded data removed]",
            "text/plain": [
              "<Figure size 432x288 with 1 Axes>"
            ]
          },
          "metadata": {
            "needs_background": "light"
          },
          "output_type": "display_data"
        }
      ],
      "source": [
        "x =df_plot['valor_mensal']\n",
        "y=df_plot['churn']\n",
        "plt.bar(x,y,color=cols);\n",
        "plt.title('Taxa de Churn em relação a Valor Mensal');\n",
        "plt.xlabel('Valor Mensal');\n",
        "plt.ylabel('Taxa de Churn');"
      ]
    },
    {
      "cell_type": "code",
      "execution_count": null,
      "metadata": {
        "id": "tudFVJ3Af5fl",
        "outputId": "9da76b22-7901-400c-cb03-9a5ca0686a81"
      },
      "outputs": [
        {
          "data": {
            "text/plain": [
              "churn\n",
              "0    61.480248\n",
              "1    74.164871\n",
              "Name: valor_mensal, dtype: float64"
            ]
          },
          "execution_count": 65,
          "metadata": {},
          "output_type": "execute_result"
        },
        {
          "data": {
            "image/png": "[encoded data removed]",
            "text/plain": [
              "<Figure size 432x288 with 1 Axes>"
            ]
          },
          "metadata": {
            "needs_background": "light"
          },
          "output_type": "display_data"
        }
      ],
      "source": [
        "#box-plot valor mensal em relação ao Churn\n",
        "sns.boxplot(x=\"churn\", y=\"valor_mensal\", data=df4,palette=cols); \n",
        "plt.xlabel('Churn');\n",
        "plt.ylabel('Valor Mensal');\n",
        "df4.groupby(['churn'])['valor_mensal'].mean()"
      ]
    },
    {
      "cell_type": "markdown",
      "metadata": {
        "id": "pyA-eoXHf5fl"
      },
      "source": [
        "### **H19.** A taxa de evasão de clientes que cancelaram possui um total de gasto maior.\n",
        "**FALSA** Podemos observar que a taxa de evasão de clientes que cancelaram possui um total de gasto menor."
      ]
    },
    {
      "cell_type": "code",
      "execution_count": null,
      "metadata": {
        "id": "lCWNCqjWf5fm",
        "outputId": "0207f303-3483-4feb-8289-884d1f7a9c81"
      },
      "outputs": [
        {
          "data": {
            "text/html": [
              "<div>\n",
              "<style scoped>\n",
              "    .dataframe tbody tr th:only-of-type {\n",
              "        vertical-align: middle;\n",
              "    }\n",
              "\n",
              "    .dataframe tbody tr th {\n",
              "        vertical-align: top;\n",
              "    }\n",
              "\n",
              "    .dataframe thead th {\n",
              "        text-align: right;\n",
              "    }\n",
              "</style>\n",
              "<table border=\"1\" class=\"dataframe\">\n",
              "  <thead>\n",
              "    <tr style=\"text-align: right;\">\n",
              "      <th></th>\n",
              "      <th>total_gasto</th>\n",
              "      <th>churn</th>\n",
              "    </tr>\n",
              "  </thead>\n",
              "  <tbody>\n",
              "    <tr>\n",
              "      <th>5607</th>\n",
              "      <td>8684.80</td>\n",
              "      <td>1.0</td>\n",
              "    </tr>\n",
              "    <tr>\n",
              "      <th>4570</th>\n",
              "      <td>4867.95</td>\n",
              "      <td>1.0</td>\n",
              "    </tr>\n",
              "    <tr>\n",
              "      <th>4548</th>\n",
              "      <td>4820.15</td>\n",
              "      <td>1.0</td>\n",
              "    </tr>\n",
              "    <tr>\n",
              "      <th>4550</th>\n",
              "      <td>4822.85</td>\n",
              "      <td>1.0</td>\n",
              "    </tr>\n",
              "    <tr>\n",
              "      <th>1760</th>\n",
              "      <td>733.35</td>\n",
              "      <td>1.0</td>\n",
              "    </tr>\n",
              "    <tr>\n",
              "      <th>...</th>\n",
              "      <td>...</td>\n",
              "      <td>...</td>\n",
              "    </tr>\n",
              "    <tr>\n",
              "      <th>2396</th>\n",
              "      <td>1205.50</td>\n",
              "      <td>0.0</td>\n",
              "    </tr>\n",
              "    <tr>\n",
              "      <th>2398</th>\n",
              "      <td>1207.00</td>\n",
              "      <td>0.0</td>\n",
              "    </tr>\n",
              "    <tr>\n",
              "      <th>2400</th>\n",
              "      <td>1208.60</td>\n",
              "      <td>0.0</td>\n",
              "    </tr>\n",
              "    <tr>\n",
              "      <th>2401</th>\n",
              "      <td>1209.25</td>\n",
              "      <td>0.0</td>\n",
              "    </tr>\n",
              "    <tr>\n",
              "      <th>2804</th>\n",
              "      <td>1538.60</td>\n",
              "      <td>0.0</td>\n",
              "    </tr>\n",
              "  </tbody>\n",
              "</table>\n",
              "<p>5608 rows × 2 columns</p>\n",
              "</div>"
            ],
            "text/plain": [
              "      total_gasto  churn\n",
              "5607      8684.80    1.0\n",
              "4570      4867.95    1.0\n",
              "4548      4820.15    1.0\n",
              "4550      4822.85    1.0\n",
              "1760       733.35    1.0\n",
              "...           ...    ...\n",
              "2396      1205.50    0.0\n",
              "2398      1207.00    0.0\n",
              "2400      1208.60    0.0\n",
              "2401      1209.25    0.0\n",
              "2804      1538.60    0.0\n",
              "\n",
              "[5608 rows x 2 columns]"
            ]
          },
          "execution_count": 66,
          "metadata": {},
          "output_type": "execute_result"
        }
      ],
      "source": [
        "df_plot = df4.groupby ('total_gasto'). churn.mean (). reset_index () \n",
        "df_plot.sort_values(by='churn', ascending = False)"
      ]
    },
    {
      "cell_type": "code",
      "execution_count": null,
      "metadata": {
        "id": "uRGne9ICf5fn",
        "outputId": "ea707b87-ba50-4971-9369-c138acaeab8b"
      },
      "outputs": [
        {
          "data": {
            "image/png": "[encoded data removed]",
            "text/plain": [
              "<Figure size 432x288 with 1 Axes>"
            ]
          },
          "metadata": {
            "needs_background": "light"
          },
          "output_type": "display_data"
        }
      ],
      "source": [
        "x =df_plot['total_gasto']\n",
        "y=df_plot['churn']\n",
        "plt.bar(x,y,color=cols);\n",
        "plt.title('Taxa de Churn em relação a Total Gasto');\n",
        "plt.xlabel('Total Gasto');\n",
        "plt.ylabel('Taxa de Churn');"
      ]
    },
    {
      "cell_type": "code",
      "execution_count": null,
      "metadata": {
        "id": "Rfsj0Fsff5fn",
        "outputId": "fdf3d729-c191-4b9b-e601-f5a109fc5e6f"
      },
      "outputs": [
        {
          "data": {
            "text/plain": [
              "churn\n",
              "0    2567.744222\n",
              "1    1550.701985\n",
              "Name: total_gasto, dtype: float64"
            ]
          },
          "execution_count": 68,
          "metadata": {},
          "output_type": "execute_result"
        },
        {
          "data": {
            "image/png": "[encoded data removed]",
            "text/plain": [
              "<Figure size 432x288 with 1 Axes>"
            ]
          },
          "metadata": {
            "needs_background": "light"
          },
          "output_type": "display_data"
        }
      ],
      "source": [
        "#box-plot total gasto em relação ao Churn\n",
        "sns.boxplot(x=\"churn\", y='total_gasto', data=df4,palette=cols);\n",
        "plt.title('Box-plot do Total Gasto');\n",
        "plt.xlabel('churn');\n",
        "plt.ylabel('total_gasto');\n",
        "df4.groupby(['churn'])['total_gasto'].mean()"
      ]
    },
    {
      "cell_type": "markdown",
      "metadata": {
        "id": "dOhDu72nf5fo"
      },
      "source": [
        "* ### Resumo das Hipoteses"
      ]
    },
    {
      "cell_type": "code",
      "execution_count": null,
      "metadata": {
        "id": "3KGkuQqdf5fp",
        "outputId": "022ec760-616f-446d-d6cc-4037981c8f94"
      },
      "outputs": [
        {
          "name": "stdout",
          "output_type": "stream",
          "text": [
            "Hipoteses    Conclusao\n",
            "-----------  -----------\n",
            "H1           Falsa\n",
            "H2           Verdadeira\n",
            "H3           Falsa\n",
            "H4           Falsa\n",
            "H5           Verdadeira\n",
            "H6           Verdadeira\n",
            "H7           Falsa\n",
            "H8           Falsa\n",
            "H9           Falsa\n",
            "H10          Falsa\n",
            "H11          Falsa\n",
            "H12          Falsa\n",
            "H13          Falsa\n",
            "H14          Falsa\n",
            "H15          Verdadeira\n",
            "H16          Verdadeira\n",
            "H17          Verdadeira\n",
            "H18          Verdadeira\n",
            "H19          Falsa\n"
          ]
        }
      ],
      "source": [
        "tab =[['Hipoteses', 'Conclusao'],\n",
        "      ['H1', 'Falsa'],  \n",
        "      ['H2', 'Verdadeira'],  \n",
        "      ['H3', 'Falsa'],\n",
        "      ['H4', 'Falsa'],\n",
        "      ['H5', 'Verdadeira', '-'],\n",
        "      ['H6', 'Verdadeira', '-'],\n",
        "      ['H7', 'Falsa'],\n",
        "      ['H8', 'Falsa'],\n",
        "      ['H9', 'Falsa'],\n",
        "      ['H10', 'Falsa'],\n",
        "      ['H11', 'Falsa'],\n",
        "      ['H12', 'Falsa'],\n",
        "      ['H13', 'Falsa'],\n",
        "      ['H14', 'Falsa'],\n",
        "      ['H15', 'Verdadeira'],\n",
        "      ['H16', 'Verdadeira'],\n",
        "      ['H17', 'Verdadeira'],\n",
        "      ['H18', 'Verdadeira'],\n",
        "      ['H19', 'Falsa'],\n",
        "     ]  \n",
        "print( tabulate( tab, headers='firstrow' ) )"
      ]
    },
    {
      "cell_type": "markdown",
      "metadata": {
        "id": "AD2mgnMwf5fq"
      },
      "source": [
        "* ### Matriz de Correlação\n",
        "\n",
        "Utilizaremos a função heatmap() para entender o relacionamento entre as variáveis numéricas."
      ]
    },
    {
      "cell_type": "code",
      "execution_count": null,
      "metadata": {
        "id": "G_RBN0kFf5fr",
        "outputId": "9f9b0913-44e1-4034-a8fc-009d3f88bb9b"
      },
      "outputs": [
        {
          "data": {
            "image/png": "[encoded data removed]",
            "text/plain": [
              "<Figure size 432x288 with 2 Axes>"
            ]
          },
          "metadata": {
            "needs_background": "light"
          },
          "output_type": "display_data"
        }
      ],
      "source": [
        "correlation = df4.corr( method='pearson' )\n",
        "sns.heatmap( correlation, cmap='Blues', annot=True );"
      ]
    },
    {
      "cell_type": "code",
      "execution_count": null,
      "metadata": {
        "id": "8_OZMIJXf5fs",
        "outputId": "ebc3d344-dca3-4e5f-b73a-649df255a425"
      },
      "outputs": [
        {
          "data": {
            "text/plain": [
              "churn                 1.000000\n",
              "valor_mensal          0.186102\n",
              "total_gasto          -0.197555\n",
              "meses_como_cliente   -0.350272\n",
              "Name: churn, dtype: float64"
            ]
          },
          "execution_count": 71,
          "metadata": {},
          "output_type": "execute_result"
        }
      ],
      "source": [
        "# Explorando as correlações com a variavel Target \n",
        "df4.corr()['churn'].sort_values(ascending=False)"
      ]
    },
    {
      "cell_type": "markdown",
      "metadata": {
        "id": "S1amZlmqf5fs"
      },
      "source": [
        "Analisando a correlação entre as variáveis com a variavel Target, observa-se que temos baixas correlações. A maior correlação é entre as variáveis meses_como_cliente e Churn e temos uma correlação negativa de - 0,35 entre elas. Ou seja, quando menor o meses_como_cliente  maior o Churn."
      ]
    },
    {
      "cell_type": "markdown",
      "metadata": {
        "id": "Mb7RG7a7f5ft"
      },
      "source": [
        "## D. Pré-Processamento"
      ]
    },
    {
      "cell_type": "markdown",
      "metadata": {
        "id": "EmRIyF4Zf5fu"
      },
      "source": [
        "## 06 - Pré-Processamento"
      ]
    },
    {
      "cell_type": "code",
      "execution_count": null,
      "metadata": {
        "id": "W6_I5FgYf5fv"
      },
      "outputs": [],
      "source": [
        "#criar cópia\n",
        "df5 = df4.copy()"
      ]
    },
    {
      "cell_type": "markdown",
      "metadata": {
        "id": "qUSps8paf5fw"
      },
      "source": [
        "* ### Normalização\n",
        "\n",
        "Como nenhuma das variáveis apresenta uma distribuição normal, vamos direto para o Rescaling."
      ]
    },
    {
      "cell_type": "markdown",
      "metadata": {
        "id": "ZfnZJaPaf5fw"
      },
      "source": [
        "* ### Rescaling"
      ]
    },
    {
      "cell_type": "code",
      "execution_count": null,
      "metadata": {
        "id": "6O0wQGmPf5fx"
      },
      "outputs": [],
      "source": [
        "rs = RobustScaler( unit_variance=False )\n",
        "nms = MinMaxScaler()\n",
        "\n",
        "# total_gasto\n",
        "df5['total_gasto'] = rs.fit_transform( df5[['total_gasto']].values )\n",
        "\n",
        "\n",
        "# valor_mensal\n",
        "df5['valor_mensal'] = nms.fit_transform( df5[['valor_mensal']].values )\n",
        "\n",
        "# meses_como_cliente\n",
        "df5['meses_como_cliente'] = nms.fit_transform( df5[['meses_como_cliente']].values )"
      ]
    },
    {
      "cell_type": "markdown",
      "metadata": {
        "id": "0Dvoffetf5fy"
      },
      "source": [
        "* ### Encoding"
      ]
    },
    {
      "cell_type": "code",
      "execution_count": null,
      "metadata": {
        "id": "4_O2tiH_f5f0"
      },
      "outputs": [],
      "source": [
        "variaveis_cat = ['genero', 'aposentado', 'casado', 'dependentes',\n",
        "       'servico_telefone', 'multiplas_linhas',\n",
        "       'servico_internet', 'servico_seguranca_online', 'servico_backup_online',\n",
        "       'protecao_equipamento', 'servico_suporte_tecnico',\n",
        "       'servico_streaming_tv', 'servico_filmes', 'tipo_contrato',\n",
        "       'fatura_digital', 'forma_pagamento']\n",
        "\n",
        "df5 = pd.get_dummies(df5, columns = variaveis_cat, drop_first = True)"
      ]
    },
    {
      "cell_type": "code",
      "execution_count": null,
      "metadata": {
        "scrolled": true,
        "id": "t2SkAERvf5f0",
        "outputId": "70c7bbf6-9aed-441a-804d-67a5b09869bb"
      },
      "outputs": [
        {
          "data": {
            "text/html": [
              "<div>\n",
              "<style scoped>\n",
              "    .dataframe tbody tr th:only-of-type {\n",
              "        vertical-align: middle;\n",
              "    }\n",
              "\n",
              "    .dataframe tbody tr th {\n",
              "        vertical-align: top;\n",
              "    }\n",
              "\n",
              "    .dataframe thead th {\n",
              "        text-align: right;\n",
              "    }\n",
              "</style>\n",
              "<table border=\"1\" class=\"dataframe\">\n",
              "  <thead>\n",
              "    <tr style=\"text-align: right;\">\n",
              "      <th></th>\n",
              "      <th>meses_como_cliente</th>\n",
              "      <th>valor_mensal</th>\n",
              "      <th>total_gasto</th>\n",
              "      <th>churn</th>\n",
              "      <th>genero_Masculino</th>\n",
              "      <th>aposentado_Sim</th>\n",
              "      <th>casado_Sim</th>\n",
              "      <th>dependentes_Sim</th>\n",
              "      <th>servico_telefone_Sim</th>\n",
              "      <th>multiplas_linhas_SemTelefone</th>\n",
              "      <th>...</th>\n",
              "      <th>servico_streaming_tv_SemInternet</th>\n",
              "      <th>servico_streaming_tv_Sim</th>\n",
              "      <th>servico_filmes_SemInternet</th>\n",
              "      <th>servico_filmes_Sim</th>\n",
              "      <th>tipo_contrato_Anual</th>\n",
              "      <th>tipo_contrato_Mensal</th>\n",
              "      <th>fatura_digital_Sim</th>\n",
              "      <th>forma_pagamento_BoletoImpresso</th>\n",
              "      <th>forma_pagamento_CartaoCredito</th>\n",
              "      <th>forma_pagamento_DebitoAutomatico</th>\n",
              "    </tr>\n",
              "    <tr>\n",
              "      <th>id_cliente</th>\n",
              "      <th></th>\n",
              "      <th></th>\n",
              "      <th></th>\n",
              "      <th></th>\n",
              "      <th></th>\n",
              "      <th></th>\n",
              "      <th></th>\n",
              "      <th></th>\n",
              "      <th></th>\n",
              "      <th></th>\n",
              "      <th></th>\n",
              "      <th></th>\n",
              "      <th></th>\n",
              "      <th></th>\n",
              "      <th></th>\n",
              "      <th></th>\n",
              "      <th></th>\n",
              "      <th></th>\n",
              "      <th></th>\n",
              "      <th></th>\n",
              "      <th></th>\n",
              "    </tr>\n",
              "  </thead>\n",
              "  <tbody>\n",
              "    <tr>\n",
              "      <th>7010-BRBUU</th>\n",
              "      <td>1.000000</td>\n",
              "      <td>0.058209</td>\n",
              "      <td>0.093793</td>\n",
              "      <td>0</td>\n",
              "      <td>1</td>\n",
              "      <td>0</td>\n",
              "      <td>1</td>\n",
              "      <td>1</td>\n",
              "      <td>1</td>\n",
              "      <td>0</td>\n",
              "      <td>...</td>\n",
              "      <td>1</td>\n",
              "      <td>0</td>\n",
              "      <td>1</td>\n",
              "      <td>0</td>\n",
              "      <td>0</td>\n",
              "      <td>0</td>\n",
              "      <td>0</td>\n",
              "      <td>0</td>\n",
              "      <td>1</td>\n",
              "      <td>0</td>\n",
              "    </tr>\n",
              "    <tr>\n",
              "      <th>9688-YGXVR</th>\n",
              "      <td>0.605634</td>\n",
              "      <td>0.695522</td>\n",
              "      <td>0.744078</td>\n",
              "      <td>0</td>\n",
              "      <td>0</td>\n",
              "      <td>0</td>\n",
              "      <td>0</td>\n",
              "      <td>0</td>\n",
              "      <td>1</td>\n",
              "      <td>0</td>\n",
              "      <td>...</td>\n",
              "      <td>0</td>\n",
              "      <td>1</td>\n",
              "      <td>0</td>\n",
              "      <td>0</td>\n",
              "      <td>0</td>\n",
              "      <td>1</td>\n",
              "      <td>1</td>\n",
              "      <td>0</td>\n",
              "      <td>1</td>\n",
              "      <td>0</td>\n",
              "    </tr>\n",
              "    <tr>\n",
              "      <th>9286-DOJGF</th>\n",
              "      <td>0.521127</td>\n",
              "      <td>0.564179</td>\n",
              "      <td>0.423562</td>\n",
              "      <td>1</td>\n",
              "      <td>0</td>\n",
              "      <td>1</td>\n",
              "      <td>1</td>\n",
              "      <td>0</td>\n",
              "      <td>1</td>\n",
              "      <td>0</td>\n",
              "      <td>...</td>\n",
              "      <td>0</td>\n",
              "      <td>0</td>\n",
              "      <td>0</td>\n",
              "      <td>0</td>\n",
              "      <td>0</td>\n",
              "      <td>1</td>\n",
              "      <td>1</td>\n",
              "      <td>0</td>\n",
              "      <td>0</td>\n",
              "      <td>1</td>\n",
              "    </tr>\n",
              "    <tr>\n",
              "      <th>6994-KERXL</th>\n",
              "      <td>0.042254</td>\n",
              "      <td>0.374627</td>\n",
              "      <td>-0.340829</td>\n",
              "      <td>0</td>\n",
              "      <td>1</td>\n",
              "      <td>0</td>\n",
              "      <td>0</td>\n",
              "      <td>0</td>\n",
              "      <td>1</td>\n",
              "      <td>0</td>\n",
              "      <td>...</td>\n",
              "      <td>0</td>\n",
              "      <td>0</td>\n",
              "      <td>0</td>\n",
              "      <td>1</td>\n",
              "      <td>0</td>\n",
              "      <td>1</td>\n",
              "      <td>1</td>\n",
              "      <td>0</td>\n",
              "      <td>0</td>\n",
              "      <td>0</td>\n",
              "    </tr>\n",
              "    <tr>\n",
              "      <th>2181-UAESM</th>\n",
              "      <td>0.014085</td>\n",
              "      <td>0.350249</td>\n",
              "      <td>-0.375398</td>\n",
              "      <td>0</td>\n",
              "      <td>1</td>\n",
              "      <td>0</td>\n",
              "      <td>0</td>\n",
              "      <td>0</td>\n",
              "      <td>1</td>\n",
              "      <td>0</td>\n",
              "      <td>...</td>\n",
              "      <td>0</td>\n",
              "      <td>0</td>\n",
              "      <td>0</td>\n",
              "      <td>0</td>\n",
              "      <td>0</td>\n",
              "      <td>1</td>\n",
              "      <td>0</td>\n",
              "      <td>0</td>\n",
              "      <td>0</td>\n",
              "      <td>0</td>\n",
              "    </tr>\n",
              "  </tbody>\n",
              "</table>\n",
              "<p>5 rows × 31 columns</p>\n",
              "</div>"
            ],
            "text/plain": [
              "            meses_como_cliente  valor_mensal  total_gasto  churn  \\\n",
              "id_cliente                                                         \n",
              "7010-BRBUU            1.000000      0.058209     0.093793      0   \n",
              "9688-YGXVR            0.605634      0.695522     0.744078      0   \n",
              "9286-DOJGF            0.521127      0.564179     0.423562      1   \n",
              "6994-KERXL            0.042254      0.374627    -0.340829      0   \n",
              "2181-UAESM            0.014085      0.350249    -0.375398      0   \n",
              "\n",
              "            genero_Masculino  aposentado_Sim  casado_Sim  dependentes_Sim  \\\n",
              "id_cliente                                                                  \n",
              "7010-BRBUU                 1               0           1                1   \n",
              "9688-YGXVR                 0               0           0                0   \n",
              "9286-DOJGF                 0               1           1                0   \n",
              "6994-KERXL                 1               0           0                0   \n",
              "2181-UAESM                 1               0           0                0   \n",
              "\n",
              "            servico_telefone_Sim  multiplas_linhas_SemTelefone  ...  \\\n",
              "id_cliente                                                      ...   \n",
              "7010-BRBUU                     1                             0  ...   \n",
              "9688-YGXVR                     1                             0  ...   \n",
              "9286-DOJGF                     1                             0  ...   \n",
              "6994-KERXL                     1                             0  ...   \n",
              "2181-UAESM                     1                             0  ...   \n",
              "\n",
              "            servico_streaming_tv_SemInternet  servico_streaming_tv_Sim  \\\n",
              "id_cliente                                                               \n",
              "7010-BRBUU                                 1                         0   \n",
              "9688-YGXVR                                 0                         1   \n",
              "9286-DOJGF                                 0                         0   \n",
              "6994-KERXL                                 0                         0   \n",
              "2181-UAESM                                 0                         0   \n",
              "\n",
              "            servico_filmes_SemInternet  servico_filmes_Sim  \\\n",
              "id_cliente                                                   \n",
              "7010-BRBUU                           1                   0   \n",
              "9688-YGXVR                           0                   0   \n",
              "9286-DOJGF                           0                   0   \n",
              "6994-KERXL                           0                   1   \n",
              "2181-UAESM                           0                   0   \n",
              "\n",
              "            tipo_contrato_Anual  tipo_contrato_Mensal  fatura_digital_Sim  \\\n",
              "id_cliente                                                                  \n",
              "7010-BRBUU                    0                     0                   0   \n",
              "9688-YGXVR                    0                     1                   1   \n",
              "9286-DOJGF                    0                     1                   1   \n",
              "6994-KERXL                    0                     1                   1   \n",
              "2181-UAESM                    0                     1                   0   \n",
              "\n",
              "            forma_pagamento_BoletoImpresso  forma_pagamento_CartaoCredito  \\\n",
              "id_cliente                                                                  \n",
              "7010-BRBUU                               0                              1   \n",
              "9688-YGXVR                               0                              1   \n",
              "9286-DOJGF                               0                              0   \n",
              "6994-KERXL                               0                              0   \n",
              "2181-UAESM                               0                              0   \n",
              "\n",
              "            forma_pagamento_DebitoAutomatico  \n",
              "id_cliente                                    \n",
              "7010-BRBUU                                 0  \n",
              "9688-YGXVR                                 0  \n",
              "9286-DOJGF                                 1  \n",
              "6994-KERXL                                 0  \n",
              "2181-UAESM                                 0  \n",
              "\n",
              "[5 rows x 31 columns]"
            ]
          },
          "execution_count": 75,
          "metadata": {},
          "output_type": "execute_result"
        }
      ],
      "source": [
        "df5.head()"
      ]
    },
    {
      "cell_type": "markdown",
      "metadata": {
        "id": "ZCsJ01WRf5f1"
      },
      "source": [
        "## E. Modelos de Machine Learning "
      ]
    },
    {
      "cell_type": "markdown",
      "metadata": {
        "id": "6yttMJpPf5f2"
      },
      "source": [
        "## 07 - ML_Modelo de Churn"
      ]
    },
    {
      "cell_type": "code",
      "execution_count": null,
      "metadata": {
        "scrolled": true,
        "id": "MV2b4O4Qf5f3",
        "outputId": "ffd5951e-9b22-4eef-cc99-37aace451e1e"
      },
      "outputs": [
        {
          "data": {
            "text/html": [
              "<div>\n",
              "<style scoped>\n",
              "    .dataframe tbody tr th:only-of-type {\n",
              "        vertical-align: middle;\n",
              "    }\n",
              "\n",
              "    .dataframe tbody tr th {\n",
              "        vertical-align: top;\n",
              "    }\n",
              "\n",
              "    .dataframe thead th {\n",
              "        text-align: right;\n",
              "    }\n",
              "</style>\n",
              "<table border=\"1\" class=\"dataframe\">\n",
              "  <thead>\n",
              "    <tr style=\"text-align: right;\">\n",
              "      <th></th>\n",
              "      <th>meses_como_cliente</th>\n",
              "      <th>valor_mensal</th>\n",
              "      <th>total_gasto</th>\n",
              "      <th>genero_Masculino</th>\n",
              "      <th>aposentado_Sim</th>\n",
              "      <th>casado_Sim</th>\n",
              "      <th>dependentes_Sim</th>\n",
              "      <th>servico_telefone_Sim</th>\n",
              "      <th>multiplas_linhas_SemTelefone</th>\n",
              "      <th>multiplas_linhas_Sim</th>\n",
              "      <th>...</th>\n",
              "      <th>servico_streaming_tv_SemInternet</th>\n",
              "      <th>servico_streaming_tv_Sim</th>\n",
              "      <th>servico_filmes_SemInternet</th>\n",
              "      <th>servico_filmes_Sim</th>\n",
              "      <th>tipo_contrato_Anual</th>\n",
              "      <th>tipo_contrato_Mensal</th>\n",
              "      <th>fatura_digital_Sim</th>\n",
              "      <th>forma_pagamento_BoletoImpresso</th>\n",
              "      <th>forma_pagamento_CartaoCredito</th>\n",
              "      <th>forma_pagamento_DebitoAutomatico</th>\n",
              "    </tr>\n",
              "    <tr>\n",
              "      <th>id_cliente</th>\n",
              "      <th></th>\n",
              "      <th></th>\n",
              "      <th></th>\n",
              "      <th></th>\n",
              "      <th></th>\n",
              "      <th></th>\n",
              "      <th></th>\n",
              "      <th></th>\n",
              "      <th></th>\n",
              "      <th></th>\n",
              "      <th></th>\n",
              "      <th></th>\n",
              "      <th></th>\n",
              "      <th></th>\n",
              "      <th></th>\n",
              "      <th></th>\n",
              "      <th></th>\n",
              "      <th></th>\n",
              "      <th></th>\n",
              "      <th></th>\n",
              "      <th></th>\n",
              "    </tr>\n",
              "  </thead>\n",
              "  <tbody>\n",
              "    <tr>\n",
              "      <th>7010-BRBUU</th>\n",
              "      <td>1.000000</td>\n",
              "      <td>0.058209</td>\n",
              "      <td>0.093793</td>\n",
              "      <td>1</td>\n",
              "      <td>0</td>\n",
              "      <td>1</td>\n",
              "      <td>1</td>\n",
              "      <td>1</td>\n",
              "      <td>0</td>\n",
              "      <td>1</td>\n",
              "      <td>...</td>\n",
              "      <td>1</td>\n",
              "      <td>0</td>\n",
              "      <td>1</td>\n",
              "      <td>0</td>\n",
              "      <td>0</td>\n",
              "      <td>0</td>\n",
              "      <td>0</td>\n",
              "      <td>0</td>\n",
              "      <td>1</td>\n",
              "      <td>0</td>\n",
              "    </tr>\n",
              "    <tr>\n",
              "      <th>9688-YGXVR</th>\n",
              "      <td>0.605634</td>\n",
              "      <td>0.695522</td>\n",
              "      <td>0.744078</td>\n",
              "      <td>0</td>\n",
              "      <td>0</td>\n",
              "      <td>0</td>\n",
              "      <td>0</td>\n",
              "      <td>1</td>\n",
              "      <td>0</td>\n",
              "      <td>0</td>\n",
              "      <td>...</td>\n",
              "      <td>0</td>\n",
              "      <td>1</td>\n",
              "      <td>0</td>\n",
              "      <td>0</td>\n",
              "      <td>0</td>\n",
              "      <td>1</td>\n",
              "      <td>1</td>\n",
              "      <td>0</td>\n",
              "      <td>1</td>\n",
              "      <td>0</td>\n",
              "    </tr>\n",
              "    <tr>\n",
              "      <th>9286-DOJGF</th>\n",
              "      <td>0.521127</td>\n",
              "      <td>0.564179</td>\n",
              "      <td>0.423562</td>\n",
              "      <td>0</td>\n",
              "      <td>1</td>\n",
              "      <td>1</td>\n",
              "      <td>0</td>\n",
              "      <td>1</td>\n",
              "      <td>0</td>\n",
              "      <td>1</td>\n",
              "      <td>...</td>\n",
              "      <td>0</td>\n",
              "      <td>0</td>\n",
              "      <td>0</td>\n",
              "      <td>0</td>\n",
              "      <td>0</td>\n",
              "      <td>1</td>\n",
              "      <td>1</td>\n",
              "      <td>0</td>\n",
              "      <td>0</td>\n",
              "      <td>1</td>\n",
              "    </tr>\n",
              "    <tr>\n",
              "      <th>6994-KERXL</th>\n",
              "      <td>0.042254</td>\n",
              "      <td>0.374627</td>\n",
              "      <td>-0.340829</td>\n",
              "      <td>1</td>\n",
              "      <td>0</td>\n",
              "      <td>0</td>\n",
              "      <td>0</td>\n",
              "      <td>1</td>\n",
              "      <td>0</td>\n",
              "      <td>0</td>\n",
              "      <td>...</td>\n",
              "      <td>0</td>\n",
              "      <td>0</td>\n",
              "      <td>0</td>\n",
              "      <td>1</td>\n",
              "      <td>0</td>\n",
              "      <td>1</td>\n",
              "      <td>1</td>\n",
              "      <td>0</td>\n",
              "      <td>0</td>\n",
              "      <td>0</td>\n",
              "    </tr>\n",
              "    <tr>\n",
              "      <th>2181-UAESM</th>\n",
              "      <td>0.014085</td>\n",
              "      <td>0.350249</td>\n",
              "      <td>-0.375398</td>\n",
              "      <td>1</td>\n",
              "      <td>0</td>\n",
              "      <td>0</td>\n",
              "      <td>0</td>\n",
              "      <td>1</td>\n",
              "      <td>0</td>\n",
              "      <td>0</td>\n",
              "      <td>...</td>\n",
              "      <td>0</td>\n",
              "      <td>0</td>\n",
              "      <td>0</td>\n",
              "      <td>0</td>\n",
              "      <td>0</td>\n",
              "      <td>1</td>\n",
              "      <td>0</td>\n",
              "      <td>0</td>\n",
              "      <td>0</td>\n",
              "      <td>0</td>\n",
              "    </tr>\n",
              "    <tr>\n",
              "      <th>...</th>\n",
              "      <td>...</td>\n",
              "      <td>...</td>\n",
              "      <td>...</td>\n",
              "      <td>...</td>\n",
              "      <td>...</td>\n",
              "      <td>...</td>\n",
              "      <td>...</td>\n",
              "      <td>...</td>\n",
              "      <td>...</td>\n",
              "      <td>...</td>\n",
              "      <td>...</td>\n",
              "      <td>...</td>\n",
              "      <td>...</td>\n",
              "      <td>...</td>\n",
              "      <td>...</td>\n",
              "      <td>...</td>\n",
              "      <td>...</td>\n",
              "      <td>...</td>\n",
              "      <td>...</td>\n",
              "      <td>...</td>\n",
              "      <td>...</td>\n",
              "    </tr>\n",
              "    <tr>\n",
              "      <th>0684-AOSIH</th>\n",
              "      <td>0.000000</td>\n",
              "      <td>0.763682</td>\n",
              "      <td>-0.382515</td>\n",
              "      <td>1</td>\n",
              "      <td>0</td>\n",
              "      <td>1</td>\n",
              "      <td>0</td>\n",
              "      <td>1</td>\n",
              "      <td>0</td>\n",
              "      <td>0</td>\n",
              "      <td>...</td>\n",
              "      <td>0</td>\n",
              "      <td>1</td>\n",
              "      <td>0</td>\n",
              "      <td>1</td>\n",
              "      <td>0</td>\n",
              "      <td>1</td>\n",
              "      <td>1</td>\n",
              "      <td>0</td>\n",
              "      <td>0</td>\n",
              "      <td>0</td>\n",
              "    </tr>\n",
              "    <tr>\n",
              "      <th>5982-PSMKW</th>\n",
              "      <td>0.309859</td>\n",
              "      <td>0.724876</td>\n",
              "      <td>0.228481</td>\n",
              "      <td>0</td>\n",
              "      <td>0</td>\n",
              "      <td>1</td>\n",
              "      <td>1</td>\n",
              "      <td>1</td>\n",
              "      <td>0</td>\n",
              "      <td>1</td>\n",
              "      <td>...</td>\n",
              "      <td>0</td>\n",
              "      <td>1</td>\n",
              "      <td>0</td>\n",
              "      <td>1</td>\n",
              "      <td>0</td>\n",
              "      <td>0</td>\n",
              "      <td>1</td>\n",
              "      <td>0</td>\n",
              "      <td>1</td>\n",
              "      <td>0</td>\n",
              "    </tr>\n",
              "    <tr>\n",
              "      <th>8044-BGWPI</th>\n",
              "      <td>0.154930</td>\n",
              "      <td>0.028856</td>\n",
              "      <td>-0.321206</td>\n",
              "      <td>1</td>\n",
              "      <td>0</td>\n",
              "      <td>1</td>\n",
              "      <td>1</td>\n",
              "      <td>1</td>\n",
              "      <td>0</td>\n",
              "      <td>0</td>\n",
              "      <td>...</td>\n",
              "      <td>1</td>\n",
              "      <td>0</td>\n",
              "      <td>1</td>\n",
              "      <td>0</td>\n",
              "      <td>0</td>\n",
              "      <td>1</td>\n",
              "      <td>1</td>\n",
              "      <td>0</td>\n",
              "      <td>0</td>\n",
              "      <td>0</td>\n",
              "    </tr>\n",
              "    <tr>\n",
              "      <th>7450-NWRTR</th>\n",
              "      <td>0.154930</td>\n",
              "      <td>0.807960</td>\n",
              "      <td>-0.061476</td>\n",
              "      <td>1</td>\n",
              "      <td>1</td>\n",
              "      <td>0</td>\n",
              "      <td>0</td>\n",
              "      <td>1</td>\n",
              "      <td>0</td>\n",
              "      <td>1</td>\n",
              "      <td>...</td>\n",
              "      <td>0</td>\n",
              "      <td>1</td>\n",
              "      <td>0</td>\n",
              "      <td>1</td>\n",
              "      <td>0</td>\n",
              "      <td>1</td>\n",
              "      <td>1</td>\n",
              "      <td>0</td>\n",
              "      <td>0</td>\n",
              "      <td>0</td>\n",
              "    </tr>\n",
              "    <tr>\n",
              "      <th>4795-UXVCJ</th>\n",
              "      <td>0.352113</td>\n",
              "      <td>0.015423</td>\n",
              "      <td>-0.277269</td>\n",
              "      <td>1</td>\n",
              "      <td>0</td>\n",
              "      <td>0</td>\n",
              "      <td>0</td>\n",
              "      <td>1</td>\n",
              "      <td>0</td>\n",
              "      <td>0</td>\n",
              "      <td>...</td>\n",
              "      <td>1</td>\n",
              "      <td>0</td>\n",
              "      <td>1</td>\n",
              "      <td>0</td>\n",
              "      <td>1</td>\n",
              "      <td>0</td>\n",
              "      <td>0</td>\n",
              "      <td>0</td>\n",
              "      <td>1</td>\n",
              "      <td>0</td>\n",
              "    </tr>\n",
              "  </tbody>\n",
              "</table>\n",
              "<p>5974 rows × 30 columns</p>\n",
              "</div>"
            ],
            "text/plain": [
              "            meses_como_cliente  valor_mensal  total_gasto  genero_Masculino  \\\n",
              "id_cliente                                                                    \n",
              "7010-BRBUU            1.000000      0.058209     0.093793                 1   \n",
              "9688-YGXVR            0.605634      0.695522     0.744078                 0   \n",
              "9286-DOJGF            0.521127      0.564179     0.423562                 0   \n",
              "6994-KERXL            0.042254      0.374627    -0.340829                 1   \n",
              "2181-UAESM            0.014085      0.350249    -0.375398                 1   \n",
              "...                        ...           ...          ...               ...   \n",
              "0684-AOSIH            0.000000      0.763682    -0.382515                 1   \n",
              "5982-PSMKW            0.309859      0.724876     0.228481                 0   \n",
              "8044-BGWPI            0.154930      0.028856    -0.321206                 1   \n",
              "7450-NWRTR            0.154930      0.807960    -0.061476                 1   \n",
              "4795-UXVCJ            0.352113      0.015423    -0.277269                 1   \n",
              "\n",
              "            aposentado_Sim  casado_Sim  dependentes_Sim  servico_telefone_Sim  \\\n",
              "id_cliente                                                                      \n",
              "7010-BRBUU               0           1                1                     1   \n",
              "9688-YGXVR               0           0                0                     1   \n",
              "9286-DOJGF               1           1                0                     1   \n",
              "6994-KERXL               0           0                0                     1   \n",
              "2181-UAESM               0           0                0                     1   \n",
              "...                    ...         ...              ...                   ...   \n",
              "0684-AOSIH               0           1                0                     1   \n",
              "5982-PSMKW               0           1                1                     1   \n",
              "8044-BGWPI               0           1                1                     1   \n",
              "7450-NWRTR               1           0                0                     1   \n",
              "4795-UXVCJ               0           0                0                     1   \n",
              "\n",
              "            multiplas_linhas_SemTelefone  multiplas_linhas_Sim  ...  \\\n",
              "id_cliente                                                      ...   \n",
              "7010-BRBUU                             0                     1  ...   \n",
              "9688-YGXVR                             0                     0  ...   \n",
              "9286-DOJGF                             0                     1  ...   \n",
              "6994-KERXL                             0                     0  ...   \n",
              "2181-UAESM                             0                     0  ...   \n",
              "...                                  ...                   ...  ...   \n",
              "0684-AOSIH                             0                     0  ...   \n",
              "5982-PSMKW                             0                     1  ...   \n",
              "8044-BGWPI                             0                     0  ...   \n",
              "7450-NWRTR                             0                     1  ...   \n",
              "4795-UXVCJ                             0                     0  ...   \n",
              "\n",
              "            servico_streaming_tv_SemInternet  servico_streaming_tv_Sim  \\\n",
              "id_cliente                                                               \n",
              "7010-BRBUU                                 1                         0   \n",
              "9688-YGXVR                                 0                         1   \n",
              "9286-DOJGF                                 0                         0   \n",
              "6994-KERXL                                 0                         0   \n",
              "2181-UAESM                                 0                         0   \n",
              "...                                      ...                       ...   \n",
              "0684-AOSIH                                 0                         1   \n",
              "5982-PSMKW                                 0                         1   \n",
              "8044-BGWPI                                 1                         0   \n",
              "7450-NWRTR                                 0                         1   \n",
              "4795-UXVCJ                                 1                         0   \n",
              "\n",
              "            servico_filmes_SemInternet  servico_filmes_Sim  \\\n",
              "id_cliente                                                   \n",
              "7010-BRBUU                           1                   0   \n",
              "9688-YGXVR                           0                   0   \n",
              "9286-DOJGF                           0                   0   \n",
              "6994-KERXL                           0                   1   \n",
              "2181-UAESM                           0                   0   \n",
              "...                                ...                 ...   \n",
              "0684-AOSIH                           0                   1   \n",
              "5982-PSMKW                           0                   1   \n",
              "8044-BGWPI                           1                   0   \n",
              "7450-NWRTR                           0                   1   \n",
              "4795-UXVCJ                           1                   0   \n",
              "\n",
              "            tipo_contrato_Anual  tipo_contrato_Mensal  fatura_digital_Sim  \\\n",
              "id_cliente                                                                  \n",
              "7010-BRBUU                    0                     0                   0   \n",
              "9688-YGXVR                    0                     1                   1   \n",
              "9286-DOJGF                    0                     1                   1   \n",
              "6994-KERXL                    0                     1                   1   \n",
              "2181-UAESM                    0                     1                   0   \n",
              "...                         ...                   ...                 ...   \n",
              "0684-AOSIH                    0                     1                   1   \n",
              "5982-PSMKW                    0                     0                   1   \n",
              "8044-BGWPI                    0                     1                   1   \n",
              "7450-NWRTR                    0                     1                   1   \n",
              "4795-UXVCJ                    1                     0                   0   \n",
              "\n",
              "            forma_pagamento_BoletoImpresso  forma_pagamento_CartaoCredito  \\\n",
              "id_cliente                                                                  \n",
              "7010-BRBUU                               0                              1   \n",
              "9688-YGXVR                               0                              1   \n",
              "9286-DOJGF                               0                              0   \n",
              "6994-KERXL                               0                              0   \n",
              "2181-UAESM                               0                              0   \n",
              "...                                    ...                            ...   \n",
              "0684-AOSIH                               0                              0   \n",
              "5982-PSMKW                               0                              1   \n",
              "8044-BGWPI                               0                              0   \n",
              "7450-NWRTR                               0                              0   \n",
              "4795-UXVCJ                               0                              1   \n",
              "\n",
              "            forma_pagamento_DebitoAutomatico  \n",
              "id_cliente                                    \n",
              "7010-BRBUU                                 0  \n",
              "9688-YGXVR                                 0  \n",
              "9286-DOJGF                                 1  \n",
              "6994-KERXL                                 0  \n",
              "2181-UAESM                                 0  \n",
              "...                                      ...  \n",
              "0684-AOSIH                                 0  \n",
              "5982-PSMKW                                 0  \n",
              "8044-BGWPI                                 0  \n",
              "7450-NWRTR                                 0  \n",
              "4795-UXVCJ                                 0  \n",
              "\n",
              "[5974 rows x 30 columns]"
            ]
          },
          "execution_count": 76,
          "metadata": {},
          "output_type": "execute_result"
        }
      ],
      "source": [
        "#Criando variaveis independentes e dependentes\n",
        "y = df5['churn']\n",
        "X = df5\n",
        "X = df5.drop('churn',axis = 1)\n",
        "X"
      ]
    },
    {
      "cell_type": "code",
      "execution_count": null,
      "metadata": {
        "scrolled": true,
        "id": "MVhQH4XPf5f3",
        "outputId": "44cd3d69-368b-48c2-b707-8451d7dc6b25"
      },
      "outputs": [
        {
          "data": {
            "text/html": [
              "<div>\n",
              "<style scoped>\n",
              "    .dataframe tbody tr th:only-of-type {\n",
              "        vertical-align: middle;\n",
              "    }\n",
              "\n",
              "    .dataframe tbody tr th {\n",
              "        vertical-align: top;\n",
              "    }\n",
              "\n",
              "    .dataframe thead th {\n",
              "        text-align: right;\n",
              "    }\n",
              "</style>\n",
              "<table border=\"1\" class=\"dataframe\">\n",
              "  <thead>\n",
              "    <tr style=\"text-align: right;\">\n",
              "      <th></th>\n",
              "      <th>meses_como_cliente</th>\n",
              "      <th>valor_mensal</th>\n",
              "      <th>total_gasto</th>\n",
              "      <th>genero_Masculino</th>\n",
              "      <th>aposentado_Sim</th>\n",
              "      <th>casado_Sim</th>\n",
              "      <th>dependentes_Sim</th>\n",
              "      <th>servico_telefone_Sim</th>\n",
              "      <th>multiplas_linhas_SemTelefone</th>\n",
              "      <th>multiplas_linhas_Sim</th>\n",
              "      <th>...</th>\n",
              "      <th>servico_streaming_tv_SemInternet</th>\n",
              "      <th>servico_streaming_tv_Sim</th>\n",
              "      <th>servico_filmes_SemInternet</th>\n",
              "      <th>servico_filmes_Sim</th>\n",
              "      <th>tipo_contrato_Anual</th>\n",
              "      <th>tipo_contrato_Mensal</th>\n",
              "      <th>fatura_digital_Sim</th>\n",
              "      <th>forma_pagamento_BoletoImpresso</th>\n",
              "      <th>forma_pagamento_CartaoCredito</th>\n",
              "      <th>forma_pagamento_DebitoAutomatico</th>\n",
              "    </tr>\n",
              "    <tr>\n",
              "      <th>id_cliente</th>\n",
              "      <th></th>\n",
              "      <th></th>\n",
              "      <th></th>\n",
              "      <th></th>\n",
              "      <th></th>\n",
              "      <th></th>\n",
              "      <th></th>\n",
              "      <th></th>\n",
              "      <th></th>\n",
              "      <th></th>\n",
              "      <th></th>\n",
              "      <th></th>\n",
              "      <th></th>\n",
              "      <th></th>\n",
              "      <th></th>\n",
              "      <th></th>\n",
              "      <th></th>\n",
              "      <th></th>\n",
              "      <th></th>\n",
              "      <th></th>\n",
              "      <th></th>\n",
              "    </tr>\n",
              "  </thead>\n",
              "  <tbody>\n",
              "    <tr>\n",
              "      <th>3570-YUEKJ</th>\n",
              "      <td>0.577465</td>\n",
              "      <td>0.311443</td>\n",
              "      <td>0.193520</td>\n",
              "      <td>0</td>\n",
              "      <td>0</td>\n",
              "      <td>0</td>\n",
              "      <td>0</td>\n",
              "      <td>1</td>\n",
              "      <td>0</td>\n",
              "      <td>0</td>\n",
              "      <td>...</td>\n",
              "      <td>0</td>\n",
              "      <td>0</td>\n",
              "      <td>0</td>\n",
              "      <td>0</td>\n",
              "      <td>0</td>\n",
              "      <td>1</td>\n",
              "      <td>1</td>\n",
              "      <td>0</td>\n",
              "      <td>0</td>\n",
              "      <td>0</td>\n",
              "    </tr>\n",
              "    <tr>\n",
              "      <th>2150-UWTFY</th>\n",
              "      <td>0.295775</td>\n",
              "      <td>0.426866</td>\n",
              "      <td>0.002985</td>\n",
              "      <td>0</td>\n",
              "      <td>0</td>\n",
              "      <td>1</td>\n",
              "      <td>1</td>\n",
              "      <td>1</td>\n",
              "      <td>0</td>\n",
              "      <td>0</td>\n",
              "      <td>...</td>\n",
              "      <td>0</td>\n",
              "      <td>0</td>\n",
              "      <td>0</td>\n",
              "      <td>0</td>\n",
              "      <td>0</td>\n",
              "      <td>1</td>\n",
              "      <td>0</td>\n",
              "      <td>1</td>\n",
              "      <td>0</td>\n",
              "      <td>0</td>\n",
              "    </tr>\n",
              "    <tr>\n",
              "      <th>4070-OKWVH</th>\n",
              "      <td>0.718310</td>\n",
              "      <td>0.759701</td>\n",
              "      <td>1.049852</td>\n",
              "      <td>0</td>\n",
              "      <td>0</td>\n",
              "      <td>1</td>\n",
              "      <td>0</td>\n",
              "      <td>1</td>\n",
              "      <td>0</td>\n",
              "      <td>1</td>\n",
              "      <td>...</td>\n",
              "      <td>0</td>\n",
              "      <td>1</td>\n",
              "      <td>0</td>\n",
              "      <td>0</td>\n",
              "      <td>0</td>\n",
              "      <td>1</td>\n",
              "      <td>0</td>\n",
              "      <td>0</td>\n",
              "      <td>0</td>\n",
              "      <td>1</td>\n",
              "    </tr>\n",
              "    <tr>\n",
              "      <th>9334-GWGOW</th>\n",
              "      <td>0.084507</td>\n",
              "      <td>0.563184</td>\n",
              "      <td>-0.269150</td>\n",
              "      <td>1</td>\n",
              "      <td>1</td>\n",
              "      <td>1</td>\n",
              "      <td>0</td>\n",
              "      <td>1</td>\n",
              "      <td>0</td>\n",
              "      <td>1</td>\n",
              "      <td>...</td>\n",
              "      <td>0</td>\n",
              "      <td>0</td>\n",
              "      <td>0</td>\n",
              "      <td>0</td>\n",
              "      <td>0</td>\n",
              "      <td>1</td>\n",
              "      <td>1</td>\n",
              "      <td>0</td>\n",
              "      <td>0</td>\n",
              "      <td>0</td>\n",
              "    </tr>\n",
              "    <tr>\n",
              "      <th>9961-JBNMK</th>\n",
              "      <td>0.281690</td>\n",
              "      <td>0.781592</td>\n",
              "      <td>0.179678</td>\n",
              "      <td>1</td>\n",
              "      <td>1</td>\n",
              "      <td>0</td>\n",
              "      <td>0</td>\n",
              "      <td>1</td>\n",
              "      <td>0</td>\n",
              "      <td>0</td>\n",
              "      <td>...</td>\n",
              "      <td>0</td>\n",
              "      <td>1</td>\n",
              "      <td>0</td>\n",
              "      <td>1</td>\n",
              "      <td>0</td>\n",
              "      <td>1</td>\n",
              "      <td>1</td>\n",
              "      <td>0</td>\n",
              "      <td>0</td>\n",
              "      <td>1</td>\n",
              "    </tr>\n",
              "    <tr>\n",
              "      <th>...</th>\n",
              "      <td>...</td>\n",
              "      <td>...</td>\n",
              "      <td>...</td>\n",
              "      <td>...</td>\n",
              "      <td>...</td>\n",
              "      <td>...</td>\n",
              "      <td>...</td>\n",
              "      <td>...</td>\n",
              "      <td>...</td>\n",
              "      <td>...</td>\n",
              "      <td>...</td>\n",
              "      <td>...</td>\n",
              "      <td>...</td>\n",
              "      <td>...</td>\n",
              "      <td>...</td>\n",
              "      <td>...</td>\n",
              "      <td>...</td>\n",
              "      <td>...</td>\n",
              "      <td>...</td>\n",
              "      <td>...</td>\n",
              "      <td>...</td>\n",
              "    </tr>\n",
              "    <tr>\n",
              "      <th>7047-YXDMZ</th>\n",
              "      <td>0.281690</td>\n",
              "      <td>0.017413</td>\n",
              "      <td>-0.288773</td>\n",
              "      <td>1</td>\n",
              "      <td>0</td>\n",
              "      <td>0</td>\n",
              "      <td>0</td>\n",
              "      <td>1</td>\n",
              "      <td>0</td>\n",
              "      <td>0</td>\n",
              "      <td>...</td>\n",
              "      <td>1</td>\n",
              "      <td>0</td>\n",
              "      <td>1</td>\n",
              "      <td>0</td>\n",
              "      <td>0</td>\n",
              "      <td>1</td>\n",
              "      <td>0</td>\n",
              "      <td>1</td>\n",
              "      <td>0</td>\n",
              "      <td>0</td>\n",
              "    </tr>\n",
              "    <tr>\n",
              "      <th>8647-SDTWQ</th>\n",
              "      <td>0.788732</td>\n",
              "      <td>0.557711</td>\n",
              "      <td>0.757194</td>\n",
              "      <td>1</td>\n",
              "      <td>0</td>\n",
              "      <td>1</td>\n",
              "      <td>1</td>\n",
              "      <td>1</td>\n",
              "      <td>0</td>\n",
              "      <td>1</td>\n",
              "      <td>...</td>\n",
              "      <td>0</td>\n",
              "      <td>0</td>\n",
              "      <td>0</td>\n",
              "      <td>0</td>\n",
              "      <td>0</td>\n",
              "      <td>1</td>\n",
              "      <td>1</td>\n",
              "      <td>0</td>\n",
              "      <td>0</td>\n",
              "      <td>0</td>\n",
              "    </tr>\n",
              "    <tr>\n",
              "      <th>3737-XBQDD</th>\n",
              "      <td>0.323944</td>\n",
              "      <td>0.662687</td>\n",
              "      <td>0.185052</td>\n",
              "      <td>1</td>\n",
              "      <td>0</td>\n",
              "      <td>0</td>\n",
              "      <td>0</td>\n",
              "      <td>1</td>\n",
              "      <td>0</td>\n",
              "      <td>1</td>\n",
              "      <td>...</td>\n",
              "      <td>0</td>\n",
              "      <td>0</td>\n",
              "      <td>0</td>\n",
              "      <td>0</td>\n",
              "      <td>0</td>\n",
              "      <td>1</td>\n",
              "      <td>1</td>\n",
              "      <td>0</td>\n",
              "      <td>0</td>\n",
              "      <td>1</td>\n",
              "    </tr>\n",
              "    <tr>\n",
              "      <th>6308-CQRBU</th>\n",
              "      <td>0.985915</td>\n",
              "      <td>0.905473</td>\n",
              "      <td>1.828928</td>\n",
              "      <td>0</td>\n",
              "      <td>0</td>\n",
              "      <td>1</td>\n",
              "      <td>0</td>\n",
              "      <td>1</td>\n",
              "      <td>0</td>\n",
              "      <td>1</td>\n",
              "      <td>...</td>\n",
              "      <td>0</td>\n",
              "      <td>1</td>\n",
              "      <td>0</td>\n",
              "      <td>1</td>\n",
              "      <td>0</td>\n",
              "      <td>0</td>\n",
              "      <td>0</td>\n",
              "      <td>0</td>\n",
              "      <td>0</td>\n",
              "      <td>0</td>\n",
              "    </tr>\n",
              "    <tr>\n",
              "      <th>7508-SMHXL</th>\n",
              "      <td>0.197183</td>\n",
              "      <td>0.703980</td>\n",
              "      <td>-0.035869</td>\n",
              "      <td>0</td>\n",
              "      <td>1</td>\n",
              "      <td>0</td>\n",
              "      <td>0</td>\n",
              "      <td>1</td>\n",
              "      <td>0</td>\n",
              "      <td>1</td>\n",
              "      <td>...</td>\n",
              "      <td>0</td>\n",
              "      <td>1</td>\n",
              "      <td>0</td>\n",
              "      <td>0</td>\n",
              "      <td>0</td>\n",
              "      <td>1</td>\n",
              "      <td>0</td>\n",
              "      <td>0</td>\n",
              "      <td>1</td>\n",
              "      <td>0</td>\n",
              "    </tr>\n",
              "  </tbody>\n",
              "</table>\n",
              "<p>4181 rows × 30 columns</p>\n",
              "</div>"
            ],
            "text/plain": [
              "            meses_como_cliente  valor_mensal  total_gasto  genero_Masculino  \\\n",
              "id_cliente                                                                    \n",
              "3570-YUEKJ            0.577465      0.311443     0.193520                 0   \n",
              "2150-UWTFY            0.295775      0.426866     0.002985                 0   \n",
              "4070-OKWVH            0.718310      0.759701     1.049852                 0   \n",
              "9334-GWGOW            0.084507      0.563184    -0.269150                 1   \n",
              "9961-JBNMK            0.281690      0.781592     0.179678                 1   \n",
              "...                        ...           ...          ...               ...   \n",
              "7047-YXDMZ            0.281690      0.017413    -0.288773                 1   \n",
              "8647-SDTWQ            0.788732      0.557711     0.757194                 1   \n",
              "3737-XBQDD            0.323944      0.662687     0.185052                 1   \n",
              "6308-CQRBU            0.985915      0.905473     1.828928                 0   \n",
              "7508-SMHXL            0.197183      0.703980    -0.035869                 0   \n",
              "\n",
              "            aposentado_Sim  casado_Sim  dependentes_Sim  servico_telefone_Sim  \\\n",
              "id_cliente                                                                      \n",
              "3570-YUEKJ               0           0                0                     1   \n",
              "2150-UWTFY               0           1                1                     1   \n",
              "4070-OKWVH               0           1                0                     1   \n",
              "9334-GWGOW               1           1                0                     1   \n",
              "9961-JBNMK               1           0                0                     1   \n",
              "...                    ...         ...              ...                   ...   \n",
              "7047-YXDMZ               0           0                0                     1   \n",
              "8647-SDTWQ               0           1                1                     1   \n",
              "3737-XBQDD               0           0                0                     1   \n",
              "6308-CQRBU               0           1                0                     1   \n",
              "7508-SMHXL               1           0                0                     1   \n",
              "\n",
              "            multiplas_linhas_SemTelefone  multiplas_linhas_Sim  ...  \\\n",
              "id_cliente                                                      ...   \n",
              "3570-YUEKJ                             0                     0  ...   \n",
              "2150-UWTFY                             0                     0  ...   \n",
              "4070-OKWVH                             0                     1  ...   \n",
              "9334-GWGOW                             0                     1  ...   \n",
              "9961-JBNMK                             0                     0  ...   \n",
              "...                                  ...                   ...  ...   \n",
              "7047-YXDMZ                             0                     0  ...   \n",
              "8647-SDTWQ                             0                     1  ...   \n",
              "3737-XBQDD                             0                     1  ...   \n",
              "6308-CQRBU                             0                     1  ...   \n",
              "7508-SMHXL                             0                     1  ...   \n",
              "\n",
              "            servico_streaming_tv_SemInternet  servico_streaming_tv_Sim  \\\n",
              "id_cliente                                                               \n",
              "3570-YUEKJ                                 0                         0   \n",
              "2150-UWTFY                                 0                         0   \n",
              "4070-OKWVH                                 0                         1   \n",
              "9334-GWGOW                                 0                         0   \n",
              "9961-JBNMK                                 0                         1   \n",
              "...                                      ...                       ...   \n",
              "7047-YXDMZ                                 1                         0   \n",
              "8647-SDTWQ                                 0                         0   \n",
              "3737-XBQDD                                 0                         0   \n",
              "6308-CQRBU                                 0                         1   \n",
              "7508-SMHXL                                 0                         1   \n",
              "\n",
              "            servico_filmes_SemInternet  servico_filmes_Sim  \\\n",
              "id_cliente                                                   \n",
              "3570-YUEKJ                           0                   0   \n",
              "2150-UWTFY                           0                   0   \n",
              "4070-OKWVH                           0                   0   \n",
              "9334-GWGOW                           0                   0   \n",
              "9961-JBNMK                           0                   1   \n",
              "...                                ...                 ...   \n",
              "7047-YXDMZ                           1                   0   \n",
              "8647-SDTWQ                           0                   0   \n",
              "3737-XBQDD                           0                   0   \n",
              "6308-CQRBU                           0                   1   \n",
              "7508-SMHXL                           0                   0   \n",
              "\n",
              "            tipo_contrato_Anual  tipo_contrato_Mensal  fatura_digital_Sim  \\\n",
              "id_cliente                                                                  \n",
              "3570-YUEKJ                    0                     1                   1   \n",
              "2150-UWTFY                    0                     1                   0   \n",
              "4070-OKWVH                    0                     1                   0   \n",
              "9334-GWGOW                    0                     1                   1   \n",
              "9961-JBNMK                    0                     1                   1   \n",
              "...                         ...                   ...                 ...   \n",
              "7047-YXDMZ                    0                     1                   0   \n",
              "8647-SDTWQ                    0                     1                   1   \n",
              "3737-XBQDD                    0                     1                   1   \n",
              "6308-CQRBU                    0                     0                   0   \n",
              "7508-SMHXL                    0                     1                   0   \n",
              "\n",
              "            forma_pagamento_BoletoImpresso  forma_pagamento_CartaoCredito  \\\n",
              "id_cliente                                                                  \n",
              "3570-YUEKJ                               0                              0   \n",
              "2150-UWTFY                               1                              0   \n",
              "4070-OKWVH                               0                              0   \n",
              "9334-GWGOW                               0                              0   \n",
              "9961-JBNMK                               0                              0   \n",
              "...                                    ...                            ...   \n",
              "7047-YXDMZ                               1                              0   \n",
              "8647-SDTWQ                               0                              0   \n",
              "3737-XBQDD                               0                              0   \n",
              "6308-CQRBU                               0                              0   \n",
              "7508-SMHXL                               0                              1   \n",
              "\n",
              "            forma_pagamento_DebitoAutomatico  \n",
              "id_cliente                                    \n",
              "3570-YUEKJ                                 0  \n",
              "2150-UWTFY                                 0  \n",
              "4070-OKWVH                                 1  \n",
              "9334-GWGOW                                 0  \n",
              "9961-JBNMK                                 1  \n",
              "...                                      ...  \n",
              "7047-YXDMZ                                 0  \n",
              "8647-SDTWQ                                 0  \n",
              "3737-XBQDD                                 1  \n",
              "6308-CQRBU                                 0  \n",
              "7508-SMHXL                                 0  \n",
              "\n",
              "[4181 rows x 30 columns]"
            ]
          },
          "execution_count": 77,
          "metadata": {},
          "output_type": "execute_result"
        }
      ],
      "source": [
        "# Separando em dados teste e treinamento \n",
        "x_treino, x_teste, y_treino, y_teste  = train_test_split(X, y, test_size = 0.30, random_state = 42)\n",
        "x_treino"
      ]
    },
    {
      "cell_type": "markdown",
      "metadata": {
        "id": "LXYcP8Cjf5f4"
      },
      "source": [
        "## Modelo KNN"
      ]
    },
    {
      "cell_type": "code",
      "execution_count": null,
      "metadata": {
        "id": "Nw5mb2NUf5f5",
        "outputId": "cf29d8b3-a9a2-4bb6-87ef-df0341393d11"
      },
      "outputs": [
        {
          "data": {
            "text/html": [
              "<style>#sk-container-id-1 {color: black;background-color: white;}#sk-container-id-1 pre{padding: 0;}#sk-container-id-1 div.sk-toggleable {background-color: white;}#sk-container-id-1 label.sk-toggleable__label {cursor: pointer;display: block;width: 100%;margin-bottom: 0;padding: 0.3em;box-sizing: border-box;text-align: center;}#sk-container-id-1 label.sk-toggleable__label-arrow:before {content: \"▸\";float: left;margin-right: 0.25em;color: #696969;}#sk-container-id-1 label.sk-toggleable__label-arrow:hover:before {color: black;}#sk-container-id-1 div.sk-estimator:hover label.sk-toggleable__label-arrow:before {color: black;}#sk-container-id-1 div.sk-toggleable__content {max-height: 0;max-width: 0;overflow: hidden;text-align: left;background-color: #f0f8ff;}#sk-container-id-1 div.sk-toggleable__content pre {margin: 0.2em;color: black;border-radius: 0.25em;background-color: #f0f8ff;}#sk-container-id-1 input.sk-toggleable__control:checked~div.sk-toggleable__content {max-height: 200px;max-width: 100%;overflow: auto;}#sk-container-id-1 input.sk-toggleable__control:checked~label.sk-toggleable__label-arrow:before {content: \"▾\";}#sk-container-id-1 div.sk-estimator input.sk-toggleable__control:checked~label.sk-toggleable__label {background-color: #d4ebff;}#sk-container-id-1 div.sk-label input.sk-toggleable__control:checked~label.sk-toggleable__label {background-color: #d4ebff;}#sk-container-id-1 input.sk-hidden--visually {border: 0;clip: rect(1px 1px 1px 1px);clip: rect(1px, 1px, 1px, 1px);height: 1px;margin: -1px;overflow: hidden;padding: 0;position: absolute;width: 1px;}#sk-container-id-1 div.sk-estimator {font-family: monospace;background-color: #f0f8ff;border: 1px dotted black;border-radius: 0.25em;box-sizing: border-box;margin-bottom: 0.5em;}#sk-container-id-1 div.sk-estimator:hover {background-color: #d4ebff;}#sk-container-id-1 div.sk-parallel-item::after {content: \"\";width: 100%;border-bottom: 1px solid gray;flex-grow: 1;}#sk-container-id-1 div.sk-label:hover label.sk-toggleable__label {background-color: #d4ebff;}#sk-container-id-1 div.sk-serial::before {content: \"\";position: absolute;border-left: 1px solid gray;box-sizing: border-box;top: 0;bottom: 0;left: 50%;z-index: 0;}#sk-container-id-1 div.sk-serial {display: flex;flex-direction: column;align-items: center;background-color: white;padding-right: 0.2em;padding-left: 0.2em;position: relative;}#sk-container-id-1 div.sk-item {position: relative;z-index: 1;}#sk-container-id-1 div.sk-parallel {display: flex;align-items: stretch;justify-content: center;background-color: white;position: relative;}#sk-container-id-1 div.sk-item::before, #sk-container-id-1 div.sk-parallel-item::before {content: \"\";position: absolute;border-left: 1px solid gray;box-sizing: border-box;top: 0;bottom: 0;left: 50%;z-index: -1;}#sk-container-id-1 div.sk-parallel-item {display: flex;flex-direction: column;z-index: 1;position: relative;background-color: white;}#sk-container-id-1 div.sk-parallel-item:first-child::after {align-self: flex-end;width: 50%;}#sk-container-id-1 div.sk-parallel-item:last-child::after {align-self: flex-start;width: 50%;}#sk-container-id-1 div.sk-parallel-item:only-child::after {width: 0;}#sk-container-id-1 div.sk-dashed-wrapped {border: 1px dashed gray;margin: 0 0.4em 0.5em 0.4em;box-sizing: border-box;padding-bottom: 0.4em;background-color: white;}#sk-container-id-1 div.sk-label label {font-family: monospace;font-weight: bold;display: inline-block;line-height: 1.2em;}#sk-container-id-1 div.sk-label-container {text-align: center;}#sk-container-id-1 div.sk-container {/* jupyter's `normalize.less` sets `[hidden] { display: none; }` but bootstrap.min.css set `[hidden] { display: none !important; }` so we also need the `!important` here to be able to override the default hidden behavior on the sphinx rendered scikit-learn.org. See: https://github.com/scikit-learn/scikit-learn/issues/21755 */display: inline-block !important;position: relative;}#sk-container-id-1 div.sk-text-repr-fallback {display: none;}</style><div id=\"sk-container-id-1\" class=\"sk-top-container\"><div class=\"sk-text-repr-fallback\"><pre>KNeighborsClassifier()</pre><b>In a Jupyter environment, please rerun this cell to show the HTML representation or trust the notebook. <br />On GitHub, the HTML representation is unable to render, please try loading this page with nbviewer.org.</b></div><div class=\"sk-container\" hidden><div class=\"sk-item\"><div class=\"sk-estimator sk-toggleable\"><input class=\"sk-toggleable__control sk-hidden--visually\" id=\"sk-estimator-id-1\" type=\"checkbox\" checked><label for=\"sk-estimator-id-1\" class=\"sk-toggleable__label sk-toggleable__label-arrow\">KNeighborsClassifier</label><div class=\"sk-toggleable__content\"><pre>KNeighborsClassifier()</pre></div></div></div></div></div>"
            ],
            "text/plain": [
              "KNeighborsClassifier()"
            ]
          },
          "execution_count": 78,
          "metadata": {},
          "output_type": "execute_result"
        }
      ],
      "source": [
        "knn = KNeighborsClassifier()\n",
        "knn.fit(x_treino, y_treino)"
      ]
    },
    {
      "cell_type": "code",
      "execution_count": null,
      "metadata": {
        "id": "d0FouRaaf5f5",
        "outputId": "5bf6f2eb-869f-4e58-aa30-eed9c8803262"
      },
      "outputs": [
        {
          "name": "stdout",
          "output_type": "stream",
          "text": [
            "Predito     0    1   All\n",
            "Real                    \n",
            "0        1116  201  1317\n",
            "1         213  263   476\n",
            "All      1329  464  1793\n"
          ]
        }
      ],
      "source": [
        "resultado_knn = knn.predict(x_teste)\n",
        "print (pd.crosstab(y_teste,resultado_knn, rownames=['Real'], colnames=['Predito'], margins=True))"
      ]
    },
    {
      "cell_type": "code",
      "execution_count": null,
      "metadata": {
        "id": "6FJBrlVSf5f6",
        "outputId": "71b3f779-e5f5-442f-8fb9-8dc380f0682d"
      },
      "outputs": [
        {
          "name": "stdout",
          "output_type": "stream",
          "text": [
            "              precision    recall  f1-score   support\n",
            "\n",
            "           0       0.84      0.85      0.84      1317\n",
            "           1       0.57      0.55      0.56       476\n",
            "\n",
            "    accuracy                           0.77      1793\n",
            "   macro avg       0.70      0.70      0.70      1793\n",
            "weighted avg       0.77      0.77      0.77      1793\n",
            "\n"
          ]
        }
      ],
      "source": [
        "print(classification_report(y_teste, resultado_knn ))"
      ]
    },
    {
      "cell_type": "markdown",
      "metadata": {
        "id": "idxn7hqmf5f7"
      },
      "source": [
        "### Encontrando o melhor K"
      ]
    },
    {
      "cell_type": "markdown",
      "metadata": {
        "id": "sLgit8Y2f5f8"
      },
      "source": [
        "Para encontrar o melhor K, ajustaremos varios modelos variando o número de K, aquele modelo que retornar o menor erro de predição é o modelo com K ideal."
      ]
    },
    {
      "cell_type": "code",
      "execution_count": null,
      "metadata": {
        "id": "JulcAyd7f5f8"
      },
      "outputs": [],
      "source": [
        "error = []\n",
        "# Calculando o erro do k entre 1 a 40\n",
        "for i in range(1, 40):\n",
        "    knn = KNeighborsClassifier(n_neighbors=i)\n",
        "    knn.fit(x_treino, y_treino)\n",
        "    pred_i = knn.predict(x_teste)\n",
        "    error.append(np.mean(pred_i != y_teste))"
      ]
    },
    {
      "cell_type": "markdown",
      "metadata": {
        "id": "IS5Im1rJf5f9"
      },
      "source": [
        "Na função acima, ajustei o modelo para diferentes k, variando k de 1 a 40. E depois calculei o número de erros de classificação e tirei a média, erro médio. A seguir, vou plotar os erros de predição para os diferentes k e aquele k com o menor erro, será o ajuste ideal."
      ]
    },
    {
      "cell_type": "code",
      "execution_count": null,
      "metadata": {
        "id": "3HYBLoABf5f9",
        "outputId": "ab33c7b0-f8a1-4176-ac61-3c7ed27af1f3"
      },
      "outputs": [
        {
          "data": {
            "text/plain": [
              "Text(0, 0.5, 'Erro Médio')"
            ]
          },
          "execution_count": 82,
          "metadata": {},
          "output_type": "execute_result"
        },
        {
          "data": {
            "image/png": "[encoded data removed]",
            "text/plain": [
              "<Figure size 864x432 with 1 Axes>"
            ]
          },
          "metadata": {
            "needs_background": "light"
          },
          "output_type": "display_data"
        }
      ],
      "source": [
        "plt.figure(figsize=(12, 6))\n",
        "plt.plot(range(1, 40), error, color='red', linestyle='dashed', marker='o',\n",
        "         markerfacecolor='blue', markersize=10)\n",
        "plt.title('Taxa de erro do valor K')\n",
        "plt.xlabel('Valor de K')\n",
        "plt.ylabel('Erro Médio')"
      ]
    },
    {
      "cell_type": "markdown",
      "metadata": {
        "id": "S6YZosFXf5f-"
      },
      "source": [
        "O melhor k=14, assim iremos ajustar novamente o modelo KNN considerando K=14."
      ]
    },
    {
      "cell_type": "code",
      "execution_count": null,
      "metadata": {
        "id": "apMo3EMVf5f_",
        "outputId": "a61fe43b-84ae-4a38-e36d-9e0e03277487"
      },
      "outputs": [
        {
          "data": {
            "text/html": [
              "<style>#sk-container-id-2 {color: black;background-color: white;}#sk-container-id-2 pre{padding: 0;}#sk-container-id-2 div.sk-toggleable {background-color: white;}#sk-container-id-2 label.sk-toggleable__label {cursor: pointer;display: block;width: 100%;margin-bottom: 0;padding: 0.3em;box-sizing: border-box;text-align: center;}#sk-container-id-2 label.sk-toggleable__label-arrow:before {content: \"▸\";float: left;margin-right: 0.25em;color: #696969;}#sk-container-id-2 label.sk-toggleable__label-arrow:hover:before {color: black;}#sk-container-id-2 div.sk-estimator:hover label.sk-toggleable__label-arrow:before {color: black;}#sk-container-id-2 div.sk-toggleable__content {max-height: 0;max-width: 0;overflow: hidden;text-align: left;background-color: #f0f8ff;}#sk-container-id-2 div.sk-toggleable__content pre {margin: 0.2em;color: black;border-radius: 0.25em;background-color: #f0f8ff;}#sk-container-id-2 input.sk-toggleable__control:checked~div.sk-toggleable__content {max-height: 200px;max-width: 100%;overflow: auto;}#sk-container-id-2 input.sk-toggleable__control:checked~label.sk-toggleable__label-arrow:before {content: \"▾\";}#sk-container-id-2 div.sk-estimator input.sk-toggleable__control:checked~label.sk-toggleable__label {background-color: #d4ebff;}#sk-container-id-2 div.sk-label input.sk-toggleable__control:checked~label.sk-toggleable__label {background-color: #d4ebff;}#sk-container-id-2 input.sk-hidden--visually {border: 0;clip: rect(1px 1px 1px 1px);clip: rect(1px, 1px, 1px, 1px);height: 1px;margin: -1px;overflow: hidden;padding: 0;position: absolute;width: 1px;}#sk-container-id-2 div.sk-estimator {font-family: monospace;background-color: #f0f8ff;border: 1px dotted black;border-radius: 0.25em;box-sizing: border-box;margin-bottom: 0.5em;}#sk-container-id-2 div.sk-estimator:hover {background-color: #d4ebff;}#sk-container-id-2 div.sk-parallel-item::after {content: \"\";width: 100%;border-bottom: 1px solid gray;flex-grow: 1;}#sk-container-id-2 div.sk-label:hover label.sk-toggleable__label {background-color: #d4ebff;}#sk-container-id-2 div.sk-serial::before {content: \"\";position: absolute;border-left: 1px solid gray;box-sizing: border-box;top: 0;bottom: 0;left: 50%;z-index: 0;}#sk-container-id-2 div.sk-serial {display: flex;flex-direction: column;align-items: center;background-color: white;padding-right: 0.2em;padding-left: 0.2em;position: relative;}#sk-container-id-2 div.sk-item {position: relative;z-index: 1;}#sk-container-id-2 div.sk-parallel {display: flex;align-items: stretch;justify-content: center;background-color: white;position: relative;}#sk-container-id-2 div.sk-item::before, #sk-container-id-2 div.sk-parallel-item::before {content: \"\";position: absolute;border-left: 1px solid gray;box-sizing: border-box;top: 0;bottom: 0;left: 50%;z-index: -1;}#sk-container-id-2 div.sk-parallel-item {display: flex;flex-direction: column;z-index: 1;position: relative;background-color: white;}#sk-container-id-2 div.sk-parallel-item:first-child::after {align-self: flex-end;width: 50%;}#sk-container-id-2 div.sk-parallel-item:last-child::after {align-self: flex-start;width: 50%;}#sk-container-id-2 div.sk-parallel-item:only-child::after {width: 0;}#sk-container-id-2 div.sk-dashed-wrapped {border: 1px dashed gray;margin: 0 0.4em 0.5em 0.4em;box-sizing: border-box;padding-bottom: 0.4em;background-color: white;}#sk-container-id-2 div.sk-label label {font-family: monospace;font-weight: bold;display: inline-block;line-height: 1.2em;}#sk-container-id-2 div.sk-label-container {text-align: center;}#sk-container-id-2 div.sk-container {/* jupyter's `normalize.less` sets `[hidden] { display: none; }` but bootstrap.min.css set `[hidden] { display: none !important; }` so we also need the `!important` here to be able to override the default hidden behavior on the sphinx rendered scikit-learn.org. See: https://github.com/scikit-learn/scikit-learn/issues/21755 */display: inline-block !important;position: relative;}#sk-container-id-2 div.sk-text-repr-fallback {display: none;}</style><div id=\"sk-container-id-2\" class=\"sk-top-container\"><div class=\"sk-text-repr-fallback\"><pre>KNeighborsClassifier(n_neighbors=14)</pre><b>In a Jupyter environment, please rerun this cell to show the HTML representation or trust the notebook. <br />On GitHub, the HTML representation is unable to render, please try loading this page with nbviewer.org.</b></div><div class=\"sk-container\" hidden><div class=\"sk-item\"><div class=\"sk-estimator sk-toggleable\"><input class=\"sk-toggleable__control sk-hidden--visually\" id=\"sk-estimator-id-2\" type=\"checkbox\" checked><label for=\"sk-estimator-id-2\" class=\"sk-toggleable__label sk-toggleable__label-arrow\">KNeighborsClassifier</label><div class=\"sk-toggleable__content\"><pre>KNeighborsClassifier(n_neighbors=14)</pre></div></div></div></div></div>"
            ],
            "text/plain": [
              "KNeighborsClassifier(n_neighbors=14)"
            ]
          },
          "execution_count": 83,
          "metadata": {},
          "output_type": "execute_result"
        }
      ],
      "source": [
        "knn = KNeighborsClassifier(n_neighbors=14)\n",
        "knn.fit(x_treino, y_treino)"
      ]
    },
    {
      "cell_type": "markdown",
      "metadata": {
        "id": "AIM-iD6Gf5f_"
      },
      "source": [
        "### Previsão na amostra teste e matriz de confusão"
      ]
    },
    {
      "cell_type": "code",
      "execution_count": null,
      "metadata": {
        "id": "Fm1FHUMnf5gA",
        "outputId": "c9d92dac-4c5c-4abf-bf47-5e0a7c34dc12"
      },
      "outputs": [
        {
          "name": "stdout",
          "output_type": "stream",
          "text": [
            "Predito     0    1   All\n",
            "Real                    \n",
            "0        1170  147  1317\n",
            "1         223  253   476\n",
            "All      1393  400  1793\n"
          ]
        }
      ],
      "source": [
        "resultado_knn = knn.predict(x_teste)\n",
        "print (pd.crosstab(y_teste,resultado_knn, rownames=['Real'], colnames=['Predito'], margins=True))"
      ]
    },
    {
      "cell_type": "code",
      "execution_count": null,
      "metadata": {
        "id": "yjsslbj6f5gB",
        "outputId": "2ef7f3c1-885a-44d3-b616-66d1fbf1f457"
      },
      "outputs": [
        {
          "name": "stdout",
          "output_type": "stream",
          "text": [
            "              precision    recall  f1-score   support\n",
            "\n",
            "           0       0.84      0.89      0.86      1317\n",
            "           1       0.63      0.53      0.58       476\n",
            "\n",
            "    accuracy                           0.79      1793\n",
            "   macro avg       0.74      0.71      0.72      1793\n",
            "weighted avg       0.78      0.79      0.79      1793\n",
            "\n"
          ]
        }
      ],
      "source": [
        "print(classification_report(y_teste, resultado_knn ))"
      ]
    },
    {
      "cell_type": "markdown",
      "metadata": {
        "id": "QtRJnwVgf5gB"
      },
      "source": [
        "Observe que apesar de estar classificando bem os clientes que não deram Churn, classe 0, temos muitos falsos negativos no modelo (quando o modelo preve 0, mas o correto era 1). Ou seja, o modelo não consegue prever bem o Churn, que é o objetivo principal na análise.\n",
        "\n",
        "Vamos tentar o modelo Random Forest para buscar um resultado melhor."
      ]
    },
    {
      "cell_type": "markdown",
      "metadata": {
        "id": "KpxYbS0Nf5gC"
      },
      "source": [
        "## Modelo Random Forest"
      ]
    },
    {
      "cell_type": "code",
      "execution_count": null,
      "metadata": {
        "id": "LXidSZERf5gC"
      },
      "outputs": [],
      "source": [
        "# Instancie o modelo com 1000 árvores de decisão \n",
        "rf = RandomForestClassifier (n_estimators = 1000, random_state = 42) \n",
        "# Treine o modelo nos dados de treinamento \n",
        "rf.fit (x_treino, y_treino);"
      ]
    },
    {
      "cell_type": "code",
      "execution_count": null,
      "metadata": {
        "id": "OmFXwwXvf5gD",
        "outputId": "9c313c5b-2c20-4f56-f77f-64956a25a0e4"
      },
      "outputs": [
        {
          "name": "stdout",
          "output_type": "stream",
          "text": [
            "Predito     0    1   All\n",
            "Real                    \n",
            "0        1201  116  1317\n",
            "1         245  231   476\n",
            "All      1446  347  1793\n"
          ]
        }
      ],
      "source": [
        "y_rf = rf.predict(x_teste)\n",
        "print (pd.crosstab(y_teste,y_rf, rownames=['Real'], colnames=['Predito'], margins=True))"
      ]
    },
    {
      "cell_type": "markdown",
      "metadata": {
        "id": "aKibIb5Hf5gD"
      },
      "source": [
        "O modelo de Random Forest conseguiu melhores resultados, porém ainda temos bastante falsos negativos. Vamos tentar um modelo mais robusto e que não sofre tanta influência em amostras desbalanceada."
      ]
    },
    {
      "cell_type": "code",
      "execution_count": null,
      "metadata": {
        "id": "-XN_S9J-f5gE",
        "outputId": "71d365d4-1571-450c-e367-e4a16ff99d2c"
      },
      "outputs": [
        {
          "name": "stdout",
          "output_type": "stream",
          "text": [
            "              precision    recall  f1-score   support\n",
            "\n",
            "           0       0.83      0.91      0.87      1317\n",
            "           1       0.67      0.49      0.56       476\n",
            "\n",
            "    accuracy                           0.80      1793\n",
            "   macro avg       0.75      0.70      0.72      1793\n",
            "weighted avg       0.79      0.80      0.79      1793\n",
            "\n"
          ]
        }
      ],
      "source": [
        "print(classification_report(y_teste, y_rf))"
      ]
    },
    {
      "cell_type": "code",
      "execution_count": null,
      "metadata": {
        "id": "FlfHQrpBf5gF",
        "outputId": "a9043ed4-3eeb-4bef-e6ea-d6a62d9751a8"
      },
      "outputs": [
        {
          "data": {
            "text/html": [
              "<div>\n",
              "<style scoped>\n",
              "    .dataframe tbody tr th:only-of-type {\n",
              "        vertical-align: middle;\n",
              "    }\n",
              "\n",
              "    .dataframe tbody tr th {\n",
              "        vertical-align: top;\n",
              "    }\n",
              "\n",
              "    .dataframe thead th {\n",
              "        text-align: right;\n",
              "    }\n",
              "</style>\n",
              "<table border=\"1\" class=\"dataframe\">\n",
              "  <thead>\n",
              "    <tr style=\"text-align: right;\">\n",
              "      <th></th>\n",
              "      <th>importance</th>\n",
              "    </tr>\n",
              "  </thead>\n",
              "  <tbody>\n",
              "    <tr>\n",
              "      <th>total_gasto</th>\n",
              "      <td>0.193096</td>\n",
              "    </tr>\n",
              "    <tr>\n",
              "      <th>valor_mensal</th>\n",
              "      <td>0.168728</td>\n",
              "    </tr>\n",
              "    <tr>\n",
              "      <th>meses_como_cliente</th>\n",
              "      <td>0.162363</td>\n",
              "    </tr>\n",
              "    <tr>\n",
              "      <th>tipo_contrato_Mensal</th>\n",
              "      <td>0.069549</td>\n",
              "    </tr>\n",
              "    <tr>\n",
              "      <th>servico_internet_Fibra</th>\n",
              "      <td>0.035927</td>\n",
              "    </tr>\n",
              "    <tr>\n",
              "      <th>genero_Masculino</th>\n",
              "      <td>0.028940</td>\n",
              "    </tr>\n",
              "    <tr>\n",
              "      <th>servico_seguranca_online_Sim</th>\n",
              "      <td>0.025840</td>\n",
              "    </tr>\n",
              "    <tr>\n",
              "      <th>fatura_digital_Sim</th>\n",
              "      <td>0.025522</td>\n",
              "    </tr>\n",
              "    <tr>\n",
              "      <th>casado_Sim</th>\n",
              "      <td>0.023528</td>\n",
              "    </tr>\n",
              "    <tr>\n",
              "      <th>servico_suporte_tecnico_Sim</th>\n",
              "      <td>0.022382</td>\n",
              "    </tr>\n",
              "    <tr>\n",
              "      <th>servico_backup_online_Sim</th>\n",
              "      <td>0.021674</td>\n",
              "    </tr>\n",
              "    <tr>\n",
              "      <th>multiplas_linhas_Sim</th>\n",
              "      <td>0.020593</td>\n",
              "    </tr>\n",
              "    <tr>\n",
              "      <th>aposentado_Sim</th>\n",
              "      <td>0.020360</td>\n",
              "    </tr>\n",
              "    <tr>\n",
              "      <th>dependentes_Sim</th>\n",
              "      <td>0.019501</td>\n",
              "    </tr>\n",
              "    <tr>\n",
              "      <th>protecao_equipamento_Sim</th>\n",
              "      <td>0.019199</td>\n",
              "    </tr>\n",
              "    <tr>\n",
              "      <th>forma_pagamento_DebitoAutomatico</th>\n",
              "      <td>0.017682</td>\n",
              "    </tr>\n",
              "    <tr>\n",
              "      <th>forma_pagamento_CartaoCredito</th>\n",
              "      <td>0.017394</td>\n",
              "    </tr>\n",
              "    <tr>\n",
              "      <th>servico_filmes_Sim</th>\n",
              "      <td>0.017007</td>\n",
              "    </tr>\n",
              "    <tr>\n",
              "      <th>servico_streaming_tv_Sim</th>\n",
              "      <td>0.016893</td>\n",
              "    </tr>\n",
              "    <tr>\n",
              "      <th>forma_pagamento_BoletoImpresso</th>\n",
              "      <td>0.016034</td>\n",
              "    </tr>\n",
              "    <tr>\n",
              "      <th>tipo_contrato_Anual</th>\n",
              "      <td>0.011195</td>\n",
              "    </tr>\n",
              "    <tr>\n",
              "      <th>servico_internet_Nao</th>\n",
              "      <td>0.006035</td>\n",
              "    </tr>\n",
              "    <tr>\n",
              "      <th>protecao_equipamento_SemInternet</th>\n",
              "      <td>0.006010</td>\n",
              "    </tr>\n",
              "    <tr>\n",
              "      <th>servico_filmes_SemInternet</th>\n",
              "      <td>0.005687</td>\n",
              "    </tr>\n",
              "    <tr>\n",
              "      <th>servico_streaming_tv_SemInternet</th>\n",
              "      <td>0.005564</td>\n",
              "    </tr>\n",
              "    <tr>\n",
              "      <th>servico_seguranca_online_SemInternet</th>\n",
              "      <td>0.005223</td>\n",
              "    </tr>\n",
              "    <tr>\n",
              "      <th>servico_suporte_tecnico_SemInternet</th>\n",
              "      <td>0.005192</td>\n",
              "    </tr>\n",
              "    <tr>\n",
              "      <th>servico_telefone_Sim</th>\n",
              "      <td>0.004500</td>\n",
              "    </tr>\n",
              "    <tr>\n",
              "      <th>multiplas_linhas_SemTelefone</th>\n",
              "      <td>0.004341</td>\n",
              "    </tr>\n",
              "    <tr>\n",
              "      <th>servico_backup_online_SemInternet</th>\n",
              "      <td>0.004041</td>\n",
              "    </tr>\n",
              "  </tbody>\n",
              "</table>\n",
              "</div>"
            ],
            "text/plain": [
              "                                      importance\n",
              "total_gasto                             0.193096\n",
              "valor_mensal                            0.168728\n",
              "meses_como_cliente                      0.162363\n",
              "tipo_contrato_Mensal                    0.069549\n",
              "servico_internet_Fibra                  0.035927\n",
              "genero_Masculino                        0.028940\n",
              "servico_seguranca_online_Sim            0.025840\n",
              "fatura_digital_Sim                      0.025522\n",
              "casado_Sim                              0.023528\n",
              "servico_suporte_tecnico_Sim             0.022382\n",
              "servico_backup_online_Sim               0.021674\n",
              "multiplas_linhas_Sim                    0.020593\n",
              "aposentado_Sim                          0.020360\n",
              "dependentes_Sim                         0.019501\n",
              "protecao_equipamento_Sim                0.019199\n",
              "forma_pagamento_DebitoAutomatico        0.017682\n",
              "forma_pagamento_CartaoCredito           0.017394\n",
              "servico_filmes_Sim                      0.017007\n",
              "servico_streaming_tv_Sim                0.016893\n",
              "forma_pagamento_BoletoImpresso          0.016034\n",
              "tipo_contrato_Anual                     0.011195\n",
              "servico_internet_Nao                    0.006035\n",
              "protecao_equipamento_SemInternet        0.006010\n",
              "servico_filmes_SemInternet              0.005687\n",
              "servico_streaming_tv_SemInternet        0.005564\n",
              "servico_seguranca_online_SemInternet    0.005223\n",
              "servico_suporte_tecnico_SemInternet     0.005192\n",
              "servico_telefone_Sim                    0.004500\n",
              "multiplas_linhas_SemTelefone            0.004341\n",
              "servico_backup_online_SemInternet       0.004041"
            ]
          },
          "execution_count": 89,
          "metadata": {},
          "output_type": "execute_result"
        }
      ],
      "source": [
        "#Analisando a importância de cada variável\n",
        "rf.feature_importances_\n",
        "\n",
        "feature_importances = pd.DataFrame(rf.feature_importances_, index = x_treino.columns, columns=['importance']).sort_values('importance',ascending=False)\n",
        "feature_importances"
      ]
    },
    {
      "cell_type": "markdown",
      "metadata": {
        "id": "__8rtOgHf5gF"
      },
      "source": [
        "## Modelo XGBoost"
      ]
    },
    {
      "cell_type": "code",
      "execution_count": null,
      "metadata": {
        "id": "Rr25OM9if5gG",
        "outputId": "f1d78406-81c7-4456-ab9f-53f09f1d4968"
      },
      "outputs": [
        {
          "data": {
            "text/html": [
              "<style>#sk-container-id-3 {color: black;background-color: white;}#sk-container-id-3 pre{padding: 0;}#sk-container-id-3 div.sk-toggleable {background-color: white;}#sk-container-id-3 label.sk-toggleable__label {cursor: pointer;display: block;width: 100%;margin-bottom: 0;padding: 0.3em;box-sizing: border-box;text-align: center;}#sk-container-id-3 label.sk-toggleable__label-arrow:before {content: \"▸\";float: left;margin-right: 0.25em;color: #696969;}#sk-container-id-3 label.sk-toggleable__label-arrow:hover:before {color: black;}#sk-container-id-3 div.sk-estimator:hover label.sk-toggleable__label-arrow:before {color: black;}#sk-container-id-3 div.sk-toggleable__content {max-height: 0;max-width: 0;overflow: hidden;text-align: left;background-color: #f0f8ff;}#sk-container-id-3 div.sk-toggleable__content pre {margin: 0.2em;color: black;border-radius: 0.25em;background-color: #f0f8ff;}#sk-container-id-3 input.sk-toggleable__control:checked~div.sk-toggleable__content {max-height: 200px;max-width: 100%;overflow: auto;}#sk-container-id-3 input.sk-toggleable__control:checked~label.sk-toggleable__label-arrow:before {content: \"▾\";}#sk-container-id-3 div.sk-estimator input.sk-toggleable__control:checked~label.sk-toggleable__label {background-color: #d4ebff;}#sk-container-id-3 div.sk-label input.sk-toggleable__control:checked~label.sk-toggleable__label {background-color: #d4ebff;}#sk-container-id-3 input.sk-hidden--visually {border: 0;clip: rect(1px 1px 1px 1px);clip: rect(1px, 1px, 1px, 1px);height: 1px;margin: -1px;overflow: hidden;padding: 0;position: absolute;width: 1px;}#sk-container-id-3 div.sk-estimator {font-family: monospace;background-color: #f0f8ff;border: 1px dotted black;border-radius: 0.25em;box-sizing: border-box;margin-bottom: 0.5em;}#sk-container-id-3 div.sk-estimator:hover {background-color: #d4ebff;}#sk-container-id-3 div.sk-parallel-item::after {content: \"\";width: 100%;border-bottom: 1px solid gray;flex-grow: 1;}#sk-container-id-3 div.sk-label:hover label.sk-toggleable__label {background-color: #d4ebff;}#sk-container-id-3 div.sk-serial::before {content: \"\";position: absolute;border-left: 1px solid gray;box-sizing: border-box;top: 0;bottom: 0;left: 50%;z-index: 0;}#sk-container-id-3 div.sk-serial {display: flex;flex-direction: column;align-items: center;background-color: white;padding-right: 0.2em;padding-left: 0.2em;position: relative;}#sk-container-id-3 div.sk-item {position: relative;z-index: 1;}#sk-container-id-3 div.sk-parallel {display: flex;align-items: stretch;justify-content: center;background-color: white;position: relative;}#sk-container-id-3 div.sk-item::before, #sk-container-id-3 div.sk-parallel-item::before {content: \"\";position: absolute;border-left: 1px solid gray;box-sizing: border-box;top: 0;bottom: 0;left: 50%;z-index: -1;}#sk-container-id-3 div.sk-parallel-item {display: flex;flex-direction: column;z-index: 1;position: relative;background-color: white;}#sk-container-id-3 div.sk-parallel-item:first-child::after {align-self: flex-end;width: 50%;}#sk-container-id-3 div.sk-parallel-item:last-child::after {align-self: flex-start;width: 50%;}#sk-container-id-3 div.sk-parallel-item:only-child::after {width: 0;}#sk-container-id-3 div.sk-dashed-wrapped {border: 1px dashed gray;margin: 0 0.4em 0.5em 0.4em;box-sizing: border-box;padding-bottom: 0.4em;background-color: white;}#sk-container-id-3 div.sk-label label {font-family: monospace;font-weight: bold;display: inline-block;line-height: 1.2em;}#sk-container-id-3 div.sk-label-container {text-align: center;}#sk-container-id-3 div.sk-container {/* jupyter's `normalize.less` sets `[hidden] { display: none; }` but bootstrap.min.css set `[hidden] { display: none !important; }` so we also need the `!important` here to be able to override the default hidden behavior on the sphinx rendered scikit-learn.org. See: https://github.com/scikit-learn/scikit-learn/issues/21755 */display: inline-block !important;position: relative;}#sk-container-id-3 div.sk-text-repr-fallback {display: none;}</style><div id=\"sk-container-id-3\" class=\"sk-top-container\"><div class=\"sk-text-repr-fallback\"><pre>XGBClassifier(base_score=0.5, booster=&#x27;gbtree&#x27;, callbacks=None,\n",
              "              colsample_bylevel=1, colsample_bynode=1, colsample_bytree=0.8,\n",
              "              early_stopping_rounds=None, enable_categorical=False,\n",
              "              eval_metric=None, gamma=0, gpu_id=-1, grow_policy=&#x27;depthwise&#x27;,\n",
              "              importance_type=None, interaction_constraints=&#x27;&#x27;,\n",
              "              learning_rate=0.1, max_bin=256, max_cat_to_onehot=4,\n",
              "              max_delta_step=0, max_depth=6, max_leaves=0, min_child_weight=1,\n",
              "              missing=nan, monotone_constraints=&#x27;()&#x27;, n_estimators=1000,\n",
              "              n_jobs=4, nthread=4, num_parallel_tree=1, predictor=&#x27;auto&#x27;,\n",
              "              random_state=27, reg_alpha=0, ...)</pre><b>In a Jupyter environment, please rerun this cell to show the HTML representation or trust the notebook. <br />On GitHub, the HTML representation is unable to render, please try loading this page with nbviewer.org.</b></div><div class=\"sk-container\" hidden><div class=\"sk-item\"><div class=\"sk-estimator sk-toggleable\"><input class=\"sk-toggleable__control sk-hidden--visually\" id=\"sk-estimator-id-3\" type=\"checkbox\" checked><label for=\"sk-estimator-id-3\" class=\"sk-toggleable__label sk-toggleable__label-arrow\">XGBClassifier</label><div class=\"sk-toggleable__content\"><pre>XGBClassifier(base_score=0.5, booster=&#x27;gbtree&#x27;, callbacks=None,\n",
              "              colsample_bylevel=1, colsample_bynode=1, colsample_bytree=0.8,\n",
              "              early_stopping_rounds=None, enable_categorical=False,\n",
              "              eval_metric=None, gamma=0, gpu_id=-1, grow_policy=&#x27;depthwise&#x27;,\n",
              "              importance_type=None, interaction_constraints=&#x27;&#x27;,\n",
              "              learning_rate=0.1, max_bin=256, max_cat_to_onehot=4,\n",
              "              max_delta_step=0, max_depth=6, max_leaves=0, min_child_weight=1,\n",
              "              missing=nan, monotone_constraints=&#x27;()&#x27;, n_estimators=1000,\n",
              "              n_jobs=4, nthread=4, num_parallel_tree=1, predictor=&#x27;auto&#x27;,\n",
              "              random_state=27, reg_alpha=0, ...)</pre></div></div></div></div></div>"
            ],
            "text/plain": [
              "XGBClassifier(base_score=0.5, booster='gbtree', callbacks=None,\n",
              "              colsample_bylevel=1, colsample_bynode=1, colsample_bytree=0.8,\n",
              "              early_stopping_rounds=None, enable_categorical=False,\n",
              "              eval_metric=None, gamma=0, gpu_id=-1, grow_policy='depthwise',\n",
              "              importance_type=None, interaction_constraints='',\n",
              "              learning_rate=0.1, max_bin=256, max_cat_to_onehot=4,\n",
              "              max_delta_step=0, max_depth=6, max_leaves=0, min_child_weight=1,\n",
              "              missing=nan, monotone_constraints='()', n_estimators=1000,\n",
              "              n_jobs=4, nthread=4, num_parallel_tree=1, predictor='auto',\n",
              "              random_state=27, reg_alpha=0, ...)"
            ]
          },
          "execution_count": 90,
          "metadata": {},
          "output_type": "execute_result"
        }
      ],
      "source": [
        "#Importando as bibliotecas necessárias\n",
        "#from numpy import loadtxt\n",
        "#from xgboost import XGBClassifier\n",
        "#from sklearn.metrics import accuracy_score\n",
        "\n",
        "# ajuste do modelo nos dados de treino\n",
        "xgb = XGBClassifier(learning_rate =0.1,\n",
        " n_estimators=1000,\n",
        " max_depth=6,\n",
        " min_child_weight=1,\n",
        " gamma=0,\n",
        " subsample=0.8,\n",
        " colsample_bytree=0.8,\n",
        " objective= 'binary:logistic',\n",
        " nthread=4,\n",
        " scale_pos_weight=1.0,\n",
        " seed=27)\n",
        "xgb.fit(x_treino, y_treino)\n",
        " "
      ]
    },
    {
      "cell_type": "markdown",
      "metadata": {
        "id": "2oEnfeiFf5gH"
      },
      "source": [
        "### Validação do modelo nos dados de teste"
      ]
    },
    {
      "cell_type": "code",
      "execution_count": null,
      "metadata": {
        "id": "zO6DfbuXf5gH",
        "outputId": "76bb2f9b-5d3a-43ed-fc4d-fb3eecd1d71d"
      },
      "outputs": [
        {
          "name": "stdout",
          "output_type": "stream",
          "text": [
            "Predito     0    1   All\n",
            "Real                    \n",
            "0        1156  161  1317\n",
            "1         259  217   476\n",
            "All      1415  378  1793\n"
          ]
        }
      ],
      "source": [
        "#fazendo as predições no dados de teste\n",
        "preditos_xgb = xgb.predict(x_teste)\n",
        "print (pd.crosstab(y_teste,preditos_xgb, rownames=['Real'], colnames=['Predito'], margins=True))"
      ]
    },
    {
      "cell_type": "code",
      "execution_count": null,
      "metadata": {
        "id": "HnoVU6TFf5gJ",
        "outputId": "c3cfba70-7abc-4929-e47c-a95c7dfb1481"
      },
      "outputs": [
        {
          "name": "stdout",
          "output_type": "stream",
          "text": [
            "              precision    recall  f1-score   support\n",
            "\n",
            "           0       0.82      0.88      0.85      1317\n",
            "           1       0.57      0.46      0.51       476\n",
            "\n",
            "    accuracy                           0.77      1793\n",
            "   macro avg       0.70      0.67      0.68      1793\n",
            "weighted avg       0.75      0.77      0.76      1793\n",
            "\n"
          ]
        }
      ],
      "source": [
        "print(classification_report(y_teste, preditos_xgb))"
      ]
    },
    {
      "cell_type": "markdown",
      "metadata": {
        "id": "RBl5OR3if5gL"
      },
      "source": [
        "Usando o XGBoost alcançamos uma acurácia de 77%. O modelo Random Forest teve uma acurácia de 80%, escolhemos o Random Forest  como o melhor modelo. Pois o Random Forest foi o modelo que conseguiu prever melhor o Churn.\n",
        "\n",
        "Todas as medidas referentes a classe 1 foi melhor no Random Forest. Lembre-se, a acurácia é uma medida geral do acerto do modelo, e o modelo XGBoost não conseguiu prever a classe 0 tão bem quanto o modelo Random Forest, por isso a acurácia foi menor.\n",
        "\n",
        "Porém como o nosso objetivo era prever o Churn, o modelo Random forest teve uma melhor performance nesse quesito."
      ]
    },
    {
      "cell_type": "markdown",
      "metadata": {
        "id": "o07BAEklf5gM"
      },
      "source": [
        "### Analisando a importancia das variáveis"
      ]
    },
    {
      "cell_type": "code",
      "execution_count": null,
      "metadata": {
        "id": "xUNJNZu-f5gN",
        "outputId": "72589637-e30a-4970-a76e-8af333789693"
      },
      "outputs": [
        {
          "data": {
            "text/plain": [
              "<AxesSubplot:title={'center':'Feature importance'}, xlabel='F score', ylabel='Features'>"
            ]
          },
          "execution_count": 93,
          "metadata": {},
          "output_type": "execute_result"
        },
        {
          "data": {
            "image/png": "[encoded data removed]",
            "text/plain": [
              "<Figure size 720x576 with 1 Axes>"
            ]
          },
          "metadata": {
            "needs_background": "light"
          },
          "output_type": "display_data"
        }
      ],
      "source": [
        "#Analisando a importância de cada variável\n",
        "fig, ax = plt.subplots(figsize=(10,8))\n",
        "plot_importance(xgb, ax=ax)"
      ]
    },
    {
      "cell_type": "markdown",
      "metadata": {
        "id": "Hrafb3_Ff5gO"
      },
      "source": [
        "As variáveis mais importante para prever o Churn dos clientes foram: valor mensal, total gasto, meses como cliente e genero masculino."
      ]
    },
    {
      "cell_type": "markdown",
      "metadata": {
        "id": "L1uaaZfcf5gP"
      },
      "source": [
        "## Método Ensemble\n",
        "\n",
        "Para tentar melhorar a previsão do Churn, vamos combinar os dois melhores modelos, Random Forest e XGBoost."
      ]
    },
    {
      "cell_type": "code",
      "execution_count": null,
      "metadata": {
        "id": "Wltqah3Bf5gQ"
      },
      "outputs": [],
      "source": [
        "# Voting Classifier with soft voting \n",
        "voto = VotingClassifier(estimators=[('rf', rf),('xgb',xgb)], voting='soft')\n",
        "voto = voto.fit(x_treino,y_treino)"
      ]
    },
    {
      "cell_type": "code",
      "execution_count": null,
      "metadata": {
        "id": "CtucCUnTf5gR",
        "outputId": "f228699a-d31b-4637-b642-38f951069fa9"
      },
      "outputs": [
        {
          "name": "stdout",
          "output_type": "stream",
          "text": [
            "Predito     0    1   All\n",
            "Real                    \n",
            "0        1171  146  1317\n",
            "1         261  215   476\n",
            "All      1432  361  1793\n"
          ]
        }
      ],
      "source": [
        "y_predito = voto.predict(x_teste)\n",
        "print (pd.crosstab(y_teste,y_predito, rownames=['Real'], colnames=['Predito'], margins=True))\n"
      ]
    },
    {
      "cell_type": "code",
      "execution_count": null,
      "metadata": {
        "id": "dfSAE-IUf5gS",
        "outputId": "67fe2676-d821-4fbb-e801-90d9c1e58a76"
      },
      "outputs": [
        {
          "name": "stdout",
          "output_type": "stream",
          "text": [
            "              precision    recall  f1-score   support\n",
            "\n",
            "           0       0.82      0.89      0.85      1317\n",
            "           1       0.60      0.45      0.51       476\n",
            "\n",
            "    accuracy                           0.77      1793\n",
            "   macro avg       0.71      0.67      0.68      1793\n",
            "weighted avg       0.76      0.77      0.76      1793\n",
            "\n"
          ]
        }
      ],
      "source": [
        "print(classification_report(y_teste, y_predito))"
      ]
    },
    {
      "cell_type": "markdown",
      "metadata": {
        "id": "tLkkEAhRf5gT"
      },
      "source": [
        "Ao combinar os modelos observamos que não houve uma melhora nas medidas de validação, assim vamos considerar o modelo Random Forest como o nosso melhor modelo."
      ]
    },
    {
      "cell_type": "markdown",
      "metadata": {
        "id": "BBihiG-Ef5gU"
      },
      "source": [
        "### Probabilidade de Churn\n",
        "\n",
        "Finalmente, a melhor maneira de usar esse modelo é atribuir probabilidade de evasão para cada cliente, criar segmentos e criar estratégias sobre isso. Para obter a probabilidade de Churn do nosso modelo, utilize o bloco de código abaixo:"
      ]
    },
    {
      "cell_type": "code",
      "execution_count": null,
      "metadata": {
        "id": "WNY-ROYKf5gV",
        "outputId": "f3ddc197-6316-458d-e1ff-a4d08c298c1f"
      },
      "outputs": [
        {
          "data": {
            "text/html": [
              "<div>\n",
              "<style scoped>\n",
              "    .dataframe tbody tr th:only-of-type {\n",
              "        vertical-align: middle;\n",
              "    }\n",
              "\n",
              "    .dataframe tbody tr th {\n",
              "        vertical-align: top;\n",
              "    }\n",
              "\n",
              "    .dataframe thead th {\n",
              "        text-align: right;\n",
              "    }\n",
              "</style>\n",
              "<table border=\"1\" class=\"dataframe\">\n",
              "  <thead>\n",
              "    <tr style=\"text-align: right;\">\n",
              "      <th></th>\n",
              "      <th>proba</th>\n",
              "    </tr>\n",
              "    <tr>\n",
              "      <th>id_cliente</th>\n",
              "      <th></th>\n",
              "    </tr>\n",
              "  </thead>\n",
              "  <tbody>\n",
              "    <tr>\n",
              "      <th>9248-OJYKK</th>\n",
              "      <td>0.998420</td>\n",
              "    </tr>\n",
              "    <tr>\n",
              "      <th>3428-XZMAZ</th>\n",
              "      <td>0.997191</td>\n",
              "    </tr>\n",
              "    <tr>\n",
              "      <th>6457-GIRWB</th>\n",
              "      <td>0.997191</td>\n",
              "    </tr>\n",
              "    <tr>\n",
              "      <th>1820-TQVEV</th>\n",
              "      <td>0.995535</td>\n",
              "    </tr>\n",
              "    <tr>\n",
              "      <th>2636-ALXXZ</th>\n",
              "      <td>0.994909</td>\n",
              "    </tr>\n",
              "    <tr>\n",
              "      <th>...</th>\n",
              "      <td>...</td>\n",
              "    </tr>\n",
              "    <tr>\n",
              "      <th>4609-KNNWG</th>\n",
              "      <td>0.000005</td>\n",
              "    </tr>\n",
              "    <tr>\n",
              "      <th>2236-HILPA</th>\n",
              "      <td>0.000005</td>\n",
              "    </tr>\n",
              "    <tr>\n",
              "      <th>1998-VHJHK</th>\n",
              "      <td>0.000004</td>\n",
              "    </tr>\n",
              "    <tr>\n",
              "      <th>5377-NDTOU</th>\n",
              "      <td>0.000003</td>\n",
              "    </tr>\n",
              "    <tr>\n",
              "      <th>9453-PATOS</th>\n",
              "      <td>0.000003</td>\n",
              "    </tr>\n",
              "  </tbody>\n",
              "</table>\n",
              "<p>5974 rows × 1 columns</p>\n",
              "</div>"
            ],
            "text/plain": [
              "               proba\n",
              "id_cliente          \n",
              "9248-OJYKK  0.998420\n",
              "3428-XZMAZ  0.997191\n",
              "6457-GIRWB  0.997191\n",
              "1820-TQVEV  0.995535\n",
              "2636-ALXXZ  0.994909\n",
              "...              ...\n",
              "4609-KNNWG  0.000005\n",
              "2236-HILPA  0.000005\n",
              "1998-VHJHK  0.000004\n",
              "5377-NDTOU  0.000003\n",
              "9453-PATOS  0.000003\n",
              "\n",
              "[5974 rows x 1 columns]"
            ]
          },
          "execution_count": 97,
          "metadata": {},
          "output_type": "execute_result"
        }
      ],
      "source": [
        "df5['proba'] = voto.predict_proba(X[x_treino.columns])[:,1]\n",
        "df5[['proba']].sort_values(by = 'proba', ascending = False)"
      ]
    },
    {
      "cell_type": "markdown",
      "metadata": {
        "id": "64Yo0Kwyf5gW"
      },
      "source": [
        "Agora temos a probabilidade do cliente dar Churn e podemos criar ações com base nisso. "
      ]
    },
    {
      "cell_type": "markdown",
      "metadata": {
        "id": "XaIdMSUzf5gX"
      },
      "source": [
        "## F. Avaliação do modelo "
      ]
    },
    {
      "cell_type": "markdown",
      "metadata": {
        "id": "nMwj6b53f5gX"
      },
      "source": [
        "## 08 - Considerações"
      ]
    },
    {
      "cell_type": "markdown",
      "metadata": {
        "id": "beMFEgXDf5gY"
      },
      "source": [
        "O modelo final, foi a combinação dos modelos XGBoost e Random Forest, porem não houve uma melhora. \n",
        "\n",
        "O modelo Random Forest se mostrou eficiente para prever a probabilidade do Churn dos clientes. As variáveis mais importante para prever o Churn foram o valor mensal, total gasto, meses como cliente e genero masculino.\n",
        "\n",
        "Com modelo de Churn podemos prever clientes com a maior chance de cancelar o serviço e assim tomar medidas preventivas, afim de evitar essa saída.\n",
        "\n",
        "Podemos melhorar a predição desse modelo tratando os outliers (pontos discrepantes) e balanceando as amostras."
      ]
    },
    {
      "cell_type": "code",
      "execution_count": null,
      "metadata": {
        "id": "Z-mr0ra1f5gZ"
      },
      "outputs": [],
      "source": [
        ""
      ]
    }
  ],
  "metadata": {
    "kernelspec": {
      "display_name": "Python 3 (ipykernel)",
      "language": "python",
      "name": "python3"
    },
    "language_info": {
      "codemirror_mode": {
        "name": "ipython",
        "version": 3
      },
      "file_extension": ".py",
      "mimetype": "text/x-python",
      "name": "python",
      "nbconvert_exporter": "python",
      "pygments_lexer": "ipython3",
      "version": "3.9.12"
    },
    "colab": {
      "name": "Projeto_03_Churn.ipynb",
      "provenance": [],
      "include_colab_link": true
    }
  },
  "nbformat": 4,
  "nbformat_minor": 0
}